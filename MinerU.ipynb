{
 "cells": [
  {
   "cell_type": "markdown",
   "id": "c3b041bf",
   "metadata": {},
   "source": [
    "https://github.com/opendatalab/MinerU/blob/master/docs/README_Windows_CUDA_Acceleration_zh_CN.md\n",
    "\n",
    "先不采用docker\n",
    "本地环境：    pip install -U magic-pdf[full] -i https://mirrors.aliyun.com/pypi/simple\n",
    "model 已下载，位置可见用户目录中的magic.json\n",
    "win中安装了cuda12.6 按上述测试方案重装了torch\n",
    "\n",
    "4-16 发现不支持过长的文件名，可修改windows注册表\n",
    "\n",
    "用rag环境\n",
    "\n",
    "用多个GPU要在必须在导入任何使用 GPU 的库（如 torch）之前设置。因为 PyTorch 在导入时会初始化 CUDA 设备，如果在导入后设置环境变量，将不会生效。\n",
    "\n",
    "测试一下加速办法\n",
    "：多进程\n",
    "多线程\n",
    "OCRGPU pip install paddlepaddle-gpu==2.6.1\n"
   ]
  },
  {
   "cell_type": "code",
   "execution_count": 6,
   "id": "1ca66e3a",
   "metadata": {},
   "outputs": [
    {
     "name": "stdout",
     "output_type": "stream",
     "text": [
      "d:\\DataAnalysis\\arxiv\n"
     ]
    }
   ],
   "source": [
    "import os\n",
    "os.getcwd()\n",
    "print(os.getcwd())"
   ]
  },
  {
   "cell_type": "code",
   "execution_count": 3,
   "id": "3125baef",
   "metadata": {},
   "outputs": [
    {
     "name": "stdout",
     "output_type": "stream",
     "text": [
      "d:\\DataAnalysis\\arxiv\n"
     ]
    }
   ],
   "source": [
    "!cd"
   ]
  },
  {
   "cell_type": "code",
   "execution_count": 1,
   "id": "cc960fb2",
   "metadata": {},
   "outputs": [
    {
     "name": "stderr",
     "output_type": "stream",
     "text": [
      "d:\\Tools\\anaconda3\\envs\\rag\\lib\\site-packages\\tqdm\\auto.py:21: TqdmWarning: IProgress not found. Please update jupyter and ipywidgets. See https://ipywidgets.readthedocs.io/en/stable/user_install.html\n",
      "  from .autonotebook import tqdm as notebook_tqdm\n",
      "\u001b[32m2025-05-25 19:07:57.119\u001b[0m | \u001b[1mINFO    \u001b[0m | \u001b[36mmagic_pdf.data.dataset\u001b[0m:\u001b[36m__init__\u001b[0m:\u001b[36m157\u001b[0m - \u001b[1mlang: None\u001b[0m\n"
     ]
    },
    {
     "name": "stdout",
     "output_type": "stream",
     "text": [
      "2504.08386v1\n"
     ]
    },
    {
     "name": "stderr",
     "output_type": "stream",
     "text": [
      "\u001b[32m2025-05-25 19:07:57.598\u001b[0m | \u001b[1mINFO    \u001b[0m | \u001b[36mmagic_pdf.libs.pdf_check\u001b[0m:\u001b[36mdetect_invalid_chars\u001b[0m:\u001b[36m67\u001b[0m - \u001b[1mcid_count: 5, text_len: 24328, cid_chars_radio: 0.00020582060675914873\u001b[0m\n",
      "\u001b[32m2025-05-25 19:08:01.346\u001b[0m | \u001b[1mINFO    \u001b[0m | \u001b[36mmagic_pdf.model.doc_analyze_by_custom_model\u001b[0m:\u001b[36mmay_batch_image_analyze\u001b[0m:\u001b[36m275\u001b[0m - \u001b[1mgpu_memory: 24 GB, batch_ratio: 16\u001b[0m\n",
      "\u001b[32m2025-05-25 19:08:01.352\u001b[0m | \u001b[1mINFO    \u001b[0m | \u001b[36mmagic_pdf.model.pdf_extract_kit\u001b[0m:\u001b[36m__init__\u001b[0m:\u001b[36m68\u001b[0m - \u001b[1mDocAnalysis init, this may take some times, layout_model: doclayout_yolo, apply_formula: True, apply_ocr: True, apply_table: True, table_model: rapid_table, lang: None\u001b[0m\n",
      "\u001b[32m2025-05-25 19:08:01.352\u001b[0m | \u001b[1mINFO    \u001b[0m | \u001b[36mmagic_pdf.model.pdf_extract_kit\u001b[0m:\u001b[36m__init__\u001b[0m:\u001b[36m82\u001b[0m - \u001b[1musing device: cuda\u001b[0m\n",
      "\u001b[32m2025-05-25 19:08:01.353\u001b[0m | \u001b[1mINFO    \u001b[0m | \u001b[36mmagic_pdf.model.pdf_extract_kit\u001b[0m:\u001b[36m__init__\u001b[0m:\u001b[36m86\u001b[0m - \u001b[1musing models_dir: C:\\Users\\zhuzhanwen\\.cache\\huggingface\\hub\\models--opendatalab--PDF-Extract-Kit-1.0\\snapshots\\95817b4b2321769155f05c8d7e2f5a6b6da9e662/models\u001b[0m\n",
      "\u001b[32m2025-05-25 19:08:12.211\u001b[0m | \u001b[1mINFO    \u001b[0m | \u001b[36mmagic_pdf.model.pdf_extract_kit\u001b[0m:\u001b[36m__init__\u001b[0m:\u001b[36m164\u001b[0m - \u001b[1mDocAnalysis init done!\u001b[0m\n",
      "\u001b[32m2025-05-25 19:08:12.211\u001b[0m | \u001b[1mINFO    \u001b[0m | \u001b[36mmagic_pdf.model.doc_analyze_by_custom_model\u001b[0m:\u001b[36mcustom_model_init\u001b[0m:\u001b[36m116\u001b[0m - \u001b[1mmodel init cost: 10.861176252365112\u001b[0m\n",
      "Layout Predict: 100%|██████████| 19/19 [00:01<00:00, 12.05it/s]\n",
      "MFD Predict: 100%|██████████| 19/19 [00:01<00:00, 16.84it/s]\n",
      "MFR Predict: 100%|██████████| 52/52 [00:00<00:00, 53.12it/s]\n",
      "OCR-det Predict: 100%|██████████| 19/19 [00:02<00:00,  6.34it/s]\n",
      "Table Predict: 100%|██████████| 4/4 [00:00<00:00,  4.22it/s]\n",
      "Processing pages: 100%|██████████| 19/19 [00:02<00:00,  7.80it/s]\n",
      "\u001b[32m2025-05-25 19:08:23.800\u001b[0m | \u001b[1mINFO    \u001b[0m | \u001b[36mmagic_pdf.data.dataset\u001b[0m:\u001b[36m__init__\u001b[0m:\u001b[36m157\u001b[0m - \u001b[1mlang: None\u001b[0m\n"
     ]
    },
    {
     "name": "stdout",
     "output_type": "stream",
     "text": [
      "2504.08490v1\n"
     ]
    },
    {
     "name": "stderr",
     "output_type": "stream",
     "text": [
      "\u001b[32m2025-05-25 19:08:24.386\u001b[0m | \u001b[1mINFO    \u001b[0m | \u001b[36mmagic_pdf.libs.pdf_check\u001b[0m:\u001b[36mdetect_invalid_chars\u001b[0m:\u001b[36m67\u001b[0m - \u001b[1mcid_count: 0, text_len: 21585, cid_chars_radio: 0.0\u001b[0m\n",
      "\u001b[32m2025-05-25 19:08:24.481\u001b[0m | \u001b[1mINFO    \u001b[0m | \u001b[36mmagic_pdf.model.doc_analyze_by_custom_model\u001b[0m:\u001b[36mmay_batch_image_analyze\u001b[0m:\u001b[36m275\u001b[0m - \u001b[1mgpu_memory: 24 GB, batch_ratio: 16\u001b[0m\n",
      "Layout Predict: 100%|██████████| 8/8 [00:00<00:00, 19.01it/s]\n",
      "MFD Predict: 100%|██████████| 8/8 [00:00<00:00, 24.56it/s]\n",
      "MFR Predict: 100%|██████████| 2/2 [00:00<00:00, 12.25it/s]\n",
      "OCR-det Predict: 100%|██████████| 8/8 [00:01<00:00,  6.42it/s]\n",
      "Table Predict: 0it [00:00, ?it/s]\n",
      "Processing pages: 100%|██████████| 8/8 [00:00<00:00, 13.86it/s]\n",
      "\u001b[32m2025-05-25 19:08:27.956\u001b[0m | \u001b[1mINFO    \u001b[0m | \u001b[36mmagic_pdf.data.dataset\u001b[0m:\u001b[36m__init__\u001b[0m:\u001b[36m157\u001b[0m - \u001b[1mlang: None\u001b[0m\n"
     ]
    },
    {
     "name": "stdout",
     "output_type": "stream",
     "text": [
      "2504.08744v1\n"
     ]
    },
    {
     "name": "stderr",
     "output_type": "stream",
     "text": [
      "\u001b[32m2025-05-25 19:08:28.816\u001b[0m | \u001b[1mINFO    \u001b[0m | \u001b[36mmagic_pdf.libs.pdf_check\u001b[0m:\u001b[36mdetect_invalid_chars\u001b[0m:\u001b[36m67\u001b[0m - \u001b[1mcid_count: 0, text_len: 41747, cid_chars_radio: 0.0\u001b[0m\n",
      "\u001b[32m2025-05-25 19:08:29.262\u001b[0m | \u001b[1mINFO    \u001b[0m | \u001b[36mmagic_pdf.model.doc_analyze_by_custom_model\u001b[0m:\u001b[36mmay_batch_image_analyze\u001b[0m:\u001b[36m275\u001b[0m - \u001b[1mgpu_memory: 24 GB, batch_ratio: 16\u001b[0m\n",
      "Layout Predict: 100%|██████████| 30/30 [00:01<00:00, 18.33it/s]\n",
      "MFD Predict: 100%|██████████| 30/30 [00:01<00:00, 23.47it/s]\n",
      "MFR Predict: 100%|██████████| 154/154 [00:01<00:00, 136.27it/s]\n",
      "OCR-det Predict: 100%|██████████| 30/30 [00:04<00:00,  6.65it/s]\n",
      "Table Predict: 0it [00:00, ?it/s]\n",
      "Processing pages: 100%|██████████| 30/30 [00:04<00:00,  7.35it/s]\n",
      "OCR-rec Predict: 100%|██████████| 2/2 [00:00<00:00, 38.11it/s]\n",
      "\u001b[32m2025-05-25 19:08:44.843\u001b[0m | \u001b[1mINFO    \u001b[0m | \u001b[36mmagic_pdf.data.dataset\u001b[0m:\u001b[36m__init__\u001b[0m:\u001b[36m157\u001b[0m - \u001b[1mlang: None\u001b[0m\n"
     ]
    },
    {
     "name": "stdout",
     "output_type": "stream",
     "text": [
      "2504.08745v1\n"
     ]
    },
    {
     "name": "stderr",
     "output_type": "stream",
     "text": [
      "\u001b[32m2025-05-25 19:08:45.381\u001b[0m | \u001b[1mINFO    \u001b[0m | \u001b[36mmagic_pdf.libs.pdf_check\u001b[0m:\u001b[36mdetect_invalid_chars\u001b[0m:\u001b[36m67\u001b[0m - \u001b[1mcid_count: 0, text_len: 23947, cid_chars_radio: 0.0\u001b[0m\n",
      "\u001b[32m2025-05-25 19:08:45.477\u001b[0m | \u001b[1mINFO    \u001b[0m | \u001b[36mmagic_pdf.model.doc_analyze_by_custom_model\u001b[0m:\u001b[36mmay_batch_image_analyze\u001b[0m:\u001b[36m275\u001b[0m - \u001b[1mgpu_memory: 24 GB, batch_ratio: 16\u001b[0m\n",
      "Layout Predict: 100%|██████████| 9/9 [00:00<00:00, 11.90it/s]\n",
      "MFD Predict: 100%|██████████| 9/9 [00:00<00:00, 20.29it/s]\n",
      "MFR Predict: 100%|██████████| 37/37 [00:00<00:00, 95.18it/s]\n",
      "OCR-det Predict: 100%|██████████| 9/9 [00:01<00:00,  8.31it/s]\n",
      "Table Predict: 100%|██████████| 1/1 [00:00<00:00,  4.23it/s]\n",
      "Processing pages: 100%|██████████| 9/9 [00:00<00:00, 13.26it/s]\n",
      "OCR-rec Predict: 100%|██████████| 2/2 [00:00<00:00, 86.71it/s]\n",
      "\u001b[32m2025-05-25 19:08:49.719\u001b[0m | \u001b[1mINFO    \u001b[0m | \u001b[36mmagic_pdf.data.dataset\u001b[0m:\u001b[36m__init__\u001b[0m:\u001b[36m157\u001b[0m - \u001b[1mlang: None\u001b[0m\n"
     ]
    },
    {
     "name": "stdout",
     "output_type": "stream",
     "text": [
      "2504.08747v1\n"
     ]
    },
    {
     "name": "stderr",
     "output_type": "stream",
     "text": [
      "\u001b[32m2025-05-25 19:08:51.343\u001b[0m | \u001b[1mINFO    \u001b[0m | \u001b[36mmagic_pdf.libs.pdf_check\u001b[0m:\u001b[36mdetect_invalid_chars\u001b[0m:\u001b[36m67\u001b[0m - \u001b[1mcid_count: 0, text_len: 28253, cid_chars_radio: 0.0\u001b[0m\n",
      "\u001b[32m2025-05-25 19:08:51.495\u001b[0m | \u001b[1mINFO    \u001b[0m | \u001b[36mmagic_pdf.model.doc_analyze_by_custom_model\u001b[0m:\u001b[36mmay_batch_image_analyze\u001b[0m:\u001b[36m275\u001b[0m - \u001b[1mgpu_memory: 24 GB, batch_ratio: 16\u001b[0m\n",
      "Layout Predict: 100%|██████████| 16/16 [00:00<00:00, 16.85it/s]\n",
      "MFD Predict: 100%|██████████| 16/16 [00:00<00:00, 20.06it/s]\n",
      "MFR Predict: 100%|██████████| 3/3 [00:00<00:00, 38.48it/s]\n",
      "OCR-det Predict: 100%|██████████| 16/16 [00:02<00:00,  6.31it/s]\n",
      "Table Predict: 0it [00:00, ?it/s]\n",
      "Processing pages: 100%|██████████| 16/16 [00:01<00:00, 13.02it/s]\n",
      "OCR-rec Predict: 100%|██████████| 1/1 [00:00<00:00, 32.62it/s]\n",
      "\u001b[32m2025-05-25 19:08:58.585\u001b[0m | \u001b[1mINFO    \u001b[0m | \u001b[36mmagic_pdf.data.dataset\u001b[0m:\u001b[36m__init__\u001b[0m:\u001b[36m157\u001b[0m - \u001b[1mlang: None\u001b[0m\n"
     ]
    },
    {
     "name": "stdout",
     "output_type": "stream",
     "text": [
      "2504.08748v1\n"
     ]
    },
    {
     "name": "stderr",
     "output_type": "stream",
     "text": [
      "\u001b[32m2025-05-25 19:08:59.533\u001b[0m | \u001b[1mINFO    \u001b[0m | \u001b[36mmagic_pdf.libs.pdf_check\u001b[0m:\u001b[36mdetect_invalid_chars\u001b[0m:\u001b[36m67\u001b[0m - \u001b[1mcid_count: 0, text_len: 45555, cid_chars_radio: 0.0\u001b[0m\n",
      "\u001b[32m2025-05-25 19:09:00.620\u001b[0m | \u001b[1mINFO    \u001b[0m | \u001b[36mmagic_pdf.model.doc_analyze_by_custom_model\u001b[0m:\u001b[36mmay_batch_image_analyze\u001b[0m:\u001b[36m275\u001b[0m - \u001b[1mgpu_memory: 24 GB, batch_ratio: 16\u001b[0m\n",
      "Layout Predict: 100%|██████████| 80/80 [00:04<00:00, 17.31it/s]\n",
      "MFD Predict: 100%|██████████| 80/80 [00:03<00:00, 23.27it/s]\n",
      "MFR Predict: 100%|██████████| 76/76 [00:00<00:00, 95.14it/s]\n",
      "OCR-det Predict: 100%|██████████| 80/80 [00:10<00:00,  7.35it/s]\n",
      "Table Predict: 100%|██████████| 6/6 [00:03<00:00,  1.64it/s]\n",
      "Processing pages: 100%|██████████| 80/80 [00:10<00:00,  7.28it/s]\n",
      "OCR-rec Predict: 100%|██████████| 1/1 [00:00<00:00, 42.97it/s]\n",
      "\u001b[32m2025-05-25 19:09:38.736\u001b[0m | \u001b[1mINFO    \u001b[0m | \u001b[36mmagic_pdf.data.dataset\u001b[0m:\u001b[36m__init__\u001b[0m:\u001b[36m157\u001b[0m - \u001b[1mlang: None\u001b[0m\n"
     ]
    },
    {
     "name": "stdout",
     "output_type": "stream",
     "text": [
      "2504.08758v1\n"
     ]
    },
    {
     "name": "stderr",
     "output_type": "stream",
     "text": [
      "\u001b[32m2025-05-25 19:09:39.852\u001b[0m | \u001b[1mINFO    \u001b[0m | \u001b[36mmagic_pdf.libs.pdf_check\u001b[0m:\u001b[36mdetect_invalid_chars\u001b[0m:\u001b[36m67\u001b[0m - \u001b[1mcid_count: 0, text_len: 29109, cid_chars_radio: 0.0\u001b[0m\n",
      "\u001b[32m2025-05-25 19:09:40.291\u001b[0m | \u001b[1mINFO    \u001b[0m | \u001b[36mmagic_pdf.model.doc_analyze_by_custom_model\u001b[0m:\u001b[36mmay_batch_image_analyze\u001b[0m:\u001b[36m275\u001b[0m - \u001b[1mgpu_memory: 24 GB, batch_ratio: 16\u001b[0m\n",
      "Layout Predict: 100%|██████████| 33/33 [00:01<00:00, 20.33it/s]\n",
      "MFD Predict: 100%|██████████| 33/33 [00:01<00:00, 22.37it/s]\n",
      "MFR Predict: 100%|██████████| 144/144 [00:02<00:00, 52.57it/s]\n",
      "OCR-det Predict: 100%|██████████| 33/33 [00:04<00:00,  7.53it/s]\n",
      "Table Predict: 100%|██████████| 4/4 [00:01<00:00,  3.76it/s]\n",
      "Processing pages: 100%|██████████| 33/33 [00:02<00:00, 11.76it/s]\n",
      "\u001b[32m2025-05-25 19:09:55.797\u001b[0m | \u001b[1mINFO    \u001b[0m | \u001b[36mmagic_pdf.data.dataset\u001b[0m:\u001b[36m__init__\u001b[0m:\u001b[36m157\u001b[0m - \u001b[1mlang: None\u001b[0m\n"
     ]
    },
    {
     "name": "stdout",
     "output_type": "stream",
     "text": [
      "2504.08761v1\n"
     ]
    },
    {
     "name": "stderr",
     "output_type": "stream",
     "text": [
      "\u001b[32m2025-05-25 19:09:56.557\u001b[0m | \u001b[1mINFO    \u001b[0m | \u001b[36mmagic_pdf.libs.pdf_check\u001b[0m:\u001b[36mdetect_invalid_chars\u001b[0m:\u001b[36m67\u001b[0m - \u001b[1mcid_count: 0, text_len: 37741, cid_chars_radio: 0.0\u001b[0m\n",
      "\u001b[32m2025-05-25 19:09:56.811\u001b[0m | \u001b[1mINFO    \u001b[0m | \u001b[36mmagic_pdf.model.doc_analyze_by_custom_model\u001b[0m:\u001b[36mmay_batch_image_analyze\u001b[0m:\u001b[36m275\u001b[0m - \u001b[1mgpu_memory: 24 GB, batch_ratio: 16\u001b[0m\n",
      "Layout Predict: 100%|██████████| 10/10 [00:00<00:00, 13.80it/s]\n",
      "MFD Predict: 100%|██████████| 10/10 [00:00<00:00, 20.95it/s]\n",
      "MFR Predict: 100%|██████████| 19/19 [00:00<00:00, 77.95it/s]\n",
      "OCR-det Predict: 100%|██████████| 10/10 [00:03<00:00,  3.21it/s]\n",
      "Table Predict: 100%|██████████| 4/4 [00:00<00:00,  5.50it/s]\n",
      "Processing pages: 100%|██████████| 10/10 [00:01<00:00,  5.64it/s]\n",
      "OCR-rec Predict: 100%|██████████| 8/8 [00:00<00:00, 87.86it/s]\n",
      "\u001b[32m2025-05-25 19:10:05.103\u001b[0m | \u001b[1mINFO    \u001b[0m | \u001b[36mmagic_pdf.data.dataset\u001b[0m:\u001b[36m__init__\u001b[0m:\u001b[36m157\u001b[0m - \u001b[1mlang: None\u001b[0m\n"
     ]
    },
    {
     "name": "stdout",
     "output_type": "stream",
     "text": [
      "2504.08762v1\n"
     ]
    },
    {
     "name": "stderr",
     "output_type": "stream",
     "text": [
      "\u001b[32m2025-05-25 19:10:06.089\u001b[0m | \u001b[1mINFO    \u001b[0m | \u001b[36mmagic_pdf.libs.pdf_check\u001b[0m:\u001b[36mdetect_invalid_chars\u001b[0m:\u001b[36m67\u001b[0m - \u001b[1mcid_count: 5, text_len: 35856, cid_chars_radio: 0.00013956734124214934\u001b[0m\n",
      "\u001b[32m2025-05-25 19:10:06.387\u001b[0m | \u001b[1mINFO    \u001b[0m | \u001b[36mmagic_pdf.model.doc_analyze_by_custom_model\u001b[0m:\u001b[36mmay_batch_image_analyze\u001b[0m:\u001b[36m275\u001b[0m - \u001b[1mgpu_memory: 24 GB, batch_ratio: 16\u001b[0m\n",
      "Layout Predict: 100%|██████████| 10/10 [00:00<00:00, 13.68it/s]\n",
      "MFD Predict: 100%|██████████| 10/10 [00:00<00:00, 21.77it/s]\n",
      "MFR Predict: 100%|██████████| 107/107 [00:01<00:00, 62.16it/s]\n",
      "OCR-det Predict: 100%|██████████| 10/10 [00:02<00:00,  4.71it/s]\n",
      "Table Predict: 100%|██████████| 6/6 [00:01<00:00,  3.58it/s]\n",
      "Processing pages: 100%|██████████| 10/10 [00:01<00:00,  5.27it/s]\n",
      "\u001b[32m2025-05-25 19:10:16.236\u001b[0m | \u001b[1mINFO    \u001b[0m | \u001b[36mmagic_pdf.data.dataset\u001b[0m:\u001b[36m__init__\u001b[0m:\u001b[36m157\u001b[0m - \u001b[1mlang: None\u001b[0m\n"
     ]
    },
    {
     "name": "stdout",
     "output_type": "stream",
     "text": [
      "2504.08768v1\n"
     ]
    },
    {
     "name": "stderr",
     "output_type": "stream",
     "text": [
      "\u001b[32m2025-05-25 19:10:16.721\u001b[0m | \u001b[1mINFO    \u001b[0m | \u001b[36mmagic_pdf.libs.pdf_check\u001b[0m:\u001b[36mdetect_invalid_chars\u001b[0m:\u001b[36m67\u001b[0m - \u001b[1mcid_count: 0, text_len: 30741, cid_chars_radio: 0.0\u001b[0m\n",
      "\u001b[32m2025-05-25 19:10:16.894\u001b[0m | \u001b[1mINFO    \u001b[0m | \u001b[36mmagic_pdf.model.doc_analyze_by_custom_model\u001b[0m:\u001b[36mmay_batch_image_analyze\u001b[0m:\u001b[36m275\u001b[0m - \u001b[1mgpu_memory: 24 GB, batch_ratio: 16\u001b[0m\n",
      "Layout Predict: 100%|██████████| 13/13 [00:00<00:00, 13.95it/s]\n",
      "MFD Predict: 100%|██████████| 13/13 [00:00<00:00, 22.56it/s]\n",
      "MFR Predict: 100%|██████████| 54/54 [00:00<00:00, 63.48it/s]\n",
      "OCR-det Predict: 100%|██████████| 13/13 [00:02<00:00,  5.53it/s]\n",
      "Table Predict: 100%|██████████| 2/2 [00:00<00:00,  2.95it/s]\n",
      "Processing pages: 100%|██████████| 13/13 [00:01<00:00,  9.33it/s]\n",
      "\u001b[32m2025-05-25 19:10:24.637\u001b[0m | \u001b[1mINFO    \u001b[0m | \u001b[36mmagic_pdf.data.dataset\u001b[0m:\u001b[36m__init__\u001b[0m:\u001b[36m157\u001b[0m - \u001b[1mlang: None\u001b[0m\n"
     ]
    },
    {
     "name": "stdout",
     "output_type": "stream",
     "text": [
      "2504.08846v1\n"
     ]
    },
    {
     "name": "stderr",
     "output_type": "stream",
     "text": [
      "\u001b[32m2025-05-25 19:10:25.217\u001b[0m | \u001b[1mINFO    \u001b[0m | \u001b[36mmagic_pdf.libs.pdf_check\u001b[0m:\u001b[36mdetect_invalid_chars\u001b[0m:\u001b[36m67\u001b[0m - \u001b[1mcid_count: 0, text_len: 31576, cid_chars_radio: 0.0\u001b[0m\n",
      "\u001b[32m2025-05-25 19:10:25.440\u001b[0m | \u001b[1mINFO    \u001b[0m | \u001b[36mmagic_pdf.model.doc_analyze_by_custom_model\u001b[0m:\u001b[36mmay_batch_image_analyze\u001b[0m:\u001b[36m275\u001b[0m - \u001b[1mgpu_memory: 24 GB, batch_ratio: 16\u001b[0m\n",
      "Layout Predict: 100%|██████████| 23/23 [00:01<00:00, 17.59it/s]\n",
      "MFD Predict: 100%|██████████| 23/23 [00:01<00:00, 21.62it/s]\n",
      "MFR Predict: 100%|██████████| 229/229 [16:34<00:00,  4.34s/it]\n",
      "OCR-det Predict: 100%|██████████| 23/23 [00:04<00:00,  4.77it/s]\n",
      "Table Predict: 100%|██████████| 1/1 [00:00<00:00,  4.04it/s]\n",
      "Processing pages: 100%|██████████| 23/23 [00:02<00:00,  7.84it/s]\n",
      "OCR-rec Predict: 100%|██████████| 2/2 [00:00<00:00, 44.37it/s]\n",
      "\u001b[32m2025-05-25 19:27:13.895\u001b[0m | \u001b[1mINFO    \u001b[0m | \u001b[36mmagic_pdf.data.dataset\u001b[0m:\u001b[36m__init__\u001b[0m:\u001b[36m157\u001b[0m - \u001b[1mlang: None\u001b[0m\n"
     ]
    },
    {
     "name": "stdout",
     "output_type": "stream",
     "text": [
      "2504.08862v1\n"
     ]
    },
    {
     "name": "stderr",
     "output_type": "stream",
     "text": [
      "\u001b[32m2025-05-25 19:27:14.690\u001b[0m | \u001b[1mINFO    \u001b[0m | \u001b[36mmagic_pdf.libs.pdf_check\u001b[0m:\u001b[36mdetect_invalid_chars\u001b[0m:\u001b[36m67\u001b[0m - \u001b[1mcid_count: 16, text_len: 41897, cid_chars_radio: 0.00038291252841928924\u001b[0m\n",
      "\u001b[32m2025-05-25 19:27:14.788\u001b[0m | \u001b[1mINFO    \u001b[0m | \u001b[36mmagic_pdf.model.doc_analyze_by_custom_model\u001b[0m:\u001b[36mmay_batch_image_analyze\u001b[0m:\u001b[36m275\u001b[0m - \u001b[1mgpu_memory: 24 GB, batch_ratio: 16\u001b[0m\n",
      "Layout Predict: 100%|██████████| 9/9 [00:00<00:00, 13.51it/s]\n",
      "MFD Predict: 100%|██████████| 9/9 [00:00<00:00, 20.32it/s]\n",
      "MFR Predict: 100%|██████████| 81/81 [00:01<00:00, 67.19it/s]\n",
      "OCR-det Predict: 100%|██████████| 9/9 [00:02<00:00,  4.11it/s]\n",
      "Table Predict: 100%|██████████| 8/8 [00:00<00:00,  9.33it/s]\n",
      "Processing pages: 100%|██████████| 9/9 [00:01<00:00,  4.78it/s]\n",
      "\u001b[32m2025-05-25 19:27:23.057\u001b[0m | \u001b[1mINFO    \u001b[0m | \u001b[36mmagic_pdf.data.dataset\u001b[0m:\u001b[36m__init__\u001b[0m:\u001b[36m157\u001b[0m - \u001b[1mlang: None\u001b[0m\n"
     ]
    },
    {
     "name": "stdout",
     "output_type": "stream",
     "text": [
      "2504.08893v1\n"
     ]
    },
    {
     "name": "stderr",
     "output_type": "stream",
     "text": [
      "\u001b[32m2025-05-25 19:27:23.610\u001b[0m | \u001b[1mINFO    \u001b[0m | \u001b[36mmagic_pdf.libs.pdf_check\u001b[0m:\u001b[36mdetect_invalid_chars\u001b[0m:\u001b[36m67\u001b[0m - \u001b[1mcid_count: 0, text_len: 30554, cid_chars_radio: 0.0\u001b[0m\n",
      "\u001b[32m2025-05-25 19:27:23.902\u001b[0m | \u001b[1mINFO    \u001b[0m | \u001b[36mmagic_pdf.model.doc_analyze_by_custom_model\u001b[0m:\u001b[36mmay_batch_image_analyze\u001b[0m:\u001b[36m275\u001b[0m - \u001b[1mgpu_memory: 24 GB, batch_ratio: 16\u001b[0m\n",
      "Layout Predict: 100%|██████████| 21/21 [00:01<00:00, 15.44it/s]\n",
      "MFD Predict: 100%|██████████| 21/21 [00:00<00:00, 25.35it/s]\n",
      "MFR Predict: 100%|██████████| 94/94 [00:00<00:00, 149.24it/s]\n",
      "OCR-det Predict: 100%|██████████| 21/21 [00:03<00:00,  6.33it/s]\n",
      "Table Predict: 100%|██████████| 3/3 [00:00<00:00,  7.74it/s]\n",
      "Processing pages: 100%|██████████| 21/21 [00:01<00:00, 11.88it/s]\n",
      "OCR-rec Predict: 100%|██████████| 3/3 [00:00<00:00, 75.63it/s]\n",
      "\u001b[32m2025-05-25 19:27:33.342\u001b[0m | \u001b[1mINFO    \u001b[0m | \u001b[36mmagic_pdf.data.dataset\u001b[0m:\u001b[36m__init__\u001b[0m:\u001b[36m157\u001b[0m - \u001b[1mlang: None\u001b[0m\n"
     ]
    },
    {
     "name": "stdout",
     "output_type": "stream",
     "text": [
      "2504.08930v1\n"
     ]
    },
    {
     "name": "stderr",
     "output_type": "stream",
     "text": [
      "\u001b[32m2025-05-25 19:27:34.622\u001b[0m | \u001b[1mINFO    \u001b[0m | \u001b[36mmagic_pdf.libs.pdf_check\u001b[0m:\u001b[36mdetect_invalid_chars\u001b[0m:\u001b[36m67\u001b[0m - \u001b[1mcid_count: 0, text_len: 58117, cid_chars_radio: 0.0\u001b[0m\n",
      "\u001b[32m2025-05-25 19:27:34.835\u001b[0m | \u001b[1mINFO    \u001b[0m | \u001b[36mmagic_pdf.model.doc_analyze_by_custom_model\u001b[0m:\u001b[36mmay_batch_image_analyze\u001b[0m:\u001b[36m275\u001b[0m - \u001b[1mgpu_memory: 24 GB, batch_ratio: 16\u001b[0m\n",
      "Layout Predict: 100%|██████████| 12/12 [00:00<00:00, 16.46it/s]\n",
      "MFD Predict: 100%|██████████| 12/12 [00:00<00:00, 24.73it/s]\n",
      "MFR Predict: 100%|██████████| 49/49 [00:00<00:00, 61.45it/s]\n",
      "OCR-det Predict: 100%|██████████| 12/12 [00:02<00:00,  5.00it/s]\n",
      "Table Predict: 100%|██████████| 1/1 [00:00<00:00,  9.90it/s]\n",
      "Processing pages: 100%|██████████| 12/12 [00:02<00:00,  4.09it/s]\n",
      "\u001b[32m2025-05-25 19:27:43.689\u001b[0m | \u001b[1mINFO    \u001b[0m | \u001b[36mmagic_pdf.data.dataset\u001b[0m:\u001b[36m__init__\u001b[0m:\u001b[36m157\u001b[0m - \u001b[1mlang: None\u001b[0m\n"
     ]
    },
    {
     "name": "stdout",
     "output_type": "stream",
     "text": [
      "2504.08952v1\n"
     ]
    },
    {
     "name": "stderr",
     "output_type": "stream",
     "text": [
      "\u001b[32m2025-05-25 19:27:50.419\u001b[0m | \u001b[1mINFO    \u001b[0m | \u001b[36mmagic_pdf.libs.pdf_check\u001b[0m:\u001b[36mdetect_invalid_chars\u001b[0m:\u001b[36m67\u001b[0m - \u001b[1mcid_count: 0, text_len: 72018, cid_chars_radio: 0.0\u001b[0m\n",
      "\u001b[32m2025-05-25 19:27:52.726\u001b[0m | \u001b[1mINFO    \u001b[0m | \u001b[36mmagic_pdf.model.doc_analyze_by_custom_model\u001b[0m:\u001b[36mmay_batch_image_analyze\u001b[0m:\u001b[36m275\u001b[0m - \u001b[1mgpu_memory: 24 GB, batch_ratio: 16\u001b[0m\n",
      "Layout Predict: 100%|██████████| 26/26 [00:01<00:00, 17.77it/s]\n",
      "MFD Predict: 100%|██████████| 26/26 [00:01<00:00, 24.91it/s]\n",
      "MFR Predict: 100%|██████████| 198/198 [00:01<00:00, 145.93it/s]\n",
      "OCR-det Predict: 100%|██████████| 26/26 [00:04<00:00,  5.28it/s]\n",
      "Table Predict: 100%|██████████| 8/8 [00:01<00:00,  4.14it/s]\n",
      "Processing pages: 100%|██████████| 26/26 [00:07<00:00,  3.71it/s]\n",
      "\u001b[32m2025-05-25 19:28:13.050\u001b[0m | \u001b[1mINFO    \u001b[0m | \u001b[36mmagic_pdf.data.dataset\u001b[0m:\u001b[36m__init__\u001b[0m:\u001b[36m157\u001b[0m - \u001b[1mlang: None\u001b[0m\n"
     ]
    },
    {
     "name": "stdout",
     "output_type": "stream",
     "text": [
      "2504.08967v1\n"
     ]
    },
    {
     "name": "stderr",
     "output_type": "stream",
     "text": [
      "\u001b[32m2025-05-25 19:28:13.644\u001b[0m | \u001b[1mINFO    \u001b[0m | \u001b[36mmagic_pdf.libs.pdf_check\u001b[0m:\u001b[36mdetect_invalid_chars\u001b[0m:\u001b[36m67\u001b[0m - \u001b[1mcid_count: 0, text_len: 34028, cid_chars_radio: 0.0\u001b[0m\n",
      "\u001b[32m2025-05-25 19:28:13.757\u001b[0m | \u001b[1mINFO    \u001b[0m | \u001b[36mmagic_pdf.model.doc_analyze_by_custom_model\u001b[0m:\u001b[36mmay_batch_image_analyze\u001b[0m:\u001b[36m275\u001b[0m - \u001b[1mgpu_memory: 24 GB, batch_ratio: 16\u001b[0m\n",
      "Layout Predict: 100%|██████████| 11/11 [00:00<00:00, 14.43it/s]\n",
      "MFD Predict: 100%|██████████| 11/11 [00:00<00:00, 24.69it/s]\n",
      "MFR Predict: 100%|██████████| 59/59 [00:00<00:00, 106.36it/s]\n",
      "OCR-det Predict: 100%|██████████| 11/11 [00:02<00:00,  5.47it/s]\n",
      "Table Predict: 100%|██████████| 5/5 [00:00<00:00,  5.82it/s]\n",
      "Processing pages: 100%|██████████| 11/11 [00:01<00:00,  7.53it/s]\n",
      "OCR-rec Predict: 100%|██████████| 3/3 [00:00<00:00, 136.09it/s]\n",
      "\u001b[32m2025-05-25 19:28:20.937\u001b[0m | \u001b[1mINFO    \u001b[0m | \u001b[36mmagic_pdf.data.dataset\u001b[0m:\u001b[36m__init__\u001b[0m:\u001b[36m157\u001b[0m - \u001b[1mlang: None\u001b[0m\n"
     ]
    },
    {
     "name": "stdout",
     "output_type": "stream",
     "text": [
      "2504.09207v1\n"
     ]
    },
    {
     "name": "stderr",
     "output_type": "stream",
     "text": [
      "\u001b[32m2025-05-25 19:28:21.737\u001b[0m | \u001b[1mINFO    \u001b[0m | \u001b[36mmagic_pdf.libs.pdf_check\u001b[0m:\u001b[36mdetect_invalid_chars\u001b[0m:\u001b[36m67\u001b[0m - \u001b[1mcid_count: 0, text_len: 39863, cid_chars_radio: 0.0\u001b[0m\n",
      "\u001b[32m2025-05-25 19:28:22.134\u001b[0m | \u001b[1mINFO    \u001b[0m | \u001b[36mmagic_pdf.model.doc_analyze_by_custom_model\u001b[0m:\u001b[36mmay_batch_image_analyze\u001b[0m:\u001b[36m275\u001b[0m - \u001b[1mgpu_memory: 24 GB, batch_ratio: 16\u001b[0m\n",
      "Layout Predict: 100%|██████████| 28/28 [00:01<00:00, 18.44it/s]\n",
      "MFD Predict: 100%|██████████| 28/28 [00:01<00:00, 27.28it/s]\n",
      "MFR Predict: 100%|██████████| 153/153 [00:01<00:00, 151.65it/s]\n",
      "OCR-det Predict: 100%|██████████| 28/28 [00:03<00:00,  7.70it/s]\n",
      "Table Predict: 100%|██████████| 2/2 [00:00<00:00,  4.41it/s]\n",
      "Processing pages: 100%|██████████| 28/28 [00:03<00:00,  9.00it/s]\n",
      "OCR-rec Predict: 100%|██████████| 5/5 [00:00<00:00, 127.86it/s]\n",
      "\u001b[32m2025-05-25 19:28:34.628\u001b[0m | \u001b[1mINFO    \u001b[0m | \u001b[36mmagic_pdf.data.dataset\u001b[0m:\u001b[36m__init__\u001b[0m:\u001b[36m157\u001b[0m - \u001b[1mlang: None\u001b[0m\n"
     ]
    },
    {
     "name": "stdout",
     "output_type": "stream",
     "text": [
      "2504.09554v1\n"
     ]
    },
    {
     "name": "stderr",
     "output_type": "stream",
     "text": [
      "\u001b[32m2025-05-25 19:28:35.559\u001b[0m | \u001b[1mINFO    \u001b[0m | \u001b[36mmagic_pdf.libs.pdf_check\u001b[0m:\u001b[36mdetect_invalid_chars\u001b[0m:\u001b[36m67\u001b[0m - \u001b[1mcid_count: 10, text_len: 55932, cid_chars_radio: 0.00017903179604697794\u001b[0m\n",
      "\u001b[32m2025-05-25 19:28:35.759\u001b[0m | \u001b[1mINFO    \u001b[0m | \u001b[36mmagic_pdf.model.doc_analyze_by_custom_model\u001b[0m:\u001b[36mmay_batch_image_analyze\u001b[0m:\u001b[36m275\u001b[0m - \u001b[1mgpu_memory: 24 GB, batch_ratio: 16\u001b[0m\n",
      "Layout Predict: 100%|██████████| 11/11 [00:00<00:00, 14.68it/s]\n",
      "MFD Predict: 100%|██████████| 11/11 [00:00<00:00, 24.13it/s]\n",
      "MFR Predict: 100%|██████████| 130/130 [00:02<00:00, 58.94it/s]\n",
      "OCR-det Predict: 100%|██████████| 11/11 [00:02<00:00,  4.76it/s]\n",
      "Table Predict: 100%|██████████| 7/7 [00:01<00:00,  6.40it/s]\n",
      "Processing pages: 100%|██████████| 11/11 [00:02<00:00,  3.92it/s]\n",
      "\u001b[32m2025-05-25 19:28:46.963\u001b[0m | \u001b[1mINFO    \u001b[0m | \u001b[36mmagic_pdf.data.dataset\u001b[0m:\u001b[36m__init__\u001b[0m:\u001b[36m157\u001b[0m - \u001b[1mlang: None\u001b[0m\n"
     ]
    },
    {
     "name": "stdout",
     "output_type": "stream",
     "text": [
      "2504.09593v2\n"
     ]
    },
    {
     "name": "stderr",
     "output_type": "stream",
     "text": [
      "\u001b[32m2025-05-25 19:29:07.313\u001b[0m | \u001b[1mINFO    \u001b[0m | \u001b[36mmagic_pdf.libs.pdf_check\u001b[0m:\u001b[36mdetect_invalid_chars\u001b[0m:\u001b[36m67\u001b[0m - \u001b[1mcid_count: 18, text_len: 52895, cid_chars_radio: 0.00034110936345202675\u001b[0m\n",
      "\u001b[32m2025-05-25 19:29:08.456\u001b[0m | \u001b[1mINFO    \u001b[0m | \u001b[36mmagic_pdf.model.doc_analyze_by_custom_model\u001b[0m:\u001b[36mmay_batch_image_analyze\u001b[0m:\u001b[36m275\u001b[0m - \u001b[1mgpu_memory: 24 GB, batch_ratio: 16\u001b[0m\n",
      "Layout Predict: 100%|██████████| 16/16 [00:01<00:00, 15.28it/s]\n",
      "MFD Predict: 100%|██████████| 16/16 [00:00<00:00, 24.65it/s]\n",
      "MFR Predict: 100%|██████████| 207/207 [00:01<00:00, 117.10it/s]\n",
      "OCR-det Predict: 100%|██████████| 16/16 [00:02<00:00,  5.51it/s]\n",
      "Table Predict: 100%|██████████| 5/5 [00:01<00:00,  3.22it/s]\n",
      "Processing pages: 100%|██████████| 16/16 [00:05<00:00,  2.70it/s]\n",
      "\u001b[32m2025-05-25 19:29:24.935\u001b[0m | \u001b[1mINFO    \u001b[0m | \u001b[36mmagic_pdf.data.dataset\u001b[0m:\u001b[36m__init__\u001b[0m:\u001b[36m157\u001b[0m - \u001b[1mlang: None\u001b[0m\n"
     ]
    },
    {
     "name": "stdout",
     "output_type": "stream",
     "text": [
      "2504.09651v1\n"
     ]
    },
    {
     "name": "stderr",
     "output_type": "stream",
     "text": [
      "\u001b[32m2025-05-25 19:29:25.294\u001b[0m | \u001b[1mINFO    \u001b[0m | \u001b[36mmagic_pdf.libs.pdf_check\u001b[0m:\u001b[36mdetect_invalid_chars\u001b[0m:\u001b[36m67\u001b[0m - \u001b[1mcid_count: 0, text_len: 25139, cid_chars_radio: 0.0\u001b[0m\n",
      "\u001b[32m2025-05-25 19:29:25.412\u001b[0m | \u001b[1mINFO    \u001b[0m | \u001b[36mmagic_pdf.model.doc_analyze_by_custom_model\u001b[0m:\u001b[36mmay_batch_image_analyze\u001b[0m:\u001b[36m275\u001b[0m - \u001b[1mgpu_memory: 24 GB, batch_ratio: 16\u001b[0m\n",
      "Layout Predict: 100%|██████████| 6/6 [00:00<00:00,  9.69it/s]\n",
      "MFD Predict: 100%|██████████| 6/6 [00:00<00:00, 23.91it/s]\n",
      "MFR Predict: 100%|██████████| 9/9 [00:00<00:00, 63.15it/s]\n",
      "OCR-det Predict: 100%|██████████| 6/6 [00:01<00:00,  4.72it/s]\n",
      "Table Predict: 100%|██████████| 2/2 [00:00<00:00,  3.26it/s]\n",
      "Processing pages: 100%|██████████| 6/6 [00:01<00:00,  5.66it/s]\n",
      "\u001b[32m2025-05-25 19:29:30.140\u001b[0m | \u001b[1mINFO    \u001b[0m | \u001b[36mmagic_pdf.data.dataset\u001b[0m:\u001b[36m__init__\u001b[0m:\u001b[36m157\u001b[0m - \u001b[1mlang: None\u001b[0m\n"
     ]
    },
    {
     "name": "stdout",
     "output_type": "stream",
     "text": [
      "2504.09775v3\n"
     ]
    },
    {
     "name": "stderr",
     "output_type": "stream",
     "text": [
      "\u001b[32m2025-05-25 19:29:43.189\u001b[0m | \u001b[1mINFO    \u001b[0m | \u001b[36mmagic_pdf.libs.pdf_check\u001b[0m:\u001b[36mdetect_invalid_chars\u001b[0m:\u001b[36m67\u001b[0m - \u001b[1mcid_count: 4, text_len: 52986, cid_chars_radio: 7.553440592189743e-05\u001b[0m\n",
      "\u001b[32m2025-05-25 19:29:43.723\u001b[0m | \u001b[1mINFO    \u001b[0m | \u001b[36mmagic_pdf.model.doc_analyze_by_custom_model\u001b[0m:\u001b[36mmay_batch_image_analyze\u001b[0m:\u001b[36m275\u001b[0m - \u001b[1mgpu_memory: 24 GB, batch_ratio: 16\u001b[0m\n",
      "Layout Predict: 100%|██████████| 15/15 [00:00<00:00, 15.81it/s]\n",
      "MFD Predict: 100%|██████████| 15/15 [00:00<00:00, 24.86it/s]\n",
      "MFR Predict: 100%|██████████| 75/75 [00:01<00:00, 58.82it/s]\n",
      "OCR-det Predict: 100%|██████████| 15/15 [00:02<00:00,  5.32it/s]\n",
      "Table Predict: 100%|██████████| 4/4 [00:00<00:00,  4.85it/s]\n",
      "Processing pages: 100%|██████████| 15/15 [00:04<00:00,  3.30it/s]\n",
      "\u001b[32m2025-05-25 19:29:56.628\u001b[0m | \u001b[1mINFO    \u001b[0m | \u001b[36mmagic_pdf.data.dataset\u001b[0m:\u001b[36m__init__\u001b[0m:\u001b[36m157\u001b[0m - \u001b[1mlang: None\u001b[0m\n"
     ]
    },
    {
     "name": "stdout",
     "output_type": "stream",
     "text": [
      "2504.09795v1\n"
     ]
    },
    {
     "name": "stderr",
     "output_type": "stream",
     "text": [
      "\u001b[32m2025-05-25 19:29:58.902\u001b[0m | \u001b[1mINFO    \u001b[0m | \u001b[36mmagic_pdf.libs.pdf_check\u001b[0m:\u001b[36mdetect_invalid_chars\u001b[0m:\u001b[36m67\u001b[0m - \u001b[1mcid_count: 1, text_len: 38678, cid_chars_radio: 2.5859170954979184e-05\u001b[0m\n",
      "\u001b[32m2025-05-25 19:29:59.228\u001b[0m | \u001b[1mINFO    \u001b[0m | \u001b[36mmagic_pdf.model.doc_analyze_by_custom_model\u001b[0m:\u001b[36mmay_batch_image_analyze\u001b[0m:\u001b[36m275\u001b[0m - \u001b[1mgpu_memory: 24 GB, batch_ratio: 16\u001b[0m\n",
      "Layout Predict: 100%|██████████| 16/16 [00:01<00:00, 14.50it/s]\n",
      "MFD Predict: 100%|██████████| 16/16 [00:00<00:00, 24.59it/s]\n",
      "MFR Predict: 100%|██████████| 73/73 [00:01<00:00, 50.71it/s]\n",
      "OCR-det Predict: 100%|██████████| 16/16 [00:02<00:00,  7.32it/s]\n",
      "Table Predict: 100%|██████████| 13/13 [00:02<00:00,  5.20it/s]\n",
      "Processing pages: 100%|██████████| 16/16 [00:02<00:00,  6.28it/s]\n",
      "\u001b[32m2025-05-25 19:30:10.994\u001b[0m | \u001b[1mINFO    \u001b[0m | \u001b[36mmagic_pdf.data.dataset\u001b[0m:\u001b[36m__init__\u001b[0m:\u001b[36m157\u001b[0m - \u001b[1mlang: None\u001b[0m\n"
     ]
    },
    {
     "name": "stdout",
     "output_type": "stream",
     "text": [
      "2504.09823v1\n"
     ]
    },
    {
     "name": "stderr",
     "output_type": "stream",
     "text": [
      "\u001b[32m2025-05-25 19:30:11.626\u001b[0m | \u001b[1mINFO    \u001b[0m | \u001b[36mmagic_pdf.libs.pdf_check\u001b[0m:\u001b[36mdetect_invalid_chars\u001b[0m:\u001b[36m67\u001b[0m - \u001b[1mcid_count: 19, text_len: 39590, cid_chars_radio: 0.0004815368629140583\u001b[0m\n",
      "\u001b[32m2025-05-25 19:30:11.774\u001b[0m | \u001b[1mINFO    \u001b[0m | \u001b[36mmagic_pdf.model.doc_analyze_by_custom_model\u001b[0m:\u001b[36mmay_batch_image_analyze\u001b[0m:\u001b[36m275\u001b[0m - \u001b[1mgpu_memory: 24 GB, batch_ratio: 16\u001b[0m\n",
      "Layout Predict: 100%|██████████| 9/9 [00:00<00:00, 14.81it/s]\n",
      "MFD Predict: 100%|██████████| 9/9 [00:00<00:00, 24.26it/s]\n",
      "MFR Predict: 100%|██████████| 56/56 [00:01<00:00, 37.51it/s]\n",
      "OCR-det Predict: 100%|██████████| 9/9 [00:01<00:00,  5.72it/s]\n",
      "Table Predict: 100%|██████████| 2/2 [00:00<00:00,  7.82it/s]\n",
      "Processing pages: 100%|██████████| 9/9 [00:01<00:00,  5.75it/s]\n",
      "OCR-rec Predict: 100%|██████████| 1/1 [00:00<00:00, 153.32it/s]\n",
      "\u001b[32m2025-05-25 19:30:18.607\u001b[0m | \u001b[1mINFO    \u001b[0m | \u001b[36mmagic_pdf.data.dataset\u001b[0m:\u001b[36m__init__\u001b[0m:\u001b[36m157\u001b[0m - \u001b[1mlang: None\u001b[0m\n"
     ]
    },
    {
     "name": "stdout",
     "output_type": "stream",
     "text": [
      "2504.09910v1\n"
     ]
    },
    {
     "name": "stderr",
     "output_type": "stream",
     "text": [
      "\u001b[32m2025-05-25 19:30:19.568\u001b[0m | \u001b[1mINFO    \u001b[0m | \u001b[36mmagic_pdf.libs.pdf_check\u001b[0m:\u001b[36mdetect_invalid_chars\u001b[0m:\u001b[36m67\u001b[0m - \u001b[1mcid_count: 0, text_len: 38058, cid_chars_radio: 0.0\u001b[0m\n",
      "\u001b[32m2025-05-25 19:30:19.693\u001b[0m | \u001b[1mINFO    \u001b[0m | \u001b[36mmagic_pdf.model.doc_analyze_by_custom_model\u001b[0m:\u001b[36mmay_batch_image_analyze\u001b[0m:\u001b[36m275\u001b[0m - \u001b[1mgpu_memory: 24 GB, batch_ratio: 16\u001b[0m\n",
      "Layout Predict: 100%|██████████| 13/13 [00:00<00:00, 16.72it/s]\n",
      "MFD Predict: 100%|██████████| 13/13 [00:00<00:00, 26.39it/s]\n",
      "MFR Predict: 100%|██████████| 203/203 [00:02<00:00, 96.73it/s]\n",
      "OCR-det Predict: 100%|██████████| 13/13 [00:02<00:00,  5.70it/s]\n",
      "Table Predict: 100%|██████████| 6/6 [00:00<00:00,  9.02it/s]\n",
      "Processing pages: 100%|██████████| 13/13 [00:02<00:00,  5.79it/s]\n",
      "\u001b[32m2025-05-25 19:30:29.587\u001b[0m | \u001b[1mINFO    \u001b[0m | \u001b[36mmagic_pdf.data.dataset\u001b[0m:\u001b[36m__init__\u001b[0m:\u001b[36m157\u001b[0m - \u001b[1mlang: None\u001b[0m\n"
     ]
    },
    {
     "name": "stdout",
     "output_type": "stream",
     "text": [
      "2504.10036v1\n"
     ]
    },
    {
     "name": "stderr",
     "output_type": "stream",
     "text": [
      "\u001b[32m2025-05-25 19:30:31.750\u001b[0m | \u001b[1mINFO    \u001b[0m | \u001b[36mmagic_pdf.libs.pdf_check\u001b[0m:\u001b[36mdetect_invalid_chars\u001b[0m:\u001b[36m67\u001b[0m - \u001b[1mcid_count: 1, text_len: 38125, cid_chars_radio: 2.6234324990817986e-05\u001b[0m\n",
      "\u001b[32m2025-05-25 19:30:31.988\u001b[0m | \u001b[1mINFO    \u001b[0m | \u001b[36mmagic_pdf.model.doc_analyze_by_custom_model\u001b[0m:\u001b[36mmay_batch_image_analyze\u001b[0m:\u001b[36m275\u001b[0m - \u001b[1mgpu_memory: 24 GB, batch_ratio: 16\u001b[0m\n",
      "Layout Predict: 100%|██████████| 7/7 [00:00<00:00, 10.62it/s]\n",
      "MFD Predict: 100%|██████████| 7/7 [00:00<00:00, 24.47it/s]\n",
      "MFR Predict: 100%|██████████| 56/56 [00:00<00:00, 70.58it/s]\n",
      "OCR-det Predict: 100%|██████████| 7/7 [00:01<00:00,  4.90it/s]\n",
      "Table Predict: 100%|██████████| 1/1 [00:00<00:00,  9.51it/s]\n",
      "Processing pages: 100%|██████████| 7/7 [00:01<00:00,  4.08it/s]\n",
      "\u001b[32m2025-05-25 19:30:38.033\u001b[0m | \u001b[1mINFO    \u001b[0m | \u001b[36mmagic_pdf.data.dataset\u001b[0m:\u001b[36m__init__\u001b[0m:\u001b[36m157\u001b[0m - \u001b[1mlang: None\u001b[0m\n"
     ]
    },
    {
     "name": "stdout",
     "output_type": "stream",
     "text": [
      "2504.10074v3\n"
     ]
    },
    {
     "name": "stderr",
     "output_type": "stream",
     "text": [
      "\u001b[32m2025-05-25 19:30:38.993\u001b[0m | \u001b[1mINFO    \u001b[0m | \u001b[36mmagic_pdf.libs.pdf_check\u001b[0m:\u001b[36mdetect_invalid_chars\u001b[0m:\u001b[36m67\u001b[0m - \u001b[1mcid_count: 1, text_len: 48007, cid_chars_radio: 2.0833333333333333e-05\u001b[0m\n",
      "\u001b[32m2025-05-25 19:30:39.176\u001b[0m | \u001b[1mINFO    \u001b[0m | \u001b[36mmagic_pdf.model.doc_analyze_by_custom_model\u001b[0m:\u001b[36mmay_batch_image_analyze\u001b[0m:\u001b[36m275\u001b[0m - \u001b[1mgpu_memory: 24 GB, batch_ratio: 16\u001b[0m\n",
      "Layout Predict: 100%|██████████| 9/9 [00:00<00:00, 15.92it/s]\n",
      "MFD Predict: 100%|██████████| 9/9 [00:00<00:00, 24.49it/s]\n",
      "MFR Predict: 100%|██████████| 143/143 [00:01<00:00, 119.65it/s]\n",
      "OCR-det Predict: 100%|██████████| 9/9 [00:02<00:00,  3.93it/s]\n",
      "Table Predict: 100%|██████████| 9/9 [00:02<00:00,  4.16it/s]\n",
      "Processing pages: 100%|██████████| 9/9 [00:02<00:00,  3.96it/s]\n",
      "OCR-rec Predict: 100%|██████████| 2/2 [00:00<00:00, 231.10it/s]\n",
      "\u001b[32m2025-05-25 19:30:49.317\u001b[0m | \u001b[1mINFO    \u001b[0m | \u001b[36mmagic_pdf.data.dataset\u001b[0m:\u001b[36m__init__\u001b[0m:\u001b[36m157\u001b[0m - \u001b[1mlang: None\u001b[0m\n"
     ]
    },
    {
     "name": "stdout",
     "output_type": "stream",
     "text": [
      "2504.10147v1\n"
     ]
    },
    {
     "name": "stderr",
     "output_type": "stream",
     "text": [
      "\u001b[32m2025-05-25 19:30:50.288\u001b[0m | \u001b[1mINFO    \u001b[0m | \u001b[36mmagic_pdf.libs.pdf_check\u001b[0m:\u001b[36mdetect_invalid_chars\u001b[0m:\u001b[36m67\u001b[0m - \u001b[1mcid_count: 0, text_len: 40534, cid_chars_radio: 0.0\u001b[0m\n",
      "\u001b[32m2025-05-25 19:30:50.658\u001b[0m | \u001b[1mINFO    \u001b[0m | \u001b[36mmagic_pdf.model.doc_analyze_by_custom_model\u001b[0m:\u001b[36mmay_batch_image_analyze\u001b[0m:\u001b[36m275\u001b[0m - \u001b[1mgpu_memory: 24 GB, batch_ratio: 16\u001b[0m\n",
      "Layout Predict: 100%|██████████| 25/25 [00:01<00:00, 17.67it/s]\n",
      "MFD Predict: 100%|██████████| 25/25 [00:00<00:00, 25.04it/s]\n",
      "MFR Predict: 100%|██████████| 40/40 [00:00<00:00, 72.29it/s]\n",
      "OCR-det Predict: 100%|██████████| 25/25 [00:02<00:00, 10.44it/s]\n",
      "Table Predict: 100%|██████████| 2/2 [00:00<00:00,  2.96it/s]\n",
      "Processing pages: 100%|██████████| 25/25 [00:02<00:00,  9.11it/s]\n",
      "\u001b[32m2025-05-25 19:31:00.739\u001b[0m | \u001b[1mINFO    \u001b[0m | \u001b[36mmagic_pdf.data.dataset\u001b[0m:\u001b[36m__init__\u001b[0m:\u001b[36m157\u001b[0m - \u001b[1mlang: None\u001b[0m\n"
     ]
    },
    {
     "name": "stdout",
     "output_type": "stream",
     "text": [
      "2504.10198v1\n"
     ]
    },
    {
     "name": "stderr",
     "output_type": "stream",
     "text": [
      "\u001b[32m2025-05-25 19:31:01.586\u001b[0m | \u001b[1mINFO    \u001b[0m | \u001b[36mmagic_pdf.libs.pdf_check\u001b[0m:\u001b[36mdetect_invalid_chars\u001b[0m:\u001b[36m67\u001b[0m - \u001b[1mcid_count: 0, text_len: 36301, cid_chars_radio: 0.0\u001b[0m\n",
      "\u001b[32m2025-05-25 19:31:02.060\u001b[0m | \u001b[1mINFO    \u001b[0m | \u001b[36mmagic_pdf.model.doc_analyze_by_custom_model\u001b[0m:\u001b[36mmay_batch_image_analyze\u001b[0m:\u001b[36m275\u001b[0m - \u001b[1mgpu_memory: 24 GB, batch_ratio: 16\u001b[0m\n",
      "Layout Predict: 100%|██████████| 24/24 [00:01<00:00, 16.88it/s]\n",
      "MFD Predict: 100%|██████████| 24/24 [00:00<00:00, 26.69it/s]\n",
      "MFR Predict: 100%|██████████| 215/215 [00:01<00:00, 124.49it/s]\n",
      "OCR-det Predict: 100%|██████████| 24/24 [00:04<00:00,  5.05it/s]\n",
      "Table Predict: 100%|██████████| 9/9 [00:03<00:00,  2.60it/s]\n",
      "Processing pages: 100%|██████████| 24/24 [00:03<00:00,  6.09it/s]\n",
      "OCR-rec Predict: 100%|██████████| 2/2 [00:00<00:00, 83.12it/s]\n",
      "\u001b[32m2025-05-25 19:31:20.443\u001b[0m | \u001b[1mINFO    \u001b[0m | \u001b[36mmagic_pdf.data.dataset\u001b[0m:\u001b[36m__init__\u001b[0m:\u001b[36m157\u001b[0m - \u001b[1mlang: None\u001b[0m\n"
     ]
    },
    {
     "name": "stdout",
     "output_type": "stream",
     "text": [
      "2504.10240v1\n"
     ]
    },
    {
     "name": "stderr",
     "output_type": "stream",
     "text": [
      "\u001b[32m2025-05-25 19:31:20.932\u001b[0m | \u001b[1mINFO    \u001b[0m | \u001b[36mmagic_pdf.libs.pdf_check\u001b[0m:\u001b[36mdetect_invalid_chars\u001b[0m:\u001b[36m67\u001b[0m - \u001b[1mcid_count: 1, text_len: 17303, cid_chars_radio: 5.781683626271971e-05\u001b[0m\n",
      "\u001b[32m2025-05-25 19:31:21.133\u001b[0m | \u001b[1mINFO    \u001b[0m | \u001b[36mmagic_pdf.model.doc_analyze_by_custom_model\u001b[0m:\u001b[36mmay_batch_image_analyze\u001b[0m:\u001b[36m275\u001b[0m - \u001b[1mgpu_memory: 24 GB, batch_ratio: 16\u001b[0m\n",
      "Layout Predict: 100%|██████████| 16/16 [00:00<00:00, 16.84it/s]\n",
      "MFD Predict: 100%|██████████| 16/16 [00:00<00:00, 24.72it/s]\n",
      "MFR Predict: 100%|██████████| 85/85 [00:01<00:00, 72.50it/s]\n",
      "OCR-det Predict: 100%|██████████| 16/16 [00:01<00:00,  9.86it/s]\n",
      "Table Predict: 100%|██████████| 5/5 [00:00<00:00, 11.41it/s]\n",
      "Processing pages: 100%|██████████| 16/16 [00:00<00:00, 16.77it/s]\n",
      "\u001b[32m2025-05-25 19:31:27.681\u001b[0m | \u001b[1mINFO    \u001b[0m | \u001b[36mmagic_pdf.data.dataset\u001b[0m:\u001b[36m__init__\u001b[0m:\u001b[36m157\u001b[0m - \u001b[1mlang: None\u001b[0m\n"
     ]
    },
    {
     "name": "stdout",
     "output_type": "stream",
     "text": [
      "2504.10258v1\n",
      "MuPDF error: syntax error: cannot find ExtGState resource 'GS5'\n",
      "\n",
      "MuPDF error: syntax error: cannot find ExtGState resource 'GS5'\n",
      "\n",
      "MuPDF error: syntax error: cannot find ExtGState resource 'GS5'\n",
      "\n",
      "MuPDF error: syntax error: cannot find ExtGState resource 'GS5'\n",
      "\n",
      "MuPDF error: syntax error: cannot find ExtGState resource 'GS5'\n",
      "\n",
      "MuPDF error: syntax error: cannot find ExtGState resource 'GS5'\n",
      "\n",
      "MuPDF error: syntax error: cannot find ExtGState resource 'GS5'\n",
      "\n",
      "MuPDF error: syntax error: cannot find ExtGState resource 'GS5'\n",
      "\n",
      "MuPDF error: syntax error: cannot find ExtGState resource 'GS5'\n",
      "\n",
      "MuPDF error: syntax error: cannot find ExtGState resource 'GS5'\n",
      "\n",
      "MuPDF error: syntax error: cannot find ExtGState resource 'GS5'\n",
      "\n",
      "MuPDF error: syntax error: cannot find ExtGState resource 'GS5'\n",
      "\n",
      "MuPDF error: syntax error: cannot find ExtGState resource 'GS5'\n",
      "\n",
      "MuPDF error: syntax error: cannot find ExtGState resource 'GS5'\n",
      "\n",
      "MuPDF error: syntax error: cannot find ExtGState resource 'GS5'\n",
      "\n",
      "MuPDF error: syntax error: cannot find ExtGState resource 'GS5'\n",
      "\n",
      "MuPDF error: syntax error: cannot find ExtGState resource 'GS5'\n",
      "\n",
      "MuPDF error: syntax error: cannot find ExtGState resource 'GS5'\n",
      "\n",
      "MuPDF error: syntax error: cannot find ExtGState resource 'GS5'\n",
      "\n",
      "MuPDF error: syntax error: cannot find ExtGState resource 'GS5'\n",
      "\n",
      "MuPDF error: syntax error: cannot find ExtGState resource 'GS5'\n",
      "\n",
      "MuPDF error: syntax error: cannot find ExtGState resource 'GS5'\n",
      "\n",
      "MuPDF error: syntax error: cannot find ExtGState resource 'GS5'\n",
      "\n",
      "MuPDF error: syntax error: cannot find ExtGState resource 'GS5'\n",
      "\n"
     ]
    },
    {
     "name": "stderr",
     "output_type": "stream",
     "text": [
      "\u001b[32m2025-05-25 19:31:28.792\u001b[0m | \u001b[1mINFO    \u001b[0m | \u001b[36mmagic_pdf.libs.pdf_check\u001b[0m:\u001b[36mdetect_invalid_chars\u001b[0m:\u001b[36m67\u001b[0m - \u001b[1mcid_count: 19, text_len: 36950, cid_chars_radio: 0.0005160659477958552\u001b[0m\n"
     ]
    },
    {
     "name": "stdout",
     "output_type": "stream",
     "text": [
      "MuPDF error: syntax error: cannot find ExtGState resource 'GS5'\n",
      "\n",
      "MuPDF error: syntax error: cannot find ExtGState resource 'GS5'\n",
      "\n",
      "MuPDF error: syntax error: cannot find ExtGState resource 'GS5'\n",
      "\n",
      "MuPDF error: syntax error: cannot find ExtGState resource 'GS5'\n",
      "\n",
      "MuPDF error: syntax error: cannot find ExtGState resource 'GS5'\n",
      "\n",
      "MuPDF error: syntax error: cannot find ExtGState resource 'GS5'\n",
      "\n",
      "MuPDF error: syntax error: cannot find ExtGState resource 'GS5'\n",
      "\n",
      "MuPDF error: syntax error: cannot find ExtGState resource 'GS5'\n",
      "\n",
      "MuPDF error: syntax error: cannot find ExtGState resource 'GS5'\n",
      "\n",
      "MuPDF error: syntax error: cannot find ExtGState resource 'GS5'\n",
      "\n",
      "MuPDF error: syntax error: cannot find ExtGState resource 'GS5'\n",
      "\n",
      "MuPDF error: syntax error: cannot find ExtGState resource 'GS5'\n",
      "\n"
     ]
    },
    {
     "name": "stderr",
     "output_type": "stream",
     "text": [
      "\u001b[32m2025-05-25 19:31:28.981\u001b[0m | \u001b[1mINFO    \u001b[0m | \u001b[36mmagic_pdf.model.doc_analyze_by_custom_model\u001b[0m:\u001b[36mmay_batch_image_analyze\u001b[0m:\u001b[36m275\u001b[0m - \u001b[1mgpu_memory: 24 GB, batch_ratio: 16\u001b[0m\n",
      "Layout Predict: 100%|██████████| 10/10 [00:00<00:00, 14.69it/s]\n",
      "MFD Predict: 100%|██████████| 10/10 [00:00<00:00, 24.54it/s]\n",
      "MFR Predict: 100%|██████████| 119/119 [00:02<00:00, 49.94it/s]\n",
      "OCR-det Predict: 100%|██████████| 10/10 [00:01<00:00,  6.27it/s]\n",
      "Table Predict: 100%|██████████| 6/6 [00:01<00:00,  4.82it/s]\n"
     ]
    },
    {
     "name": "stdout",
     "output_type": "stream",
     "text": [
      "MuPDF error: syntax error: cannot find ExtGState resource 'GS5'\n",
      "\n",
      "MuPDF error: syntax error: cannot find ExtGState resource 'GS5'\n",
      "\n",
      "MuPDF error: syntax error: cannot find ExtGState resource 'GS5'\n",
      "\n",
      "MuPDF error: syntax error: cannot find ExtGState resource 'GS5'\n",
      "\n",
      "MuPDF error: syntax error: cannot find ExtGState resource 'GS5'\n",
      "\n",
      "MuPDF error: syntax error: cannot find ExtGState resource 'GS5'\n",
      "\n",
      "MuPDF error: syntax error: cannot find ExtGState resource 'GS5'\n",
      "\n",
      "MuPDF error: syntax error: cannot find ExtGState resource 'GS5'\n",
      "\n",
      "MuPDF error: syntax error: cannot find ExtGState resource 'GS5'\n",
      "\n",
      "MuPDF error: syntax error: cannot find ExtGState resource 'GS5'\n",
      "\n",
      "MuPDF error: syntax error: cannot find ExtGState resource 'GS5'\n",
      "\n",
      "MuPDF error: syntax error: cannot find ExtGState resource 'GS5'\n",
      "\n"
     ]
    },
    {
     "name": "stderr",
     "output_type": "stream",
     "text": [
      "Processing pages:  50%|█████     | 5/10 [00:00<00:00,  6.91it/s]"
     ]
    },
    {
     "name": "stdout",
     "output_type": "stream",
     "text": [
      "MuPDF error: syntax error: cannot find ExtGState resource 'GS5'\n",
      "\n",
      "MuPDF error: syntax error: cannot find ExtGState resource 'GS5'\n",
      "\n",
      "MuPDF error: syntax error: cannot find ExtGState resource 'GS5'\n",
      "\n",
      "MuPDF error: syntax error: cannot find ExtGState resource 'GS5'\n",
      "\n",
      "MuPDF error: syntax error: cannot find ExtGState resource 'GS5'\n",
      "\n",
      "MuPDF error: syntax error: cannot find ExtGState resource 'GS5'\n",
      "\n",
      "MuPDF error: syntax error: cannot find ExtGState resource 'GS5'\n",
      "\n",
      "MuPDF error: syntax error: cannot find ExtGState resource 'GS5'\n",
      "\n",
      "MuPDF error: syntax error: cannot find ExtGState resource 'GS5'\n",
      "\n",
      "MuPDF error: syntax error: cannot find ExtGState resource 'GS5'\n",
      "\n",
      "MuPDF error: syntax error: cannot find ExtGState resource 'GS5'\n",
      "\n",
      "MuPDF error: syntax error: cannot find ExtGState resource 'GS5'\n",
      "\n",
      "MuPDF error: syntax error: cannot find ExtGState resource 'GS5'\n",
      "\n",
      "MuPDF error: syntax error: cannot find ExtGState resource 'GS5'\n",
      "\n",
      "MuPDF error: syntax error: cannot find ExtGState resource 'GS5'\n",
      "\n",
      "MuPDF error: syntax error: cannot find ExtGState resource 'GS5'\n",
      "\n",
      "MuPDF error: syntax error: cannot find ExtGState resource 'GS5'\n",
      "\n",
      "MuPDF error: syntax error: cannot find ExtGState resource 'GS5'\n",
      "\n",
      "MuPDF error: syntax error: cannot find ExtGState resource 'GS5'\n",
      "\n",
      "MuPDF error: syntax error: cannot find ExtGState resource 'GS5'\n",
      "\n",
      "MuPDF error: syntax error: cannot find ExtGState resource 'GS5'\n",
      "\n",
      "MuPDF error: syntax error: cannot find ExtGState resource 'GS5'\n",
      "\n",
      "MuPDF error: syntax error: cannot find ExtGState resource 'GS5'\n",
      "\n",
      "MuPDF error: syntax error: cannot find ExtGState resource 'GS5'\n",
      "\n",
      "MuPDF error: syntax error: cannot find ExtGState resource 'GS5'\n",
      "\n",
      "MuPDF error: syntax error: cannot find ExtGState resource 'GS5'\n",
      "\n",
      "MuPDF error: syntax error: cannot find ExtGState resource 'GS5'\n",
      "\n",
      "MuPDF error: syntax error: cannot find ExtGState resource 'GS5'\n",
      "\n",
      "MuPDF error: syntax error: cannot find ExtGState resource 'GS5'\n",
      "\n",
      "MuPDF error: syntax error: cannot find ExtGState resource 'GS5'\n",
      "\n",
      "MuPDF error: syntax error: cannot find ExtGState resource 'GS5'\n",
      "\n",
      "MuPDF error: syntax error: cannot find ExtGState resource 'GS5'\n",
      "\n",
      "MuPDF error: syntax error: cannot find ExtGState resource 'GS5'\n",
      "\n",
      "MuPDF error: syntax error: cannot find ExtGState resource 'GS5'\n",
      "\n",
      "MuPDF error: syntax error: cannot find ExtGState resource 'GS5'\n",
      "\n",
      "MuPDF error: syntax error: cannot find ExtGState resource 'GS5'\n",
      "\n"
     ]
    },
    {
     "name": "stderr",
     "output_type": "stream",
     "text": [
      "Processing pages: 100%|██████████| 10/10 [00:01<00:00,  6.34it/s]\n",
      "\u001b[32m2025-05-25 19:31:37.905\u001b[0m | \u001b[1mINFO    \u001b[0m | \u001b[36mmagic_pdf.data.dataset\u001b[0m:\u001b[36m__init__\u001b[0m:\u001b[36m157\u001b[0m - \u001b[1mlang: None\u001b[0m\n"
     ]
    },
    {
     "name": "stdout",
     "output_type": "stream",
     "text": [
      "2504.10309v1\n"
     ]
    },
    {
     "name": "stderr",
     "output_type": "stream",
     "text": [
      "\u001b[32m2025-05-25 19:31:38.491\u001b[0m | \u001b[1mINFO    \u001b[0m | \u001b[36mmagic_pdf.libs.pdf_check\u001b[0m:\u001b[36mdetect_invalid_chars\u001b[0m:\u001b[36m67\u001b[0m - \u001b[1mcid_count: 1, text_len: 28718, cid_chars_radio: 3.482985615269409e-05\u001b[0m\n",
      "\u001b[32m2025-05-25 19:31:38.580\u001b[0m | \u001b[1mINFO    \u001b[0m | \u001b[36mmagic_pdf.model.doc_analyze_by_custom_model\u001b[0m:\u001b[36mmay_batch_image_analyze\u001b[0m:\u001b[36m275\u001b[0m - \u001b[1mgpu_memory: 24 GB, batch_ratio: 16\u001b[0m\n",
      "Layout Predict: 100%|██████████| 6/6 [00:00<00:00, 10.94it/s]\n",
      "MFD Predict: 100%|██████████| 6/6 [00:00<00:00, 24.05it/s]\n",
      "MFR Predict: 100%|██████████| 26/26 [00:00<00:00, 49.87it/s]\n",
      "OCR-det Predict: 100%|██████████| 6/6 [00:00<00:00,  6.08it/s]\n",
      "Table Predict: 100%|██████████| 3/3 [00:00<00:00,  9.26it/s]\n",
      "Processing pages: 100%|██████████| 6/6 [00:01<00:00,  5.04it/s]\n",
      "\u001b[32m2025-05-25 19:31:43.211\u001b[0m | \u001b[1mINFO    \u001b[0m | \u001b[36mmagic_pdf.data.dataset\u001b[0m:\u001b[36m__init__\u001b[0m:\u001b[36m157\u001b[0m - \u001b[1mlang: None\u001b[0m\n"
     ]
    },
    {
     "name": "stdout",
     "output_type": "stream",
     "text": [
      "2504.10320v1\n"
     ]
    },
    {
     "name": "stderr",
     "output_type": "stream",
     "text": [
      "\u001b[32m2025-05-25 19:31:45.571\u001b[0m | \u001b[1mINFO    \u001b[0m | \u001b[36mmagic_pdf.libs.pdf_check\u001b[0m:\u001b[36mdetect_invalid_chars\u001b[0m:\u001b[36m67\u001b[0m - \u001b[1mcid_count: 0, text_len: 66594, cid_chars_radio: 0.0\u001b[0m\n",
      "\u001b[32m2025-05-25 19:31:45.846\u001b[0m | \u001b[1mINFO    \u001b[0m | \u001b[36mmagic_pdf.model.doc_analyze_by_custom_model\u001b[0m:\u001b[36mmay_batch_image_analyze\u001b[0m:\u001b[36m275\u001b[0m - \u001b[1mgpu_memory: 24 GB, batch_ratio: 16\u001b[0m\n",
      "Layout Predict: 100%|██████████| 11/11 [00:00<00:00, 14.41it/s]\n",
      "MFD Predict: 100%|██████████| 11/11 [00:00<00:00, 26.48it/s]\n",
      "MFR Predict: 100%|██████████| 107/107 [00:02<00:00, 40.24it/s]\n",
      "OCR-det Predict: 100%|██████████| 11/11 [00:01<00:00,  6.68it/s]\n",
      "Table Predict: 100%|██████████| 4/4 [00:02<00:00,  1.80it/s]\n",
      "Processing pages: 100%|██████████| 11/11 [00:03<00:00,  3.53it/s]\n",
      "\u001b[32m2025-05-25 19:31:59.204\u001b[0m | \u001b[1mINFO    \u001b[0m | \u001b[36mmagic_pdf.data.dataset\u001b[0m:\u001b[36m__init__\u001b[0m:\u001b[36m157\u001b[0m - \u001b[1mlang: None\u001b[0m\n"
     ]
    },
    {
     "name": "stdout",
     "output_type": "stream",
     "text": [
      "2504.10369v1\n"
     ]
    },
    {
     "name": "stderr",
     "output_type": "stream",
     "text": [
      "\u001b[32m2025-05-25 19:31:59.973\u001b[0m | \u001b[1mINFO    \u001b[0m | \u001b[36mmagic_pdf.libs.pdf_check\u001b[0m:\u001b[36mdetect_invalid_chars\u001b[0m:\u001b[36m67\u001b[0m - \u001b[1mcid_count: 1, text_len: 34398, cid_chars_radio: 2.9077374894594517e-05\u001b[0m\n",
      "\u001b[32m2025-05-25 19:32:00.181\u001b[0m | \u001b[1mINFO    \u001b[0m | \u001b[36mmagic_pdf.model.doc_analyze_by_custom_model\u001b[0m:\u001b[36mmay_batch_image_analyze\u001b[0m:\u001b[36m275\u001b[0m - \u001b[1mgpu_memory: 24 GB, batch_ratio: 16\u001b[0m\n",
      "Layout Predict: 100%|██████████| 16/16 [00:01<00:00, 14.77it/s]\n",
      "MFD Predict: 100%|██████████| 16/16 [00:00<00:00, 24.72it/s]\n",
      "MFR Predict: 100%|██████████| 115/115 [00:02<00:00, 50.20it/s]\n",
      "OCR-det Predict: 100%|██████████| 16/16 [00:02<00:00,  5.69it/s]\n",
      "Table Predict: 100%|██████████| 17/17 [00:06<00:00,  2.58it/s]\n",
      "Processing pages: 100%|██████████| 16/16 [00:02<00:00,  5.81it/s]\n",
      "\u001b[32m2025-05-25 19:32:17.779\u001b[0m | \u001b[1mINFO    \u001b[0m | \u001b[36mmagic_pdf.data.dataset\u001b[0m:\u001b[36m__init__\u001b[0m:\u001b[36m157\u001b[0m - \u001b[1mlang: None\u001b[0m\n"
     ]
    },
    {
     "name": "stdout",
     "output_type": "stream",
     "text": [
      "2504.10499v1\n"
     ]
    },
    {
     "name": "stderr",
     "output_type": "stream",
     "text": [
      "\u001b[32m2025-05-25 19:32:19.076\u001b[0m | \u001b[1mINFO    \u001b[0m | \u001b[36mmagic_pdf.libs.pdf_check\u001b[0m:\u001b[36mdetect_invalid_chars\u001b[0m:\u001b[36m67\u001b[0m - \u001b[1mcid_count: 0, text_len: 45736, cid_chars_radio: 0.0\u001b[0m\n",
      "\u001b[32m2025-05-25 19:32:19.507\u001b[0m | \u001b[1mINFO    \u001b[0m | \u001b[36mmagic_pdf.model.doc_analyze_by_custom_model\u001b[0m:\u001b[36mmay_batch_image_analyze\u001b[0m:\u001b[36m275\u001b[0m - \u001b[1mgpu_memory: 24 GB, batch_ratio: 16\u001b[0m\n",
      "Layout Predict: 100%|██████████| 35/35 [00:02<00:00, 16.91it/s]\n",
      "MFD Predict: 100%|██████████| 35/35 [00:01<00:00, 24.94it/s]\n",
      "MFR Predict: 100%|██████████| 55/55 [00:01<00:00, 53.17it/s]\n",
      "OCR-det Predict: 100%|██████████| 35/35 [00:03<00:00,  9.62it/s]\n",
      "Table Predict: 100%|██████████| 5/5 [00:00<00:00,  5.18it/s]\n",
      "Processing pages: 100%|██████████| 35/35 [00:03<00:00,  8.88it/s]\n",
      "\u001b[32m2025-05-25 19:32:34.313\u001b[0m | \u001b[1mINFO    \u001b[0m | \u001b[36mmagic_pdf.data.dataset\u001b[0m:\u001b[36m__init__\u001b[0m:\u001b[36m157\u001b[0m - \u001b[1mlang: None\u001b[0m\n"
     ]
    },
    {
     "name": "stdout",
     "output_type": "stream",
     "text": [
      "2504.10508v1\n"
     ]
    },
    {
     "name": "stderr",
     "output_type": "stream",
     "text": [
      "\u001b[32m2025-05-25 19:32:35.193\u001b[0m | \u001b[1mINFO    \u001b[0m | \u001b[36mmagic_pdf.libs.pdf_check\u001b[0m:\u001b[36mdetect_invalid_chars\u001b[0m:\u001b[36m67\u001b[0m - \u001b[1mcid_count: 1, text_len: 31232, cid_chars_radio: 3.2025620496397115e-05\u001b[0m\n",
      "\u001b[32m2025-05-25 19:32:35.655\u001b[0m | \u001b[1mINFO    \u001b[0m | \u001b[36mmagic_pdf.model.doc_analyze_by_custom_model\u001b[0m:\u001b[36mmay_batch_image_analyze\u001b[0m:\u001b[36m275\u001b[0m - \u001b[1mgpu_memory: 24 GB, batch_ratio: 16\u001b[0m\n",
      "Layout Predict: 100%|██████████| 39/39 [00:02<00:00, 17.87it/s]\n",
      "MFD Predict: 100%|██████████| 39/39 [00:01<00:00, 24.62it/s]\n",
      "MFR Predict: 100%|██████████| 320/320 [00:01<00:00, 198.67it/s]\n",
      "OCR-det Predict: 100%|██████████| 39/39 [00:04<00:00,  8.11it/s]\n",
      "Table Predict: 100%|██████████| 24/24 [00:15<00:00,  1.59it/s]\n",
      "Processing pages: 100%|██████████| 39/39 [00:04<00:00,  7.95it/s]\n",
      "OCR-rec Predict: 100%|██████████| 156/156 [00:00<00:00, 231.03it/s]\n",
      "\u001b[32m2025-05-25 19:33:08.403\u001b[0m | \u001b[1mINFO    \u001b[0m | \u001b[36mmagic_pdf.data.dataset\u001b[0m:\u001b[36m__init__\u001b[0m:\u001b[36m157\u001b[0m - \u001b[1mlang: None\u001b[0m\n"
     ]
    },
    {
     "name": "stdout",
     "output_type": "stream",
     "text": [
      "2504.10529v1\n"
     ]
    },
    {
     "name": "stderr",
     "output_type": "stream",
     "text": [
      "\u001b[32m2025-05-25 19:33:09.132\u001b[0m | \u001b[1mINFO    \u001b[0m | \u001b[36mmagic_pdf.libs.pdf_check\u001b[0m:\u001b[36mdetect_invalid_chars\u001b[0m:\u001b[36m67\u001b[0m - \u001b[1mcid_count: 9, text_len: 40564, cid_chars_radio: 0.00022222770932615621\u001b[0m\n",
      "\u001b[32m2025-05-25 19:33:09.268\u001b[0m | \u001b[1mINFO    \u001b[0m | \u001b[36mmagic_pdf.model.doc_analyze_by_custom_model\u001b[0m:\u001b[36mmay_batch_image_analyze\u001b[0m:\u001b[36m275\u001b[0m - \u001b[1mgpu_memory: 24 GB, batch_ratio: 16\u001b[0m\n",
      "Layout Predict: 100%|██████████| 10/10 [00:00<00:00, 16.37it/s]\n",
      "MFD Predict: 100%|██████████| 10/10 [00:00<00:00, 26.28it/s]\n",
      "MFR Predict: 100%|██████████| 262/262 [00:02<00:00, 106.55it/s]\n",
      "OCR-det Predict: 100%|██████████| 10/10 [00:01<00:00,  5.30it/s]\n",
      "Table Predict: 100%|██████████| 3/3 [00:02<00:00,  1.07it/s]\n",
      "Processing pages: 100%|██████████| 10/10 [00:01<00:00,  5.66it/s]\n",
      "\u001b[32m2025-05-25 19:33:20.296\u001b[0m | \u001b[1mINFO    \u001b[0m | \u001b[36mmagic_pdf.data.dataset\u001b[0m:\u001b[36m__init__\u001b[0m:\u001b[36m157\u001b[0m - \u001b[1mlang: None\u001b[0m\n"
     ]
    },
    {
     "name": "stdout",
     "output_type": "stream",
     "text": [
      "2504.10829v1\n"
     ]
    },
    {
     "name": "stderr",
     "output_type": "stream",
     "text": [
      "\u001b[32m2025-05-25 19:33:21.180\u001b[0m | \u001b[1mINFO    \u001b[0m | \u001b[36mmagic_pdf.libs.pdf_check\u001b[0m:\u001b[36mdetect_invalid_chars\u001b[0m:\u001b[36m67\u001b[0m - \u001b[1mcid_count: 51, text_len: 41917, cid_chars_radio: 0.0012269643458595967\u001b[0m\n",
      "\u001b[32m2025-05-25 19:33:21.500\u001b[0m | \u001b[1mINFO    \u001b[0m | \u001b[36mmagic_pdf.model.doc_analyze_by_custom_model\u001b[0m:\u001b[36mmay_batch_image_analyze\u001b[0m:\u001b[36m275\u001b[0m - \u001b[1mgpu_memory: 24 GB, batch_ratio: 16\u001b[0m\n",
      "Layout Predict: 100%|██████████| 11/11 [00:00<00:00, 15.40it/s]\n",
      "MFD Predict: 100%|██████████| 11/11 [00:00<00:00, 24.59it/s]\n",
      "MFR Predict: 100%|██████████| 106/106 [00:01<00:00, 70.48it/s]\n",
      "OCR-det Predict: 100%|██████████| 11/11 [00:01<00:00,  5.76it/s]\n",
      "Table Predict: 100%|██████████| 8/8 [00:02<00:00,  3.24it/s]\n",
      "Processing pages: 100%|██████████| 11/11 [00:01<00:00,  5.74it/s]\n",
      "OCR-rec Predict: 100%|██████████| 1/1 [00:00<00:00, 153.66it/s]\n",
      "\u001b[32m2025-05-25 19:33:31.659\u001b[0m | \u001b[1mINFO    \u001b[0m | \u001b[36mmagic_pdf.data.dataset\u001b[0m:\u001b[36m__init__\u001b[0m:\u001b[36m157\u001b[0m - \u001b[1mlang: None\u001b[0m\n"
     ]
    },
    {
     "name": "stdout",
     "output_type": "stream",
     "text": [
      "2504.10861v1\n"
     ]
    },
    {
     "name": "stderr",
     "output_type": "stream",
     "text": [
      "\u001b[32m2025-05-25 19:33:32.426\u001b[0m | \u001b[1mINFO    \u001b[0m | \u001b[36mmagic_pdf.libs.pdf_check\u001b[0m:\u001b[36mdetect_invalid_chars\u001b[0m:\u001b[36m67\u001b[0m - \u001b[1mcid_count: 0, text_len: 38387, cid_chars_radio: 0.0\u001b[0m\n",
      "\u001b[32m2025-05-25 19:33:32.680\u001b[0m | \u001b[1mINFO    \u001b[0m | \u001b[36mmagic_pdf.model.doc_analyze_by_custom_model\u001b[0m:\u001b[36mmay_batch_image_analyze\u001b[0m:\u001b[36m275\u001b[0m - \u001b[1mgpu_memory: 24 GB, batch_ratio: 16\u001b[0m\n",
      "Layout Predict: 100%|██████████| 11/11 [00:00<00:00, 16.06it/s]\n",
      "MFD Predict: 100%|██████████| 11/11 [00:00<00:00, 26.36it/s]\n",
      "MFR Predict: 100%|██████████| 25/25 [00:00<00:00, 70.65it/s]\n",
      "OCR-det Predict: 100%|██████████| 11/11 [00:02<00:00,  4.95it/s]\n",
      "Table Predict: 100%|██████████| 5/5 [00:00<00:00,  5.35it/s]\n",
      "Processing pages: 100%|██████████| 11/11 [00:01<00:00,  6.10it/s]\n",
      "OCR-rec Predict: 100%|██████████| 1/1 [00:00<00:00, 124.89it/s]\n",
      "\u001b[32m2025-05-25 19:33:40.298\u001b[0m | \u001b[1mINFO    \u001b[0m | \u001b[36mmagic_pdf.data.dataset\u001b[0m:\u001b[36m__init__\u001b[0m:\u001b[36m157\u001b[0m - \u001b[1mlang: None\u001b[0m\n"
     ]
    },
    {
     "name": "stdout",
     "output_type": "stream",
     "text": [
      "2504.10893v1\n"
     ]
    },
    {
     "name": "stderr",
     "output_type": "stream",
     "text": [
      "\u001b[32m2025-05-25 19:33:41.011\u001b[0m | \u001b[1mINFO    \u001b[0m | \u001b[36mmagic_pdf.libs.pdf_check\u001b[0m:\u001b[36mdetect_invalid_chars\u001b[0m:\u001b[36m67\u001b[0m - \u001b[1mcid_count: 4, text_len: 37864, cid_chars_radio: 0.00010572221488040175\u001b[0m\n",
      "\u001b[32m2025-05-25 19:33:41.245\u001b[0m | \u001b[1mINFO    \u001b[0m | \u001b[36mmagic_pdf.model.doc_analyze_by_custom_model\u001b[0m:\u001b[36mmay_batch_image_analyze\u001b[0m:\u001b[36m275\u001b[0m - \u001b[1mgpu_memory: 24 GB, batch_ratio: 16\u001b[0m\n",
      "Layout Predict: 100%|██████████| 17/17 [00:01<00:00, 16.95it/s]\n",
      "MFD Predict: 100%|██████████| 17/17 [00:00<00:00, 26.51it/s]\n",
      "MFR Predict: 100%|██████████| 123/123 [00:03<00:00, 36.04it/s]\n",
      "OCR-det Predict: 100%|██████████| 17/17 [00:03<00:00,  5.65it/s]\n",
      "Table Predict: 100%|██████████| 7/7 [00:02<00:00,  3.34it/s]\n",
      "Processing pages: 100%|██████████| 17/17 [00:02<00:00,  6.35it/s]\n",
      "\u001b[32m2025-05-25 19:33:55.501\u001b[0m | \u001b[1mINFO    \u001b[0m | \u001b[36mmagic_pdf.data.dataset\u001b[0m:\u001b[36m__init__\u001b[0m:\u001b[36m157\u001b[0m - \u001b[1mlang: None\u001b[0m\n"
     ]
    },
    {
     "name": "stdout",
     "output_type": "stream",
     "text": [
      "2504.10982v5\n"
     ]
    },
    {
     "name": "stderr",
     "output_type": "stream",
     "text": [
      "\u001b[32m2025-05-25 19:33:57.490\u001b[0m | \u001b[1mINFO    \u001b[0m | \u001b[36mmagic_pdf.libs.pdf_check\u001b[0m:\u001b[36mdetect_invalid_chars\u001b[0m:\u001b[36m67\u001b[0m - \u001b[1mcid_count: 0, text_len: 35320, cid_chars_radio: 0.0\u001b[0m\n",
      "\u001b[32m2025-05-25 19:33:57.623\u001b[0m | \u001b[1mINFO    \u001b[0m | \u001b[36mmagic_pdf.model.doc_analyze_by_custom_model\u001b[0m:\u001b[36mmay_batch_image_analyze\u001b[0m:\u001b[36m275\u001b[0m - \u001b[1mgpu_memory: 24 GB, batch_ratio: 16\u001b[0m\n",
      "Layout Predict: 100%|██████████| 10/10 [00:00<00:00, 13.53it/s]\n",
      "MFD Predict: 100%|██████████| 10/10 [00:00<00:00, 24.66it/s]\n",
      "MFR Predict: 100%|██████████| 52/52 [00:00<00:00, 97.83it/s]\n",
      "OCR-det Predict: 100%|██████████| 10/10 [00:00<00:00, 10.01it/s]\n",
      "Table Predict: 100%|██████████| 4/4 [00:00<00:00,  4.95it/s]\n",
      "Processing pages: 100%|██████████| 10/10 [00:00<00:00, 10.31it/s]\n",
      "\u001b[32m2025-05-25 19:34:02.805\u001b[0m | \u001b[1mINFO    \u001b[0m | \u001b[36mmagic_pdf.data.dataset\u001b[0m:\u001b[36m__init__\u001b[0m:\u001b[36m157\u001b[0m - \u001b[1mlang: None\u001b[0m\n"
     ]
    },
    {
     "name": "stdout",
     "output_type": "stream",
     "text": [
      "2504.11001v1\n"
     ]
    },
    {
     "name": "stderr",
     "output_type": "stream",
     "text": [
      "\u001b[32m2025-05-25 19:34:03.432\u001b[0m | \u001b[1mINFO    \u001b[0m | \u001b[36mmagic_pdf.libs.pdf_check\u001b[0m:\u001b[36mdetect_invalid_chars\u001b[0m:\u001b[36m67\u001b[0m - \u001b[1mcid_count: 0, text_len: 47231, cid_chars_radio: 0.0\u001b[0m\n",
      "\u001b[32m2025-05-25 19:34:03.519\u001b[0m | \u001b[1mINFO    \u001b[0m | \u001b[36mmagic_pdf.model.doc_analyze_by_custom_model\u001b[0m:\u001b[36mmay_batch_image_analyze\u001b[0m:\u001b[36m275\u001b[0m - \u001b[1mgpu_memory: 24 GB, batch_ratio: 16\u001b[0m\n",
      "Layout Predict: 100%|██████████| 10/10 [00:00<00:00, 15.41it/s]\n",
      "MFD Predict: 100%|██████████| 10/10 [00:00<00:00, 24.43it/s]\n",
      "MFR Predict: 100%|██████████| 16/16 [00:00<00:00, 95.11it/s]\n",
      "OCR-det Predict: 100%|██████████| 10/10 [00:02<00:00,  4.34it/s]\n",
      "Table Predict: 0it [00:00, ?it/s]\n",
      "Processing pages: 100%|██████████| 10/10 [00:02<00:00,  4.82it/s]\n",
      "\u001b[32m2025-05-25 19:34:10.286\u001b[0m | \u001b[1mINFO    \u001b[0m | \u001b[36mmagic_pdf.data.dataset\u001b[0m:\u001b[36m__init__\u001b[0m:\u001b[36m157\u001b[0m - \u001b[1mlang: None\u001b[0m\n"
     ]
    },
    {
     "name": "stdout",
     "output_type": "stream",
     "text": [
      "2504.11197v2\n"
     ]
    },
    {
     "name": "stderr",
     "output_type": "stream",
     "text": [
      "\u001b[32m2025-05-25 19:34:11.601\u001b[0m | \u001b[1mINFO    \u001b[0m | \u001b[36mmagic_pdf.libs.pdf_check\u001b[0m:\u001b[36mdetect_invalid_chars\u001b[0m:\u001b[36m67\u001b[0m - \u001b[1mcid_count: 17, text_len: 61676, cid_chars_radio: 0.00027617129118201315\u001b[0m\n",
      "\u001b[32m2025-05-25 19:34:11.830\u001b[0m | \u001b[1mINFO    \u001b[0m | \u001b[36mmagic_pdf.model.doc_analyze_by_custom_model\u001b[0m:\u001b[36mmay_batch_image_analyze\u001b[0m:\u001b[36m275\u001b[0m - \u001b[1mgpu_memory: 24 GB, batch_ratio: 16\u001b[0m\n",
      "Layout Predict: 100%|██████████| 13/13 [00:00<00:00, 15.28it/s]\n",
      "MFD Predict: 100%|██████████| 13/13 [00:00<00:00, 24.39it/s]\n",
      "MFR Predict: 100%|██████████| 474/474 [14:40<00:00,  1.86s/it] \n",
      "OCR-det Predict: 100%|██████████| 13/13 [00:02<00:00,  4.42it/s]\n",
      "Table Predict: 100%|██████████| 2/2 [00:00<00:00,  5.52it/s]\n",
      "Processing pages: 100%|██████████| 13/13 [00:04<00:00,  2.91it/s]\n",
      "\u001b[32m2025-05-25 19:49:04.617\u001b[0m | \u001b[1mINFO    \u001b[0m | \u001b[36mmagic_pdf.data.dataset\u001b[0m:\u001b[36m__init__\u001b[0m:\u001b[36m157\u001b[0m - \u001b[1mlang: None\u001b[0m\n"
     ]
    },
    {
     "name": "stdout",
     "output_type": "stream",
     "text": [
      "2504.11243v1\n"
     ]
    },
    {
     "name": "stderr",
     "output_type": "stream",
     "text": [
      "\u001b[32m2025-05-25 19:49:05.183\u001b[0m | \u001b[1mINFO    \u001b[0m | \u001b[36mmagic_pdf.libs.pdf_check\u001b[0m:\u001b[36mdetect_invalid_chars\u001b[0m:\u001b[36m67\u001b[0m - \u001b[1mcid_count: 0, text_len: 36774, cid_chars_radio: 0.0\u001b[0m\n",
      "\u001b[32m2025-05-25 19:49:05.359\u001b[0m | \u001b[1mINFO    \u001b[0m | \u001b[36mmagic_pdf.model.doc_analyze_by_custom_model\u001b[0m:\u001b[36mmay_batch_image_analyze\u001b[0m:\u001b[36m275\u001b[0m - \u001b[1mgpu_memory: 24 GB, batch_ratio: 16\u001b[0m\n",
      "Layout Predict: 100%|██████████| 9/9 [00:00<00:00, 14.39it/s]\n",
      "MFD Predict: 100%|██████████| 9/9 [00:00<00:00, 24.66it/s]\n",
      "MFR Predict: 100%|██████████| 1/1 [00:00<00:00, 12.63it/s]\n",
      "OCR-det Predict: 100%|██████████| 9/9 [00:01<00:00,  6.90it/s]\n",
      "Table Predict: 100%|██████████| 3/3 [00:00<00:00,  4.49it/s]\n",
      "Processing pages: 100%|██████████| 9/9 [00:01<00:00,  5.99it/s]\n",
      "\u001b[32m2025-05-25 19:49:10.714\u001b[0m | \u001b[1mINFO    \u001b[0m | \u001b[36mmagic_pdf.data.dataset\u001b[0m:\u001b[36m__init__\u001b[0m:\u001b[36m157\u001b[0m - \u001b[1mlang: None\u001b[0m\n"
     ]
    },
    {
     "name": "stdout",
     "output_type": "stream",
     "text": [
      "2504.11502v1\n"
     ]
    },
    {
     "name": "stderr",
     "output_type": "stream",
     "text": [
      "\u001b[32m2025-05-25 19:49:11.334\u001b[0m | \u001b[1mINFO    \u001b[0m | \u001b[36mmagic_pdf.libs.pdf_check\u001b[0m:\u001b[36mdetect_invalid_chars\u001b[0m:\u001b[36m67\u001b[0m - \u001b[1mcid_count: 0, text_len: 38783, cid_chars_radio: 0.0\u001b[0m\n",
      "\u001b[32m2025-05-25 19:49:11.473\u001b[0m | \u001b[1mINFO    \u001b[0m | \u001b[36mmagic_pdf.model.doc_analyze_by_custom_model\u001b[0m:\u001b[36mmay_batch_image_analyze\u001b[0m:\u001b[36m275\u001b[0m - \u001b[1mgpu_memory: 24 GB, batch_ratio: 16\u001b[0m\n",
      "Layout Predict: 100%|██████████| 7/7 [00:00<00:00, 13.36it/s]\n",
      "MFD Predict: 100%|██████████| 7/7 [00:00<00:00, 24.05it/s]\n",
      "MFR Predict: 100%|██████████| 25/25 [00:00<00:00, 119.27it/s]\n",
      "OCR-det Predict: 100%|██████████| 7/7 [00:01<00:00,  5.31it/s]\n",
      "Table Predict: 100%|██████████| 3/3 [00:01<00:00,  2.03it/s]\n",
      "Processing pages: 100%|██████████| 7/7 [00:01<00:00,  4.33it/s]\n",
      "\u001b[32m2025-05-25 19:49:17.763\u001b[0m | \u001b[1mINFO    \u001b[0m | \u001b[36mmagic_pdf.data.dataset\u001b[0m:\u001b[36m__init__\u001b[0m:\u001b[36m157\u001b[0m - \u001b[1mlang: None\u001b[0m\n"
     ]
    },
    {
     "name": "stdout",
     "output_type": "stream",
     "text": [
      "2504.11505v1\n"
     ]
    },
    {
     "name": "stderr",
     "output_type": "stream",
     "text": [
      "\u001b[32m2025-05-25 19:49:18.565\u001b[0m | \u001b[1mINFO    \u001b[0m | \u001b[36mmagic_pdf.libs.pdf_check\u001b[0m:\u001b[36mdetect_invalid_chars\u001b[0m:\u001b[36m67\u001b[0m - \u001b[1mcid_count: 0, text_len: 59875, cid_chars_radio: 0.0\u001b[0m\n",
      "\u001b[32m2025-05-25 19:49:18.723\u001b[0m | \u001b[1mINFO    \u001b[0m | \u001b[36mmagic_pdf.model.doc_analyze_by_custom_model\u001b[0m:\u001b[36mmay_batch_image_analyze\u001b[0m:\u001b[36m275\u001b[0m - \u001b[1mgpu_memory: 24 GB, batch_ratio: 16\u001b[0m\n",
      "Layout Predict: 100%|██████████| 11/11 [00:00<00:00, 15.41it/s]\n",
      "MFD Predict: 100%|██████████| 11/11 [00:00<00:00, 24.74it/s]\n",
      "MFR Predict: 100%|██████████| 26/26 [00:00<00:00, 149.53it/s]\n",
      "OCR-det Predict: 100%|██████████| 11/11 [00:02<00:00,  5.05it/s]\n",
      "Table Predict: 100%|██████████| 7/7 [00:00<00:00,  7.96it/s]\n",
      "Processing pages: 100%|██████████| 11/11 [00:02<00:00,  4.11it/s]\n",
      "\u001b[32m2025-05-25 19:49:27.130\u001b[0m | \u001b[1mINFO    \u001b[0m | \u001b[36mmagic_pdf.data.dataset\u001b[0m:\u001b[36m__init__\u001b[0m:\u001b[36m157\u001b[0m - \u001b[1mlang: None\u001b[0m\n"
     ]
    },
    {
     "name": "stdout",
     "output_type": "stream",
     "text": [
      "2504.11514v1\n"
     ]
    },
    {
     "name": "stderr",
     "output_type": "stream",
     "text": [
      "\u001b[32m2025-05-25 19:49:28.243\u001b[0m | \u001b[1mINFO    \u001b[0m | \u001b[36mmagic_pdf.libs.pdf_check\u001b[0m:\u001b[36mdetect_invalid_chars\u001b[0m:\u001b[36m67\u001b[0m - \u001b[1mcid_count: 2, text_len: 40680, cid_chars_radio: 4.91787154519524e-05\u001b[0m\n",
      "\u001b[32m2025-05-25 19:49:28.440\u001b[0m | \u001b[1mINFO    \u001b[0m | \u001b[36mmagic_pdf.model.doc_analyze_by_custom_model\u001b[0m:\u001b[36mmay_batch_image_analyze\u001b[0m:\u001b[36m275\u001b[0m - \u001b[1mgpu_memory: 24 GB, batch_ratio: 16\u001b[0m\n",
      "Layout Predict: 100%|██████████| 16/16 [00:01<00:00, 15.38it/s]\n",
      "MFD Predict: 100%|██████████| 16/16 [00:00<00:00, 24.83it/s]\n",
      "MFR Predict: 100%|██████████| 172/172 [00:03<00:00, 56.82it/s]\n",
      "OCR-det Predict: 100%|██████████| 16/16 [00:02<00:00,  5.54it/s]\n",
      "Table Predict: 100%|██████████| 6/6 [00:02<00:00,  2.29it/s]\n",
      "Processing pages: 100%|██████████| 16/16 [00:02<00:00,  6.09it/s]\n",
      "\u001b[32m2025-05-25 19:49:42.876\u001b[0m | \u001b[1mINFO    \u001b[0m | \u001b[36mmagic_pdf.data.dataset\u001b[0m:\u001b[36m__init__\u001b[0m:\u001b[36m157\u001b[0m - \u001b[1mlang: None\u001b[0m\n"
     ]
    },
    {
     "name": "stdout",
     "output_type": "stream",
     "text": [
      "2504.11544v1\n"
     ]
    },
    {
     "name": "stderr",
     "output_type": "stream",
     "text": [
      "\u001b[32m2025-05-25 19:49:43.785\u001b[0m | \u001b[1mINFO    \u001b[0m | \u001b[36mmagic_pdf.libs.pdf_check\u001b[0m:\u001b[36mdetect_invalid_chars\u001b[0m:\u001b[36m67\u001b[0m - \u001b[1mcid_count: 7, text_len: 26308, cid_chars_radio: 0.0002665854215858024\u001b[0m\n",
      "\u001b[32m2025-05-25 19:49:44.139\u001b[0m | \u001b[1mINFO    \u001b[0m | \u001b[36mmagic_pdf.model.doc_analyze_by_custom_model\u001b[0m:\u001b[36mmay_batch_image_analyze\u001b[0m:\u001b[36m275\u001b[0m - \u001b[1mgpu_memory: 24 GB, batch_ratio: 16\u001b[0m\n",
      "Layout Predict: 100%|██████████| 26/26 [00:01<00:00, 18.45it/s]\n",
      "MFD Predict: 100%|██████████| 26/26 [00:00<00:00, 26.83it/s]\n",
      "MFR Predict: 100%|██████████| 257/257 [00:02<00:00, 91.37it/s] \n",
      "OCR-det Predict: 100%|██████████| 26/26 [00:04<00:00,  6.48it/s]\n",
      "Table Predict: 100%|██████████| 10/10 [00:04<00:00,  2.24it/s]\n",
      "Processing pages: 100%|██████████| 26/26 [00:03<00:00,  7.52it/s]\n",
      "OCR-rec Predict: 100%|██████████| 129/129 [00:00<00:00, 219.19it/s]\n",
      "\u001b[32m2025-05-25 19:50:03.707\u001b[0m | \u001b[1mINFO    \u001b[0m | \u001b[36mmagic_pdf.data.dataset\u001b[0m:\u001b[36m__init__\u001b[0m:\u001b[36m157\u001b[0m - \u001b[1mlang: None\u001b[0m\n"
     ]
    },
    {
     "name": "stdout",
     "output_type": "stream",
     "text": [
      "2504.11704v1\n"
     ]
    },
    {
     "name": "stderr",
     "output_type": "stream",
     "text": [
      "\u001b[32m2025-05-25 19:50:04.386\u001b[0m | \u001b[1mINFO    \u001b[0m | \u001b[36mmagic_pdf.libs.pdf_check\u001b[0m:\u001b[36mdetect_invalid_chars\u001b[0m:\u001b[36m67\u001b[0m - \u001b[1mcid_count: 0, text_len: 34464, cid_chars_radio: 0.0\u001b[0m\n",
      "\u001b[32m2025-05-25 19:50:04.600\u001b[0m | \u001b[1mINFO    \u001b[0m | \u001b[36mmagic_pdf.model.doc_analyze_by_custom_model\u001b[0m:\u001b[36mmay_batch_image_analyze\u001b[0m:\u001b[36m275\u001b[0m - \u001b[1mgpu_memory: 24 GB, batch_ratio: 16\u001b[0m\n",
      "Layout Predict: 100%|██████████| 26/26 [00:01<00:00, 18.06it/s]\n",
      "MFD Predict: 100%|██████████| 26/26 [00:01<00:00, 25.94it/s]\n",
      "MFR Predict: 100%|██████████| 266/266 [00:02<00:00, 100.23it/s]\n",
      "OCR-det Predict: 100%|██████████| 26/26 [00:05<00:00,  5.17it/s]\n",
      "Table Predict: 100%|██████████| 16/16 [00:02<00:00,  7.86it/s]\n",
      "Processing pages: 100%|██████████| 26/26 [00:03<00:00,  7.33it/s]\n",
      "\u001b[32m2025-05-25 19:50:22.421\u001b[0m | \u001b[1mINFO    \u001b[0m | \u001b[36mmagic_pdf.data.dataset\u001b[0m:\u001b[36m__init__\u001b[0m:\u001b[36m157\u001b[0m - \u001b[1mlang: None\u001b[0m\n"
     ]
    },
    {
     "name": "stdout",
     "output_type": "stream",
     "text": [
      "2504.11765v1\n"
     ]
    },
    {
     "name": "stderr",
     "output_type": "stream",
     "text": [
      "\u001b[32m2025-05-25 19:50:23.254\u001b[0m | \u001b[1mINFO    \u001b[0m | \u001b[36mmagic_pdf.libs.pdf_check\u001b[0m:\u001b[36mdetect_invalid_chars\u001b[0m:\u001b[36m67\u001b[0m - \u001b[1mcid_count: 0, text_len: 51545, cid_chars_radio: 0.0\u001b[0m\n",
      "\u001b[32m2025-05-25 19:50:23.534\u001b[0m | \u001b[1mINFO    \u001b[0m | \u001b[36mmagic_pdf.model.doc_analyze_by_custom_model\u001b[0m:\u001b[36mmay_batch_image_analyze\u001b[0m:\u001b[36m275\u001b[0m - \u001b[1mgpu_memory: 24 GB, batch_ratio: 16\u001b[0m\n",
      "Layout Predict: 100%|██████████| 11/11 [00:00<00:00, 13.75it/s]\n",
      "MFD Predict: 100%|██████████| 11/11 [00:00<00:00, 24.23it/s]\n",
      "MFR Predict: 100%|██████████| 107/107 [00:00<00:00, 145.89it/s]\n",
      "OCR-det Predict: 100%|██████████| 11/11 [00:02<00:00,  5.15it/s]\n",
      "Table Predict: 100%|██████████| 5/5 [00:00<00:00, 10.42it/s]\n",
      "Processing pages: 100%|██████████| 11/11 [00:02<00:00,  4.57it/s]\n",
      "\u001b[32m2025-05-25 19:50:31.864\u001b[0m | \u001b[1mINFO    \u001b[0m | \u001b[36mmagic_pdf.data.dataset\u001b[0m:\u001b[36m__init__\u001b[0m:\u001b[36m157\u001b[0m - \u001b[1mlang: None\u001b[0m\n"
     ]
    },
    {
     "name": "stdout",
     "output_type": "stream",
     "text": [
      "2504.11838v1\n"
     ]
    },
    {
     "name": "stderr",
     "output_type": "stream",
     "text": [
      "\u001b[32m2025-05-25 19:50:32.385\u001b[0m | \u001b[1mINFO    \u001b[0m | \u001b[36mmagic_pdf.libs.pdf_check\u001b[0m:\u001b[36mdetect_invalid_chars\u001b[0m:\u001b[36m67\u001b[0m - \u001b[1mcid_count: 0, text_len: 35597, cid_chars_radio: 0.0\u001b[0m\n",
      "\u001b[32m2025-05-25 19:50:32.520\u001b[0m | \u001b[1mINFO    \u001b[0m | \u001b[36mmagic_pdf.model.doc_analyze_by_custom_model\u001b[0m:\u001b[36mmay_batch_image_analyze\u001b[0m:\u001b[36m275\u001b[0m - \u001b[1mgpu_memory: 24 GB, batch_ratio: 16\u001b[0m\n",
      "Layout Predict: 100%|██████████| 13/13 [00:00<00:00, 15.57it/s]\n",
      "MFD Predict: 100%|██████████| 13/13 [00:00<00:00, 24.81it/s]\n",
      "MFR Predict: 100%|██████████| 59/59 [00:00<00:00, 142.10it/s]\n",
      "OCR-det Predict: 100%|██████████| 13/13 [00:01<00:00,  6.82it/s]\n",
      "Table Predict: 100%|██████████| 7/7 [00:00<00:00,  8.11it/s]\n",
      "Processing pages: 100%|██████████| 13/13 [00:01<00:00,  6.78it/s]\n",
      "\u001b[32m2025-05-25 19:50:40.075\u001b[0m | \u001b[1mINFO    \u001b[0m | \u001b[36mmagic_pdf.data.dataset\u001b[0m:\u001b[36m__init__\u001b[0m:\u001b[36m157\u001b[0m - \u001b[1mlang: None\u001b[0m\n"
     ]
    },
    {
     "name": "stdout",
     "output_type": "stream",
     "text": [
      "2504.12309v2\n"
     ]
    },
    {
     "name": "stderr",
     "output_type": "stream",
     "text": [
      "\u001b[32m2025-05-25 19:50:41.182\u001b[0m | \u001b[1mINFO    \u001b[0m | \u001b[36mmagic_pdf.libs.pdf_check\u001b[0m:\u001b[36mdetect_invalid_chars\u001b[0m:\u001b[36m67\u001b[0m - \u001b[1mcid_count: 0, text_len: 25696, cid_chars_radio: 0.0\u001b[0m\n",
      "\u001b[32m2025-05-25 19:50:42.145\u001b[0m | \u001b[1mINFO    \u001b[0m | \u001b[36mmagic_pdf.model.doc_analyze_by_custom_model\u001b[0m:\u001b[36mmay_batch_image_analyze\u001b[0m:\u001b[36m275\u001b[0m - \u001b[1mgpu_memory: 24 GB, batch_ratio: 16\u001b[0m\n",
      "Layout Predict: 100%|██████████| 59/59 [00:03<00:00, 19.44it/s]\n",
      "MFD Predict: 100%|██████████| 59/59 [00:02<00:00, 26.37it/s]\n",
      "MFR Predict: 100%|██████████| 14/14 [00:00<00:00, 61.30it/s]\n",
      "OCR-det Predict: 100%|██████████| 59/59 [00:06<00:00,  9.34it/s]\n",
      "Table Predict: 100%|██████████| 9/9 [00:03<00:00,  2.95it/s]\n",
      "Processing pages: 100%|██████████| 59/59 [00:04<00:00, 13.99it/s]\n",
      "OCR-rec Predict: 100%|██████████| 2/2 [00:00<00:00, 46.78it/s]\n",
      "\u001b[32m2025-05-25 19:51:03.181\u001b[0m | \u001b[1mINFO    \u001b[0m | \u001b[36mmagic_pdf.data.dataset\u001b[0m:\u001b[36m__init__\u001b[0m:\u001b[36m157\u001b[0m - \u001b[1mlang: None\u001b[0m\n"
     ]
    },
    {
     "name": "stdout",
     "output_type": "stream",
     "text": [
      "2504.12323v2\n"
     ]
    },
    {
     "name": "stderr",
     "output_type": "stream",
     "text": [
      "\u001b[32m2025-05-25 19:51:04.643\u001b[0m | \u001b[1mINFO    \u001b[0m | \u001b[36mmagic_pdf.libs.pdf_check\u001b[0m:\u001b[36mdetect_invalid_chars\u001b[0m:\u001b[36m67\u001b[0m - \u001b[1mcid_count: 3, text_len: 53891, cid_chars_radio: 5.568962316688324e-05\u001b[0m\n",
      "\u001b[32m2025-05-25 19:51:04.901\u001b[0m | \u001b[1mINFO    \u001b[0m | \u001b[36mmagic_pdf.model.doc_analyze_by_custom_model\u001b[0m:\u001b[36mmay_batch_image_analyze\u001b[0m:\u001b[36m275\u001b[0m - \u001b[1mgpu_memory: 24 GB, batch_ratio: 16\u001b[0m\n",
      "Layout Predict: 100%|██████████| 12/12 [00:00<00:00, 14.71it/s]\n",
      "MFD Predict: 100%|██████████| 12/12 [00:00<00:00, 24.30it/s]\n",
      "MFR Predict: 100%|██████████| 70/70 [00:00<00:00, 72.03it/s]\n",
      "OCR-det Predict: 100%|██████████| 12/12 [00:02<00:00,  4.82it/s]\n",
      "Table Predict: 100%|██████████| 10/10 [00:06<00:00,  1.66it/s]\n",
      "Processing pages: 100%|██████████| 12/12 [00:03<00:00,  3.72it/s]\n",
      "OCR-rec Predict: 100%|██████████| 1/1 [00:00<00:00, 79.96it/s]\n",
      "\u001b[32m2025-05-25 19:51:20.418\u001b[0m | \u001b[1mINFO    \u001b[0m | \u001b[36mmagic_pdf.data.dataset\u001b[0m:\u001b[36m__init__\u001b[0m:\u001b[36m157\u001b[0m - \u001b[1mlang: None\u001b[0m\n"
     ]
    },
    {
     "name": "stdout",
     "output_type": "stream",
     "text": [
      "2504.12330v1\n"
     ]
    },
    {
     "name": "stderr",
     "output_type": "stream",
     "text": [
      "\u001b[32m2025-05-25 19:51:21.555\u001b[0m | \u001b[1mINFO    \u001b[0m | \u001b[36mmagic_pdf.libs.pdf_check\u001b[0m:\u001b[36mdetect_invalid_chars\u001b[0m:\u001b[36m67\u001b[0m - \u001b[1mcid_count: 0, text_len: 47982, cid_chars_radio: 0.0\u001b[0m\n",
      "\u001b[32m2025-05-25 19:51:21.741\u001b[0m | \u001b[1mINFO    \u001b[0m | \u001b[36mmagic_pdf.model.doc_analyze_by_custom_model\u001b[0m:\u001b[36mmay_batch_image_analyze\u001b[0m:\u001b[36m275\u001b[0m - \u001b[1mgpu_memory: 24 GB, batch_ratio: 16\u001b[0m\n",
      "Layout Predict: 100%|██████████| 12/12 [00:00<00:00, 15.29it/s]\n",
      "MFD Predict: 100%|██████████| 12/12 [00:00<00:00, 24.46it/s]\n",
      "MFR Predict: 100%|██████████| 149/149 [00:01<00:00, 120.39it/s]\n",
      "OCR-det Predict: 100%|██████████| 12/12 [00:02<00:00,  4.80it/s]\n",
      "Table Predict: 100%|██████████| 3/3 [00:01<00:00,  1.92it/s]\n",
      "Processing pages: 100%|██████████| 12/12 [00:02<00:00,  4.36it/s]\n",
      "\u001b[32m2025-05-25 19:51:32.634\u001b[0m | \u001b[1mINFO    \u001b[0m | \u001b[36mmagic_pdf.data.dataset\u001b[0m:\u001b[36m__init__\u001b[0m:\u001b[36m157\u001b[0m - \u001b[1mlang: None\u001b[0m\n"
     ]
    },
    {
     "name": "stdout",
     "output_type": "stream",
     "text": [
      "2504.12342v1\n"
     ]
    },
    {
     "name": "stderr",
     "output_type": "stream",
     "text": [
      "\u001b[32m2025-05-25 19:51:33.304\u001b[0m | \u001b[1mINFO    \u001b[0m | \u001b[36mmagic_pdf.libs.pdf_check\u001b[0m:\u001b[36mdetect_invalid_chars\u001b[0m:\u001b[36m67\u001b[0m - \u001b[1mcid_count: 0, text_len: 41977, cid_chars_radio: 0.0\u001b[0m\n",
      "\u001b[32m2025-05-25 19:51:33.500\u001b[0m | \u001b[1mINFO    \u001b[0m | \u001b[36mmagic_pdf.model.doc_analyze_by_custom_model\u001b[0m:\u001b[36mmay_batch_image_analyze\u001b[0m:\u001b[36m275\u001b[0m - \u001b[1mgpu_memory: 24 GB, batch_ratio: 16\u001b[0m\n",
      "Layout Predict: 100%|██████████| 13/13 [00:00<00:00, 16.13it/s]\n",
      "MFD Predict: 100%|██████████| 13/13 [00:00<00:00, 26.67it/s]\n",
      "MFR Predict: 100%|██████████| 5/5 [00:00<00:00, 52.70it/s]\n",
      "OCR-det Predict: 100%|██████████| 13/13 [00:01<00:00,  6.60it/s]\n",
      "Table Predict: 100%|██████████| 7/7 [00:10<00:00,  1.45s/it]\n",
      "Processing pages: 100%|██████████| 13/13 [00:02<00:00,  5.70it/s]\n",
      "\u001b[32m2025-05-25 19:51:50.325\u001b[0m | \u001b[1mINFO    \u001b[0m | \u001b[36mmagic_pdf.data.dataset\u001b[0m:\u001b[36m__init__\u001b[0m:\u001b[36m157\u001b[0m - \u001b[1mlang: None\u001b[0m\n"
     ]
    },
    {
     "name": "stdout",
     "output_type": "stream",
     "text": [
      "2504.12408v1\n"
     ]
    },
    {
     "name": "stderr",
     "output_type": "stream",
     "text": [
      "\u001b[32m2025-05-25 19:51:50.927\u001b[0m | \u001b[1mINFO    \u001b[0m | \u001b[36mmagic_pdf.libs.pdf_check\u001b[0m:\u001b[36mdetect_invalid_chars\u001b[0m:\u001b[36m67\u001b[0m - \u001b[1mcid_count: 0, text_len: 33256, cid_chars_radio: 0.0\u001b[0m\n",
      "\u001b[32m2025-05-25 19:51:51.059\u001b[0m | \u001b[1mINFO    \u001b[0m | \u001b[36mmagic_pdf.model.doc_analyze_by_custom_model\u001b[0m:\u001b[36mmay_batch_image_analyze\u001b[0m:\u001b[36m275\u001b[0m - \u001b[1mgpu_memory: 24 GB, batch_ratio: 16\u001b[0m\n",
      "Layout Predict: 100%|██████████| 6/6 [00:00<00:00, 11.56it/s]\n",
      "MFD Predict: 100%|██████████| 6/6 [00:00<00:00, 24.17it/s]\n",
      "MFR Predict: 100%|██████████| 9/9 [00:00<00:00, 49.66it/s]\n",
      "OCR-det Predict: 100%|██████████| 6/6 [00:00<00:00,  6.84it/s]\n",
      "Table Predict: 100%|██████████| 2/2 [00:00<00:00,  6.65it/s]\n",
      "Processing pages: 100%|██████████| 6/6 [00:01<00:00,  4.39it/s]\n",
      "\u001b[32m2025-05-25 19:51:55.425\u001b[0m | \u001b[1mINFO    \u001b[0m | \u001b[36mmagic_pdf.data.dataset\u001b[0m:\u001b[36m__init__\u001b[0m:\u001b[36m157\u001b[0m - \u001b[1mlang: None\u001b[0m\n"
     ]
    },
    {
     "name": "stdout",
     "output_type": "stream",
     "text": [
      "2504.12477v1\n"
     ]
    },
    {
     "name": "stderr",
     "output_type": "stream",
     "text": [
      "\u001b[32m2025-05-25 19:51:55.918\u001b[0m | \u001b[1mINFO    \u001b[0m | \u001b[36mmagic_pdf.libs.pdf_check\u001b[0m:\u001b[36mdetect_invalid_chars\u001b[0m:\u001b[36m67\u001b[0m - \u001b[1mcid_count: 0, text_len: 38780, cid_chars_radio: 0.0\u001b[0m\n",
      "\u001b[32m2025-05-25 19:51:56.053\u001b[0m | \u001b[1mINFO    \u001b[0m | \u001b[36mmagic_pdf.model.doc_analyze_by_custom_model\u001b[0m:\u001b[36mmay_batch_image_analyze\u001b[0m:\u001b[36m275\u001b[0m - \u001b[1mgpu_memory: 24 GB, batch_ratio: 16\u001b[0m\n",
      "Layout Predict: 100%|██████████| 8/8 [00:00<00:00, 15.70it/s]\n",
      "MFD Predict: 100%|██████████| 8/8 [00:00<00:00, 24.32it/s]\n",
      "MFR Predict: 100%|██████████| 11/11 [00:00<00:00, 71.19it/s]\n",
      "OCR-det Predict: 100%|██████████| 8/8 [00:01<00:00,  4.32it/s]\n",
      "Table Predict: 100%|██████████| 1/1 [00:00<00:00, 11.57it/s]\n",
      "Processing pages: 100%|██████████| 8/8 [00:01<00:00,  4.65it/s]\n",
      "\u001b[32m2025-05-25 19:52:01.707\u001b[0m | \u001b[1mINFO    \u001b[0m | \u001b[36mmagic_pdf.data.dataset\u001b[0m:\u001b[36m__init__\u001b[0m:\u001b[36m157\u001b[0m - \u001b[1mlang: None\u001b[0m\n"
     ]
    },
    {
     "name": "stdout",
     "output_type": "stream",
     "text": [
      "2504.12560v1\n"
     ]
    },
    {
     "name": "stderr",
     "output_type": "stream",
     "text": [
      "\u001b[32m2025-05-25 19:52:02.308\u001b[0m | \u001b[1mINFO    \u001b[0m | \u001b[36mmagic_pdf.libs.pdf_check\u001b[0m:\u001b[36mdetect_invalid_chars\u001b[0m:\u001b[36m67\u001b[0m - \u001b[1mcid_count: 0, text_len: 31574, cid_chars_radio: 0.0\u001b[0m\n",
      "\u001b[32m2025-05-25 19:52:02.570\u001b[0m | \u001b[1mINFO    \u001b[0m | \u001b[36mmagic_pdf.model.doc_analyze_by_custom_model\u001b[0m:\u001b[36mmay_batch_image_analyze\u001b[0m:\u001b[36m275\u001b[0m - \u001b[1mgpu_memory: 24 GB, batch_ratio: 16\u001b[0m\n",
      "Layout Predict: 100%|██████████| 22/22 [00:01<00:00, 16.27it/s]\n",
      "MFD Predict: 100%|██████████| 22/22 [00:00<00:00, 26.45it/s]\n",
      "MFR Predict: 100%|██████████| 87/87 [00:01<00:00, 52.10it/s]\n",
      "OCR-det Predict: 100%|██████████| 22/22 [00:04<00:00,  4.60it/s]\n",
      "Table Predict: 100%|██████████| 5/5 [00:04<00:00,  1.00it/s]\n",
      "Processing pages: 100%|██████████| 22/22 [00:03<00:00,  6.81it/s]\n",
      "\u001b[32m2025-05-25 19:52:21.097\u001b[0m | \u001b[1mINFO    \u001b[0m | \u001b[36mmagic_pdf.data.dataset\u001b[0m:\u001b[36m__init__\u001b[0m:\u001b[36m157\u001b[0m - \u001b[1mlang: None\u001b[0m\n"
     ]
    },
    {
     "name": "stdout",
     "output_type": "stream",
     "text": [
      "2504.12673v1\n"
     ]
    },
    {
     "name": "stderr",
     "output_type": "stream",
     "text": [
      "\u001b[32m2025-05-25 19:52:21.810\u001b[0m | \u001b[1mINFO    \u001b[0m | \u001b[36mmagic_pdf.libs.pdf_check\u001b[0m:\u001b[36mdetect_invalid_chars\u001b[0m:\u001b[36m67\u001b[0m - \u001b[1mcid_count: 3, text_len: 47160, cid_chars_radio: 6.364157067396423e-05\u001b[0m\n",
      "\u001b[32m2025-05-25 19:52:21.923\u001b[0m | \u001b[1mINFO    \u001b[0m | \u001b[36mmagic_pdf.model.doc_analyze_by_custom_model\u001b[0m:\u001b[36mmay_batch_image_analyze\u001b[0m:\u001b[36m275\u001b[0m - \u001b[1mgpu_memory: 24 GB, batch_ratio: 16\u001b[0m\n",
      "Layout Predict: 100%|██████████| 8/8 [00:00<00:00, 13.39it/s]\n",
      "MFD Predict: 100%|██████████| 8/8 [00:00<00:00, 24.23it/s]\n",
      "MFR Predict: 100%|██████████| 125/125 [00:01<00:00, 81.80it/s]\n",
      "OCR-det Predict: 100%|██████████| 8/8 [00:01<00:00,  5.66it/s]\n",
      "Table Predict: 100%|██████████| 5/5 [00:01<00:00,  4.45it/s]\n",
      "Processing pages: 100%|██████████| 8/8 [00:02<00:00,  3.60it/s]\n",
      "\u001b[32m2025-05-25 19:52:30.261\u001b[0m | \u001b[1mINFO    \u001b[0m | \u001b[36mmagic_pdf.data.dataset\u001b[0m:\u001b[36m__init__\u001b[0m:\u001b[36m157\u001b[0m - \u001b[1mlang: None\u001b[0m\n"
     ]
    },
    {
     "name": "stdout",
     "output_type": "stream",
     "text": [
      "2504.12845v1\n"
     ]
    },
    {
     "name": "stderr",
     "output_type": "stream",
     "text": [
      "\u001b[32m2025-05-25 19:52:31.828\u001b[0m | \u001b[1mINFO    \u001b[0m | \u001b[36mmagic_pdf.libs.pdf_check\u001b[0m:\u001b[36mdetect_invalid_chars\u001b[0m:\u001b[36m67\u001b[0m - \u001b[1mcid_count: 5, text_len: 27734, cid_chars_radio: 0.00018054452227919405\u001b[0m\n",
      "\u001b[32m2025-05-25 19:52:32.163\u001b[0m | \u001b[1mINFO    \u001b[0m | \u001b[36mmagic_pdf.model.doc_analyze_by_custom_model\u001b[0m:\u001b[36mmay_batch_image_analyze\u001b[0m:\u001b[36m275\u001b[0m - \u001b[1mgpu_memory: 24 GB, batch_ratio: 16\u001b[0m\n",
      "Layout Predict: 100%|██████████| 33/33 [00:01<00:00, 18.09it/s]\n",
      "MFD Predict: 100%|██████████| 33/33 [00:01<00:00, 27.63it/s]\n",
      "MFR Predict: 100%|██████████| 171/171 [00:01<00:00, 155.95it/s]\n",
      "OCR-det Predict: 100%|██████████| 33/33 [00:04<00:00,  7.95it/s]\n",
      "Table Predict: 100%|██████████| 12/12 [00:03<00:00,  3.23it/s]\n",
      "Processing pages: 100%|██████████| 33/33 [00:03<00:00, 10.88it/s]\n",
      "\u001b[32m2025-05-25 19:52:48.595\u001b[0m | \u001b[1mINFO    \u001b[0m | \u001b[36mmagic_pdf.data.dataset\u001b[0m:\u001b[36m__init__\u001b[0m:\u001b[36m157\u001b[0m - \u001b[1mlang: None\u001b[0m\n"
     ]
    },
    {
     "name": "stdout",
     "output_type": "stream",
     "text": [
      "2504.12931v1\n"
     ]
    },
    {
     "name": "stderr",
     "output_type": "stream",
     "text": [
      "\u001b[32m2025-05-25 19:52:49.364\u001b[0m | \u001b[1mINFO    \u001b[0m | \u001b[36mmagic_pdf.libs.pdf_check\u001b[0m:\u001b[36mdetect_invalid_chars\u001b[0m:\u001b[36m67\u001b[0m - \u001b[1mcid_count: 0, text_len: 36676, cid_chars_radio: 0.0\u001b[0m\n",
      "\u001b[32m2025-05-25 19:52:49.494\u001b[0m | \u001b[1mINFO    \u001b[0m | \u001b[36mmagic_pdf.model.doc_analyze_by_custom_model\u001b[0m:\u001b[36mmay_batch_image_analyze\u001b[0m:\u001b[36m275\u001b[0m - \u001b[1mgpu_memory: 24 GB, batch_ratio: 16\u001b[0m\n",
      "Layout Predict: 100%|██████████| 9/9 [00:00<00:00, 14.58it/s]\n",
      "MFD Predict: 100%|██████████| 9/9 [00:00<00:00, 24.51it/s]\n",
      "MFR Predict: 100%|██████████| 8/8 [00:00<00:00, 57.96it/s]\n",
      "OCR-det Predict: 100%|██████████| 9/9 [00:00<00:00,  9.20it/s]\n",
      "Table Predict: 0it [00:00, ?it/s]\n",
      "Processing pages: 100%|██████████| 9/9 [00:00<00:00, 10.40it/s]\n",
      "\u001b[32m2025-05-25 19:52:53.184\u001b[0m | \u001b[1mINFO    \u001b[0m | \u001b[36mmagic_pdf.data.dataset\u001b[0m:\u001b[36m__init__\u001b[0m:\u001b[36m157\u001b[0m - \u001b[1mlang: None\u001b[0m\n"
     ]
    },
    {
     "name": "stdout",
     "output_type": "stream",
     "text": [
      "2504.12982v1\n"
     ]
    },
    {
     "name": "stderr",
     "output_type": "stream",
     "text": [
      "\u001b[32m2025-05-25 19:52:54.361\u001b[0m | \u001b[1mINFO    \u001b[0m | \u001b[36mmagic_pdf.libs.pdf_check\u001b[0m:\u001b[36mdetect_invalid_chars\u001b[0m:\u001b[36m67\u001b[0m - \u001b[1mcid_count: 38, text_len: 49143, cid_chars_radio: 0.0007771278988915702\u001b[0m\n",
      "\u001b[32m2025-05-25 19:52:54.694\u001b[0m | \u001b[1mINFO    \u001b[0m | \u001b[36mmagic_pdf.model.doc_analyze_by_custom_model\u001b[0m:\u001b[36mmay_batch_image_analyze\u001b[0m:\u001b[36m275\u001b[0m - \u001b[1mgpu_memory: 24 GB, batch_ratio: 16\u001b[0m\n",
      "Layout Predict: 100%|██████████| 11/11 [00:00<00:00, 16.85it/s]\n",
      "MFD Predict: 100%|██████████| 11/11 [00:00<00:00, 24.33it/s]\n",
      "MFR Predict: 100%|██████████| 198/198 [17:35<00:00,  5.33s/it]\n",
      "OCR-det Predict: 100%|██████████| 11/11 [00:02<00:00,  4.95it/s]\n",
      "Table Predict: 100%|██████████| 8/8 [00:01<00:00,  4.51it/s]\n",
      "Processing pages: 100%|██████████| 11/11 [00:02<00:00,  4.64it/s]\n",
      "\u001b[32m2025-05-25 20:10:40.283\u001b[0m | \u001b[1mINFO    \u001b[0m | \u001b[36mmagic_pdf.data.dataset\u001b[0m:\u001b[36m__init__\u001b[0m:\u001b[36m157\u001b[0m - \u001b[1mlang: None\u001b[0m\n"
     ]
    },
    {
     "name": "stdout",
     "output_type": "stream",
     "text": [
      "2504.13032v1\n"
     ]
    },
    {
     "name": "stderr",
     "output_type": "stream",
     "text": [
      "\u001b[32m2025-05-25 20:10:42.463\u001b[0m | \u001b[1mINFO    \u001b[0m | \u001b[36mmagic_pdf.libs.pdf_check\u001b[0m:\u001b[36mdetect_invalid_chars\u001b[0m:\u001b[36m67\u001b[0m - \u001b[1mcid_count: 2, text_len: 55364, cid_chars_radio: 3.613500036135e-05\u001b[0m\n",
      "\u001b[32m2025-05-25 20:10:42.716\u001b[0m | \u001b[1mINFO    \u001b[0m | \u001b[36mmagic_pdf.model.doc_analyze_by_custom_model\u001b[0m:\u001b[36mmay_batch_image_analyze\u001b[0m:\u001b[36m275\u001b[0m - \u001b[1mgpu_memory: 24 GB, batch_ratio: 16\u001b[0m\n",
      "Layout Predict: 100%|██████████| 16/16 [00:05<00:00,  2.78it/s]\n",
      "MFD Predict: 100%|██████████| 16/16 [00:00<00:00, 24.61it/s]\n",
      "MFR Predict: 100%|██████████| 450/450 [00:04<00:00, 108.10it/s]\n",
      "OCR-det Predict: 100%|██████████| 16/16 [00:03<00:00,  4.43it/s]\n",
      "Table Predict: 100%|██████████| 13/13 [00:01<00:00,  6.56it/s]\n",
      "Processing pages: 100%|██████████| 16/16 [00:04<00:00,  3.62it/s]\n",
      "OCR-rec Predict: 100%|██████████| 3/3 [00:00<00:00, 92.18it/s]\n",
      "\u001b[32m2025-05-25 20:11:05.657\u001b[0m | \u001b[1mINFO    \u001b[0m | \u001b[36mmagic_pdf.data.dataset\u001b[0m:\u001b[36m__init__\u001b[0m:\u001b[36m157\u001b[0m - \u001b[1mlang: None\u001b[0m\n"
     ]
    },
    {
     "name": "stdout",
     "output_type": "stream",
     "text": [
      "2504.13079v1\n"
     ]
    },
    {
     "name": "stderr",
     "output_type": "stream",
     "text": [
      "\u001b[32m2025-05-25 20:11:06.170\u001b[0m | \u001b[1mINFO    \u001b[0m | \u001b[36mmagic_pdf.libs.pdf_check\u001b[0m:\u001b[36mdetect_invalid_chars\u001b[0m:\u001b[36m67\u001b[0m - \u001b[1mcid_count: 0, text_len: 35483, cid_chars_radio: 0.0\u001b[0m\n",
      "\u001b[32m2025-05-25 20:11:06.388\u001b[0m | \u001b[1mINFO    \u001b[0m | \u001b[36mmagic_pdf.model.doc_analyze_by_custom_model\u001b[0m:\u001b[36mmay_batch_image_analyze\u001b[0m:\u001b[36m275\u001b[0m - \u001b[1mgpu_memory: 24 GB, batch_ratio: 16\u001b[0m\n",
      "Layout Predict: 100%|██████████| 19/19 [00:01<00:00, 15.79it/s]\n",
      "MFD Predict: 100%|██████████| 19/19 [00:00<00:00, 24.42it/s]\n",
      "MFR Predict: 100%|██████████| 53/53 [00:00<00:00, 81.47it/s]\n",
      "OCR-det Predict: 100%|██████████| 19/19 [00:02<00:00,  7.35it/s]\n",
      "Table Predict: 100%|██████████| 1/1 [00:00<00:00,  3.96it/s]\n",
      "Processing pages: 100%|██████████| 19/19 [00:01<00:00,  9.79it/s]\n",
      "\u001b[32m2025-05-25 20:11:14.884\u001b[0m | \u001b[1mINFO    \u001b[0m | \u001b[36mmagic_pdf.data.dataset\u001b[0m:\u001b[36m__init__\u001b[0m:\u001b[36m157\u001b[0m - \u001b[1mlang: None\u001b[0m\n"
     ]
    },
    {
     "name": "stdout",
     "output_type": "stream",
     "text": [
      "2504.13111v1\n"
     ]
    },
    {
     "name": "stderr",
     "output_type": "stream",
     "text": [
      "\u001b[32m2025-05-25 20:11:15.793\u001b[0m | \u001b[1mINFO    \u001b[0m | \u001b[36mmagic_pdf.libs.pdf_check\u001b[0m:\u001b[36mdetect_invalid_chars\u001b[0m:\u001b[36m67\u001b[0m - \u001b[1mcid_count: 13, text_len: 44093, cid_chars_radio: 0.00029547469145623564\u001b[0m\n",
      "\u001b[32m2025-05-25 20:11:16.006\u001b[0m | \u001b[1mINFO    \u001b[0m | \u001b[36mmagic_pdf.model.doc_analyze_by_custom_model\u001b[0m:\u001b[36mmay_batch_image_analyze\u001b[0m:\u001b[36m275\u001b[0m - \u001b[1mgpu_memory: 24 GB, batch_ratio: 16\u001b[0m\n",
      "Layout Predict: 100%|██████████| 17/17 [00:01<00:00, 15.97it/s]\n",
      "MFD Predict: 100%|██████████| 17/17 [00:00<00:00, 24.78it/s]\n",
      "MFR Predict: 100%|██████████| 202/202 [00:03<00:00, 52.23it/s]\n",
      "OCR-det Predict: 100%|██████████| 17/17 [00:03<00:00,  5.31it/s]\n",
      "Table Predict: 100%|██████████| 4/4 [00:00<00:00,  4.03it/s]\n",
      "Processing pages: 100%|██████████| 17/17 [00:03<00:00,  5.05it/s]\n",
      "\u001b[32m2025-05-25 20:11:31.027\u001b[0m | \u001b[1mINFO    \u001b[0m | \u001b[36mmagic_pdf.data.dataset\u001b[0m:\u001b[36m__init__\u001b[0m:\u001b[36m157\u001b[0m - \u001b[1mlang: None\u001b[0m\n"
     ]
    },
    {
     "name": "stdout",
     "output_type": "stream",
     "text": [
      "2504.13190v1\n"
     ]
    },
    {
     "name": "stderr",
     "output_type": "stream",
     "text": [
      "\u001b[32m2025-05-25 20:11:31.564\u001b[0m | \u001b[1mINFO    \u001b[0m | \u001b[36mmagic_pdf.libs.pdf_check\u001b[0m:\u001b[36mdetect_invalid_chars\u001b[0m:\u001b[36m67\u001b[0m - \u001b[1mcid_count: 0, text_len: 14931, cid_chars_radio: 0.0\u001b[0m\n",
      "\u001b[32m2025-05-25 20:11:31.566\u001b[0m | \u001b[33m\u001b[1mWARNING \u001b[0m | \u001b[36mmagic_pdf.filter.pdf_classify_by_type\u001b[0m:\u001b[36mclassify\u001b[0m:\u001b[36m335\u001b[0m - \u001b[33m\u001b[1mOCR needed based on classification result, by_image_area: True, by_text: True, by_avg_words: True, by_img_num: False, by_img_narrow_strips: True, by_invalid_chars: True\u001b[0m\n",
      "\u001b[32m2025-05-25 20:11:31.690\u001b[0m | \u001b[1mINFO    \u001b[0m | \u001b[36mmagic_pdf.model.doc_analyze_by_custom_model\u001b[0m:\u001b[36mmay_batch_image_analyze\u001b[0m:\u001b[36m275\u001b[0m - \u001b[1mgpu_memory: 24 GB, batch_ratio: 16\u001b[0m\n",
      "Layout Predict: 100%|██████████| 2/2 [00:00<00:00,  6.43it/s]\n",
      "MFD Predict: 100%|██████████| 2/2 [00:00<00:00, 20.92it/s]\n",
      "MFR Predict: 100%|██████████| 7/7 [00:00<00:00, 101.69it/s]\n",
      "OCR-det Predict: 100%|██████████| 2/2 [00:00<00:00,  3.97it/s]\n",
      "Table Predict: 0it [00:00, ?it/s]\n",
      "OCR-rec Predict: 100%|██████████| 200/200 [00:00<00:00, 238.51it/s]\n",
      "Processing pages: 100%|██████████| 2/2 [00:00<00:00, 18.80it/s]\n",
      "\u001b[32m2025-05-25 20:11:34.257\u001b[0m | \u001b[1mINFO    \u001b[0m | \u001b[36mmagic_pdf.data.dataset\u001b[0m:\u001b[36m__init__\u001b[0m:\u001b[36m157\u001b[0m - \u001b[1mlang: None\u001b[0m\n"
     ]
    },
    {
     "name": "stdout",
     "output_type": "stream",
     "text": [
      "2504.13209v1\n"
     ]
    },
    {
     "name": "stderr",
     "output_type": "stream",
     "text": [
      "\u001b[32m2025-05-25 20:11:35.252\u001b[0m | \u001b[1mINFO    \u001b[0m | \u001b[36mmagic_pdf.libs.pdf_check\u001b[0m:\u001b[36mdetect_invalid_chars\u001b[0m:\u001b[36m67\u001b[0m - \u001b[1mcid_count: 0, text_len: 55612, cid_chars_radio: 0.0\u001b[0m\n",
      "\u001b[32m2025-05-25 20:11:35.493\u001b[0m | \u001b[1mINFO    \u001b[0m | \u001b[36mmagic_pdf.model.doc_analyze_by_custom_model\u001b[0m:\u001b[36mmay_batch_image_analyze\u001b[0m:\u001b[36m275\u001b[0m - \u001b[1mgpu_memory: 24 GB, batch_ratio: 16\u001b[0m\n",
      "Layout Predict: 100%|██████████| 9/9 [00:00<00:00, 16.30it/s]\n",
      "MFD Predict: 100%|██████████| 9/9 [00:00<00:00, 24.34it/s]\n",
      "MFR Predict: 100%|██████████| 142/142 [00:00<00:00, 217.29it/s]\n",
      "OCR-det Predict: 100%|██████████| 9/9 [00:01<00:00,  5.18it/s]\n",
      "Table Predict: 0it [00:00, ?it/s]\n",
      "Processing pages: 100%|██████████| 9/9 [00:02<00:00,  3.44it/s]\n",
      "OCR-rec Predict: 100%|██████████| 1/1 [00:00<00:00, 100.01it/s]\n",
      "\u001b[32m2025-05-25 20:11:42.833\u001b[0m | \u001b[1mINFO    \u001b[0m | \u001b[36mmagic_pdf.data.dataset\u001b[0m:\u001b[36m__init__\u001b[0m:\u001b[36m157\u001b[0m - \u001b[1mlang: None\u001b[0m\n"
     ]
    },
    {
     "name": "stdout",
     "output_type": "stream",
     "text": [
      "2504.13425v1\n"
     ]
    },
    {
     "name": "stderr",
     "output_type": "stream",
     "text": [
      "\u001b[32m2025-05-25 20:11:43.714\u001b[0m | \u001b[1mINFO    \u001b[0m | \u001b[36mmagic_pdf.libs.pdf_check\u001b[0m:\u001b[36mdetect_invalid_chars\u001b[0m:\u001b[36m67\u001b[0m - \u001b[1mcid_count: 0, text_len: 38452, cid_chars_radio: 0.0\u001b[0m\n",
      "\u001b[32m2025-05-25 20:11:43.999\u001b[0m | \u001b[1mINFO    \u001b[0m | \u001b[36mmagic_pdf.model.doc_analyze_by_custom_model\u001b[0m:\u001b[36mmay_batch_image_analyze\u001b[0m:\u001b[36m275\u001b[0m - \u001b[1mgpu_memory: 24 GB, batch_ratio: 16\u001b[0m\n",
      "Layout Predict: 100%|██████████| 16/16 [00:00<00:00, 16.03it/s]\n",
      "MFD Predict: 100%|██████████| 16/16 [00:00<00:00, 26.69it/s]\n",
      "MFR Predict: 100%|██████████| 32/32 [00:00<00:00, 109.43it/s]\n",
      "OCR-det Predict: 100%|██████████| 16/16 [00:03<00:00,  4.22it/s]\n",
      "Table Predict: 100%|██████████| 10/10 [00:01<00:00,  9.33it/s]\n",
      "Processing pages: 100%|██████████| 16/16 [00:02<00:00,  6.23it/s]\n",
      "OCR-rec Predict: 100%|██████████| 1/1 [00:00<00:00, 40.62it/s]\n",
      "\u001b[32m2025-05-25 20:11:54.715\u001b[0m | \u001b[1mINFO    \u001b[0m | \u001b[36mmagic_pdf.data.dataset\u001b[0m:\u001b[36m__init__\u001b[0m:\u001b[36m157\u001b[0m - \u001b[1mlang: None\u001b[0m\n"
     ]
    },
    {
     "name": "stdout",
     "output_type": "stream",
     "text": [
      "2504.13534v1\n"
     ]
    },
    {
     "name": "stderr",
     "output_type": "stream",
     "text": [
      "\u001b[32m2025-05-25 20:11:55.320\u001b[0m | \u001b[1mINFO    \u001b[0m | \u001b[36mmagic_pdf.libs.pdf_check\u001b[0m:\u001b[36mdetect_invalid_chars\u001b[0m:\u001b[36m67\u001b[0m - \u001b[1mcid_count: 2, text_len: 39699, cid_chars_radio: 5.0394335676669944e-05\u001b[0m\n",
      "\u001b[32m2025-05-25 20:11:55.733\u001b[0m | \u001b[1mINFO    \u001b[0m | \u001b[36mmagic_pdf.model.doc_analyze_by_custom_model\u001b[0m:\u001b[36mmay_batch_image_analyze\u001b[0m:\u001b[36m275\u001b[0m - \u001b[1mgpu_memory: 24 GB, batch_ratio: 16\u001b[0m\n",
      "Layout Predict: 100%|██████████| 47/47 [00:02<00:00, 20.13it/s]\n",
      "MFD Predict: 100%|██████████| 47/47 [00:01<00:00, 26.62it/s]\n",
      "MFR Predict: 100%|██████████| 415/415 [00:02<00:00, 197.24it/s]\n",
      "OCR-det Predict: 100%|██████████| 47/47 [00:11<00:00,  4.19it/s]\n",
      "Table Predict: 100%|██████████| 9/9 [00:02<00:00,  3.67it/s]\n",
      "Processing pages: 100%|██████████| 47/47 [00:06<00:00,  7.23it/s]\n",
      "OCR-rec Predict: 100%|██████████| 3/3 [00:00<00:00, 89.88it/s]\n",
      "\u001b[32m2025-05-25 20:12:24.876\u001b[0m | \u001b[1mINFO    \u001b[0m | \u001b[36mmagic_pdf.data.dataset\u001b[0m:\u001b[36m__init__\u001b[0m:\u001b[36m157\u001b[0m - \u001b[1mlang: None\u001b[0m\n"
     ]
    },
    {
     "name": "stdout",
     "output_type": "stream",
     "text": [
      "2504.13587v1\n"
     ]
    },
    {
     "name": "stderr",
     "output_type": "stream",
     "text": [
      "\u001b[32m2025-05-25 20:12:29.684\u001b[0m | \u001b[1mINFO    \u001b[0m | \u001b[36mmagic_pdf.libs.pdf_check\u001b[0m:\u001b[36mdetect_invalid_chars\u001b[0m:\u001b[36m67\u001b[0m - \u001b[1mcid_count: 0, text_len: 57336, cid_chars_radio: 0.0\u001b[0m\n",
      "\u001b[32m2025-05-25 20:12:30.504\u001b[0m | \u001b[1mINFO    \u001b[0m | \u001b[36mmagic_pdf.model.doc_analyze_by_custom_model\u001b[0m:\u001b[36mmay_batch_image_analyze\u001b[0m:\u001b[36m275\u001b[0m - \u001b[1mgpu_memory: 24 GB, batch_ratio: 16\u001b[0m\n",
      "Layout Predict: 100%|██████████| 15/15 [00:00<00:00, 16.86it/s]\n",
      "MFD Predict: 100%|██████████| 15/15 [00:00<00:00, 24.71it/s]\n",
      "MFR Predict: 100%|██████████| 53/53 [00:00<00:00, 139.96it/s]\n",
      "OCR-det Predict: 100%|██████████| 15/15 [00:03<00:00,  4.46it/s]\n",
      "Table Predict: 100%|██████████| 9/9 [00:01<00:00,  8.45it/s]\n",
      "Processing pages: 100%|██████████| 15/15 [00:04<00:00,  3.58it/s]\n",
      "\u001b[32m2025-05-25 20:12:42.977\u001b[0m | \u001b[1mINFO    \u001b[0m | \u001b[36mmagic_pdf.data.dataset\u001b[0m:\u001b[36m__init__\u001b[0m:\u001b[36m157\u001b[0m - \u001b[1mlang: None\u001b[0m\n"
     ]
    },
    {
     "name": "stdout",
     "output_type": "stream",
     "text": [
      "2504.13769v1\n"
     ]
    },
    {
     "name": "stderr",
     "output_type": "stream",
     "text": [
      "\u001b[32m2025-05-25 20:12:43.617\u001b[0m | \u001b[1mINFO    \u001b[0m | \u001b[36mmagic_pdf.libs.pdf_check\u001b[0m:\u001b[36mdetect_invalid_chars\u001b[0m:\u001b[36m67\u001b[0m - \u001b[1mcid_count: 0, text_len: 43001, cid_chars_radio: 0.0\u001b[0m\n",
      "\u001b[32m2025-05-25 20:12:43.758\u001b[0m | \u001b[1mINFO    \u001b[0m | \u001b[36mmagic_pdf.model.doc_analyze_by_custom_model\u001b[0m:\u001b[36mmay_batch_image_analyze\u001b[0m:\u001b[36m275\u001b[0m - \u001b[1mgpu_memory: 24 GB, batch_ratio: 16\u001b[0m\n",
      "Layout Predict: 100%|██████████| 7/7 [00:00<00:00, 10.92it/s]\n",
      "MFD Predict: 100%|██████████| 7/7 [00:00<00:00, 24.16it/s]\n",
      "MFR Predict: 100%|██████████| 19/19 [00:00<00:00, 91.58it/s]\n",
      "OCR-det Predict: 100%|██████████| 7/7 [00:01<00:00,  4.91it/s]\n",
      "Table Predict: 100%|██████████| 2/2 [00:00<00:00,  6.31it/s]\n",
      "Processing pages: 100%|██████████| 7/7 [00:01<00:00,  3.93it/s]\n",
      "\u001b[32m2025-05-25 20:12:49.521\u001b[0m | \u001b[1mINFO    \u001b[0m | \u001b[36mmagic_pdf.data.dataset\u001b[0m:\u001b[36m__init__\u001b[0m:\u001b[36m157\u001b[0m - \u001b[1mlang: None\u001b[0m\n"
     ]
    },
    {
     "name": "stdout",
     "output_type": "stream",
     "text": [
      "2504.14011v1\n"
     ]
    },
    {
     "name": "stderr",
     "output_type": "stream",
     "text": [
      "\u001b[32m2025-05-25 20:12:50.615\u001b[0m | \u001b[1mINFO    \u001b[0m | \u001b[36mmagic_pdf.libs.pdf_check\u001b[0m:\u001b[36mdetect_invalid_chars\u001b[0m:\u001b[36m67\u001b[0m - \u001b[1mcid_count: 2, text_len: 42429, cid_chars_radio: 4.7153129788989744e-05\u001b[0m\n",
      "\u001b[32m2025-05-25 20:12:50.748\u001b[0m | \u001b[1mINFO    \u001b[0m | \u001b[36mmagic_pdf.model.doc_analyze_by_custom_model\u001b[0m:\u001b[36mmay_batch_image_analyze\u001b[0m:\u001b[36m275\u001b[0m - \u001b[1mgpu_memory: 24 GB, batch_ratio: 16\u001b[0m\n",
      "Layout Predict: 100%|██████████| 8/8 [00:00<00:00, 12.80it/s]\n",
      "MFD Predict: 100%|██████████| 8/8 [00:00<00:00, 24.40it/s]\n",
      "MFR Predict: 100%|██████████| 102/102 [00:01<00:00, 99.76it/s]\n",
      "OCR-det Predict: 100%|██████████| 8/8 [00:01<00:00,  6.71it/s]\n",
      "Table Predict: 100%|██████████| 2/2 [00:01<00:00,  1.97it/s]\n",
      "Processing pages: 100%|██████████| 8/8 [00:01<00:00,  4.08it/s]\n",
      "\u001b[32m2025-05-25 20:12:57.989\u001b[0m | \u001b[1mINFO    \u001b[0m | \u001b[36mmagic_pdf.data.dataset\u001b[0m:\u001b[36m__init__\u001b[0m:\u001b[36m157\u001b[0m - \u001b[1mlang: None\u001b[0m\n"
     ]
    },
    {
     "name": "stdout",
     "output_type": "stream",
     "text": [
      "2504.14429v1\n"
     ]
    },
    {
     "name": "stderr",
     "output_type": "stream",
     "text": [
      "\u001b[32m2025-05-25 20:12:58.503\u001b[0m | \u001b[1mINFO    \u001b[0m | \u001b[36mmagic_pdf.libs.pdf_check\u001b[0m:\u001b[36mdetect_invalid_chars\u001b[0m:\u001b[36m67\u001b[0m - \u001b[1mcid_count: 3, text_len: 31213, cid_chars_radio: 9.617850730956656e-05\u001b[0m\n",
      "\u001b[32m2025-05-25 20:12:58.680\u001b[0m | \u001b[1mINFO    \u001b[0m | \u001b[36mmagic_pdf.model.doc_analyze_by_custom_model\u001b[0m:\u001b[36mmay_batch_image_analyze\u001b[0m:\u001b[36m275\u001b[0m - \u001b[1mgpu_memory: 24 GB, batch_ratio: 16\u001b[0m\n",
      "Layout Predict: 100%|██████████| 10/10 [00:00<00:00, 15.60it/s]\n",
      "MFD Predict: 100%|██████████| 10/10 [00:00<00:00, 24.66it/s]\n",
      "MFR Predict: 100%|██████████| 52/52 [00:00<00:00, 53.31it/s]\n",
      "OCR-det Predict: 100%|██████████| 10/10 [00:01<00:00,  8.18it/s]\n",
      "Table Predict: 100%|██████████| 4/4 [00:00<00:00,  9.78it/s]\n",
      "Processing pages: 100%|██████████| 10/10 [00:01<00:00,  6.32it/s]\n",
      "OCR-rec Predict: 100%|██████████| 2/2 [00:00<00:00, 107.15it/s]\n",
      "\u001b[32m2025-05-25 20:13:04.926\u001b[0m | \u001b[1mINFO    \u001b[0m | \u001b[36mmagic_pdf.data.dataset\u001b[0m:\u001b[36m__init__\u001b[0m:\u001b[36m157\u001b[0m - \u001b[1mlang: None\u001b[0m\n"
     ]
    },
    {
     "name": "stdout",
     "output_type": "stream",
     "text": [
      "2504.14493v2\n"
     ]
    },
    {
     "name": "stderr",
     "output_type": "stream",
     "text": [
      "\u001b[32m2025-05-25 20:13:05.825\u001b[0m | \u001b[1mINFO    \u001b[0m | \u001b[36mmagic_pdf.libs.pdf_check\u001b[0m:\u001b[36mdetect_invalid_chars\u001b[0m:\u001b[36m67\u001b[0m - \u001b[1mcid_count: 10, text_len: 43770, cid_chars_radio: 0.0002287910679967054\u001b[0m\n",
      "\u001b[32m2025-05-25 20:13:06.200\u001b[0m | \u001b[1mINFO    \u001b[0m | \u001b[36mmagic_pdf.model.doc_analyze_by_custom_model\u001b[0m:\u001b[36mmay_batch_image_analyze\u001b[0m:\u001b[36m275\u001b[0m - \u001b[1mgpu_memory: 24 GB, batch_ratio: 16\u001b[0m\n",
      "Layout Predict: 100%|██████████| 19/19 [00:01<00:00, 17.21it/s]\n",
      "MFD Predict: 100%|██████████| 19/19 [00:00<00:00, 24.68it/s]\n",
      "MFR Predict: 100%|██████████| 130/130 [00:01<00:00, 101.63it/s]\n",
      "OCR-det Predict: 100%|██████████| 19/19 [00:03<00:00,  5.83it/s]\n",
      "Table Predict: 100%|██████████| 20/20 [00:02<00:00,  8.01it/s]\n",
      "Processing pages: 100%|██████████| 19/19 [00:03<00:00,  4.84it/s]\n",
      "OCR-rec Predict: 100%|██████████| 29/29 [00:00<00:00, 102.71it/s]\n",
      "\u001b[32m2025-05-25 20:13:21.163\u001b[0m | \u001b[1mINFO    \u001b[0m | \u001b[36mmagic_pdf.data.dataset\u001b[0m:\u001b[36m__init__\u001b[0m:\u001b[36m157\u001b[0m - \u001b[1mlang: None\u001b[0m\n"
     ]
    },
    {
     "name": "stdout",
     "output_type": "stream",
     "text": [
      "2504.14557v1\n"
     ]
    },
    {
     "name": "stderr",
     "output_type": "stream",
     "text": [
      "\u001b[32m2025-05-25 20:13:21.784\u001b[0m | \u001b[1mINFO    \u001b[0m | \u001b[36mmagic_pdf.libs.pdf_check\u001b[0m:\u001b[36mdetect_invalid_chars\u001b[0m:\u001b[36m67\u001b[0m - \u001b[1mcid_count: 0, text_len: 39536, cid_chars_radio: 0.0\u001b[0m\n",
      "\u001b[32m2025-05-25 20:13:21.879\u001b[0m | \u001b[1mINFO    \u001b[0m | \u001b[36mmagic_pdf.model.doc_analyze_by_custom_model\u001b[0m:\u001b[36mmay_batch_image_analyze\u001b[0m:\u001b[36m275\u001b[0m - \u001b[1mgpu_memory: 24 GB, batch_ratio: 16\u001b[0m\n",
      "Layout Predict: 100%|██████████| 7/7 [00:00<00:00, 15.42it/s]\n",
      "MFD Predict: 100%|██████████| 7/7 [00:00<00:00, 24.21it/s]\n",
      "MFR Predict: 100%|██████████| 29/29 [00:00<00:00, 155.78it/s]\n",
      "OCR-det Predict: 100%|██████████| 7/7 [00:01<00:00,  5.28it/s]\n",
      "Table Predict: 100%|██████████| 1/1 [00:00<00:00, 13.78it/s]\n",
      "Processing pages: 100%|██████████| 7/7 [00:01<00:00,  4.15it/s]\n",
      "\u001b[32m2025-05-25 20:13:26.821\u001b[0m | \u001b[1mINFO    \u001b[0m | \u001b[36mmagic_pdf.data.dataset\u001b[0m:\u001b[36m__init__\u001b[0m:\u001b[36m157\u001b[0m - \u001b[1mlang: None\u001b[0m\n"
     ]
    },
    {
     "name": "stdout",
     "output_type": "stream",
     "text": [
      "2504.14625v3\n"
     ]
    },
    {
     "name": "stderr",
     "output_type": "stream",
     "text": [
      "\u001b[32m2025-05-25 20:13:28.053\u001b[0m | \u001b[1mINFO    \u001b[0m | \u001b[36mmagic_pdf.libs.pdf_check\u001b[0m:\u001b[36mdetect_invalid_chars\u001b[0m:\u001b[36m67\u001b[0m - \u001b[1mcid_count: 9, text_len: 42668, cid_chars_radio: 0.00021122298106033936\u001b[0m\n",
      "\u001b[32m2025-05-25 20:13:28.443\u001b[0m | \u001b[1mINFO    \u001b[0m | \u001b[36mmagic_pdf.model.doc_analyze_by_custom_model\u001b[0m:\u001b[36mmay_batch_image_analyze\u001b[0m:\u001b[36m275\u001b[0m - \u001b[1mgpu_memory: 24 GB, batch_ratio: 16\u001b[0m\n",
      "Layout Predict: 100%|██████████| 9/9 [00:00<00:00, 14.20it/s]\n",
      "MFD Predict: 100%|██████████| 9/9 [00:00<00:00, 24.70it/s]\n",
      "MFR Predict: 100%|██████████| 57/57 [00:00<00:00, 66.80it/s]\n",
      "OCR-det Predict: 100%|██████████| 9/9 [00:01<00:00,  4.75it/s]\n",
      "Table Predict: 100%|██████████| 6/6 [00:01<00:00,  3.79it/s]\n",
      "Processing pages: 100%|██████████| 9/9 [00:01<00:00,  5.18it/s]\n",
      "OCR-rec Predict: 100%|██████████| 3/3 [00:00<00:00, 101.45it/s]\n",
      "\u001b[32m2025-05-25 20:13:36.603\u001b[0m | \u001b[1mINFO    \u001b[0m | \u001b[36mmagic_pdf.data.dataset\u001b[0m:\u001b[36m__init__\u001b[0m:\u001b[36m157\u001b[0m - \u001b[1mlang: None\u001b[0m\n"
     ]
    },
    {
     "name": "stdout",
     "output_type": "stream",
     "text": [
      "2504.14856v1\n"
     ]
    },
    {
     "name": "stderr",
     "output_type": "stream",
     "text": [
      "\u001b[32m2025-05-25 20:13:37.746\u001b[0m | \u001b[1mINFO    \u001b[0m | \u001b[36mmagic_pdf.libs.pdf_check\u001b[0m:\u001b[36mdetect_invalid_chars\u001b[0m:\u001b[36m67\u001b[0m - \u001b[1mcid_count: 61, text_len: 40810, cid_chars_radio: 0.001510536611940668\u001b[0m\n",
      "\u001b[32m2025-05-25 20:13:38.101\u001b[0m | \u001b[1mINFO    \u001b[0m | \u001b[36mmagic_pdf.model.doc_analyze_by_custom_model\u001b[0m:\u001b[36mmay_batch_image_analyze\u001b[0m:\u001b[36m275\u001b[0m - \u001b[1mgpu_memory: 24 GB, batch_ratio: 16\u001b[0m\n",
      "Layout Predict: 100%|██████████| 19/19 [00:01<00:00, 18.26it/s]\n",
      "MFD Predict: 100%|██████████| 19/19 [00:00<00:00, 26.55it/s]\n",
      "MFR Predict: 100%|██████████| 249/249 [00:01<00:00, 142.60it/s]\n",
      "OCR-det Predict: 100%|██████████| 19/19 [00:03<00:00,  5.16it/s]\n",
      "Table Predict: 100%|██████████| 8/8 [00:03<00:00,  2.57it/s]\n",
      "Processing pages: 100%|██████████| 19/19 [00:03<00:00,  5.32it/s]\n",
      "OCR-rec Predict: 100%|██████████| 1/1 [00:00<00:00, 76.86it/s]\n",
      "\u001b[32m2025-05-25 20:13:53.869\u001b[0m | \u001b[1mINFO    \u001b[0m | \u001b[36mmagic_pdf.data.dataset\u001b[0m:\u001b[36m__init__\u001b[0m:\u001b[36m157\u001b[0m - \u001b[1mlang: None\u001b[0m\n"
     ]
    },
    {
     "name": "stdout",
     "output_type": "stream",
     "text": [
      "2504.14858v1\n"
     ]
    },
    {
     "name": "stderr",
     "output_type": "stream",
     "text": [
      "\u001b[32m2025-05-25 20:13:54.970\u001b[0m | \u001b[1mINFO    \u001b[0m | \u001b[36mmagic_pdf.libs.pdf_check\u001b[0m:\u001b[36mdetect_invalid_chars\u001b[0m:\u001b[36m67\u001b[0m - \u001b[1mcid_count: 0, text_len: 36360, cid_chars_radio: 0.0\u001b[0m\n",
      "\u001b[32m2025-05-25 20:13:55.280\u001b[0m | \u001b[1mINFO    \u001b[0m | \u001b[36mmagic_pdf.model.doc_analyze_by_custom_model\u001b[0m:\u001b[36mmay_batch_image_analyze\u001b[0m:\u001b[36m275\u001b[0m - \u001b[1mgpu_memory: 24 GB, batch_ratio: 16\u001b[0m\n",
      "Layout Predict: 100%|██████████| 23/23 [00:01<00:00, 18.53it/s]\n",
      "MFD Predict: 100%|██████████| 23/23 [00:00<00:00, 26.55it/s]\n",
      "MFR Predict: 100%|██████████| 207/207 [00:02<00:00, 76.73it/s]\n",
      "OCR-det Predict: 100%|██████████| 23/23 [00:04<00:00,  5.02it/s]\n",
      "Table Predict: 100%|██████████| 8/8 [00:02<00:00,  3.14it/s]\n",
      "Processing pages: 100%|██████████| 23/23 [00:03<00:00,  6.38it/s]\n",
      "\u001b[32m2025-05-25 20:14:12.816\u001b[0m | \u001b[1mINFO    \u001b[0m | \u001b[36mmagic_pdf.data.dataset\u001b[0m:\u001b[36m__init__\u001b[0m:\u001b[36m157\u001b[0m - \u001b[1mlang: None\u001b[0m\n"
     ]
    },
    {
     "name": "stdout",
     "output_type": "stream",
     "text": [
      "2504.14891v1\n"
     ]
    },
    {
     "name": "stderr",
     "output_type": "stream",
     "text": [
      "\u001b[32m2025-05-25 20:14:13.770\u001b[0m | \u001b[1mINFO    \u001b[0m | \u001b[36mmagic_pdf.libs.pdf_check\u001b[0m:\u001b[36mdetect_invalid_chars\u001b[0m:\u001b[36m67\u001b[0m - \u001b[1mcid_count: 3, text_len: 55253, cid_chars_radio: 5.4316338354577056e-05\u001b[0m\n",
      "\u001b[32m2025-05-25 20:14:14.010\u001b[0m | \u001b[1mINFO    \u001b[0m | \u001b[36mmagic_pdf.model.doc_analyze_by_custom_model\u001b[0m:\u001b[36mmay_batch_image_analyze\u001b[0m:\u001b[36m275\u001b[0m - \u001b[1mgpu_memory: 24 GB, batch_ratio: 16\u001b[0m\n",
      "Layout Predict: 100%|██████████| 18/18 [00:01<00:00, 16.31it/s]\n",
      "MFD Predict: 100%|██████████| 18/18 [00:00<00:00, 24.89it/s]\n",
      "MFR Predict: 100%|██████████| 164/164 [00:01<00:00, 88.44it/s]\n",
      "OCR-det Predict: 100%|██████████| 18/18 [00:03<00:00,  5.72it/s]\n",
      "Table Predict: 100%|██████████| 2/2 [00:01<00:00,  1.11it/s]\n",
      "Processing pages: 100%|██████████| 18/18 [00:03<00:00,  4.69it/s]\n",
      "\u001b[32m2025-05-25 20:14:28.361\u001b[0m | \u001b[1mINFO    \u001b[0m | \u001b[36mmagic_pdf.data.dataset\u001b[0m:\u001b[36m__init__\u001b[0m:\u001b[36m157\u001b[0m - \u001b[1mlang: None\u001b[0m\n"
     ]
    },
    {
     "name": "stdout",
     "output_type": "stream",
     "text": [
      "2504.14917v1\n"
     ]
    },
    {
     "name": "stderr",
     "output_type": "stream",
     "text": [
      "\u001b[32m2025-05-25 20:14:29.241\u001b[0m | \u001b[1mINFO    \u001b[0m | \u001b[36mmagic_pdf.libs.pdf_check\u001b[0m:\u001b[36mdetect_invalid_chars\u001b[0m:\u001b[36m67\u001b[0m - \u001b[1mcid_count: 6, text_len: 48223, cid_chars_radio: 0.00012453041655424338\u001b[0m\n",
      "\u001b[32m2025-05-25 20:14:29.481\u001b[0m | \u001b[1mINFO    \u001b[0m | \u001b[36mmagic_pdf.model.doc_analyze_by_custom_model\u001b[0m:\u001b[36mmay_batch_image_analyze\u001b[0m:\u001b[36m275\u001b[0m - \u001b[1mgpu_memory: 24 GB, batch_ratio: 16\u001b[0m\n",
      "Layout Predict: 100%|██████████| 14/14 [00:00<00:00, 16.86it/s]\n",
      "MFD Predict: 100%|██████████| 14/14 [00:00<00:00, 26.49it/s]\n",
      "MFR Predict: 100%|██████████| 80/80 [00:01<00:00, 63.41it/s]\n",
      "OCR-det Predict: 100%|██████████| 14/14 [00:02<00:00,  4.80it/s]\n",
      "Table Predict: 100%|██████████| 8/8 [00:02<00:00,  3.95it/s]\n",
      "Processing pages: 100%|██████████| 14/14 [00:03<00:00,  4.65it/s]\n",
      "\u001b[32m2025-05-25 20:14:41.668\u001b[0m | \u001b[1mINFO    \u001b[0m | \u001b[36mmagic_pdf.data.dataset\u001b[0m:\u001b[36m__init__\u001b[0m:\u001b[36m157\u001b[0m - \u001b[1mlang: None\u001b[0m\n"
     ]
    },
    {
     "name": "stdout",
     "output_type": "stream",
     "text": [
      "2504.14941v2\n"
     ]
    },
    {
     "name": "stderr",
     "output_type": "stream",
     "text": [
      "\u001b[32m2025-05-25 20:14:42.504\u001b[0m | \u001b[1mINFO    \u001b[0m | \u001b[36mmagic_pdf.libs.pdf_check\u001b[0m:\u001b[36mdetect_invalid_chars\u001b[0m:\u001b[36m67\u001b[0m - \u001b[1mcid_count: 0, text_len: 47232, cid_chars_radio: 0.0\u001b[0m\n",
      "\u001b[32m2025-05-25 20:14:42.631\u001b[0m | \u001b[1mINFO    \u001b[0m | \u001b[36mmagic_pdf.model.doc_analyze_by_custom_model\u001b[0m:\u001b[36mmay_batch_image_analyze\u001b[0m:\u001b[36m275\u001b[0m - \u001b[1mgpu_memory: 24 GB, batch_ratio: 16\u001b[0m\n",
      "Layout Predict: 100%|██████████| 13/13 [00:00<00:00, 15.50it/s]\n",
      "MFD Predict: 100%|██████████| 13/13 [00:00<00:00, 24.60it/s]\n",
      "MFR Predict: 100%|██████████| 151/151 [00:03<00:00, 47.09it/s]\n",
      "OCR-det Predict: 100%|██████████| 13/13 [00:02<00:00,  6.37it/s]\n",
      "Table Predict: 100%|██████████| 5/5 [00:00<00:00,  5.05it/s]\n",
      "Processing pages: 100%|██████████| 13/13 [00:02<00:00,  4.70it/s]\n",
      "\u001b[32m2025-05-25 20:14:55.406\u001b[0m | \u001b[1mINFO    \u001b[0m | \u001b[36mmagic_pdf.data.dataset\u001b[0m:\u001b[36m__init__\u001b[0m:\u001b[36m157\u001b[0m - \u001b[1mlang: None\u001b[0m\n"
     ]
    },
    {
     "name": "stdout",
     "output_type": "stream",
     "text": [
      "2504.14955v1\n"
     ]
    },
    {
     "name": "stderr",
     "output_type": "stream",
     "text": [
      "\u001b[32m2025-05-25 20:14:55.691\u001b[0m | \u001b[1mINFO    \u001b[0m | \u001b[36mmagic_pdf.libs.pdf_check\u001b[0m:\u001b[36mdetect_invalid_chars\u001b[0m:\u001b[36m67\u001b[0m - \u001b[1mcid_count: 0, text_len: 18446, cid_chars_radio: 0.0\u001b[0m\n",
      "\u001b[32m2025-05-25 20:14:55.777\u001b[0m | \u001b[1mINFO    \u001b[0m | \u001b[36mmagic_pdf.model.doc_analyze_by_custom_model\u001b[0m:\u001b[36mmay_batch_image_analyze\u001b[0m:\u001b[36m275\u001b[0m - \u001b[1mgpu_memory: 24 GB, batch_ratio: 16\u001b[0m\n",
      "Layout Predict: 100%|██████████| 7/7 [00:00<00:00, 11.83it/s]\n",
      "MFD Predict: 100%|██████████| 7/7 [00:00<00:00, 24.45it/s]\n",
      "MFR Predict: 100%|██████████| 27/27 [00:00<00:00, 27.32it/s]\n",
      "OCR-det Predict: 100%|██████████| 7/7 [00:01<00:00,  6.59it/s]\n",
      "Table Predict: 100%|██████████| 2/2 [00:00<00:00,  9.49it/s]\n",
      "Processing pages: 100%|██████████| 7/7 [00:00<00:00, 13.08it/s]\n",
      "\u001b[32m2025-05-25 20:15:00.087\u001b[0m | \u001b[1mINFO    \u001b[0m | \u001b[36mmagic_pdf.data.dataset\u001b[0m:\u001b[36m__init__\u001b[0m:\u001b[36m157\u001b[0m - \u001b[1mlang: None\u001b[0m\n"
     ]
    },
    {
     "name": "stdout",
     "output_type": "stream",
     "text": [
      "2504.15022v1\n"
     ]
    },
    {
     "name": "stderr",
     "output_type": "stream",
     "text": [
      "\u001b[32m2025-05-25 20:15:01.255\u001b[0m | \u001b[1mINFO    \u001b[0m | \u001b[36mmagic_pdf.libs.pdf_check\u001b[0m:\u001b[36mdetect_invalid_chars\u001b[0m:\u001b[36m67\u001b[0m - \u001b[1mcid_count: 1, text_len: 33240, cid_chars_radio: 3.0090572623597026e-05\u001b[0m\n",
      "\u001b[32m2025-05-25 20:15:01.665\u001b[0m | \u001b[1mINFO    \u001b[0m | \u001b[36mmagic_pdf.model.doc_analyze_by_custom_model\u001b[0m:\u001b[36mmay_batch_image_analyze\u001b[0m:\u001b[36m275\u001b[0m - \u001b[1mgpu_memory: 24 GB, batch_ratio: 16\u001b[0m\n",
      "Layout Predict: 100%|██████████| 27/27 [00:01<00:00, 19.17it/s]\n",
      "MFD Predict: 100%|██████████| 27/27 [00:01<00:00, 26.35it/s]\n",
      "MFR Predict: 100%|██████████| 155/155 [00:00<00:00, 155.39it/s]\n",
      "OCR-det Predict: 100%|██████████| 27/27 [00:04<00:00,  5.56it/s]\n",
      "Table Predict: 100%|██████████| 6/6 [00:04<00:00,  1.47it/s]\n",
      "Processing pages:  93%|█████████▎| 25/27 [00:03<00:00,  9.93it/s]\u001b[32m2025-05-25 20:15:17.911\u001b[0m | \u001b[33m\u001b[1mWARNING \u001b[0m | \u001b[36mmagic_pdf.pdf_parse_union_core_v2\u001b[0m:\u001b[36mparse_page_core\u001b[0m:\u001b[36m835\u001b[0m - \u001b[33m\u001b[1mskip this page, not found useful bbox, page_id: 26\u001b[0m\n",
      "Processing pages: 100%|██████████| 27/27 [00:03<00:00,  7.76it/s]\n",
      "OCR-rec Predict: 100%|██████████| 14/14 [00:00<00:00, 63.52it/s]\n",
      "\u001b[32m2025-05-25 20:15:19.626\u001b[0m | \u001b[1mINFO    \u001b[0m | \u001b[36mmagic_pdf.data.dataset\u001b[0m:\u001b[36m__init__\u001b[0m:\u001b[36m157\u001b[0m - \u001b[1mlang: None\u001b[0m\n"
     ]
    },
    {
     "name": "stdout",
     "output_type": "stream",
     "text": [
      "2504.15068v1\n"
     ]
    },
    {
     "name": "stderr",
     "output_type": "stream",
     "text": [
      "\u001b[32m2025-05-25 20:15:21.286\u001b[0m | \u001b[1mINFO    \u001b[0m | \u001b[36mmagic_pdf.libs.pdf_check\u001b[0m:\u001b[36mdetect_invalid_chars\u001b[0m:\u001b[36m67\u001b[0m - \u001b[1mcid_count: 3, text_len: 63609, cid_chars_radio: 4.718019689868839e-05\u001b[0m\n",
      "\u001b[32m2025-05-25 20:15:21.804\u001b[0m | \u001b[1mINFO    \u001b[0m | \u001b[36mmagic_pdf.model.doc_analyze_by_custom_model\u001b[0m:\u001b[36mmay_batch_image_analyze\u001b[0m:\u001b[36m275\u001b[0m - \u001b[1mgpu_memory: 24 GB, batch_ratio: 16\u001b[0m\n",
      "Layout Predict: 100%|██████████| 10/10 [00:00<00:00, 14.38it/s]\n",
      "MFD Predict: 100%|██████████| 10/10 [00:00<00:00, 24.41it/s]\n",
      "MFR Predict: 100%|██████████| 76/76 [00:01<00:00, 69.67it/s]\n",
      "OCR-det Predict: 100%|██████████| 10/10 [00:02<00:00,  4.71it/s]\n",
      "Table Predict: 100%|██████████| 3/3 [00:00<00:00,  4.11it/s]\n",
      "Processing pages: 100%|██████████| 10/10 [00:02<00:00,  3.59it/s]\n",
      "\u001b[32m2025-05-25 20:15:31.101\u001b[0m | \u001b[1mINFO    \u001b[0m | \u001b[36mmagic_pdf.data.dataset\u001b[0m:\u001b[36m__init__\u001b[0m:\u001b[36m157\u001b[0m - \u001b[1mlang: None\u001b[0m\n"
     ]
    },
    {
     "name": "stdout",
     "output_type": "stream",
     "text": [
      "2504.15205v1\n"
     ]
    },
    {
     "name": "stderr",
     "output_type": "stream",
     "text": [
      "\u001b[32m2025-05-25 20:15:31.702\u001b[0m | \u001b[1mINFO    \u001b[0m | \u001b[36mmagic_pdf.libs.pdf_check\u001b[0m:\u001b[36mdetect_invalid_chars\u001b[0m:\u001b[36m67\u001b[0m - \u001b[1mcid_count: 0, text_len: 35644, cid_chars_radio: 0.0\u001b[0m\n",
      "\u001b[32m2025-05-25 20:15:31.954\u001b[0m | \u001b[1mINFO    \u001b[0m | \u001b[36mmagic_pdf.model.doc_analyze_by_custom_model\u001b[0m:\u001b[36mmay_batch_image_analyze\u001b[0m:\u001b[36m275\u001b[0m - \u001b[1mgpu_memory: 24 GB, batch_ratio: 16\u001b[0m\n",
      "Layout Predict: 100%|██████████| 16/16 [00:01<00:00, 15.99it/s]\n",
      "MFD Predict: 100%|██████████| 16/16 [00:00<00:00, 24.91it/s]\n",
      "MFR Predict: 100%|██████████| 66/66 [00:01<00:00, 53.94it/s]\n",
      "OCR-det Predict: 100%|██████████| 16/16 [00:01<00:00,  8.73it/s]\n",
      "Table Predict: 100%|██████████| 11/11 [00:06<00:00,  1.62it/s]\n",
      "Processing pages: 100%|██████████| 16/16 [00:01<00:00,  9.65it/s]\n",
      "\u001b[32m2025-05-25 20:15:46.117\u001b[0m | \u001b[1mINFO    \u001b[0m | \u001b[36mmagic_pdf.data.dataset\u001b[0m:\u001b[36m__init__\u001b[0m:\u001b[36m157\u001b[0m - \u001b[1mlang: None\u001b[0m\n"
     ]
    },
    {
     "name": "stdout",
     "output_type": "stream",
     "text": [
      "2504.15302v1\n"
     ]
    },
    {
     "name": "stderr",
     "output_type": "stream",
     "text": [
      "\u001b[32m2025-05-25 20:15:46.976\u001b[0m | \u001b[1mINFO    \u001b[0m | \u001b[36mmagic_pdf.libs.pdf_check\u001b[0m:\u001b[36mdetect_invalid_chars\u001b[0m:\u001b[36m67\u001b[0m - \u001b[1mcid_count: 6, text_len: 57685, cid_chars_radio: 0.00010408896136564717\u001b[0m\n",
      "\u001b[32m2025-05-25 20:15:47.224\u001b[0m | \u001b[1mINFO    \u001b[0m | \u001b[36mmagic_pdf.model.doc_analyze_by_custom_model\u001b[0m:\u001b[36mmay_batch_image_analyze\u001b[0m:\u001b[36m275\u001b[0m - \u001b[1mgpu_memory: 24 GB, batch_ratio: 16\u001b[0m\n",
      "Layout Predict: 100%|██████████| 15/15 [00:00<00:00, 17.28it/s]\n",
      "MFD Predict: 100%|██████████| 15/15 [00:00<00:00, 24.91it/s]\n",
      "MFR Predict: 100%|██████████| 87/87 [00:01<00:00, 69.32it/s]\n",
      "OCR-det Predict: 100%|██████████| 15/15 [00:02<00:00,  5.53it/s]\n",
      "Table Predict: 100%|██████████| 3/3 [00:00<00:00,  4.73it/s]\n",
      "Processing pages: 100%|██████████| 15/15 [00:03<00:00,  4.41it/s]\n",
      "\u001b[32m2025-05-25 20:15:58.470\u001b[0m | \u001b[1mINFO    \u001b[0m | \u001b[36mmagic_pdf.data.dataset\u001b[0m:\u001b[36m__init__\u001b[0m:\u001b[36m157\u001b[0m - \u001b[1mlang: None\u001b[0m\n"
     ]
    },
    {
     "name": "stdout",
     "output_type": "stream",
     "text": [
      "2504.15427v1\n"
     ]
    },
    {
     "name": "stderr",
     "output_type": "stream",
     "text": [
      "\u001b[32m2025-05-25 20:15:59.358\u001b[0m | \u001b[1mINFO    \u001b[0m | \u001b[36mmagic_pdf.libs.pdf_check\u001b[0m:\u001b[36mdetect_invalid_chars\u001b[0m:\u001b[36m67\u001b[0m - \u001b[1mcid_count: 3, text_len: 63357, cid_chars_radio: 4.736717454803821e-05\u001b[0m\n",
      "\u001b[32m2025-05-25 20:15:59.559\u001b[0m | \u001b[1mINFO    \u001b[0m | \u001b[36mmagic_pdf.model.doc_analyze_by_custom_model\u001b[0m:\u001b[36mmay_batch_image_analyze\u001b[0m:\u001b[36m275\u001b[0m - \u001b[1mgpu_memory: 24 GB, batch_ratio: 16\u001b[0m\n",
      "Layout Predict: 100%|██████████| 12/12 [00:00<00:00, 14.78it/s]\n",
      "MFD Predict: 100%|██████████| 12/12 [00:00<00:00, 24.13it/s]\n",
      "MFR Predict: 100%|██████████| 131/131 [00:01<00:00, 98.93it/s]\n",
      "OCR-det Predict: 100%|██████████| 12/12 [00:03<00:00,  3.98it/s]\n",
      "Table Predict: 100%|██████████| 3/3 [00:01<00:00,  1.53it/s]\n",
      "Processing pages: 100%|██████████| 12/12 [00:03<00:00,  3.42it/s]\n",
      "OCR-rec Predict: 100%|██████████| 1/1 [00:00<00:00, 82.42it/s]\n",
      "\u001b[32m2025-05-25 20:16:12.487\u001b[0m | \u001b[1mINFO    \u001b[0m | \u001b[36mmagic_pdf.data.dataset\u001b[0m:\u001b[36m__init__\u001b[0m:\u001b[36m157\u001b[0m - \u001b[1mlang: None\u001b[0m\n"
     ]
    },
    {
     "name": "stdout",
     "output_type": "stream",
     "text": [
      "2504.15610v2\n"
     ]
    },
    {
     "name": "stderr",
     "output_type": "stream",
     "text": [
      "\u001b[32m2025-05-25 20:16:13.178\u001b[0m | \u001b[1mINFO    \u001b[0m | \u001b[36mmagic_pdf.libs.pdf_check\u001b[0m:\u001b[36mdetect_invalid_chars\u001b[0m:\u001b[36m67\u001b[0m - \u001b[1mcid_count: 0, text_len: 14875, cid_chars_radio: 0.0\u001b[0m\n",
      "\u001b[32m2025-05-25 20:16:13.421\u001b[0m | \u001b[1mINFO    \u001b[0m | \u001b[36mmagic_pdf.model.doc_analyze_by_custom_model\u001b[0m:\u001b[36mmay_batch_image_analyze\u001b[0m:\u001b[36m275\u001b[0m - \u001b[1mgpu_memory: 24 GB, batch_ratio: 16\u001b[0m\n",
      "Layout Predict: 100%|██████████| 19/19 [00:01<00:00, 17.01it/s]\n",
      "MFD Predict: 100%|██████████| 19/19 [00:00<00:00, 24.76it/s]\n",
      "MFR Predict: 100%|██████████| 40/40 [00:00<00:00, 146.78it/s]\n",
      "OCR-det Predict: 100%|██████████| 19/19 [00:01<00:00, 13.35it/s]\n",
      "Table Predict: 100%|██████████| 3/3 [00:00<00:00,  5.89it/s]\n",
      "Processing pages: 100%|██████████| 19/19 [00:01<00:00, 18.79it/s]\n",
      "\u001b[32m2025-05-25 20:16:19.438\u001b[0m | \u001b[1mINFO    \u001b[0m | \u001b[36mmagic_pdf.data.dataset\u001b[0m:\u001b[36m__init__\u001b[0m:\u001b[36m157\u001b[0m - \u001b[1mlang: None\u001b[0m\n"
     ]
    },
    {
     "name": "stdout",
     "output_type": "stream",
     "text": [
      "2504.15629v1\n"
     ]
    },
    {
     "name": "stderr",
     "output_type": "stream",
     "text": [
      "\u001b[32m2025-05-25 20:16:19.926\u001b[0m | \u001b[1mINFO    \u001b[0m | \u001b[36mmagic_pdf.libs.pdf_check\u001b[0m:\u001b[36mdetect_invalid_chars\u001b[0m:\u001b[36m67\u001b[0m - \u001b[1mcid_count: 1, text_len: 32101, cid_chars_radio: 3.115847198853368e-05\u001b[0m\n",
      "\u001b[32m2025-05-25 20:16:20.051\u001b[0m | \u001b[1mINFO    \u001b[0m | \u001b[36mmagic_pdf.model.doc_analyze_by_custom_model\u001b[0m:\u001b[36mmay_batch_image_analyze\u001b[0m:\u001b[36m275\u001b[0m - \u001b[1mgpu_memory: 24 GB, batch_ratio: 16\u001b[0m\n",
      "Layout Predict: 100%|██████████| 8/8 [00:00<00:00, 15.59it/s]\n",
      "MFD Predict: 100%|██████████| 8/8 [00:00<00:00, 25.80it/s]\n",
      "MFR Predict: 100%|██████████| 78/78 [00:01<00:00, 57.62it/s]\n",
      "OCR-det Predict: 100%|██████████| 8/8 [00:01<00:00,  4.98it/s]\n",
      "Table Predict: 100%|██████████| 3/3 [00:00<00:00,  5.29it/s]\n",
      "Processing pages: 100%|██████████| 8/8 [00:01<00:00,  5.22it/s]\n",
      "\u001b[32m2025-05-25 20:16:26.976\u001b[0m | \u001b[1mINFO    \u001b[0m | \u001b[36mmagic_pdf.data.dataset\u001b[0m:\u001b[36m__init__\u001b[0m:\u001b[36m157\u001b[0m - \u001b[1mlang: None\u001b[0m\n"
     ]
    },
    {
     "name": "stdout",
     "output_type": "stream",
     "text": [
      "2504.15689v1\n",
      "MuPDF error: syntax error: could not parse color space (393 0 R)\n",
      "\n",
      "MuPDF error: syntax error: could not parse color space (393 0 R)\n",
      "\n",
      "MuPDF error: syntax error: could not parse color space (458 0 R)\n",
      "\n"
     ]
    },
    {
     "name": "stderr",
     "output_type": "stream",
     "text": [
      "\u001b[32m2025-05-25 20:16:27.936\u001b[0m | \u001b[1mINFO    \u001b[0m | \u001b[36mmagic_pdf.libs.pdf_check\u001b[0m:\u001b[36mdetect_invalid_chars\u001b[0m:\u001b[36m67\u001b[0m - \u001b[1mcid_count: 0, text_len: 64312, cid_chars_radio: 0.0\u001b[0m\n"
     ]
    },
    {
     "name": "stdout",
     "output_type": "stream",
     "text": [
      "MuPDF error: syntax error: could not parse color space (393 0 R)\n",
      "\n",
      "MuPDF error: syntax error: could not parse color space (458 0 R)\n",
      "\n"
     ]
    },
    {
     "name": "stderr",
     "output_type": "stream",
     "text": [
      "\u001b[32m2025-05-25 20:16:28.200\u001b[0m | \u001b[1mINFO    \u001b[0m | \u001b[36mmagic_pdf.model.doc_analyze_by_custom_model\u001b[0m:\u001b[36mmay_batch_image_analyze\u001b[0m:\u001b[36m275\u001b[0m - \u001b[1mgpu_memory: 24 GB, batch_ratio: 16\u001b[0m\n",
      "Layout Predict: 100%|██████████| 11/11 [00:00<00:00, 15.65it/s]\n",
      "MFD Predict: 100%|██████████| 11/11 [00:00<00:00, 24.48it/s]\n",
      "MFR Predict: 100%|██████████| 61/61 [00:00<00:00, 104.12it/s]\n",
      "OCR-det Predict: 100%|██████████| 11/11 [00:01<00:00,  5.75it/s]\n",
      "Table Predict: 100%|██████████| 9/9 [00:02<00:00,  4.12it/s]\n"
     ]
    },
    {
     "name": "stdout",
     "output_type": "stream",
     "text": [
      "MuPDF error: syntax error: could not parse color space (393 0 R)\n",
      "\n",
      "MuPDF error: syntax error: could not parse color space (458 0 R)\n",
      "\n"
     ]
    },
    {
     "name": "stderr",
     "output_type": "stream",
     "text": [
      "Processing pages:  36%|███▋      | 4/11 [00:01<00:01,  3.69it/s]"
     ]
    },
    {
     "name": "stdout",
     "output_type": "stream",
     "text": [
      "MuPDF error: syntax error: could not parse color space (393 0 R)\n",
      "\n",
      "MuPDF error: syntax error: could not parse color space (393 0 R)\n",
      "\n",
      "MuPDF error: syntax error: could not parse color space (393 0 R)\n",
      "\n"
     ]
    },
    {
     "name": "stderr",
     "output_type": "stream",
     "text": [
      "Processing pages:  45%|████▌     | 5/11 [00:01<00:01,  3.92it/s]"
     ]
    },
    {
     "name": "stdout",
     "output_type": "stream",
     "text": [
      "MuPDF error: syntax error: could not parse color space (458 0 R)\n",
      "\n",
      "MuPDF error: syntax error: could not parse color space (458 0 R)\n",
      "\n",
      "MuPDF error: syntax error: could not parse color space (458 0 R)\n",
      "\n",
      "MuPDF error: syntax error: could not parse color space (458 0 R)\n",
      "\n"
     ]
    },
    {
     "name": "stderr",
     "output_type": "stream",
     "text": [
      "Processing pages: 100%|██████████| 11/11 [00:03<00:00,  3.51it/s]\n",
      "OCR-rec Predict: 100%|██████████| 4/4 [00:00<00:00, 152.54it/s]\n",
      "\u001b[32m2025-05-25 20:16:38.763\u001b[0m | \u001b[1mINFO    \u001b[0m | \u001b[36mmagic_pdf.data.dataset\u001b[0m:\u001b[36m__init__\u001b[0m:\u001b[36m157\u001b[0m - \u001b[1mlang: None\u001b[0m\n"
     ]
    },
    {
     "name": "stdout",
     "output_type": "stream",
     "text": [
      "2504.15800v2\n"
     ]
    },
    {
     "name": "stderr",
     "output_type": "stream",
     "text": [
      "\u001b[32m2025-05-25 20:16:39.153\u001b[0m | \u001b[1mINFO    \u001b[0m | \u001b[36mmagic_pdf.libs.pdf_check\u001b[0m:\u001b[36mdetect_invalid_chars\u001b[0m:\u001b[36m67\u001b[0m - \u001b[1mcid_count: 0, text_len: 32590, cid_chars_radio: 0.0\u001b[0m\n",
      "\u001b[32m2025-05-25 20:16:39.269\u001b[0m | \u001b[1mINFO    \u001b[0m | \u001b[36mmagic_pdf.model.doc_analyze_by_custom_model\u001b[0m:\u001b[36mmay_batch_image_analyze\u001b[0m:\u001b[36m275\u001b[0m - \u001b[1mgpu_memory: 24 GB, batch_ratio: 16\u001b[0m\n",
      "Layout Predict: 100%|██████████| 14/14 [00:00<00:00, 14.16it/s]\n",
      "MFD Predict: 100%|██████████| 14/14 [00:00<00:00, 24.55it/s]\n",
      "MFR Predict: 100%|██████████| 29/29 [00:00<00:00, 123.92it/s]\n",
      "OCR-det Predict: 100%|██████████| 14/14 [00:02<00:00,  6.72it/s]\n",
      "Table Predict: 100%|██████████| 8/8 [00:01<00:00,  6.11it/s]\n",
      "Processing pages: 100%|██████████| 14/14 [00:01<00:00, 10.90it/s]\n",
      "\u001b[32m2025-05-25 20:16:46.583\u001b[0m | \u001b[1mINFO    \u001b[0m | \u001b[36mmagic_pdf.data.dataset\u001b[0m:\u001b[36m__init__\u001b[0m:\u001b[36m157\u001b[0m - \u001b[1mlang: None\u001b[0m\n"
     ]
    },
    {
     "name": "stdout",
     "output_type": "stream",
     "text": [
      "2504.15909v2\n"
     ]
    },
    {
     "name": "stderr",
     "output_type": "stream",
     "text": [
      "\u001b[32m2025-05-25 20:16:48.083\u001b[0m | \u001b[1mINFO    \u001b[0m | \u001b[36mmagic_pdf.libs.pdf_check\u001b[0m:\u001b[36mdetect_invalid_chars\u001b[0m:\u001b[36m67\u001b[0m - \u001b[1mcid_count: 1, text_len: 48445, cid_chars_radio: 2.0645374403864814e-05\u001b[0m\n",
      "\u001b[32m2025-05-25 20:16:49.041\u001b[0m | \u001b[1mINFO    \u001b[0m | \u001b[36mmagic_pdf.model.doc_analyze_by_custom_model\u001b[0m:\u001b[36mmay_batch_image_analyze\u001b[0m:\u001b[36m275\u001b[0m - \u001b[1mgpu_memory: 24 GB, batch_ratio: 16\u001b[0m\n",
      "Layout Predict: 100%|██████████| 36/36 [00:01<00:00, 19.80it/s]\n",
      "MFD Predict: 100%|██████████| 36/36 [00:01<00:00, 24.78it/s]\n",
      "MFR Predict: 100%|██████████| 224/224 [00:01<00:00, 146.47it/s]\n",
      "OCR-det Predict: 100%|██████████| 36/36 [00:05<00:00,  6.16it/s]\n",
      "Table Predict: 100%|██████████| 7/7 [00:02<00:00,  2.92it/s]\n",
      "Processing pages: 100%|██████████| 36/36 [00:08<00:00,  4.35it/s]\n",
      "OCR-rec Predict: 100%|██████████| 1/1 [00:00<00:00, 39.80it/s]\n",
      "\u001b[32m2025-05-25 20:17:13.589\u001b[0m | \u001b[1mINFO    \u001b[0m | \u001b[36mmagic_pdf.data.dataset\u001b[0m:\u001b[36m__init__\u001b[0m:\u001b[36m157\u001b[0m - \u001b[1mlang: None\u001b[0m\n"
     ]
    },
    {
     "name": "stdout",
     "output_type": "stream",
     "text": [
      "2504.16121v1\n"
     ]
    },
    {
     "name": "stderr",
     "output_type": "stream",
     "text": [
      "\u001b[32m2025-05-25 20:17:14.477\u001b[0m | \u001b[1mINFO    \u001b[0m | \u001b[36mmagic_pdf.libs.pdf_check\u001b[0m:\u001b[36mdetect_invalid_chars\u001b[0m:\u001b[36m67\u001b[0m - \u001b[1mcid_count: 0, text_len: 44389, cid_chars_radio: 0.0\u001b[0m\n",
      "\u001b[32m2025-05-25 20:17:14.615\u001b[0m | \u001b[1mINFO    \u001b[0m | \u001b[36mmagic_pdf.model.doc_analyze_by_custom_model\u001b[0m:\u001b[36mmay_batch_image_analyze\u001b[0m:\u001b[36m275\u001b[0m - \u001b[1mgpu_memory: 24 GB, batch_ratio: 16\u001b[0m\n",
      "Layout Predict: 100%|██████████| 8/8 [00:00<00:00, 14.35it/s]\n",
      "MFD Predict: 100%|██████████| 8/8 [00:00<00:00, 24.57it/s]\n",
      "MFR Predict: 100%|██████████| 39/39 [00:00<00:00, 67.97it/s]\n",
      "OCR-det Predict: 100%|██████████| 8/8 [00:01<00:00,  5.91it/s]\n",
      "Table Predict: 100%|██████████| 5/5 [00:00<00:00,  6.81it/s]\n",
      "Processing pages: 100%|██████████| 8/8 [00:01<00:00,  4.19it/s]\n",
      "\u001b[32m2025-05-25 20:17:21.060\u001b[0m | \u001b[1mINFO    \u001b[0m | \u001b[36mmagic_pdf.data.dataset\u001b[0m:\u001b[36m__init__\u001b[0m:\u001b[36m157\u001b[0m - \u001b[1mlang: None\u001b[0m\n"
     ]
    },
    {
     "name": "stdout",
     "output_type": "stream",
     "text": [
      "2504.16552v1\n"
     ]
    },
    {
     "name": "stderr",
     "output_type": "stream",
     "text": [
      "\u001b[32m2025-05-25 20:17:21.742\u001b[0m | \u001b[1mINFO    \u001b[0m | \u001b[36mmagic_pdf.libs.pdf_check\u001b[0m:\u001b[36mdetect_invalid_chars\u001b[0m:\u001b[36m67\u001b[0m - \u001b[1mcid_count: 0, text_len: 34703, cid_chars_radio: 0.0\u001b[0m\n",
      "\u001b[32m2025-05-25 20:17:22.208\u001b[0m | \u001b[1mINFO    \u001b[0m | \u001b[36mmagic_pdf.model.doc_analyze_by_custom_model\u001b[0m:\u001b[36mmay_batch_image_analyze\u001b[0m:\u001b[36m275\u001b[0m - \u001b[1mgpu_memory: 24 GB, batch_ratio: 16\u001b[0m\n",
      "Layout Predict: 100%|██████████| 33/33 [00:01<00:00, 19.31it/s]\n",
      "MFD Predict: 100%|██████████| 33/33 [00:01<00:00, 24.79it/s]\n",
      "MFR Predict: 100%|██████████| 152/152 [00:00<00:00, 173.71it/s]\n",
      "OCR-det Predict: 100%|██████████| 33/33 [00:04<00:00,  7.40it/s]\n",
      "Table Predict: 100%|██████████| 21/21 [00:06<00:00,  3.49it/s]\n",
      "Processing pages: 100%|██████████| 33/33 [00:03<00:00,  9.00it/s]\n",
      "\u001b[32m2025-05-25 20:17:42.230\u001b[0m | \u001b[1mINFO    \u001b[0m | \u001b[36mmagic_pdf.data.dataset\u001b[0m:\u001b[36m__init__\u001b[0m:\u001b[36m157\u001b[0m - \u001b[1mlang: None\u001b[0m\n"
     ]
    },
    {
     "name": "stdout",
     "output_type": "stream",
     "text": [
      "2504.16787v1\n"
     ]
    },
    {
     "name": "stderr",
     "output_type": "stream",
     "text": [
      "\u001b[32m2025-05-25 20:17:42.729\u001b[0m | \u001b[1mINFO    \u001b[0m | \u001b[36mmagic_pdf.libs.pdf_check\u001b[0m:\u001b[36mdetect_invalid_chars\u001b[0m:\u001b[36m67\u001b[0m - \u001b[1mcid_count: 0, text_len: 39761, cid_chars_radio: 0.0\u001b[0m\n",
      "\u001b[32m2025-05-25 20:17:42.897\u001b[0m | \u001b[1mINFO    \u001b[0m | \u001b[36mmagic_pdf.model.doc_analyze_by_custom_model\u001b[0m:\u001b[36mmay_batch_image_analyze\u001b[0m:\u001b[36m275\u001b[0m - \u001b[1mgpu_memory: 24 GB, batch_ratio: 16\u001b[0m\n",
      "Layout Predict: 100%|██████████| 18/18 [00:01<00:00, 16.16it/s]\n",
      "MFD Predict: 100%|██████████| 18/18 [00:00<00:00, 24.80it/s]\n",
      "MFR Predict: 100%|██████████| 91/91 [00:01<00:00, 55.04it/s]\n",
      "OCR-det Predict: 100%|██████████| 18/18 [00:02<00:00,  6.14it/s]\n",
      "Table Predict: 100%|██████████| 6/6 [00:01<00:00,  5.40it/s]\n",
      "Processing pages: 100%|██████████| 18/18 [00:01<00:00,  9.21it/s]\n",
      "\u001b[32m2025-05-25 20:17:53.498\u001b[0m | \u001b[1mINFO    \u001b[0m | \u001b[36mmagic_pdf.data.dataset\u001b[0m:\u001b[36m__init__\u001b[0m:\u001b[36m157\u001b[0m - \u001b[1mlang: None\u001b[0m\n"
     ]
    },
    {
     "name": "stdout",
     "output_type": "stream",
     "text": [
      "2504.16813v1\n"
     ]
    },
    {
     "name": "stderr",
     "output_type": "stream",
     "text": [
      "\u001b[32m2025-05-25 20:17:55.271\u001b[0m | \u001b[1mINFO    \u001b[0m | \u001b[36mmagic_pdf.libs.pdf_check\u001b[0m:\u001b[36mdetect_invalid_chars\u001b[0m:\u001b[36m67\u001b[0m - \u001b[1mcid_count: 0, text_len: 41446, cid_chars_radio: 0.0\u001b[0m\n",
      "\u001b[32m2025-05-25 20:17:55.422\u001b[0m | \u001b[1mINFO    \u001b[0m | \u001b[36mmagic_pdf.model.doc_analyze_by_custom_model\u001b[0m:\u001b[36mmay_batch_image_analyze\u001b[0m:\u001b[36m275\u001b[0m - \u001b[1mgpu_memory: 24 GB, batch_ratio: 16\u001b[0m\n",
      "Layout Predict: 100%|██████████| 9/9 [00:00<00:00, 15.37it/s]\n",
      "MFD Predict: 100%|██████████| 9/9 [00:00<00:00, 26.31it/s]\n",
      "MFR Predict: 100%|██████████| 7/7 [00:00<00:00, 51.90it/s]\n",
      "OCR-det Predict: 100%|██████████| 9/9 [00:01<00:00,  4.85it/s]\n",
      "Table Predict: 100%|██████████| 2/2 [00:00<00:00,  2.93it/s]\n",
      "Processing pages: 100%|██████████| 9/9 [00:01<00:00,  5.03it/s]\n",
      "OCR-rec Predict: 100%|██████████| 2/2 [00:00<00:00, 105.25it/s]\n",
      "\u001b[32m2025-05-25 20:18:02.823\u001b[0m | \u001b[1mINFO    \u001b[0m | \u001b[36mmagic_pdf.data.dataset\u001b[0m:\u001b[36m__init__\u001b[0m:\u001b[36m157\u001b[0m - \u001b[1mlang: None\u001b[0m\n"
     ]
    },
    {
     "name": "stdout",
     "output_type": "stream",
     "text": [
      "2504.16883v1\n"
     ]
    },
    {
     "name": "stderr",
     "output_type": "stream",
     "text": [
      "\u001b[32m2025-05-25 20:18:03.160\u001b[0m | \u001b[1mINFO    \u001b[0m | \u001b[36mmagic_pdf.libs.pdf_check\u001b[0m:\u001b[36mdetect_invalid_chars\u001b[0m:\u001b[36m67\u001b[0m - \u001b[1mcid_count: 0, text_len: 18447, cid_chars_radio: 0.0\u001b[0m\n",
      "\u001b[32m2025-05-25 20:18:03.314\u001b[0m | \u001b[1mINFO    \u001b[0m | \u001b[36mmagic_pdf.model.doc_analyze_by_custom_model\u001b[0m:\u001b[36mmay_batch_image_analyze\u001b[0m:\u001b[36m275\u001b[0m - \u001b[1mgpu_memory: 24 GB, batch_ratio: 16\u001b[0m\n",
      "Layout Predict: 100%|██████████| 6/6 [00:00<00:00, 11.52it/s]\n",
      "MFD Predict: 100%|██████████| 6/6 [00:00<00:00, 24.14it/s]\n",
      "MFR Predict: 100%|██████████| 10/10 [00:00<00:00, 67.22it/s]\n",
      "OCR-det Predict: 100%|██████████| 6/6 [00:00<00:00,  9.45it/s]\n",
      "Table Predict: 0it [00:00, ?it/s]\n",
      "Processing pages: 100%|██████████| 6/6 [00:00<00:00, 11.34it/s]\n",
      "\u001b[32m2025-05-25 20:18:06.032\u001b[0m | \u001b[1mINFO    \u001b[0m | \u001b[36mmagic_pdf.data.dataset\u001b[0m:\u001b[36m__init__\u001b[0m:\u001b[36m157\u001b[0m - \u001b[1mlang: None\u001b[0m\n"
     ]
    },
    {
     "name": "stdout",
     "output_type": "stream",
     "text": [
      "2504.16947v1\n"
     ]
    },
    {
     "name": "stderr",
     "output_type": "stream",
     "text": [
      "\u001b[32m2025-05-25 20:18:06.814\u001b[0m | \u001b[1mINFO    \u001b[0m | \u001b[36mmagic_pdf.libs.pdf_check\u001b[0m:\u001b[36mdetect_invalid_chars\u001b[0m:\u001b[36m67\u001b[0m - \u001b[1mcid_count: 1, text_len: 48500, cid_chars_radio: 2.0621533004763574e-05\u001b[0m\n",
      "\u001b[32m2025-05-25 20:18:06.945\u001b[0m | \u001b[1mINFO    \u001b[0m | \u001b[36mmagic_pdf.model.doc_analyze_by_custom_model\u001b[0m:\u001b[36mmay_batch_image_analyze\u001b[0m:\u001b[36m275\u001b[0m - \u001b[1mgpu_memory: 24 GB, batch_ratio: 16\u001b[0m\n",
      "Layout Predict: 100%|██████████| 8/8 [00:00<00:00, 15.73it/s]\n",
      "MFD Predict: 100%|██████████| 8/8 [00:00<00:00, 24.32it/s]\n",
      "MFR Predict: 100%|██████████| 73/73 [00:00<00:00, 90.81it/s]\n",
      "OCR-det Predict: 100%|██████████| 8/8 [00:01<00:00,  5.48it/s]\n",
      "Table Predict: 100%|██████████| 6/6 [00:03<00:00,  1.78it/s]\n",
      "Processing pages: 100%|██████████| 8/8 [00:02<00:00,  3.88it/s]\n",
      "\u001b[32m2025-05-25 20:18:16.551\u001b[0m | \u001b[1mINFO    \u001b[0m | \u001b[36mmagic_pdf.data.dataset\u001b[0m:\u001b[36m__init__\u001b[0m:\u001b[36m157\u001b[0m - \u001b[1mlang: None\u001b[0m\n"
     ]
    },
    {
     "name": "stdout",
     "output_type": "stream",
     "text": [
      "2504.17137v1\n"
     ]
    },
    {
     "name": "stderr",
     "output_type": "stream",
     "text": [
      "\u001b[32m2025-05-25 20:18:17.704\u001b[0m | \u001b[1mINFO    \u001b[0m | \u001b[36mmagic_pdf.libs.pdf_check\u001b[0m:\u001b[36mdetect_invalid_chars\u001b[0m:\u001b[36m67\u001b[0m - \u001b[1mcid_count: 0, text_len: 31196, cid_chars_radio: 0.0\u001b[0m\n",
      "\u001b[32m2025-05-25 20:18:18.195\u001b[0m | \u001b[1mINFO    \u001b[0m | \u001b[36mmagic_pdf.model.doc_analyze_by_custom_model\u001b[0m:\u001b[36mmay_batch_image_analyze\u001b[0m:\u001b[36m275\u001b[0m - \u001b[1mgpu_memory: 24 GB, batch_ratio: 16\u001b[0m\n",
      "Layout Predict: 100%|██████████| 18/18 [00:01<00:00, 17.65it/s]\n",
      "MFD Predict: 100%|██████████| 18/18 [00:00<00:00, 26.40it/s]\n",
      "MFR Predict: 100%|██████████| 48/48 [00:00<00:00, 57.40it/s]\n",
      "OCR-det Predict: 100%|██████████| 18/18 [00:03<00:00,  5.25it/s]\n",
      "Table Predict: 100%|██████████| 10/10 [00:03<00:00,  2.79it/s]\n",
      "Processing pages: 100%|██████████| 18/18 [00:02<00:00,  7.13it/s]\n",
      "OCR-rec Predict: 100%|██████████| 28/28 [00:00<00:00, 106.14it/s]\n",
      "\u001b[32m2025-05-25 20:18:31.864\u001b[0m | \u001b[1mINFO    \u001b[0m | \u001b[36mmagic_pdf.data.dataset\u001b[0m:\u001b[36m__init__\u001b[0m:\u001b[36m157\u001b[0m - \u001b[1mlang: None\u001b[0m\n"
     ]
    },
    {
     "name": "stdout",
     "output_type": "stream",
     "text": [
      "2504.17200v1\n"
     ]
    },
    {
     "name": "stderr",
     "output_type": "stream",
     "text": [
      "\u001b[32m2025-05-25 20:18:32.746\u001b[0m | \u001b[1mINFO    \u001b[0m | \u001b[36mmagic_pdf.libs.pdf_check\u001b[0m:\u001b[36mdetect_invalid_chars\u001b[0m:\u001b[36m67\u001b[0m - \u001b[1mcid_count: 0, text_len: 47017, cid_chars_radio: 0.0\u001b[0m\n",
      "\u001b[32m2025-05-25 20:18:33.345\u001b[0m | \u001b[1mINFO    \u001b[0m | \u001b[36mmagic_pdf.model.doc_analyze_by_custom_model\u001b[0m:\u001b[36mmay_batch_image_analyze\u001b[0m:\u001b[36m275\u001b[0m - \u001b[1mgpu_memory: 24 GB, batch_ratio: 16\u001b[0m\n",
      "Layout Predict: 100%|██████████| 39/39 [00:02<00:00, 19.09it/s]\n",
      "MFD Predict: 100%|██████████| 39/39 [00:01<00:00, 24.97it/s]\n",
      "MFR Predict: 100%|██████████| 133/133 [00:00<00:00, 231.74it/s]\n",
      "OCR-det Predict: 100%|██████████| 39/39 [00:05<00:00,  6.88it/s]\n",
      "Table Predict: 100%|██████████| 15/15 [00:04<00:00,  3.14it/s]\n",
      "Processing pages: 100%|██████████| 39/39 [00:05<00:00,  7.74it/s]\n",
      "\u001b[32m2025-05-25 20:18:54.925\u001b[0m | \u001b[1mINFO    \u001b[0m | \u001b[36mmagic_pdf.data.dataset\u001b[0m:\u001b[36m__init__\u001b[0m:\u001b[36m157\u001b[0m - \u001b[1mlang: None\u001b[0m\n"
     ]
    },
    {
     "name": "stdout",
     "output_type": "stream",
     "text": [
      "2504.17547v1\n"
     ]
    },
    {
     "name": "stderr",
     "output_type": "stream",
     "text": [
      "\u001b[32m2025-05-25 20:18:55.881\u001b[0m | \u001b[1mINFO    \u001b[0m | \u001b[36mmagic_pdf.libs.pdf_check\u001b[0m:\u001b[36mdetect_invalid_chars\u001b[0m:\u001b[36m67\u001b[0m - \u001b[1mcid_count: 3, text_len: 63416, cid_chars_radio: 4.7322344033441125e-05\u001b[0m\n",
      "\u001b[32m2025-05-25 20:18:56.199\u001b[0m | \u001b[1mINFO    \u001b[0m | \u001b[36mmagic_pdf.model.doc_analyze_by_custom_model\u001b[0m:\u001b[36mmay_batch_image_analyze\u001b[0m:\u001b[36m275\u001b[0m - \u001b[1mgpu_memory: 24 GB, batch_ratio: 16\u001b[0m\n",
      "Layout Predict: 100%|██████████| 20/20 [00:01<00:00, 18.22it/s]\n",
      "MFD Predict: 100%|██████████| 20/20 [00:00<00:00, 24.66it/s]\n",
      "MFR Predict: 100%|██████████| 48/48 [00:01<00:00, 41.05it/s]\n",
      "OCR-det Predict: 100%|██████████| 20/20 [00:03<00:00,  6.47it/s]\n",
      "Table Predict: 100%|██████████| 4/4 [00:01<00:00,  3.67it/s]\n",
      "Processing pages: 100%|██████████| 20/20 [00:05<00:00,  3.36it/s]\n",
      "\u001b[32m2025-05-25 20:19:11.459\u001b[0m | \u001b[1mINFO    \u001b[0m | \u001b[36mmagic_pdf.data.dataset\u001b[0m:\u001b[36m__init__\u001b[0m:\u001b[36m157\u001b[0m - \u001b[1mlang: None\u001b[0m\n"
     ]
    },
    {
     "name": "stdout",
     "output_type": "stream",
     "text": [
      "2504.18003v1\n"
     ]
    },
    {
     "name": "stderr",
     "output_type": "stream",
     "text": [
      "\u001b[32m2025-05-25 20:19:12.772\u001b[0m | \u001b[1mINFO    \u001b[0m | \u001b[36mmagic_pdf.libs.pdf_check\u001b[0m:\u001b[36mdetect_invalid_chars\u001b[0m:\u001b[36m67\u001b[0m - \u001b[1mcid_count: 1, text_len: 25424, cid_chars_radio: 3.934374631152378e-05\u001b[0m\n",
      "\u001b[32m2025-05-25 20:19:13.576\u001b[0m | \u001b[1mINFO    \u001b[0m | \u001b[36mmagic_pdf.model.doc_analyze_by_custom_model\u001b[0m:\u001b[36mmay_batch_image_analyze\u001b[0m:\u001b[36m275\u001b[0m - \u001b[1mgpu_memory: 24 GB, batch_ratio: 16\u001b[0m\n",
      "Layout Predict: 100%|██████████| 35/35 [00:01<00:00, 19.00it/s]\n",
      "MFD Predict: 100%|██████████| 35/35 [00:01<00:00, 24.70it/s]\n",
      "MFR Predict: 100%|██████████| 240/240 [00:02<00:00, 99.34it/s]\n",
      "OCR-det Predict: 100%|██████████| 35/35 [00:04<00:00,  7.53it/s]\n",
      "Table Predict: 100%|██████████| 13/13 [00:03<00:00,  3.85it/s]\n",
      "Processing pages: 100%|██████████| 35/35 [00:03<00:00, 11.25it/s]\n",
      "OCR-rec Predict: 100%|██████████| 2/2 [00:00<00:00, 55.48it/s]\n",
      "\u001b[32m2025-05-25 20:19:31.995\u001b[0m | \u001b[1mINFO    \u001b[0m | \u001b[36mmagic_pdf.data.dataset\u001b[0m:\u001b[36m__init__\u001b[0m:\u001b[36m157\u001b[0m - \u001b[1mlang: None\u001b[0m\n"
     ]
    },
    {
     "name": "stdout",
     "output_type": "stream",
     "text": [
      "2504.18041v1\n"
     ]
    },
    {
     "name": "stderr",
     "output_type": "stream",
     "text": [
      "\u001b[32m2025-05-25 20:19:33.773\u001b[0m | \u001b[1mINFO    \u001b[0m | \u001b[36mmagic_pdf.libs.pdf_check\u001b[0m:\u001b[36mdetect_invalid_chars\u001b[0m:\u001b[36m67\u001b[0m - \u001b[1mcid_count: 0, text_len: 26367, cid_chars_radio: 0.0\u001b[0m\n",
      "\u001b[32m2025-05-25 20:19:34.964\u001b[0m | \u001b[1mINFO    \u001b[0m | \u001b[36mmagic_pdf.model.doc_analyze_by_custom_model\u001b[0m:\u001b[36mmay_batch_image_analyze\u001b[0m:\u001b[36m275\u001b[0m - \u001b[1mgpu_memory: 24 GB, batch_ratio: 16\u001b[0m\n",
      "Layout Predict: 100%|██████████| 31/31 [00:01<00:00, 19.12it/s]\n",
      "MFD Predict: 100%|██████████| 31/31 [00:01<00:00, 26.43it/s]\n",
      "MFR Predict: 100%|██████████| 92/92 [00:00<00:00, 120.01it/s]\n",
      "OCR-det Predict: 100%|██████████| 31/31 [00:05<00:00,  6.15it/s]\n",
      "Table Predict: 100%|██████████| 9/9 [00:01<00:00,  5.99it/s]\n",
      "Processing pages: 100%|██████████| 31/31 [00:04<00:00,  7.60it/s]\n",
      "OCR-rec Predict: 100%|██████████| 1/1 [00:00<00:00, 36.35it/s]\n",
      "\u001b[32m2025-05-25 20:19:51.087\u001b[0m | \u001b[1mINFO    \u001b[0m | \u001b[36mmagic_pdf.data.dataset\u001b[0m:\u001b[36m__init__\u001b[0m:\u001b[36m157\u001b[0m - \u001b[1mlang: None\u001b[0m\n"
     ]
    },
    {
     "name": "stdout",
     "output_type": "stream",
     "text": [
      "2504.18070v1\n"
     ]
    },
    {
     "name": "stderr",
     "output_type": "stream",
     "text": [
      "\u001b[32m2025-05-25 20:19:52.011\u001b[0m | \u001b[1mINFO    \u001b[0m | \u001b[36mmagic_pdf.libs.pdf_check\u001b[0m:\u001b[36mdetect_invalid_chars\u001b[0m:\u001b[36m67\u001b[0m - \u001b[1mcid_count: 12, text_len: 34119, cid_chars_radio: 0.00035257822829440284\u001b[0m\n",
      "\u001b[32m2025-05-25 20:19:52.213\u001b[0m | \u001b[1mINFO    \u001b[0m | \u001b[36mmagic_pdf.model.doc_analyze_by_custom_model\u001b[0m:\u001b[36mmay_batch_image_analyze\u001b[0m:\u001b[36m275\u001b[0m - \u001b[1mgpu_memory: 24 GB, batch_ratio: 16\u001b[0m\n",
      "Layout Predict: 100%|██████████| 20/20 [00:01<00:00, 16.29it/s]\n",
      "MFD Predict: 100%|██████████| 20/20 [00:00<00:00, 24.57it/s]\n",
      "MFR Predict: 100%|██████████| 309/309 [00:01<00:00, 191.65it/s]\n",
      "OCR-det Predict: 100%|██████████| 20/20 [00:03<00:00,  5.57it/s]\n",
      "Table Predict: 100%|██████████| 4/4 [00:01<00:00,  2.99it/s]\n",
      "Processing pages: 100%|██████████| 20/20 [00:02<00:00,  8.06it/s]\n",
      "OCR-rec Predict: 100%|██████████| 2/2 [00:00<00:00, 199.88it/s]\n",
      "\u001b[32m2025-05-25 20:20:04.798\u001b[0m | \u001b[1mINFO    \u001b[0m | \u001b[36mmagic_pdf.data.dataset\u001b[0m:\u001b[36m__init__\u001b[0m:\u001b[36m157\u001b[0m - \u001b[1mlang: None\u001b[0m\n"
     ]
    },
    {
     "name": "stdout",
     "output_type": "stream",
     "text": [
      "2504.18083v1\n"
     ]
    },
    {
     "name": "stderr",
     "output_type": "stream",
     "text": [
      "\u001b[32m2025-05-25 20:20:06.627\u001b[0m | \u001b[1mINFO    \u001b[0m | \u001b[36mmagic_pdf.libs.pdf_check\u001b[0m:\u001b[36mdetect_invalid_chars\u001b[0m:\u001b[36m67\u001b[0m - \u001b[1mcid_count: 0, text_len: 53684, cid_chars_radio: 0.0\u001b[0m\n",
      "\u001b[32m2025-05-25 20:20:07.921\u001b[0m | \u001b[1mINFO    \u001b[0m | \u001b[36mmagic_pdf.model.doc_analyze_by_custom_model\u001b[0m:\u001b[36mmay_batch_image_analyze\u001b[0m:\u001b[36m275\u001b[0m - \u001b[1mgpu_memory: 24 GB, batch_ratio: 16\u001b[0m\n",
      "Layout Predict: 100%|██████████| 21/21 [00:01<00:00, 16.48it/s]\n",
      "MFD Predict: 100%|██████████| 21/21 [00:00<00:00, 24.62it/s]\n",
      "MFR Predict: 100%|██████████| 89/89 [00:00<00:00, 196.72it/s]\n",
      "OCR-det Predict: 100%|██████████| 21/21 [00:03<00:00,  6.26it/s]\n",
      "Table Predict: 100%|██████████| 5/5 [00:01<00:00,  3.03it/s]\n",
      "Processing pages: 100%|██████████| 21/21 [00:05<00:00,  3.69it/s]\n",
      "\u001b[32m2025-05-25 20:20:23.603\u001b[0m | \u001b[1mINFO    \u001b[0m | \u001b[36mmagic_pdf.data.dataset\u001b[0m:\u001b[36m__init__\u001b[0m:\u001b[36m157\u001b[0m - \u001b[1mlang: None\u001b[0m\n"
     ]
    },
    {
     "name": "stdout",
     "output_type": "stream",
     "text": [
      "2504.18369v1\n"
     ]
    },
    {
     "name": "stderr",
     "output_type": "stream",
     "text": [
      "\u001b[32m2025-05-25 20:20:24.013\u001b[0m | \u001b[1mINFO    \u001b[0m | \u001b[36mmagic_pdf.libs.pdf_check\u001b[0m:\u001b[36mdetect_invalid_chars\u001b[0m:\u001b[36m67\u001b[0m - \u001b[1mcid_count: 0, text_len: 31179, cid_chars_radio: 0.0\u001b[0m\n",
      "\u001b[32m2025-05-25 20:20:24.118\u001b[0m | \u001b[1mINFO    \u001b[0m | \u001b[36mmagic_pdf.model.doc_analyze_by_custom_model\u001b[0m:\u001b[36mmay_batch_image_analyze\u001b[0m:\u001b[36m275\u001b[0m - \u001b[1mgpu_memory: 24 GB, batch_ratio: 16\u001b[0m\n",
      "Layout Predict: 100%|██████████| 9/9 [00:00<00:00, 14.40it/s]\n",
      "MFD Predict: 100%|██████████| 9/9 [00:00<00:00, 24.18it/s]\n",
      "MFR Predict: 100%|██████████| 7/7 [00:00<00:00, 49.39it/s]\n",
      "OCR-det Predict: 100%|██████████| 9/9 [00:01<00:00,  8.95it/s]\n",
      "Table Predict: 100%|██████████| 2/2 [00:00<00:00,  4.11it/s]\n",
      "Processing pages: 100%|██████████| 9/9 [00:00<00:00, 11.56it/s]\n",
      "\u001b[32m2025-05-25 20:20:28.235\u001b[0m | \u001b[1mINFO    \u001b[0m | \u001b[36mmagic_pdf.data.dataset\u001b[0m:\u001b[36m__init__\u001b[0m:\u001b[36m157\u001b[0m - \u001b[1mlang: None\u001b[0m\n"
     ]
    },
    {
     "name": "stdout",
     "output_type": "stream",
     "text": [
      "2504.18423v1\n"
     ]
    },
    {
     "name": "stderr",
     "output_type": "stream",
     "text": [
      "\u001b[32m2025-05-25 20:20:28.671\u001b[0m | \u001b[1mINFO    \u001b[0m | \u001b[36mmagic_pdf.libs.pdf_check\u001b[0m:\u001b[36mdetect_invalid_chars\u001b[0m:\u001b[36m67\u001b[0m - \u001b[1mcid_count: 0, text_len: 41512, cid_chars_radio: 0.0\u001b[0m\n",
      "\u001b[32m2025-05-25 20:20:28.726\u001b[0m | \u001b[1mINFO    \u001b[0m | \u001b[36mmagic_pdf.model.doc_analyze_by_custom_model\u001b[0m:\u001b[36mmay_batch_image_analyze\u001b[0m:\u001b[36m275\u001b[0m - \u001b[1mgpu_memory: 24 GB, batch_ratio: 16\u001b[0m\n",
      "Layout Predict: 100%|██████████| 8/8 [00:00<00:00, 16.16it/s]\n",
      "MFD Predict: 100%|██████████| 8/8 [00:00<00:00, 24.29it/s]\n",
      "MFR Predict: 100%|██████████| 17/17 [00:00<00:00, 84.23it/s]\n",
      "OCR-det Predict: 100%|██████████| 8/8 [00:01<00:00,  4.50it/s]\n",
      "Table Predict: 100%|██████████| 5/5 [00:00<00:00,  5.04it/s]\n",
      "Processing pages: 100%|██████████| 8/8 [00:01<00:00,  4.75it/s]\n",
      "\u001b[32m2025-05-25 20:20:35.167\u001b[0m | \u001b[1mINFO    \u001b[0m | \u001b[36mmagic_pdf.data.dataset\u001b[0m:\u001b[36m__init__\u001b[0m:\u001b[36m157\u001b[0m - \u001b[1mlang: None\u001b[0m\n"
     ]
    },
    {
     "name": "stdout",
     "output_type": "stream",
     "text": [
      "2504.18793v1\n"
     ]
    },
    {
     "name": "stderr",
     "output_type": "stream",
     "text": [
      "\u001b[32m2025-05-25 20:20:35.498\u001b[0m | \u001b[1mINFO    \u001b[0m | \u001b[36mmagic_pdf.libs.pdf_check\u001b[0m:\u001b[36mdetect_invalid_chars\u001b[0m:\u001b[36m67\u001b[0m - \u001b[1mcid_count: 0, text_len: 26249, cid_chars_radio: 0.0\u001b[0m\n",
      "\u001b[32m2025-05-25 20:20:35.570\u001b[0m | \u001b[1mINFO    \u001b[0m | \u001b[36mmagic_pdf.model.doc_analyze_by_custom_model\u001b[0m:\u001b[36mmay_batch_image_analyze\u001b[0m:\u001b[36m275\u001b[0m - \u001b[1mgpu_memory: 24 GB, batch_ratio: 16\u001b[0m\n",
      "Layout Predict: 100%|██████████| 9/9 [00:00<00:00, 12.60it/s]\n",
      "MFD Predict: 100%|██████████| 9/9 [00:00<00:00, 24.74it/s]\n",
      "MFR Predict: 0it [00:00, ?it/s]\n",
      "OCR-det Predict: 100%|██████████| 9/9 [00:01<00:00,  6.02it/s]\n",
      "Table Predict: 0it [00:00, ?it/s]\n",
      "Processing pages: 100%|██████████| 9/9 [00:00<00:00, 13.32it/s]\n",
      "\u001b[32m2025-05-25 20:20:39.445\u001b[0m | \u001b[1mINFO    \u001b[0m | \u001b[36mmagic_pdf.data.dataset\u001b[0m:\u001b[36m__init__\u001b[0m:\u001b[36m157\u001b[0m - \u001b[1mlang: None\u001b[0m\n"
     ]
    },
    {
     "name": "stdout",
     "output_type": "stream",
     "text": [
      "2504.19101v1\n"
     ]
    },
    {
     "name": "stderr",
     "output_type": "stream",
     "text": [
      "\u001b[32m2025-05-25 20:20:41.779\u001b[0m | \u001b[1mINFO    \u001b[0m | \u001b[36mmagic_pdf.libs.pdf_check\u001b[0m:\u001b[36mdetect_invalid_chars\u001b[0m:\u001b[36m67\u001b[0m - \u001b[1mcid_count: 11, text_len: 60830, cid_chars_radio: 0.00018107592019490353\u001b[0m\n",
      "\u001b[32m2025-05-25 20:20:42.296\u001b[0m | \u001b[1mINFO    \u001b[0m | \u001b[36mmagic_pdf.model.doc_analyze_by_custom_model\u001b[0m:\u001b[36mmay_batch_image_analyze\u001b[0m:\u001b[36m275\u001b[0m - \u001b[1mgpu_memory: 24 GB, batch_ratio: 16\u001b[0m\n",
      "Layout Predict: 100%|██████████| 18/18 [00:01<00:00, 16.78it/s]\n",
      "MFD Predict: 100%|██████████| 18/18 [00:00<00:00, 24.64it/s]\n",
      "MFR Predict: 100%|██████████| 174/174 [00:02<00:00, 74.72it/s]\n",
      "OCR-det Predict: 100%|██████████| 18/18 [00:03<00:00,  4.87it/s]\n",
      "Table Predict: 100%|██████████| 5/5 [00:01<00:00,  2.58it/s]\n",
      "Processing pages: 100%|██████████| 18/18 [00:05<00:00,  3.23it/s]\n",
      "\u001b[32m2025-05-25 20:20:59.933\u001b[0m | \u001b[1mINFO    \u001b[0m | \u001b[36mmagic_pdf.data.dataset\u001b[0m:\u001b[36m__init__\u001b[0m:\u001b[36m157\u001b[0m - \u001b[1mlang: None\u001b[0m\n"
     ]
    },
    {
     "name": "stdout",
     "output_type": "stream",
     "text": [
      "2504.19413v1\n"
     ]
    },
    {
     "name": "stderr",
     "output_type": "stream",
     "text": [
      "\u001b[32m2025-05-25 20:21:00.622\u001b[0m | \u001b[1mINFO    \u001b[0m | \u001b[36mmagic_pdf.libs.pdf_check\u001b[0m:\u001b[36mdetect_invalid_chars\u001b[0m:\u001b[36m67\u001b[0m - \u001b[1mcid_count: 0, text_len: 33120, cid_chars_radio: 0.0\u001b[0m\n",
      "\u001b[32m2025-05-25 20:21:01.008\u001b[0m | \u001b[1mINFO    \u001b[0m | \u001b[36mmagic_pdf.model.doc_analyze_by_custom_model\u001b[0m:\u001b[36mmay_batch_image_analyze\u001b[0m:\u001b[36m275\u001b[0m - \u001b[1mgpu_memory: 24 GB, batch_ratio: 16\u001b[0m\n",
      "Layout Predict: 100%|██████████| 23/23 [00:01<00:00, 16.06it/s]\n",
      "MFD Predict: 100%|██████████| 23/23 [00:00<00:00, 24.83it/s]\n",
      "MFR Predict: 100%|██████████| 147/147 [00:00<00:00, 164.13it/s]\n",
      "OCR-det Predict: 100%|██████████| 23/23 [00:03<00:00,  7.48it/s]\n",
      "Table Predict: 100%|██████████| 3/3 [00:01<00:00,  1.81it/s]\n",
      "Processing pages: 100%|██████████| 23/23 [00:02<00:00, 11.27it/s]\n",
      "OCR-rec Predict: 100%|██████████| 24/24 [00:00<00:00, 244.05it/s]\n",
      "\u001b[32m2025-05-25 20:21:12.411\u001b[0m | \u001b[1mINFO    \u001b[0m | \u001b[36mmagic_pdf.data.dataset\u001b[0m:\u001b[36m__init__\u001b[0m:\u001b[36m157\u001b[0m - \u001b[1mlang: None\u001b[0m\n"
     ]
    },
    {
     "name": "stdout",
     "output_type": "stream",
     "text": [
      "2504.19436v1\n"
     ]
    },
    {
     "name": "stderr",
     "output_type": "stream",
     "text": [
      "\u001b[32m2025-05-25 20:21:13.928\u001b[0m | \u001b[1mINFO    \u001b[0m | \u001b[36mmagic_pdf.libs.pdf_check\u001b[0m:\u001b[36mdetect_invalid_chars\u001b[0m:\u001b[36m67\u001b[0m - \u001b[1mcid_count: 0, text_len: 24989, cid_chars_radio: 0.0\u001b[0m\n",
      "\u001b[32m2025-05-25 20:21:13.995\u001b[0m | \u001b[1mINFO    \u001b[0m | \u001b[36mmagic_pdf.model.doc_analyze_by_custom_model\u001b[0m:\u001b[36mmay_batch_image_analyze\u001b[0m:\u001b[36m275\u001b[0m - \u001b[1mgpu_memory: 24 GB, batch_ratio: 16\u001b[0m\n",
      "Layout Predict: 100%|██████████| 5/5 [00:00<00:00,  8.79it/s]\n",
      "MFD Predict: 100%|██████████| 5/5 [00:00<00:00, 23.79it/s]\n",
      "MFR Predict: 100%|██████████| 36/36 [00:01<00:00, 32.62it/s]\n",
      "OCR-det Predict: 100%|██████████| 5/5 [00:01<00:00,  4.63it/s]\n",
      "Table Predict: 100%|██████████| 1/1 [00:00<00:00,  8.75it/s]\n",
      "Processing pages: 100%|██████████| 5/5 [00:01<00:00,  4.72it/s]\n",
      "\u001b[32m2025-05-25 20:21:19.856\u001b[0m | \u001b[1mINFO    \u001b[0m | \u001b[36mmagic_pdf.data.dataset\u001b[0m:\u001b[36m__init__\u001b[0m:\u001b[36m157\u001b[0m - \u001b[1mlang: None\u001b[0m\n"
     ]
    },
    {
     "name": "stdout",
     "output_type": "stream",
     "text": [
      "2504.19754v1\n"
     ]
    },
    {
     "name": "stderr",
     "output_type": "stream",
     "text": [
      "\u001b[32m2025-05-25 20:21:20.425\u001b[0m | \u001b[1mINFO    \u001b[0m | \u001b[36mmagic_pdf.libs.pdf_check\u001b[0m:\u001b[36mdetect_invalid_chars\u001b[0m:\u001b[36m67\u001b[0m - \u001b[1mcid_count: 0, text_len: 26408, cid_chars_radio: 0.0\u001b[0m\n",
      "\u001b[32m2025-05-25 20:21:20.522\u001b[0m | \u001b[1mINFO    \u001b[0m | \u001b[36mmagic_pdf.model.doc_analyze_by_custom_model\u001b[0m:\u001b[36mmay_batch_image_analyze\u001b[0m:\u001b[36m275\u001b[0m - \u001b[1mgpu_memory: 24 GB, batch_ratio: 16\u001b[0m\n",
      "Layout Predict: 100%|██████████| 15/15 [00:00<00:00, 16.60it/s]\n",
      "MFD Predict: 100%|██████████| 15/15 [00:00<00:00, 24.65it/s]\n",
      "MFR Predict: 100%|██████████| 12/12 [00:00<00:00, 86.51it/s]\n",
      "OCR-det Predict: 100%|██████████| 15/15 [00:01<00:00,  8.77it/s]\n",
      "Table Predict: 100%|██████████| 5/5 [00:01<00:00,  2.94it/s]\n",
      "Processing pages: 100%|██████████| 15/15 [00:01<00:00, 14.41it/s]\n",
      "\u001b[32m2025-05-25 20:21:27.414\u001b[0m | \u001b[1mINFO    \u001b[0m | \u001b[36mmagic_pdf.data.dataset\u001b[0m:\u001b[36m__init__\u001b[0m:\u001b[36m157\u001b[0m - \u001b[1mlang: None\u001b[0m\n"
     ]
    },
    {
     "name": "stdout",
     "output_type": "stream",
     "text": [
      "2504.20006v1\n"
     ]
    },
    {
     "name": "stderr",
     "output_type": "stream",
     "text": [
      "\u001b[32m2025-05-25 20:21:28.267\u001b[0m | \u001b[1mINFO    \u001b[0m | \u001b[36mmagic_pdf.libs.pdf_check\u001b[0m:\u001b[36mdetect_invalid_chars\u001b[0m:\u001b[36m67\u001b[0m - \u001b[1mcid_count: 0, text_len: 34394, cid_chars_radio: 0.0\u001b[0m\n",
      "\u001b[32m2025-05-25 20:21:28.545\u001b[0m | \u001b[1mINFO    \u001b[0m | \u001b[36mmagic_pdf.model.doc_analyze_by_custom_model\u001b[0m:\u001b[36mmay_batch_image_analyze\u001b[0m:\u001b[36m275\u001b[0m - \u001b[1mgpu_memory: 24 GB, batch_ratio: 16\u001b[0m\n",
      "Layout Predict: 100%|██████████| 10/10 [00:00<00:00, 14.17it/s]\n",
      "MFD Predict: 100%|██████████| 10/10 [00:00<00:00, 26.25it/s]\n",
      "MFR Predict: 100%|██████████| 74/74 [00:00<00:00, 167.58it/s]\n",
      "OCR-det Predict: 100%|██████████| 10/10 [00:01<00:00,  6.68it/s]\n",
      "Table Predict: 100%|██████████| 3/3 [00:00<00:00,  6.95it/s]\n",
      "Processing pages: 100%|██████████| 10/10 [00:01<00:00,  6.75it/s]\n",
      "\u001b[32m2025-05-25 20:21:34.541\u001b[0m | \u001b[1mINFO    \u001b[0m | \u001b[36mmagic_pdf.data.dataset\u001b[0m:\u001b[36m__init__\u001b[0m:\u001b[36m157\u001b[0m - \u001b[1mlang: None\u001b[0m\n"
     ]
    },
    {
     "name": "stdout",
     "output_type": "stream",
     "text": [
      "2504.20114v2\n"
     ]
    },
    {
     "name": "stderr",
     "output_type": "stream",
     "text": [
      "\u001b[32m2025-05-25 20:21:35.019\u001b[0m | \u001b[1mINFO    \u001b[0m | \u001b[36mmagic_pdf.libs.pdf_check\u001b[0m:\u001b[36mdetect_invalid_chars\u001b[0m:\u001b[36m67\u001b[0m - \u001b[1mcid_count: 0, text_len: 33463, cid_chars_radio: 0.0\u001b[0m\n",
      "\u001b[32m2025-05-25 20:21:35.221\u001b[0m | \u001b[1mINFO    \u001b[0m | \u001b[36mmagic_pdf.model.doc_analyze_by_custom_model\u001b[0m:\u001b[36mmay_batch_image_analyze\u001b[0m:\u001b[36m275\u001b[0m - \u001b[1mgpu_memory: 24 GB, batch_ratio: 16\u001b[0m\n",
      "Layout Predict: 100%|██████████| 21/21 [00:01<00:00, 17.91it/s]\n",
      "MFD Predict: 100%|██████████| 21/21 [00:00<00:00, 24.80it/s]\n",
      "MFR Predict: 100%|██████████| 131/131 [00:01<00:00, 91.23it/s]\n",
      "OCR-det Predict: 100%|██████████| 21/21 [00:02<00:00,  8.84it/s]\n",
      "Table Predict: 100%|██████████| 11/11 [00:02<00:00,  5.15it/s]\n",
      "Processing pages: 100%|██████████| 21/21 [00:01<00:00, 11.23it/s]\n",
      "\u001b[32m2025-05-25 20:21:46.121\u001b[0m | \u001b[1mINFO    \u001b[0m | \u001b[36mmagic_pdf.data.dataset\u001b[0m:\u001b[36m__init__\u001b[0m:\u001b[36m157\u001b[0m - \u001b[1mlang: None\u001b[0m\n"
     ]
    },
    {
     "name": "stdout",
     "output_type": "stream",
     "text": [
      "2504.20118v1\n"
     ]
    },
    {
     "name": "stderr",
     "output_type": "stream",
     "text": [
      "\u001b[32m2025-05-25 20:21:46.635\u001b[0m | \u001b[1mINFO    \u001b[0m | \u001b[36mmagic_pdf.libs.pdf_check\u001b[0m:\u001b[36mdetect_invalid_chars\u001b[0m:\u001b[36m67\u001b[0m - \u001b[1mcid_count: 0, text_len: 33840, cid_chars_radio: 0.0\u001b[0m\n",
      "\u001b[32m2025-05-25 20:21:46.725\u001b[0m | \u001b[1mINFO    \u001b[0m | \u001b[36mmagic_pdf.model.doc_analyze_by_custom_model\u001b[0m:\u001b[36mmay_batch_image_analyze\u001b[0m:\u001b[36m275\u001b[0m - \u001b[1mgpu_memory: 24 GB, batch_ratio: 16\u001b[0m\n",
      "Layout Predict: 100%|██████████| 8/8 [00:00<00:00, 14.41it/s]\n",
      "MFD Predict: 100%|██████████| 8/8 [00:00<00:00, 24.27it/s]\n",
      "MFR Predict: 100%|██████████| 40/40 [00:00<00:00, 53.25it/s]\n",
      "OCR-det Predict: 100%|██████████| 8/8 [00:01<00:00,  5.65it/s]\n",
      "Table Predict: 100%|██████████| 7/7 [00:00<00:00, 10.39it/s]\n",
      "Processing pages: 100%|██████████| 8/8 [00:01<00:00,  5.63it/s]\n",
      "\u001b[32m2025-05-25 20:21:52.878\u001b[0m | \u001b[1mINFO    \u001b[0m | \u001b[36mmagic_pdf.data.dataset\u001b[0m:\u001b[36m__init__\u001b[0m:\u001b[36m157\u001b[0m - \u001b[1mlang: None\u001b[0m\n"
     ]
    },
    {
     "name": "stdout",
     "output_type": "stream",
     "text": [
      "2504.20119v2\n"
     ]
    },
    {
     "name": "stderr",
     "output_type": "stream",
     "text": [
      "\u001b[32m2025-05-25 20:21:53.658\u001b[0m | \u001b[1mINFO    \u001b[0m | \u001b[36mmagic_pdf.libs.pdf_check\u001b[0m:\u001b[36mdetect_invalid_chars\u001b[0m:\u001b[36m67\u001b[0m - \u001b[1mcid_count: 0, text_len: 51461, cid_chars_radio: 0.0\u001b[0m\n",
      "\u001b[32m2025-05-25 20:21:53.727\u001b[0m | \u001b[1mINFO    \u001b[0m | \u001b[36mmagic_pdf.model.doc_analyze_by_custom_model\u001b[0m:\u001b[36mmay_batch_image_analyze\u001b[0m:\u001b[36m275\u001b[0m - \u001b[1mgpu_memory: 24 GB, batch_ratio: 16\u001b[0m\n",
      "Layout Predict: 100%|██████████| 8/8 [00:00<00:00, 15.40it/s]\n",
      "MFD Predict: 100%|██████████| 8/8 [00:00<00:00, 24.64it/s]\n",
      "MFR Predict: 100%|██████████| 5/5 [00:00<00:00, 33.38it/s]\n",
      "OCR-det Predict: 100%|██████████| 8/8 [00:01<00:00,  5.99it/s]\n",
      "Table Predict: 100%|██████████| 5/5 [00:00<00:00,  6.78it/s]\n",
      "Processing pages: 100%|██████████| 8/8 [00:02<00:00,  3.28it/s]\n",
      "OCR-rec Predict: 100%|██████████| 1/1 [00:00<00:00, 104.51it/s]\n",
      "\u001b[32m2025-05-25 20:22:01.295\u001b[0m | \u001b[1mINFO    \u001b[0m | \u001b[36mmagic_pdf.data.dataset\u001b[0m:\u001b[36m__init__\u001b[0m:\u001b[36m157\u001b[0m - \u001b[1mlang: None\u001b[0m\n"
     ]
    },
    {
     "name": "stdout",
     "output_type": "stream",
     "text": [
      "2504.20368v1\n"
     ]
    },
    {
     "name": "stderr",
     "output_type": "stream",
     "text": [
      "\u001b[32m2025-05-25 20:22:02.086\u001b[0m | \u001b[1mINFO    \u001b[0m | \u001b[36mmagic_pdf.libs.pdf_check\u001b[0m:\u001b[36mdetect_invalid_chars\u001b[0m:\u001b[36m67\u001b[0m - \u001b[1mcid_count: 0, text_len: 11212, cid_chars_radio: 0.0\u001b[0m\n",
      "\u001b[32m2025-05-25 20:22:02.493\u001b[0m | \u001b[1mINFO    \u001b[0m | \u001b[36mmagic_pdf.model.doc_analyze_by_custom_model\u001b[0m:\u001b[36mmay_batch_image_analyze\u001b[0m:\u001b[36m275\u001b[0m - \u001b[1mgpu_memory: 24 GB, batch_ratio: 16\u001b[0m\n",
      "Layout Predict: 100%|██████████| 20/20 [00:01<00:00, 17.84it/s]\n",
      "MFD Predict: 100%|██████████| 20/20 [00:00<00:00, 26.49it/s]\n",
      "MFR Predict: 100%|██████████| 130/130 [00:01<00:00, 92.97it/s]\n",
      "OCR-det Predict: 100%|██████████| 20/20 [00:01<00:00, 14.74it/s]\n",
      "Table Predict: 100%|██████████| 8/8 [00:03<00:00,  2.05it/s]\n",
      "Processing pages: 100%|██████████| 20/20 [00:01<00:00, 15.26it/s]\n",
      "OCR-rec Predict: 100%|██████████| 16/16 [00:00<00:00, 275.27it/s]\n",
      "\u001b[32m2025-05-25 20:22:13.386\u001b[0m | \u001b[1mINFO    \u001b[0m | \u001b[36mmagic_pdf.data.dataset\u001b[0m:\u001b[36m__init__\u001b[0m:\u001b[36m157\u001b[0m - \u001b[1mlang: None\u001b[0m\n"
     ]
    },
    {
     "name": "stdout",
     "output_type": "stream",
     "text": [
      "2504.20434v1\n"
     ]
    },
    {
     "name": "stderr",
     "output_type": "stream",
     "text": [
      "\u001b[32m2025-05-25 20:22:14.045\u001b[0m | \u001b[1mINFO    \u001b[0m | \u001b[36mmagic_pdf.libs.pdf_check\u001b[0m:\u001b[36mdetect_invalid_chars\u001b[0m:\u001b[36m67\u001b[0m - \u001b[1mcid_count: 9, text_len: 42578, cid_chars_radio: 0.00021173481390862468\u001b[0m\n",
      "\u001b[32m2025-05-25 20:22:14.171\u001b[0m | \u001b[1mINFO    \u001b[0m | \u001b[36mmagic_pdf.model.doc_analyze_by_custom_model\u001b[0m:\u001b[36mmay_batch_image_analyze\u001b[0m:\u001b[36m275\u001b[0m - \u001b[1mgpu_memory: 24 GB, batch_ratio: 16\u001b[0m\n",
      "Layout Predict: 100%|██████████| 9/9 [00:00<00:00, 13.58it/s]\n",
      "MFD Predict: 100%|██████████| 9/9 [00:00<00:00, 23.88it/s]\n",
      "MFR Predict: 100%|██████████| 136/136 [00:01<00:00, 93.01it/s]\n",
      "OCR-det Predict: 100%|██████████| 9/9 [00:02<00:00,  4.19it/s]\n",
      "Table Predict: 100%|██████████| 3/3 [00:00<00:00,  6.87it/s]\n",
      "Processing pages: 100%|██████████| 9/9 [00:01<00:00,  4.75it/s]\n",
      "OCR-rec Predict: 100%|██████████| 3/3 [00:00<00:00, 239.06it/s]\n",
      "\u001b[32m2025-05-25 20:22:22.566\u001b[0m | \u001b[1mINFO    \u001b[0m | \u001b[36mmagic_pdf.data.dataset\u001b[0m:\u001b[36m__init__\u001b[0m:\u001b[36m157\u001b[0m - \u001b[1mlang: None\u001b[0m\n"
     ]
    },
    {
     "name": "stdout",
     "output_type": "stream",
     "text": [
      "2504.20610v1\n"
     ]
    },
    {
     "name": "stderr",
     "output_type": "stream",
     "text": [
      "\u001b[32m2025-05-25 20:22:28.063\u001b[0m | \u001b[1mINFO    \u001b[0m | \u001b[36mmagic_pdf.libs.pdf_check\u001b[0m:\u001b[36mdetect_invalid_chars\u001b[0m:\u001b[36m67\u001b[0m - \u001b[1mcid_count: 4, text_len: 62254, cid_chars_radio: 6.4285943878371e-05\u001b[0m\n",
      "\u001b[32m2025-05-25 20:22:28.452\u001b[0m | \u001b[1mINFO    \u001b[0m | \u001b[36mmagic_pdf.model.doc_analyze_by_custom_model\u001b[0m:\u001b[36mmay_batch_image_analyze\u001b[0m:\u001b[36m275\u001b[0m - \u001b[1mgpu_memory: 24 GB, batch_ratio: 16\u001b[0m\n",
      "Layout Predict: 100%|██████████| 11/11 [00:00<00:00, 14.70it/s]\n",
      "MFD Predict: 100%|██████████| 11/11 [00:00<00:00, 24.49it/s]\n",
      "MFR Predict: 100%|██████████| 207/207 [00:06<00:00, 30.46it/s]\n",
      "OCR-det Predict: 100%|██████████| 11/11 [00:02<00:00,  4.96it/s]\n",
      "Table Predict: 100%|██████████| 1/1 [00:00<00:00,  3.99it/s]\n",
      "Processing pages: 100%|██████████| 11/11 [00:03<00:00,  3.13it/s]\n",
      "\u001b[32m2025-05-25 20:22:44.327\u001b[0m | \u001b[1mINFO    \u001b[0m | \u001b[36mmagic_pdf.data.dataset\u001b[0m:\u001b[36m__init__\u001b[0m:\u001b[36m157\u001b[0m - \u001b[1mlang: None\u001b[0m\n"
     ]
    },
    {
     "name": "stdout",
     "output_type": "stream",
     "text": [
      "2504.20653v1\n"
     ]
    },
    {
     "name": "stderr",
     "output_type": "stream",
     "text": [
      "\u001b[32m2025-05-25 20:22:46.080\u001b[0m | \u001b[1mINFO    \u001b[0m | \u001b[36mmagic_pdf.libs.pdf_check\u001b[0m:\u001b[36mdetect_invalid_chars\u001b[0m:\u001b[36m67\u001b[0m - \u001b[1mcid_count: 5, text_len: 50082, cid_chars_radio: 9.990608827701961e-05\u001b[0m\n",
      "\u001b[32m2025-05-25 20:22:46.439\u001b[0m | \u001b[1mINFO    \u001b[0m | \u001b[36mmagic_pdf.model.doc_analyze_by_custom_model\u001b[0m:\u001b[36mmay_batch_image_analyze\u001b[0m:\u001b[36m275\u001b[0m - \u001b[1mgpu_memory: 24 GB, batch_ratio: 16\u001b[0m\n",
      "Layout Predict: 100%|██████████| 9/9 [00:00<00:00, 13.75it/s]\n",
      "MFD Predict: 100%|██████████| 9/9 [00:00<00:00, 24.34it/s]\n",
      "MFR Predict: 100%|██████████| 143/143 [00:01<00:00, 120.56it/s]\n",
      "OCR-det Predict: 100%|██████████| 9/9 [00:01<00:00,  5.86it/s]\n",
      "Table Predict: 100%|██████████| 5/5 [00:02<00:00,  1.78it/s]\n",
      "Processing pages: 100%|██████████| 9/9 [00:02<00:00,  4.26it/s]\n",
      "\u001b[32m2025-05-25 20:22:56.417\u001b[0m | \u001b[1mINFO    \u001b[0m | \u001b[36mmagic_pdf.data.dataset\u001b[0m:\u001b[36m__init__\u001b[0m:\u001b[36m157\u001b[0m - \u001b[1mlang: None\u001b[0m\n"
     ]
    },
    {
     "name": "stdout",
     "output_type": "stream",
     "text": [
      "2504.20734v1\n"
     ]
    },
    {
     "name": "stderr",
     "output_type": "stream",
     "text": [
      "\u001b[32m2025-05-25 20:22:59.048\u001b[0m | \u001b[1mINFO    \u001b[0m | \u001b[36mmagic_pdf.libs.pdf_check\u001b[0m:\u001b[36mdetect_invalid_chars\u001b[0m:\u001b[36m67\u001b[0m - \u001b[1mcid_count: 0, text_len: 36976, cid_chars_radio: 0.0\u001b[0m\n",
      "\u001b[32m2025-05-25 20:22:59.459\u001b[0m | \u001b[1mINFO    \u001b[0m | \u001b[36mmagic_pdf.model.doc_analyze_by_custom_model\u001b[0m:\u001b[36mmay_batch_image_analyze\u001b[0m:\u001b[36m275\u001b[0m - \u001b[1mgpu_memory: 24 GB, batch_ratio: 16\u001b[0m\n",
      "Layout Predict: 100%|██████████| 20/20 [00:01<00:00, 17.61it/s]\n",
      "MFD Predict: 100%|██████████| 20/20 [00:00<00:00, 26.78it/s]\n",
      "MFR Predict: 100%|██████████| 66/66 [00:03<00:00, 18.94it/s]\n",
      "OCR-det Predict: 100%|██████████| 20/20 [00:03<00:00,  6.23it/s]\n",
      "Table Predict: 100%|██████████| 11/11 [00:05<00:00,  2.05it/s]\n",
      "Processing pages: 100%|██████████| 20/20 [00:03<00:00,  5.68it/s]\n",
      "\u001b[32m2025-05-25 20:23:18.673\u001b[0m | \u001b[1mINFO    \u001b[0m | \u001b[36mmagic_pdf.data.dataset\u001b[0m:\u001b[36m__init__\u001b[0m:\u001b[36m157\u001b[0m - \u001b[1mlang: None\u001b[0m\n"
     ]
    },
    {
     "name": "stdout",
     "output_type": "stream",
     "text": [
      "2504.20898v2\n"
     ]
    },
    {
     "name": "stderr",
     "output_type": "stream",
     "text": [
      "\u001b[32m2025-05-25 20:23:19.479\u001b[0m | \u001b[1mINFO    \u001b[0m | \u001b[36mmagic_pdf.libs.pdf_check\u001b[0m:\u001b[36mdetect_invalid_chars\u001b[0m:\u001b[36m67\u001b[0m - \u001b[1mcid_count: 0, text_len: 15848, cid_chars_radio: 0.0\u001b[0m\n",
      "\u001b[32m2025-05-25 20:23:19.553\u001b[0m | \u001b[1mINFO    \u001b[0m | \u001b[36mmagic_pdf.model.doc_analyze_by_custom_model\u001b[0m:\u001b[36mmay_batch_image_analyze\u001b[0m:\u001b[36m275\u001b[0m - \u001b[1mgpu_memory: 24 GB, batch_ratio: 16\u001b[0m\n",
      "Layout Predict: 100%|██████████| 3/3 [00:00<00:00,  6.81it/s]\n",
      "MFD Predict: 100%|██████████| 3/3 [00:00<00:00, 21.47it/s]\n",
      "MFR Predict: 100%|██████████| 10/10 [00:00<00:00, 109.76it/s]\n",
      "OCR-det Predict: 100%|██████████| 3/3 [00:00<00:00,  5.35it/s]\n",
      "Table Predict: 0it [00:00, ?it/s]\n",
      "Processing pages: 100%|██████████| 3/3 [00:00<00:00,  4.73it/s]\n",
      "\u001b[32m2025-05-25 20:23:22.220\u001b[0m | \u001b[1mINFO    \u001b[0m | \u001b[36mmagic_pdf.data.dataset\u001b[0m:\u001b[36m__init__\u001b[0m:\u001b[36m157\u001b[0m - \u001b[1mlang: None\u001b[0m\n"
     ]
    },
    {
     "name": "stdout",
     "output_type": "stream",
     "text": [
      "2504.21165v1\n"
     ]
    },
    {
     "name": "stderr",
     "output_type": "stream",
     "text": [
      "\u001b[32m2025-05-25 20:23:23.057\u001b[0m | \u001b[1mINFO    \u001b[0m | \u001b[36mmagic_pdf.libs.pdf_check\u001b[0m:\u001b[36mdetect_invalid_chars\u001b[0m:\u001b[36m67\u001b[0m - \u001b[1mcid_count: 0, text_len: 50536, cid_chars_radio: 0.0\u001b[0m\n",
      "\u001b[32m2025-05-25 20:23:23.308\u001b[0m | \u001b[1mINFO    \u001b[0m | \u001b[36mmagic_pdf.model.doc_analyze_by_custom_model\u001b[0m:\u001b[36mmay_batch_image_analyze\u001b[0m:\u001b[36m275\u001b[0m - \u001b[1mgpu_memory: 24 GB, batch_ratio: 16\u001b[0m\n",
      "Layout Predict: 100%|██████████| 16/16 [00:00<00:00, 16.98it/s]\n",
      "MFD Predict: 100%|██████████| 16/16 [00:00<00:00, 26.56it/s]\n",
      "MFR Predict: 100%|██████████| 68/68 [00:00<00:00, 75.15it/s]\n",
      "OCR-det Predict: 100%|██████████| 16/16 [00:03<00:00,  4.79it/s]\n",
      "Table Predict: 100%|██████████| 11/11 [00:01<00:00,  5.57it/s]\n",
      "Processing pages: 100%|██████████| 16/16 [00:03<00:00,  4.28it/s]\n",
      "OCR-rec Predict: 100%|██████████| 1/1 [00:00<00:00, 66.60it/s]\n",
      "\u001b[32m2025-05-25 20:23:36.478\u001b[0m | \u001b[1mINFO    \u001b[0m | \u001b[36mmagic_pdf.data.dataset\u001b[0m:\u001b[36m__init__\u001b[0m:\u001b[36m157\u001b[0m - \u001b[1mlang: None\u001b[0m\n"
     ]
    },
    {
     "name": "stdout",
     "output_type": "stream",
     "text": [
      "2504.21239v1\n"
     ]
    },
    {
     "name": "stderr",
     "output_type": "stream",
     "text": [
      "\u001b[32m2025-05-25 20:23:39.172\u001b[0m | \u001b[1mINFO    \u001b[0m | \u001b[36mmagic_pdf.libs.pdf_check\u001b[0m:\u001b[36mdetect_invalid_chars\u001b[0m:\u001b[36m67\u001b[0m - \u001b[1mcid_count: 0, text_len: 36103, cid_chars_radio: 0.0\u001b[0m\n",
      "\u001b[32m2025-05-25 20:23:40.463\u001b[0m | \u001b[1mINFO    \u001b[0m | \u001b[36mmagic_pdf.model.doc_analyze_by_custom_model\u001b[0m:\u001b[36mmay_batch_image_analyze\u001b[0m:\u001b[36m275\u001b[0m - \u001b[1mgpu_memory: 24 GB, batch_ratio: 16\u001b[0m\n",
      "Layout Predict: 100%|██████████| 27/27 [00:01<00:00, 18.11it/s]\n",
      "MFD Predict: 100%|██████████| 27/27 [00:01<00:00, 24.62it/s]\n",
      "MFR Predict: 100%|██████████| 155/155 [00:01<00:00, 149.06it/s]\n",
      "OCR-det Predict: 100%|██████████| 27/27 [00:05<00:00,  4.90it/s]\n",
      "Table Predict: 100%|██████████| 4/4 [00:01<00:00,  3.27it/s]\n",
      "Processing pages: 100%|██████████| 27/27 [00:04<00:00,  6.52it/s]\n",
      "OCR-rec Predict: 100%|██████████| 1/1 [00:00<00:00, 55.20it/s]\n",
      "\u001b[32m2025-05-25 20:23:56.932\u001b[0m | \u001b[1mINFO    \u001b[0m | \u001b[36mmagic_pdf.data.dataset\u001b[0m:\u001b[36m__init__\u001b[0m:\u001b[36m157\u001b[0m - \u001b[1mlang: None\u001b[0m\n"
     ]
    },
    {
     "name": "stdout",
     "output_type": "stream",
     "text": [
      "2504.21252v1\n"
     ]
    },
    {
     "name": "stderr",
     "output_type": "stream",
     "text": [
      "\u001b[32m2025-05-25 20:23:57.614\u001b[0m | \u001b[1mINFO    \u001b[0m | \u001b[36mmagic_pdf.libs.pdf_check\u001b[0m:\u001b[36mdetect_invalid_chars\u001b[0m:\u001b[36m67\u001b[0m - \u001b[1mcid_count: 0, text_len: 24912, cid_chars_radio: 0.0\u001b[0m\n",
      "\u001b[32m2025-05-25 20:23:57.735\u001b[0m | \u001b[1mINFO    \u001b[0m | \u001b[36mmagic_pdf.model.doc_analyze_by_custom_model\u001b[0m:\u001b[36mmay_batch_image_analyze\u001b[0m:\u001b[36m275\u001b[0m - \u001b[1mgpu_memory: 24 GB, batch_ratio: 16\u001b[0m\n",
      "Layout Predict: 100%|██████████| 6/6 [00:00<00:00,  9.62it/s]\n",
      "MFD Predict: 100%|██████████| 6/6 [00:00<00:00, 25.71it/s]\n",
      "MFR Predict: 100%|██████████| 76/76 [00:00<00:00, 97.78it/s]\n",
      "OCR-det Predict: 100%|██████████| 6/6 [00:00<00:00,  6.48it/s]\n",
      "Table Predict: 100%|██████████| 1/1 [00:00<00:00, 12.81it/s]\n",
      "Processing pages: 100%|██████████| 6/6 [00:01<00:00,  5.19it/s]\n",
      "\u001b[32m2025-05-25 20:24:02.353\u001b[0m | \u001b[1mINFO    \u001b[0m | \u001b[36mmagic_pdf.data.dataset\u001b[0m:\u001b[36m__init__\u001b[0m:\u001b[36m157\u001b[0m - \u001b[1mlang: None\u001b[0m\n"
     ]
    },
    {
     "name": "stdout",
     "output_type": "stream",
     "text": [
      "2504.21474v1\n"
     ]
    },
    {
     "name": "stderr",
     "output_type": "stream",
     "text": [
      "\u001b[32m2025-05-25 20:24:03.051\u001b[0m | \u001b[1mINFO    \u001b[0m | \u001b[36mmagic_pdf.libs.pdf_check\u001b[0m:\u001b[36mdetect_invalid_chars\u001b[0m:\u001b[36m67\u001b[0m - \u001b[1mcid_count: 0, text_len: 24815, cid_chars_radio: 0.0\u001b[0m\n",
      "\u001b[32m2025-05-25 20:24:03.152\u001b[0m | \u001b[1mINFO    \u001b[0m | \u001b[36mmagic_pdf.model.doc_analyze_by_custom_model\u001b[0m:\u001b[36mmay_batch_image_analyze\u001b[0m:\u001b[36m275\u001b[0m - \u001b[1mgpu_memory: 24 GB, batch_ratio: 16\u001b[0m\n",
      "Layout Predict: 100%|██████████| 7/7 [00:00<00:00, 14.10it/s]\n",
      "MFD Predict: 100%|██████████| 7/7 [00:00<00:00, 26.32it/s]\n",
      "MFR Predict: 100%|██████████| 35/35 [00:00<00:00, 160.72it/s]\n",
      "OCR-det Predict: 100%|██████████| 7/7 [00:01<00:00,  6.21it/s]\n",
      "Table Predict: 100%|██████████| 2/2 [00:00<00:00, 11.23it/s]\n",
      "Processing pages: 100%|██████████| 7/7 [00:01<00:00,  6.51it/s]\n",
      "\u001b[32m2025-05-25 20:24:07.373\u001b[0m | \u001b[1mINFO    \u001b[0m | \u001b[36mmagic_pdf.data.dataset\u001b[0m:\u001b[36m__init__\u001b[0m:\u001b[36m157\u001b[0m - \u001b[1mlang: None\u001b[0m\n"
     ]
    },
    {
     "name": "stdout",
     "output_type": "stream",
     "text": [
      "2504.21668v1\n"
     ]
    },
    {
     "name": "stderr",
     "output_type": "stream",
     "text": [
      "\u001b[32m2025-05-25 20:24:08.288\u001b[0m | \u001b[1mINFO    \u001b[0m | \u001b[36mmagic_pdf.libs.pdf_check\u001b[0m:\u001b[36mdetect_invalid_chars\u001b[0m:\u001b[36m67\u001b[0m - \u001b[1mcid_count: 5, text_len: 48163, cid_chars_radio: 0.00010388962765957447\u001b[0m\n",
      "\u001b[32m2025-05-25 20:24:08.480\u001b[0m | \u001b[1mINFO    \u001b[0m | \u001b[36mmagic_pdf.model.doc_analyze_by_custom_model\u001b[0m:\u001b[36mmay_batch_image_analyze\u001b[0m:\u001b[36m275\u001b[0m - \u001b[1mgpu_memory: 24 GB, batch_ratio: 16\u001b[0m\n",
      "Layout Predict: 100%|██████████| 13/13 [00:00<00:00, 17.09it/s]\n",
      "MFD Predict: 100%|██████████| 13/13 [00:00<00:00, 24.64it/s]\n",
      "MFR Predict: 100%|██████████| 202/202 [00:02<00:00, 72.18it/s]\n",
      "OCR-det Predict: 100%|██████████| 13/13 [00:02<00:00,  4.97it/s]\n",
      "Table Predict: 100%|██████████| 7/7 [00:03<00:00,  2.32it/s]\n",
      "Processing pages: 100%|██████████| 13/13 [00:03<00:00,  4.12it/s]\n",
      "\u001b[32m2025-05-25 20:24:23.127\u001b[0m | \u001b[1mINFO    \u001b[0m | \u001b[36mmagic_pdf.data.dataset\u001b[0m:\u001b[36m__init__\u001b[0m:\u001b[36m157\u001b[0m - \u001b[1mlang: None\u001b[0m\n"
     ]
    },
    {
     "name": "stdout",
     "output_type": "stream",
     "text": [
      "2504.21680v1\n"
     ]
    },
    {
     "name": "stderr",
     "output_type": "stream",
     "text": [
      "\u001b[32m2025-05-25 20:24:26.383\u001b[0m | \u001b[1mINFO    \u001b[0m | \u001b[36mmagic_pdf.libs.pdf_check\u001b[0m:\u001b[36mdetect_invalid_chars\u001b[0m:\u001b[36m67\u001b[0m - \u001b[1mcid_count: 1, text_len: 43957, cid_chars_radio: 2.2753128555176338e-05\u001b[0m\n",
      "\u001b[32m2025-05-25 20:24:27.371\u001b[0m | \u001b[1mINFO    \u001b[0m | \u001b[36mmagic_pdf.model.doc_analyze_by_custom_model\u001b[0m:\u001b[36mmay_batch_image_analyze\u001b[0m:\u001b[36m275\u001b[0m - \u001b[1mgpu_memory: 24 GB, batch_ratio: 16\u001b[0m\n",
      "Layout Predict: 100%|██████████| 11/11 [00:00<00:00, 13.18it/s]\n",
      "MFD Predict: 100%|██████████| 11/11 [00:00<00:00, 24.29it/s]\n",
      "MFR Predict: 100%|██████████| 92/92 [00:01<00:00, 86.54it/s]\n",
      "OCR-det Predict: 100%|██████████| 11/11 [00:02<00:00,  4.84it/s]\n",
      "Table Predict: 100%|██████████| 6/6 [00:01<00:00,  3.23it/s]\n",
      "Processing pages: 100%|██████████| 11/11 [00:02<00:00,  5.48it/s]\n",
      "OCR-rec Predict: 100%|██████████| 1/1 [00:00<00:00, 49.92it/s]\n",
      "\u001b[32m2025-05-25 20:24:37.063\u001b[0m | \u001b[1mINFO    \u001b[0m | \u001b[36mmagic_pdf.data.dataset\u001b[0m:\u001b[36m__init__\u001b[0m:\u001b[36m157\u001b[0m - \u001b[1mlang: None\u001b[0m\n"
     ]
    },
    {
     "name": "stdout",
     "output_type": "stream",
     "text": [
      "2505.00028v1\n"
     ]
    },
    {
     "name": "stderr",
     "output_type": "stream",
     "text": [
      "\u001b[32m2025-05-25 20:24:37.552\u001b[0m | \u001b[1mINFO    \u001b[0m | \u001b[36mmagic_pdf.libs.pdf_check\u001b[0m:\u001b[36mdetect_invalid_chars\u001b[0m:\u001b[36m67\u001b[0m - \u001b[1mcid_count: 0, text_len: 29369, cid_chars_radio: 0.0\u001b[0m\n",
      "\u001b[32m2025-05-25 20:24:37.612\u001b[0m | \u001b[1mINFO    \u001b[0m | \u001b[36mmagic_pdf.model.doc_analyze_by_custom_model\u001b[0m:\u001b[36mmay_batch_image_analyze\u001b[0m:\u001b[36m275\u001b[0m - \u001b[1mgpu_memory: 24 GB, batch_ratio: 16\u001b[0m\n",
      "Layout Predict: 100%|██████████| 5/5 [00:00<00:00, 11.51it/s]\n",
      "MFD Predict: 100%|██████████| 5/5 [00:00<00:00, 24.06it/s]\n",
      "MFR Predict: 100%|██████████| 35/35 [00:00<00:00, 47.61it/s]\n",
      "OCR-det Predict: 100%|██████████| 5/5 [00:01<00:00,  4.88it/s]\n",
      "Table Predict: 100%|██████████| 1/1 [00:00<00:00,  3.78it/s]\n",
      "Processing pages: 100%|██████████| 5/5 [00:01<00:00,  3.85it/s]\n",
      "\u001b[32m2025-05-25 20:24:42.447\u001b[0m | \u001b[1mINFO    \u001b[0m | \u001b[36mmagic_pdf.data.dataset\u001b[0m:\u001b[36m__init__\u001b[0m:\u001b[36m157\u001b[0m - \u001b[1mlang: None\u001b[0m\n"
     ]
    },
    {
     "name": "stdout",
     "output_type": "stream",
     "text": [
      "2505.00039v1\n"
     ]
    },
    {
     "name": "stderr",
     "output_type": "stream",
     "text": [
      "\u001b[32m2025-05-25 20:24:43.009\u001b[0m | \u001b[1mINFO    \u001b[0m | \u001b[36mmagic_pdf.libs.pdf_check\u001b[0m:\u001b[36mdetect_invalid_chars\u001b[0m:\u001b[36m67\u001b[0m - \u001b[1mcid_count: 0, text_len: 29643, cid_chars_radio: 0.0\u001b[0m\n",
      "\u001b[32m2025-05-25 20:24:43.327\u001b[0m | \u001b[1mINFO    \u001b[0m | \u001b[36mmagic_pdf.model.doc_analyze_by_custom_model\u001b[0m:\u001b[36mmay_batch_image_analyze\u001b[0m:\u001b[36m275\u001b[0m - \u001b[1mgpu_memory: 24 GB, batch_ratio: 16\u001b[0m\n",
      "Layout Predict: 100%|██████████| 23/23 [00:01<00:00, 18.61it/s]\n",
      "MFD Predict: 100%|██████████| 23/23 [00:00<00:00, 24.82it/s]\n",
      "MFR Predict: 100%|██████████| 55/55 [00:00<00:00, 163.38it/s]\n",
      "OCR-det Predict: 100%|██████████| 23/23 [00:03<00:00,  7.17it/s]\n",
      "Table Predict: 0it [00:00, ?it/s]\n",
      "Processing pages: 100%|██████████| 23/23 [00:01<00:00, 12.69it/s]\n",
      "OCR-rec Predict: 100%|██████████| 21/21 [00:00<00:00, 108.23it/s]\n",
      "\u001b[32m2025-05-25 20:24:52.113\u001b[0m | \u001b[1mINFO    \u001b[0m | \u001b[36mmagic_pdf.data.dataset\u001b[0m:\u001b[36m__init__\u001b[0m:\u001b[36m157\u001b[0m - \u001b[1mlang: None\u001b[0m\n"
     ]
    },
    {
     "name": "stdout",
     "output_type": "stream",
     "text": [
      "2505.00105v1\n"
     ]
    },
    {
     "name": "stderr",
     "output_type": "stream",
     "text": [
      "\u001b[32m2025-05-25 20:24:53.881\u001b[0m | \u001b[1mINFO    \u001b[0m | \u001b[36mmagic_pdf.libs.pdf_check\u001b[0m:\u001b[36mdetect_invalid_chars\u001b[0m:\u001b[36m67\u001b[0m - \u001b[1mcid_count: 0, text_len: 31243, cid_chars_radio: 0.0\u001b[0m\n",
      "\u001b[32m2025-05-25 20:24:54.461\u001b[0m | \u001b[1mINFO    \u001b[0m | \u001b[36mmagic_pdf.model.doc_analyze_by_custom_model\u001b[0m:\u001b[36mmay_batch_image_analyze\u001b[0m:\u001b[36m275\u001b[0m - \u001b[1mgpu_memory: 24 GB, batch_ratio: 16\u001b[0m\n",
      "Layout Predict: 100%|██████████| 13/13 [00:00<00:00, 16.07it/s]\n",
      "MFD Predict: 100%|██████████| 13/13 [00:00<00:00, 24.88it/s]\n",
      "MFR Predict: 100%|██████████| 74/74 [00:00<00:00, 79.92it/s]\n",
      "OCR-det Predict: 100%|██████████| 13/13 [00:01<00:00,  9.55it/s]\n",
      "Table Predict: 100%|██████████| 2/2 [00:00<00:00,  2.57it/s]\n",
      "Processing pages: 100%|██████████| 13/13 [00:01<00:00,  8.91it/s]\n",
      "\u001b[32m2025-05-25 20:25:01.168\u001b[0m | \u001b[1mINFO    \u001b[0m | \u001b[36mmagic_pdf.data.dataset\u001b[0m:\u001b[36m__init__\u001b[0m:\u001b[36m157\u001b[0m - \u001b[1mlang: None\u001b[0m\n"
     ]
    },
    {
     "name": "stdout",
     "output_type": "stream",
     "text": [
      "2505.00254v2\n"
     ]
    },
    {
     "name": "stderr",
     "output_type": "stream",
     "text": [
      "\u001b[32m2025-05-25 20:25:02.151\u001b[0m | \u001b[1mINFO    \u001b[0m | \u001b[36mmagic_pdf.libs.pdf_check\u001b[0m:\u001b[36mdetect_invalid_chars\u001b[0m:\u001b[36m67\u001b[0m - \u001b[1mcid_count: 0, text_len: 49349, cid_chars_radio: 0.0\u001b[0m\n",
      "\u001b[32m2025-05-25 20:25:02.393\u001b[0m | \u001b[1mINFO    \u001b[0m | \u001b[36mmagic_pdf.model.doc_analyze_by_custom_model\u001b[0m:\u001b[36mmay_batch_image_analyze\u001b[0m:\u001b[36m275\u001b[0m - \u001b[1mgpu_memory: 24 GB, batch_ratio: 16\u001b[0m\n",
      "Layout Predict: 100%|██████████| 15/15 [00:00<00:00, 15.86it/s]\n",
      "MFD Predict: 100%|██████████| 15/15 [00:00<00:00, 24.69it/s]\n",
      "MFR Predict: 100%|██████████| 106/106 [00:00<00:00, 111.59it/s]\n",
      "OCR-det Predict: 100%|██████████| 15/15 [00:02<00:00,  5.74it/s]\n",
      "Table Predict: 100%|██████████| 3/3 [00:00<00:00,  9.26it/s]\n",
      "Processing pages: 100%|██████████| 15/15 [00:02<00:00,  5.08it/s]\n",
      "\u001b[32m2025-05-25 20:25:12.416\u001b[0m | \u001b[1mINFO    \u001b[0m | \u001b[36mmagic_pdf.data.dataset\u001b[0m:\u001b[36m__init__\u001b[0m:\u001b[36m157\u001b[0m - \u001b[1mlang: None\u001b[0m\n"
     ]
    },
    {
     "name": "stdout",
     "output_type": "stream",
     "text": [
      "2505.00263v1\n"
     ]
    },
    {
     "name": "stderr",
     "output_type": "stream",
     "text": [
      "\u001b[32m2025-05-25 20:25:13.202\u001b[0m | \u001b[1mINFO    \u001b[0m | \u001b[36mmagic_pdf.libs.pdf_check\u001b[0m:\u001b[36mdetect_invalid_chars\u001b[0m:\u001b[36m67\u001b[0m - \u001b[1mcid_count: 0, text_len: 46219, cid_chars_radio: 0.0\u001b[0m\n",
      "\u001b[32m2025-05-25 20:25:13.586\u001b[0m | \u001b[1mINFO    \u001b[0m | \u001b[36mmagic_pdf.model.doc_analyze_by_custom_model\u001b[0m:\u001b[36mmay_batch_image_analyze\u001b[0m:\u001b[36m275\u001b[0m - \u001b[1mgpu_memory: 24 GB, batch_ratio: 16\u001b[0m\n",
      "Layout Predict: 100%|██████████| 26/26 [00:01<00:00, 17.70it/s]\n",
      "MFD Predict: 100%|██████████| 26/26 [00:01<00:00, 24.83it/s]\n",
      "MFR Predict: 100%|██████████| 73/73 [00:01<00:00, 42.43it/s]\n",
      "OCR-det Predict: 100%|██████████| 26/26 [00:04<00:00,  6.36it/s]\n",
      "Table Predict: 100%|██████████| 6/6 [00:01<00:00,  3.09it/s]\n",
      "Processing pages: 100%|██████████| 26/26 [00:04<00:00,  6.14it/s]\n",
      "OCR-rec Predict: 100%|██████████| 1/1 [00:00<00:00, 55.53it/s]\n",
      "\u001b[32m2025-05-25 20:25:30.018\u001b[0m | \u001b[1mINFO    \u001b[0m | \u001b[36mmagic_pdf.data.dataset\u001b[0m:\u001b[36m__init__\u001b[0m:\u001b[36m157\u001b[0m - \u001b[1mlang: None\u001b[0m\n"
     ]
    },
    {
     "name": "stdout",
     "output_type": "stream",
     "text": [
      "2505.00443v1\n"
     ]
    },
    {
     "name": "stderr",
     "output_type": "stream",
     "text": [
      "\u001b[32m2025-05-25 20:25:30.855\u001b[0m | \u001b[1mINFO    \u001b[0m | \u001b[36mmagic_pdf.libs.pdf_check\u001b[0m:\u001b[36mdetect_invalid_chars\u001b[0m:\u001b[36m67\u001b[0m - \u001b[1mcid_count: 0, text_len: 45194, cid_chars_radio: 0.0\u001b[0m\n",
      "\u001b[32m2025-05-25 20:25:31.022\u001b[0m | \u001b[1mINFO    \u001b[0m | \u001b[36mmagic_pdf.model.doc_analyze_by_custom_model\u001b[0m:\u001b[36mmay_batch_image_analyze\u001b[0m:\u001b[36m275\u001b[0m - \u001b[1mgpu_memory: 24 GB, batch_ratio: 16\u001b[0m\n",
      "Layout Predict: 100%|██████████| 11/11 [00:00<00:00, 14.84it/s]\n",
      "MFD Predict: 100%|██████████| 11/11 [00:00<00:00, 24.61it/s]\n",
      "MFR Predict: 100%|██████████| 110/110 [00:00<00:00, 178.10it/s]\n",
      "OCR-det Predict: 100%|██████████| 11/11 [00:01<00:00,  5.80it/s]\n",
      "Table Predict: 100%|██████████| 1/1 [00:00<00:00,  1.49it/s]\n",
      "Processing pages: 100%|██████████| 11/11 [00:02<00:00,  5.12it/s]\n",
      "\u001b[32m2025-05-25 20:25:38.877\u001b[0m | \u001b[1mINFO    \u001b[0m | \u001b[36mmagic_pdf.data.dataset\u001b[0m:\u001b[36m__init__\u001b[0m:\u001b[36m157\u001b[0m - \u001b[1mlang: None\u001b[0m\n"
     ]
    },
    {
     "name": "stdout",
     "output_type": "stream",
     "text": [
      "2505.00506v1\n"
     ]
    },
    {
     "name": "stderr",
     "output_type": "stream",
     "text": [
      "\u001b[32m2025-05-25 20:25:39.324\u001b[0m | \u001b[1mINFO    \u001b[0m | \u001b[36mmagic_pdf.libs.pdf_check\u001b[0m:\u001b[36mdetect_invalid_chars\u001b[0m:\u001b[36m67\u001b[0m - \u001b[1mcid_count: 0, text_len: 29736, cid_chars_radio: 0.0\u001b[0m\n",
      "\u001b[32m2025-05-25 20:25:39.497\u001b[0m | \u001b[1mINFO    \u001b[0m | \u001b[36mmagic_pdf.model.doc_analyze_by_custom_model\u001b[0m:\u001b[36mmay_batch_image_analyze\u001b[0m:\u001b[36m275\u001b[0m - \u001b[1mgpu_memory: 24 GB, batch_ratio: 16\u001b[0m\n",
      "Layout Predict: 100%|██████████| 12/12 [00:00<00:00, 17.24it/s]\n",
      "MFD Predict: 100%|██████████| 12/12 [00:00<00:00, 26.44it/s]\n",
      "MFR Predict: 100%|██████████| 10/10 [00:00<00:00, 54.04it/s]\n",
      "OCR-det Predict: 100%|██████████| 12/12 [00:01<00:00,  6.17it/s]\n",
      "Table Predict: 100%|██████████| 6/6 [00:01<00:00,  3.93it/s]\n",
      "Processing pages: 100%|██████████| 12/12 [00:01<00:00,  7.78it/s]\n",
      "\u001b[32m2025-05-25 20:25:46.871\u001b[0m | \u001b[1mINFO    \u001b[0m | \u001b[36mmagic_pdf.data.dataset\u001b[0m:\u001b[36m__init__\u001b[0m:\u001b[36m157\u001b[0m - \u001b[1mlang: None\u001b[0m\n"
     ]
    },
    {
     "name": "stdout",
     "output_type": "stream",
     "text": [
      "2505.01073v1\n"
     ]
    },
    {
     "name": "stderr",
     "output_type": "stream",
     "text": [
      "\u001b[32m2025-05-25 20:25:48.265\u001b[0m | \u001b[1mINFO    \u001b[0m | \u001b[36mmagic_pdf.libs.pdf_check\u001b[0m:\u001b[36mdetect_invalid_chars\u001b[0m:\u001b[36m67\u001b[0m - \u001b[1mcid_count: 41, text_len: 30676, cid_chars_radio: 0.0013491723979071374\u001b[0m\n",
      "\u001b[32m2025-05-25 20:25:48.654\u001b[0m | \u001b[1mINFO    \u001b[0m | \u001b[36mmagic_pdf.model.doc_analyze_by_custom_model\u001b[0m:\u001b[36mmay_batch_image_analyze\u001b[0m:\u001b[36m275\u001b[0m - \u001b[1mgpu_memory: 24 GB, batch_ratio: 16\u001b[0m\n",
      "Layout Predict: 100%|██████████| 37/37 [00:01<00:00, 19.18it/s]\n",
      "MFD Predict: 100%|██████████| 37/37 [00:01<00:00, 25.02it/s]\n",
      "MFR Predict: 100%|██████████| 549/549 [00:03<00:00, 148.59it/s]\n",
      "OCR-det Predict: 100%|██████████| 37/37 [00:06<00:00,  5.86it/s]\n",
      "Table Predict: 100%|██████████| 17/17 [00:03<00:00,  4.52it/s]\n",
      "Processing pages: 100%|██████████| 37/37 [00:03<00:00,  9.98it/s]\n",
      "OCR-rec Predict: 100%|██████████| 2/2 [00:00<00:00, 137.77it/s]\n",
      "\u001b[32m2025-05-25 20:26:11.213\u001b[0m | \u001b[1mINFO    \u001b[0m | \u001b[36mmagic_pdf.data.dataset\u001b[0m:\u001b[36m__init__\u001b[0m:\u001b[36m157\u001b[0m - \u001b[1mlang: None\u001b[0m\n"
     ]
    },
    {
     "name": "stdout",
     "output_type": "stream",
     "text": [
      "2505.01164v1\n"
     ]
    },
    {
     "name": "stderr",
     "output_type": "stream",
     "text": [
      "\u001b[32m2025-05-25 20:26:12.894\u001b[0m | \u001b[1mINFO    \u001b[0m | \u001b[36mmagic_pdf.libs.pdf_check\u001b[0m:\u001b[36mdetect_invalid_chars\u001b[0m:\u001b[36m67\u001b[0m - \u001b[1mcid_count: 0, text_len: 25436, cid_chars_radio: 0.0\u001b[0m\n",
      "\u001b[32m2025-05-25 20:26:13.034\u001b[0m | \u001b[1mINFO    \u001b[0m | \u001b[36mmagic_pdf.model.doc_analyze_by_custom_model\u001b[0m:\u001b[36mmay_batch_image_analyze\u001b[0m:\u001b[36m275\u001b[0m - \u001b[1mgpu_memory: 24 GB, batch_ratio: 16\u001b[0m\n",
      "Layout Predict: 100%|██████████| 14/14 [00:00<00:00, 15.20it/s]\n",
      "MFD Predict: 100%|██████████| 14/14 [00:00<00:00, 24.43it/s]\n",
      "MFR Predict: 100%|██████████| 88/88 [00:01<00:00, 67.03it/s]\n",
      "OCR-det Predict: 100%|██████████| 14/14 [00:01<00:00, 10.59it/s]\n",
      "Table Predict: 100%|██████████| 3/3 [00:00<00:00,  5.53it/s]\n",
      "Processing pages: 100%|██████████| 14/14 [00:01<00:00, 12.70it/s]\n",
      "OCR-rec Predict: 100%|██████████| 1/1 [00:00<00:00, 99.93it/s]\n",
      "\u001b[32m2025-05-25 20:26:19.680\u001b[0m | \u001b[1mINFO    \u001b[0m | \u001b[36mmagic_pdf.data.dataset\u001b[0m:\u001b[36m__init__\u001b[0m:\u001b[36m157\u001b[0m - \u001b[1mlang: None\u001b[0m\n"
     ]
    },
    {
     "name": "stdout",
     "output_type": "stream",
     "text": [
      "2505.01307v1\n"
     ]
    },
    {
     "name": "stderr",
     "output_type": "stream",
     "text": [
      "\u001b[32m2025-05-25 20:26:20.409\u001b[0m | \u001b[1mINFO    \u001b[0m | \u001b[36mmagic_pdf.libs.pdf_check\u001b[0m:\u001b[36mdetect_invalid_chars\u001b[0m:\u001b[36m67\u001b[0m - \u001b[1mcid_count: 0, text_len: 45910, cid_chars_radio: 0.0\u001b[0m\n",
      "\u001b[32m2025-05-25 20:26:20.484\u001b[0m | \u001b[1mINFO    \u001b[0m | \u001b[36mmagic_pdf.model.doc_analyze_by_custom_model\u001b[0m:\u001b[36mmay_batch_image_analyze\u001b[0m:\u001b[36m275\u001b[0m - \u001b[1mgpu_memory: 24 GB, batch_ratio: 16\u001b[0m\n",
      "Layout Predict: 100%|██████████| 8/8 [00:00<00:00, 15.45it/s]\n",
      "MFD Predict: 100%|██████████| 8/8 [00:00<00:00, 25.65it/s]\n",
      "MFR Predict: 100%|██████████| 155/155 [00:02<00:00, 68.23it/s]\n",
      "OCR-det Predict: 100%|██████████| 8/8 [00:01<00:00,  4.53it/s]\n",
      "Table Predict: 100%|██████████| 2/2 [00:00<00:00, 11.97it/s]\n",
      "Processing pages: 100%|██████████| 8/8 [00:02<00:00,  3.81it/s]\n",
      "\u001b[32m2025-05-25 20:26:29.827\u001b[0m | \u001b[1mINFO    \u001b[0m | \u001b[36mmagic_pdf.data.dataset\u001b[0m:\u001b[36m__init__\u001b[0m:\u001b[36m157\u001b[0m - \u001b[1mlang: None\u001b[0m\n"
     ]
    },
    {
     "name": "stdout",
     "output_type": "stream",
     "text": [
      "2505.01457v2\n"
     ]
    },
    {
     "name": "stderr",
     "output_type": "stream",
     "text": [
      "\u001b[32m2025-05-25 20:26:30.129\u001b[0m | \u001b[1mINFO    \u001b[0m | \u001b[36mmagic_pdf.libs.pdf_check\u001b[0m:\u001b[36mdetect_invalid_chars\u001b[0m:\u001b[36m67\u001b[0m - \u001b[1mcid_count: 0, text_len: 14776, cid_chars_radio: 0.0\u001b[0m\n",
      "\u001b[32m2025-05-25 20:26:30.237\u001b[0m | \u001b[1mINFO    \u001b[0m | \u001b[36mmagic_pdf.model.doc_analyze_by_custom_model\u001b[0m:\u001b[36mmay_batch_image_analyze\u001b[0m:\u001b[36m275\u001b[0m - \u001b[1mgpu_memory: 24 GB, batch_ratio: 16\u001b[0m\n",
      "Layout Predict: 100%|██████████| 3/3 [00:00<00:00,  8.99it/s]\n",
      "MFD Predict: 100%|██████████| 3/3 [00:00<00:00, 22.42it/s]\n",
      "MFR Predict: 100%|██████████| 3/3 [00:00<00:00, 26.64it/s]\n",
      "OCR-det Predict: 100%|██████████| 3/3 [00:00<00:00,  3.87it/s]\n",
      "Table Predict: 100%|██████████| 1/1 [00:00<00:00,  9.69it/s]\n",
      "Processing pages: 100%|██████████| 3/3 [00:00<00:00,  5.44it/s]\n",
      "\u001b[32m2025-05-25 20:26:32.884\u001b[0m | \u001b[1mINFO    \u001b[0m | \u001b[36mmagic_pdf.data.dataset\u001b[0m:\u001b[36m__init__\u001b[0m:\u001b[36m157\u001b[0m - \u001b[1mlang: None\u001b[0m\n"
     ]
    },
    {
     "name": "stdout",
     "output_type": "stream",
     "text": [
      "2505.01485v1\n"
     ]
    },
    {
     "name": "stderr",
     "output_type": "stream",
     "text": [
      "\u001b[32m2025-05-25 20:26:33.608\u001b[0m | \u001b[1mINFO    \u001b[0m | \u001b[36mmagic_pdf.libs.pdf_check\u001b[0m:\u001b[36mdetect_invalid_chars\u001b[0m:\u001b[36m67\u001b[0m - \u001b[1mcid_count: 4, text_len: 29239, cid_chars_radio: 0.0001369347163739687\u001b[0m\n",
      "\u001b[32m2025-05-25 20:26:33.857\u001b[0m | \u001b[1mINFO    \u001b[0m | \u001b[36mmagic_pdf.model.doc_analyze_by_custom_model\u001b[0m:\u001b[36mmay_batch_image_analyze\u001b[0m:\u001b[36m275\u001b[0m - \u001b[1mgpu_memory: 24 GB, batch_ratio: 16\u001b[0m\n",
      "Layout Predict: 100%|██████████| 18/18 [00:01<00:00, 17.79it/s]\n",
      "MFD Predict: 100%|██████████| 18/18 [00:00<00:00, 24.85it/s]\n",
      "MFR Predict: 100%|██████████| 57/57 [00:00<00:00, 60.32it/s]\n",
      "OCR-det Predict: 100%|██████████| 18/18 [00:01<00:00, 10.43it/s]\n",
      "Table Predict: 100%|██████████| 2/2 [00:00<00:00,  4.58it/s]\n",
      "Processing pages: 100%|██████████| 18/18 [00:01<00:00, 13.38it/s]\n",
      "OCR-rec Predict: 100%|██████████| 1/1 [00:00<00:00, 94.54it/s]\n",
      "\u001b[32m2025-05-25 20:26:40.974\u001b[0m | \u001b[1mINFO    \u001b[0m | \u001b[36mmagic_pdf.data.dataset\u001b[0m:\u001b[36m__init__\u001b[0m:\u001b[36m157\u001b[0m - \u001b[1mlang: None\u001b[0m\n"
     ]
    },
    {
     "name": "stdout",
     "output_type": "stream",
     "text": [
      "2505.01841v1\n"
     ]
    },
    {
     "name": "stderr",
     "output_type": "stream",
     "text": [
      "\u001b[32m2025-05-25 20:26:42.097\u001b[0m | \u001b[1mINFO    \u001b[0m | \u001b[36mmagic_pdf.libs.pdf_check\u001b[0m:\u001b[36mdetect_invalid_chars\u001b[0m:\u001b[36m67\u001b[0m - \u001b[1mcid_count: 26, text_len: 49729, cid_chars_radio: 0.0005247542737199023\u001b[0m\n",
      "\u001b[32m2025-05-25 20:26:42.487\u001b[0m | \u001b[1mINFO    \u001b[0m | \u001b[36mmagic_pdf.model.doc_analyze_by_custom_model\u001b[0m:\u001b[36mmay_batch_image_analyze\u001b[0m:\u001b[36m275\u001b[0m - \u001b[1mgpu_memory: 24 GB, batch_ratio: 16\u001b[0m\n",
      "Layout Predict: 100%|██████████| 21/21 [00:01<00:00, 18.54it/s]\n",
      "MFD Predict: 100%|██████████| 21/21 [00:00<00:00, 24.56it/s]\n",
      "MFR Predict: 100%|██████████| 550/550 [00:05<00:00, 101.24it/s]\n",
      "OCR-det Predict: 100%|██████████| 21/21 [00:04<00:00,  4.66it/s]\n",
      "Table Predict: 100%|██████████| 5/5 [00:01<00:00,  4.21it/s]\n",
      "Processing pages: 100%|██████████| 21/21 [00:05<00:00,  3.88it/s]\n",
      "OCR-rec Predict: 100%|██████████| 2/2 [00:00<00:00, 62.16it/s]\n",
      "\u001b[32m2025-05-25 20:27:03.650\u001b[0m | \u001b[1mINFO    \u001b[0m | \u001b[36mmagic_pdf.data.dataset\u001b[0m:\u001b[36m__init__\u001b[0m:\u001b[36m157\u001b[0m - \u001b[1mlang: None\u001b[0m\n"
     ]
    },
    {
     "name": "stdout",
     "output_type": "stream",
     "text": [
      "2505.02087v1\n"
     ]
    },
    {
     "name": "stderr",
     "output_type": "stream",
     "text": [
      "\u001b[32m2025-05-25 20:27:04.153\u001b[0m | \u001b[1mINFO    \u001b[0m | \u001b[36mmagic_pdf.libs.pdf_check\u001b[0m:\u001b[36mdetect_invalid_chars\u001b[0m:\u001b[36m67\u001b[0m - \u001b[1mcid_count: 0, text_len: 32946, cid_chars_radio: 0.0\u001b[0m\n",
      "\u001b[32m2025-05-25 20:27:04.301\u001b[0m | \u001b[1mINFO    \u001b[0m | \u001b[36mmagic_pdf.model.doc_analyze_by_custom_model\u001b[0m:\u001b[36mmay_batch_image_analyze\u001b[0m:\u001b[36m275\u001b[0m - \u001b[1mgpu_memory: 24 GB, batch_ratio: 16\u001b[0m\n",
      "Layout Predict: 100%|██████████| 17/17 [00:01<00:00, 14.66it/s]\n",
      "MFD Predict: 100%|██████████| 17/17 [00:00<00:00, 26.54it/s]\n",
      "MFR Predict: 100%|██████████| 40/40 [00:00<00:00, 46.04it/s]\n",
      "OCR-det Predict: 100%|██████████| 17/17 [00:01<00:00, 12.27it/s]\n",
      "Table Predict: 100%|██████████| 7/7 [00:04<00:00,  1.41it/s]\n",
      "Processing pages: 100%|██████████| 17/17 [00:01<00:00, 12.07it/s]\n",
      "\u001b[32m2025-05-25 20:27:15.567\u001b[0m | \u001b[1mINFO    \u001b[0m | \u001b[36mmagic_pdf.data.dataset\u001b[0m:\u001b[36m__init__\u001b[0m:\u001b[36m157\u001b[0m - \u001b[1mlang: None\u001b[0m\n"
     ]
    },
    {
     "name": "stdout",
     "output_type": "stream",
     "text": [
      "2505.02133v1\n"
     ]
    },
    {
     "name": "stderr",
     "output_type": "stream",
     "text": [
      "\u001b[32m2025-05-25 20:27:16.332\u001b[0m | \u001b[1mINFO    \u001b[0m | \u001b[36mmagic_pdf.libs.pdf_check\u001b[0m:\u001b[36mdetect_invalid_chars\u001b[0m:\u001b[36m67\u001b[0m - \u001b[1mcid_count: 0, text_len: 40949, cid_chars_radio: 0.0\u001b[0m\n",
      "\u001b[32m2025-05-25 20:27:16.723\u001b[0m | \u001b[1mINFO    \u001b[0m | \u001b[36mmagic_pdf.model.doc_analyze_by_custom_model\u001b[0m:\u001b[36mmay_batch_image_analyze\u001b[0m:\u001b[36m275\u001b[0m - \u001b[1mgpu_memory: 24 GB, batch_ratio: 16\u001b[0m\n",
      "Layout Predict: 100%|██████████| 19/19 [00:01<00:00, 16.38it/s]\n",
      "MFD Predict: 100%|██████████| 19/19 [00:00<00:00, 24.50it/s]\n",
      "MFR Predict: 100%|██████████| 129/129 [00:00<00:00, 171.24it/s]\n",
      "OCR-det Predict: 100%|██████████| 19/19 [00:03<00:00,  5.70it/s]\n",
      "Table Predict: 100%|██████████| 3/3 [00:02<00:00,  1.13it/s]\n",
      "Processing pages: 100%|██████████| 19/19 [00:03<00:00,  5.48it/s]\n",
      "\u001b[32m2025-05-25 20:27:30.446\u001b[0m | \u001b[1mINFO    \u001b[0m | \u001b[36mmagic_pdf.data.dataset\u001b[0m:\u001b[36m__init__\u001b[0m:\u001b[36m157\u001b[0m - \u001b[1mlang: None\u001b[0m\n"
     ]
    },
    {
     "name": "stdout",
     "output_type": "stream",
     "text": [
      "2505.02164v1\n"
     ]
    },
    {
     "name": "stderr",
     "output_type": "stream",
     "text": [
      "\u001b[32m2025-05-25 20:27:31.079\u001b[0m | \u001b[1mINFO    \u001b[0m | \u001b[36mmagic_pdf.libs.pdf_check\u001b[0m:\u001b[36mdetect_invalid_chars\u001b[0m:\u001b[36m67\u001b[0m - \u001b[1mcid_count: 2, text_len: 39839, cid_chars_radio: 5.02209722780233e-05\u001b[0m\n",
      "\u001b[32m2025-05-25 20:27:31.322\u001b[0m | \u001b[1mINFO    \u001b[0m | \u001b[36mmagic_pdf.model.doc_analyze_by_custom_model\u001b[0m:\u001b[36mmay_batch_image_analyze\u001b[0m:\u001b[36m275\u001b[0m - \u001b[1mgpu_memory: 24 GB, batch_ratio: 16\u001b[0m\n",
      "Layout Predict: 100%|██████████| 8/8 [00:00<00:00, 11.54it/s]\n",
      "MFD Predict: 100%|██████████| 8/8 [00:00<00:00, 25.81it/s]\n",
      "MFR Predict: 100%|██████████| 26/26 [00:00<00:00, 32.18it/s]\n",
      "OCR-det Predict: 100%|██████████| 8/8 [00:01<00:00,  4.79it/s]\n",
      "Table Predict: 100%|██████████| 2/2 [00:00<00:00, 11.74it/s]\n",
      "Processing pages: 100%|██████████| 8/8 [00:01<00:00,  4.70it/s]\n",
      "OCR-rec Predict: 100%|██████████| 2/2 [00:00<00:00, 191.80it/s]\n",
      "\u001b[32m2025-05-25 20:27:37.898\u001b[0m | \u001b[1mINFO    \u001b[0m | \u001b[36mmagic_pdf.data.dataset\u001b[0m:\u001b[36m__init__\u001b[0m:\u001b[36m157\u001b[0m - \u001b[1mlang: None\u001b[0m\n"
     ]
    },
    {
     "name": "stdout",
     "output_type": "stream",
     "text": [
      "2505.02171v1\n"
     ]
    },
    {
     "name": "stderr",
     "output_type": "stream",
     "text": [
      "\u001b[32m2025-05-25 20:27:39.391\u001b[0m | \u001b[1mINFO    \u001b[0m | \u001b[36mmagic_pdf.libs.pdf_check\u001b[0m:\u001b[36mdetect_invalid_chars\u001b[0m:\u001b[36m67\u001b[0m - \u001b[1mcid_count: 4, text_len: 49196, cid_chars_radio: 8.135869012508898e-05\u001b[0m\n",
      "\u001b[32m2025-05-25 20:27:39.613\u001b[0m | \u001b[1mINFO    \u001b[0m | \u001b[36mmagic_pdf.model.doc_analyze_by_custom_model\u001b[0m:\u001b[36mmay_batch_image_analyze\u001b[0m:\u001b[36m275\u001b[0m - \u001b[1mgpu_memory: 24 GB, batch_ratio: 16\u001b[0m\n",
      "Layout Predict: 100%|██████████| 10/10 [00:00<00:00, 14.44it/s]\n",
      "MFD Predict: 100%|██████████| 10/10 [00:00<00:00, 24.35it/s]\n",
      "MFR Predict: 100%|██████████| 111/111 [00:02<00:00, 46.00it/s]\n",
      "OCR-det Predict: 100%|██████████| 10/10 [00:02<00:00,  4.77it/s]\n",
      "Table Predict: 100%|██████████| 2/2 [00:00<00:00,  7.63it/s]\n",
      "Processing pages: 100%|██████████| 10/10 [00:02<00:00,  4.63it/s]\n",
      "OCR-rec Predict: 100%|██████████| 1/1 [00:00<00:00, 97.54it/s]\n",
      "\u001b[32m2025-05-25 20:27:49.025\u001b[0m | \u001b[1mINFO    \u001b[0m | \u001b[36mmagic_pdf.data.dataset\u001b[0m:\u001b[36m__init__\u001b[0m:\u001b[36m157\u001b[0m - \u001b[1mlang: None\u001b[0m\n"
     ]
    },
    {
     "name": "stdout",
     "output_type": "stream",
     "text": [
      "2505.02271v1\n"
     ]
    },
    {
     "name": "stderr",
     "output_type": "stream",
     "text": [
      "\u001b[32m2025-05-25 20:27:49.783\u001b[0m | \u001b[1mINFO    \u001b[0m | \u001b[36mmagic_pdf.libs.pdf_check\u001b[0m:\u001b[36mdetect_invalid_chars\u001b[0m:\u001b[36m67\u001b[0m - \u001b[1mcid_count: 0, text_len: 45141, cid_chars_radio: 0.0\u001b[0m\n",
      "\u001b[32m2025-05-25 20:27:50.162\u001b[0m | \u001b[1mINFO    \u001b[0m | \u001b[36mmagic_pdf.model.doc_analyze_by_custom_model\u001b[0m:\u001b[36mmay_batch_image_analyze\u001b[0m:\u001b[36m275\u001b[0m - \u001b[1mgpu_memory: 24 GB, batch_ratio: 16\u001b[0m\n",
      "Layout Predict: 100%|██████████| 19/19 [00:01<00:00, 16.67it/s]\n",
      "MFD Predict: 100%|██████████| 19/19 [00:00<00:00, 25.06it/s]\n",
      "MFR Predict: 100%|██████████| 24/24 [00:00<00:00, 98.08it/s]\n",
      "OCR-det Predict: 100%|██████████| 19/19 [00:02<00:00,  7.55it/s]\n",
      "Table Predict: 100%|██████████| 5/5 [00:01<00:00,  4.67it/s]\n",
      "Processing pages: 100%|██████████| 19/19 [00:02<00:00,  8.14it/s]\n",
      "\u001b[32m2025-05-25 20:27:59.414\u001b[0m | \u001b[1mINFO    \u001b[0m | \u001b[36mmagic_pdf.data.dataset\u001b[0m:\u001b[36m__init__\u001b[0m:\u001b[36m157\u001b[0m - \u001b[1mlang: None\u001b[0m\n"
     ]
    },
    {
     "name": "stdout",
     "output_type": "stream",
     "text": [
      "2505.02304v1\n"
     ]
    },
    {
     "name": "stderr",
     "output_type": "stream",
     "text": [
      "\u001b[32m2025-05-25 20:28:00.401\u001b[0m | \u001b[1mINFO    \u001b[0m | \u001b[36mmagic_pdf.libs.pdf_check\u001b[0m:\u001b[36mdetect_invalid_chars\u001b[0m:\u001b[36m67\u001b[0m - \u001b[1mcid_count: 11, text_len: 53645, cid_chars_radio: 0.0002053733126715334\u001b[0m\n",
      "\u001b[32m2025-05-25 20:28:00.616\u001b[0m | \u001b[1mINFO    \u001b[0m | \u001b[36mmagic_pdf.model.doc_analyze_by_custom_model\u001b[0m:\u001b[36mmay_batch_image_analyze\u001b[0m:\u001b[36m275\u001b[0m - \u001b[1mgpu_memory: 24 GB, batch_ratio: 16\u001b[0m\n",
      "Layout Predict: 100%|██████████| 10/10 [00:00<00:00, 14.95it/s]\n",
      "MFD Predict: 100%|██████████| 10/10 [00:00<00:00, 24.12it/s]\n",
      "MFR Predict: 100%|██████████| 178/178 [00:01<00:00, 95.33it/s]\n",
      "OCR-det Predict: 100%|██████████| 10/10 [00:01<00:00,  5.34it/s]\n",
      "Table Predict: 100%|██████████| 6/6 [00:00<00:00,  7.61it/s]\n",
      "Processing pages: 100%|██████████| 10/10 [00:02<00:00,  4.00it/s]\n",
      "\u001b[32m2025-05-25 20:28:10.133\u001b[0m | \u001b[1mINFO    \u001b[0m | \u001b[36mmagic_pdf.data.dataset\u001b[0m:\u001b[36m__init__\u001b[0m:\u001b[36m157\u001b[0m - \u001b[1mlang: None\u001b[0m\n"
     ]
    },
    {
     "name": "stdout",
     "output_type": "stream",
     "text": [
      "2505.02324v1\n"
     ]
    },
    {
     "name": "stderr",
     "output_type": "stream",
     "text": [
      "\u001b[32m2025-05-25 20:28:10.894\u001b[0m | \u001b[1mINFO    \u001b[0m | \u001b[36mmagic_pdf.libs.pdf_check\u001b[0m:\u001b[36mdetect_invalid_chars\u001b[0m:\u001b[36m67\u001b[0m - \u001b[1mcid_count: 0, text_len: 22025, cid_chars_radio: 0.0\u001b[0m\n",
      "\u001b[32m2025-05-25 20:28:11.116\u001b[0m | \u001b[1mINFO    \u001b[0m | \u001b[36mmagic_pdf.model.doc_analyze_by_custom_model\u001b[0m:\u001b[36mmay_batch_image_analyze\u001b[0m:\u001b[36m275\u001b[0m - \u001b[1mgpu_memory: 24 GB, batch_ratio: 16\u001b[0m\n",
      "Layout Predict: 100%|██████████| 8/8 [00:00<00:00, 12.06it/s]\n",
      "MFD Predict: 100%|██████████| 8/8 [00:00<00:00, 24.46it/s]\n",
      "MFR Predict: 100%|██████████| 14/14 [00:00<00:00, 68.87it/s]\n",
      "OCR-det Predict: 100%|██████████| 8/8 [00:01<00:00,  7.93it/s]\n",
      "Table Predict: 100%|██████████| 2/2 [00:00<00:00,  7.53it/s]\n",
      "Processing pages: 100%|██████████| 8/8 [00:00<00:00, 12.62it/s]\n",
      "\u001b[32m2025-05-25 20:28:14.907\u001b[0m | \u001b[1mINFO    \u001b[0m | \u001b[36mmagic_pdf.data.dataset\u001b[0m:\u001b[36m__init__\u001b[0m:\u001b[36m157\u001b[0m - \u001b[1mlang: None\u001b[0m\n"
     ]
    },
    {
     "name": "stdout",
     "output_type": "stream",
     "text": [
      "2505.02418v1\n"
     ]
    },
    {
     "name": "stderr",
     "output_type": "stream",
     "text": [
      "\u001b[32m2025-05-25 20:28:16.291\u001b[0m | \u001b[1mINFO    \u001b[0m | \u001b[36mmagic_pdf.libs.pdf_check\u001b[0m:\u001b[36mdetect_invalid_chars\u001b[0m:\u001b[36m67\u001b[0m - \u001b[1mcid_count: 0, text_len: 39746, cid_chars_radio: 0.0\u001b[0m\n",
      "\u001b[32m2025-05-25 20:28:16.528\u001b[0m | \u001b[1mINFO    \u001b[0m | \u001b[36mmagic_pdf.model.doc_analyze_by_custom_model\u001b[0m:\u001b[36mmay_batch_image_analyze\u001b[0m:\u001b[36m275\u001b[0m - \u001b[1mgpu_memory: 24 GB, batch_ratio: 16\u001b[0m\n",
      "Layout Predict: 100%|██████████| 11/11 [00:00<00:00, 15.93it/s]\n",
      "MFD Predict: 100%|██████████| 11/11 [00:00<00:00, 26.46it/s]\n",
      "MFR Predict: 100%|██████████| 11/11 [00:00<00:00, 42.12it/s]\n",
      "OCR-det Predict: 100%|██████████| 11/11 [00:02<00:00,  5.28it/s]\n",
      "Table Predict: 100%|██████████| 1/1 [00:00<00:00,  6.09it/s]\n",
      "Processing pages: 100%|██████████| 11/11 [00:01<00:00,  5.79it/s]\n",
      "\u001b[32m2025-05-25 20:28:23.141\u001b[0m | \u001b[1mINFO    \u001b[0m | \u001b[36mmagic_pdf.data.dataset\u001b[0m:\u001b[36m__init__\u001b[0m:\u001b[36m157\u001b[0m - \u001b[1mlang: None\u001b[0m\n"
     ]
    },
    {
     "name": "stdout",
     "output_type": "stream",
     "text": [
      "2505.02811v1\n"
     ]
    },
    {
     "name": "stderr",
     "output_type": "stream",
     "text": [
      "\u001b[32m2025-05-25 20:28:24.113\u001b[0m | \u001b[1mINFO    \u001b[0m | \u001b[36mmagic_pdf.libs.pdf_check\u001b[0m:\u001b[36mdetect_invalid_chars\u001b[0m:\u001b[36m67\u001b[0m - \u001b[1mcid_count: 0, text_len: 58831, cid_chars_radio: 0.0\u001b[0m\n",
      "\u001b[32m2025-05-25 20:28:24.326\u001b[0m | \u001b[1mINFO    \u001b[0m | \u001b[36mmagic_pdf.model.doc_analyze_by_custom_model\u001b[0m:\u001b[36mmay_batch_image_analyze\u001b[0m:\u001b[36m275\u001b[0m - \u001b[1mgpu_memory: 24 GB, batch_ratio: 16\u001b[0m\n",
      "Layout Predict: 100%|██████████| 11/11 [00:00<00:00, 13.55it/s]\n",
      "MFD Predict: 100%|██████████| 11/11 [00:00<00:00, 24.32it/s]\n",
      "MFR Predict: 100%|██████████| 113/113 [00:01<00:00, 87.94it/s]\n",
      "OCR-det Predict: 100%|██████████| 11/11 [00:02<00:00,  5.33it/s]\n",
      "Table Predict: 100%|██████████| 2/2 [00:00<00:00,  2.44it/s]\n",
      "Processing pages: 100%|██████████| 11/11 [00:03<00:00,  3.66it/s]\n",
      "OCR-rec Predict: 100%|██████████| 4/4 [00:00<00:00, 119.36it/s]\n",
      "\u001b[32m2025-05-25 20:28:34.314\u001b[0m | \u001b[1mINFO    \u001b[0m | \u001b[36mmagic_pdf.data.dataset\u001b[0m:\u001b[36m__init__\u001b[0m:\u001b[36m157\u001b[0m - \u001b[1mlang: None\u001b[0m\n"
     ]
    },
    {
     "name": "stdout",
     "output_type": "stream",
     "text": [
      "2505.02849v1\n"
     ]
    },
    {
     "name": "stderr",
     "output_type": "stream",
     "text": [
      "\u001b[32m2025-05-25 20:28:35.046\u001b[0m | \u001b[1mINFO    \u001b[0m | \u001b[36mmagic_pdf.libs.pdf_check\u001b[0m:\u001b[36mdetect_invalid_chars\u001b[0m:\u001b[36m67\u001b[0m - \u001b[1mcid_count: 0, text_len: 25951, cid_chars_radio: 0.0\u001b[0m\n",
      "\u001b[32m2025-05-25 20:28:35.194\u001b[0m | \u001b[1mINFO    \u001b[0m | \u001b[36mmagic_pdf.model.doc_analyze_by_custom_model\u001b[0m:\u001b[36mmay_batch_image_analyze\u001b[0m:\u001b[36m275\u001b[0m - \u001b[1mgpu_memory: 24 GB, batch_ratio: 16\u001b[0m\n",
      "Layout Predict: 100%|██████████| 12/12 [00:00<00:00, 14.90it/s]\n",
      "MFD Predict: 100%|██████████| 12/12 [00:00<00:00, 26.47it/s]\n",
      "MFR Predict: 100%|██████████| 3/3 [00:00<00:00, 20.24it/s]\n",
      "OCR-det Predict: 100%|██████████| 12/12 [00:01<00:00,  8.81it/s]\n",
      "Table Predict: 100%|██████████| 5/5 [00:00<00:00,  6.16it/s]\n",
      "Processing pages: 100%|██████████| 12/12 [00:00<00:00, 13.29it/s]\n",
      "\u001b[32m2025-05-25 20:28:40.606\u001b[0m | \u001b[1mINFO    \u001b[0m | \u001b[36mmagic_pdf.data.dataset\u001b[0m:\u001b[36m__init__\u001b[0m:\u001b[36m157\u001b[0m - \u001b[1mlang: None\u001b[0m\n"
     ]
    },
    {
     "name": "stdout",
     "output_type": "stream",
     "text": [
      "2505.03075v1\n"
     ]
    },
    {
     "name": "stderr",
     "output_type": "stream",
     "text": [
      "\u001b[32m2025-05-25 20:28:41.305\u001b[0m | \u001b[1mINFO    \u001b[0m | \u001b[36mmagic_pdf.libs.pdf_check\u001b[0m:\u001b[36mdetect_invalid_chars\u001b[0m:\u001b[36m67\u001b[0m - \u001b[1mcid_count: 109, text_len: 38024, cid_chars_radio: 0.0029255461914219766\u001b[0m\n",
      "\u001b[32m2025-05-25 20:28:41.586\u001b[0m | \u001b[1mINFO    \u001b[0m | \u001b[36mmagic_pdf.model.doc_analyze_by_custom_model\u001b[0m:\u001b[36mmay_batch_image_analyze\u001b[0m:\u001b[36m275\u001b[0m - \u001b[1mgpu_memory: 24 GB, batch_ratio: 16\u001b[0m\n",
      "Layout Predict: 100%|██████████| 26/26 [00:01<00:00, 19.12it/s]\n",
      "MFD Predict: 100%|██████████| 26/26 [00:00<00:00, 27.70it/s]\n",
      "MFR Predict: 100%|██████████| 284/284 [00:04<00:00, 69.01it/s] \n",
      "OCR-det Predict: 100%|██████████| 26/26 [00:03<00:00,  8.05it/s]\n",
      "Table Predict: 100%|██████████| 5/5 [00:02<00:00,  2.07it/s]\n",
      "Processing pages: 100%|██████████| 26/26 [00:02<00:00,  9.86it/s]\n",
      "\u001b[32m2025-05-25 20:28:58.039\u001b[0m | \u001b[1mINFO    \u001b[0m | \u001b[36mmagic_pdf.data.dataset\u001b[0m:\u001b[36m__init__\u001b[0m:\u001b[36m157\u001b[0m - \u001b[1mlang: None\u001b[0m\n"
     ]
    },
    {
     "name": "stdout",
     "output_type": "stream",
     "text": [
      "2505.03275v1\n"
     ]
    },
    {
     "name": "stderr",
     "output_type": "stream",
     "text": [
      "\u001b[32m2025-05-25 20:28:58.443\u001b[0m | \u001b[1mINFO    \u001b[0m | \u001b[36mmagic_pdf.libs.pdf_check\u001b[0m:\u001b[36mdetect_invalid_chars\u001b[0m:\u001b[36m67\u001b[0m - \u001b[1mcid_count: 0, text_len: 23626, cid_chars_radio: 0.0\u001b[0m\n",
      "\u001b[32m2025-05-25 20:28:58.551\u001b[0m | \u001b[1mINFO    \u001b[0m | \u001b[36mmagic_pdf.model.doc_analyze_by_custom_model\u001b[0m:\u001b[36mmay_batch_image_analyze\u001b[0m:\u001b[36m275\u001b[0m - \u001b[1mgpu_memory: 24 GB, batch_ratio: 16\u001b[0m\n",
      "Layout Predict: 100%|██████████| 12/12 [00:00<00:00, 14.41it/s]\n",
      "MFD Predict: 100%|██████████| 12/12 [00:00<00:00, 24.72it/s]\n",
      "MFR Predict: 100%|██████████| 30/30 [00:00<00:00, 150.47it/s]\n",
      "OCR-det Predict: 100%|██████████| 12/12 [00:01<00:00,  7.99it/s]\n",
      "Table Predict: 100%|██████████| 1/1 [00:00<00:00, 11.11it/s]\n",
      "Processing pages: 100%|██████████| 12/12 [00:00<00:00, 14.90it/s]\n",
      "\u001b[32m2025-05-25 20:29:03.186\u001b[0m | \u001b[1mINFO    \u001b[0m | \u001b[36mmagic_pdf.data.dataset\u001b[0m:\u001b[36m__init__\u001b[0m:\u001b[36m157\u001b[0m - \u001b[1mlang: None\u001b[0m\n"
     ]
    },
    {
     "name": "stdout",
     "output_type": "stream",
     "text": [
      "2505.03295v1\n"
     ]
    },
    {
     "name": "stderr",
     "output_type": "stream",
     "text": [
      "\u001b[32m2025-05-25 20:29:04.883\u001b[0m | \u001b[1mINFO    \u001b[0m | \u001b[36mmagic_pdf.libs.pdf_check\u001b[0m:\u001b[36mdetect_invalid_chars\u001b[0m:\u001b[36m67\u001b[0m - \u001b[1mcid_count: 102, text_len: 43743, cid_chars_radio: 0.0023704943177856796\u001b[0m\n",
      "\u001b[32m2025-05-25 20:29:05.341\u001b[0m | \u001b[1mINFO    \u001b[0m | \u001b[36mmagic_pdf.model.doc_analyze_by_custom_model\u001b[0m:\u001b[36mmay_batch_image_analyze\u001b[0m:\u001b[36m275\u001b[0m - \u001b[1mgpu_memory: 24 GB, batch_ratio: 16\u001b[0m\n",
      "Layout Predict: 100%|██████████| 8/8 [00:00<00:00, 13.56it/s]\n",
      "MFD Predict: 100%|██████████| 8/8 [00:00<00:00, 24.24it/s]\n",
      "MFR Predict: 100%|██████████| 45/45 [00:00<00:00, 127.07it/s]\n",
      "OCR-det Predict: 100%|██████████| 8/8 [00:01<00:00,  5.17it/s]\n",
      "Table Predict: 100%|██████████| 2/2 [00:00<00:00,  3.67it/s]\n",
      "Processing pages: 100%|██████████| 8/8 [00:01<00:00,  4.24it/s]\n",
      "\u001b[32m2025-05-25 20:29:11.657\u001b[0m | \u001b[1mINFO    \u001b[0m | \u001b[36mmagic_pdf.data.dataset\u001b[0m:\u001b[36m__init__\u001b[0m:\u001b[36m157\u001b[0m - \u001b[1mlang: None\u001b[0m\n"
     ]
    },
    {
     "name": "stdout",
     "output_type": "stream",
     "text": [
      "2505.03406v1\n"
     ]
    },
    {
     "name": "stderr",
     "output_type": "stream",
     "text": [
      "\u001b[32m2025-05-25 20:29:12.094\u001b[0m | \u001b[1mINFO    \u001b[0m | \u001b[36mmagic_pdf.libs.pdf_check\u001b[0m:\u001b[36mdetect_invalid_chars\u001b[0m:\u001b[36m67\u001b[0m - \u001b[1mcid_count: 0, text_len: 29452, cid_chars_radio: 0.0\u001b[0m\n",
      "\u001b[32m2025-05-25 20:29:12.194\u001b[0m | \u001b[1mINFO    \u001b[0m | \u001b[36mmagic_pdf.model.doc_analyze_by_custom_model\u001b[0m:\u001b[36mmay_batch_image_analyze\u001b[0m:\u001b[36m275\u001b[0m - \u001b[1mgpu_memory: 24 GB, batch_ratio: 16\u001b[0m\n",
      "Layout Predict: 100%|██████████| 12/12 [00:00<00:00, 16.64it/s]\n",
      "MFD Predict: 100%|██████████| 12/12 [00:00<00:00, 26.49it/s]\n",
      "MFR Predict: 100%|██████████| 13/13 [00:00<00:00, 71.96it/s]\n",
      "OCR-det Predict: 100%|██████████| 12/12 [00:01<00:00,  6.13it/s]\n",
      "Table Predict: 100%|██████████| 4/4 [00:00<00:00,  6.66it/s]\n",
      "Processing pages: 100%|██████████| 12/12 [00:00<00:00, 12.40it/s]\n",
      "\u001b[32m2025-05-25 20:29:17.897\u001b[0m | \u001b[1mINFO    \u001b[0m | \u001b[36mmagic_pdf.data.dataset\u001b[0m:\u001b[36m__init__\u001b[0m:\u001b[36m157\u001b[0m - \u001b[1mlang: None\u001b[0m\n"
     ]
    },
    {
     "name": "stdout",
     "output_type": "stream",
     "text": [
      "2505.03452v1\n"
     ]
    },
    {
     "name": "stderr",
     "output_type": "stream",
     "text": [
      "\u001b[32m2025-05-25 20:29:19.350\u001b[0m | \u001b[1mINFO    \u001b[0m | \u001b[36mmagic_pdf.libs.pdf_check\u001b[0m:\u001b[36mdetect_invalid_chars\u001b[0m:\u001b[36m67\u001b[0m - \u001b[1mcid_count: 0, text_len: 36180, cid_chars_radio: 0.0\u001b[0m\n",
      "\u001b[32m2025-05-25 20:29:19.795\u001b[0m | \u001b[1mINFO    \u001b[0m | \u001b[36mmagic_pdf.model.doc_analyze_by_custom_model\u001b[0m:\u001b[36mmay_batch_image_analyze\u001b[0m:\u001b[36m275\u001b[0m - \u001b[1mgpu_memory: 24 GB, batch_ratio: 16\u001b[0m\n",
      "Layout Predict: 100%|██████████| 13/13 [00:00<00:00, 16.62it/s]\n",
      "MFD Predict: 100%|██████████| 13/13 [00:00<00:00, 26.47it/s]\n",
      "MFR Predict: 100%|██████████| 27/27 [00:00<00:00, 116.53it/s]\n",
      "OCR-det Predict: 100%|██████████| 13/13 [00:02<00:00,  5.63it/s]\n",
      "Table Predict: 100%|██████████| 3/3 [00:00<00:00,  7.27it/s]\n",
      "Processing pages: 100%|██████████| 13/13 [00:02<00:00,  6.35it/s]\n",
      "\u001b[32m2025-05-25 20:29:27.224\u001b[0m | \u001b[1mINFO    \u001b[0m | \u001b[36mmagic_pdf.data.dataset\u001b[0m:\u001b[36m__init__\u001b[0m:\u001b[36m157\u001b[0m - \u001b[1mlang: None\u001b[0m\n"
     ]
    },
    {
     "name": "stdout",
     "output_type": "stream",
     "text": [
      "2505.03556v1\n"
     ]
    },
    {
     "name": "stderr",
     "output_type": "stream",
     "text": [
      "\u001b[32m2025-05-25 20:29:27.954\u001b[0m | \u001b[1mINFO    \u001b[0m | \u001b[36mmagic_pdf.libs.pdf_check\u001b[0m:\u001b[36mdetect_invalid_chars\u001b[0m:\u001b[36m67\u001b[0m - \u001b[1mcid_count: 0, text_len: 62735, cid_chars_radio: 0.0\u001b[0m\n",
      "\u001b[32m2025-05-25 20:29:28.206\u001b[0m | \u001b[1mINFO    \u001b[0m | \u001b[36mmagic_pdf.model.doc_analyze_by_custom_model\u001b[0m:\u001b[36mmay_batch_image_analyze\u001b[0m:\u001b[36m275\u001b[0m - \u001b[1mgpu_memory: 24 GB, batch_ratio: 16\u001b[0m\n",
      "Layout Predict: 100%|██████████| 33/33 [00:01<00:00, 18.68it/s]\n",
      "MFD Predict: 100%|██████████| 33/33 [00:01<00:00, 25.17it/s]\n",
      "MFR Predict: 100%|██████████| 18/18 [00:00<00:00, 117.53it/s]\n",
      "OCR-det Predict: 100%|██████████| 33/33 [00:06<00:00,  5.47it/s]\n",
      "Table Predict: 100%|██████████| 4/4 [00:01<00:00,  3.14it/s]\n",
      "Processing pages: 100%|██████████| 33/33 [00:09<00:00,  3.65it/s]\n",
      "\u001b[32m2025-05-25 20:29:50.543\u001b[0m | \u001b[1mINFO    \u001b[0m | \u001b[36mmagic_pdf.data.dataset\u001b[0m:\u001b[36m__init__\u001b[0m:\u001b[36m157\u001b[0m - \u001b[1mlang: None\u001b[0m\n"
     ]
    },
    {
     "name": "stdout",
     "output_type": "stream",
     "text": [
      "2505.03781v1\n"
     ]
    },
    {
     "name": "stderr",
     "output_type": "stream",
     "text": [
      "\u001b[32m2025-05-25 20:29:50.755\u001b[0m | \u001b[1mINFO    \u001b[0m | \u001b[36mmagic_pdf.libs.pdf_check\u001b[0m:\u001b[36mdetect_invalid_chars\u001b[0m:\u001b[36m67\u001b[0m - \u001b[1mcid_count: 0, text_len: 15295, cid_chars_radio: 0.0\u001b[0m\n",
      "\u001b[32m2025-05-25 20:29:50.809\u001b[0m | \u001b[1mINFO    \u001b[0m | \u001b[36mmagic_pdf.model.doc_analyze_by_custom_model\u001b[0m:\u001b[36mmay_batch_image_analyze\u001b[0m:\u001b[36m275\u001b[0m - \u001b[1mgpu_memory: 24 GB, batch_ratio: 16\u001b[0m\n",
      "Layout Predict: 100%|██████████| 4/4 [00:00<00:00, 10.67it/s]\n",
      "MFD Predict: 100%|██████████| 4/4 [00:00<00:00, 23.72it/s]\n",
      "MFR Predict: 100%|██████████| 5/5 [00:00<00:00, 91.88it/s]\n",
      "OCR-det Predict: 100%|██████████| 4/4 [00:00<00:00,  5.52it/s]\n",
      "Table Predict: 100%|██████████| 2/2 [00:00<00:00,  6.65it/s]\n",
      "Processing pages: 100%|██████████| 4/4 [00:00<00:00,  6.85it/s]\n",
      "\u001b[32m2025-05-25 20:29:53.640\u001b[0m | \u001b[1mINFO    \u001b[0m | \u001b[36mmagic_pdf.data.dataset\u001b[0m:\u001b[36m__init__\u001b[0m:\u001b[36m157\u001b[0m - \u001b[1mlang: None\u001b[0m\n"
     ]
    },
    {
     "name": "stdout",
     "output_type": "stream",
     "text": [
      "2505.03807v1\n"
     ]
    },
    {
     "name": "stderr",
     "output_type": "stream",
     "text": [
      "\u001b[32m2025-05-25 20:30:00.910\u001b[0m | \u001b[1mINFO    \u001b[0m | \u001b[36mmagic_pdf.libs.pdf_check\u001b[0m:\u001b[36mdetect_invalid_chars\u001b[0m:\u001b[36m67\u001b[0m - \u001b[1mcid_count: 0, text_len: 32523, cid_chars_radio: 0.0\u001b[0m\n",
      "\u001b[32m2025-05-25 20:30:01.911\u001b[0m | \u001b[1mINFO    \u001b[0m | \u001b[36mmagic_pdf.model.doc_analyze_by_custom_model\u001b[0m:\u001b[36mmay_batch_image_analyze\u001b[0m:\u001b[36m275\u001b[0m - \u001b[1mgpu_memory: 24 GB, batch_ratio: 16\u001b[0m\n",
      "Layout Predict: 100%|██████████| 29/29 [00:01<00:00, 17.24it/s]\n",
      "MFD Predict: 100%|██████████| 29/29 [00:01<00:00, 24.96it/s]\n",
      "MFR Predict: 100%|██████████| 58/58 [00:01<00:00, 48.14it/s]\n",
      "OCR-det Predict: 100%|██████████| 29/29 [00:03<00:00,  9.01it/s]\n",
      "Table Predict: 100%|██████████| 1/1 [00:00<00:00,  6.66it/s]\n",
      "Processing pages: 100%|██████████| 29/29 [00:03<00:00,  7.73it/s]\n",
      "\u001b[32m2025-05-25 20:30:14.772\u001b[0m | \u001b[1mINFO    \u001b[0m | \u001b[36mmagic_pdf.data.dataset\u001b[0m:\u001b[36m__init__\u001b[0m:\u001b[36m157\u001b[0m - \u001b[1mlang: None\u001b[0m\n"
     ]
    },
    {
     "name": "stdout",
     "output_type": "stream",
     "text": [
      "2505.04068v1\n"
     ]
    },
    {
     "name": "stderr",
     "output_type": "stream",
     "text": [
      "\u001b[32m2025-05-25 20:30:15.741\u001b[0m | \u001b[1mINFO    \u001b[0m | \u001b[36mmagic_pdf.libs.pdf_check\u001b[0m:\u001b[36mdetect_invalid_chars\u001b[0m:\u001b[36m67\u001b[0m - \u001b[1mcid_count: 0, text_len: 32473, cid_chars_radio: 0.0\u001b[0m\n",
      "\u001b[32m2025-05-25 20:30:16.115\u001b[0m | \u001b[1mINFO    \u001b[0m | \u001b[36mmagic_pdf.model.doc_analyze_by_custom_model\u001b[0m:\u001b[36mmay_batch_image_analyze\u001b[0m:\u001b[36m275\u001b[0m - \u001b[1mgpu_memory: 24 GB, batch_ratio: 16\u001b[0m\n",
      "Layout Predict: 100%|██████████| 7/7 [00:00<00:00, 12.03it/s]\n",
      "MFD Predict: 100%|██████████| 7/7 [00:00<00:00, 24.43it/s]\n",
      "MFR Predict: 100%|██████████| 29/29 [00:00<00:00, 115.22it/s]\n",
      "OCR-det Predict: 100%|██████████| 7/7 [00:01<00:00,  5.07it/s]\n",
      "Table Predict: 0it [00:00, ?it/s]\n",
      "Processing pages: 100%|██████████| 7/7 [00:01<00:00,  4.88it/s]\n",
      "\u001b[32m2025-05-25 20:30:20.926\u001b[0m | \u001b[1mINFO    \u001b[0m | \u001b[36mmagic_pdf.data.dataset\u001b[0m:\u001b[36m__init__\u001b[0m:\u001b[36m157\u001b[0m - \u001b[1mlang: None\u001b[0m\n"
     ]
    },
    {
     "name": "stdout",
     "output_type": "stream",
     "text": [
      "2505.04175v1\n"
     ]
    },
    {
     "name": "stderr",
     "output_type": "stream",
     "text": [
      "\u001b[32m2025-05-25 20:30:21.449\u001b[0m | \u001b[1mINFO    \u001b[0m | \u001b[36mmagic_pdf.libs.pdf_check\u001b[0m:\u001b[36mdetect_invalid_chars\u001b[0m:\u001b[36m67\u001b[0m - \u001b[1mcid_count: 0, text_len: 25803, cid_chars_radio: 0.0\u001b[0m\n",
      "\u001b[32m2025-05-25 20:30:21.533\u001b[0m | \u001b[1mINFO    \u001b[0m | \u001b[36mmagic_pdf.model.doc_analyze_by_custom_model\u001b[0m:\u001b[36mmay_batch_image_analyze\u001b[0m:\u001b[36m275\u001b[0m - \u001b[1mgpu_memory: 24 GB, batch_ratio: 16\u001b[0m\n",
      "Layout Predict: 100%|██████████| 6/6 [00:00<00:00, 13.36it/s]\n",
      "MFD Predict: 100%|██████████| 6/6 [00:00<00:00, 25.61it/s]\n",
      "MFR Predict: 100%|██████████| 24/24 [00:00<00:00, 120.93it/s]\n",
      "OCR-det Predict: 100%|██████████| 6/6 [00:00<00:00,  6.97it/s]\n",
      "Table Predict: 100%|██████████| 3/3 [00:00<00:00,  3.19it/s]\n",
      "Processing pages: 100%|██████████| 6/6 [00:01<00:00,  5.41it/s]\n",
      "\u001b[32m2025-05-25 20:30:26.537\u001b[0m | \u001b[1mINFO    \u001b[0m | \u001b[36mmagic_pdf.data.dataset\u001b[0m:\u001b[36m__init__\u001b[0m:\u001b[36m157\u001b[0m - \u001b[1mlang: None\u001b[0m\n"
     ]
    },
    {
     "name": "stdout",
     "output_type": "stream",
     "text": [
      "2505.04195v1\n"
     ]
    },
    {
     "name": "stderr",
     "output_type": "stream",
     "text": [
      "\u001b[32m2025-05-25 20:30:27.127\u001b[0m | \u001b[1mINFO    \u001b[0m | \u001b[36mmagic_pdf.libs.pdf_check\u001b[0m:\u001b[36mdetect_invalid_chars\u001b[0m:\u001b[36m67\u001b[0m - \u001b[1mcid_count: 6, text_len: 30171, cid_chars_radio: 0.00019913046364209618\u001b[0m\n",
      "\u001b[32m2025-05-25 20:30:27.328\u001b[0m | \u001b[1mINFO    \u001b[0m | \u001b[36mmagic_pdf.model.doc_analyze_by_custom_model\u001b[0m:\u001b[36mmay_batch_image_analyze\u001b[0m:\u001b[36m275\u001b[0m - \u001b[1mgpu_memory: 24 GB, batch_ratio: 16\u001b[0m\n",
      "Layout Predict: 100%|██████████| 20/20 [00:01<00:00, 17.70it/s]\n",
      "MFD Predict: 100%|██████████| 20/20 [00:00<00:00, 25.00it/s]\n",
      "MFR Predict: 100%|██████████| 115/115 [00:01<00:00, 100.34it/s]\n",
      "OCR-det Predict: 100%|██████████| 20/20 [00:02<00:00,  9.95it/s]\n",
      "Table Predict: 100%|██████████| 5/5 [00:00<00:00,  6.35it/s]\n",
      "Processing pages: 100%|██████████| 20/20 [00:01<00:00, 11.60it/s]\n",
      "OCR-rec Predict: 100%|██████████| 1/1 [00:00<00:00, 113.56it/s]\n",
      "\u001b[32m2025-05-25 20:30:35.986\u001b[0m | \u001b[1mINFO    \u001b[0m | \u001b[36mmagic_pdf.data.dataset\u001b[0m:\u001b[36m__init__\u001b[0m:\u001b[36m157\u001b[0m - \u001b[1mlang: None\u001b[0m\n"
     ]
    },
    {
     "name": "stdout",
     "output_type": "stream",
     "text": [
      "2505.04253v1\n"
     ]
    },
    {
     "name": "stderr",
     "output_type": "stream",
     "text": [
      "\u001b[32m2025-05-25 20:30:36.737\u001b[0m | \u001b[1mINFO    \u001b[0m | \u001b[36mmagic_pdf.libs.pdf_check\u001b[0m:\u001b[36mdetect_invalid_chars\u001b[0m:\u001b[36m67\u001b[0m - \u001b[1mcid_count: 2, text_len: 35578, cid_chars_radio: 5.623348141483439e-05\u001b[0m\n",
      "\u001b[32m2025-05-25 20:30:36.873\u001b[0m | \u001b[1mINFO    \u001b[0m | \u001b[36mmagic_pdf.model.doc_analyze_by_custom_model\u001b[0m:\u001b[36mmay_batch_image_analyze\u001b[0m:\u001b[36m275\u001b[0m - \u001b[1mgpu_memory: 24 GB, batch_ratio: 16\u001b[0m\n",
      "Layout Predict: 100%|██████████| 11/11 [00:00<00:00, 14.59it/s]\n",
      "MFD Predict: 100%|██████████| 11/11 [00:00<00:00, 26.32it/s]\n",
      "MFR Predict: 100%|██████████| 13/13 [00:00<00:00, 30.70it/s]\n",
      "OCR-det Predict: 100%|██████████| 11/11 [00:01<00:00,  6.33it/s]\n",
      "Table Predict: 100%|██████████| 2/2 [00:02<00:00,  1.48s/it]\n",
      "Processing pages: 100%|██████████| 11/11 [00:01<00:00,  7.61it/s]\n",
      "\u001b[32m2025-05-25 20:30:45.576\u001b[0m | \u001b[1mINFO    \u001b[0m | \u001b[36mmagic_pdf.data.dataset\u001b[0m:\u001b[36m__init__\u001b[0m:\u001b[36m157\u001b[0m - \u001b[1mlang: None\u001b[0m\n"
     ]
    },
    {
     "name": "stdout",
     "output_type": "stream",
     "text": [
      "2505.04365v1\n"
     ]
    },
    {
     "name": "stderr",
     "output_type": "stream",
     "text": [
      "\u001b[32m2025-05-25 20:30:47.281\u001b[0m | \u001b[1mINFO    \u001b[0m | \u001b[36mmagic_pdf.libs.pdf_check\u001b[0m:\u001b[36mdetect_invalid_chars\u001b[0m:\u001b[36m67\u001b[0m - \u001b[1mcid_count: 2, text_len: 33258, cid_chars_radio: 6.016123210203345e-05\u001b[0m\n",
      "\u001b[32m2025-05-25 20:30:47.965\u001b[0m | \u001b[1mINFO    \u001b[0m | \u001b[36mmagic_pdf.model.doc_analyze_by_custom_model\u001b[0m:\u001b[36mmay_batch_image_analyze\u001b[0m:\u001b[36m275\u001b[0m - \u001b[1mgpu_memory: 24 GB, batch_ratio: 16\u001b[0m\n",
      "Layout Predict: 100%|██████████| 25/25 [00:01<00:00, 17.35it/s]\n",
      "MFD Predict: 100%|██████████| 25/25 [00:01<00:00, 24.86it/s]\n",
      "MFR Predict: 100%|██████████| 250/250 [00:03<00:00, 78.11it/s]\n",
      "OCR-det Predict: 100%|██████████| 25/25 [00:04<00:00,  6.12it/s]\n",
      "Table Predict:  82%|████████▏ | 9/11 [00:02<00:00,  2.74it/s]\u001b[32m2025-05-25 20:31:00.135\u001b[0m | \u001b[33m\u001b[1mWARNING \u001b[0m | \u001b[36mmagic_pdf.model.batch_analyze\u001b[0m:\u001b[36m__call__\u001b[0m:\u001b[36m193\u001b[0m - \u001b[33m\u001b[1mtable recognition processing fails, not get html return\u001b[0m\n",
      "Table Predict: 100%|██████████| 11/11 [00:02<00:00,  3.89it/s]\n",
      "Processing pages: 100%|██████████| 25/25 [00:02<00:00,  8.64it/s]\n",
      "OCR-rec Predict: 100%|██████████| 4/4 [00:00<00:00, 47.13it/s]\n",
      "\u001b[32m2025-05-25 20:31:04.993\u001b[0m | \u001b[1mINFO    \u001b[0m | \u001b[36mmagic_pdf.data.dataset\u001b[0m:\u001b[36m__init__\u001b[0m:\u001b[36m157\u001b[0m - \u001b[1mlang: None\u001b[0m\n"
     ]
    },
    {
     "name": "stdout",
     "output_type": "stream",
     "text": [
      "2505.04651v1\n"
     ]
    },
    {
     "name": "stderr",
     "output_type": "stream",
     "text": [
      "\u001b[32m2025-05-25 20:31:06.294\u001b[0m | \u001b[1mINFO    \u001b[0m | \u001b[36mmagic_pdf.libs.pdf_check\u001b[0m:\u001b[36mdetect_invalid_chars\u001b[0m:\u001b[36m67\u001b[0m - \u001b[1mcid_count: 0, text_len: 42141, cid_chars_radio: 0.0\u001b[0m\n",
      "\u001b[32m2025-05-25 20:31:06.897\u001b[0m | \u001b[1mINFO    \u001b[0m | \u001b[36mmagic_pdf.model.doc_analyze_by_custom_model\u001b[0m:\u001b[36mmay_batch_image_analyze\u001b[0m:\u001b[36m275\u001b[0m - \u001b[1mgpu_memory: 24 GB, batch_ratio: 16\u001b[0m\n",
      "Layout Predict: 100%|██████████| 60/60 [00:03<00:00, 19.52it/s]\n",
      "MFD Predict: 100%|██████████| 60/60 [00:02<00:00, 25.10it/s]\n",
      "MFR Predict: 100%|██████████| 99/99 [00:00<00:00, 107.35it/s]\n",
      "OCR-det Predict: 100%|██████████| 60/60 [00:08<00:00,  7.31it/s]\n",
      "Table Predict: 100%|██████████| 6/6 [00:03<00:00,  1.79it/s]\n",
      "Processing pages: 100%|██████████| 60/60 [00:07<00:00,  7.98it/s]\n",
      "\u001b[32m2025-05-25 20:31:34.957\u001b[0m | \u001b[1mINFO    \u001b[0m | \u001b[36mmagic_pdf.data.dataset\u001b[0m:\u001b[36m__init__\u001b[0m:\u001b[36m157\u001b[0m - \u001b[1mlang: None\u001b[0m\n"
     ]
    },
    {
     "name": "stdout",
     "output_type": "stream",
     "text": [
      "2505.04666v1\n"
     ]
    },
    {
     "name": "stderr",
     "output_type": "stream",
     "text": [
      "\u001b[32m2025-05-25 20:31:35.626\u001b[0m | \u001b[1mINFO    \u001b[0m | \u001b[36mmagic_pdf.libs.pdf_check\u001b[0m:\u001b[36mdetect_invalid_chars\u001b[0m:\u001b[36m67\u001b[0m - \u001b[1mcid_count: 0, text_len: 24600, cid_chars_radio: 0.0\u001b[0m\n",
      "\u001b[32m2025-05-25 20:31:36.080\u001b[0m | \u001b[1mINFO    \u001b[0m | \u001b[36mmagic_pdf.model.doc_analyze_by_custom_model\u001b[0m:\u001b[36mmay_batch_image_analyze\u001b[0m:\u001b[36m275\u001b[0m - \u001b[1mgpu_memory: 24 GB, batch_ratio: 16\u001b[0m\n",
      "Layout Predict: 100%|██████████| 38/38 [00:02<00:00, 18.44it/s]\n",
      "MFD Predict: 100%|██████████| 38/38 [00:01<00:00, 25.12it/s]\n",
      "MFR Predict: 100%|██████████| 107/107 [00:01<00:00, 78.70it/s]\n",
      "OCR-det Predict: 100%|██████████| 38/38 [00:02<00:00, 13.84it/s]\n",
      "Table Predict: 100%|██████████| 5/5 [00:01<00:00,  3.32it/s]\n",
      "Processing pages: 100%|██████████| 38/38 [00:02<00:00, 16.92it/s]\n",
      "\u001b[32m2025-05-25 20:31:49.097\u001b[0m | \u001b[1mINFO    \u001b[0m | \u001b[36mmagic_pdf.data.dataset\u001b[0m:\u001b[36m__init__\u001b[0m:\u001b[36m157\u001b[0m - \u001b[1mlang: None\u001b[0m\n"
     ]
    },
    {
     "name": "stdout",
     "output_type": "stream",
     "text": [
      "2505.04680v1\n"
     ]
    },
    {
     "name": "stderr",
     "output_type": "stream",
     "text": [
      "\u001b[32m2025-05-25 20:31:49.879\u001b[0m | \u001b[1mINFO    \u001b[0m | \u001b[36mmagic_pdf.libs.pdf_check\u001b[0m:\u001b[36mdetect_invalid_chars\u001b[0m:\u001b[36m67\u001b[0m - \u001b[1mcid_count: 0, text_len: 26018, cid_chars_radio: 0.0\u001b[0m\n",
      "\u001b[32m2025-05-25 20:31:50.500\u001b[0m | \u001b[1mINFO    \u001b[0m | \u001b[36mmagic_pdf.model.doc_analyze_by_custom_model\u001b[0m:\u001b[36mmay_batch_image_analyze\u001b[0m:\u001b[36m275\u001b[0m - \u001b[1mgpu_memory: 24 GB, batch_ratio: 16\u001b[0m\n",
      "Layout Predict: 100%|██████████| 45/45 [00:02<00:00, 19.37it/s]\n",
      "MFD Predict: 100%|██████████| 45/45 [00:01<00:00, 26.90it/s]\n",
      "MFR Predict: 100%|██████████| 37/37 [00:00<00:00, 46.84it/s]\n",
      "OCR-det Predict: 100%|██████████| 45/45 [00:04<00:00,  9.28it/s]\n",
      "Table Predict: 100%|██████████| 14/14 [00:02<00:00,  6.07it/s]\n",
      "Processing pages: 100%|██████████| 45/45 [00:03<00:00, 12.48it/s]\n",
      "OCR-rec Predict: 100%|██████████| 52/52 [00:00<00:00, 132.66it/s]\n",
      "\u001b[32m2025-05-25 20:32:08.665\u001b[0m | \u001b[1mINFO    \u001b[0m | \u001b[36mmagic_pdf.data.dataset\u001b[0m:\u001b[36m__init__\u001b[0m:\u001b[36m157\u001b[0m - \u001b[1mlang: None\u001b[0m\n"
     ]
    },
    {
     "name": "stdout",
     "output_type": "stream",
     "text": [
      "2505.04784v1\n"
     ]
    },
    {
     "name": "stderr",
     "output_type": "stream",
     "text": [
      "\u001b[32m2025-05-25 20:32:09.315\u001b[0m | \u001b[1mINFO    \u001b[0m | \u001b[36mmagic_pdf.libs.pdf_check\u001b[0m:\u001b[36mdetect_invalid_chars\u001b[0m:\u001b[36m67\u001b[0m - \u001b[1mcid_count: 5, text_len: 27140, cid_chars_radio: 0.00018446781036709093\u001b[0m\n",
      "\u001b[32m2025-05-25 20:32:09.508\u001b[0m | \u001b[1mINFO    \u001b[0m | \u001b[36mmagic_pdf.model.doc_analyze_by_custom_model\u001b[0m:\u001b[36mmay_batch_image_analyze\u001b[0m:\u001b[36m275\u001b[0m - \u001b[1mgpu_memory: 24 GB, batch_ratio: 16\u001b[0m\n",
      "Layout Predict: 100%|██████████| 22/22 [00:01<00:00, 16.89it/s]\n",
      "MFD Predict: 100%|██████████| 22/22 [00:00<00:00, 26.53it/s]\n",
      "MFR Predict: 100%|██████████| 63/63 [00:10<00:00,  6.23it/s]\n",
      "OCR-det Predict: 100%|██████████| 22/22 [00:02<00:00,  8.39it/s]\n",
      "Table Predict: 100%|██████████| 5/5 [00:01<00:00,  3.61it/s]\n",
      "Processing pages: 100%|██████████| 22/22 [00:01<00:00, 13.89it/s]\n",
      "OCR-rec Predict: 100%|██████████| 1/1 [00:00<00:00, 46.46it/s]\n",
      "\u001b[32m2025-05-25 20:32:28.416\u001b[0m | \u001b[1mINFO    \u001b[0m | \u001b[36mmagic_pdf.data.dataset\u001b[0m:\u001b[36m__init__\u001b[0m:\u001b[36m157\u001b[0m - \u001b[1mlang: None\u001b[0m\n"
     ]
    },
    {
     "name": "stdout",
     "output_type": "stream",
     "text": [
      "2505.04844v1\n"
     ]
    },
    {
     "name": "stderr",
     "output_type": "stream",
     "text": [
      "\u001b[32m2025-05-25 20:32:29.075\u001b[0m | \u001b[1mINFO    \u001b[0m | \u001b[36mmagic_pdf.libs.pdf_check\u001b[0m:\u001b[36mdetect_invalid_chars\u001b[0m:\u001b[36m67\u001b[0m - \u001b[1mcid_count: 0, text_len: 33942, cid_chars_radio: 0.0\u001b[0m\n",
      "\u001b[32m2025-05-25 20:32:29.235\u001b[0m | \u001b[1mINFO    \u001b[0m | \u001b[36mmagic_pdf.model.doc_analyze_by_custom_model\u001b[0m:\u001b[36mmay_batch_image_analyze\u001b[0m:\u001b[36m275\u001b[0m - \u001b[1mgpu_memory: 24 GB, batch_ratio: 16\u001b[0m\n",
      "Layout Predict: 100%|██████████| 13/13 [00:00<00:00, 15.19it/s]\n",
      "MFD Predict: 100%|██████████| 13/13 [00:00<00:00, 26.06it/s]\n",
      "MFR Predict: 100%|██████████| 27/27 [00:00<00:00, 120.97it/s]\n",
      "OCR-det Predict: 100%|██████████| 13/13 [00:02<00:00,  6.08it/s]\n",
      "Table Predict: 100%|██████████| 4/4 [00:00<00:00,  5.49it/s]\n",
      "Processing pages: 100%|██████████| 13/13 [00:01<00:00,  9.29it/s]\n",
      "\u001b[32m2025-05-25 20:32:36.177\u001b[0m | \u001b[1mINFO    \u001b[0m | \u001b[36mmagic_pdf.data.dataset\u001b[0m:\u001b[36m__init__\u001b[0m:\u001b[36m157\u001b[0m - \u001b[1mlang: None\u001b[0m\n"
     ]
    },
    {
     "name": "stdout",
     "output_type": "stream",
     "text": [
      "2505.04846v1\n"
     ]
    },
    {
     "name": "stderr",
     "output_type": "stream",
     "text": [
      "\u001b[32m2025-05-25 20:32:37.308\u001b[0m | \u001b[1mINFO    \u001b[0m | \u001b[36mmagic_pdf.libs.pdf_check\u001b[0m:\u001b[36mdetect_invalid_chars\u001b[0m:\u001b[36m67\u001b[0m - \u001b[1mcid_count: 1, text_len: 61392, cid_chars_radio: 1.6290890134236934e-05\u001b[0m\n",
      "\u001b[32m2025-05-25 20:32:37.576\u001b[0m | \u001b[1mINFO    \u001b[0m | \u001b[36mmagic_pdf.model.doc_analyze_by_custom_model\u001b[0m:\u001b[36mmay_batch_image_analyze\u001b[0m:\u001b[36m275\u001b[0m - \u001b[1mgpu_memory: 24 GB, batch_ratio: 16\u001b[0m\n",
      "Layout Predict: 100%|██████████| 13/13 [00:00<00:00, 16.12it/s]\n",
      "MFD Predict: 100%|██████████| 13/13 [00:00<00:00, 24.52it/s]\n",
      "MFR Predict: 100%|██████████| 84/84 [00:00<00:00, 131.57it/s]\n",
      "OCR-det Predict: 100%|██████████| 13/13 [00:02<00:00,  5.82it/s]\n",
      "Table Predict: 100%|██████████| 7/7 [00:01<00:00,  6.52it/s]\n",
      "Processing pages: 100%|██████████| 13/13 [00:03<00:00,  3.73it/s]\n",
      "\u001b[32m2025-05-25 20:32:48.029\u001b[0m | \u001b[1mINFO    \u001b[0m | \u001b[36mmagic_pdf.data.dataset\u001b[0m:\u001b[36m__init__\u001b[0m:\u001b[36m157\u001b[0m - \u001b[1mlang: None\u001b[0m\n"
     ]
    },
    {
     "name": "stdout",
     "output_type": "stream",
     "text": [
      "2505.04869v1\n"
     ]
    },
    {
     "name": "stderr",
     "output_type": "stream",
     "text": [
      "\u001b[32m2025-05-25 20:32:49.763\u001b[0m | \u001b[1mINFO    \u001b[0m | \u001b[36mmagic_pdf.libs.pdf_check\u001b[0m:\u001b[36mdetect_invalid_chars\u001b[0m:\u001b[36m67\u001b[0m - \u001b[1mcid_count: 0, text_len: 24859, cid_chars_radio: 0.0\u001b[0m\n",
      "\u001b[32m2025-05-25 20:32:50.367\u001b[0m | \u001b[1mINFO    \u001b[0m | \u001b[36mmagic_pdf.model.doc_analyze_by_custom_model\u001b[0m:\u001b[36mmay_batch_image_analyze\u001b[0m:\u001b[36m275\u001b[0m - \u001b[1mgpu_memory: 24 GB, batch_ratio: 16\u001b[0m\n",
      "Layout Predict: 100%|██████████| 14/14 [00:00<00:00, 15.04it/s]\n",
      "MFD Predict: 100%|██████████| 14/14 [00:00<00:00, 24.62it/s]\n",
      "MFR Predict: 100%|██████████| 116/116 [00:00<00:00, 181.71it/s]\n",
      "OCR-det Predict: 100%|██████████| 14/14 [00:01<00:00,  9.93it/s]\n",
      "Table Predict: 100%|██████████| 6/6 [00:00<00:00,  6.57it/s]\n",
      "Processing pages: 100%|██████████| 14/14 [00:01<00:00, 12.78it/s]\n",
      "\u001b[32m2025-05-25 20:32:56.818\u001b[0m | \u001b[1mINFO    \u001b[0m | \u001b[36mmagic_pdf.data.dataset\u001b[0m:\u001b[36m__init__\u001b[0m:\u001b[36m157\u001b[0m - \u001b[1mlang: None\u001b[0m\n"
     ]
    },
    {
     "name": "stdout",
     "output_type": "stream",
     "text": [
      "2505.04916v1\n"
     ]
    },
    {
     "name": "stderr",
     "output_type": "stream",
     "text": [
      "\u001b[32m2025-05-25 20:32:57.331\u001b[0m | \u001b[1mINFO    \u001b[0m | \u001b[36mmagic_pdf.libs.pdf_check\u001b[0m:\u001b[36mdetect_invalid_chars\u001b[0m:\u001b[36m67\u001b[0m - \u001b[1mcid_count: 0, text_len: 27602, cid_chars_radio: 0.0\u001b[0m\n",
      "\u001b[32m2025-05-25 20:32:57.516\u001b[0m | \u001b[1mINFO    \u001b[0m | \u001b[36mmagic_pdf.model.doc_analyze_by_custom_model\u001b[0m:\u001b[36mmay_batch_image_analyze\u001b[0m:\u001b[36m275\u001b[0m - \u001b[1mgpu_memory: 24 GB, batch_ratio: 16\u001b[0m\n",
      "Layout Predict: 100%|██████████| 17/17 [00:00<00:00, 17.76it/s]\n",
      "MFD Predict: 100%|██████████| 17/17 [00:00<00:00, 25.02it/s]\n",
      "MFR Predict: 100%|██████████| 12/12 [00:00<00:00, 65.74it/s]\n",
      "OCR-det Predict: 100%|██████████| 17/17 [00:01<00:00,  8.86it/s]\n",
      "Table Predict: 100%|██████████| 3/3 [00:00<00:00,  5.03it/s]\n",
      "Processing pages: 100%|██████████| 17/17 [00:01<00:00, 13.54it/s]\n",
      "OCR-rec Predict: 100%|██████████| 1/1 [00:00<00:00, 142.88it/s]\n",
      "\u001b[32m2025-05-25 20:33:04.159\u001b[0m | \u001b[1mINFO    \u001b[0m | \u001b[36mmagic_pdf.data.dataset\u001b[0m:\u001b[36m__init__\u001b[0m:\u001b[36m157\u001b[0m - \u001b[1mlang: None\u001b[0m\n"
     ]
    },
    {
     "name": "stdout",
     "output_type": "stream",
     "text": [
      "2505.05031v1\n"
     ]
    },
    {
     "name": "stderr",
     "output_type": "stream",
     "text": [
      "\u001b[32m2025-05-25 20:33:05.610\u001b[0m | \u001b[1mINFO    \u001b[0m | \u001b[36mmagic_pdf.libs.pdf_check\u001b[0m:\u001b[36mdetect_invalid_chars\u001b[0m:\u001b[36m67\u001b[0m - \u001b[1mcid_count: 2, text_len: 34294, cid_chars_radio: 5.833965346245843e-05\u001b[0m\n",
      "\u001b[32m2025-05-25 20:33:05.944\u001b[0m | \u001b[1mINFO    \u001b[0m | \u001b[36mmagic_pdf.model.doc_analyze_by_custom_model\u001b[0m:\u001b[36mmay_batch_image_analyze\u001b[0m:\u001b[36m275\u001b[0m - \u001b[1mgpu_memory: 24 GB, batch_ratio: 16\u001b[0m\n",
      "Layout Predict: 100%|██████████| 21/21 [00:01<00:00, 17.95it/s]\n",
      "MFD Predict: 100%|██████████| 21/21 [00:00<00:00, 24.73it/s]\n",
      "MFR Predict: 100%|██████████| 146/146 [00:02<00:00, 52.04it/s]\n",
      "OCR-det Predict: 100%|██████████| 21/21 [00:04<00:00,  4.21it/s]\n",
      "Table Predict: 100%|██████████| 7/7 [00:01<00:00,  5.23it/s]\n",
      "Processing pages: 100%|██████████| 21/21 [00:03<00:00,  5.93it/s]\n",
      "\u001b[32m2025-05-25 20:33:22.697\u001b[0m | \u001b[1mINFO    \u001b[0m | \u001b[36mmagic_pdf.data.dataset\u001b[0m:\u001b[36m__init__\u001b[0m:\u001b[36m157\u001b[0m - \u001b[1mlang: None\u001b[0m\n"
     ]
    },
    {
     "name": "stdout",
     "output_type": "stream",
     "text": [
      "2505.05057v1\n"
     ]
    },
    {
     "name": "stderr",
     "output_type": "stream",
     "text": [
      "\u001b[32m2025-05-25 20:33:23.899\u001b[0m | \u001b[1mINFO    \u001b[0m | \u001b[36mmagic_pdf.libs.pdf_check\u001b[0m:\u001b[36mdetect_invalid_chars\u001b[0m:\u001b[36m67\u001b[0m - \u001b[1mcid_count: 1, text_len: 57480, cid_chars_radio: 1.739977728285078e-05\u001b[0m\n",
      "\u001b[32m2025-05-25 20:33:24.151\u001b[0m | \u001b[1mINFO    \u001b[0m | \u001b[36mmagic_pdf.model.doc_analyze_by_custom_model\u001b[0m:\u001b[36mmay_batch_image_analyze\u001b[0m:\u001b[36m275\u001b[0m - \u001b[1mgpu_memory: 24 GB, batch_ratio: 16\u001b[0m\n",
      "Layout Predict: 100%|██████████| 12/12 [00:00<00:00, 15.59it/s]\n",
      "MFD Predict: 100%|██████████| 12/12 [00:00<00:00, 24.54it/s]\n",
      "MFR Predict: 100%|██████████| 125/125 [00:02<00:00, 56.90it/s]\n",
      "OCR-det Predict: 100%|██████████| 12/12 [00:02<00:00,  4.35it/s]\n",
      "Table Predict: 100%|██████████| 4/4 [00:02<00:00,  1.90it/s]\n",
      "Processing pages: 100%|██████████| 12/12 [00:03<00:00,  3.68it/s]\n",
      "OCR-rec Predict: 100%|██████████| 2/2 [00:00<00:00, 124.92it/s]\n"
     ]
    }
   ],
   "source": [
    "#work version\n",
    "# Copyright (c) Opendatalab. All rights reserved.\n",
    "import os\n",
    "\n",
    "# 设置使用的GPU（如使用第1块GPU，索引为1）\n",
    "os.environ[\"CUDA_VISIBLE_DEVICES\"] = \"1\"\n",
    "\n",
    "from magic_pdf.data.data_reader_writer import FileBasedDataWriter, FileBasedDataReader\n",
    "from magic_pdf.data.dataset import PymuDocDataset\n",
    "from magic_pdf.model.doc_analyze_by_custom_model import doc_analyze\n",
    "from magic_pdf.config.enums import SupportedPdfParseMethod\n",
    "\n",
    "# args\n",
    "#__dir__ = os.path.dirname(os.path.abspath(__file__))\n",
    "__dir__ = os.getcwd()\n",
    "\n",
    "\n",
    "# Path to the parsed list file\n",
    "parsed_list_file = os.path.join(__dir__, \"parsed_list.txt\")\n",
    "\n",
    "# Load the parsed list if it exists\n",
    "if os.path.exists(parsed_list_file):\n",
    "    with open(parsed_list_file, \"r\") as f:\n",
    "        parsed_list = set(f.read().splitlines())\n",
    "else:\n",
    "    with open(parsed_list_file, \"w\") as f:\n",
    "        f.write(\"\")  # Create an empty file\n",
    "    parsed_list = set()\n",
    "\n",
    "# Get all files in the downloads directory\n",
    "downloads_dir = os.path.join(__dir__, \"downloads\")\n",
    "#downloads_dir = os.path.join(__dir__, \"PDF\")\n",
    "all_files = [os.path.join(downloads_dir, f) for f in os.listdir(downloads_dir) if f.endswith(\".pdf\")]\n",
    "\n",
    "# Process files not in the parsed list\n",
    "for pdf_file_name in all_files[:]:\n",
    "    if pdf_file_name not in parsed_list:\n",
    "        try:\n",
    "            #name_without_extension = '.'.join(os.path.basename(pdf_file_name).split('.')[0:-1]) #不能支持那么长\n",
    "            name_without_extension = '.'.join(os.path.basename(pdf_file_name).split('.')[0:2]) #不能支持那么长\n",
    "\n",
    "            print(name_without_extension)\n",
    "\n",
    "            # Prepare environment\n",
    "            local_image_dir = os.path.join(__dir__, \"output\", name_without_extension, \"images\")\n",
    "            local_md_dir = os.path.join(__dir__, \"output\", name_without_extension)\n",
    "            image_dir = str(os.path.basename(local_image_dir))\n",
    "            os.makedirs(local_image_dir, exist_ok=True)\n",
    "\n",
    "            image_writer, md_writer = FileBasedDataWriter(local_image_dir), FileBasedDataWriter(local_md_dir)\n",
    "\n",
    "            # Read bytes\n",
    "            reader1 = FileBasedDataReader(\"\")\n",
    "\n",
    "            pdf_bytes = reader1.read(pdf_file_name)\n",
    "\n",
    "            # Create Dataset Instance\n",
    "            ds = PymuDocDataset(pdf_bytes)\n",
    "\n",
    "            # Inference\n",
    "            if ds.classify() == SupportedPdfParseMethod.OCR:\n",
    "                infer_result = ds.apply(doc_analyze, ocr=True)\n",
    "                pipe_result = infer_result.pipe_ocr_mode(image_writer)\n",
    "            else:\n",
    "                infer_result = ds.apply(doc_analyze, ocr=False)\n",
    "                pipe_result = infer_result.pipe_txt_mode(image_writer)\n",
    "\n",
    "            # Draw layout and spans results\n",
    "            #model_inference_result = infer_result.get_infer_res()\n",
    "            #md_content = pipe_result.get_markdown(image_dir)\n",
    "            #middle_json_content = pipe_result.get_middle_json()\n",
    "            #content_list_content = pipe_result.get_content_list(image_dir)\n",
    "\n",
    "\n",
    "            pipe_result.draw_layout(os.path.join(local_md_dir, f\"{name_without_extension}_layout.pdf\"))\n",
    "            pipe_result.draw_span(os.path.join(local_md_dir, f\"{name_without_extension}_spans.pdf\"))\n",
    "            pipe_result.dump_md(md_writer, f\"{name_without_extension}.md\", image_dir)\n",
    "            pipe_result.dump_content_list(md_writer, f\"{name_without_extension}_content_list.json\", image_dir)\n",
    "            pipe_result.dump_middle_json(md_writer, f'{name_without_extension}_middle.json')\n",
    "\n",
    "            # Add the file to the parsed list\n",
    "            parsed_list.add(pdf_file_name)\n",
    "\n",
    "        except Exception as e:\n",
    "            print(f\"Error processing file {pdf_file_name}: {e}\")\n",
    "\n",
    "# Save the updated parsed list\n",
    "with open(parsed_list_file, \"w\") as f:\n",
    "    f.write(\"\\n\".join(parsed_list))\n"
   ]
  },
  {
   "cell_type": "code",
   "execution_count": null,
   "id": "b2ef1e41",
   "metadata": {},
   "outputs": [
    {
     "name": "stdout",
     "output_type": "stream",
     "text": [
      "可用GPU数量: 1\n",
      "GPU 0: NVIDIA GeForce RTX 4090\n",
      "当前可见的GPU: 1\n",
      "可用GPU数量: 1\n",
      "GPU 0: NVIDIA GeForce RTX 4090\n",
      "Chunk 1: 100 files\n"
     ]
    },
    {
     "name": "stderr",
     "output_type": "stream",
     "text": [
      "\u001b[32m2025-05-23 17:34:03.823\u001b[0m | \u001b[1mINFO    \u001b[0m | \u001b[36mmagic_pdf.libs.pdf_check\u001b[0m:\u001b[36mdetect_invalid_chars\u001b[0m:\u001b[36m67\u001b[0m - \u001b[1mcid_count: 4, text_len: 32734, cid_chars_radio: 0.00012230171833914265\u001b[0m\n",
      "\u001b[32m2025-05-23 17:34:04.579\u001b[0m | \u001b[1mINFO    \u001b[0m | \u001b[36mmagic_pdf.libs.pdf_check\u001b[0m:\u001b[36mdetect_invalid_chars\u001b[0m:\u001b[36m67\u001b[0m - \u001b[1mcid_count: 38, text_len: 35073, cid_chars_radio: 0.0010917344212371075\u001b[0m\n",
      "\u001b[32m2025-05-23 17:34:05.522\u001b[0m | \u001b[1mINFO    \u001b[0m | \u001b[36mmagic_pdf.libs.pdf_check\u001b[0m:\u001b[36mdetect_invalid_chars\u001b[0m:\u001b[36m67\u001b[0m - \u001b[1mcid_count: 11, text_len: 43027, cid_chars_radio: 0.0002560879079945989\u001b[0m\n",
      "\u001b[32m2025-05-23 17:34:05.901\u001b[0m | \u001b[1mINFO    \u001b[0m | \u001b[36mmagic_pdf.libs.pdf_check\u001b[0m:\u001b[36mdetect_invalid_chars\u001b[0m:\u001b[36m67\u001b[0m - \u001b[1mcid_count: 0, text_len: 22911, cid_chars_radio: 0.0\u001b[0m\n",
      "\u001b[32m2025-05-23 17:34:06.583\u001b[0m | \u001b[1mINFO    \u001b[0m | \u001b[36mmagic_pdf.libs.pdf_check\u001b[0m:\u001b[36mdetect_invalid_chars\u001b[0m:\u001b[36m67\u001b[0m - \u001b[1mcid_count: 1, text_len: 41691, cid_chars_radio: 2.3990020151616926e-05\u001b[0m\n",
      "\u001b[32m2025-05-23 17:34:07.284\u001b[0m | \u001b[1mINFO    \u001b[0m | \u001b[36mmagic_pdf.libs.pdf_check\u001b[0m:\u001b[36mdetect_invalid_chars\u001b[0m:\u001b[36m67\u001b[0m - \u001b[1mcid_count: 3, text_len: 36020, cid_chars_radio: 8.333564821245035e-05\u001b[0m\n",
      "\u001b[32m2025-05-23 17:34:08.211\u001b[0m | \u001b[1mINFO    \u001b[0m | \u001b[36mmagic_pdf.libs.pdf_check\u001b[0m:\u001b[36mdetect_invalid_chars\u001b[0m:\u001b[36m67\u001b[0m - \u001b[1mcid_count: 4, text_len: 38117, cid_chars_radio: 0.00010501719656593767\u001b[0m\n",
      "\u001b[32m2025-05-23 17:34:09.108\u001b[0m | \u001b[1mINFO    \u001b[0m | \u001b[36mmagic_pdf.libs.pdf_check\u001b[0m:\u001b[36mdetect_invalid_chars\u001b[0m:\u001b[36m67\u001b[0m - \u001b[1mcid_count: 0, text_len: 39932, cid_chars_radio: 0.0\u001b[0m\n",
      "\u001b[32m2025-05-23 17:34:09.891\u001b[0m | \u001b[1mINFO    \u001b[0m | \u001b[36mmagic_pdf.libs.pdf_check\u001b[0m:\u001b[36mdetect_invalid_chars\u001b[0m:\u001b[36m67\u001b[0m - \u001b[1mcid_count: 22, text_len: 42088, cid_chars_radio: 0.0005249093338423363\u001b[0m\n",
      "\u001b[32m2025-05-23 17:34:10.310\u001b[0m | \u001b[1mINFO    \u001b[0m | \u001b[36mmagic_pdf.libs.pdf_check\u001b[0m:\u001b[36mdetect_invalid_chars\u001b[0m:\u001b[36m67\u001b[0m - \u001b[1mcid_count: 0, text_len: 25684, cid_chars_radio: 0.0\u001b[0m\n",
      "\u001b[32m2025-05-23 17:34:10.905\u001b[0m | \u001b[1mINFO    \u001b[0m | \u001b[36mmagic_pdf.libs.pdf_check\u001b[0m:\u001b[36mdetect_invalid_chars\u001b[0m:\u001b[36m67\u001b[0m - \u001b[1mcid_count: 0, text_len: 23283, cid_chars_radio: 0.0\u001b[0m\n",
      "\u001b[32m2025-05-23 17:34:11.424\u001b[0m | \u001b[1mINFO    \u001b[0m | \u001b[36mmagic_pdf.libs.pdf_check\u001b[0m:\u001b[36mdetect_invalid_chars\u001b[0m:\u001b[36m67\u001b[0m - \u001b[1mcid_count: 8, text_len: 29501, cid_chars_radio: 0.0002716560833984176\u001b[0m\n",
      "\u001b[32m2025-05-23 17:34:12.124\u001b[0m | \u001b[1mINFO    \u001b[0m | \u001b[36mmagic_pdf.libs.pdf_check\u001b[0m:\u001b[36mdetect_invalid_chars\u001b[0m:\u001b[36m67\u001b[0m - \u001b[1mcid_count: 6, text_len: 36868, cid_chars_radio: 0.000162937214859874\u001b[0m\n",
      "\u001b[32m2025-05-23 17:34:12.898\u001b[0m | \u001b[1mINFO    \u001b[0m | \u001b[36mmagic_pdf.libs.pdf_check\u001b[0m:\u001b[36mdetect_invalid_chars\u001b[0m:\u001b[36m67\u001b[0m - \u001b[1mcid_count: 3, text_len: 35233, cid_chars_radio: 8.519822787686016e-05\u001b[0m\n",
      "\u001b[32m2025-05-23 17:34:16.790\u001b[0m | \u001b[1mINFO    \u001b[0m | \u001b[36mmagic_pdf.libs.pdf_check\u001b[0m:\u001b[36mdetect_invalid_chars\u001b[0m:\u001b[36m67\u001b[0m - \u001b[1mcid_count: 2, text_len: 38527, cid_chars_radio: 5.193051696829642e-05\u001b[0m\n",
      "\u001b[32m2025-05-23 17:34:17.779\u001b[0m | \u001b[1mINFO    \u001b[0m | \u001b[36mmagic_pdf.libs.pdf_check\u001b[0m:\u001b[36mdetect_invalid_chars\u001b[0m:\u001b[36m67\u001b[0m - \u001b[1mcid_count: 3, text_len: 32960, cid_chars_radio: 9.107744618840887e-05\u001b[0m\n",
      "\u001b[32m2025-05-23 17:34:18.665\u001b[0m | \u001b[1mINFO    \u001b[0m | \u001b[36mmagic_pdf.libs.pdf_check\u001b[0m:\u001b[36mdetect_invalid_chars\u001b[0m:\u001b[36m67\u001b[0m - \u001b[1mcid_count: 0, text_len: 33237, cid_chars_radio: 0.0\u001b[0m\n",
      "\u001b[32m2025-05-23 17:34:20.318\u001b[0m | \u001b[1mINFO    \u001b[0m | \u001b[36mmagic_pdf.libs.pdf_check\u001b[0m:\u001b[36mdetect_invalid_chars\u001b[0m:\u001b[36m67\u001b[0m - \u001b[1mcid_count: 3, text_len: 36006, cid_chars_radio: 8.336807002917882e-05\u001b[0m\n",
      "\u001b[32m2025-05-23 17:34:22.721\u001b[0m | \u001b[1mINFO    \u001b[0m | \u001b[36mmagic_pdf.libs.pdf_check\u001b[0m:\u001b[36mdetect_invalid_chars\u001b[0m:\u001b[36m67\u001b[0m - \u001b[1mcid_count: 0, text_len: 68988, cid_chars_radio: 0.0\u001b[0m\n",
      "\u001b[32m2025-05-23 17:34:59.371\u001b[0m | \u001b[1mINFO    \u001b[0m | \u001b[36mmagic_pdf.libs.pdf_check\u001b[0m:\u001b[36mdetect_invalid_chars\u001b[0m:\u001b[36m67\u001b[0m - \u001b[1mcid_count: 0, text_len: 34608, cid_chars_radio: 0.0\u001b[0m\n",
      "\u001b[32m2025-05-23 17:35:01.459\u001b[0m | \u001b[1mINFO    \u001b[0m | \u001b[36mmagic_pdf.libs.pdf_check\u001b[0m:\u001b[36mdetect_invalid_chars\u001b[0m:\u001b[36m67\u001b[0m - \u001b[1mcid_count: 4, text_len: 26487, cid_chars_radio: 0.0001511772931705658\u001b[0m\n",
      "\u001b[32m2025-05-23 17:35:03.294\u001b[0m | \u001b[1mINFO    \u001b[0m | \u001b[36mmagic_pdf.libs.pdf_check\u001b[0m:\u001b[36mdetect_invalid_chars\u001b[0m:\u001b[36m67\u001b[0m - \u001b[1mcid_count: 2, text_len: 39438, cid_chars_radio: 5.0730519480519484e-05\u001b[0m\n",
      "\u001b[32m2025-05-23 17:35:04.841\u001b[0m | \u001b[1mINFO    \u001b[0m | \u001b[36mmagic_pdf.libs.pdf_check\u001b[0m:\u001b[36mdetect_invalid_chars\u001b[0m:\u001b[36m67\u001b[0m - \u001b[1mcid_count: 16, text_len: 39786, cid_chars_radio: 0.00040326645831232987\u001b[0m\n",
      "\u001b[32m2025-05-23 17:35:06.449\u001b[0m | \u001b[1mINFO    \u001b[0m | \u001b[36mmagic_pdf.libs.pdf_check\u001b[0m:\u001b[36mdetect_invalid_chars\u001b[0m:\u001b[36m67\u001b[0m - \u001b[1mcid_count: 1, text_len: 41560, cid_chars_radio: 2.4065651096190408e-05\u001b[0m\n",
      "\u001b[32m2025-05-23 17:35:08.139\u001b[0m | \u001b[1mINFO    \u001b[0m | \u001b[36mmagic_pdf.libs.pdf_check\u001b[0m:\u001b[36mdetect_invalid_chars\u001b[0m:\u001b[36m67\u001b[0m - \u001b[1mcid_count: 3, text_len: 36372, cid_chars_radio: 8.252867871585376e-05\u001b[0m\n",
      "\u001b[32m2025-05-23 17:35:11.252\u001b[0m | \u001b[1mINFO    \u001b[0m | \u001b[36mmagic_pdf.libs.pdf_check\u001b[0m:\u001b[36mdetect_invalid_chars\u001b[0m:\u001b[36m67\u001b[0m - \u001b[1mcid_count: 5, text_len: 55668, cid_chars_radio: 8.987471464778099e-05\u001b[0m\n",
      "\u001b[32m2025-05-23 17:35:13.504\u001b[0m | \u001b[1mINFO    \u001b[0m | \u001b[36mmagic_pdf.libs.pdf_check\u001b[0m:\u001b[36mdetect_invalid_chars\u001b[0m:\u001b[36m67\u001b[0m - \u001b[1mcid_count: 49, text_len: 35057, cid_chars_radio: 0.0014103154501496661\u001b[0m\n",
      "\u001b[32m2025-05-23 17:35:16.781\u001b[0m | \u001b[1mINFO    \u001b[0m | \u001b[36mmagic_pdf.libs.pdf_check\u001b[0m:\u001b[36mdetect_invalid_chars\u001b[0m:\u001b[36m67\u001b[0m - \u001b[1mcid_count: 2, text_len: 30534, cid_chars_radio: 6.55307994757536e-05\u001b[0m\n",
      "\u001b[32m2025-05-23 17:35:18.202\u001b[0m | \u001b[1mINFO    \u001b[0m | \u001b[36mmagic_pdf.libs.pdf_check\u001b[0m:\u001b[36mdetect_invalid_chars\u001b[0m:\u001b[36m67\u001b[0m - \u001b[1mcid_count: 45, text_len: 27087, cid_chars_radio: 0.0016784781797836627\u001b[0m\n",
      "\u001b[32m2025-05-23 17:35:18.886\u001b[0m | \u001b[1mINFO    \u001b[0m | \u001b[36mmagic_pdf.libs.pdf_check\u001b[0m:\u001b[36mdetect_invalid_chars\u001b[0m:\u001b[36m67\u001b[0m - \u001b[1mcid_count: 5, text_len: 11270, cid_chars_radio: 0.00044519633158222774\u001b[0m\n",
      "\u001b[32m2025-05-23 17:35:20.405\u001b[0m | \u001b[1mINFO    \u001b[0m | \u001b[36mmagic_pdf.libs.pdf_check\u001b[0m:\u001b[36mdetect_invalid_chars\u001b[0m:\u001b[36m67\u001b[0m - \u001b[1mcid_count: 0, text_len: 40897, cid_chars_radio: 0.0\u001b[0m\n",
      "\u001b[32m2025-05-23 17:35:21.849\u001b[0m | \u001b[1mINFO    \u001b[0m | \u001b[36mmagic_pdf.libs.pdf_check\u001b[0m:\u001b[36mdetect_invalid_chars\u001b[0m:\u001b[36m67\u001b[0m - \u001b[1mcid_count: 0, text_len: 34652, cid_chars_radio: 0.0\u001b[0m\n",
      "\u001b[32m2025-05-23 17:35:23.168\u001b[0m | \u001b[1mINFO    \u001b[0m | \u001b[36mmagic_pdf.libs.pdf_check\u001b[0m:\u001b[36mdetect_invalid_chars\u001b[0m:\u001b[36m67\u001b[0m - \u001b[1mcid_count: 0, text_len: 25477, cid_chars_radio: 0.0\u001b[0m\n",
      "\u001b[32m2025-05-23 17:35:25.072\u001b[0m | \u001b[1mINFO    \u001b[0m | \u001b[36mmagic_pdf.libs.pdf_check\u001b[0m:\u001b[36mdetect_invalid_chars\u001b[0m:\u001b[36m67\u001b[0m - \u001b[1mcid_count: 0, text_len: 51820, cid_chars_radio: 0.0\u001b[0m\n",
      "\u001b[32m2025-05-23 17:35:26.232\u001b[0m | \u001b[1mINFO    \u001b[0m | \u001b[36mmagic_pdf.libs.pdf_check\u001b[0m:\u001b[36mdetect_invalid_chars\u001b[0m:\u001b[36m67\u001b[0m - \u001b[1mcid_count: 0, text_len: 23118, cid_chars_radio: 0.0\u001b[0m\n",
      "\u001b[32m2025-05-23 17:35:27.666\u001b[0m | \u001b[1mINFO    \u001b[0m | \u001b[36mmagic_pdf.libs.pdf_check\u001b[0m:\u001b[36mdetect_invalid_chars\u001b[0m:\u001b[36m67\u001b[0m - \u001b[1mcid_count: 1, text_len: 31225, cid_chars_radio: 3.203280158882696e-05\u001b[0m\n",
      "\u001b[32m2025-05-23 17:35:29.186\u001b[0m | \u001b[1mINFO    \u001b[0m | \u001b[36mmagic_pdf.libs.pdf_check\u001b[0m:\u001b[36mdetect_invalid_chars\u001b[0m:\u001b[36m67\u001b[0m - \u001b[1mcid_count: 3, text_len: 44794, cid_chars_radio: 6.700616456714018e-05\u001b[0m\n",
      "\u001b[32m2025-05-23 17:35:30.871\u001b[0m | \u001b[1mINFO    \u001b[0m | \u001b[36mmagic_pdf.libs.pdf_check\u001b[0m:\u001b[36mdetect_invalid_chars\u001b[0m:\u001b[36m67\u001b[0m - \u001b[1mcid_count: 8, text_len: 36351, cid_chars_radio: 0.00022037960386766205\u001b[0m\n",
      "\u001b[32m2025-05-23 17:35:32.394\u001b[0m | \u001b[1mINFO    \u001b[0m | \u001b[36mmagic_pdf.libs.pdf_check\u001b[0m:\u001b[36mdetect_invalid_chars\u001b[0m:\u001b[36m67\u001b[0m - \u001b[1mcid_count: 16, text_len: 34663, cid_chars_radio: 0.0004629763592696548\u001b[0m\n",
      "\u001b[32m2025-05-23 17:35:33.847\u001b[0m | \u001b[1mINFO    \u001b[0m | \u001b[36mmagic_pdf.libs.pdf_check\u001b[0m:\u001b[36mdetect_invalid_chars\u001b[0m:\u001b[36m67\u001b[0m - \u001b[1mcid_count: 0, text_len: 31653, cid_chars_radio: 0.0\u001b[0m\n",
      "\u001b[32m2025-05-23 17:35:34.912\u001b[0m | \u001b[1mINFO    \u001b[0m | \u001b[36mmagic_pdf.libs.pdf_check\u001b[0m:\u001b[36mdetect_invalid_chars\u001b[0m:\u001b[36m67\u001b[0m - \u001b[1mcid_count: 0, text_len: 28414, cid_chars_radio: 0.0\u001b[0m\n",
      "\u001b[32m2025-05-23 17:35:36.994\u001b[0m | \u001b[1mINFO    \u001b[0m | \u001b[36mmagic_pdf.libs.pdf_check\u001b[0m:\u001b[36mdetect_invalid_chars\u001b[0m:\u001b[36m67\u001b[0m - \u001b[1mcid_count: 0, text_len: 55848, cid_chars_radio: 0.0\u001b[0m\n",
      "\u001b[32m2025-05-23 17:35:37.968\u001b[0m | \u001b[1mINFO    \u001b[0m | \u001b[36mmagic_pdf.libs.pdf_check\u001b[0m:\u001b[36mdetect_invalid_chars\u001b[0m:\u001b[36m67\u001b[0m - \u001b[1mcid_count: 0, text_len: 38807, cid_chars_radio: 0.0\u001b[0m\n",
      "\u001b[32m2025-05-23 17:35:40.965\u001b[0m | \u001b[1mINFO    \u001b[0m | \u001b[36mmagic_pdf.libs.pdf_check\u001b[0m:\u001b[36mdetect_invalid_chars\u001b[0m:\u001b[36m67\u001b[0m - \u001b[1mcid_count: 0, text_len: 68217, cid_chars_radio: 0.0\u001b[0m\n",
      "\u001b[32m2025-05-23 17:35:43.198\u001b[0m | \u001b[1mINFO    \u001b[0m | \u001b[36mmagic_pdf.libs.pdf_check\u001b[0m:\u001b[36mdetect_invalid_chars\u001b[0m:\u001b[36m67\u001b[0m - \u001b[1mcid_count: 1, text_len: 35644, cid_chars_radio: 2.8060723405449393e-05\u001b[0m\n",
      "\u001b[32m2025-05-23 17:35:45.365\u001b[0m | \u001b[1mINFO    \u001b[0m | \u001b[36mmagic_pdf.libs.pdf_check\u001b[0m:\u001b[36mdetect_invalid_chars\u001b[0m:\u001b[36m67\u001b[0m - \u001b[1mcid_count: 5, text_len: 41449, cid_chars_radio: 0.00012073795035255481\u001b[0m\n",
      "\u001b[32m2025-05-23 17:35:46.688\u001b[0m | \u001b[1mINFO    \u001b[0m | \u001b[36mmagic_pdf.libs.pdf_check\u001b[0m:\u001b[36mdetect_invalid_chars\u001b[0m:\u001b[36m67\u001b[0m - \u001b[1mcid_count: 0, text_len: 39665, cid_chars_radio: 0.0\u001b[0m\n",
      "\u001b[32m2025-05-23 17:35:49.222\u001b[0m | \u001b[1mINFO    \u001b[0m | \u001b[36mmagic_pdf.libs.pdf_check\u001b[0m:\u001b[36mdetect_invalid_chars\u001b[0m:\u001b[36m67\u001b[0m - \u001b[1mcid_count: 0, text_len: 41723, cid_chars_radio: 0.0\u001b[0m\n",
      "\u001b[32m2025-05-23 17:35:51.654\u001b[0m | \u001b[1mINFO    \u001b[0m | \u001b[36mmagic_pdf.libs.pdf_check\u001b[0m:\u001b[36mdetect_invalid_chars\u001b[0m:\u001b[36m67\u001b[0m - \u001b[1mcid_count: 0, text_len: 27579, cid_chars_radio: 0.0\u001b[0m\n",
      "\u001b[32m2025-05-23 17:35:54.233\u001b[0m | \u001b[1mINFO    \u001b[0m | \u001b[36mmagic_pdf.libs.pdf_check\u001b[0m:\u001b[36mdetect_invalid_chars\u001b[0m:\u001b[36m67\u001b[0m - \u001b[1mcid_count: 3, text_len: 35768, cid_chars_radio: 8.392312641620276e-05\u001b[0m\n",
      "\u001b[32m2025-05-23 17:35:57.281\u001b[0m | \u001b[1mINFO    \u001b[0m | \u001b[36mmagic_pdf.libs.pdf_check\u001b[0m:\u001b[36mdetect_invalid_chars\u001b[0m:\u001b[36m67\u001b[0m - \u001b[1mcid_count: 52, text_len: 47672, cid_chars_radio: 0.0010992030777686177\u001b[0m\n",
      "\u001b[32m2025-05-23 17:35:59.065\u001b[0m | \u001b[1mINFO    \u001b[0m | \u001b[36mmagic_pdf.libs.pdf_check\u001b[0m:\u001b[36mdetect_invalid_chars\u001b[0m:\u001b[36m67\u001b[0m - \u001b[1mcid_count: 0, text_len: 36075, cid_chars_radio: 0.0\u001b[0m\n",
      "\u001b[32m2025-05-23 17:36:00.493\u001b[0m | \u001b[1mINFO    \u001b[0m | \u001b[36mmagic_pdf.libs.pdf_check\u001b[0m:\u001b[36mdetect_invalid_chars\u001b[0m:\u001b[36m67\u001b[0m - \u001b[1mcid_count: 4, text_len: 32615, cid_chars_radio: 0.0001227483352257035\u001b[0m\n",
      "\u001b[32m2025-05-23 17:36:02.046\u001b[0m | \u001b[1mINFO    \u001b[0m | \u001b[36mmagic_pdf.libs.pdf_check\u001b[0m:\u001b[36mdetect_invalid_chars\u001b[0m:\u001b[36m67\u001b[0m - \u001b[1mcid_count: 0, text_len: 34535, cid_chars_radio: 0.0\u001b[0m\n",
      "\u001b[32m2025-05-23 17:36:03.491\u001b[0m | \u001b[1mINFO    \u001b[0m | \u001b[36mmagic_pdf.libs.pdf_check\u001b[0m:\u001b[36mdetect_invalid_chars\u001b[0m:\u001b[36m67\u001b[0m - \u001b[1mcid_count: 0, text_len: 25640, cid_chars_radio: 0.0\u001b[0m\n",
      "\u001b[32m2025-05-23 17:36:04.921\u001b[0m | \u001b[1mINFO    \u001b[0m | \u001b[36mmagic_pdf.libs.pdf_check\u001b[0m:\u001b[36mdetect_invalid_chars\u001b[0m:\u001b[36m67\u001b[0m - \u001b[1mcid_count: 0, text_len: 35635, cid_chars_radio: 0.0\u001b[0m\n",
      "\u001b[32m2025-05-23 17:36:06.080\u001b[0m | \u001b[1mINFO    \u001b[0m | \u001b[36mmagic_pdf.libs.pdf_check\u001b[0m:\u001b[36mdetect_invalid_chars\u001b[0m:\u001b[36m67\u001b[0m - \u001b[1mcid_count: 0, text_len: 32319, cid_chars_radio: 0.0\u001b[0m\n",
      "\u001b[32m2025-05-23 17:36:06.917\u001b[0m | \u001b[1mINFO    \u001b[0m | \u001b[36mmagic_pdf.libs.pdf_check\u001b[0m:\u001b[36mdetect_invalid_chars\u001b[0m:\u001b[36m67\u001b[0m - \u001b[1mcid_count: 0, text_len: 14656, cid_chars_radio: 0.0\u001b[0m\n",
      "\u001b[32m2025-05-23 17:36:08.242\u001b[0m | \u001b[1mINFO    \u001b[0m | \u001b[36mmagic_pdf.libs.pdf_check\u001b[0m:\u001b[36mdetect_invalid_chars\u001b[0m:\u001b[36m67\u001b[0m - \u001b[1mcid_count: 0, text_len: 31819, cid_chars_radio: 0.0\u001b[0m\n",
      "\u001b[32m2025-05-23 17:36:09.586\u001b[0m | \u001b[1mINFO    \u001b[0m | \u001b[36mmagic_pdf.libs.pdf_check\u001b[0m:\u001b[36mdetect_invalid_chars\u001b[0m:\u001b[36m67\u001b[0m - \u001b[1mcid_count: 0, text_len: 27045, cid_chars_radio: 0.0\u001b[0m\n",
      "\u001b[32m2025-05-23 17:36:10.606\u001b[0m | \u001b[1mINFO    \u001b[0m | \u001b[36mmagic_pdf.libs.pdf_check\u001b[0m:\u001b[36mdetect_invalid_chars\u001b[0m:\u001b[36m67\u001b[0m - \u001b[1mcid_count: 0, text_len: 53209, cid_chars_radio: 0.0\u001b[0m\n",
      "\u001b[32m2025-05-23 17:36:11.992\u001b[0m | \u001b[1mINFO    \u001b[0m | \u001b[36mmagic_pdf.libs.pdf_check\u001b[0m:\u001b[36mdetect_invalid_chars\u001b[0m:\u001b[36m67\u001b[0m - \u001b[1mcid_count: 0, text_len: 26769, cid_chars_radio: 0.0\u001b[0m\n",
      "\u001b[32m2025-05-23 17:36:13.430\u001b[0m | \u001b[1mINFO    \u001b[0m | \u001b[36mmagic_pdf.libs.pdf_check\u001b[0m:\u001b[36mdetect_invalid_chars\u001b[0m:\u001b[36m67\u001b[0m - \u001b[1mcid_count: 0, text_len: 40832, cid_chars_radio: 0.0\u001b[0m\n",
      "\u001b[32m2025-05-23 17:36:14.391\u001b[0m | \u001b[1mINFO    \u001b[0m | \u001b[36mmagic_pdf.libs.pdf_check\u001b[0m:\u001b[36mdetect_invalid_chars\u001b[0m:\u001b[36m67\u001b[0m - \u001b[1mcid_count: 6, text_len: 38951, cid_chars_radio: 0.0001541980416848706\u001b[0m\n",
      "\u001b[32m2025-05-23 17:36:15.259\u001b[0m | \u001b[1mINFO    \u001b[0m | \u001b[36mmagic_pdf.libs.pdf_check\u001b[0m:\u001b[36mdetect_invalid_chars\u001b[0m:\u001b[36m67\u001b[0m - \u001b[1mcid_count: 0, text_len: 9928, cid_chars_radio: 0.0\u001b[0m\n",
      "\u001b[32m2025-05-23 17:36:15.952\u001b[0m | \u001b[1mINFO    \u001b[0m | \u001b[36mmagic_pdf.libs.pdf_check\u001b[0m:\u001b[36mdetect_invalid_chars\u001b[0m:\u001b[36m67\u001b[0m - \u001b[1mcid_count: 3, text_len: 30069, cid_chars_radio: 9.984025559105431e-05\u001b[0m\n",
      "\u001b[32m2025-05-23 17:36:24.167\u001b[0m | \u001b[1mINFO    \u001b[0m | \u001b[36mmagic_pdf.libs.pdf_check\u001b[0m:\u001b[36mdetect_invalid_chars\u001b[0m:\u001b[36m67\u001b[0m - \u001b[1mcid_count: 2, text_len: 43850, cid_chars_radio: 4.562460078474313e-05\u001b[0m\n",
      "\u001b[32m2025-05-23 17:36:25.231\u001b[0m | \u001b[1mINFO    \u001b[0m | \u001b[36mmagic_pdf.libs.pdf_check\u001b[0m:\u001b[36mdetect_invalid_chars\u001b[0m:\u001b[36m67\u001b[0m - \u001b[1mcid_count: 0, text_len: 36699, cid_chars_radio: 0.0\u001b[0m\n",
      "\u001b[32m2025-05-23 17:36:26.448\u001b[0m | \u001b[1mINFO    \u001b[0m | \u001b[36mmagic_pdf.libs.pdf_check\u001b[0m:\u001b[36mdetect_invalid_chars\u001b[0m:\u001b[36m67\u001b[0m - \u001b[1mcid_count: 3, text_len: 46442, cid_chars_radio: 6.463010039208928e-05\u001b[0m\n",
      "\u001b[32m2025-05-23 17:36:26.970\u001b[0m | \u001b[1mINFO    \u001b[0m | \u001b[36mmagic_pdf.libs.pdf_check\u001b[0m:\u001b[36mdetect_invalid_chars\u001b[0m:\u001b[36m67\u001b[0m - \u001b[1mcid_count: 0, text_len: 27001, cid_chars_radio: 0.0\u001b[0m\n",
      "\u001b[32m2025-05-23 17:36:27.689\u001b[0m | \u001b[1mINFO    \u001b[0m | \u001b[36mmagic_pdf.libs.pdf_check\u001b[0m:\u001b[36mdetect_invalid_chars\u001b[0m:\u001b[36m67\u001b[0m - \u001b[1mcid_count: 0, text_len: 17517, cid_chars_radio: 0.0\u001b[0m\n",
      "\u001b[32m2025-05-23 17:36:28.950\u001b[0m | \u001b[1mINFO    \u001b[0m | \u001b[36mmagic_pdf.libs.pdf_check\u001b[0m:\u001b[36mdetect_invalid_chars\u001b[0m:\u001b[36m67\u001b[0m - \u001b[1mcid_count: 0, text_len: 31038, cid_chars_radio: 0.0\u001b[0m\n",
      "\u001b[32m2025-05-23 17:36:29.689\u001b[0m | \u001b[1mINFO    \u001b[0m | \u001b[36mmagic_pdf.libs.pdf_check\u001b[0m:\u001b[36mdetect_invalid_chars\u001b[0m:\u001b[36m67\u001b[0m - \u001b[1mcid_count: 0, text_len: 44037, cid_chars_radio: 0.0\u001b[0m\n",
      "\u001b[32m2025-05-23 17:36:30.385\u001b[0m | \u001b[1mINFO    \u001b[0m | \u001b[36mmagic_pdf.libs.pdf_check\u001b[0m:\u001b[36mdetect_invalid_chars\u001b[0m:\u001b[36m67\u001b[0m - \u001b[1mcid_count: 6, text_len: 36929, cid_chars_radio: 0.00016265893133082115\u001b[0m\n",
      "\u001b[32m2025-05-23 17:36:31.370\u001b[0m | \u001b[1mINFO    \u001b[0m | \u001b[36mmagic_pdf.libs.pdf_check\u001b[0m:\u001b[36mdetect_invalid_chars\u001b[0m:\u001b[36m67\u001b[0m - \u001b[1mcid_count: 0, text_len: 39696, cid_chars_radio: 0.0\u001b[0m\n",
      "\u001b[32m2025-05-23 17:36:32.086\u001b[0m | \u001b[1mINFO    \u001b[0m | \u001b[36mmagic_pdf.libs.pdf_check\u001b[0m:\u001b[36mdetect_invalid_chars\u001b[0m:\u001b[36m67\u001b[0m - \u001b[1mcid_count: 0, text_len: 37328, cid_chars_radio: 0.0\u001b[0m\n",
      "\u001b[32m2025-05-23 17:36:32.832\u001b[0m | \u001b[1mINFO    \u001b[0m | \u001b[36mmagic_pdf.libs.pdf_check\u001b[0m:\u001b[36mdetect_invalid_chars\u001b[0m:\u001b[36m67\u001b[0m - \u001b[1mcid_count: 0, text_len: 35752, cid_chars_radio: 0.0\u001b[0m\n",
      "\u001b[32m2025-05-23 17:36:33.419\u001b[0m | \u001b[1mINFO    \u001b[0m | \u001b[36mmagic_pdf.libs.pdf_check\u001b[0m:\u001b[36mdetect_invalid_chars\u001b[0m:\u001b[36m67\u001b[0m - \u001b[1mcid_count: 0, text_len: 27623, cid_chars_radio: 0.0\u001b[0m\n",
      "\u001b[32m2025-05-23 17:36:34.351\u001b[0m | \u001b[1mINFO    \u001b[0m | \u001b[36mmagic_pdf.libs.pdf_check\u001b[0m:\u001b[36mdetect_invalid_chars\u001b[0m:\u001b[36m67\u001b[0m - \u001b[1mcid_count: 5, text_len: 41636, cid_chars_radio: 0.00012018941852359318\u001b[0m\n",
      "\u001b[32m2025-05-23 17:36:35.105\u001b[0m | \u001b[1mINFO    \u001b[0m | \u001b[36mmagic_pdf.libs.pdf_check\u001b[0m:\u001b[36mdetect_invalid_chars\u001b[0m:\u001b[36m67\u001b[0m - \u001b[1mcid_count: 0, text_len: 30524, cid_chars_radio: 0.0\u001b[0m\n",
      "\u001b[32m2025-05-23 17:36:35.869\u001b[0m | \u001b[1mINFO    \u001b[0m | \u001b[36mmagic_pdf.libs.pdf_check\u001b[0m:\u001b[36mdetect_invalid_chars\u001b[0m:\u001b[36m67\u001b[0m - \u001b[1mcid_count: 4, text_len: 42403, cid_chars_radio: 9.43952802359882e-05\u001b[0m\n",
      "\u001b[32m2025-05-23 17:36:36.262\u001b[0m | \u001b[1mINFO    \u001b[0m | \u001b[36mmagic_pdf.libs.pdf_check\u001b[0m:\u001b[36mdetect_invalid_chars\u001b[0m:\u001b[36m67\u001b[0m - \u001b[1mcid_count: 0, text_len: 12690, cid_chars_radio: 0.0\u001b[0m\n",
      "\u001b[32m2025-05-23 17:36:36.820\u001b[0m | \u001b[1mINFO    \u001b[0m | \u001b[36mmagic_pdf.libs.pdf_check\u001b[0m:\u001b[36mdetect_invalid_chars\u001b[0m:\u001b[36m67\u001b[0m - \u001b[1mcid_count: 0, text_len: 26813, cid_chars_radio: 0.0\u001b[0m\n",
      "\u001b[32m2025-05-23 17:36:38.057\u001b[0m | \u001b[1mINFO    \u001b[0m | \u001b[36mmagic_pdf.libs.pdf_check\u001b[0m:\u001b[36mdetect_invalid_chars\u001b[0m:\u001b[36m67\u001b[0m - \u001b[1mcid_count: 0, text_len: 23714, cid_chars_radio: 0.0\u001b[0m\n",
      "\u001b[32m2025-05-23 17:36:39.039\u001b[0m | \u001b[1mINFO    \u001b[0m | \u001b[36mmagic_pdf.libs.pdf_check\u001b[0m:\u001b[36mdetect_invalid_chars\u001b[0m:\u001b[36m67\u001b[0m - \u001b[1mcid_count: 0, text_len: 45189, cid_chars_radio: 0.0\u001b[0m\n",
      "\u001b[32m2025-05-23 17:36:40.702\u001b[0m | \u001b[1mINFO    \u001b[0m | \u001b[36mmagic_pdf.libs.pdf_check\u001b[0m:\u001b[36mdetect_invalid_chars\u001b[0m:\u001b[36m67\u001b[0m - \u001b[1mcid_count: 0, text_len: 27676, cid_chars_radio: 0.0\u001b[0m\n",
      "\u001b[32m2025-05-23 17:36:41.050\u001b[0m | \u001b[1mINFO    \u001b[0m | \u001b[36mmagic_pdf.libs.pdf_check\u001b[0m:\u001b[36mdetect_invalid_chars\u001b[0m:\u001b[36m67\u001b[0m - \u001b[1mcid_count: 0, text_len: 12144, cid_chars_radio: 0.0\u001b[0m\n",
      "\u001b[32m2025-05-23 17:36:41.574\u001b[0m | \u001b[1mINFO    \u001b[0m | \u001b[36mmagic_pdf.libs.pdf_check\u001b[0m:\u001b[36mdetect_invalid_chars\u001b[0m:\u001b[36m67\u001b[0m - \u001b[1mcid_count: 0, text_len: 32405, cid_chars_radio: 0.0\u001b[0m\n",
      "\u001b[32m2025-05-23 17:36:42.158\u001b[0m | \u001b[1mINFO    \u001b[0m | \u001b[36mmagic_pdf.libs.pdf_check\u001b[0m:\u001b[36mdetect_invalid_chars\u001b[0m:\u001b[36m67\u001b[0m - \u001b[1mcid_count: 10, text_len: 29907, cid_chars_radio: 0.00033508695506483934\u001b[0m\n",
      "\u001b[32m2025-05-23 17:36:42.848\u001b[0m | \u001b[1mINFO    \u001b[0m | \u001b[36mmagic_pdf.libs.pdf_check\u001b[0m:\u001b[36mdetect_invalid_chars\u001b[0m:\u001b[36m67\u001b[0m - \u001b[1mcid_count: 0, text_len: 38316, cid_chars_radio: 0.0\u001b[0m\n",
      "\u001b[32m2025-05-23 17:36:44.568\u001b[0m | \u001b[1mINFO    \u001b[0m | \u001b[36mmagic_pdf.libs.pdf_check\u001b[0m:\u001b[36mdetect_invalid_chars\u001b[0m:\u001b[36m67\u001b[0m - \u001b[1mcid_count: 240, text_len: 60631, cid_chars_radio: 0.0040718684786481395\u001b[0m\n",
      "\u001b[32m2025-05-23 17:36:47.022\u001b[0m | \u001b[1mINFO    \u001b[0m | \u001b[36mmagic_pdf.libs.pdf_check\u001b[0m:\u001b[36mdetect_invalid_chars\u001b[0m:\u001b[36m67\u001b[0m - \u001b[1mcid_count: 0, text_len: 63229, cid_chars_radio: 0.0\u001b[0m\n",
      "\u001b[32m2025-05-23 17:36:55.009\u001b[0m | \u001b[1mINFO    \u001b[0m | \u001b[36mmagic_pdf.libs.pdf_check\u001b[0m:\u001b[36mdetect_invalid_chars\u001b[0m:\u001b[36m67\u001b[0m - \u001b[1mcid_count: 0, text_len: 32155, cid_chars_radio: 0.0\u001b[0m\n",
      "\u001b[32m2025-05-23 17:36:58.294\u001b[0m | \u001b[1mINFO    \u001b[0m | \u001b[36mmagic_pdf.libs.pdf_check\u001b[0m:\u001b[36mdetect_invalid_chars\u001b[0m:\u001b[36m67\u001b[0m - \u001b[1mcid_count: 0, text_len: 34506, cid_chars_radio: 0.0\u001b[0m\n",
      "\u001b[32m2025-05-23 17:36:59.132\u001b[0m | \u001b[1mINFO    \u001b[0m | \u001b[36mmagic_pdf.libs.pdf_check\u001b[0m:\u001b[36mdetect_invalid_chars\u001b[0m:\u001b[36m67\u001b[0m - \u001b[1mcid_count: 0, text_len: 38926, cid_chars_radio: 0.0\u001b[0m\n",
      "\u001b[32m2025-05-23 17:37:00.264\u001b[0m | \u001b[1mINFO    \u001b[0m | \u001b[36mmagic_pdf.libs.pdf_check\u001b[0m:\u001b[36mdetect_invalid_chars\u001b[0m:\u001b[36m67\u001b[0m - \u001b[1mcid_count: 12, text_len: 27336, cid_chars_radio: 0.00044027003228646906\u001b[0m\n",
      "\u001b[32m2025-05-23 17:37:01.410\u001b[0m | \u001b[1mINFO    \u001b[0m | \u001b[36mmagic_pdf.libs.pdf_check\u001b[0m:\u001b[36mdetect_invalid_chars\u001b[0m:\u001b[36m67\u001b[0m - \u001b[1mcid_count: 0, text_len: 39466, cid_chars_radio: 0.0\u001b[0m\n",
      "\u001b[32m2025-05-23 17:37:01.826\u001b[0m | \u001b[1mINFO    \u001b[0m | \u001b[36mmagic_pdf.libs.pdf_check\u001b[0m:\u001b[36mdetect_invalid_chars\u001b[0m:\u001b[36m67\u001b[0m - \u001b[1mcid_count: 0, text_len: 11833, cid_chars_radio: 0.0\u001b[0m\n",
      "\u001b[32m2025-05-23 17:37:02.920\u001b[0m | \u001b[1mINFO    \u001b[0m | \u001b[36mmagic_pdf.libs.pdf_check\u001b[0m:\u001b[36mdetect_invalid_chars\u001b[0m:\u001b[36m67\u001b[0m - \u001b[1mcid_count: 0, text_len: 65111, cid_chars_radio: 0.0\u001b[0m\n",
      "\u001b[32m2025-05-23 17:37:03.346\u001b[0m | \u001b[1mINFO    \u001b[0m | \u001b[36mmagic_pdf.libs.pdf_check\u001b[0m:\u001b[36mdetect_invalid_chars\u001b[0m:\u001b[36m67\u001b[0m - \u001b[1mcid_count: 0, text_len: 14899, cid_chars_radio: 0.0\u001b[0m\n",
      "\u001b[32m2025-05-23 17:37:03.379\u001b[0m | \u001b[1mINFO    \u001b[0m | \u001b[36mmagic_pdf.model.doc_analyze_by_custom_model\u001b[0m:\u001b[36mbatch_doc_analyze\u001b[0m:\u001b[36m220\u001b[0m - \u001b[1mBatch 1/9: 200 pages/1677 pages\u001b[0m\n",
      "\u001b[32m2025-05-23 17:37:06.549\u001b[0m | \u001b[1mINFO    \u001b[0m | \u001b[36mmagic_pdf.model.doc_analyze_by_custom_model\u001b[0m:\u001b[36mmay_batch_image_analyze\u001b[0m:\u001b[36m275\u001b[0m - \u001b[1mgpu_memory: 24 GB, batch_ratio: 16\u001b[0m\n",
      "\u001b[32m2025-05-23 17:37:06.552\u001b[0m | \u001b[1mINFO    \u001b[0m | \u001b[36mmagic_pdf.model.pdf_extract_kit\u001b[0m:\u001b[36m__init__\u001b[0m:\u001b[36m68\u001b[0m - \u001b[1mDocAnalysis init, this may take some times, layout_model: doclayout_yolo, apply_formula: True, apply_ocr: True, apply_table: True, table_model: rapid_table, lang: None\u001b[0m\n",
      "\u001b[32m2025-05-23 17:37:06.552\u001b[0m | \u001b[1mINFO    \u001b[0m | \u001b[36mmagic_pdf.model.pdf_extract_kit\u001b[0m:\u001b[36m__init__\u001b[0m:\u001b[36m82\u001b[0m - \u001b[1musing device: cuda\u001b[0m\n",
      "\u001b[32m2025-05-23 17:37:06.553\u001b[0m | \u001b[1mINFO    \u001b[0m | \u001b[36mmagic_pdf.model.pdf_extract_kit\u001b[0m:\u001b[36m__init__\u001b[0m:\u001b[36m86\u001b[0m - \u001b[1musing models_dir: C:\\Users\\zhuzhanwen\\.cache\\huggingface\\hub\\models--opendatalab--PDF-Extract-Kit-1.0\\snapshots\\95817b4b2321769155f05c8d7e2f5a6b6da9e662/models\u001b[0m\n",
      "\u001b[32m2025-05-23 17:37:17.698\u001b[0m | \u001b[1mINFO    \u001b[0m | \u001b[36mmagic_pdf.model.pdf_extract_kit\u001b[0m:\u001b[36m__init__\u001b[0m:\u001b[36m164\u001b[0m - \u001b[1mDocAnalysis init done!\u001b[0m\n",
      "\u001b[32m2025-05-23 17:37:17.698\u001b[0m | \u001b[1mINFO    \u001b[0m | \u001b[36mmagic_pdf.model.doc_analyze_by_custom_model\u001b[0m:\u001b[36mcustom_model_init\u001b[0m:\u001b[36m116\u001b[0m - \u001b[1mmodel init cost: 11.148677110671997\u001b[0m\n",
      "Layout Predict: 100%|██████████| 200/200 [00:10<00:00, 18.39it/s]\n",
      "MFD Predict: 100%|██████████| 200/200 [00:08<00:00, 24.42it/s]\n",
      "MFR Predict: 100%|██████████| 1448/1448 [00:29<00:00, 49.08it/s] \n",
      "OCR-det Predict: 100%|██████████| 200/200 [00:40<00:00,  4.90it/s]\n",
      "Table Predict: 100%|██████████| 116/116 [00:23<00:00,  5.03it/s]\n",
      "\u001b[32m2025-05-23 17:39:10.514\u001b[0m | \u001b[1mINFO    \u001b[0m | \u001b[36mmagic_pdf.model.doc_analyze_by_custom_model\u001b[0m:\u001b[36mbatch_doc_analyze\u001b[0m:\u001b[36m220\u001b[0m - \u001b[1mBatch 2/9: 400 pages/1677 pages\u001b[0m\n",
      "\u001b[32m2025-05-23 17:39:10.515\u001b[0m | \u001b[1mINFO    \u001b[0m | \u001b[36mmagic_pdf.model.doc_analyze_by_custom_model\u001b[0m:\u001b[36mmay_batch_image_analyze\u001b[0m:\u001b[36m275\u001b[0m - \u001b[1mgpu_memory: 24 GB, batch_ratio: 16\u001b[0m\n",
      "Layout Predict: 100%|██████████| 200/200 [00:09<00:00, 20.74it/s]\n",
      "MFD Predict: 100%|██████████| 200/200 [00:07<00:00, 25.13it/s]\n",
      "MFR Predict: 100%|██████████| 1641/1641 [00:20<00:00, 80.92it/s] \n",
      "OCR-det Predict: 100%|██████████| 200/200 [00:39<00:00,  5.01it/s]\n",
      "Table Predict: 100%|██████████| 149/149 [00:35<00:00,  4.25it/s]\n",
      "\u001b[32m2025-05-23 17:41:03.741\u001b[0m | \u001b[1mINFO    \u001b[0m | \u001b[36mmagic_pdf.model.doc_analyze_by_custom_model\u001b[0m:\u001b[36mbatch_doc_analyze\u001b[0m:\u001b[36m220\u001b[0m - \u001b[1mBatch 3/9: 600 pages/1677 pages\u001b[0m\n",
      "\u001b[32m2025-05-23 17:41:03.742\u001b[0m | \u001b[1mINFO    \u001b[0m | \u001b[36mmagic_pdf.model.doc_analyze_by_custom_model\u001b[0m:\u001b[36mmay_batch_image_analyze\u001b[0m:\u001b[36m275\u001b[0m - \u001b[1mgpu_memory: 24 GB, batch_ratio: 16\u001b[0m\n",
      "Layout Predict: 100%|██████████| 200/200 [00:09<00:00, 20.61it/s]\n",
      "MFD Predict: 100%|██████████| 200/200 [00:08<00:00, 24.87it/s]\n",
      "MFR Predict: 100%|██████████| 2383/2383 [00:15<00:00, 150.00it/s]\n",
      "OCR-det Predict: 100%|██████████| 200/200 [00:41<00:00,  4.86it/s]\n",
      "Table Predict: 100%|██████████| 49/49 [00:17<00:00,  2.87it/s]\n",
      "\u001b[32m2025-05-23 17:42:36.000\u001b[0m | \u001b[1mINFO    \u001b[0m | \u001b[36mmagic_pdf.model.doc_analyze_by_custom_model\u001b[0m:\u001b[36mbatch_doc_analyze\u001b[0m:\u001b[36m220\u001b[0m - \u001b[1mBatch 4/9: 800 pages/1677 pages\u001b[0m\n",
      "\u001b[32m2025-05-23 17:42:36.001\u001b[0m | \u001b[1mINFO    \u001b[0m | \u001b[36mmagic_pdf.model.doc_analyze_by_custom_model\u001b[0m:\u001b[36mmay_batch_image_analyze\u001b[0m:\u001b[36m275\u001b[0m - \u001b[1mgpu_memory: 24 GB, batch_ratio: 16\u001b[0m\n",
      "Layout Predict: 100%|██████████| 200/200 [00:09<00:00, 20.89it/s]\n",
      "MFD Predict: 100%|██████████| 200/200 [00:07<00:00, 25.46it/s]\n",
      "MFR Predict: 100%|██████████| 1007/1007 [00:08<00:00, 116.23it/s]\n",
      "OCR-det Predict: 100%|██████████| 200/200 [00:37<00:00,  5.35it/s]\n",
      "Table Predict: 100%|██████████| 63/63 [00:12<00:00,  5.21it/s]\n",
      "\u001b[32m2025-05-23 17:43:51.932\u001b[0m | \u001b[1mINFO    \u001b[0m | \u001b[36mmagic_pdf.model.doc_analyze_by_custom_model\u001b[0m:\u001b[36mbatch_doc_analyze\u001b[0m:\u001b[36m220\u001b[0m - \u001b[1mBatch 5/9: 1000 pages/1677 pages\u001b[0m\n",
      "\u001b[32m2025-05-23 17:43:51.933\u001b[0m | \u001b[1mINFO    \u001b[0m | \u001b[36mmagic_pdf.model.doc_analyze_by_custom_model\u001b[0m:\u001b[36mmay_batch_image_analyze\u001b[0m:\u001b[36m275\u001b[0m - \u001b[1mgpu_memory: 24 GB, batch_ratio: 16\u001b[0m\n",
      "Layout Predict: 100%|██████████| 200/200 [00:09<00:00, 20.88it/s]\n",
      "MFD Predict: 100%|██████████| 200/200 [00:08<00:00, 24.77it/s]\n",
      "MFR Predict: 100%|██████████| 1171/1171 [00:09<00:00, 124.09it/s]\n",
      "OCR-det Predict: 100%|██████████| 200/200 [00:35<00:00,  5.71it/s]\n",
      "Table Predict: 100%|██████████| 100/100 [00:23<00:00,  4.17it/s]\n",
      "\u001b[32m2025-05-23 17:45:18.519\u001b[0m | \u001b[1mINFO    \u001b[0m | \u001b[36mmagic_pdf.model.doc_analyze_by_custom_model\u001b[0m:\u001b[36mbatch_doc_analyze\u001b[0m:\u001b[36m220\u001b[0m - \u001b[1mBatch 6/9: 1200 pages/1677 pages\u001b[0m\n",
      "\u001b[32m2025-05-23 17:45:18.519\u001b[0m | \u001b[1mINFO    \u001b[0m | \u001b[36mmagic_pdf.model.doc_analyze_by_custom_model\u001b[0m:\u001b[36mmay_batch_image_analyze\u001b[0m:\u001b[36m275\u001b[0m - \u001b[1mgpu_memory: 24 GB, batch_ratio: 16\u001b[0m\n",
      "Layout Predict: 100%|██████████| 200/200 [00:09<00:00, 20.56it/s]\n",
      "MFD Predict: 100%|██████████| 200/200 [00:08<00:00, 24.91it/s]\n",
      "MFR Predict: 100%|██████████| 1407/1407 [00:07<00:00, 179.87it/s]\n",
      "OCR-det Predict: 100%|██████████| 200/200 [00:38<00:00,  5.21it/s]\n",
      "Table Predict: 100%|██████████| 76/76 [00:15<00:00,  4.84it/s]\n",
      "\u001b[32m2025-05-23 17:46:38.541\u001b[0m | \u001b[1mINFO    \u001b[0m | \u001b[36mmagic_pdf.model.doc_analyze_by_custom_model\u001b[0m:\u001b[36mbatch_doc_analyze\u001b[0m:\u001b[36m220\u001b[0m - \u001b[1mBatch 7/9: 1400 pages/1677 pages\u001b[0m\n",
      "\u001b[32m2025-05-23 17:46:38.542\u001b[0m | \u001b[1mINFO    \u001b[0m | \u001b[36mmagic_pdf.model.doc_analyze_by_custom_model\u001b[0m:\u001b[36mmay_batch_image_analyze\u001b[0m:\u001b[36m275\u001b[0m - \u001b[1mgpu_memory: 24 GB, batch_ratio: 16\u001b[0m\n",
      "Layout Predict: 100%|██████████| 200/200 [00:09<00:00, 20.51it/s]\n",
      "MFD Predict: 100%|██████████| 200/200 [00:08<00:00, 24.78it/s]\n",
      "MFR Predict: 100%|██████████| 1457/1457 [00:07<00:00, 184.05it/s]\n",
      "OCR-det Predict: 100%|██████████| 200/200 [00:39<00:00,  5.08it/s]\n",
      "Table Predict: 100%|██████████| 57/57 [00:12<00:00,  4.68it/s]\n",
      "\u001b[32m2025-05-23 17:47:56.219\u001b[0m | \u001b[1mINFO    \u001b[0m | \u001b[36mmagic_pdf.model.doc_analyze_by_custom_model\u001b[0m:\u001b[36mbatch_doc_analyze\u001b[0m:\u001b[36m220\u001b[0m - \u001b[1mBatch 8/9: 1600 pages/1677 pages\u001b[0m\n",
      "\u001b[32m2025-05-23 17:47:56.220\u001b[0m | \u001b[1mINFO    \u001b[0m | \u001b[36mmagic_pdf.model.doc_analyze_by_custom_model\u001b[0m:\u001b[36mmay_batch_image_analyze\u001b[0m:\u001b[36m275\u001b[0m - \u001b[1mgpu_memory: 24 GB, batch_ratio: 16\u001b[0m\n",
      "Layout Predict: 100%|██████████| 200/200 [00:09<00:00, 20.33it/s]\n",
      "MFD Predict: 100%|██████████| 200/200 [00:08<00:00, 24.67it/s]\n",
      "MFR Predict: 100%|██████████| 948/948 [00:05<00:00, 163.34it/s]\n",
      "OCR-det Predict: 100%|██████████| 200/200 [00:34<00:00,  5.76it/s]\n",
      "Table Predict: 100%|██████████| 77/77 [00:22<00:00,  3.45it/s]\n",
      "\u001b[32m2025-05-23 17:49:17.402\u001b[0m | \u001b[1mINFO    \u001b[0m | \u001b[36mmagic_pdf.model.doc_analyze_by_custom_model\u001b[0m:\u001b[36mbatch_doc_analyze\u001b[0m:\u001b[36m220\u001b[0m - \u001b[1mBatch 9/9: 1677 pages/1677 pages\u001b[0m\n",
      "\u001b[32m2025-05-23 17:49:17.403\u001b[0m | \u001b[1mINFO    \u001b[0m | \u001b[36mmagic_pdf.model.doc_analyze_by_custom_model\u001b[0m:\u001b[36mmay_batch_image_analyze\u001b[0m:\u001b[36m275\u001b[0m - \u001b[1mgpu_memory: 24 GB, batch_ratio: 16\u001b[0m\n",
      "Layout Predict: 100%|██████████| 77/77 [00:03<00:00, 20.68it/s]\n",
      "MFD Predict: 100%|██████████| 77/77 [00:03<00:00, 24.82it/s]\n",
      "MFR Predict: 100%|██████████| 222/222 [00:01<00:00, 112.24it/s]\n",
      "OCR-det Predict: 100%|██████████| 77/77 [00:10<00:00,  7.34it/s]\n",
      "Table Predict: 100%|██████████| 26/26 [00:06<00:00,  3.76it/s]\n",
      "Processing pages: 100%|██████████| 19/19 [00:04<00:00,  4.64it/s]\n",
      "\u001b[32m2025-05-23 17:49:49.641\u001b[0m | \u001b[1mINFO    \u001b[0m | \u001b[36mmagic_pdf.tools.common\u001b[0m:\u001b[36m_do_parse\u001b[0m:\u001b[36m243\u001b[0m - \u001b[1mlocal output dir is d:\\DataAnalysis\\arxiv\\output\\2005.11401v4\\auto\u001b[0m\n",
      "Processing pages: 100%|██████████| 16/16 [00:02<00:00,  7.56it/s]\n",
      "\u001b[32m2025-05-23 17:49:52.883\u001b[0m | \u001b[1mINFO    \u001b[0m | \u001b[36mmagic_pdf.tools.common\u001b[0m:\u001b[36m_do_parse\u001b[0m:\u001b[36m243\u001b[0m - \u001b[1mlocal output dir is d:\\DataAnalysis\\arxiv\\output\\2006.05405v5\\auto\u001b[0m\n",
      "Processing pages: 100%|██████████| 9/9 [00:02<00:00,  3.90it/s]\n",
      "\u001b[32m2025-05-23 17:49:56.865\u001b[0m | \u001b[1mINFO    \u001b[0m | \u001b[36mmagic_pdf.tools.common\u001b[0m:\u001b[36m_do_parse\u001b[0m:\u001b[36m243\u001b[0m - \u001b[1mlocal output dir is d:\\DataAnalysis\\arxiv\\output\\2102.04643v1\\auto\u001b[0m\n",
      "Processing pages: 100%|██████████| 7/7 [00:00<00:00,  7.20it/s]\n",
      "\u001b[32m2025-05-23 17:49:58.391\u001b[0m | \u001b[1mINFO    \u001b[0m | \u001b[36mmagic_pdf.tools.common\u001b[0m:\u001b[36m_do_parse\u001b[0m:\u001b[36m243\u001b[0m - \u001b[1mlocal output dir is d:\\DataAnalysis\\arxiv\\output\\2104.08610v1\\auto\u001b[0m\n",
      "Processing pages: 100%|██████████| 11/11 [00:02<00:00,  4.53it/s]\n",
      "\u001b[32m2025-05-23 17:50:01.925\u001b[0m | \u001b[1mINFO    \u001b[0m | \u001b[36mmagic_pdf.tools.common\u001b[0m:\u001b[36m_do_parse\u001b[0m:\u001b[36m243\u001b[0m - \u001b[1mlocal output dir is d:\\DataAnalysis\\arxiv\\output\\2108.13934v2\\auto\u001b[0m\n",
      "Processing pages: 100%|██████████| 15/15 [00:02<00:00,  5.24it/s]\n",
      "\u001b[32m2025-05-23 17:50:06.010\u001b[0m | \u001b[1mINFO    \u001b[0m | \u001b[36mmagic_pdf.tools.common\u001b[0m:\u001b[36m_do_parse\u001b[0m:\u001b[36m243\u001b[0m - \u001b[1mlocal output dir is d:\\DataAnalysis\\arxiv\\output\\2109.03754v2\\auto\u001b[0m\n",
      "Processing pages: 100%|██████████| 20/20 [00:04<00:00,  4.98it/s]\n",
      "OCR-rec Predict: 100%|██████████| 123/123 [00:00<00:00, 192.24it/s]\n",
      "\u001b[32m2025-05-23 17:50:12.097\u001b[0m | \u001b[1mINFO    \u001b[0m | \u001b[36mmagic_pdf.tools.common\u001b[0m:\u001b[36m_do_parse\u001b[0m:\u001b[36m243\u001b[0m - \u001b[1mlocal output dir is d:\\DataAnalysis\\arxiv\\output\\2109.07263v2\\auto\u001b[0m\n",
      "Processing pages: 100%|██████████| 18/18 [00:03<00:00,  5.50it/s]\n",
      "\u001b[32m2025-05-23 17:50:16.817\u001b[0m | \u001b[1mINFO    \u001b[0m | \u001b[36mmagic_pdf.tools.common\u001b[0m:\u001b[36m_do_parse\u001b[0m:\u001b[36m243\u001b[0m - \u001b[1mlocal output dir is d:\\DataAnalysis\\arxiv\\output\\2112.08688v2\\auto\u001b[0m\n",
      "Processing pages: 100%|██████████| 13/13 [00:02<00:00,  4.38it/s]\n",
      "\u001b[32m2025-05-23 17:50:21.007\u001b[0m | \u001b[1mINFO    \u001b[0m | \u001b[36mmagic_pdf.tools.common\u001b[0m:\u001b[36m_do_parse\u001b[0m:\u001b[36m243\u001b[0m - \u001b[1mlocal output dir is d:\\DataAnalysis\\arxiv\\output\\2202.01110v2\\auto\u001b[0m\n",
      "Processing pages: 100%|██████████| 6/6 [00:01<00:00,  4.65it/s]\n",
      "\u001b[32m2025-05-23 17:50:23.030\u001b[0m | \u001b[1mINFO    \u001b[0m | \u001b[36mmagic_pdf.tools.common\u001b[0m:\u001b[36m_do_parse\u001b[0m:\u001b[36m243\u001b[0m - \u001b[1mlocal output dir is d:\\DataAnalysis\\arxiv\\output\\2203.16714v1\\auto\u001b[0m\n",
      "Processing pages: 100%|██████████| 7/7 [00:01<00:00,  5.45it/s]\n",
      "\u001b[32m2025-05-23 17:50:24.982\u001b[0m | \u001b[1mINFO    \u001b[0m | \u001b[36mmagic_pdf.tools.common\u001b[0m:\u001b[36m_do_parse\u001b[0m:\u001b[36m243\u001b[0m - \u001b[1mlocal output dir is d:\\DataAnalysis\\arxiv\\output\\2204.03985v2\\auto\u001b[0m\n",
      "Processing pages: 100%|██████████| 7/7 [00:01<00:00,  4.40it/s]\n",
      "\u001b[32m2025-05-23 17:50:27.356\u001b[0m | \u001b[1mINFO    \u001b[0m | \u001b[36mmagic_pdf.tools.common\u001b[0m:\u001b[36m_do_parse\u001b[0m:\u001b[36m243\u001b[0m - \u001b[1mlocal output dir is d:\\DataAnalysis\\arxiv\\output\\2207.03030v1\\auto\u001b[0m\n",
      "Processing pages: 100%|██████████| 16/16 [00:02<00:00,  6.62it/s]\n",
      "OCR-rec Predict: 100%|██████████| 1/1 [00:00<00:00, 32.76it/s]\n",
      "\u001b[32m2025-05-23 17:50:30.763\u001b[0m | \u001b[1mINFO    \u001b[0m | \u001b[36mmagic_pdf.tools.common\u001b[0m:\u001b[36m_do_parse\u001b[0m:\u001b[36m243\u001b[0m - \u001b[1mlocal output dir is d:\\DataAnalysis\\arxiv\\output\\2209.14290v1\\auto\u001b[0m\n",
      "Processing pages: 100%|██████████| 13/13 [00:02<00:00,  4.58it/s]\n",
      "OCR-rec Predict: 100%|██████████| 31/31 [00:00<00:00, 109.26it/s]\n",
      "\u001b[32m2025-05-23 17:50:35.106\u001b[0m | \u001b[1mINFO    \u001b[0m | \u001b[36mmagic_pdf.tools.common\u001b[0m:\u001b[36m_do_parse\u001b[0m:\u001b[36m243\u001b[0m - \u001b[1mlocal output dir is d:\\DataAnalysis\\arxiv\\output\\2210.02928v2\\auto\u001b[0m\n",
      "Processing pages: 100%|██████████| 22/22 [00:03<00:00,  5.89it/s]\n",
      "OCR-rec Predict: 100%|██████████| 35/35 [00:00<00:00, 113.16it/s]\n",
      "\u001b[32m2025-05-23 17:50:40.766\u001b[0m | \u001b[1mINFO    \u001b[0m | \u001b[36mmagic_pdf.tools.common\u001b[0m:\u001b[36m_do_parse\u001b[0m:\u001b[36m243\u001b[0m - \u001b[1mlocal output dir is d:\\DataAnalysis\\arxiv\\output\\2210.04873v2\\auto\u001b[0m\n",
      "Processing pages: 100%|██████████| 14/14 [00:01<00:00,  8.99it/s]\n",
      "\u001b[32m2025-05-23 17:50:43.257\u001b[0m | \u001b[1mINFO    \u001b[0m | \u001b[36mmagic_pdf.tools.common\u001b[0m:\u001b[36m_do_parse\u001b[0m:\u001b[36m243\u001b[0m - \u001b[1mlocal output dir is d:\\DataAnalysis\\arxiv\\output\\2210.12777v4\\auto\u001b[0m\n",
      "Processing pages: 100%|██████████| 18/18 [00:02<00:00,  6.51it/s]\n",
      "\u001b[32m2025-05-23 17:50:47.176\u001b[0m | \u001b[1mINFO    \u001b[0m | \u001b[36mmagic_pdf.tools.common\u001b[0m:\u001b[36m_do_parse\u001b[0m:\u001b[36m243\u001b[0m - \u001b[1mlocal output dir is d:\\DataAnalysis\\arxiv\\output\\2211.07067v1\\auto\u001b[0m\n",
      "Processing pages: 100%|██████████| 14/14 [00:02<00:00,  4.81it/s]\n",
      "\u001b[32m2025-05-23 17:50:51.601\u001b[0m | \u001b[1mINFO    \u001b[0m | \u001b[36mmagic_pdf.tools.common\u001b[0m:\u001b[36m_do_parse\u001b[0m:\u001b[36m243\u001b[0m - \u001b[1mlocal output dir is d:\\DataAnalysis\\arxiv\\output\\2301.02401v1\\auto\u001b[0m\n",
      "Processing pages: 100%|██████████| 13/13 [00:03<00:00,  3.31it/s]\n",
      "OCR-rec Predict: 100%|██████████| 4/4 [00:00<00:00, 54.65it/s]\n",
      "\u001b[32m2025-05-23 17:50:57.016\u001b[0m | \u001b[1mINFO    \u001b[0m | \u001b[36mmagic_pdf.tools.common\u001b[0m:\u001b[36m_do_parse\u001b[0m:\u001b[36m243\u001b[0m - \u001b[1mlocal output dir is d:\\DataAnalysis\\arxiv\\output\\2304.14732v7\\auto\u001b[0m\n",
      "Processing pages: 100%|██████████| 17/17 [00:04<00:00,  3.71it/s]\n",
      "OCR-rec Predict: 100%|██████████| 21/21 [00:00<00:00, 89.41it/s]\n",
      "\u001b[32m2025-05-23 17:51:03.390\u001b[0m | \u001b[1mINFO    \u001b[0m | \u001b[36mmagic_pdf.tools.common\u001b[0m:\u001b[36m_do_parse\u001b[0m:\u001b[36m243\u001b[0m - \u001b[1mlocal output dir is d:\\DataAnalysis\\arxiv\\output\\2305.01526v1\\auto\u001b[0m\n",
      "Processing pages: 100%|██████████| 20/20 [00:01<00:00, 10.42it/s]\n",
      "\u001b[32m2025-05-23 17:51:06.417\u001b[0m | \u001b[1mINFO    \u001b[0m | \u001b[36mmagic_pdf.tools.common\u001b[0m:\u001b[36m_do_parse\u001b[0m:\u001b[36m243\u001b[0m - \u001b[1mlocal output dir is d:\\DataAnalysis\\arxiv\\output\\2305.02437v3\\auto\u001b[0m\n",
      "Processing pages: 100%|██████████| 24/24 [00:04<00:00,  5.70it/s]\n",
      "\u001b[32m2025-05-23 17:51:12.369\u001b[0m | \u001b[1mINFO    \u001b[0m | \u001b[36mmagic_pdf.tools.common\u001b[0m:\u001b[36m_do_parse\u001b[0m:\u001b[36m243\u001b[0m - \u001b[1mlocal output dir is d:\\DataAnalysis\\arxiv\\output\\2305.06983v2\\auto\u001b[0m\n",
      "Processing pages: 100%|██████████| 13/13 [00:02<00:00,  4.93it/s]\n",
      "\u001b[32m2025-05-23 17:51:16.227\u001b[0m | \u001b[1mINFO    \u001b[0m | \u001b[36mmagic_pdf.tools.common\u001b[0m:\u001b[36m_do_parse\u001b[0m:\u001b[36m243\u001b[0m - \u001b[1mlocal output dir is d:\\DataAnalysis\\arxiv\\output\\2305.15344v1\\auto\u001b[0m\n",
      "Processing pages: 100%|██████████| 15/15 [00:03<00:00,  4.39it/s]\n",
      "OCR-rec Predict: 100%|██████████| 15/15 [00:00<00:00, 45.36it/s]\n",
      "\u001b[32m2025-05-23 17:51:21.461\u001b[0m | \u001b[1mINFO    \u001b[0m | \u001b[36mmagic_pdf.tools.common\u001b[0m:\u001b[36m_do_parse\u001b[0m:\u001b[36m243\u001b[0m - \u001b[1mlocal output dir is d:\\DataAnalysis\\arxiv\\output\\2305.17740v2\\auto\u001b[0m\n",
      "Processing pages: 100%|██████████| 29/29 [00:03<00:00,  8.46it/s]\n",
      "OCR-rec Predict: 100%|██████████| 1/1 [00:00<00:00, 49.49it/s]\n",
      "\u001b[32m2025-05-23 17:51:26.657\u001b[0m | \u001b[1mINFO    \u001b[0m | \u001b[36mmagic_pdf.tools.common\u001b[0m:\u001b[36m_do_parse\u001b[0m:\u001b[36m243\u001b[0m - \u001b[1mlocal output dir is d:\\DataAnalysis\\arxiv\\output\\2305.18846v1\\auto\u001b[0m\n",
      "Processing pages: 100%|██████████| 17/17 [00:05<00:00,  3.36it/s]\n",
      "\u001b[32m2025-05-23 17:51:33.713\u001b[0m | \u001b[1mINFO    \u001b[0m | \u001b[36mmagic_pdf.tools.common\u001b[0m:\u001b[36m_do_parse\u001b[0m:\u001b[36m243\u001b[0m - \u001b[1mlocal output dir is d:\\DataAnalysis\\arxiv\\output\\2306.06851v2\\auto\u001b[0m\n",
      "Processing pages: 100%|██████████| 134/134 [00:19<00:00,  6.99it/s]\n",
      "\u001b[32m2025-05-23 17:52:00.404\u001b[0m | \u001b[1mINFO    \u001b[0m | \u001b[36mmagic_pdf.tools.common\u001b[0m:\u001b[36m_do_parse\u001b[0m:\u001b[36m243\u001b[0m - \u001b[1mlocal output dir is d:\\DataAnalysis\\arxiv\\output\\2307.02694v5\\auto\u001b[0m\n",
      "Processing pages: 100%|██████████| 23/23 [00:03<00:00,  5.86it/s]\n",
      "OCR-rec Predict: 100%|██████████| 1/1 [00:00<00:00, 42.51it/s]\n",
      "\u001b[32m2025-05-23 17:52:06.265\u001b[0m | \u001b[1mINFO    \u001b[0m | \u001b[36mmagic_pdf.tools.common\u001b[0m:\u001b[36m_do_parse\u001b[0m:\u001b[36m243\u001b[0m - \u001b[1mlocal output dir is d:\\DataAnalysis\\arxiv\\output\\2307.04642v2\\auto\u001b[0m\n",
      "Processing pages: 100%|██████████| 7/7 [00:01<00:00,  4.98it/s]\n",
      "\u001b[32m2025-05-23 17:52:08.568\u001b[0m | \u001b[1mINFO    \u001b[0m | \u001b[36mmagic_pdf.tools.common\u001b[0m:\u001b[36m_do_parse\u001b[0m:\u001b[36m243\u001b[0m - \u001b[1mlocal output dir is d:\\DataAnalysis\\arxiv\\output\\2307.05915v2\\auto\u001b[0m\n",
      "Processing pages: 100%|██████████| 6/6 [00:00<00:00,  7.52it/s]\n",
      "\u001b[32m2025-05-23 17:52:09.906\u001b[0m | \u001b[1mINFO    \u001b[0m | \u001b[36mmagic_pdf.tools.common\u001b[0m:\u001b[36m_do_parse\u001b[0m:\u001b[36m243\u001b[0m - \u001b[1mlocal output dir is d:\\DataAnalysis\\arxiv\\output\\2308.00479v1\\auto\u001b[0m\n",
      "Processing pages: 100%|██████████| 14/14 [00:03<00:00,  4.61it/s]\n",
      "OCR-rec Predict: 100%|██████████| 2/2 [00:00<00:00, 59.65it/s]\n",
      "\u001b[32m2025-05-23 17:52:14.280\u001b[0m | \u001b[1mINFO    \u001b[0m | \u001b[36mmagic_pdf.tools.common\u001b[0m:\u001b[36m_do_parse\u001b[0m:\u001b[36m243\u001b[0m - \u001b[1mlocal output dir is d:\\DataAnalysis\\arxiv\\output\\2308.04662v3\\auto\u001b[0m\n",
      "Processing pages: 100%|██████████| 14/14 [00:02<00:00,  5.24it/s]\n",
      "\u001b[32m2025-05-23 17:52:18.047\u001b[0m | \u001b[1mINFO    \u001b[0m | \u001b[36mmagic_pdf.tools.common\u001b[0m:\u001b[36m_do_parse\u001b[0m:\u001b[36m243\u001b[0m - \u001b[1mlocal output dir is d:\\DataAnalysis\\arxiv\\output\\2308.12574v2\\auto\u001b[0m\n",
      "Processing pages: 100%|██████████| 28/28 [00:03<00:00,  8.78it/s]\n",
      "OCR-rec Predict: 100%|██████████| 24/24 [00:00<00:00, 117.52it/s]\n",
      "\u001b[32m2025-05-23 17:52:22.816\u001b[0m | \u001b[1mINFO    \u001b[0m | \u001b[36mmagic_pdf.tools.common\u001b[0m:\u001b[36m_do_parse\u001b[0m:\u001b[36m243\u001b[0m - \u001b[1mlocal output dir is d:\\DataAnalysis\\arxiv\\output\\2309.01105v2\\auto\u001b[0m\n",
      "Processing pages: 100%|██████████| 9/9 [00:02<00:00,  4.00it/s]\n",
      "\u001b[32m2025-05-23 17:52:26.046\u001b[0m | \u001b[1mINFO    \u001b[0m | \u001b[36mmagic_pdf.tools.common\u001b[0m:\u001b[36m_do_parse\u001b[0m:\u001b[36m243\u001b[0m - \u001b[1mlocal output dir is d:\\DataAnalysis\\arxiv\\output\\2309.01431v2\\auto\u001b[0m\n",
      "Processing pages: 100%|██████████| 24/24 [00:03<00:00,  6.39it/s]\n",
      "OCR-rec Predict: 100%|██████████| 168/168 [00:00<00:00, 200.12it/s]\n",
      "\u001b[32m2025-05-23 17:52:32.102\u001b[0m | \u001b[1mINFO    \u001b[0m | \u001b[36mmagic_pdf.tools.common\u001b[0m:\u001b[36m_do_parse\u001b[0m:\u001b[36m243\u001b[0m - \u001b[1mlocal output dir is d:\\DataAnalysis\\arxiv\\output\\2309.08788v2\\auto\u001b[0m\n",
      "Processing pages: 100%|██████████| 8/8 [00:01<00:00,  6.51it/s]\n",
      "\u001b[32m2025-05-23 17:52:34.181\u001b[0m | \u001b[1mINFO    \u001b[0m | \u001b[36mmagic_pdf.tools.common\u001b[0m:\u001b[36m_do_parse\u001b[0m:\u001b[36m243\u001b[0m - \u001b[1mlocal output dir is d:\\DataAnalysis\\arxiv\\output\\2309.15217v2\\auto\u001b[0m\n",
      "Processing pages: 100%|██████████| 9/9 [00:02<00:00,  4.22it/s]\n",
      "\u001b[32m2025-05-23 17:52:37.464\u001b[0m | \u001b[1mINFO    \u001b[0m | \u001b[36mmagic_pdf.tools.common\u001b[0m:\u001b[36m_do_parse\u001b[0m:\u001b[36m243\u001b[0m - \u001b[1mlocal output dir is d:\\DataAnalysis\\arxiv\\output\\2309.15427v2\\auto\u001b[0m\n",
      "Processing pages: 100%|██████████| 10/10 [00:01<00:00,  6.94it/s]\n",
      "\u001b[32m2025-05-23 17:52:39.622\u001b[0m | \u001b[1mINFO    \u001b[0m | \u001b[36mmagic_pdf.tools.common\u001b[0m:\u001b[36m_do_parse\u001b[0m:\u001b[36m243\u001b[0m - \u001b[1mlocal output dir is d:\\DataAnalysis\\arxiv\\output\\2309.16035v3\\auto\u001b[0m\n",
      "Processing pages: 100%|██████████| 25/25 [00:04<00:00,  6.13it/s]\n",
      "\u001b[32m2025-05-23 17:52:45.398\u001b[0m | \u001b[1mINFO    \u001b[0m | \u001b[36mmagic_pdf.tools.common\u001b[0m:\u001b[36m_do_parse\u001b[0m:\u001b[36m243\u001b[0m - \u001b[1mlocal output dir is d:\\DataAnalysis\\arxiv\\output\\2309.17415v3\\auto\u001b[0m\n",
      "Processing pages: 100%|██████████| 13/13 [00:01<00:00,  7.68it/s]\n",
      "\u001b[32m2025-05-23 17:52:47.839\u001b[0m | \u001b[1mINFO    \u001b[0m | \u001b[36mmagic_pdf.tools.common\u001b[0m:\u001b[36m_do_parse\u001b[0m:\u001b[36m243\u001b[0m - \u001b[1mlocal output dir is d:\\DataAnalysis\\arxiv\\output\\2310.01427v1\\auto\u001b[0m\n",
      "Processing pages: 100%|██████████| 9/9 [00:01<00:00,  8.00it/s]\n",
      "\u001b[32m2025-05-23 17:52:49.551\u001b[0m | \u001b[1mINFO    \u001b[0m | \u001b[36mmagic_pdf.tools.common\u001b[0m:\u001b[36m_do_parse\u001b[0m:\u001b[36m243\u001b[0m - \u001b[1mlocal output dir is d:\\DataAnalysis\\arxiv\\output\\2310.01429v1\\auto\u001b[0m\n",
      "Processing pages:  93%|█████████▎| 14/15 [00:04<00:00,  2.27it/s]\u001b[32m2025-05-23 17:52:54.061\u001b[0m | \u001b[33m\u001b[1mWARNING \u001b[0m | \u001b[36mmagic_pdf.pdf_parse_union_core_v2\u001b[0m:\u001b[36msort_lines_by_model\u001b[0m:\u001b[36m537\u001b[0m - \u001b[33m\u001b[1mright > page_w, left: 321, right: 596, top: 507, bottom: 521, page_w: 595.0, page_h: 842.0\u001b[0m\n",
      "Processing pages: 100%|██████████| 15/15 [00:04<00:00,  3.35it/s]\n",
      "\u001b[32m2025-05-23 17:52:57.061\u001b[0m | \u001b[1mINFO    \u001b[0m | \u001b[36mmagic_pdf.tools.common\u001b[0m:\u001b[36m_do_parse\u001b[0m:\u001b[36m243\u001b[0m - \u001b[1mlocal output dir is d:\\DataAnalysis\\arxiv\\output\\2310.04963v3\\auto\u001b[0m\n",
      "Processing pages: 100%|██████████| 15/15 [00:02<00:00,  6.99it/s]\n",
      "\u001b[32m2025-05-23 17:53:00.050\u001b[0m | \u001b[1mINFO    \u001b[0m | \u001b[36mmagic_pdf.tools.common\u001b[0m:\u001b[36m_do_parse\u001b[0m:\u001b[36m243\u001b[0m - \u001b[1mlocal output dir is d:\\DataAnalysis\\arxiv\\output\\2310.06225v2\\auto\u001b[0m\n",
      "Processing pages: 100%|██████████| 21/21 [00:07<00:00,  2.64it/s]\n",
      "OCR-rec Predict: 100%|██████████| 17/17 [00:00<00:00, 79.19it/s]\n",
      "\u001b[32m2025-05-23 17:53:10.573\u001b[0m | \u001b[1mINFO    \u001b[0m | \u001b[36mmagic_pdf.tools.common\u001b[0m:\u001b[36m_do_parse\u001b[0m:\u001b[36m243\u001b[0m - \u001b[1mlocal output dir is d:\\DataAnalysis\\arxiv\\output\\2310.07581v2\\auto\u001b[0m\n",
      "Processing pages: 100%|██████████| 17/17 [00:02<00:00,  5.82it/s]\n",
      "OCR-rec Predict: 100%|██████████| 1/1 [00:00<00:00, 55.48it/s]\n",
      "\u001b[32m2025-05-23 17:53:15.074\u001b[0m | \u001b[1mINFO    \u001b[0m | \u001b[36mmagic_pdf.tools.common\u001b[0m:\u001b[36m_do_parse\u001b[0m:\u001b[36m243\u001b[0m - \u001b[1mlocal output dir is d:\\DataAnalysis\\arxiv\\output\\2310.07793v5\\auto\u001b[0m\n",
      "Processing pages: 100%|██████████| 13/13 [00:02<00:00,  4.53it/s]\n",
      "\u001b[32m2025-05-23 17:53:19.151\u001b[0m | \u001b[1mINFO    \u001b[0m | \u001b[36mmagic_pdf.tools.common\u001b[0m:\u001b[36m_do_parse\u001b[0m:\u001b[36m243\u001b[0m - \u001b[1mlocal output dir is d:\\DataAnalysis\\arxiv\\output\\2310.09089v2\\auto\u001b[0m\n",
      "Processing pages: 100%|██████████| 19/19 [00:03<00:00,  5.13it/s]\n",
      "\u001b[32m2025-05-23 17:53:24.273\u001b[0m | \u001b[1mINFO    \u001b[0m | \u001b[36mmagic_pdf.tools.common\u001b[0m:\u001b[36m_do_parse\u001b[0m:\u001b[36m243\u001b[0m - \u001b[1mlocal output dir is d:\\DataAnalysis\\arxiv\\output\\2310.09536v1\\auto\u001b[0m\n",
      "Processing pages: 100%|██████████| 82/82 [00:11<00:00,  6.96it/s]\n",
      "OCR-rec Predict: 100%|██████████| 21/21 [00:00<00:00, 88.25it/s]\n",
      "\u001b[32m2025-05-23 17:53:39.650\u001b[0m | \u001b[1mINFO    \u001b[0m | \u001b[36mmagic_pdf.tools.common\u001b[0m:\u001b[36m_do_parse\u001b[0m:\u001b[36m243\u001b[0m - \u001b[1mlocal output dir is d:\\DataAnalysis\\arxiv\\output\\2310.10445v1\\auto\u001b[0m\n",
      "Processing pages: 100%|██████████| 5/5 [00:01<00:00,  4.39it/s]\n",
      "\u001b[32m2025-05-23 17:53:41.501\u001b[0m | \u001b[1mINFO    \u001b[0m | \u001b[36mmagic_pdf.tools.common\u001b[0m:\u001b[36m_do_parse\u001b[0m:\u001b[36m243\u001b[0m - \u001b[1mlocal output dir is d:\\DataAnalysis\\arxiv\\output\\2310.10760v1\\auto\u001b[0m\n",
      "Processing pages: 100%|██████████| 30/30 [00:04<00:00,  6.77it/s]\n",
      "OCR-rec Predict: 100%|██████████| 2/2 [00:00<00:00, 65.34it/s]\n",
      "\u001b[32m2025-05-23 17:53:47.814\u001b[0m | \u001b[1mINFO    \u001b[0m | \u001b[36mmagic_pdf.tools.common\u001b[0m:\u001b[36m_do_parse\u001b[0m:\u001b[36m243\u001b[0m - \u001b[1mlocal output dir is d:\\DataAnalysis\\arxiv\\output\\2310.11511v1\\auto\u001b[0m\n",
      "Processing pages: 100%|██████████| 17/17 [00:05<00:00,  3.28it/s]\n",
      "OCR-rec Predict: 100%|██████████| 4/4 [00:00<00:00, 55.36it/s]\n",
      "\u001b[32m2025-05-23 17:53:55.718\u001b[0m | \u001b[1mINFO    \u001b[0m | \u001b[36mmagic_pdf.tools.common\u001b[0m:\u001b[36m_do_parse\u001b[0m:\u001b[36m243\u001b[0m - \u001b[1mlocal output dir is d:\\DataAnalysis\\arxiv\\output\\2310.12214v7\\auto\u001b[0m\n",
      "Processing pages: 100%|██████████| 18/18 [00:03<00:00,  4.69it/s]\n",
      "OCR-rec Predict: 100%|██████████| 31/31 [00:00<00:00, 90.33it/s]\n",
      "\u001b[32m2025-05-23 17:54:01.272\u001b[0m | \u001b[1mINFO    \u001b[0m | \u001b[36mmagic_pdf.tools.common\u001b[0m:\u001b[36m_do_parse\u001b[0m:\u001b[36m243\u001b[0m - \u001b[1mlocal output dir is d:\\DataAnalysis\\arxiv\\output\\2310.15205v2\\auto\u001b[0m\n",
      "Processing pages: 100%|██████████| 21/21 [00:01<00:00, 10.98it/s]\n",
      "\u001b[32m2025-05-23 17:54:04.295\u001b[0m | \u001b[1mINFO    \u001b[0m | \u001b[36mmagic_pdf.tools.common\u001b[0m:\u001b[36m_do_parse\u001b[0m:\u001b[36m243\u001b[0m - \u001b[1mlocal output dir is d:\\DataAnalysis\\arxiv\\output\\2310.18344v1\\auto\u001b[0m\n",
      "Processing pages: 100%|██████████| 18/18 [00:02<00:00,  6.81it/s]\n",
      "\u001b[32m2025-05-23 17:54:08.259\u001b[0m | \u001b[1mINFO    \u001b[0m | \u001b[36mmagic_pdf.tools.common\u001b[0m:\u001b[36m_do_parse\u001b[0m:\u001b[36m243\u001b[0m - \u001b[1mlocal output dir is d:\\DataAnalysis\\arxiv\\output\\2310.20158v1\\auto\u001b[0m\n",
      "Processing pages: 100%|██████████| 11/11 [00:01<00:00,  7.94it/s]\n",
      "\u001b[32m2025-05-23 17:54:10.316\u001b[0m | \u001b[1mINFO    \u001b[0m | \u001b[36mmagic_pdf.tools.common\u001b[0m:\u001b[36m_do_parse\u001b[0m:\u001b[36m243\u001b[0m - \u001b[1mlocal output dir is d:\\DataAnalysis\\arxiv\\output\\2311.02597v1\\auto\u001b[0m\n",
      "Processing pages: 100%|██████████| 22/22 [00:03<00:00,  7.19it/s]\n",
      "OCR-rec Predict: 100%|██████████| 1/1 [00:00<00:00, 39.95it/s]\n",
      "\u001b[32m2025-05-23 17:54:14.592\u001b[0m | \u001b[1mINFO    \u001b[0m | \u001b[36mmagic_pdf.tools.common\u001b[0m:\u001b[36m_do_parse\u001b[0m:\u001b[36m243\u001b[0m - \u001b[1mlocal output dir is d:\\DataAnalysis\\arxiv\\output\\2311.02775v3\\auto\u001b[0m\n",
      "Processing pages: 100%|██████████| 8/8 [00:01<00:00,  4.52it/s]\n",
      "OCR-rec Predict: 100%|██████████| 3/3 [00:00<00:00, 57.25it/s]\n",
      "\u001b[32m2025-05-23 17:54:17.400\u001b[0m | \u001b[1mINFO    \u001b[0m | \u001b[36mmagic_pdf.tools.common\u001b[0m:\u001b[36m_do_parse\u001b[0m:\u001b[36m243\u001b[0m - \u001b[1mlocal output dir is d:\\DataAnalysis\\arxiv\\output\\2311.04177v1\\auto\u001b[0m\n",
      "Processing pages:  88%|████████▊ | 14/16 [00:01<00:00, 10.83it/s]\u001b[32m2025-05-23 17:54:18.995\u001b[0m | \u001b[33m\u001b[1mWARNING \u001b[0m | \u001b[36mmagic_pdf.pdf_parse_union_core_v2\u001b[0m:\u001b[36mparse_page_core\u001b[0m:\u001b[36m835\u001b[0m - \u001b[33m\u001b[1mskip this page, not found useful bbox, page_id: 15\u001b[0m\n",
      "Processing pages: 100%|██████████| 16/16 [00:01<00:00, 10.61it/s]\n",
      "\u001b[32m2025-05-23 17:54:19.634\u001b[0m | \u001b[1mINFO    \u001b[0m | \u001b[36mmagic_pdf.tools.common\u001b[0m:\u001b[36m_do_parse\u001b[0m:\u001b[36m243\u001b[0m - \u001b[1mlocal output dir is d:\\DataAnalysis\\arxiv\\output\\2311.04310v1\\auto\u001b[0m\n",
      "Processing pages: 100%|██████████| 9/9 [00:01<00:00,  5.56it/s]\n",
      "\u001b[32m2025-05-23 17:54:22.143\u001b[0m | \u001b[1mINFO    \u001b[0m | \u001b[36mmagic_pdf.tools.common\u001b[0m:\u001b[36m_do_parse\u001b[0m:\u001b[36m243\u001b[0m - \u001b[1mlocal output dir is d:\\DataAnalysis\\arxiv\\output\\2311.05169v1\\auto\u001b[0m\n",
      "Processing pages: 100%|██████████| 5/5 [00:01<00:00,  4.09it/s]\n",
      "\u001b[32m2025-05-23 17:54:24.476\u001b[0m | \u001b[1mINFO    \u001b[0m | \u001b[36mmagic_pdf.tools.common\u001b[0m:\u001b[36m_do_parse\u001b[0m:\u001b[36m243\u001b[0m - \u001b[1mlocal output dir is d:\\DataAnalysis\\arxiv\\output\\2311.05261v1\\auto\u001b[0m\n",
      "Processing pages: 100%|██████████| 9/9 [00:02<00:00,  3.13it/s]\n",
      "\u001b[32m2025-05-23 17:54:28.635\u001b[0m | \u001b[1mINFO    \u001b[0m | \u001b[36mmagic_pdf.tools.common\u001b[0m:\u001b[36m_do_parse\u001b[0m:\u001b[36m243\u001b[0m - \u001b[1mlocal output dir is d:\\DataAnalysis\\arxiv\\output\\2311.06102v1\\auto\u001b[0m\n",
      "Processing pages: 100%|██████████| 20/20 [00:03<00:00,  5.89it/s]\n",
      "OCR-rec Predict: 100%|██████████| 35/35 [00:00<00:00, 120.71it/s]\n",
      "\u001b[32m2025-05-23 17:54:33.350\u001b[0m | \u001b[1mINFO    \u001b[0m | \u001b[36mmagic_pdf.tools.common\u001b[0m:\u001b[36m_do_parse\u001b[0m:\u001b[36m243\u001b[0m - \u001b[1mlocal output dir is d:\\DataAnalysis\\arxiv\\output\\2311.07536v3\\auto\u001b[0m\n",
      "Processing pages: 100%|██████████| 12/12 [00:02<00:00,  4.70it/s]\n",
      "\u001b[32m2025-05-23 17:54:37.318\u001b[0m | \u001b[1mINFO    \u001b[0m | \u001b[36mmagic_pdf.tools.common\u001b[0m:\u001b[36m_do_parse\u001b[0m:\u001b[36m243\u001b[0m - \u001b[1mlocal output dir is d:\\DataAnalysis\\arxiv\\output\\2311.08377v1\\auto\u001b[0m\n",
      "Processing pages: 100%|██████████| 17/17 [00:03<00:00,  5.43it/s]\n",
      "OCR-rec Predict: 100%|██████████| 2/2 [00:00<00:00, 51.17it/s]\n",
      "\u001b[32m2025-05-23 17:54:41.850\u001b[0m | \u001b[1mINFO    \u001b[0m | \u001b[36mmagic_pdf.tools.common\u001b[0m:\u001b[36m_do_parse\u001b[0m:\u001b[36m243\u001b[0m - \u001b[1mlocal output dir is d:\\DataAnalysis\\arxiv\\output\\2311.09114v2\\auto\u001b[0m\n",
      "Processing pages: 100%|██████████| 3/3 [00:00<00:00,  5.53it/s]\n",
      "OCR-rec Predict: 100%|██████████| 4/4 [00:00<00:00, 44.52it/s]\n",
      "\u001b[32m2025-05-23 17:54:42.970\u001b[0m | \u001b[1mINFO    \u001b[0m | \u001b[36mmagic_pdf.tools.common\u001b[0m:\u001b[36m_do_parse\u001b[0m:\u001b[36m243\u001b[0m - \u001b[1mlocal output dir is d:\\DataAnalysis\\arxiv\\output\\2311.10384v2\\auto\u001b[0m\n",
      "Processing pages: 100%|██████████| 21/21 [00:02<00:00,  9.09it/s]\n",
      "\u001b[32m2025-05-23 17:54:46.199\u001b[0m | \u001b[1mINFO    \u001b[0m | \u001b[36mmagic_pdf.tools.common\u001b[0m:\u001b[36m_do_parse\u001b[0m:\u001b[36m243\u001b[0m - \u001b[1mlocal output dir is d:\\DataAnalysis\\arxiv\\output\\2311.10776v6\\auto\u001b[0m\n",
      "Processing pages: 100%|██████████| 10/10 [00:03<00:00,  3.27it/s]\n",
      "\u001b[32m2025-05-23 17:54:50.613\u001b[0m | \u001b[1mINFO    \u001b[0m | \u001b[36mmagic_pdf.tools.common\u001b[0m:\u001b[36m_do_parse\u001b[0m:\u001b[36m243\u001b[0m - \u001b[1mlocal output dir is d:\\DataAnalysis\\arxiv\\output\\2311.12955v1\\auto\u001b[0m\n",
      "Processing pages: 100%|██████████| 40/40 [00:08<00:00,  4.73it/s]\n",
      "OCR-rec Predict: 100%|██████████| 3/3 [00:00<00:00, 66.65it/s]\n",
      "\u001b[32m2025-05-23 17:55:02.120\u001b[0m | \u001b[1mINFO    \u001b[0m | \u001b[36mmagic_pdf.tools.common\u001b[0m:\u001b[36m_do_parse\u001b[0m:\u001b[36m243\u001b[0m - \u001b[1mlocal output dir is d:\\DataAnalysis\\arxiv\\output\\2311.13538v5\\auto\u001b[0m\n",
      "Processing pages: 100%|██████████| 8/8 [00:02<00:00,  3.12it/s]\n",
      "\u001b[32m2025-05-23 17:55:05.792\u001b[0m | \u001b[1mINFO    \u001b[0m | \u001b[36mmagic_pdf.tools.common\u001b[0m:\u001b[36m_do_parse\u001b[0m:\u001b[36m243\u001b[0m - \u001b[1mlocal output dir is d:\\DataAnalysis\\arxiv\\output\\2311.13878v1\\auto\u001b[0m\n",
      "Processing pages: 100%|██████████| 15/15 [00:01<00:00,  8.71it/s]\n",
      "\u001b[32m2025-05-23 17:55:08.240\u001b[0m | \u001b[1mINFO    \u001b[0m | \u001b[36mmagic_pdf.tools.common\u001b[0m:\u001b[36m_do_parse\u001b[0m:\u001b[36m243\u001b[0m - \u001b[1mlocal output dir is d:\\DataAnalysis\\arxiv\\output\\2311.15548v1\\auto\u001b[0m\n",
      "Processing pages: 100%|██████████| 29/29 [00:02<00:00, 13.05it/s]\n",
      "OCR-rec Predict: 100%|██████████| 55/55 [00:00<00:00, 154.47it/s]\n",
      "\u001b[32m2025-05-23 17:55:11.771\u001b[0m | \u001b[1mINFO    \u001b[0m | \u001b[36mmagic_pdf.tools.common\u001b[0m:\u001b[36m_do_parse\u001b[0m:\u001b[36m243\u001b[0m - \u001b[1mlocal output dir is d:\\DataAnalysis\\arxiv\\output\\2311.17330v2\\auto\u001b[0m\n",
      "Processing pages: 100%|██████████| 6/6 [00:01<00:00,  4.15it/s]\n",
      "OCR-rec Predict: 100%|██████████| 2/2 [00:00<00:00, 142.98it/s]\n",
      "\u001b[32m2025-05-23 17:55:14.625\u001b[0m | \u001b[1mINFO    \u001b[0m | \u001b[36mmagic_pdf.tools.common\u001b[0m:\u001b[36m_do_parse\u001b[0m:\u001b[36m243\u001b[0m - \u001b[1mlocal output dir is d:\\DataAnalysis\\arxiv\\output\\2311.17696v7\\auto\u001b[0m\n",
      "Processing pages: 100%|██████████| 8/8 [00:02<00:00,  3.64it/s]\n",
      "\u001b[32m2025-05-23 17:55:17.746\u001b[0m | \u001b[1mINFO    \u001b[0m | \u001b[36mmagic_pdf.tools.common\u001b[0m:\u001b[36m_do_parse\u001b[0m:\u001b[36m243\u001b[0m - \u001b[1mlocal output dir is d:\\DataAnalysis\\arxiv\\output\\2311.17722v1\\auto\u001b[0m\n",
      "Processing pages: 100%|██████████| 14/14 [00:02<00:00,  5.32it/s]\n",
      "\u001b[32m2025-05-23 17:55:21.530\u001b[0m | \u001b[1mINFO    \u001b[0m | \u001b[36mmagic_pdf.tools.common\u001b[0m:\u001b[36m_do_parse\u001b[0m:\u001b[36m243\u001b[0m - \u001b[1mlocal output dir is d:\\DataAnalysis\\arxiv\\output\\2311.18397v1\\auto\u001b[0m\n",
      "Processing pages: 100%|██████████| 17/17 [00:03<00:00,  4.77it/s]\n",
      "\u001b[32m2025-05-23 17:55:26.641\u001b[0m | \u001b[1mINFO    \u001b[0m | \u001b[36mmagic_pdf.tools.common\u001b[0m:\u001b[36m_do_parse\u001b[0m:\u001b[36m243\u001b[0m - \u001b[1mlocal output dir is d:\\DataAnalysis\\arxiv\\output\\2312.02073v3\\auto\u001b[0m\n",
      "Processing pages: 100%|██████████| 8/8 [00:01<00:00,  4.45it/s]\n",
      "OCR-rec Predict: 100%|██████████| 1/1 [00:00<00:00, 35.64it/s]\n",
      "\u001b[32m2025-05-23 17:55:29.274\u001b[0m | \u001b[1mINFO    \u001b[0m | \u001b[36mmagic_pdf.tools.common\u001b[0m:\u001b[36m_do_parse\u001b[0m:\u001b[36m243\u001b[0m - \u001b[1mlocal output dir is d:\\DataAnalysis\\arxiv\\output\\2312.05733v1\\auto\u001b[0m\n",
      "Processing pages: 100%|██████████| 14/14 [00:02<00:00,  5.29it/s]\n",
      "\u001b[32m2025-05-23 17:55:33.054\u001b[0m | \u001b[1mINFO    \u001b[0m | \u001b[36mmagic_pdf.tools.common\u001b[0m:\u001b[36m_do_parse\u001b[0m:\u001b[36m243\u001b[0m - \u001b[1mlocal output dir is d:\\DataAnalysis\\arxiv\\output\\2312.05934v3\\auto\u001b[0m\n",
      "Processing pages: 100%|██████████| 9/9 [00:01<00:00,  8.46it/s]\n",
      "\u001b[32m2025-05-23 17:55:34.725\u001b[0m | \u001b[1mINFO    \u001b[0m | \u001b[36mmagic_pdf.tools.common\u001b[0m:\u001b[36m_do_parse\u001b[0m:\u001b[36m243\u001b[0m - \u001b[1mlocal output dir is d:\\DataAnalysis\\arxiv\\output\\2312.06457v1\\auto\u001b[0m\n",
      "Processing pages: 100%|██████████| 20/20 [00:03<00:00,  6.62it/s]\n",
      "\u001b[32m2025-05-23 17:55:38.898\u001b[0m | \u001b[1mINFO    \u001b[0m | \u001b[36mmagic_pdf.tools.common\u001b[0m:\u001b[36m_do_parse\u001b[0m:\u001b[36m243\u001b[0m - \u001b[1mlocal output dir is d:\\DataAnalysis\\arxiv\\output\\2312.07104v2\\auto\u001b[0m\n",
      "Processing pages: 100%|██████████| 20/20 [00:02<00:00,  8.08it/s]\n",
      "\u001b[32m2025-05-23 17:55:42.340\u001b[0m | \u001b[1mINFO    \u001b[0m | \u001b[36mmagic_pdf.tools.common\u001b[0m:\u001b[36m_do_parse\u001b[0m:\u001b[36m243\u001b[0m - \u001b[1mlocal output dir is d:\\DataAnalysis\\arxiv\\output\\2312.07559v2\\auto\u001b[0m\n",
      "Processing pages: 100%|██████████| 10/10 [00:02<00:00,  4.75it/s]\n",
      "\u001b[32m2025-05-23 17:55:45.508\u001b[0m | \u001b[1mINFO    \u001b[0m | \u001b[36mmagic_pdf.tools.common\u001b[0m:\u001b[36m_do_parse\u001b[0m:\u001b[36m243\u001b[0m - \u001b[1mlocal output dir is d:\\DataAnalysis\\arxiv\\output\\2312.08976v2\\auto\u001b[0m\n",
      "Processing pages: 100%|██████████| 3/3 [00:00<00:00,  4.71it/s]\n",
      "OCR-rec Predict: 100%|██████████| 15/15 [00:00<00:00, 49.08it/s]\n",
      "\u001b[32m2025-05-23 17:55:46.918\u001b[0m | \u001b[1mINFO    \u001b[0m | \u001b[36mmagic_pdf.tools.common\u001b[0m:\u001b[36m_do_parse\u001b[0m:\u001b[36m243\u001b[0m - \u001b[1mlocal output dir is d:\\DataAnalysis\\arxiv\\output\\2312.09948v1\\auto\u001b[0m\n",
      "Processing pages: 100%|██████████| 17/17 [00:01<00:00, 13.59it/s]\n",
      "\u001b[32m2025-05-23 17:55:48.989\u001b[0m | \u001b[1mINFO    \u001b[0m | \u001b[36mmagic_pdf.tools.common\u001b[0m:\u001b[36m_do_parse\u001b[0m:\u001b[36m243\u001b[0m - \u001b[1mlocal output dir is d:\\DataAnalysis\\arxiv\\output\\2312.10466v1\\auto\u001b[0m\n",
      "Processing pages: 100%|██████████| 31/31 [00:01<00:00, 16.52it/s]\n",
      "\u001b[32m2025-05-23 17:55:52.354\u001b[0m | \u001b[1mINFO    \u001b[0m | \u001b[36mmagic_pdf.tools.common\u001b[0m:\u001b[36m_do_parse\u001b[0m:\u001b[36m243\u001b[0m - \u001b[1mlocal output dir is d:\\DataAnalysis\\arxiv\\output\\2312.10904v2\\auto\u001b[0m\n",
      "Processing pages: 100%|██████████| 21/21 [00:05<00:00,  3.69it/s]\n",
      "\u001b[32m2025-05-23 17:55:59.786\u001b[0m | \u001b[1mINFO    \u001b[0m | \u001b[36mmagic_pdf.tools.common\u001b[0m:\u001b[36m_do_parse\u001b[0m:\u001b[36m243\u001b[0m - \u001b[1mlocal output dir is d:\\DataAnalysis\\arxiv\\output\\2312.10997v5\\auto\u001b[0m\n",
      "Processing pages: 100%|██████████| 18/18 [00:02<00:00,  8.41it/s]\n",
      "\u001b[32m2025-05-23 17:56:02.860\u001b[0m | \u001b[1mINFO    \u001b[0m | \u001b[36mmagic_pdf.tools.common\u001b[0m:\u001b[36m_do_parse\u001b[0m:\u001b[36m243\u001b[0m - \u001b[1mlocal output dir is d:\\DataAnalysis\\arxiv\\output\\2312.13303v2\\auto\u001b[0m\n",
      "Processing pages: 100%|██████████| 5/5 [00:00<00:00,  9.55it/s]\n",
      "\u001b[32m2025-05-23 17:56:03.897\u001b[0m | \u001b[1mINFO    \u001b[0m | \u001b[36mmagic_pdf.tools.common\u001b[0m:\u001b[36m_do_parse\u001b[0m:\u001b[36m243\u001b[0m - \u001b[1mlocal output dir is d:\\DataAnalysis\\arxiv\\output\\2312.14211v1\\auto\u001b[0m\n",
      "Processing pages: 100%|██████████| 8/8 [00:01<00:00,  4.89it/s]\n",
      "\u001b[32m2025-05-23 17:56:06.377\u001b[0m | \u001b[1mINFO    \u001b[0m | \u001b[36mmagic_pdf.tools.common\u001b[0m:\u001b[36m_do_parse\u001b[0m:\u001b[36m243\u001b[0m - \u001b[1mlocal output dir is d:\\DataAnalysis\\arxiv\\output\\2312.14327v1\\auto\u001b[0m\n",
      "Processing pages: 100%|██████████| 10/10 [00:01<00:00,  7.36it/s]\n",
      "\u001b[32m2025-05-23 17:56:08.698\u001b[0m | \u001b[1mINFO    \u001b[0m | \u001b[36mmagic_pdf.tools.common\u001b[0m:\u001b[36m_do_parse\u001b[0m:\u001b[36m243\u001b[0m - \u001b[1mlocal output dir is d:\\DataAnalysis\\arxiv\\output\\2312.14335v2\\auto\u001b[0m\n",
      "Processing pages: 100%|██████████| 21/21 [00:04<00:00,  5.08it/s]\n",
      "OCR-rec Predict: 100%|██████████| 5/5 [00:00<00:00, 26.34it/s]\n",
      "\u001b[32m2025-05-23 17:56:14.741\u001b[0m | \u001b[1mINFO    \u001b[0m | \u001b[36mmagic_pdf.tools.common\u001b[0m:\u001b[36m_do_parse\u001b[0m:\u001b[36m243\u001b[0m - \u001b[1mlocal output dir is d:\\DataAnalysis\\arxiv\\output\\2312.15561v5\\auto\u001b[0m\n",
      "Processing pages: 100%|██████████| 14/14 [00:04<00:00,  3.24it/s]\n",
      "\u001b[32m2025-05-23 17:56:21.060\u001b[0m | \u001b[1mINFO    \u001b[0m | \u001b[36mmagic_pdf.tools.common\u001b[0m:\u001b[36m_do_parse\u001b[0m:\u001b[36m243\u001b[0m - \u001b[1mlocal output dir is d:\\DataAnalysis\\arxiv\\output\\2312.15883v2\\auto\u001b[0m\n",
      "Processing pages: 100%|██████████| 11/11 [00:03<00:00,  2.99it/s]\n",
      "\u001b[32m2025-05-23 17:56:26.365\u001b[0m | \u001b[1mINFO    \u001b[0m | \u001b[36mmagic_pdf.tools.common\u001b[0m:\u001b[36m_do_parse\u001b[0m:\u001b[36m243\u001b[0m - \u001b[1mlocal output dir is d:\\DataAnalysis\\arxiv\\output\\2312.16262v2\\auto\u001b[0m\n",
      "Processing pages: 100%|██████████| 17/17 [00:05<00:00,  2.97it/s]\n",
      "OCR-rec Predict: 100%|██████████| 1/1 [00:00<00:00, 29.72it/s]\n",
      "\u001b[32m2025-05-23 17:56:35.311\u001b[0m | \u001b[1mINFO    \u001b[0m | \u001b[36mmagic_pdf.tools.common\u001b[0m:\u001b[36m_do_parse\u001b[0m:\u001b[36m243\u001b[0m - \u001b[1mlocal output dir is d:\\DataAnalysis\\arxiv\\output\\2312.17264v1\\auto\u001b[0m\n",
      "Processing pages: 100%|██████████| 11/11 [00:01<00:00,  7.82it/s]\n",
      "\u001b[32m2025-05-23 17:56:37.416\u001b[0m | \u001b[1mINFO    \u001b[0m | \u001b[36mmagic_pdf.tools.common\u001b[0m:\u001b[36m_do_parse\u001b[0m:\u001b[36m243\u001b[0m - \u001b[1mlocal output dir is d:\\DataAnalysis\\arxiv\\output\\2401.00280v3\\auto\u001b[0m\n",
      "Processing pages: 100%|██████████| 16/16 [00:02<00:00,  5.94it/s]\n",
      "OCR-rec Predict: 100%|██████████| 1/1 [00:00<00:00, 40.77it/s]\n",
      "\u001b[32m2025-05-23 17:56:41.316\u001b[0m | \u001b[1mINFO    \u001b[0m | \u001b[36mmagic_pdf.tools.common\u001b[0m:\u001b[36m_do_parse\u001b[0m:\u001b[36m243\u001b[0m - \u001b[1mlocal output dir is d:\\DataAnalysis\\arxiv\\output\\2401.00396v2\\auto\u001b[0m\n",
      "Processing pages: 100%|██████████| 38/38 [00:04<00:00,  9.44it/s]\n",
      "OCR-rec Predict: 100%|██████████| 1/1 [00:00<00:00, 48.35it/s]\n",
      "\u001b[32m2025-05-23 17:56:46.683\u001b[0m | \u001b[1mINFO    \u001b[0m | \u001b[36mmagic_pdf.tools.common\u001b[0m:\u001b[36m_do_parse\u001b[0m:\u001b[36m243\u001b[0m - \u001b[1mlocal output dir is d:\\DataAnalysis\\arxiv\\output\\2401.00544v2\\auto\u001b[0m\n",
      "Processing pages: 100%|██████████| 19/19 [00:03<00:00,  5.36it/s]\n",
      "\u001b[32m2025-05-23 17:56:51.463\u001b[0m | \u001b[1mINFO    \u001b[0m | \u001b[36mmagic_pdf.tools.common\u001b[0m:\u001b[36m_do_parse\u001b[0m:\u001b[36m243\u001b[0m - \u001b[1mlocal output dir is d:\\DataAnalysis\\arxiv\\output\\2401.01313v3\\auto\u001b[0m\n",
      "Processing pages: 100%|██████████| 4/4 [00:00<00:00,  8.56it/s]\n",
      "\u001b[32m2025-05-23 17:56:52.385\u001b[0m | \u001b[1mINFO    \u001b[0m | \u001b[36mmagic_pdf.tools.common\u001b[0m:\u001b[36m_do_parse\u001b[0m:\u001b[36m243\u001b[0m - \u001b[1mlocal output dir is d:\\DataAnalysis\\arxiv\\output\\2401.01469v1\\auto\u001b[0m\n",
      "Processing pages: 100%|██████████| 12/12 [00:04<00:00,  2.97it/s]\n",
      "OCR-rec Predict: 100%|██████████| 1/1 [00:00<00:00, 31.08it/s]\n",
      "\u001b[32m2025-05-23 17:56:58.045\u001b[0m | \u001b[1mINFO    \u001b[0m | \u001b[36mmagic_pdf.tools.common\u001b[0m:\u001b[36m_do_parse\u001b[0m:\u001b[36m243\u001b[0m - \u001b[1mlocal output dir is d:\\DataAnalysis\\arxiv\\output\\2401.01701v3\\auto\u001b[0m\n",
      "Processing pages: 100%|██████████| 3/3 [00:00<00:00,  3.79it/s]\n",
      "\u001b[32m2025-05-23 17:56:59.651\u001b[0m | \u001b[1mINFO    \u001b[0m | \u001b[36mmagic_pdf.tools.common\u001b[0m:\u001b[36m_do_parse\u001b[0m:\u001b[36m243\u001b[0m - \u001b[1mlocal output dir is d:\\DataAnalysis\\arxiv\\output\\2401.01835v1\\auto\u001b[0m\n"
     ]
    },
    {
     "name": "stdout",
     "output_type": "stream",
     "text": [
      "Chunk 2: 100 files\n"
     ]
    },
    {
     "name": "stderr",
     "output_type": "stream",
     "text": [
      "\u001b[32m2025-05-23 17:57:00.147\u001b[0m | \u001b[1mINFO    \u001b[0m | \u001b[36mmagic_pdf.libs.pdf_check\u001b[0m:\u001b[36mdetect_invalid_chars\u001b[0m:\u001b[36m67\u001b[0m - \u001b[1mcid_count: 0, text_len: 19284, cid_chars_radio: 0.0\u001b[0m\n",
      "\u001b[32m2025-05-23 17:57:00.698\u001b[0m | \u001b[1mINFO    \u001b[0m | \u001b[36mmagic_pdf.libs.pdf_check\u001b[0m:\u001b[36mdetect_invalid_chars\u001b[0m:\u001b[36m67\u001b[0m - \u001b[1mcid_count: 0, text_len: 24180, cid_chars_radio: 0.0\u001b[0m\n",
      "\u001b[32m2025-05-23 17:57:01.554\u001b[0m | \u001b[1mINFO    \u001b[0m | \u001b[36mmagic_pdf.libs.pdf_check\u001b[0m:\u001b[36mdetect_invalid_chars\u001b[0m:\u001b[36m67\u001b[0m - \u001b[1mcid_count: 2, text_len: 35214, cid_chars_radio: 5.681818181818182e-05\u001b[0m\n",
      "\u001b[32m2025-05-23 17:57:02.223\u001b[0m | \u001b[1mINFO    \u001b[0m | \u001b[36mmagic_pdf.libs.pdf_check\u001b[0m:\u001b[36mdetect_invalid_chars\u001b[0m:\u001b[36m67\u001b[0m - \u001b[1mcid_count: 0, text_len: 42705, cid_chars_radio: 0.0\u001b[0m\n",
      "\u001b[32m2025-05-23 17:57:02.963\u001b[0m | \u001b[1mINFO    \u001b[0m | \u001b[36mmagic_pdf.libs.pdf_check\u001b[0m:\u001b[36mdetect_invalid_chars\u001b[0m:\u001b[36m67\u001b[0m - \u001b[1mcid_count: 2, text_len: 34275, cid_chars_radio: 5.8375412276349205e-05\u001b[0m\n",
      "\u001b[32m2025-05-23 17:57:03.563\u001b[0m | \u001b[1mINFO    \u001b[0m | \u001b[36mmagic_pdf.libs.pdf_check\u001b[0m:\u001b[36mdetect_invalid_chars\u001b[0m:\u001b[36m67\u001b[0m - \u001b[1mcid_count: 0, text_len: 36733, cid_chars_radio: 0.0\u001b[0m\n",
      "\u001b[32m2025-05-23 17:57:04.455\u001b[0m | \u001b[1mINFO    \u001b[0m | \u001b[36mmagic_pdf.libs.pdf_check\u001b[0m:\u001b[36mdetect_invalid_chars\u001b[0m:\u001b[36m67\u001b[0m - \u001b[1mcid_count: 0, text_len: 36389, cid_chars_radio: 0.0\u001b[0m\n",
      "\u001b[32m2025-05-23 17:57:05.484\u001b[0m | \u001b[1mINFO    \u001b[0m | \u001b[36mmagic_pdf.libs.pdf_check\u001b[0m:\u001b[36mdetect_invalid_chars\u001b[0m:\u001b[36m67\u001b[0m - \u001b[1mcid_count: 0, text_len: 30321, cid_chars_radio: 0.0\u001b[0m\n",
      "\u001b[32m2025-05-23 17:57:07.764\u001b[0m | \u001b[1mINFO    \u001b[0m | \u001b[36mmagic_pdf.libs.pdf_check\u001b[0m:\u001b[36mdetect_invalid_chars\u001b[0m:\u001b[36m67\u001b[0m - \u001b[1mcid_count: 0, text_len: 57455, cid_chars_radio: 0.0\u001b[0m\n",
      "\u001b[32m2025-05-23 17:57:09.601\u001b[0m | \u001b[1mINFO    \u001b[0m | \u001b[36mmagic_pdf.libs.pdf_check\u001b[0m:\u001b[36mdetect_invalid_chars\u001b[0m:\u001b[36m67\u001b[0m - \u001b[1mcid_count: 0, text_len: 23681, cid_chars_radio: 0.0\u001b[0m\n",
      "\u001b[32m2025-05-23 17:57:11.099\u001b[0m | \u001b[1mINFO    \u001b[0m | \u001b[36mmagic_pdf.libs.pdf_check\u001b[0m:\u001b[36mdetect_invalid_chars\u001b[0m:\u001b[36m67\u001b[0m - \u001b[1mcid_count: 0, text_len: 20917, cid_chars_radio: 0.0\u001b[0m\n",
      "\u001b[32m2025-05-23 17:57:12.247\u001b[0m | \u001b[1mINFO    \u001b[0m | \u001b[36mmagic_pdf.libs.pdf_check\u001b[0m:\u001b[36mdetect_invalid_chars\u001b[0m:\u001b[36m67\u001b[0m - \u001b[1mcid_count: 1, text_len: 55391, cid_chars_radio: 1.8056082191286134e-05\u001b[0m\n",
      "\u001b[32m2025-05-23 17:57:13.111\u001b[0m | \u001b[1mINFO    \u001b[0m | \u001b[36mmagic_pdf.libs.pdf_check\u001b[0m:\u001b[36mdetect_invalid_chars\u001b[0m:\u001b[36m67\u001b[0m - \u001b[1mcid_count: 0, text_len: 31502, cid_chars_radio: 0.0\u001b[0m\n",
      "\u001b[32m2025-05-23 17:57:15.207\u001b[0m | \u001b[1mINFO    \u001b[0m | \u001b[36mmagic_pdf.libs.pdf_check\u001b[0m:\u001b[36mdetect_invalid_chars\u001b[0m:\u001b[36m67\u001b[0m - \u001b[1mcid_count: 0, text_len: 33654, cid_chars_radio: 0.0\u001b[0m\n",
      "\u001b[32m2025-05-23 17:57:16.164\u001b[0m | \u001b[1mINFO    \u001b[0m | \u001b[36mmagic_pdf.libs.pdf_check\u001b[0m:\u001b[36mdetect_invalid_chars\u001b[0m:\u001b[36m67\u001b[0m - \u001b[1mcid_count: 0, text_len: 37641, cid_chars_radio: 0.0\u001b[0m\n",
      "\u001b[32m2025-05-23 17:57:18.339\u001b[0m | \u001b[1mINFO    \u001b[0m | \u001b[36mmagic_pdf.libs.pdf_check\u001b[0m:\u001b[36mdetect_invalid_chars\u001b[0m:\u001b[36m67\u001b[0m - \u001b[1mcid_count: 0, text_len: 38021, cid_chars_radio: 0.0\u001b[0m\n",
      "\u001b[32m2025-05-23 17:57:20.399\u001b[0m | \u001b[1mINFO    \u001b[0m | \u001b[36mmagic_pdf.libs.pdf_check\u001b[0m:\u001b[36mdetect_invalid_chars\u001b[0m:\u001b[36m67\u001b[0m - \u001b[1mcid_count: 0, text_len: 21749, cid_chars_radio: 0.0\u001b[0m\n",
      "\u001b[32m2025-05-23 17:57:21.193\u001b[0m | \u001b[1mINFO    \u001b[0m | \u001b[36mmagic_pdf.libs.pdf_check\u001b[0m:\u001b[36mdetect_invalid_chars\u001b[0m:\u001b[36m67\u001b[0m - \u001b[1mcid_count: 91, text_len: 27755, cid_chars_radio: 0.003382019548816293\u001b[0m\n",
      "\u001b[32m2025-05-23 17:57:22.081\u001b[0m | \u001b[1mINFO    \u001b[0m | \u001b[36mmagic_pdf.libs.pdf_check\u001b[0m:\u001b[36mdetect_invalid_chars\u001b[0m:\u001b[36m67\u001b[0m - \u001b[1mcid_count: 0, text_len: 37211, cid_chars_radio: 0.0\u001b[0m\n",
      "\u001b[32m2025-05-23 17:57:23.110\u001b[0m | \u001b[1mINFO    \u001b[0m | \u001b[36mmagic_pdf.libs.pdf_check\u001b[0m:\u001b[36mdetect_invalid_chars\u001b[0m:\u001b[36m67\u001b[0m - \u001b[1mcid_count: 10, text_len: 37917, cid_chars_radio: 0.00026424966308167955\u001b[0m\n",
      "\u001b[32m2025-05-23 17:57:24.783\u001b[0m | \u001b[1mINFO    \u001b[0m | \u001b[36mmagic_pdf.libs.pdf_check\u001b[0m:\u001b[36mdetect_invalid_chars\u001b[0m:\u001b[36m67\u001b[0m - \u001b[1mcid_count: 0, text_len: 29828, cid_chars_radio: 0.0\u001b[0m\n",
      "\u001b[32m2025-05-23 17:57:25.693\u001b[0m | \u001b[1mINFO    \u001b[0m | \u001b[36mmagic_pdf.libs.pdf_check\u001b[0m:\u001b[36mdetect_invalid_chars\u001b[0m:\u001b[36m67\u001b[0m - \u001b[1mcid_count: 6, text_len: 46981, cid_chars_radio: 0.00012782547561729054\u001b[0m\n",
      "\u001b[32m2025-05-23 17:57:26.334\u001b[0m | \u001b[1mINFO    \u001b[0m | \u001b[36mmagic_pdf.libs.pdf_check\u001b[0m:\u001b[36mdetect_invalid_chars\u001b[0m:\u001b[36m67\u001b[0m - \u001b[1mcid_count: 0, text_len: 29445, cid_chars_radio: 0.0\u001b[0m\n",
      "\u001b[32m2025-05-23 17:57:27.067\u001b[0m | \u001b[1mINFO    \u001b[0m | \u001b[36mmagic_pdf.libs.pdf_check\u001b[0m:\u001b[36mdetect_invalid_chars\u001b[0m:\u001b[36m67\u001b[0m - \u001b[1mcid_count: 0, text_len: 19836, cid_chars_radio: 0.0\u001b[0m\n",
      "\u001b[32m2025-05-23 17:57:27.838\u001b[0m | \u001b[1mINFO    \u001b[0m | \u001b[36mmagic_pdf.libs.pdf_check\u001b[0m:\u001b[36mdetect_invalid_chars\u001b[0m:\u001b[36m67\u001b[0m - \u001b[1mcid_count: 0, text_len: 30791, cid_chars_radio: 0.0\u001b[0m\n",
      "\u001b[32m2025-05-23 17:57:28.779\u001b[0m | \u001b[1mINFO    \u001b[0m | \u001b[36mmagic_pdf.libs.pdf_check\u001b[0m:\u001b[36mdetect_invalid_chars\u001b[0m:\u001b[36m67\u001b[0m - \u001b[1mcid_count: 0, text_len: 31263, cid_chars_radio: 0.0\u001b[0m\n",
      "\u001b[32m2025-05-23 17:57:29.932\u001b[0m | \u001b[1mINFO    \u001b[0m | \u001b[36mmagic_pdf.libs.pdf_check\u001b[0m:\u001b[36mdetect_invalid_chars\u001b[0m:\u001b[36m67\u001b[0m - \u001b[1mcid_count: 0, text_len: 34927, cid_chars_radio: 0.0\u001b[0m\n",
      "\u001b[32m2025-05-23 17:57:33.954\u001b[0m | \u001b[1mINFO    \u001b[0m | \u001b[36mmagic_pdf.libs.pdf_check\u001b[0m:\u001b[36mdetect_invalid_chars\u001b[0m:\u001b[36m67\u001b[0m - \u001b[1mcid_count: 0, text_len: 38530, cid_chars_radio: 0.0\u001b[0m\n",
      "\u001b[32m2025-05-23 17:57:36.853\u001b[0m | \u001b[1mINFO    \u001b[0m | \u001b[36mmagic_pdf.libs.pdf_check\u001b[0m:\u001b[36mdetect_invalid_chars\u001b[0m:\u001b[36m67\u001b[0m - \u001b[1mcid_count: 2, text_len: 58194, cid_chars_radio: 3.437666511971673e-05\u001b[0m\n",
      "\u001b[32m2025-05-23 17:57:37.365\u001b[0m | \u001b[1mINFO    \u001b[0m | \u001b[36mmagic_pdf.libs.pdf_check\u001b[0m:\u001b[36mdetect_invalid_chars\u001b[0m:\u001b[36m67\u001b[0m - \u001b[1mcid_count: 2, text_len: 23897, cid_chars_radio: 8.374157350416614e-05\u001b[0m\n",
      "\u001b[32m2025-05-23 17:57:38.012\u001b[0m | \u001b[1mINFO    \u001b[0m | \u001b[36mmagic_pdf.libs.pdf_check\u001b[0m:\u001b[36mdetect_invalid_chars\u001b[0m:\u001b[36m67\u001b[0m - \u001b[1mcid_count: 0, text_len: 30766, cid_chars_radio: 0.0\u001b[0m\n",
      "\u001b[32m2025-05-23 17:57:38.974\u001b[0m | \u001b[1mINFO    \u001b[0m | \u001b[36mmagic_pdf.libs.pdf_check\u001b[0m:\u001b[36mdetect_invalid_chars\u001b[0m:\u001b[36m67\u001b[0m - \u001b[1mcid_count: 3, text_len: 26869, cid_chars_radio: 0.00011174016686531585\u001b[0m\n",
      "\u001b[32m2025-05-23 17:57:41.422\u001b[0m | \u001b[1mINFO    \u001b[0m | \u001b[36mmagic_pdf.libs.pdf_check\u001b[0m:\u001b[36mdetect_invalid_chars\u001b[0m:\u001b[36m67\u001b[0m - \u001b[1mcid_count: 0, text_len: 53972, cid_chars_radio: 0.0\u001b[0m\n",
      "\u001b[32m2025-05-23 17:57:42.048\u001b[0m | \u001b[1mINFO    \u001b[0m | \u001b[36mmagic_pdf.libs.pdf_check\u001b[0m:\u001b[36mdetect_invalid_chars\u001b[0m:\u001b[36m67\u001b[0m - \u001b[1mcid_count: 0, text_len: 27275, cid_chars_radio: 0.0\u001b[0m\n",
      "\u001b[32m2025-05-23 17:57:43.118\u001b[0m | \u001b[1mINFO    \u001b[0m | \u001b[36mmagic_pdf.libs.pdf_check\u001b[0m:\u001b[36mdetect_invalid_chars\u001b[0m:\u001b[36m67\u001b[0m - \u001b[1mcid_count: 1, text_len: 31081, cid_chars_radio: 3.2181244770547725e-05\u001b[0m\n",
      "\u001b[32m2025-05-23 17:57:43.871\u001b[0m | \u001b[1mINFO    \u001b[0m | \u001b[36mmagic_pdf.libs.pdf_check\u001b[0m:\u001b[36mdetect_invalid_chars\u001b[0m:\u001b[36m67\u001b[0m - \u001b[1mcid_count: 0, text_len: 37338, cid_chars_radio: 0.0\u001b[0m\n",
      "\u001b[32m2025-05-23 17:57:44.718\u001b[0m | \u001b[1mINFO    \u001b[0m | \u001b[36mmagic_pdf.libs.pdf_check\u001b[0m:\u001b[36mdetect_invalid_chars\u001b[0m:\u001b[36m67\u001b[0m - \u001b[1mcid_count: 2, text_len: 43002, cid_chars_radio: 4.652461151949381e-05\u001b[0m\n",
      "\u001b[32m2025-05-23 17:57:45.411\u001b[0m | \u001b[1mINFO    \u001b[0m | \u001b[36mmagic_pdf.libs.pdf_check\u001b[0m:\u001b[36mdetect_invalid_chars\u001b[0m:\u001b[36m67\u001b[0m - \u001b[1mcid_count: 0, text_len: 39231, cid_chars_radio: 0.0\u001b[0m\n",
      "\u001b[32m2025-05-23 17:57:47.382\u001b[0m | \u001b[1mINFO    \u001b[0m | \u001b[36mmagic_pdf.libs.pdf_check\u001b[0m:\u001b[36mdetect_invalid_chars\u001b[0m:\u001b[36m67\u001b[0m - \u001b[1mcid_count: 3, text_len: 38876, cid_chars_radio: 7.721014026508815e-05\u001b[0m\n",
      "\u001b[32m2025-05-23 17:57:48.394\u001b[0m | \u001b[1mINFO    \u001b[0m | \u001b[36mmagic_pdf.libs.pdf_check\u001b[0m:\u001b[36mdetect_invalid_chars\u001b[0m:\u001b[36m67\u001b[0m - \u001b[1mcid_count: 0, text_len: 35353, cid_chars_radio: 0.0\u001b[0m\n",
      "\u001b[32m2025-05-23 17:57:49.813\u001b[0m | \u001b[1mINFO    \u001b[0m | \u001b[36mmagic_pdf.libs.pdf_check\u001b[0m:\u001b[36mdetect_invalid_chars\u001b[0m:\u001b[36m67\u001b[0m - \u001b[1mcid_count: 2, text_len: 31339, cid_chars_radio: 6.384880602732728e-05\u001b[0m\n",
      "\u001b[32m2025-05-23 17:57:51.207\u001b[0m | \u001b[1mINFO    \u001b[0m | \u001b[36mmagic_pdf.libs.pdf_check\u001b[0m:\u001b[36mdetect_invalid_chars\u001b[0m:\u001b[36m67\u001b[0m - \u001b[1mcid_count: 0, text_len: 36083, cid_chars_radio: 0.0\u001b[0m\n",
      "\u001b[32m2025-05-23 17:57:52.109\u001b[0m | \u001b[1mINFO    \u001b[0m | \u001b[36mmagic_pdf.libs.pdf_check\u001b[0m:\u001b[36mdetect_invalid_chars\u001b[0m:\u001b[36m67\u001b[0m - \u001b[1mcid_count: 0, text_len: 32022, cid_chars_radio: 0.0\u001b[0m\n",
      "\u001b[32m2025-05-23 17:57:52.608\u001b[0m | \u001b[1mINFO    \u001b[0m | \u001b[36mmagic_pdf.libs.pdf_check\u001b[0m:\u001b[36mdetect_invalid_chars\u001b[0m:\u001b[36m67\u001b[0m - \u001b[1mcid_count: 0, text_len: 24860, cid_chars_radio: 0.0\u001b[0m\n",
      "\u001b[32m2025-05-23 17:57:53.817\u001b[0m | \u001b[1mINFO    \u001b[0m | \u001b[36mmagic_pdf.libs.pdf_check\u001b[0m:\u001b[36mdetect_invalid_chars\u001b[0m:\u001b[36m67\u001b[0m - \u001b[1mcid_count: 0, text_len: 29377, cid_chars_radio: 0.0\u001b[0m\n",
      "\u001b[32m2025-05-23 17:57:55.095\u001b[0m | \u001b[1mINFO    \u001b[0m | \u001b[36mmagic_pdf.libs.pdf_check\u001b[0m:\u001b[36mdetect_invalid_chars\u001b[0m:\u001b[36m67\u001b[0m - \u001b[1mcid_count: 14, text_len: 56867, cid_chars_radio: 0.0002466525722339676\u001b[0m\n",
      "\u001b[32m2025-05-23 17:57:56.117\u001b[0m | \u001b[1mINFO    \u001b[0m | \u001b[36mmagic_pdf.libs.pdf_check\u001b[0m:\u001b[36mdetect_invalid_chars\u001b[0m:\u001b[36m67\u001b[0m - \u001b[1mcid_count: 2, text_len: 32218, cid_chars_radio: 6.210408644888833e-05\u001b[0m\n",
      "\u001b[32m2025-05-23 17:57:57.166\u001b[0m | \u001b[1mINFO    \u001b[0m | \u001b[36mmagic_pdf.libs.pdf_check\u001b[0m:\u001b[36mdetect_invalid_chars\u001b[0m:\u001b[36m67\u001b[0m - \u001b[1mcid_count: 7, text_len: 31924, cid_chars_radio: 0.00021956651297010759\u001b[0m\n",
      "\u001b[32m2025-05-23 17:57:57.833\u001b[0m | \u001b[1mINFO    \u001b[0m | \u001b[36mmagic_pdf.libs.pdf_check\u001b[0m:\u001b[36mdetect_invalid_chars\u001b[0m:\u001b[36m67\u001b[0m - \u001b[1mcid_count: 0, text_len: 43878, cid_chars_radio: 0.0\u001b[0m\n",
      "\u001b[32m2025-05-23 17:57:58.581\u001b[0m | \u001b[1mINFO    \u001b[0m | \u001b[36mmagic_pdf.libs.pdf_check\u001b[0m:\u001b[36mdetect_invalid_chars\u001b[0m:\u001b[36m67\u001b[0m - \u001b[1mcid_count: 0, text_len: 34606, cid_chars_radio: 0.0\u001b[0m\n",
      "\u001b[32m2025-05-23 17:57:59.580\u001b[0m | \u001b[1mINFO    \u001b[0m | \u001b[36mmagic_pdf.libs.pdf_check\u001b[0m:\u001b[36mdetect_invalid_chars\u001b[0m:\u001b[36m67\u001b[0m - \u001b[1mcid_count: 20, text_len: 41827, cid_chars_radio: 0.000479719843611331\u001b[0m\n",
      "\u001b[32m2025-05-23 17:58:00.496\u001b[0m | \u001b[1mINFO    \u001b[0m | \u001b[36mmagic_pdf.libs.pdf_check\u001b[0m:\u001b[36mdetect_invalid_chars\u001b[0m:\u001b[36m67\u001b[0m - \u001b[1mcid_count: 0, text_len: 32893, cid_chars_radio: 0.0\u001b[0m\n",
      "\u001b[32m2025-05-23 17:58:01.819\u001b[0m | \u001b[1mINFO    \u001b[0m | \u001b[36mmagic_pdf.libs.pdf_check\u001b[0m:\u001b[36mdetect_invalid_chars\u001b[0m:\u001b[36m67\u001b[0m - \u001b[1mcid_count: 2, text_len: 34617, cid_chars_radio: 5.7798456781203944e-05\u001b[0m\n",
      "\u001b[32m2025-05-23 17:58:02.493\u001b[0m | \u001b[1mINFO    \u001b[0m | \u001b[36mmagic_pdf.libs.pdf_check\u001b[0m:\u001b[36mdetect_invalid_chars\u001b[0m:\u001b[36m67\u001b[0m - \u001b[1mcid_count: 0, text_len: 29763, cid_chars_radio: 0.0\u001b[0m\n",
      "\u001b[32m2025-05-23 17:58:06.748\u001b[0m | \u001b[1mINFO    \u001b[0m | \u001b[36mmagic_pdf.libs.pdf_check\u001b[0m:\u001b[36mdetect_invalid_chars\u001b[0m:\u001b[36m67\u001b[0m - \u001b[1mcid_count: 0, text_len: 55549, cid_chars_radio: 0.0\u001b[0m\n",
      "\u001b[32m2025-05-23 17:58:08.164\u001b[0m | \u001b[1mINFO    \u001b[0m | \u001b[36mmagic_pdf.libs.pdf_check\u001b[0m:\u001b[36mdetect_invalid_chars\u001b[0m:\u001b[36m67\u001b[0m - \u001b[1mcid_count: 0, text_len: 34042, cid_chars_radio: 0.0\u001b[0m\n",
      "\u001b[32m2025-05-23 17:58:08.891\u001b[0m | \u001b[1mINFO    \u001b[0m | \u001b[36mmagic_pdf.libs.pdf_check\u001b[0m:\u001b[36mdetect_invalid_chars\u001b[0m:\u001b[36m67\u001b[0m - \u001b[1mcid_count: 0, text_len: 33704, cid_chars_radio: 0.0\u001b[0m\n",
      "\u001b[32m2025-05-23 17:58:09.784\u001b[0m | \u001b[1mINFO    \u001b[0m | \u001b[36mmagic_pdf.libs.pdf_check\u001b[0m:\u001b[36mdetect_invalid_chars\u001b[0m:\u001b[36m67\u001b[0m - \u001b[1mcid_count: 2, text_len: 39835, cid_chars_radio: 5.0224755782125007e-05\u001b[0m\n",
      "\u001b[32m2025-05-23 17:58:10.604\u001b[0m | \u001b[1mINFO    \u001b[0m | \u001b[36mmagic_pdf.libs.pdf_check\u001b[0m:\u001b[36mdetect_invalid_chars\u001b[0m:\u001b[36m67\u001b[0m - \u001b[1mcid_count: 0, text_len: 36779, cid_chars_radio: 0.0\u001b[0m\n",
      "\u001b[32m2025-05-23 17:58:11.679\u001b[0m | \u001b[1mINFO    \u001b[0m | \u001b[36mmagic_pdf.libs.pdf_check\u001b[0m:\u001b[36mdetect_invalid_chars\u001b[0m:\u001b[36m67\u001b[0m - \u001b[1mcid_count: 0, text_len: 41747, cid_chars_radio: 0.0\u001b[0m\n",
      "\u001b[32m2025-05-23 17:58:13.150\u001b[0m | \u001b[1mINFO    \u001b[0m | \u001b[36mmagic_pdf.libs.pdf_check\u001b[0m:\u001b[36mdetect_invalid_chars\u001b[0m:\u001b[36m67\u001b[0m - \u001b[1mcid_count: 76, text_len: 30965, cid_chars_radio: 0.002496632830721724\u001b[0m\n",
      "\u001b[32m2025-05-23 17:58:14.024\u001b[0m | \u001b[1mINFO    \u001b[0m | \u001b[36mmagic_pdf.libs.pdf_check\u001b[0m:\u001b[36mdetect_invalid_chars\u001b[0m:\u001b[36m67\u001b[0m - \u001b[1mcid_count: 0, text_len: 20769, cid_chars_radio: 0.0\u001b[0m\n",
      "\u001b[32m2025-05-23 17:58:16.118\u001b[0m | \u001b[1mINFO    \u001b[0m | \u001b[36mmagic_pdf.libs.pdf_check\u001b[0m:\u001b[36mdetect_invalid_chars\u001b[0m:\u001b[36m67\u001b[0m - \u001b[1mcid_count: 0, text_len: 67200, cid_chars_radio: 0.0\u001b[0m\n",
      "\u001b[32m2025-05-23 17:58:17.369\u001b[0m | \u001b[1mINFO    \u001b[0m | \u001b[36mmagic_pdf.libs.pdf_check\u001b[0m:\u001b[36mdetect_invalid_chars\u001b[0m:\u001b[36m67\u001b[0m - \u001b[1mcid_count: 0, text_len: 33030, cid_chars_radio: 0.0\u001b[0m\n",
      "\u001b[32m2025-05-23 17:58:18.256\u001b[0m | \u001b[1mINFO    \u001b[0m | \u001b[36mmagic_pdf.libs.pdf_check\u001b[0m:\u001b[36mdetect_invalid_chars\u001b[0m:\u001b[36m67\u001b[0m - \u001b[1mcid_count: 0, text_len: 15808, cid_chars_radio: 0.0\u001b[0m\n",
      "\u001b[32m2025-05-23 17:58:19.350\u001b[0m | \u001b[1mINFO    \u001b[0m | \u001b[36mmagic_pdf.libs.pdf_check\u001b[0m:\u001b[36mdetect_invalid_chars\u001b[0m:\u001b[36m67\u001b[0m - \u001b[1mcid_count: 0, text_len: 29017, cid_chars_radio: 0.0\u001b[0m\n",
      "\u001b[32m2025-05-23 17:58:21.381\u001b[0m | \u001b[1mINFO    \u001b[0m | \u001b[36mmagic_pdf.libs.pdf_check\u001b[0m:\u001b[36mdetect_invalid_chars\u001b[0m:\u001b[36m67\u001b[0m - \u001b[1mcid_count: 5, text_len: 60626, cid_chars_radio: 8.252731654177533e-05\u001b[0m\n",
      "\u001b[32m2025-05-23 17:58:21.915\u001b[0m | \u001b[1mINFO    \u001b[0m | \u001b[36mmagic_pdf.libs.pdf_check\u001b[0m:\u001b[36mdetect_invalid_chars\u001b[0m:\u001b[36m67\u001b[0m - \u001b[1mcid_count: 0, text_len: 15420, cid_chars_radio: 0.0\u001b[0m\n",
      "\u001b[32m2025-05-23 17:58:23.243\u001b[0m | \u001b[1mINFO    \u001b[0m | \u001b[36mmagic_pdf.libs.pdf_check\u001b[0m:\u001b[36mdetect_invalid_chars\u001b[0m:\u001b[36m67\u001b[0m - \u001b[1mcid_count: 12, text_len: 63591, cid_chars_radio: 0.00018897340199366939\u001b[0m\n",
      "\u001b[32m2025-05-23 17:58:24.254\u001b[0m | \u001b[1mINFO    \u001b[0m | \u001b[36mmagic_pdf.libs.pdf_check\u001b[0m:\u001b[36mdetect_invalid_chars\u001b[0m:\u001b[36m67\u001b[0m - \u001b[1mcid_count: 0, text_len: 34802, cid_chars_radio: 0.0\u001b[0m\n",
      "\u001b[32m2025-05-23 17:58:25.444\u001b[0m | \u001b[1mINFO    \u001b[0m | \u001b[36mmagic_pdf.libs.pdf_check\u001b[0m:\u001b[36mdetect_invalid_chars\u001b[0m:\u001b[36m67\u001b[0m - \u001b[1mcid_count: 4, text_len: 37174, cid_chars_radio: 0.00010768319603725839\u001b[0m\n",
      "\u001b[32m2025-05-23 17:58:26.141\u001b[0m | \u001b[1mINFO    \u001b[0m | \u001b[36mmagic_pdf.libs.pdf_check\u001b[0m:\u001b[36mdetect_invalid_chars\u001b[0m:\u001b[36m67\u001b[0m - \u001b[1mcid_count: 0, text_len: 36900, cid_chars_radio: 0.0\u001b[0m\n",
      "\u001b[32m2025-05-23 17:58:26.945\u001b[0m | \u001b[1mINFO    \u001b[0m | \u001b[36mmagic_pdf.libs.pdf_check\u001b[0m:\u001b[36mdetect_invalid_chars\u001b[0m:\u001b[36m67\u001b[0m - \u001b[1mcid_count: 226, text_len: 33192, cid_chars_radio: 0.007211691875678091\u001b[0m\n",
      "\u001b[32m2025-05-23 17:58:29.031\u001b[0m | \u001b[1mINFO    \u001b[0m | \u001b[36mmagic_pdf.libs.pdf_check\u001b[0m:\u001b[36mdetect_invalid_chars\u001b[0m:\u001b[36m67\u001b[0m - \u001b[1mcid_count: 0, text_len: 31058, cid_chars_radio: 0.0\u001b[0m\n",
      "\u001b[32m2025-05-23 17:58:30.062\u001b[0m | \u001b[1mINFO    \u001b[0m | \u001b[36mmagic_pdf.libs.pdf_check\u001b[0m:\u001b[36mdetect_invalid_chars\u001b[0m:\u001b[36m67\u001b[0m - \u001b[1mcid_count: 0, text_len: 36976, cid_chars_radio: 0.0\u001b[0m\n",
      "\u001b[32m2025-05-23 17:58:31.649\u001b[0m | \u001b[1mINFO    \u001b[0m | \u001b[36mmagic_pdf.libs.pdf_check\u001b[0m:\u001b[36mdetect_invalid_chars\u001b[0m:\u001b[36m67\u001b[0m - \u001b[1mcid_count: 0, text_len: 29833, cid_chars_radio: 0.0\u001b[0m\n",
      "\u001b[32m2025-05-23 17:58:32.947\u001b[0m | \u001b[1mINFO    \u001b[0m | \u001b[36mmagic_pdf.libs.pdf_check\u001b[0m:\u001b[36mdetect_invalid_chars\u001b[0m:\u001b[36m67\u001b[0m - \u001b[1mcid_count: 0, text_len: 36687, cid_chars_radio: 0.0\u001b[0m\n",
      "\u001b[32m2025-05-23 17:58:33.673\u001b[0m | \u001b[1mINFO    \u001b[0m | \u001b[36mmagic_pdf.libs.pdf_check\u001b[0m:\u001b[36mdetect_invalid_chars\u001b[0m:\u001b[36m67\u001b[0m - \u001b[1mcid_count: 0, text_len: 27908, cid_chars_radio: 0.0\u001b[0m\n",
      "\u001b[32m2025-05-23 17:58:34.709\u001b[0m | \u001b[1mINFO    \u001b[0m | \u001b[36mmagic_pdf.libs.pdf_check\u001b[0m:\u001b[36mdetect_invalid_chars\u001b[0m:\u001b[36m67\u001b[0m - \u001b[1mcid_count: 2, text_len: 44944, cid_chars_radio: 4.451368795904741e-05\u001b[0m\n",
      "\u001b[32m2025-05-23 17:58:35.843\u001b[0m | \u001b[1mINFO    \u001b[0m | \u001b[36mmagic_pdf.libs.pdf_check\u001b[0m:\u001b[36mdetect_invalid_chars\u001b[0m:\u001b[36m67\u001b[0m - \u001b[1mcid_count: 0, text_len: 35915, cid_chars_radio: 0.0\u001b[0m\n",
      "\u001b[32m2025-05-23 17:58:38.674\u001b[0m | \u001b[1mINFO    \u001b[0m | \u001b[36mmagic_pdf.libs.pdf_check\u001b[0m:\u001b[36mdetect_invalid_chars\u001b[0m:\u001b[36m67\u001b[0m - \u001b[1mcid_count: 0, text_len: 24851, cid_chars_radio: 0.0\u001b[0m\n",
      "\u001b[32m2025-05-23 17:58:40.351\u001b[0m | \u001b[1mINFO    \u001b[0m | \u001b[36mmagic_pdf.libs.pdf_check\u001b[0m:\u001b[36mdetect_invalid_chars\u001b[0m:\u001b[36m67\u001b[0m - \u001b[1mcid_count: 0, text_len: 25078, cid_chars_radio: 0.0\u001b[0m\n",
      "\u001b[32m2025-05-23 17:58:40.900\u001b[0m | \u001b[1mINFO    \u001b[0m | \u001b[36mmagic_pdf.libs.pdf_check\u001b[0m:\u001b[36mdetect_invalid_chars\u001b[0m:\u001b[36m67\u001b[0m - \u001b[1mcid_count: 5, text_len: 17193, cid_chars_radio: 0.0002914432268594078\u001b[0m\n",
      "\u001b[32m2025-05-23 17:58:41.614\u001b[0m | \u001b[1mINFO    \u001b[0m | \u001b[36mmagic_pdf.libs.pdf_check\u001b[0m:\u001b[36mdetect_invalid_chars\u001b[0m:\u001b[36m67\u001b[0m - \u001b[1mcid_count: 0, text_len: 25109, cid_chars_radio: 0.0\u001b[0m\n",
      "\u001b[32m2025-05-23 17:58:42.334\u001b[0m | \u001b[1mINFO    \u001b[0m | \u001b[36mmagic_pdf.libs.pdf_check\u001b[0m:\u001b[36mdetect_invalid_chars\u001b[0m:\u001b[36m67\u001b[0m - \u001b[1mcid_count: 0, text_len: 21218, cid_chars_radio: 0.0\u001b[0m\n",
      "\u001b[32m2025-05-23 17:58:43.306\u001b[0m | \u001b[1mINFO    \u001b[0m | \u001b[36mmagic_pdf.libs.pdf_check\u001b[0m:\u001b[36mdetect_invalid_chars\u001b[0m:\u001b[36m67\u001b[0m - \u001b[1mcid_count: 9, text_len: 35841, cid_chars_radio: 0.00025156529516994635\u001b[0m\n",
      "\u001b[32m2025-05-23 17:58:44.086\u001b[0m | \u001b[1mINFO    \u001b[0m | \u001b[36mmagic_pdf.libs.pdf_check\u001b[0m:\u001b[36mdetect_invalid_chars\u001b[0m:\u001b[36m67\u001b[0m - \u001b[1mcid_count: 0, text_len: 28808, cid_chars_radio: 0.0\u001b[0m\n",
      "\u001b[32m2025-05-23 17:58:44.466\u001b[0m | \u001b[1mINFO    \u001b[0m | \u001b[36mmagic_pdf.libs.pdf_check\u001b[0m:\u001b[36mdetect_invalid_chars\u001b[0m:\u001b[36m67\u001b[0m - \u001b[1mcid_count: 0, text_len: 21835, cid_chars_radio: 0.0\u001b[0m\n",
      "\u001b[32m2025-05-23 17:58:45.612\u001b[0m | \u001b[1mINFO    \u001b[0m | \u001b[36mmagic_pdf.libs.pdf_check\u001b[0m:\u001b[36mdetect_invalid_chars\u001b[0m:\u001b[36m67\u001b[0m - \u001b[1mcid_count: 10, text_len: 57320, cid_chars_radio: 0.00017469079728879883\u001b[0m\n",
      "\u001b[32m2025-05-23 17:58:47.229\u001b[0m | \u001b[1mINFO    \u001b[0m | \u001b[36mmagic_pdf.libs.pdf_check\u001b[0m:\u001b[36mdetect_invalid_chars\u001b[0m:\u001b[36m67\u001b[0m - \u001b[1mcid_count: 0, text_len: 36574, cid_chars_radio: 0.0\u001b[0m\n",
      "\u001b[32m2025-05-23 17:58:48.245\u001b[0m | \u001b[1mINFO    \u001b[0m | \u001b[36mmagic_pdf.libs.pdf_check\u001b[0m:\u001b[36mdetect_invalid_chars\u001b[0m:\u001b[36m67\u001b[0m - \u001b[1mcid_count: 1, text_len: 45147, cid_chars_radio: 2.2153300841825433e-05\u001b[0m\n",
      "\u001b[32m2025-05-23 17:58:49.384\u001b[0m | \u001b[1mINFO    \u001b[0m | \u001b[36mmagic_pdf.libs.pdf_check\u001b[0m:\u001b[36mdetect_invalid_chars\u001b[0m:\u001b[36m67\u001b[0m - \u001b[1mcid_count: 3, text_len: 35482, cid_chars_radio: 8.459998308000338e-05\u001b[0m\n",
      "\u001b[32m2025-05-23 17:58:51.351\u001b[0m | \u001b[1mINFO    \u001b[0m | \u001b[36mmagic_pdf.libs.pdf_check\u001b[0m:\u001b[36mdetect_invalid_chars\u001b[0m:\u001b[36m67\u001b[0m - \u001b[1mcid_count: 7, text_len: 33771, cid_chars_radio: 0.00020759193357058124\u001b[0m\n",
      "\u001b[32m2025-05-23 17:58:52.585\u001b[0m | \u001b[1mINFO    \u001b[0m | \u001b[36mmagic_pdf.libs.pdf_check\u001b[0m:\u001b[36mdetect_invalid_chars\u001b[0m:\u001b[36m67\u001b[0m - \u001b[1mcid_count: 5, text_len: 27152, cid_chars_radio: 0.00018438617841206624\u001b[0m\n",
      "\u001b[32m2025-05-23 17:58:53.586\u001b[0m | \u001b[1mINFO    \u001b[0m | \u001b[36mmagic_pdf.libs.pdf_check\u001b[0m:\u001b[36mdetect_invalid_chars\u001b[0m:\u001b[36m67\u001b[0m - \u001b[1mcid_count: 0, text_len: 36168, cid_chars_radio: 0.0\u001b[0m\n",
      "\u001b[32m2025-05-23 17:58:54.790\u001b[0m | \u001b[1mINFO    \u001b[0m | \u001b[36mmagic_pdf.libs.pdf_check\u001b[0m:\u001b[36mdetect_invalid_chars\u001b[0m:\u001b[36m67\u001b[0m - \u001b[1mcid_count: 2, text_len: 34924, cid_chars_radio: 5.729017473503294e-05\u001b[0m\n",
      "\u001b[32m2025-05-23 17:58:55.559\u001b[0m | \u001b[1mINFO    \u001b[0m | \u001b[36mmagic_pdf.libs.pdf_check\u001b[0m:\u001b[36mdetect_invalid_chars\u001b[0m:\u001b[36m67\u001b[0m - \u001b[1mcid_count: 1, text_len: 16037, cid_chars_radio: 6.238303181534623e-05\u001b[0m\n",
      "\u001b[32m2025-05-23 17:58:56.213\u001b[0m | \u001b[1mINFO    \u001b[0m | \u001b[36mmagic_pdf.libs.pdf_check\u001b[0m:\u001b[36mdetect_invalid_chars\u001b[0m:\u001b[36m67\u001b[0m - \u001b[1mcid_count: 0, text_len: 23835, cid_chars_radio: 0.0\u001b[0m\n",
      "\u001b[32m2025-05-23 17:58:57.133\u001b[0m | \u001b[1mINFO    \u001b[0m | \u001b[36mmagic_pdf.libs.pdf_check\u001b[0m:\u001b[36mdetect_invalid_chars\u001b[0m:\u001b[36m67\u001b[0m - \u001b[1mcid_count: 4, text_len: 39694, cid_chars_radio: 0.0001008318628686665\u001b[0m\n",
      "\u001b[32m2025-05-23 17:58:58.137\u001b[0m | \u001b[1mINFO    \u001b[0m | \u001b[36mmagic_pdf.libs.pdf_check\u001b[0m:\u001b[36mdetect_invalid_chars\u001b[0m:\u001b[36m67\u001b[0m - \u001b[1mcid_count: 0, text_len: 41356, cid_chars_radio: 0.0\u001b[0m\n",
      "\u001b[32m2025-05-23 17:58:58.324\u001b[0m | \u001b[1mINFO    \u001b[0m | \u001b[36mmagic_pdf.model.doc_analyze_by_custom_model\u001b[0m:\u001b[36mbatch_doc_analyze\u001b[0m:\u001b[36m220\u001b[0m - \u001b[1mBatch 1/9: 200 pages/1730 pages\u001b[0m\n",
      "\u001b[32m2025-05-23 17:58:58.325\u001b[0m | \u001b[1mINFO    \u001b[0m | \u001b[36mmagic_pdf.model.doc_analyze_by_custom_model\u001b[0m:\u001b[36mmay_batch_image_analyze\u001b[0m:\u001b[36m275\u001b[0m - \u001b[1mgpu_memory: 24 GB, batch_ratio: 16\u001b[0m\n",
      "Layout Predict: 100%|██████████| 200/200 [00:10<00:00, 19.90it/s]\n",
      "MFD Predict: 100%|██████████| 200/200 [00:08<00:00, 24.60it/s]\n",
      "MFR Predict: 100%|██████████| 632/632 [00:03<00:00, 165.85it/s]\n",
      "OCR-det Predict: 100%|██████████| 200/200 [00:31<00:00,  6.27it/s]\n",
      "Table Predict: 100%|██████████| 84/84 [00:14<00:00,  5.60it/s]\n",
      "\u001b[32m2025-05-23 18:00:07.621\u001b[0m | \u001b[1mINFO    \u001b[0m | \u001b[36mmagic_pdf.model.doc_analyze_by_custom_model\u001b[0m:\u001b[36mbatch_doc_analyze\u001b[0m:\u001b[36m220\u001b[0m - \u001b[1mBatch 2/9: 400 pages/1730 pages\u001b[0m\n",
      "\u001b[32m2025-05-23 18:00:07.622\u001b[0m | \u001b[1mINFO    \u001b[0m | \u001b[36mmagic_pdf.model.doc_analyze_by_custom_model\u001b[0m:\u001b[36mmay_batch_image_analyze\u001b[0m:\u001b[36m275\u001b[0m - \u001b[1mgpu_memory: 24 GB, batch_ratio: 16\u001b[0m\n",
      "Layout Predict: 100%|██████████| 200/200 [00:09<00:00, 20.91it/s]\n",
      "MFD Predict: 100%|██████████| 200/200 [00:07<00:00, 25.35it/s]\n",
      "MFR Predict: 100%|██████████| 801/801 [00:05<00:00, 141.89it/s]\n",
      "OCR-det Predict: 100%|██████████| 200/200 [00:32<00:00,  6.22it/s]\n",
      "Table Predict: 100%|██████████| 74/74 [00:22<00:00,  3.34it/s]\n",
      "\u001b[32m2025-05-23 18:01:25.517\u001b[0m | \u001b[1mINFO    \u001b[0m | \u001b[36mmagic_pdf.model.doc_analyze_by_custom_model\u001b[0m:\u001b[36mbatch_doc_analyze\u001b[0m:\u001b[36m220\u001b[0m - \u001b[1mBatch 3/9: 600 pages/1730 pages\u001b[0m\n",
      "\u001b[32m2025-05-23 18:01:25.518\u001b[0m | \u001b[1mINFO    \u001b[0m | \u001b[36mmagic_pdf.model.doc_analyze_by_custom_model\u001b[0m:\u001b[36mmay_batch_image_analyze\u001b[0m:\u001b[36m275\u001b[0m - \u001b[1mgpu_memory: 24 GB, batch_ratio: 16\u001b[0m\n",
      "Layout Predict: 100%|██████████| 200/200 [00:09<00:00, 20.43it/s]\n",
      "MFD Predict: 100%|██████████| 200/200 [00:08<00:00, 24.59it/s]\n",
      "MFR Predict: 100%|██████████| 1525/1525 [2:52:37<00:00,  6.79s/it]  \n",
      "OCR-det Predict: 100%|██████████| 200/200 [00:31<00:00,  6.27it/s]\n",
      "Table Predict: 100%|██████████| 108/108 [00:25<00:00,  4.25it/s]\n",
      "\u001b[32m2025-05-23 20:55:20.977\u001b[0m | \u001b[1mINFO    \u001b[0m | \u001b[36mmagic_pdf.model.doc_analyze_by_custom_model\u001b[0m:\u001b[36mbatch_doc_analyze\u001b[0m:\u001b[36m220\u001b[0m - \u001b[1mBatch 4/9: 800 pages/1730 pages\u001b[0m\n",
      "\u001b[32m2025-05-23 20:55:20.979\u001b[0m | \u001b[1mINFO    \u001b[0m | \u001b[36mmagic_pdf.model.doc_analyze_by_custom_model\u001b[0m:\u001b[36mmay_batch_image_analyze\u001b[0m:\u001b[36m275\u001b[0m - \u001b[1mgpu_memory: 24 GB, batch_ratio: 16\u001b[0m\n",
      "Layout Predict: 100%|██████████| 200/200 [00:09<00:00, 20.18it/s]\n",
      "MFD Predict: 100%|██████████| 200/200 [00:08<00:00, 24.53it/s]\n",
      "MFR Predict: 100%|██████████| 1513/1513 [00:07<00:00, 210.13it/s]\n",
      "OCR-det Predict: 100%|██████████| 200/200 [00:36<00:00,  5.51it/s]\n",
      "Table Predict: 100%|██████████| 140/140 [00:30<00:00,  4.65it/s]\n",
      "\u001b[32m2025-05-23 20:56:53.123\u001b[0m | \u001b[1mINFO    \u001b[0m | \u001b[36mmagic_pdf.model.doc_analyze_by_custom_model\u001b[0m:\u001b[36mbatch_doc_analyze\u001b[0m:\u001b[36m220\u001b[0m - \u001b[1mBatch 5/9: 1000 pages/1730 pages\u001b[0m\n",
      "\u001b[32m2025-05-23 20:56:53.124\u001b[0m | \u001b[1mINFO    \u001b[0m | \u001b[36mmagic_pdf.model.doc_analyze_by_custom_model\u001b[0m:\u001b[36mmay_batch_image_analyze\u001b[0m:\u001b[36m275\u001b[0m - \u001b[1mgpu_memory: 24 GB, batch_ratio: 16\u001b[0m\n",
      "Layout Predict: 100%|██████████| 200/200 [00:09<00:00, 20.69it/s]\n",
      "MFD Predict: 100%|██████████| 200/200 [00:07<00:00, 25.65it/s]\n",
      "MFR Predict: 100%|██████████| 1394/1394 [00:06<00:00, 200.58it/s]\n",
      "OCR-det Predict: 100%|██████████| 200/200 [00:40<00:00,  4.94it/s]\n",
      "Table Predict: 100%|██████████| 87/87 [00:19<00:00,  4.39it/s]\n",
      "\u001b[32m2025-05-23 20:58:18.211\u001b[0m | \u001b[1mINFO    \u001b[0m | \u001b[36mmagic_pdf.model.doc_analyze_by_custom_model\u001b[0m:\u001b[36mbatch_doc_analyze\u001b[0m:\u001b[36m220\u001b[0m - \u001b[1mBatch 6/9: 1200 pages/1730 pages\u001b[0m\n",
      "\u001b[32m2025-05-23 20:58:18.212\u001b[0m | \u001b[1mINFO    \u001b[0m | \u001b[36mmagic_pdf.model.doc_analyze_by_custom_model\u001b[0m:\u001b[36mmay_batch_image_analyze\u001b[0m:\u001b[36m275\u001b[0m - \u001b[1mgpu_memory: 24 GB, batch_ratio: 16\u001b[0m\n",
      "Layout Predict: 100%|██████████| 200/200 [00:09<00:00, 20.69it/s]\n",
      "MFD Predict: 100%|██████████| 200/200 [00:07<00:00, 25.00it/s]\n",
      "MFR Predict: 100%|██████████| 1953/1953 [00:10<00:00, 184.31it/s]\n",
      "OCR-det Predict: 100%|██████████| 200/200 [00:33<00:00,  6.05it/s]\n",
      "Table Predict: 100%|██████████| 49/49 [00:12<00:00,  3.82it/s]\n",
      "\u001b[32m2025-05-23 20:59:32.778\u001b[0m | \u001b[1mINFO    \u001b[0m | \u001b[36mmagic_pdf.model.doc_analyze_by_custom_model\u001b[0m:\u001b[36mbatch_doc_analyze\u001b[0m:\u001b[36m220\u001b[0m - \u001b[1mBatch 7/9: 1400 pages/1730 pages\u001b[0m\n",
      "\u001b[32m2025-05-23 20:59:32.779\u001b[0m | \u001b[1mINFO    \u001b[0m | \u001b[36mmagic_pdf.model.doc_analyze_by_custom_model\u001b[0m:\u001b[36mmay_batch_image_analyze\u001b[0m:\u001b[36m275\u001b[0m - \u001b[1mgpu_memory: 24 GB, batch_ratio: 16\u001b[0m\n",
      "Layout Predict: 100%|██████████| 200/200 [00:09<00:00, 20.69it/s]\n",
      "MFD Predict: 100%|██████████| 200/200 [00:07<00:00, 25.09it/s]\n",
      "MFR Predict: 100%|██████████| 1239/1239 [00:07<00:00, 174.67it/s]\n",
      "OCR-det Predict: 100%|██████████| 200/200 [00:39<00:00,  5.12it/s]\n",
      "Table Predict: 100%|██████████| 79/79 [00:19<00:00,  3.97it/s]\n",
      "\u001b[32m2025-05-23 21:00:57.005\u001b[0m | \u001b[1mINFO    \u001b[0m | \u001b[36mmagic_pdf.model.doc_analyze_by_custom_model\u001b[0m:\u001b[36mbatch_doc_analyze\u001b[0m:\u001b[36m220\u001b[0m - \u001b[1mBatch 8/9: 1600 pages/1730 pages\u001b[0m\n",
      "\u001b[32m2025-05-23 21:00:57.006\u001b[0m | \u001b[1mINFO    \u001b[0m | \u001b[36mmagic_pdf.model.doc_analyze_by_custom_model\u001b[0m:\u001b[36mmay_batch_image_analyze\u001b[0m:\u001b[36m275\u001b[0m - \u001b[1mgpu_memory: 24 GB, batch_ratio: 16\u001b[0m\n",
      "Layout Predict: 100%|██████████| 200/200 [00:10<00:00, 19.43it/s]\n",
      "MFD Predict: 100%|██████████| 200/200 [00:08<00:00, 24.81it/s]\n",
      "MFR Predict: 100%|██████████| 1442/1442 [00:09<00:00, 153.13it/s]\n",
      "OCR-det Predict: 100%|██████████| 200/200 [00:34<00:00,  5.72it/s]\n",
      "Table Predict: 100%|██████████| 88/88 [00:15<00:00,  5.77it/s]\n",
      "\u001b[32m2025-05-23 21:02:15.446\u001b[0m | \u001b[1mINFO    \u001b[0m | \u001b[36mmagic_pdf.model.doc_analyze_by_custom_model\u001b[0m:\u001b[36mbatch_doc_analyze\u001b[0m:\u001b[36m220\u001b[0m - \u001b[1mBatch 9/9: 1730 pages/1730 pages\u001b[0m\n",
      "\u001b[32m2025-05-23 21:02:15.447\u001b[0m | \u001b[1mINFO    \u001b[0m | \u001b[36mmagic_pdf.model.doc_analyze_by_custom_model\u001b[0m:\u001b[36mmay_batch_image_analyze\u001b[0m:\u001b[36m275\u001b[0m - \u001b[1mgpu_memory: 24 GB, batch_ratio: 16\u001b[0m\n",
      "Layout Predict: 100%|██████████| 130/130 [00:06<00:00, 20.41it/s]\n",
      "MFD Predict: 100%|██████████| 130/130 [00:05<00:00, 25.65it/s]\n",
      "MFR Predict: 100%|██████████| 1273/1273 [00:06<00:00, 191.10it/s]\n",
      "OCR-det Predict: 100%|██████████| 130/130 [00:22<00:00,  5.75it/s]\n",
      "Table Predict: 100%|██████████| 68/68 [00:20<00:00,  3.36it/s]\n",
      "Processing pages: 100%|██████████| 5/5 [00:00<00:00,  6.73it/s]\n",
      "\u001b[32m2025-05-23 21:03:18.289\u001b[0m | \u001b[1mINFO    \u001b[0m | \u001b[36mmagic_pdf.tools.common\u001b[0m:\u001b[36m_do_parse\u001b[0m:\u001b[36m243\u001b[0m - \u001b[1mlocal output dir is d:\\DataAnalysis\\arxiv\\output\\2401.02333v3\\auto\u001b[0m\n",
      "Processing pages: 100%|██████████| 28/28 [00:02<00:00, 13.83it/s]\n",
      "OCR-rec Predict: 100%|██████████| 6/6 [00:00<00:00, 65.68it/s]\n",
      "\u001b[32m2025-05-23 21:03:21.319\u001b[0m | \u001b[1mINFO    \u001b[0m | \u001b[36mmagic_pdf.tools.common\u001b[0m:\u001b[36m_do_parse\u001b[0m:\u001b[36m243\u001b[0m - \u001b[1mlocal output dir is d:\\DataAnalysis\\arxiv\\output\\2401.02851v2\\auto\u001b[0m\n",
      "Processing pages: 100%|██████████| 7/7 [00:01<00:00,  4.10it/s]\n",
      "\u001b[32m2025-05-23 21:03:23.971\u001b[0m | \u001b[1mINFO    \u001b[0m | \u001b[36mmagic_pdf.tools.common\u001b[0m:\u001b[36m_do_parse\u001b[0m:\u001b[36m243\u001b[0m - \u001b[1mlocal output dir is d:\\DataAnalysis\\arxiv\\output\\2401.06800v1\\auto\u001b[0m\n",
      "Processing pages: 100%|██████████| 13/13 [00:02<00:00,  4.76it/s]\n",
      "\u001b[32m2025-05-23 21:03:28.043\u001b[0m | \u001b[1mINFO    \u001b[0m | \u001b[36mmagic_pdf.tools.common\u001b[0m:\u001b[36m_do_parse\u001b[0m:\u001b[36m243\u001b[0m - \u001b[1mlocal output dir is d:\\DataAnalysis\\arxiv\\output\\2401.06954v2\\auto\u001b[0m\n",
      "Processing pages: 100%|██████████| 12/12 [00:01<00:00,  7.22it/s]\n",
      "\u001b[32m2025-05-23 21:03:30.534\u001b[0m | \u001b[1mINFO    \u001b[0m | \u001b[36mmagic_pdf.tools.common\u001b[0m:\u001b[36m_do_parse\u001b[0m:\u001b[36m243\u001b[0m - \u001b[1mlocal output dir is d:\\DataAnalysis\\arxiv\\output\\2401.07793v1\\auto\u001b[0m\n",
      "Processing pages: 100%|██████████| 33/33 [00:04<00:00,  6.70it/s]\n",
      "OCR-rec Predict: 100%|██████████| 55/55 [00:00<00:00, 135.94it/s]\n",
      "\u001b[32m2025-05-23 21:03:37.208\u001b[0m | \u001b[1mINFO    \u001b[0m | \u001b[36mmagic_pdf.tools.common\u001b[0m:\u001b[36m_do_parse\u001b[0m:\u001b[36m243\u001b[0m - \u001b[1mlocal output dir is d:\\DataAnalysis\\arxiv\\output\\2401.08406v3\\auto\u001b[0m\n",
      "Processing pages: 100%|██████████| 13/13 [00:01<00:00,  6.91it/s]\n",
      "OCR-rec Predict: 100%|██████████| 13/13 [00:00<00:00, 74.43it/s]\n",
      "\u001b[32m2025-05-23 21:03:40.365\u001b[0m | \u001b[1mINFO    \u001b[0m | \u001b[36mmagic_pdf.tools.common\u001b[0m:\u001b[36m_do_parse\u001b[0m:\u001b[36m243\u001b[0m - \u001b[1mlocal output dir is d:\\DataAnalysis\\arxiv\\output\\2401.09092v1\\auto\u001b[0m\n",
      "Processing pages: 100%|██████████| 14/14 [00:01<00:00, 10.88it/s]\n",
      "\u001b[32m2025-05-23 21:03:42.520\u001b[0m | \u001b[1mINFO    \u001b[0m | \u001b[36mmagic_pdf.tools.common\u001b[0m:\u001b[36m_do_parse\u001b[0m:\u001b[36m243\u001b[0m - \u001b[1mlocal output dir is d:\\DataAnalysis\\arxiv\\output\\2401.10286v3\\auto\u001b[0m\n",
      "Processing pages: 100%|██████████| 10/10 [00:03<00:00,  3.19it/s]\n",
      "\u001b[32m2025-05-23 21:03:46.928\u001b[0m | \u001b[1mINFO    \u001b[0m | \u001b[36mmagic_pdf.tools.common\u001b[0m:\u001b[36m_do_parse\u001b[0m:\u001b[36m243\u001b[0m - \u001b[1mlocal output dir is d:\\DataAnalysis\\arxiv\\output\\2401.11391v1\\auto\u001b[0m\n",
      "Processing pages: 100%|██████████| 18/18 [00:02<00:00,  6.41it/s]\n",
      "\u001b[32m2025-05-23 21:03:50.942\u001b[0m | \u001b[1mINFO    \u001b[0m | \u001b[36mmagic_pdf.tools.common\u001b[0m:\u001b[36m_do_parse\u001b[0m:\u001b[36m243\u001b[0m - \u001b[1mlocal output dir is d:\\DataAnalysis\\arxiv\\output\\2401.12599v1\\auto\u001b[0m\n",
      "Processing pages:  94%|█████████▍| 16/17 [00:01<00:00,  8.80it/s]\u001b[32m2025-05-23 21:03:52.762\u001b[0m | \u001b[33m\u001b[1mWARNING \u001b[0m | \u001b[36mmagic_pdf.pdf_parse_union_core_v2\u001b[0m:\u001b[36mparse_page_core\u001b[0m:\u001b[36m835\u001b[0m - \u001b[33m\u001b[1mskip this page, not found useful bbox, page_id: 16\u001b[0m\n",
      "Processing pages: 100%|██████████| 17/17 [00:01<00:00,  9.80it/s]\n",
      "OCR-rec Predict: 100%|██████████| 28/28 [00:00<00:00, 68.96it/s]\n",
      "\u001b[32m2025-05-23 21:03:54.186\u001b[0m | \u001b[1mINFO    \u001b[0m | \u001b[36mmagic_pdf.tools.common\u001b[0m:\u001b[36m_do_parse\u001b[0m:\u001b[36m243\u001b[0m - \u001b[1mlocal output dir is d:\\DataAnalysis\\arxiv\\output\\2401.12998v1\\auto\u001b[0m\n",
      "Processing pages: 100%|██████████| 13/13 [00:03<00:00,  3.95it/s]\n",
      "\u001b[32m2025-05-23 21:03:59.086\u001b[0m | \u001b[1mINFO    \u001b[0m | \u001b[36mmagic_pdf.tools.common\u001b[0m:\u001b[36m_do_parse\u001b[0m:\u001b[36m243\u001b[0m - \u001b[1mlocal output dir is d:\\DataAnalysis\\arxiv\\output\\2401.13256v3\\auto\u001b[0m\n",
      "Processing pages: 100%|██████████| 16/16 [00:03<00:00,  5.00it/s]\n",
      "OCR-rec Predict: 100%|██████████| 178/178 [00:00<00:00, 203.11it/s]\n",
      "\u001b[32m2025-05-23 21:04:05.002\u001b[0m | \u001b[1mINFO    \u001b[0m | \u001b[36mmagic_pdf.tools.common\u001b[0m:\u001b[36m_do_parse\u001b[0m:\u001b[36m243\u001b[0m - \u001b[1mlocal output dir is d:\\DataAnalysis\\arxiv\\output\\2401.15378v5\\auto\u001b[0m\n",
      "Processing pages: 100%|██████████| 14/14 [00:02<00:00,  6.57it/s]\n",
      "\u001b[32m2025-05-23 21:04:08.515\u001b[0m | \u001b[1mINFO    \u001b[0m | \u001b[36mmagic_pdf.tools.common\u001b[0m:\u001b[36m_do_parse\u001b[0m:\u001b[36m243\u001b[0m - \u001b[1mlocal output dir is d:\\DataAnalysis\\arxiv\\output\\2401.15391v1\\auto\u001b[0m\n",
      "Processing pages: 100%|██████████| 16/16 [00:02<00:00,  5.34it/s]\n",
      "\u001b[32m2025-05-23 21:04:12.902\u001b[0m | \u001b[1mINFO    \u001b[0m | \u001b[36mmagic_pdf.tools.common\u001b[0m:\u001b[36m_do_parse\u001b[0m:\u001b[36m243\u001b[0m - \u001b[1mlocal output dir is d:\\DataAnalysis\\arxiv\\output\\2401.15884v3\\auto\u001b[0m\n",
      "Processing pages: 100%|██████████| 31/31 [00:04<00:00,  7.42it/s]\n",
      "\u001b[32m2025-05-23 21:04:18.600\u001b[0m | \u001b[1mINFO    \u001b[0m | \u001b[36mmagic_pdf.tools.common\u001b[0m:\u001b[36m_do_parse\u001b[0m:\u001b[36m243\u001b[0m - \u001b[1mlocal output dir is d:\\DataAnalysis\\arxiv\\output\\2401.17043v3\\auto\u001b[0m\n",
      "Processing pages:  97%|█████████▋| 31/32 [00:04<00:00,  9.82it/s]\u001b[32m2025-05-23 21:04:22.904\u001b[0m | \u001b[33m\u001b[1mWARNING \u001b[0m | \u001b[36mmagic_pdf.pdf_parse_union_core_v2\u001b[0m:\u001b[36mparse_page_core\u001b[0m:\u001b[36m835\u001b[0m - \u001b[33m\u001b[1mskip this page, not found useful bbox, page_id: 31\u001b[0m\n",
      "Processing pages: 100%|██████████| 32/32 [00:04<00:00,  7.78it/s]\n",
      "OCR-rec Predict: 100%|██████████| 25/25 [00:00<00:00, 111.01it/s]\n",
      "\u001b[32m2025-05-23 21:04:24.266\u001b[0m | \u001b[1mINFO    \u001b[0m | \u001b[36mmagic_pdf.tools.common\u001b[0m:\u001b[36m_do_parse\u001b[0m:\u001b[36m243\u001b[0m - \u001b[1mlocal output dir is d:\\DataAnalysis\\arxiv\\output\\2401.17244v3\\auto\u001b[0m\n",
      "Processing pages: 100%|██████████| 27/27 [00:02<00:00, 12.19it/s]\n",
      "OCR-rec Predict: 100%|██████████| 2/2 [00:00<00:00, 166.32it/s]\n",
      "\u001b[32m2025-05-23 21:04:27.894\u001b[0m | \u001b[1mINFO    \u001b[0m | \u001b[36mmagic_pdf.tools.common\u001b[0m:\u001b[36m_do_parse\u001b[0m:\u001b[36m243\u001b[0m - \u001b[1mlocal output dir is d:\\DataAnalysis\\arxiv\\output\\2401.17268v1\\auto\u001b[0m\n",
      "Processing pages: 100%|██████████| 18/18 [00:02<00:00,  8.07it/s]\n",
      "\u001b[32m2025-05-23 21:04:31.265\u001b[0m | \u001b[1mINFO    \u001b[0m | \u001b[36mmagic_pdf.tools.common\u001b[0m:\u001b[36m_do_parse\u001b[0m:\u001b[36m243\u001b[0m - \u001b[1mlocal output dir is d:\\DataAnalysis\\arxiv\\output\\2401.17645v1\\auto\u001b[0m\n",
      "Processing pages: 100%|██████████| 24/24 [00:03<00:00,  6.50it/s]\n",
      "\u001b[32m2025-05-23 21:04:36.541\u001b[0m | \u001b[1mINFO    \u001b[0m | \u001b[36mmagic_pdf.tools.common\u001b[0m:\u001b[36m_do_parse\u001b[0m:\u001b[36m243\u001b[0m - \u001b[1mlocal output dir is d:\\DataAnalysis\\arxiv\\output\\2402.00247v2\\auto\u001b[0m\n",
      "Processing pages: 100%|██████████| 8/8 [00:01<00:00,  4.54it/s]\n",
      "\u001b[32m2025-05-23 21:04:39.189\u001b[0m | \u001b[1mINFO    \u001b[0m | \u001b[36mmagic_pdf.tools.common\u001b[0m:\u001b[36m_do_parse\u001b[0m:\u001b[36m243\u001b[0m - \u001b[1mlocal output dir is d:\\DataAnalysis\\arxiv\\output\\2402.00746v8\\auto\u001b[0m\n",
      "Processing pages: 100%|██████████| 9/9 [00:02<00:00,  3.76it/s]\n",
      "\u001b[32m2025-05-23 21:04:42.735\u001b[0m | \u001b[1mINFO    \u001b[0m | \u001b[36mmagic_pdf.tools.common\u001b[0m:\u001b[36m_do_parse\u001b[0m:\u001b[36m243\u001b[0m - \u001b[1mlocal output dir is d:\\DataAnalysis\\arxiv\\output\\2402.01364v2\\auto\u001b[0m\n",
      "Processing pages: 100%|██████████| 12/12 [00:01<00:00,  7.81it/s]\n",
      "OCR-rec Predict: 100%|██████████| 3/3 [00:00<00:00, 25.77it/s]\n",
      "\u001b[32m2025-05-23 21:04:45.127\u001b[0m | \u001b[1mINFO    \u001b[0m | \u001b[36mmagic_pdf.tools.common\u001b[0m:\u001b[36m_do_parse\u001b[0m:\u001b[36m243\u001b[0m - \u001b[1mlocal output dir is d:\\DataAnalysis\\arxiv\\output\\2402.01722v1\\auto\u001b[0m\n",
      "Processing pages: 100%|██████████| 22/22 [00:01<00:00, 13.72it/s]\n",
      "\u001b[32m2025-05-23 21:04:47.738\u001b[0m | \u001b[1mINFO    \u001b[0m | \u001b[36mmagic_pdf.tools.common\u001b[0m:\u001b[36m_do_parse\u001b[0m:\u001b[36m243\u001b[0m - \u001b[1mlocal output dir is d:\\DataAnalysis\\arxiv\\output\\2402.01733v1\\auto\u001b[0m\n",
      "Processing pages: 100%|██████████| 23/23 [00:02<00:00,  8.53it/s]\n",
      "OCR-rec Predict: 100%|██████████| 38/38 [00:00<00:00, 130.35it/s]\n",
      "\u001b[32m2025-05-23 21:04:51.777\u001b[0m | \u001b[1mINFO    \u001b[0m | \u001b[36mmagic_pdf.tools.common\u001b[0m:\u001b[36m_do_parse\u001b[0m:\u001b[36m243\u001b[0m - \u001b[1mlocal output dir is d:\\DataAnalysis\\arxiv\\output\\2402.01741v2\\auto\u001b[0m\n",
      "Processing pages: 100%|██████████| 18/18 [00:02<00:00,  6.64it/s]\n",
      "\u001b[32m2025-05-23 21:04:55.724\u001b[0m | \u001b[1mINFO    \u001b[0m | \u001b[36mmagic_pdf.tools.common\u001b[0m:\u001b[36m_do_parse\u001b[0m:\u001b[36m243\u001b[0m - \u001b[1mlocal output dir is d:\\DataAnalysis\\arxiv\\output\\2402.01767v2\\auto\u001b[0m\n",
      "Processing pages: 100%|██████████| 15/15 [00:02<00:00,  5.10it/s]\n",
      "OCR-rec Predict: 100%|██████████| 2/2 [00:00<00:00, 24.20it/s]\n",
      "\u001b[32m2025-05-23 21:05:00.038\u001b[0m | \u001b[1mINFO    \u001b[0m | \u001b[36mmagic_pdf.tools.common\u001b[0m:\u001b[36m_do_parse\u001b[0m:\u001b[36m243\u001b[0m - \u001b[1mlocal output dir is d:\\DataAnalysis\\arxiv\\output\\2402.02008v1\\auto\u001b[0m\n",
      "Processing pages: 100%|██████████| 23/23 [00:06<00:00,  3.58it/s]\n",
      "OCR-rec Predict: 100%|██████████| 1/1 [00:00<00:00, 27.37it/s]\n",
      "\u001b[32m2025-05-23 21:05:09.182\u001b[0m | \u001b[1mINFO    \u001b[0m | \u001b[36mmagic_pdf.tools.common\u001b[0m:\u001b[36m_do_parse\u001b[0m:\u001b[36m243\u001b[0m - \u001b[1mlocal output dir is d:\\DataAnalysis\\arxiv\\output\\2402.02044v1\\auto\u001b[0m\n",
      "Processing pages: 100%|██████████| 11/11 [00:03<00:00,  3.08it/s]\n",
      "OCR-rec Predict: 100%|██████████| 1/1 [00:00<00:00, 30.26it/s]\n",
      "\u001b[32m2025-05-23 21:05:14.600\u001b[0m | \u001b[1mINFO    \u001b[0m | \u001b[36mmagic_pdf.tools.common\u001b[0m:\u001b[36m_do_parse\u001b[0m:\u001b[36m243\u001b[0m - \u001b[1mlocal output dir is d:\\DataAnalysis\\arxiv\\output\\2402.02764v1\\auto\u001b[0m\n",
      "Processing pages: 100%|██████████| 8/8 [00:00<00:00,  8.49it/s]\n",
      "\u001b[32m2025-05-23 21:05:16.207\u001b[0m | \u001b[1mINFO    \u001b[0m | \u001b[36mmagic_pdf.tools.common\u001b[0m:\u001b[36m_do_parse\u001b[0m:\u001b[36m243\u001b[0m - \u001b[1mlocal output dir is d:\\DataAnalysis\\arxiv\\output\\2402.03053v1\\auto\u001b[0m\n",
      "Processing pages: 100%|██████████| 26/26 [00:03<00:00,  7.27it/s]\n",
      "OCR-rec Predict: 100%|██████████| 8/8 [00:00<00:00, 69.99it/s]\n",
      "\u001b[32m2025-05-23 21:05:21.278\u001b[0m | \u001b[1mINFO    \u001b[0m | \u001b[36mmagic_pdf.tools.common\u001b[0m:\u001b[36m_do_parse\u001b[0m:\u001b[36m243\u001b[0m - \u001b[1mlocal output dir is d:\\DataAnalysis\\arxiv\\output\\2402.04206v1\\auto\u001b[0m\n",
      "Processing pages: 100%|██████████| 24/24 [00:03<00:00,  6.72it/s]\n",
      "OCR-rec Predict: 100%|██████████| 1/1 [00:00<00:00, 58.48it/s]\n",
      "\u001b[32m2025-05-23 21:05:26.540\u001b[0m | \u001b[1mINFO    \u001b[0m | \u001b[36mmagic_pdf.tools.common\u001b[0m:\u001b[36m_do_parse\u001b[0m:\u001b[36m243\u001b[0m - \u001b[1mlocal output dir is d:\\DataAnalysis\\arxiv\\output\\2402.04411v2\\auto\u001b[0m\n",
      "Processing pages: 100%|██████████| 11/11 [00:03<00:00,  3.33it/s]\n",
      "OCR-rec Predict: 100%|██████████| 17/17 [00:00<00:00, 99.14it/s]\n",
      "\u001b[32m2025-05-23 21:05:32.272\u001b[0m | \u001b[1mINFO    \u001b[0m | \u001b[36mmagic_pdf.tools.common\u001b[0m:\u001b[36m_do_parse\u001b[0m:\u001b[36m243\u001b[0m - \u001b[1mlocal output dir is d:\\DataAnalysis\\arxiv\\output\\2402.05128v3\\auto\u001b[0m\n",
      "Processing pages: 100%|██████████| 15/15 [00:01<00:00, 12.90it/s]\n",
      "\u001b[32m2025-05-23 21:05:34.539\u001b[0m | \u001b[1mINFO    \u001b[0m | \u001b[36mmagic_pdf.tools.common\u001b[0m:\u001b[36m_do_parse\u001b[0m:\u001b[36m243\u001b[0m - \u001b[1mlocal output dir is d:\\DataAnalysis\\arxiv\\output\\2402.05131v3\\auto\u001b[0m\n",
      "Processing pages: 100%|██████████| 12/12 [00:02<00:00,  5.13it/s]\n",
      "OCR-rec Predict: 100%|██████████| 1/1 [00:00<00:00, 37.24it/s]\n",
      "\u001b[32m2025-05-23 21:05:38.202\u001b[0m | \u001b[1mINFO    \u001b[0m | \u001b[36mmagic_pdf.tools.common\u001b[0m:\u001b[36m_do_parse\u001b[0m:\u001b[36m243\u001b[0m - \u001b[1mlocal output dir is d:\\DataAnalysis\\arxiv\\output\\2402.05135v1\\auto\u001b[0m\n",
      "Processing pages: 100%|██████████| 8/8 [00:01<00:00,  4.12it/s]\n",
      "OCR-rec Predict: 100%|██████████| 9/9 [00:00<00:00, 34.60it/s]\n",
      "\u001b[32m2025-05-23 21:05:41.370\u001b[0m | \u001b[1mINFO    \u001b[0m | \u001b[36mmagic_pdf.tools.common\u001b[0m:\u001b[36m_do_parse\u001b[0m:\u001b[36m243\u001b[0m - \u001b[1mlocal output dir is d:\\DataAnalysis\\arxiv\\output\\2402.06764v3\\auto\u001b[0m\n",
      "Processing pages: 100%|██████████| 14/14 [00:02<00:00,  5.05it/s]\n",
      "\u001b[32m2025-05-23 21:05:45.467\u001b[0m | \u001b[1mINFO    \u001b[0m | \u001b[36mmagic_pdf.tools.common\u001b[0m:\u001b[36m_do_parse\u001b[0m:\u001b[36m243\u001b[0m - \u001b[1mlocal output dir is d:\\DataAnalysis\\arxiv\\output\\2402.07016v1\\auto\u001b[0m\n",
      "Processing pages: 100%|██████████| 22/22 [00:02<00:00,  7.54it/s]\n",
      "\u001b[32m2025-05-23 21:05:49.578\u001b[0m | \u001b[1mINFO    \u001b[0m | \u001b[36mmagic_pdf.tools.common\u001b[0m:\u001b[36m_do_parse\u001b[0m:\u001b[36m243\u001b[0m - \u001b[1mlocal output dir is d:\\DataAnalysis\\arxiv\\output\\2402.07483v2\\auto\u001b[0m\n",
      "Processing pages: 100%|██████████| 23/23 [00:03<00:00,  7.01it/s]\n",
      "\u001b[32m2025-05-23 21:05:54.172\u001b[0m | \u001b[1mINFO    \u001b[0m | \u001b[36mmagic_pdf.tools.common\u001b[0m:\u001b[36m_do_parse\u001b[0m:\u001b[36m243\u001b[0m - \u001b[1mlocal output dir is d:\\DataAnalysis\\arxiv\\output\\2402.07630v3\\auto\u001b[0m\n",
      "Processing pages: 100%|██████████| 7/7 [00:01<00:00,  3.97it/s]\n",
      "\u001b[32m2025-05-23 21:05:56.850\u001b[0m | \u001b[1mINFO    \u001b[0m | \u001b[36mmagic_pdf.tools.common\u001b[0m:\u001b[36m_do_parse\u001b[0m:\u001b[36m243\u001b[0m - \u001b[1mlocal output dir is d:\\DataAnalysis\\arxiv\\output\\2402.07688v2\\auto\u001b[0m\n",
      "Processing pages: 100%|██████████| 27/27 [00:03<00:00,  7.24it/s]\n",
      "\u001b[32m2025-05-23 21:06:02.024\u001b[0m | \u001b[1mINFO    \u001b[0m | \u001b[36mmagic_pdf.tools.common\u001b[0m:\u001b[36m_do_parse\u001b[0m:\u001b[36m243\u001b[0m - \u001b[1mlocal output dir is d:\\DataAnalysis\\arxiv\\output\\2402.07812v2\\auto\u001b[0m\n",
      "Processing pages: 100%|██████████| 30/30 [00:06<00:00,  4.31it/s]\n",
      "\u001b[32m2025-05-23 21:06:11.826\u001b[0m | \u001b[1mINFO    \u001b[0m | \u001b[36mmagic_pdf.tools.common\u001b[0m:\u001b[36m_do_parse\u001b[0m:\u001b[36m243\u001b[0m - \u001b[1mlocal output dir is d:\\DataAnalysis\\arxiv\\output\\2402.07867v3\\auto\u001b[0m\n",
      "Processing pages: 100%|██████████| 6/6 [00:01<00:00,  3.92it/s]\n",
      "\u001b[32m2025-05-23 21:06:14.215\u001b[0m | \u001b[1mINFO    \u001b[0m | \u001b[36mmagic_pdf.tools.common\u001b[0m:\u001b[36m_do_parse\u001b[0m:\u001b[36m243\u001b[0m - \u001b[1mlocal output dir is d:\\DataAnalysis\\arxiv\\output\\2402.08416v1\\auto\u001b[0m\n",
      "Processing pages: 100%|██████████| 67/67 [00:08<00:00,  8.34it/s]\n",
      "\u001b[32m2025-05-23 21:06:24.416\u001b[0m | \u001b[1mINFO    \u001b[0m | \u001b[36mmagic_pdf.tools.common\u001b[0m:\u001b[36m_do_parse\u001b[0m:\u001b[36m243\u001b[0m - \u001b[1mlocal output dir is d:\\DataAnalysis\\arxiv\\output\\2402.09906v3\\auto\u001b[0m\n",
      "Processing pages: 100%|██████████| 20/20 [00:03<00:00,  5.86it/s]\n",
      "OCR-rec Predict: 100%|██████████| 1/1 [00:00<00:00, 27.46it/s]\n",
      "\u001b[32m2025-05-23 21:06:29.161\u001b[0m | \u001b[1mINFO    \u001b[0m | \u001b[36mmagic_pdf.tools.common\u001b[0m:\u001b[36m_do_parse\u001b[0m:\u001b[36m243\u001b[0m - \u001b[1mlocal output dir is d:\\DataAnalysis\\arxiv\\output\\2402.11034v2\\auto\u001b[0m\n",
      "Processing pages: 100%|██████████| 11/11 [00:03<00:00,  3.34it/s]\n",
      "\u001b[32m2025-05-23 21:06:33.971\u001b[0m | \u001b[1mINFO    \u001b[0m | \u001b[36mmagic_pdf.tools.common\u001b[0m:\u001b[36m_do_parse\u001b[0m:\u001b[36m243\u001b[0m - \u001b[1mlocal output dir is d:\\DataAnalysis\\arxiv\\output\\2402.11626v1\\auto\u001b[0m\n",
      "Processing pages: 100%|██████████| 10/10 [00:01<00:00,  5.49it/s]\n",
      "\u001b[32m2025-05-23 21:06:36.829\u001b[0m | \u001b[1mINFO    \u001b[0m | \u001b[36mmagic_pdf.tools.common\u001b[0m:\u001b[36m_do_parse\u001b[0m:\u001b[36m243\u001b[0m - \u001b[1mlocal output dir is d:\\DataAnalysis\\arxiv\\output\\2402.11794v1\\auto\u001b[0m\n",
      "Processing pages: 100%|██████████| 12/12 [00:01<00:00,  7.29it/s]\n",
      "\u001b[32m2025-05-23 21:06:39.843\u001b[0m | \u001b[1mINFO    \u001b[0m | \u001b[36mmagic_pdf.tools.common\u001b[0m:\u001b[36m_do_parse\u001b[0m:\u001b[36m243\u001b[0m - \u001b[1mlocal output dir is d:\\DataAnalysis\\arxiv\\output\\2402.12177v4\\auto\u001b[0m\n",
      "Processing pages: 100%|██████████| 16/16 [00:03<00:00,  4.12it/s]\n",
      "OCR-rec Predict: 100%|██████████| 1/1 [00:00<00:00, 32.66it/s]\n",
      "\u001b[32m2025-05-23 21:06:45.416\u001b[0m | \u001b[1mINFO    \u001b[0m | \u001b[36mmagic_pdf.tools.common\u001b[0m:\u001b[36m_do_parse\u001b[0m:\u001b[36m243\u001b[0m - \u001b[1mlocal output dir is d:\\DataAnalysis\\arxiv\\output\\2402.12317v2\\auto\u001b[0m\n",
      "Processing pages: 100%|██████████| 19/19 [00:03<00:00,  5.40it/s]\n",
      "\u001b[32m2025-05-23 21:06:50.490\u001b[0m | \u001b[1mINFO    \u001b[0m | \u001b[36mmagic_pdf.tools.common\u001b[0m:\u001b[36m_do_parse\u001b[0m:\u001b[36m243\u001b[0m - \u001b[1mlocal output dir is d:\\DataAnalysis\\arxiv\\output\\2402.13178v2\\auto\u001b[0m\n",
      "Processing pages: 100%|██████████| 12/12 [00:02<00:00,  5.00it/s]\n",
      "OCR-rec Predict: 100%|██████████| 5/5 [00:00<00:00, 25.02it/s]\n",
      "\u001b[32m2025-05-23 21:06:54.505\u001b[0m | \u001b[1mINFO    \u001b[0m | \u001b[36mmagic_pdf.tools.common\u001b[0m:\u001b[36m_do_parse\u001b[0m:\u001b[36m243\u001b[0m - \u001b[1mlocal output dir is d:\\DataAnalysis\\arxiv\\output\\2402.13542v2\\auto\u001b[0m\n",
      "Processing pages: 100%|██████████| 19/19 [00:02<00:00,  6.46it/s]\n",
      "\u001b[32m2025-05-23 21:06:59.006\u001b[0m | \u001b[1mINFO    \u001b[0m | \u001b[36mmagic_pdf.tools.common\u001b[0m:\u001b[36m_do_parse\u001b[0m:\u001b[36m243\u001b[0m - \u001b[1mlocal output dir is d:\\DataAnalysis\\arxiv\\output\\2402.13547v2\\auto\u001b[0m\n",
      "Processing pages: 100%|██████████| 15/15 [00:02<00:00,  5.17it/s]\n",
      "\u001b[32m2025-05-23 21:07:03.291\u001b[0m | \u001b[1mINFO    \u001b[0m | \u001b[36mmagic_pdf.tools.common\u001b[0m:\u001b[36m_do_parse\u001b[0m:\u001b[36m243\u001b[0m - \u001b[1mlocal output dir is d:\\DataAnalysis\\arxiv\\output\\2402.13625v2\\auto\u001b[0m\n",
      "Processing pages: 100%|██████████| 13/13 [00:01<00:00,  9.23it/s]\n",
      "\u001b[32m2025-05-23 21:07:05.451\u001b[0m | \u001b[1mINFO    \u001b[0m | \u001b[36mmagic_pdf.tools.common\u001b[0m:\u001b[36m_do_parse\u001b[0m:\u001b[36m243\u001b[0m - \u001b[1mlocal output dir is d:\\DataAnalysis\\arxiv\\output\\2402.14318v1\\auto\u001b[0m\n",
      "Processing pages: 100%|██████████| 13/13 [00:04<00:00,  3.21it/s]\n",
      "\u001b[32m2025-05-23 21:07:11.450\u001b[0m | \u001b[1mINFO    \u001b[0m | \u001b[36mmagic_pdf.tools.common\u001b[0m:\u001b[36m_do_parse\u001b[0m:\u001b[36m243\u001b[0m - \u001b[1mlocal output dir is d:\\DataAnalysis\\arxiv\\output\\2402.14480v1\\auto\u001b[0m\n",
      "Processing pages: 100%|██████████| 18/18 [00:04<00:00,  4.47it/s]\n",
      "OCR-rec Predict: 100%|██████████| 1/1 [00:00<00:00, 32.20it/s]\n",
      "\u001b[32m2025-05-23 21:07:17.770\u001b[0m | \u001b[1mINFO    \u001b[0m | \u001b[36mmagic_pdf.tools.common\u001b[0m:\u001b[36m_do_parse\u001b[0m:\u001b[36m243\u001b[0m - \u001b[1mlocal output dir is d:\\DataAnalysis\\arxiv\\output\\2402.15301v2\\auto\u001b[0m\n",
      "Processing pages: 100%|██████████| 16/16 [00:02<00:00,  5.47it/s]\n",
      "\u001b[32m2025-05-23 21:07:22.052\u001b[0m | \u001b[1mINFO    \u001b[0m | \u001b[36mmagic_pdf.tools.common\u001b[0m:\u001b[36m_do_parse\u001b[0m:\u001b[36m243\u001b[0m - \u001b[1mlocal output dir is d:\\DataAnalysis\\arxiv\\output\\2402.16063v4\\auto\u001b[0m\n",
      "Processing pages: 100%|██████████| 13/13 [00:02<00:00,  5.11it/s]\n",
      "\u001b[32m2025-05-23 21:07:25.947\u001b[0m | \u001b[1mINFO    \u001b[0m | \u001b[36mmagic_pdf.tools.common\u001b[0m:\u001b[36m_do_parse\u001b[0m:\u001b[36m243\u001b[0m - \u001b[1mlocal output dir is d:\\DataAnalysis\\arxiv\\output\\2402.16457v2\\auto\u001b[0m\n",
      "Processing pages: 100%|██████████| 16/16 [00:03<00:00,  4.97it/s]\n",
      "\u001b[32m2025-05-23 21:07:30.689\u001b[0m | \u001b[1mINFO    \u001b[0m | \u001b[36mmagic_pdf.tools.common\u001b[0m:\u001b[36m_do_parse\u001b[0m:\u001b[36m243\u001b[0m - \u001b[1mlocal output dir is d:\\DataAnalysis\\arxiv\\output\\2402.16829v1\\auto\u001b[0m\n",
      "Processing pages: 100%|██████████| 19/19 [00:03<00:00,  4.79it/s]\n",
      "OCR-rec Predict: 100%|██████████| 16/16 [00:00<00:00, 90.99it/s]\n",
      "\u001b[32m2025-05-23 21:07:36.639\u001b[0m | \u001b[1mINFO    \u001b[0m | \u001b[36mmagic_pdf.tools.common\u001b[0m:\u001b[36m_do_parse\u001b[0m:\u001b[36m243\u001b[0m - \u001b[1mlocal output dir is d:\\DataAnalysis\\arxiv\\output\\2402.17753v1\\auto\u001b[0m\n",
      "Processing pages: 100%|██████████| 42/42 [00:06<00:00,  6.61it/s]\n",
      "OCR-rec Predict: 100%|██████████| 22/22 [00:00<00:00, 195.97it/s]\n",
      "\u001b[32m2025-05-23 21:07:47.234\u001b[0m | \u001b[1mINFO    \u001b[0m | \u001b[36mmagic_pdf.tools.common\u001b[0m:\u001b[36m_do_parse\u001b[0m:\u001b[36m243\u001b[0m - \u001b[1mlocal output dir is d:\\DataAnalysis\\arxiv\\output\\2402.18510v4\\auto\u001b[0m\n",
      "Processing pages: 100%|██████████| 38/38 [00:02<00:00, 13.99it/s]\n",
      "\u001b[32m2025-05-23 21:07:51.232\u001b[0m | \u001b[1mINFO    \u001b[0m | \u001b[36mmagic_pdf.tools.common\u001b[0m:\u001b[36m_do_parse\u001b[0m:\u001b[36m243\u001b[0m - \u001b[1mlocal output dir is d:\\DataAnalysis\\arxiv\\output\\2402.19421v1\\auto\u001b[0m\n",
      "Processing pages: 100%|██████████| 22/22 [00:07<00:00,  3.06it/s]\n",
      "OCR-rec Predict: 100%|██████████| 1/1 [00:00<00:00, 34.63it/s]\n",
      "\u001b[32m2025-05-23 21:08:01.099\u001b[0m | \u001b[1mINFO    \u001b[0m | \u001b[36mmagic_pdf.tools.common\u001b[0m:\u001b[36m_do_parse\u001b[0m:\u001b[36m243\u001b[0m - \u001b[1mlocal output dir is d:\\DataAnalysis\\arxiv\\output\\2402.19473v6\\auto\u001b[0m\n",
      "Processing pages: 100%|██████████| 17/17 [00:02<00:00,  7.00it/s]\n",
      "\u001b[32m2025-05-23 21:08:04.633\u001b[0m | \u001b[1mINFO    \u001b[0m | \u001b[36mmagic_pdf.tools.common\u001b[0m:\u001b[36m_do_parse\u001b[0m:\u001b[36m243\u001b[0m - \u001b[1mlocal output dir is d:\\DataAnalysis\\arxiv\\output\\2403.00801v2\\auto\u001b[0m\n",
      "Processing pages:  72%|███████▏  | 34/47 [00:02<00:01, 12.15it/s]\u001b[32m2025-05-23 21:08:06.973\u001b[0m | \u001b[33m\u001b[1mWARNING \u001b[0m | \u001b[36mmagic_pdf.pdf_parse_union_core_v2\u001b[0m:\u001b[36mparse_page_core\u001b[0m:\u001b[36m835\u001b[0m - \u001b[33m\u001b[1mskip this page, not found useful bbox, page_id: 34\u001b[0m\n",
      "Processing pages: 100%|██████████| 47/47 [00:03<00:00, 14.81it/s]\n",
      "OCR-rec Predict: 100%|██████████| 42/42 [00:00<00:00, 110.48it/s]\n",
      "\u001b[32m2025-05-23 21:08:09.519\u001b[0m | \u001b[1mINFO    \u001b[0m | \u001b[36mmagic_pdf.tools.common\u001b[0m:\u001b[36m_do_parse\u001b[0m:\u001b[36m243\u001b[0m - \u001b[1mlocal output dir is d:\\DataAnalysis\\arxiv\\output\\2403.00840v1\\auto\u001b[0m\n",
      "Processing pages: 100%|██████████| 9/9 [00:00<00:00, 11.96it/s]\n",
      "\u001b[32m2025-05-23 21:08:10.967\u001b[0m | \u001b[1mINFO    \u001b[0m | \u001b[36mmagic_pdf.tools.common\u001b[0m:\u001b[36m_do_parse\u001b[0m:\u001b[36m243\u001b[0m - \u001b[1mlocal output dir is d:\\DataAnalysis\\arxiv\\output\\2403.01193v3\\auto\u001b[0m\n",
      "Processing pages: 100%|██████████| 11/11 [00:03<00:00,  3.52it/s]\n",
      "\u001b[32m2025-05-23 21:08:15.650\u001b[0m | \u001b[1mINFO    \u001b[0m | \u001b[36mmagic_pdf.tools.common\u001b[0m:\u001b[36m_do_parse\u001b[0m:\u001b[36m243\u001b[0m - \u001b[1mlocal output dir is d:\\DataAnalysis\\arxiv\\output\\2403.01432v5\\auto\u001b[0m\n",
      "Processing pages: 100%|██████████| 6/6 [00:00<00:00,  9.07it/s]\n",
      "OCR-rec Predict: 100%|██████████| 1/1 [00:00<00:00, 39.89it/s]\n",
      "\u001b[32m2025-05-23 21:08:16.951\u001b[0m | \u001b[1mINFO    \u001b[0m | \u001b[36mmagic_pdf.tools.common\u001b[0m:\u001b[36m_do_parse\u001b[0m:\u001b[36m243\u001b[0m - \u001b[1mlocal output dir is d:\\DataAnalysis\\arxiv\\output\\2403.01616v2\\auto\u001b[0m\n",
      "Processing pages: 100%|██████████| 19/19 [00:06<00:00,  3.11it/s]\n",
      "OCR-rec Predict: 100%|██████████| 1/1 [00:00<00:00, 34.44it/s]\n",
      "\u001b[32m2025-05-23 21:08:25.884\u001b[0m | \u001b[1mINFO    \u001b[0m | \u001b[36mmagic_pdf.tools.common\u001b[0m:\u001b[36m_do_parse\u001b[0m:\u001b[36m243\u001b[0m - \u001b[1mlocal output dir is d:\\DataAnalysis\\arxiv\\output\\2403.03792v2\\auto\u001b[0m\n",
      "Processing pages: 100%|██████████| 14/14 [00:02<00:00,  5.56it/s]\n",
      "\u001b[32m2025-05-23 21:08:29.709\u001b[0m | \u001b[1mINFO    \u001b[0m | \u001b[36mmagic_pdf.tools.common\u001b[0m:\u001b[36m_do_parse\u001b[0m:\u001b[36m243\u001b[0m - \u001b[1mlocal output dir is d:\\DataAnalysis\\arxiv\\output\\2403.03888v3\\auto\u001b[0m\n",
      "Processing pages: 100%|██████████| 14/14 [00:02<00:00,  5.45it/s]\n",
      "OCR-rec Predict: 100%|██████████| 1/1 [00:00<00:00, 34.38it/s]\n",
      "\u001b[32m2025-05-23 21:08:33.609\u001b[0m | \u001b[1mINFO    \u001b[0m | \u001b[36mmagic_pdf.tools.common\u001b[0m:\u001b[36m_do_parse\u001b[0m:\u001b[36m243\u001b[0m - \u001b[1mlocal output dir is d:\\DataAnalysis\\arxiv\\output\\2403.04256v1\\auto\u001b[0m\n",
      "Processing pages: 100%|██████████| 12/12 [00:02<00:00,  5.41it/s]\n",
      "\u001b[32m2025-05-23 21:08:36.838\u001b[0m | \u001b[1mINFO    \u001b[0m | \u001b[36mmagic_pdf.tools.common\u001b[0m:\u001b[36m_do_parse\u001b[0m:\u001b[36m243\u001b[0m - \u001b[1mlocal output dir is d:\\DataAnalysis\\arxiv\\output\\2403.04307v3\\auto\u001b[0m\n",
      "Processing pages: 100%|██████████| 20/20 [00:02<00:00,  6.87it/s]\n",
      "OCR-rec Predict: 100%|██████████| 1/1 [00:00<00:00, 42.47it/s]\n",
      "\u001b[32m2025-05-23 21:08:41.133\u001b[0m | \u001b[1mINFO    \u001b[0m | \u001b[36mmagic_pdf.tools.common\u001b[0m:\u001b[36m_do_parse\u001b[0m:\u001b[36m243\u001b[0m - \u001b[1mlocal output dir is d:\\DataAnalysis\\arxiv\\output\\2403.04317v2\\auto\u001b[0m\n",
      "Processing pages: 100%|██████████| 6/6 [00:01<00:00,  3.63it/s]\n",
      "\u001b[32m2025-05-23 21:08:45.684\u001b[0m | \u001b[1mINFO    \u001b[0m | \u001b[36mmagic_pdf.tools.common\u001b[0m:\u001b[36m_do_parse\u001b[0m:\u001b[36m243\u001b[0m - \u001b[1mlocal output dir is d:\\DataAnalysis\\arxiv\\output\\2403.04666v2\\auto\u001b[0m\n",
      "Processing pages: 100%|██████████| 15/15 [00:02<00:00,  5.06it/s]\n",
      "OCR-rec Predict: 100%|██████████| 1/1 [00:00<00:00, 35.85it/s]\n",
      "\u001b[32m2025-05-23 21:08:50.132\u001b[0m | \u001b[1mINFO    \u001b[0m | \u001b[36mmagic_pdf.tools.common\u001b[0m:\u001b[36m_do_parse\u001b[0m:\u001b[36m243\u001b[0m - \u001b[1mlocal output dir is d:\\DataAnalysis\\arxiv\\output\\2403.05676v1\\auto\u001b[0m\n",
      "Processing pages: 100%|██████████| 20/20 [00:03<00:00,  5.30it/s]\n",
      "\u001b[32m2025-05-23 21:08:55.962\u001b[0m | \u001b[1mINFO    \u001b[0m | \u001b[36mmagic_pdf.tools.common\u001b[0m:\u001b[36m_do_parse\u001b[0m:\u001b[36m243\u001b[0m - \u001b[1mlocal output dir is d:\\DataAnalysis\\arxiv\\output\\2403.06840v2\\auto\u001b[0m\n",
      "Processing pages: 100%|██████████| 24/24 [00:02<00:00,  8.17it/s]\n",
      "\u001b[32m2025-05-23 21:09:00.085\u001b[0m | \u001b[1mINFO    \u001b[0m | \u001b[36mmagic_pdf.tools.common\u001b[0m:\u001b[36m_do_parse\u001b[0m:\u001b[36m243\u001b[0m - \u001b[1mlocal output dir is d:\\DataAnalysis\\arxiv\\output\\2403.06857v1\\auto\u001b[0m\n",
      "Processing pages: 100%|██████████| 10/10 [00:01<00:00,  8.84it/s]\n",
      "\u001b[32m2025-05-23 21:09:01.885\u001b[0m | \u001b[1mINFO    \u001b[0m | \u001b[36mmagic_pdf.tools.common\u001b[0m:\u001b[36m_do_parse\u001b[0m:\u001b[36m243\u001b[0m - \u001b[1mlocal output dir is d:\\DataAnalysis\\arxiv\\output\\2403.08345v1\\auto\u001b[0m\n",
      "Processing pages: 100%|██████████| 15/15 [00:03<00:00,  4.36it/s]\n",
      "OCR-rec Predict: 100%|██████████| 1/1 [00:00<00:00, 32.22it/s]\n",
      "\u001b[32m2025-05-23 21:09:07.010\u001b[0m | \u001b[1mINFO    \u001b[0m | \u001b[36mmagic_pdf.tools.common\u001b[0m:\u001b[36m_do_parse\u001b[0m:\u001b[36m243\u001b[0m - \u001b[1mlocal output dir is d:\\DataAnalysis\\arxiv\\output\\2403.08904v1\\auto\u001b[0m\n",
      "Processing pages: 100%|██████████| 12/12 [00:02<00:00,  4.99it/s]\n",
      "OCR-rec Predict: 100%|██████████| 1/1 [00:00<00:00, 36.50it/s]\n",
      "\u001b[32m2025-05-23 21:09:10.717\u001b[0m | \u001b[1mINFO    \u001b[0m | \u001b[36mmagic_pdf.tools.common\u001b[0m:\u001b[36m_do_parse\u001b[0m:\u001b[36m243\u001b[0m - \u001b[1mlocal output dir is d:\\DataAnalysis\\arxiv\\output\\2403.09040v2\\auto\u001b[0m\n",
      "Processing pages: 100%|██████████| 34/34 [00:05<00:00,  6.62it/s]\n",
      "OCR-rec Predict: 100%|██████████| 11/11 [00:00<00:00, 68.35it/s]\n",
      "\u001b[32m2025-05-23 21:09:17.738\u001b[0m | \u001b[1mINFO    \u001b[0m | \u001b[36mmagic_pdf.tools.common\u001b[0m:\u001b[36m_do_parse\u001b[0m:\u001b[36m243\u001b[0m - \u001b[1mlocal output dir is d:\\DataAnalysis\\arxiv\\output\\2403.09125v5\\auto\u001b[0m\n",
      "Processing pages:  86%|████████▌ | 6/7 [00:01<00:00,  5.17it/s]\u001b[32m2025-05-23 21:09:18.912\u001b[0m | \u001b[33m\u001b[1mWARNING \u001b[0m | \u001b[36mmagic_pdf.pdf_parse_union_core_v2\u001b[0m:\u001b[36mparse_page_core\u001b[0m:\u001b[36m835\u001b[0m - \u001b[33m\u001b[1mskip this page, not found useful bbox, page_id: 6\u001b[0m\n",
      "Processing pages: 100%|██████████| 7/7 [00:01<00:00,  6.51it/s]\n",
      "\u001b[32m2025-05-23 21:09:19.688\u001b[0m | \u001b[1mINFO    \u001b[0m | \u001b[36mmagic_pdf.tools.common\u001b[0m:\u001b[36m_do_parse\u001b[0m:\u001b[36m243\u001b[0m - \u001b[1mlocal output dir is d:\\DataAnalysis\\arxiv\\output\\2403.09226v2\\auto\u001b[0m\n",
      "Processing pages: 100%|██████████| 17/17 [00:01<00:00, 16.13it/s]\n",
      "\u001b[32m2025-05-23 21:09:21.484\u001b[0m | \u001b[1mINFO    \u001b[0m | \u001b[36mmagic_pdf.tools.common\u001b[0m:\u001b[36m_do_parse\u001b[0m:\u001b[36m243\u001b[0m - \u001b[1mlocal output dir is d:\\DataAnalysis\\arxiv\\output\\2403.09727v1\\auto\u001b[0m\n",
      "Processing pages: 100%|██████████| 29/29 [00:02<00:00,  9.77it/s]\n",
      "\u001b[32m2025-05-23 21:09:25.633\u001b[0m | \u001b[1mINFO    \u001b[0m | \u001b[36mmagic_pdf.tools.common\u001b[0m:\u001b[36m_do_parse\u001b[0m:\u001b[36m243\u001b[0m - \u001b[1mlocal output dir is d:\\DataAnalysis\\arxiv\\output\\2403.10153v3\\auto\u001b[0m\n",
      "Processing pages: 100%|██████████| 4/4 [00:01<00:00,  3.88it/s]\n",
      "OCR-rec Predict: 100%|██████████| 3/3 [00:00<00:00, 55.75it/s]\n",
      "\u001b[32m2025-05-23 21:09:27.482\u001b[0m | \u001b[1mINFO    \u001b[0m | \u001b[36mmagic_pdf.tools.common\u001b[0m:\u001b[36m_do_parse\u001b[0m:\u001b[36m243\u001b[0m - \u001b[1mlocal output dir is d:\\DataAnalysis\\arxiv\\output\\2403.10408v1\\auto\u001b[0m\n",
      "Processing pages: 100%|██████████| 10/10 [00:01<00:00,  5.18it/s]\n",
      "OCR-rec Predict: 100%|██████████| 3/3 [00:00<00:00, 64.46it/s]\n",
      "\u001b[32m2025-05-23 21:09:30.853\u001b[0m | \u001b[1mINFO    \u001b[0m | \u001b[36mmagic_pdf.tools.common\u001b[0m:\u001b[36m_do_parse\u001b[0m:\u001b[36m243\u001b[0m - \u001b[1mlocal output dir is d:\\DataAnalysis\\arxiv\\output\\2403.10446v1\\auto\u001b[0m\n",
      "Processing pages: 100%|██████████| 14/14 [00:01<00:00,  8.50it/s]\n",
      "\u001b[32m2025-05-23 21:09:33.348\u001b[0m | \u001b[1mINFO    \u001b[0m | \u001b[36mmagic_pdf.tools.common\u001b[0m:\u001b[36m_do_parse\u001b[0m:\u001b[36m243\u001b[0m - \u001b[1mlocal output dir is d:\\DataAnalysis\\arxiv\\output\\2403.10588v1\\auto\u001b[0m\n",
      "Processing pages: 100%|██████████| 4/4 [00:01<00:00,  3.62it/s]\n",
      "\u001b[32m2025-05-23 21:09:35.219\u001b[0m | \u001b[1mINFO    \u001b[0m | \u001b[36mmagic_pdf.tools.common\u001b[0m:\u001b[36m_do_parse\u001b[0m:\u001b[36m243\u001b[0m - \u001b[1mlocal output dir is d:\\DataAnalysis\\arxiv\\output\\2403.11413v1\\auto\u001b[0m\n",
      "Processing pages: 100%|██████████| 13/13 [00:04<00:00,  2.89it/s]\n",
      "OCR-rec Predict: 100%|██████████| 1/1 [00:00<00:00, 38.44it/s]\n",
      "\u001b[32m2025-05-23 21:09:42.028\u001b[0m | \u001b[1mINFO    \u001b[0m | \u001b[36mmagic_pdf.tools.common\u001b[0m:\u001b[36m_do_parse\u001b[0m:\u001b[36m243\u001b[0m - \u001b[1mlocal output dir is d:\\DataAnalysis\\arxiv\\output\\2403.11671v1\\auto\u001b[0m\n",
      "Processing pages: 100%|██████████| 21/21 [00:04<00:00,  4.98it/s]\n",
      "OCR-rec Predict: 100%|██████████| 13/13 [00:00<00:00, 39.48it/s]\n",
      "\u001b[32m2025-05-23 21:09:48.544\u001b[0m | \u001b[1mINFO    \u001b[0m | \u001b[36mmagic_pdf.tools.common\u001b[0m:\u001b[36m_do_parse\u001b[0m:\u001b[36m243\u001b[0m - \u001b[1mlocal output dir is d:\\DataAnalysis\\arxiv\\output\\2403.11747v2\\auto\u001b[0m\n",
      "Processing pages: 100%|██████████| 21/21 [00:03<00:00,  5.27it/s]\n",
      "\u001b[32m2025-05-23 21:09:54.162\u001b[0m | \u001b[1mINFO    \u001b[0m | \u001b[36mmagic_pdf.tools.common\u001b[0m:\u001b[36m_do_parse\u001b[0m:\u001b[36m243\u001b[0m - \u001b[1mlocal output dir is d:\\DataAnalysis\\arxiv\\output\\2403.12077v1\\auto\u001b[0m\n",
      "Processing pages: 100%|██████████| 11/11 [00:02<00:00,  4.86it/s]\n",
      "OCR-rec Predict: 100%|██████████| 1/1 [00:00<00:00, 35.69it/s]\n",
      "\u001b[32m2025-05-23 21:09:57.820\u001b[0m | \u001b[1mINFO    \u001b[0m | \u001b[36mmagic_pdf.tools.common\u001b[0m:\u001b[36m_do_parse\u001b[0m:\u001b[36m243\u001b[0m - \u001b[1mlocal output dir is d:\\DataAnalysis\\arxiv\\output\\2403.12582v1\\auto\u001b[0m\n",
      "Processing pages: 100%|██████████| 19/19 [00:03<00:00,  5.24it/s]\n",
      "\u001b[32m2025-05-23 21:10:03.119\u001b[0m | \u001b[1mINFO    \u001b[0m | \u001b[36mmagic_pdf.tools.common\u001b[0m:\u001b[36m_do_parse\u001b[0m:\u001b[36m243\u001b[0m - \u001b[1mlocal output dir is d:\\DataAnalysis\\arxiv\\output\\2403.14197v1\\auto\u001b[0m\n",
      "Processing pages: 100%|██████████| 23/23 [00:03<00:00,  6.67it/s]\n",
      "OCR-rec Predict: 100%|██████████| 2/2 [00:00<00:00, 57.04it/s]\n",
      "\u001b[32m2025-05-23 21:10:08.204\u001b[0m | \u001b[1mINFO    \u001b[0m | \u001b[36mmagic_pdf.tools.common\u001b[0m:\u001b[36m_do_parse\u001b[0m:\u001b[36m243\u001b[0m - \u001b[1mlocal output dir is d:\\DataAnalysis\\arxiv\\output\\2403.14421v3\\auto\u001b[0m\n",
      "Processing pages: 100%|██████████| 26/26 [00:04<00:00,  5.66it/s]\n",
      "\u001b[32m2025-05-23 21:10:14.486\u001b[0m | \u001b[1mINFO    \u001b[0m | \u001b[36mmagic_pdf.tools.common\u001b[0m:\u001b[36m_do_parse\u001b[0m:\u001b[36m243\u001b[0m - \u001b[1mlocal output dir is d:\\DataAnalysis\\arxiv\\output\\2403.14666v2\\auto\u001b[0m\n",
      "Processing pages: 100%|██████████| 20/20 [00:04<00:00,  4.90it/s]\n",
      "OCR-rec Predict: 100%|██████████| 2/2 [00:00<00:00, 31.19it/s]\n",
      "\u001b[32m2025-05-23 21:10:20.412\u001b[0m | \u001b[1mINFO    \u001b[0m | \u001b[36mmagic_pdf.tools.common\u001b[0m:\u001b[36m_do_parse\u001b[0m:\u001b[36m243\u001b[0m - \u001b[1mlocal output dir is d:\\DataAnalysis\\arxiv\\output\\2403.15268v5\\auto\u001b[0m\n",
      "Processing pages: 100%|██████████| 4/4 [00:00<00:00,  4.89it/s]\n",
      "\u001b[32m2025-05-23 21:10:21.896\u001b[0m | \u001b[1mINFO    \u001b[0m | \u001b[36mmagic_pdf.tools.common\u001b[0m:\u001b[36m_do_parse\u001b[0m:\u001b[36m243\u001b[0m - \u001b[1mlocal output dir is d:\\DataAnalysis\\arxiv\\output\\2403.15450v1\\auto\u001b[0m\n",
      "Processing pages: 100%|██████████| 11/11 [00:01<00:00,  8.58it/s]\n",
      "\u001b[32m2025-05-23 21:10:23.922\u001b[0m | \u001b[1mINFO    \u001b[0m | \u001b[36mmagic_pdf.tools.common\u001b[0m:\u001b[36m_do_parse\u001b[0m:\u001b[36m243\u001b[0m - \u001b[1mlocal output dir is d:\\DataAnalysis\\arxiv\\output\\2403.15729v3\\auto\u001b[0m\n",
      "Processing pages: 100%|██████████| 14/14 [00:02<00:00,  4.69it/s]\n",
      "\u001b[32m2025-05-23 21:10:28.362\u001b[0m | \u001b[1mINFO    \u001b[0m | \u001b[36mmagic_pdf.tools.common\u001b[0m:\u001b[36m_do_parse\u001b[0m:\u001b[36m243\u001b[0m - \u001b[1mlocal output dir is d:\\DataAnalysis\\arxiv\\output\\2403.15736v2\\auto\u001b[0m\n",
      "Processing pages: 100%|██████████| 11/11 [00:02<00:00,  4.78it/s]\n",
      "\u001b[32m2025-05-23 21:10:31.925\u001b[0m | \u001b[1mINFO    \u001b[0m | \u001b[36mmagic_pdf.tools.common\u001b[0m:\u001b[36m_do_parse\u001b[0m:\u001b[36m243\u001b[0m - \u001b[1mlocal output dir is d:\\DataAnalysis\\arxiv\\output\\2403.16295v1\\auto\u001b[0m\n"
     ]
    },
    {
     "name": "stdout",
     "output_type": "stream",
     "text": [
      "Chunk 3: 100 files\n",
      "MuPDF error: unsupported error: cannot create appearance stream for Screen annotations\n",
      "\n",
      "MuPDF error: unsupported error: cannot create appearance stream for Screen annotations\n",
      "\n",
      "MuPDF error: unsupported error: cannot create appearance stream for Screen annotations\n",
      "\n",
      "MuPDF error: unsupported error: cannot create appearance stream for Screen annotations\n",
      "\n",
      "MuPDF error: unsupported error: cannot create appearance stream for Screen annotations\n",
      "\n",
      "MuPDF error: unsupported error: cannot create appearance stream for Screen annotations\n",
      "\n",
      "MuPDF error: unsupported error: cannot create appearance stream for Screen annotations\n",
      "\n",
      "MuPDF error: unsupported error: cannot create appearance stream for Screen annotations\n",
      "\n",
      "MuPDF error: unsupported error: cannot create appearance stream for Screen annotations\n",
      "\n",
      "MuPDF error: unsupported error: cannot create appearance stream for Screen annotations\n",
      "\n",
      "MuPDF error: unsupported error: cannot create appearance stream for Screen annotations\n",
      "\n",
      "MuPDF error: unsupported error: cannot create appearance stream for Screen annotations\n",
      "\n",
      "MuPDF error: unsupported error: cannot create appearance stream for Screen annotations\n",
      "\n",
      "MuPDF error: unsupported error: cannot create appearance stream for Screen annotations\n",
      "\n",
      "MuPDF error: unsupported error: cannot create appearance stream for Screen annotations\n",
      "\n",
      "MuPDF error: unsupported error: cannot create appearance stream for Screen annotations\n",
      "\n",
      "MuPDF error: unsupported error: cannot create appearance stream for Screen annotations\n",
      "\n",
      "MuPDF error: unsupported error: cannot create appearance stream for Screen annotations\n",
      "\n",
      "MuPDF error: unsupported error: cannot create appearance stream for Screen annotations\n",
      "\n",
      "MuPDF error: unsupported error: cannot create appearance stream for Screen annotations\n",
      "\n",
      "MuPDF error: unsupported error: cannot create appearance stream for Screen annotations\n",
      "\n",
      "MuPDF error: unsupported error: cannot create appearance stream for Screen annotations\n",
      "\n",
      "MuPDF error: unsupported error: cannot create appearance stream for Screen annotations\n",
      "\n",
      "MuPDF error: unsupported error: cannot create appearance stream for Screen annotations\n",
      "\n"
     ]
    },
    {
     "name": "stderr",
     "output_type": "stream",
     "text": [
      "\u001b[32m2025-05-23 21:10:33.551\u001b[0m | \u001b[1mINFO    \u001b[0m | \u001b[36mmagic_pdf.libs.pdf_check\u001b[0m:\u001b[36mdetect_invalid_chars\u001b[0m:\u001b[36m67\u001b[0m - \u001b[1mcid_count: 0, text_len: 42435, cid_chars_radio: 0.0\u001b[0m\n",
      "\u001b[32m2025-05-23 21:10:34.266\u001b[0m | \u001b[1mINFO    \u001b[0m | \u001b[36mmagic_pdf.libs.pdf_check\u001b[0m:\u001b[36mdetect_invalid_chars\u001b[0m:\u001b[36m67\u001b[0m - \u001b[1mcid_count: 0, text_len: 34771, cid_chars_radio: 0.0\u001b[0m\n",
      "\u001b[32m2025-05-23 21:10:34.693\u001b[0m | \u001b[1mINFO    \u001b[0m | \u001b[36mmagic_pdf.libs.pdf_check\u001b[0m:\u001b[36mdetect_invalid_chars\u001b[0m:\u001b[36m67\u001b[0m - \u001b[1mcid_count: 4, text_len: 24813, cid_chars_radio: 0.0001613879362517652\u001b[0m\n",
      "\u001b[32m2025-05-23 21:10:38.030\u001b[0m | \u001b[1mINFO    \u001b[0m | \u001b[36mmagic_pdf.libs.pdf_check\u001b[0m:\u001b[36mdetect_invalid_chars\u001b[0m:\u001b[36m67\u001b[0m - \u001b[1mcid_count: 58, text_len: 41731, cid_chars_radio: 0.0014038145028560363\u001b[0m\n",
      "\u001b[32m2025-05-23 21:10:39.140\u001b[0m | \u001b[1mINFO    \u001b[0m | \u001b[36mmagic_pdf.libs.pdf_check\u001b[0m:\u001b[36mdetect_invalid_chars\u001b[0m:\u001b[36m67\u001b[0m - \u001b[1mcid_count: 1, text_len: 29692, cid_chars_radio: 3.36870473303015e-05\u001b[0m\n",
      "\u001b[32m2025-05-23 21:10:39.939\u001b[0m | \u001b[1mINFO    \u001b[0m | \u001b[36mmagic_pdf.libs.pdf_check\u001b[0m:\u001b[36mdetect_invalid_chars\u001b[0m:\u001b[36m67\u001b[0m - \u001b[1mcid_count: 0, text_len: 44902, cid_chars_radio: 0.0\u001b[0m\n",
      "\u001b[32m2025-05-23 21:10:40.755\u001b[0m | \u001b[1mINFO    \u001b[0m | \u001b[36mmagic_pdf.libs.pdf_check\u001b[0m:\u001b[36mdetect_invalid_chars\u001b[0m:\u001b[36m67\u001b[0m - \u001b[1mcid_count: 0, text_len: 29374, cid_chars_radio: 0.0\u001b[0m\n",
      "\u001b[32m2025-05-23 21:10:42.165\u001b[0m | \u001b[1mINFO    \u001b[0m | \u001b[36mmagic_pdf.libs.pdf_check\u001b[0m:\u001b[36mdetect_invalid_chars\u001b[0m:\u001b[36m67\u001b[0m - \u001b[1mcid_count: 3, text_len: 33758, cid_chars_radio: 8.891786952784612e-05\u001b[0m\n",
      "\u001b[32m2025-05-23 21:10:43.756\u001b[0m | \u001b[1mINFO    \u001b[0m | \u001b[36mmagic_pdf.libs.pdf_check\u001b[0m:\u001b[36mdetect_invalid_chars\u001b[0m:\u001b[36m67\u001b[0m - \u001b[1mcid_count: 0, text_len: 30157, cid_chars_radio: 0.0\u001b[0m\n",
      "\u001b[32m2025-05-23 21:10:44.443\u001b[0m | \u001b[1mINFO    \u001b[0m | \u001b[36mmagic_pdf.libs.pdf_check\u001b[0m:\u001b[36mdetect_invalid_chars\u001b[0m:\u001b[36m67\u001b[0m - \u001b[1mcid_count: 5, text_len: 21270, cid_chars_radio: 0.0002354603249352484\u001b[0m\n",
      "\u001b[32m2025-05-23 21:10:45.275\u001b[0m | \u001b[1mINFO    \u001b[0m | \u001b[36mmagic_pdf.libs.pdf_check\u001b[0m:\u001b[36mdetect_invalid_chars\u001b[0m:\u001b[36m67\u001b[0m - \u001b[1mcid_count: 2, text_len: 32880, cid_chars_radio: 6.0849458439819885e-05\u001b[0m\n",
      "\u001b[32m2025-05-23 21:10:46.721\u001b[0m | \u001b[1mINFO    \u001b[0m | \u001b[36mmagic_pdf.libs.pdf_check\u001b[0m:\u001b[36mdetect_invalid_chars\u001b[0m:\u001b[36m67\u001b[0m - \u001b[1mcid_count: 6, text_len: 34403, cid_chars_radio: 0.0001746165711125986\u001b[0m\n",
      "\u001b[32m2025-05-23 21:10:47.496\u001b[0m | \u001b[1mINFO    \u001b[0m | \u001b[36mmagic_pdf.libs.pdf_check\u001b[0m:\u001b[36mdetect_invalid_chars\u001b[0m:\u001b[36m67\u001b[0m - \u001b[1mcid_count: 0, text_len: 33952, cid_chars_radio: 0.0\u001b[0m\n",
      "\u001b[32m2025-05-23 21:10:48.386\u001b[0m | \u001b[1mINFO    \u001b[0m | \u001b[36mmagic_pdf.libs.pdf_check\u001b[0m:\u001b[36mdetect_invalid_chars\u001b[0m:\u001b[36m67\u001b[0m - \u001b[1mcid_count: 14, text_len: 29368, cid_chars_radio: 0.00047830543218312267\u001b[0m\n",
      "\u001b[32m2025-05-23 21:10:48.921\u001b[0m | \u001b[1mINFO    \u001b[0m | \u001b[36mmagic_pdf.libs.pdf_check\u001b[0m:\u001b[36mdetect_invalid_chars\u001b[0m:\u001b[36m67\u001b[0m - \u001b[1mcid_count: 0, text_len: 30565, cid_chars_radio: 0.0\u001b[0m\n",
      "\u001b[32m2025-05-23 21:10:50.472\u001b[0m | \u001b[1mINFO    \u001b[0m | \u001b[36mmagic_pdf.libs.pdf_check\u001b[0m:\u001b[36mdetect_invalid_chars\u001b[0m:\u001b[36m67\u001b[0m - \u001b[1mcid_count: 0, text_len: 40592, cid_chars_radio: 0.0\u001b[0m\n",
      "\u001b[32m2025-05-23 21:10:51.296\u001b[0m | \u001b[1mINFO    \u001b[0m | \u001b[36mmagic_pdf.libs.pdf_check\u001b[0m:\u001b[36mdetect_invalid_chars\u001b[0m:\u001b[36m67\u001b[0m - \u001b[1mcid_count: 1, text_len: 40813, cid_chars_radio: 2.450620006861736e-05\u001b[0m\n",
      "\u001b[32m2025-05-23 21:10:52.337\u001b[0m | \u001b[1mINFO    \u001b[0m | \u001b[36mmagic_pdf.libs.pdf_check\u001b[0m:\u001b[36mdetect_invalid_chars\u001b[0m:\u001b[36m67\u001b[0m - \u001b[1mcid_count: 0, text_len: 54371, cid_chars_radio: 0.0\u001b[0m\n",
      "\u001b[32m2025-05-23 21:10:52.931\u001b[0m | \u001b[1mINFO    \u001b[0m | \u001b[36mmagic_pdf.libs.pdf_check\u001b[0m:\u001b[36mdetect_invalid_chars\u001b[0m:\u001b[36m67\u001b[0m - \u001b[1mcid_count: 0, text_len: 25232, cid_chars_radio: 0.0\u001b[0m\n",
      "\u001b[32m2025-05-23 21:10:53.531\u001b[0m | \u001b[1mINFO    \u001b[0m | \u001b[36mmagic_pdf.libs.pdf_check\u001b[0m:\u001b[36mdetect_invalid_chars\u001b[0m:\u001b[36m67\u001b[0m - \u001b[1mcid_count: 0, text_len: 21104, cid_chars_radio: 0.0\u001b[0m\n",
      "\u001b[32m2025-05-23 21:10:54.342\u001b[0m | \u001b[1mINFO    \u001b[0m | \u001b[36mmagic_pdf.libs.pdf_check\u001b[0m:\u001b[36mdetect_invalid_chars\u001b[0m:\u001b[36m67\u001b[0m - \u001b[1mcid_count: 0, text_len: 36810, cid_chars_radio: 0.0\u001b[0m\n",
      "\u001b[32m2025-05-23 21:10:55.119\u001b[0m | \u001b[1mINFO    \u001b[0m | \u001b[36mmagic_pdf.libs.pdf_check\u001b[0m:\u001b[36mdetect_invalid_chars\u001b[0m:\u001b[36m67\u001b[0m - \u001b[1mcid_count: 0, text_len: 29542, cid_chars_radio: 0.0\u001b[0m\n",
      "\u001b[32m2025-05-23 21:10:55.851\u001b[0m | \u001b[1mINFO    \u001b[0m | \u001b[36mmagic_pdf.libs.pdf_check\u001b[0m:\u001b[36mdetect_invalid_chars\u001b[0m:\u001b[36m67\u001b[0m - \u001b[1mcid_count: 0, text_len: 18802, cid_chars_radio: 0.0\u001b[0m\n",
      "\u001b[32m2025-05-23 21:10:56.572\u001b[0m | \u001b[1mINFO    \u001b[0m | \u001b[36mmagic_pdf.libs.pdf_check\u001b[0m:\u001b[36mdetect_invalid_chars\u001b[0m:\u001b[36m67\u001b[0m - \u001b[1mcid_count: 0, text_len: 28581, cid_chars_radio: 0.0\u001b[0m\n",
      "\u001b[32m2025-05-23 21:10:57.624\u001b[0m | \u001b[1mINFO    \u001b[0m | \u001b[36mmagic_pdf.libs.pdf_check\u001b[0m:\u001b[36mdetect_invalid_chars\u001b[0m:\u001b[36m67\u001b[0m - \u001b[1mcid_count: 0, text_len: 37260, cid_chars_radio: 0.0\u001b[0m\n",
      "\u001b[32m2025-05-23 21:10:58.430\u001b[0m | \u001b[1mINFO    \u001b[0m | \u001b[36mmagic_pdf.libs.pdf_check\u001b[0m:\u001b[36mdetect_invalid_chars\u001b[0m:\u001b[36m67\u001b[0m - \u001b[1mcid_count: 0, text_len: 22413, cid_chars_radio: 0.0\u001b[0m\n",
      "\u001b[32m2025-05-23 21:10:59.288\u001b[0m | \u001b[1mINFO    \u001b[0m | \u001b[36mmagic_pdf.libs.pdf_check\u001b[0m:\u001b[36mdetect_invalid_chars\u001b[0m:\u001b[36m67\u001b[0m - \u001b[1mcid_count: 4, text_len: 35157, cid_chars_radio: 0.00011387251971417997\u001b[0m\n",
      "\u001b[32m2025-05-23 21:11:00.508\u001b[0m | \u001b[1mINFO    \u001b[0m | \u001b[36mmagic_pdf.libs.pdf_check\u001b[0m:\u001b[36mdetect_invalid_chars\u001b[0m:\u001b[36m67\u001b[0m - \u001b[1mcid_count: 8, text_len: 38454, cid_chars_radio: 0.00020834418459294755\u001b[0m\n",
      "\u001b[32m2025-05-23 21:11:02.656\u001b[0m | \u001b[1mINFO    \u001b[0m | \u001b[36mmagic_pdf.libs.pdf_check\u001b[0m:\u001b[36mdetect_invalid_chars\u001b[0m:\u001b[36m67\u001b[0m - \u001b[1mcid_count: 0, text_len: 34636, cid_chars_radio: 0.0\u001b[0m\n",
      "\u001b[32m2025-05-23 21:11:03.597\u001b[0m | \u001b[1mINFO    \u001b[0m | \u001b[36mmagic_pdf.libs.pdf_check\u001b[0m:\u001b[36mdetect_invalid_chars\u001b[0m:\u001b[36m67\u001b[0m - \u001b[1mcid_count: 0, text_len: 35646, cid_chars_radio: 0.0\u001b[0m\n",
      "\u001b[32m2025-05-23 21:11:06.172\u001b[0m | \u001b[1mINFO    \u001b[0m | \u001b[36mmagic_pdf.libs.pdf_check\u001b[0m:\u001b[36mdetect_invalid_chars\u001b[0m:\u001b[36m67\u001b[0m - \u001b[1mcid_count: 0, text_len: 51349, cid_chars_radio: 0.0\u001b[0m\n",
      "\u001b[32m2025-05-23 21:11:09.788\u001b[0m | \u001b[1mINFO    \u001b[0m | \u001b[36mmagic_pdf.libs.pdf_check\u001b[0m:\u001b[36mdetect_invalid_chars\u001b[0m:\u001b[36m67\u001b[0m - \u001b[1mcid_count: 26, text_len: 49216, cid_chars_radio: 0.0005306122448979592\u001b[0m\n",
      "\u001b[32m2025-05-23 21:11:11.078\u001b[0m | \u001b[1mINFO    \u001b[0m | \u001b[36mmagic_pdf.libs.pdf_check\u001b[0m:\u001b[36mdetect_invalid_chars\u001b[0m:\u001b[36m67\u001b[0m - \u001b[1mcid_count: 0, text_len: 43365, cid_chars_radio: 0.0\u001b[0m\n",
      "\u001b[32m2025-05-23 21:11:12.096\u001b[0m | \u001b[1mINFO    \u001b[0m | \u001b[36mmagic_pdf.libs.pdf_check\u001b[0m:\u001b[36mdetect_invalid_chars\u001b[0m:\u001b[36m67\u001b[0m - \u001b[1mcid_count: 6, text_len: 29514, cid_chars_radio: 0.0002035416242621616\u001b[0m\n",
      "\u001b[32m2025-05-23 21:11:13.254\u001b[0m | \u001b[1mINFO    \u001b[0m | \u001b[36mmagic_pdf.libs.pdf_check\u001b[0m:\u001b[36mdetect_invalid_chars\u001b[0m:\u001b[36m67\u001b[0m - \u001b[1mcid_count: 0, text_len: 42234, cid_chars_radio: 0.0\u001b[0m\n",
      "\u001b[32m2025-05-23 21:11:14.514\u001b[0m | \u001b[1mINFO    \u001b[0m | \u001b[36mmagic_pdf.libs.pdf_check\u001b[0m:\u001b[36mdetect_invalid_chars\u001b[0m:\u001b[36m67\u001b[0m - \u001b[1mcid_count: 0, text_len: 38057, cid_chars_radio: 0.0\u001b[0m\n",
      "\u001b[32m2025-05-23 21:11:15.367\u001b[0m | \u001b[1mINFO    \u001b[0m | \u001b[36mmagic_pdf.libs.pdf_check\u001b[0m:\u001b[36mdetect_invalid_chars\u001b[0m:\u001b[36m67\u001b[0m - \u001b[1mcid_count: 8, text_len: 34364, cid_chars_radio: 0.00023318176518596245\u001b[0m\n",
      "\u001b[32m2025-05-23 21:11:16.136\u001b[0m | \u001b[1mINFO    \u001b[0m | \u001b[36mmagic_pdf.libs.pdf_check\u001b[0m:\u001b[36mdetect_invalid_chars\u001b[0m:\u001b[36m67\u001b[0m - \u001b[1mcid_count: 0, text_len: 28309, cid_chars_radio: 0.0\u001b[0m\n",
      "\u001b[32m2025-05-23 21:11:17.144\u001b[0m | \u001b[1mINFO    \u001b[0m | \u001b[36mmagic_pdf.libs.pdf_check\u001b[0m:\u001b[36mdetect_invalid_chars\u001b[0m:\u001b[36m67\u001b[0m - \u001b[1mcid_count: 0, text_len: 29537, cid_chars_radio: 0.0\u001b[0m\n",
      "\u001b[32m2025-05-23 21:11:18.443\u001b[0m | \u001b[1mINFO    \u001b[0m | \u001b[36mmagic_pdf.libs.pdf_check\u001b[0m:\u001b[36mdetect_invalid_chars\u001b[0m:\u001b[36m67\u001b[0m - \u001b[1mcid_count: 0, text_len: 32186, cid_chars_radio: 0.0\u001b[0m\n",
      "\u001b[32m2025-05-23 21:11:19.222\u001b[0m | \u001b[1mINFO    \u001b[0m | \u001b[36mmagic_pdf.libs.pdf_check\u001b[0m:\u001b[36mdetect_invalid_chars\u001b[0m:\u001b[36m67\u001b[0m - \u001b[1mcid_count: 54, text_len: 29375, cid_chars_radio: 0.0018606574322927434\u001b[0m\n"
     ]
    },
    {
     "name": "stdout",
     "output_type": "stream",
     "text": [
      "MuPDF error: unsupported error: cannot create appearance stream for Screen annotations\n",
      "\n",
      "MuPDF error: unsupported error: cannot create appearance stream for Screen annotations\n",
      "\n",
      "MuPDF error: unsupported error: cannot create appearance stream for Screen annotations\n",
      "\n",
      "MuPDF error: unsupported error: cannot create appearance stream for Screen annotations\n",
      "\n",
      "MuPDF error: unsupported error: cannot create appearance stream for Screen annotations\n",
      "\n",
      "MuPDF error: unsupported error: cannot create appearance stream for Screen annotations\n",
      "\n",
      "MuPDF error: unsupported error: cannot create appearance stream for Screen annotations\n",
      "\n",
      "MuPDF error: unsupported error: cannot create appearance stream for Screen annotations\n",
      "\n",
      "MuPDF error: unsupported error: cannot create appearance stream for Screen annotations\n",
      "\n",
      "MuPDF error: unsupported error: cannot create appearance stream for Screen annotations\n",
      "\n",
      "MuPDF error: unsupported error: cannot create appearance stream for Screen annotations\n",
      "\n",
      "MuPDF error: unsupported error: cannot create appearance stream for Screen annotations\n",
      "\n",
      "MuPDF error: unsupported error: cannot create appearance stream for Screen annotations\n",
      "\n",
      "MuPDF error: unsupported error: cannot create appearance stream for Screen annotations\n",
      "\n",
      "MuPDF error: unsupported error: cannot create appearance stream for Screen annotations\n",
      "\n",
      "MuPDF error: unsupported error: cannot create appearance stream for Screen annotations\n",
      "\n",
      "MuPDF error: unsupported error: cannot create appearance stream for Screen annotations\n",
      "\n",
      "MuPDF error: unsupported error: cannot create appearance stream for Screen annotations\n",
      "\n",
      "MuPDF error: unsupported error: cannot create appearance stream for Screen annotations\n",
      "\n",
      "MuPDF error: unsupported error: cannot create appearance stream for Screen annotations\n",
      "\n",
      "MuPDF error: unsupported error: cannot create appearance stream for Screen annotations\n",
      "\n",
      "MuPDF error: unsupported error: cannot create appearance stream for Screen annotations\n",
      "\n",
      "MuPDF error: unsupported error: cannot create appearance stream for Screen annotations\n",
      "\n",
      "MuPDF error: unsupported error: cannot create appearance stream for Screen annotations\n",
      "\n",
      "MuPDF error: unsupported error: cannot create appearance stream for Screen annotations\n",
      "\n",
      "MuPDF error: unsupported error: cannot create appearance stream for Screen annotations\n",
      "\n",
      "MuPDF error: unsupported error: cannot create appearance stream for Screen annotations\n",
      "\n",
      "MuPDF error: unsupported error: cannot create appearance stream for Screen annotations\n",
      "\n",
      "MuPDF error: unsupported error: cannot create appearance stream for Screen annotations\n",
      "\n",
      "MuPDF error: unsupported error: cannot create appearance stream for Screen annotations\n",
      "\n",
      "MuPDF error: unsupported error: cannot create appearance stream for Screen annotations\n",
      "\n",
      "MuPDF error: unsupported error: cannot create appearance stream for Screen annotations\n",
      "\n",
      "MuPDF error: unsupported error: cannot create appearance stream for Screen annotations\n",
      "\n",
      "MuPDF error: unsupported error: cannot create appearance stream for Screen annotations\n",
      "\n",
      "MuPDF error: unsupported error: cannot create appearance stream for Screen annotations\n",
      "\n",
      "MuPDF error: unsupported error: cannot create appearance stream for Screen annotations\n",
      "\n",
      "MuPDF error: unsupported error: cannot create appearance stream for Screen annotations\n",
      "\n",
      "MuPDF error: unsupported error: cannot create appearance stream for Screen annotations\n",
      "\n",
      "MuPDF error: unsupported error: cannot create appearance stream for Screen annotations\n",
      "\n",
      "MuPDF error: unsupported error: cannot create appearance stream for Screen annotations\n",
      "\n",
      "MuPDF error: unsupported error: cannot create appearance stream for Screen annotations\n",
      "\n",
      "MuPDF error: unsupported error: cannot create appearance stream for Screen annotations\n",
      "\n",
      "MuPDF error: unsupported error: cannot create appearance stream for Screen annotations\n",
      "\n",
      "MuPDF error: unsupported error: cannot create appearance stream for Screen annotations\n",
      "\n",
      "MuPDF error: unsupported error: cannot create appearance stream for Screen annotations\n",
      "\n",
      "MuPDF error: unsupported error: cannot create appearance stream for Screen annotations\n",
      "\n",
      "MuPDF error: unsupported error: cannot create appearance stream for Screen annotations\n",
      "\n",
      "MuPDF error: unsupported error: cannot create appearance stream for Screen annotations\n",
      "\n",
      "MuPDF error: unsupported error: cannot create appearance stream for Screen annotations\n",
      "\n",
      "MuPDF error: unsupported error: cannot create appearance stream for Screen annotations\n",
      "\n",
      "MuPDF error: unsupported error: cannot create appearance stream for Screen annotations\n",
      "\n",
      "MuPDF error: unsupported error: cannot create appearance stream for Screen annotations\n",
      "\n",
      "MuPDF error: unsupported error: cannot create appearance stream for Screen annotations\n",
      "\n",
      "MuPDF error: unsupported error: cannot create appearance stream for Screen annotations\n",
      "\n",
      "MuPDF error: unsupported error: cannot create appearance stream for Screen annotations\n",
      "\n",
      "MuPDF error: unsupported error: cannot create appearance stream for Screen annotations\n",
      "\n",
      "MuPDF error: unsupported error: cannot create appearance stream for Screen annotations\n",
      "\n",
      "MuPDF error: unsupported error: cannot create appearance stream for Screen annotations\n",
      "\n",
      "MuPDF error: unsupported error: cannot create appearance stream for Screen annotations\n",
      "\n",
      "MuPDF error: unsupported error: cannot create appearance stream for Screen annotations\n",
      "\n",
      "MuPDF error: unsupported error: cannot create appearance stream for Screen annotations\n",
      "\n",
      "MuPDF error: unsupported error: cannot create appearance stream for Screen annotations\n",
      "\n",
      "MuPDF error: unsupported error: cannot create appearance stream for Screen annotations\n",
      "\n",
      "MuPDF error: unsupported error: cannot create appearance stream for Screen annotations\n",
      "\n",
      "MuPDF error: unsupported error: cannot create appearance stream for Screen annotations\n",
      "\n",
      "MuPDF error: unsupported error: cannot create appearance stream for Screen annotations\n",
      "\n",
      "MuPDF error: unsupported error: cannot create appearance stream for Screen annotations\n",
      "\n",
      "MuPDF error: unsupported error: cannot create appearance stream for Screen annotations\n",
      "\n",
      "MuPDF error: unsupported error: cannot create appearance stream for Screen annotations\n",
      "\n",
      "MuPDF error: unsupported error: cannot create appearance stream for Screen annotations\n",
      "\n",
      "MuPDF error: unsupported error: cannot create appearance stream for Screen annotations\n",
      "\n",
      "MuPDF error: unsupported error: cannot create appearance stream for Screen annotations\n",
      "\n",
      "MuPDF error: unsupported error: cannot create appearance stream for Screen annotations\n",
      "\n",
      "MuPDF error: unsupported error: cannot create appearance stream for Screen annotations\n",
      "\n",
      "MuPDF error: unsupported error: cannot create appearance stream for Screen annotations\n",
      "\n",
      "MuPDF error: unsupported error: cannot create appearance stream for Screen annotations\n",
      "\n",
      "MuPDF error: unsupported error: cannot create appearance stream for Screen annotations\n",
      "\n",
      "MuPDF error: unsupported error: cannot create appearance stream for Screen annotations\n",
      "\n",
      "MuPDF error: unsupported error: cannot create appearance stream for Screen annotations\n",
      "\n",
      "MuPDF error: unsupported error: cannot create appearance stream for Screen annotations\n",
      "\n",
      "MuPDF error: unsupported error: cannot create appearance stream for Screen annotations\n",
      "\n",
      "MuPDF error: unsupported error: cannot create appearance stream for Screen annotations\n",
      "\n",
      "MuPDF error: unsupported error: cannot create appearance stream for Screen annotations\n",
      "\n",
      "MuPDF error: unsupported error: cannot create appearance stream for Screen annotations\n",
      "\n",
      "MuPDF error: unsupported error: cannot create appearance stream for Screen annotations\n",
      "\n",
      "MuPDF error: unsupported error: cannot create appearance stream for Screen annotations\n",
      "\n",
      "MuPDF error: unsupported error: cannot create appearance stream for Screen annotations\n",
      "\n",
      "MuPDF error: unsupported error: cannot create appearance stream for Screen annotations\n",
      "\n",
      "MuPDF error: unsupported error: cannot create appearance stream for Screen annotations\n",
      "\n",
      "MuPDF error: unsupported error: cannot create appearance stream for Screen annotations\n",
      "\n",
      "MuPDF error: unsupported error: cannot create appearance stream for Screen annotations\n",
      "\n",
      "MuPDF error: unsupported error: cannot create appearance stream for Screen annotations\n",
      "\n",
      "MuPDF error: unsupported error: cannot create appearance stream for Screen annotations\n",
      "\n",
      "MuPDF error: unsupported error: cannot create appearance stream for Screen annotations\n",
      "\n",
      "MuPDF error: unsupported error: cannot create appearance stream for Screen annotations\n",
      "\n",
      "MuPDF error: unsupported error: cannot create appearance stream for Screen annotations\n",
      "\n",
      "MuPDF error: unsupported error: cannot create appearance stream for Screen annotations\n",
      "\n",
      "MuPDF error: unsupported error: cannot create appearance stream for Screen annotations\n",
      "\n",
      "MuPDF error: unsupported error: cannot create appearance stream for Screen annotations\n",
      "\n",
      "MuPDF error: unsupported error: cannot create appearance stream for Screen annotations\n",
      "\n",
      "MuPDF error: unsupported error: cannot create appearance stream for Screen annotations\n",
      "\n",
      "MuPDF error: unsupported error: cannot create appearance stream for Screen annotations\n",
      "\n",
      "MuPDF error: unsupported error: cannot create appearance stream for Screen annotations\n",
      "\n",
      "MuPDF error: unsupported error: cannot create appearance stream for Screen annotations\n",
      "\n",
      "MuPDF error: unsupported error: cannot create appearance stream for Screen annotations\n",
      "\n",
      "MuPDF error: unsupported error: cannot create appearance stream for Screen annotations\n",
      "\n",
      "MuPDF error: unsupported error: cannot create appearance stream for Screen annotations\n",
      "\n",
      "MuPDF error: unsupported error: cannot create appearance stream for Screen annotations\n",
      "\n",
      "MuPDF error: unsupported error: cannot create appearance stream for Screen annotations\n",
      "\n",
      "MuPDF error: unsupported error: cannot create appearance stream for Screen annotations\n",
      "\n",
      "MuPDF error: unsupported error: cannot create appearance stream for Screen annotations\n",
      "\n",
      "MuPDF error: unsupported error: cannot create appearance stream for Screen annotations\n",
      "\n",
      "MuPDF error: unsupported error: cannot create appearance stream for Screen annotations\n",
      "\n",
      "MuPDF error: unsupported error: cannot create appearance stream for Screen annotations\n",
      "\n",
      "MuPDF error: unsupported error: cannot create appearance stream for Screen annotations\n",
      "\n",
      "MuPDF error: unsupported error: cannot create appearance stream for Screen annotations\n",
      "\n",
      "MuPDF error: unsupported error: cannot create appearance stream for Screen annotations\n",
      "\n",
      "MuPDF error: unsupported error: cannot create appearance stream for Screen annotations\n",
      "\n",
      "MuPDF error: unsupported error: cannot create appearance stream for Screen annotations\n",
      "\n",
      "MuPDF error: unsupported error: cannot create appearance stream for Screen annotations\n",
      "\n",
      "MuPDF error: unsupported error: cannot create appearance stream for Screen annotations\n",
      "\n",
      "MuPDF error: unsupported error: cannot create appearance stream for Screen annotations\n",
      "\n",
      "MuPDF error: unsupported error: cannot create appearance stream for Screen annotations\n",
      "\n",
      "MuPDF error: unsupported error: cannot create appearance stream for Screen annotations\n",
      "\n",
      "MuPDF error: unsupported error: cannot create appearance stream for Screen annotations\n",
      "\n",
      "MuPDF error: unsupported error: cannot create appearance stream for Screen annotations\n",
      "\n",
      "MuPDF error: unsupported error: cannot create appearance stream for Screen annotations\n",
      "\n",
      "MuPDF error: unsupported error: cannot create appearance stream for Screen annotations\n",
      "\n",
      "MuPDF error: unsupported error: cannot create appearance stream for Screen annotations\n",
      "\n",
      "MuPDF error: unsupported error: cannot create appearance stream for Screen annotations\n",
      "\n",
      "MuPDF error: unsupported error: cannot create appearance stream for Screen annotations\n",
      "\n",
      "MuPDF error: unsupported error: cannot create appearance stream for Screen annotations\n",
      "\n",
      "MuPDF error: unsupported error: cannot create appearance stream for Screen annotations\n",
      "\n",
      "MuPDF error: unsupported error: cannot create appearance stream for Screen annotations\n",
      "\n",
      "MuPDF error: unsupported error: cannot create appearance stream for Screen annotations\n",
      "\n",
      "MuPDF error: unsupported error: cannot create appearance stream for Screen annotations\n",
      "\n",
      "MuPDF error: unsupported error: cannot create appearance stream for Screen annotations\n",
      "\n",
      "MuPDF error: unsupported error: cannot create appearance stream for Screen annotations\n",
      "\n",
      "MuPDF error: unsupported error: cannot create appearance stream for Screen annotations\n",
      "\n",
      "MuPDF error: unsupported error: cannot create appearance stream for Screen annotations\n",
      "\n",
      "MuPDF error: unsupported error: cannot create appearance stream for Screen annotations\n",
      "\n",
      "MuPDF error: unsupported error: cannot create appearance stream for Screen annotations\n",
      "\n",
      "MuPDF error: unsupported error: cannot create appearance stream for Screen annotations\n",
      "\n",
      "MuPDF error: unsupported error: cannot create appearance stream for Screen annotations\n",
      "\n",
      "MuPDF error: unsupported error: cannot create appearance stream for Screen annotations\n",
      "\n",
      "MuPDF error: unsupported error: cannot create appearance stream for Screen annotations\n",
      "\n",
      "MuPDF error: unsupported error: cannot create appearance stream for Screen annotations\n",
      "\n",
      "MuPDF error: unsupported error: cannot create appearance stream for Screen annotations\n",
      "\n",
      "MuPDF error: unsupported error: cannot create appearance stream for Screen annotations\n",
      "\n",
      "MuPDF error: unsupported error: cannot create appearance stream for Screen annotations\n",
      "\n",
      "MuPDF error: unsupported error: cannot create appearance stream for Screen annotations\n",
      "\n",
      "MuPDF error: unsupported error: cannot create appearance stream for Screen annotations\n",
      "\n",
      "MuPDF error: unsupported error: cannot create appearance stream for Screen annotations\n",
      "\n",
      "MuPDF error: unsupported error: cannot create appearance stream for Screen annotations\n",
      "\n",
      "MuPDF error: unsupported error: cannot create appearance stream for Screen annotations\n",
      "\n",
      "MuPDF error: unsupported error: cannot create appearance stream for Screen annotations\n",
      "\n",
      "MuPDF error: unsupported error: cannot create appearance stream for Screen annotations\n",
      "\n",
      "MuPDF error: unsupported error: cannot create appearance stream for Screen annotations\n",
      "\n",
      "MuPDF error: unsupported error: cannot create appearance stream for Screen annotations\n",
      "\n",
      "MuPDF error: unsupported error: cannot create appearance stream for Screen annotations\n",
      "\n",
      "MuPDF error: unsupported error: cannot create appearance stream for Screen annotations\n",
      "\n",
      "MuPDF error: unsupported error: cannot create appearance stream for Screen annotations\n",
      "\n",
      "MuPDF error: unsupported error: cannot create appearance stream for Screen annotations\n",
      "\n",
      "MuPDF error: unsupported error: cannot create appearance stream for Screen annotations\n",
      "\n",
      "MuPDF error: unsupported error: cannot create appearance stream for Screen annotations\n",
      "\n",
      "MuPDF error: unsupported error: cannot create appearance stream for Screen annotations\n",
      "\n",
      "MuPDF error: unsupported error: cannot create appearance stream for Screen annotations\n",
      "\n",
      "MuPDF error: unsupported error: cannot create appearance stream for Screen annotations\n",
      "\n",
      "MuPDF error: unsupported error: cannot create appearance stream for Screen annotations\n",
      "\n",
      "MuPDF error: unsupported error: cannot create appearance stream for Screen annotations\n",
      "\n",
      "MuPDF error: unsupported error: cannot create appearance stream for Screen annotations\n",
      "\n",
      "MuPDF error: unsupported error: cannot create appearance stream for Screen annotations\n",
      "\n",
      "MuPDF error: unsupported error: cannot create appearance stream for Screen annotations\n",
      "\n",
      "MuPDF error: unsupported error: cannot create appearance stream for Screen annotations\n",
      "\n",
      "MuPDF error: unsupported error: cannot create appearance stream for Screen annotations\n",
      "\n",
      "MuPDF error: unsupported error: cannot create appearance stream for Screen annotations\n",
      "\n",
      "MuPDF error: unsupported error: cannot create appearance stream for Screen annotations\n",
      "\n",
      "MuPDF error: unsupported error: cannot create appearance stream for Screen annotations\n",
      "\n",
      "MuPDF error: unsupported error: cannot create appearance stream for Screen annotations\n",
      "\n",
      "MuPDF error: unsupported error: cannot create appearance stream for Screen annotations\n",
      "\n",
      "MuPDF error: unsupported error: cannot create appearance stream for Screen annotations\n",
      "\n",
      "MuPDF error: unsupported error: cannot create appearance stream for Screen annotations\n",
      "\n",
      "MuPDF error: unsupported error: cannot create appearance stream for Screen annotations\n",
      "\n",
      "MuPDF error: unsupported error: cannot create appearance stream for Screen annotations\n",
      "\n",
      "MuPDF error: unsupported error: cannot create appearance stream for Screen annotations\n",
      "\n",
      "MuPDF error: unsupported error: cannot create appearance stream for Screen annotations\n",
      "\n",
      "MuPDF error: unsupported error: cannot create appearance stream for Screen annotations\n",
      "\n",
      "MuPDF error: unsupported error: cannot create appearance stream for Screen annotations\n",
      "\n",
      "MuPDF error: unsupported error: cannot create appearance stream for Screen annotations\n",
      "\n",
      "MuPDF error: unsupported error: cannot create appearance stream for Screen annotations\n",
      "\n",
      "MuPDF error: unsupported error: cannot create appearance stream for Screen annotations\n",
      "\n",
      "MuPDF error: unsupported error: cannot create appearance stream for Screen annotations\n",
      "\n"
     ]
    },
    {
     "name": "stderr",
     "output_type": "stream",
     "text": [
      "\u001b[32m2025-05-23 21:11:21.673\u001b[0m | \u001b[1mINFO    \u001b[0m | \u001b[36mmagic_pdf.libs.pdf_check\u001b[0m:\u001b[36mdetect_invalid_chars\u001b[0m:\u001b[36m67\u001b[0m - \u001b[1mcid_count: 149, text_len: 51493, cid_chars_radio: 0.002951430156089058\u001b[0m\n",
      "\u001b[32m2025-05-23 21:11:22.898\u001b[0m | \u001b[1mINFO    \u001b[0m | \u001b[36mmagic_pdf.libs.pdf_check\u001b[0m:\u001b[36mdetect_invalid_chars\u001b[0m:\u001b[36m67\u001b[0m - \u001b[1mcid_count: 1, text_len: 41634, cid_chars_radio: 2.4022869772022967e-05\u001b[0m\n",
      "\u001b[32m2025-05-23 21:11:26.423\u001b[0m | \u001b[1mINFO    \u001b[0m | \u001b[36mmagic_pdf.libs.pdf_check\u001b[0m:\u001b[36mdetect_invalid_chars\u001b[0m:\u001b[36m67\u001b[0m - \u001b[1mcid_count: 0, text_len: 38683, cid_chars_radio: 0.0\u001b[0m\n",
      "\u001b[32m2025-05-23 21:11:28.024\u001b[0m | \u001b[1mINFO    \u001b[0m | \u001b[36mmagic_pdf.libs.pdf_check\u001b[0m:\u001b[36mdetect_invalid_chars\u001b[0m:\u001b[36m67\u001b[0m - \u001b[1mcid_count: 0, text_len: 32490, cid_chars_radio: 0.0\u001b[0m\n",
      "\u001b[32m2025-05-23 21:11:28.737\u001b[0m | \u001b[1mINFO    \u001b[0m | \u001b[36mmagic_pdf.libs.pdf_check\u001b[0m:\u001b[36mdetect_invalid_chars\u001b[0m:\u001b[36m67\u001b[0m - \u001b[1mcid_count: 0, text_len: 30217, cid_chars_radio: 0.0\u001b[0m\n",
      "\u001b[32m2025-05-23 21:11:29.604\u001b[0m | \u001b[1mINFO    \u001b[0m | \u001b[36mmagic_pdf.libs.pdf_check\u001b[0m:\u001b[36mdetect_invalid_chars\u001b[0m:\u001b[36m67\u001b[0m - \u001b[1mcid_count: 4, text_len: 38759, cid_chars_radio: 0.00010327111248805928\u001b[0m\n",
      "\u001b[32m2025-05-23 21:11:30.031\u001b[0m | \u001b[1mINFO    \u001b[0m | \u001b[36mmagic_pdf.libs.pdf_check\u001b[0m:\u001b[36mdetect_invalid_chars\u001b[0m:\u001b[36m67\u001b[0m - \u001b[1mcid_count: 0, text_len: 22349, cid_chars_radio: 0.0\u001b[0m\n",
      "\u001b[32m2025-05-23 21:11:30.801\u001b[0m | \u001b[1mINFO    \u001b[0m | \u001b[36mmagic_pdf.libs.pdf_check\u001b[0m:\u001b[36mdetect_invalid_chars\u001b[0m:\u001b[36m67\u001b[0m - \u001b[1mcid_count: 0, text_len: 43547, cid_chars_radio: 0.0\u001b[0m\n",
      "\u001b[32m2025-05-23 21:11:31.755\u001b[0m | \u001b[1mINFO    \u001b[0m | \u001b[36mmagic_pdf.libs.pdf_check\u001b[0m:\u001b[36mdetect_invalid_chars\u001b[0m:\u001b[36m67\u001b[0m - \u001b[1mcid_count: 0, text_len: 28153, cid_chars_radio: 0.0\u001b[0m\n",
      "\u001b[32m2025-05-23 21:11:32.337\u001b[0m | \u001b[1mINFO    \u001b[0m | \u001b[36mmagic_pdf.libs.pdf_check\u001b[0m:\u001b[36mdetect_invalid_chars\u001b[0m:\u001b[36m67\u001b[0m - \u001b[1mcid_count: 0, text_len: 29183, cid_chars_radio: 0.0\u001b[0m\n",
      "\u001b[32m2025-05-23 21:11:33.174\u001b[0m | \u001b[1mINFO    \u001b[0m | \u001b[36mmagic_pdf.libs.pdf_check\u001b[0m:\u001b[36mdetect_invalid_chars\u001b[0m:\u001b[36m67\u001b[0m - \u001b[1mcid_count: 0, text_len: 25970, cid_chars_radio: 0.0\u001b[0m\n",
      "\u001b[32m2025-05-23 21:11:35.074\u001b[0m | \u001b[1mINFO    \u001b[0m | \u001b[36mmagic_pdf.libs.pdf_check\u001b[0m:\u001b[36mdetect_invalid_chars\u001b[0m:\u001b[36m67\u001b[0m - \u001b[1mcid_count: 4, text_len: 62004, cid_chars_radio: 6.454527851287678e-05\u001b[0m\n",
      "\u001b[32m2025-05-23 21:11:35.862\u001b[0m | \u001b[1mINFO    \u001b[0m | \u001b[36mmagic_pdf.libs.pdf_check\u001b[0m:\u001b[36mdetect_invalid_chars\u001b[0m:\u001b[36m67\u001b[0m - \u001b[1mcid_count: 0, text_len: 30922, cid_chars_radio: 0.0\u001b[0m\n",
      "\u001b[32m2025-05-23 21:11:36.713\u001b[0m | \u001b[1mINFO    \u001b[0m | \u001b[36mmagic_pdf.libs.pdf_check\u001b[0m:\u001b[36mdetect_invalid_chars\u001b[0m:\u001b[36m67\u001b[0m - \u001b[1mcid_count: 0, text_len: 42690, cid_chars_radio: 0.0\u001b[0m\n",
      "\u001b[32m2025-05-23 21:11:37.743\u001b[0m | \u001b[1mINFO    \u001b[0m | \u001b[36mmagic_pdf.libs.pdf_check\u001b[0m:\u001b[36mdetect_invalid_chars\u001b[0m:\u001b[36m67\u001b[0m - \u001b[1mcid_count: 0, text_len: 31200, cid_chars_radio: 0.0\u001b[0m\n",
      "\u001b[32m2025-05-23 21:11:39.560\u001b[0m | \u001b[1mINFO    \u001b[0m | \u001b[36mmagic_pdf.libs.pdf_check\u001b[0m:\u001b[36mdetect_invalid_chars\u001b[0m:\u001b[36m67\u001b[0m - \u001b[1mcid_count: 0, text_len: 54825, cid_chars_radio: 0.0\u001b[0m\n",
      "\u001b[32m2025-05-23 21:11:40.426\u001b[0m | \u001b[1mINFO    \u001b[0m | \u001b[36mmagic_pdf.libs.pdf_check\u001b[0m:\u001b[36mdetect_invalid_chars\u001b[0m:\u001b[36m67\u001b[0m - \u001b[1mcid_count: 0, text_len: 31698, cid_chars_radio: 0.0\u001b[0m\n",
      "\u001b[32m2025-05-23 21:11:42.352\u001b[0m | \u001b[1mINFO    \u001b[0m | \u001b[36mmagic_pdf.libs.pdf_check\u001b[0m:\u001b[36mdetect_invalid_chars\u001b[0m:\u001b[36m67\u001b[0m - \u001b[1mcid_count: 0, text_len: 42697, cid_chars_radio: 0.0\u001b[0m\n",
      "\u001b[32m2025-05-23 21:11:43.561\u001b[0m | \u001b[1mINFO    \u001b[0m | \u001b[36mmagic_pdf.libs.pdf_check\u001b[0m:\u001b[36mdetect_invalid_chars\u001b[0m:\u001b[36m67\u001b[0m - \u001b[1mcid_count: 0, text_len: 24006, cid_chars_radio: 0.0\u001b[0m\n",
      "\u001b[32m2025-05-23 21:11:44.607\u001b[0m | \u001b[1mINFO    \u001b[0m | \u001b[36mmagic_pdf.libs.pdf_check\u001b[0m:\u001b[36mdetect_invalid_chars\u001b[0m:\u001b[36m67\u001b[0m - \u001b[1mcid_count: 0, text_len: 30412, cid_chars_radio: 0.0\u001b[0m\n",
      "\u001b[32m2025-05-23 21:11:45.811\u001b[0m | \u001b[1mINFO    \u001b[0m | \u001b[36mmagic_pdf.libs.pdf_check\u001b[0m:\u001b[36mdetect_invalid_chars\u001b[0m:\u001b[36m67\u001b[0m - \u001b[1mcid_count: 1, text_len: 53883, cid_chars_radio: 1.856114039646596e-05\u001b[0m\n",
      "\u001b[32m2025-05-23 21:11:46.982\u001b[0m | \u001b[1mINFO    \u001b[0m | \u001b[36mmagic_pdf.libs.pdf_check\u001b[0m:\u001b[36mdetect_invalid_chars\u001b[0m:\u001b[36m67\u001b[0m - \u001b[1mcid_count: 38, text_len: 32528, cid_chars_radio: 0.0011787331720330045\u001b[0m\n",
      "\u001b[32m2025-05-23 21:11:48.081\u001b[0m | \u001b[1mINFO    \u001b[0m | \u001b[36mmagic_pdf.libs.pdf_check\u001b[0m:\u001b[36mdetect_invalid_chars\u001b[0m:\u001b[36m67\u001b[0m - \u001b[1mcid_count: 0, text_len: 24100, cid_chars_radio: 0.0\u001b[0m\n",
      "\u001b[32m2025-05-23 21:11:50.722\u001b[0m | \u001b[1mINFO    \u001b[0m | \u001b[36mmagic_pdf.libs.pdf_check\u001b[0m:\u001b[36mdetect_invalid_chars\u001b[0m:\u001b[36m67\u001b[0m - \u001b[1mcid_count: 2, text_len: 37874, cid_chars_radio: 5.282620179609086e-05\u001b[0m\n",
      "\u001b[32m2025-05-23 21:11:51.801\u001b[0m | \u001b[1mINFO    \u001b[0m | \u001b[36mmagic_pdf.libs.pdf_check\u001b[0m:\u001b[36mdetect_invalid_chars\u001b[0m:\u001b[36m67\u001b[0m - \u001b[1mcid_count: 2, text_len: 33301, cid_chars_radio: 6.008351608736143e-05\u001b[0m\n",
      "\u001b[32m2025-05-23 21:11:52.898\u001b[0m | \u001b[1mINFO    \u001b[0m | \u001b[36mmagic_pdf.libs.pdf_check\u001b[0m:\u001b[36mdetect_invalid_chars\u001b[0m:\u001b[36m67\u001b[0m - \u001b[1mcid_count: 0, text_len: 36811, cid_chars_radio: 0.0\u001b[0m\n",
      "\u001b[32m2025-05-23 21:11:53.777\u001b[0m | \u001b[1mINFO    \u001b[0m | \u001b[36mmagic_pdf.libs.pdf_check\u001b[0m:\u001b[36mdetect_invalid_chars\u001b[0m:\u001b[36m67\u001b[0m - \u001b[1mcid_count: 0, text_len: 30897, cid_chars_radio: 0.0\u001b[0m\n",
      "\u001b[32m2025-05-23 21:11:54.477\u001b[0m | \u001b[1mINFO    \u001b[0m | \u001b[36mmagic_pdf.libs.pdf_check\u001b[0m:\u001b[36mdetect_invalid_chars\u001b[0m:\u001b[36m67\u001b[0m - \u001b[1mcid_count: 4, text_len: 26463, cid_chars_radio: 0.00015131454511064875\u001b[0m\n",
      "\u001b[32m2025-05-23 21:11:55.613\u001b[0m | \u001b[1mINFO    \u001b[0m | \u001b[36mmagic_pdf.libs.pdf_check\u001b[0m:\u001b[36mdetect_invalid_chars\u001b[0m:\u001b[36m67\u001b[0m - \u001b[1mcid_count: 0, text_len: 29321, cid_chars_radio: 0.0\u001b[0m\n",
      "\u001b[32m2025-05-23 21:11:57.259\u001b[0m | \u001b[1mINFO    \u001b[0m | \u001b[36mmagic_pdf.libs.pdf_check\u001b[0m:\u001b[36mdetect_invalid_chars\u001b[0m:\u001b[36m67\u001b[0m - \u001b[1mcid_count: 0, text_len: 37045, cid_chars_radio: 0.0\u001b[0m\n",
      "\u001b[32m2025-05-23 21:11:59.788\u001b[0m | \u001b[1mINFO    \u001b[0m | \u001b[36mmagic_pdf.libs.pdf_check\u001b[0m:\u001b[36mdetect_invalid_chars\u001b[0m:\u001b[36m67\u001b[0m - \u001b[1mcid_count: 0, text_len: 48142, cid_chars_radio: 0.0\u001b[0m\n",
      "\u001b[32m2025-05-23 21:12:00.558\u001b[0m | \u001b[1mINFO    \u001b[0m | \u001b[36mmagic_pdf.libs.pdf_check\u001b[0m:\u001b[36mdetect_invalid_chars\u001b[0m:\u001b[36m67\u001b[0m - \u001b[1mcid_count: 0, text_len: 38831, cid_chars_radio: 0.0\u001b[0m\n",
      "\u001b[32m2025-05-23 21:12:01.501\u001b[0m | \u001b[1mINFO    \u001b[0m | \u001b[36mmagic_pdf.libs.pdf_check\u001b[0m:\u001b[36mdetect_invalid_chars\u001b[0m:\u001b[36m67\u001b[0m - \u001b[1mcid_count: 9, text_len: 34966, cid_chars_radio: 0.0002578574907601066\u001b[0m\n",
      "\u001b[32m2025-05-23 21:12:02.246\u001b[0m | \u001b[1mINFO    \u001b[0m | \u001b[36mmagic_pdf.libs.pdf_check\u001b[0m:\u001b[36mdetect_invalid_chars\u001b[0m:\u001b[36m67\u001b[0m - \u001b[1mcid_count: 0, text_len: 31086, cid_chars_radio: 0.0\u001b[0m\n",
      "\u001b[32m2025-05-23 21:12:03.350\u001b[0m | \u001b[1mINFO    \u001b[0m | \u001b[36mmagic_pdf.libs.pdf_check\u001b[0m:\u001b[36mdetect_invalid_chars\u001b[0m:\u001b[36m67\u001b[0m - \u001b[1mcid_count: 2, text_len: 65059, cid_chars_radio: 3.074794373126297e-05\u001b[0m\n",
      "\u001b[32m2025-05-23 21:12:05.201\u001b[0m | \u001b[1mINFO    \u001b[0m | \u001b[36mmagic_pdf.libs.pdf_check\u001b[0m:\u001b[36mdetect_invalid_chars\u001b[0m:\u001b[36m67\u001b[0m - \u001b[1mcid_count: 0, text_len: 26294, cid_chars_radio: 0.0\u001b[0m\n",
      "\u001b[32m2025-05-23 21:12:06.192\u001b[0m | \u001b[1mINFO    \u001b[0m | \u001b[36mmagic_pdf.libs.pdf_check\u001b[0m:\u001b[36mdetect_invalid_chars\u001b[0m:\u001b[36m67\u001b[0m - \u001b[1mcid_count: 0, text_len: 25068, cid_chars_radio: 0.0\u001b[0m\n",
      "\u001b[32m2025-05-23 21:12:07.248\u001b[0m | \u001b[1mINFO    \u001b[0m | \u001b[36mmagic_pdf.libs.pdf_check\u001b[0m:\u001b[36mdetect_invalid_chars\u001b[0m:\u001b[36m67\u001b[0m - \u001b[1mcid_count: 0, text_len: 37150, cid_chars_radio: 0.0\u001b[0m\n",
      "\u001b[32m2025-05-23 21:12:07.926\u001b[0m | \u001b[1mINFO    \u001b[0m | \u001b[36mmagic_pdf.libs.pdf_check\u001b[0m:\u001b[36mdetect_invalid_chars\u001b[0m:\u001b[36m67\u001b[0m - \u001b[1mcid_count: 1, text_len: 35109, cid_chars_radio: 2.8488405219075836e-05\u001b[0m\n",
      "\u001b[32m2025-05-23 21:12:09.504\u001b[0m | \u001b[1mINFO    \u001b[0m | \u001b[36mmagic_pdf.libs.pdf_check\u001b[0m:\u001b[36mdetect_invalid_chars\u001b[0m:\u001b[36m67\u001b[0m - \u001b[1mcid_count: 0, text_len: 58468, cid_chars_radio: 0.0\u001b[0m\n",
      "\u001b[32m2025-05-23 21:12:10.780\u001b[0m | \u001b[1mINFO    \u001b[0m | \u001b[36mmagic_pdf.libs.pdf_check\u001b[0m:\u001b[36mdetect_invalid_chars\u001b[0m:\u001b[36m67\u001b[0m - \u001b[1mcid_count: 0, text_len: 23084, cid_chars_radio: 0.0\u001b[0m\n",
      "\u001b[32m2025-05-23 21:12:11.123\u001b[0m | \u001b[1mINFO    \u001b[0m | \u001b[36mmagic_pdf.libs.pdf_check\u001b[0m:\u001b[36mdetect_invalid_chars\u001b[0m:\u001b[36m67\u001b[0m - \u001b[1mcid_count: 0, text_len: 12239, cid_chars_radio: 0.0\u001b[0m\n",
      "\u001b[32m2025-05-23 21:12:11.650\u001b[0m | \u001b[1mINFO    \u001b[0m | \u001b[36mmagic_pdf.libs.pdf_check\u001b[0m:\u001b[36mdetect_invalid_chars\u001b[0m:\u001b[36m67\u001b[0m - \u001b[1mcid_count: 0, text_len: 26834, cid_chars_radio: 0.0\u001b[0m\n",
      "\u001b[32m2025-05-23 21:12:12.617\u001b[0m | \u001b[1mINFO    \u001b[0m | \u001b[36mmagic_pdf.libs.pdf_check\u001b[0m:\u001b[36mdetect_invalid_chars\u001b[0m:\u001b[36m67\u001b[0m - \u001b[1mcid_count: 5, text_len: 33045, cid_chars_radio: 0.00015146007512419727\u001b[0m\n",
      "\u001b[32m2025-05-23 21:12:13.322\u001b[0m | \u001b[1mINFO    \u001b[0m | \u001b[36mmagic_pdf.libs.pdf_check\u001b[0m:\u001b[36mdetect_invalid_chars\u001b[0m:\u001b[36m67\u001b[0m - \u001b[1mcid_count: 9, text_len: 29524, cid_chars_radio: 0.00030548861206340584\u001b[0m\n",
      "\u001b[32m2025-05-23 21:12:38.478\u001b[0m | \u001b[1mINFO    \u001b[0m | \u001b[36mmagic_pdf.libs.pdf_check\u001b[0m:\u001b[36mdetect_invalid_chars\u001b[0m:\u001b[36m67\u001b[0m - \u001b[1mcid_count: 17, text_len: 35285, cid_chars_radio: 0.0004834214866632543\u001b[0m\n",
      "\u001b[32m2025-05-23 21:12:40.726\u001b[0m | \u001b[1mINFO    \u001b[0m | \u001b[36mmagic_pdf.libs.pdf_check\u001b[0m:\u001b[36mdetect_invalid_chars\u001b[0m:\u001b[36m67\u001b[0m - \u001b[1mcid_count: 1, text_len: 25888, cid_chars_radio: 3.86383833700398e-05\u001b[0m\n",
      "\u001b[32m2025-05-23 21:12:41.852\u001b[0m | \u001b[1mINFO    \u001b[0m | \u001b[36mmagic_pdf.libs.pdf_check\u001b[0m:\u001b[36mdetect_invalid_chars\u001b[0m:\u001b[36m67\u001b[0m - \u001b[1mcid_count: 3, text_len: 38393, cid_chars_radio: 7.817589576547231e-05\u001b[0m\n",
      "\u001b[32m2025-05-23 21:12:43.015\u001b[0m | \u001b[1mINFO    \u001b[0m | \u001b[36mmagic_pdf.libs.pdf_check\u001b[0m:\u001b[36mdetect_invalid_chars\u001b[0m:\u001b[36m67\u001b[0m - \u001b[1mcid_count: 3, text_len: 33872, cid_chars_radio: 8.862367433753803e-05\u001b[0m\n",
      "\u001b[32m2025-05-23 21:12:44.238\u001b[0m | \u001b[1mINFO    \u001b[0m | \u001b[36mmagic_pdf.libs.pdf_check\u001b[0m:\u001b[36mdetect_invalid_chars\u001b[0m:\u001b[36m67\u001b[0m - \u001b[1mcid_count: 0, text_len: 32320, cid_chars_radio: 0.0\u001b[0m\n",
      "\u001b[32m2025-05-23 21:12:45.290\u001b[0m | \u001b[1mINFO    \u001b[0m | \u001b[36mmagic_pdf.libs.pdf_check\u001b[0m:\u001b[36mdetect_invalid_chars\u001b[0m:\u001b[36m67\u001b[0m - \u001b[1mcid_count: 0, text_len: 35670, cid_chars_radio: 0.0\u001b[0m\n",
      "\u001b[32m2025-05-23 21:12:46.258\u001b[0m | \u001b[1mINFO    \u001b[0m | \u001b[36mmagic_pdf.libs.pdf_check\u001b[0m:\u001b[36mdetect_invalid_chars\u001b[0m:\u001b[36m67\u001b[0m - \u001b[1mcid_count: 7, text_len: 43833, cid_chars_radio: 0.00015989036089538602\u001b[0m\n",
      "\u001b[32m2025-05-23 21:12:47.706\u001b[0m | \u001b[1mINFO    \u001b[0m | \u001b[36mmagic_pdf.libs.pdf_check\u001b[0m:\u001b[36mdetect_invalid_chars\u001b[0m:\u001b[36m67\u001b[0m - \u001b[1mcid_count: 0, text_len: 15734, cid_chars_radio: 0.0\u001b[0m\n",
      "\u001b[32m2025-05-23 21:12:49.241\u001b[0m | \u001b[1mINFO    \u001b[0m | \u001b[36mmagic_pdf.libs.pdf_check\u001b[0m:\u001b[36mdetect_invalid_chars\u001b[0m:\u001b[36m67\u001b[0m - \u001b[1mcid_count: 1, text_len: 28429, cid_chars_radio: 3.518401238477236e-05\u001b[0m\n",
      "\u001b[32m2025-05-23 21:13:00.693\u001b[0m | \u001b[1mINFO    \u001b[0m | \u001b[36mmagic_pdf.libs.pdf_check\u001b[0m:\u001b[36mdetect_invalid_chars\u001b[0m:\u001b[36m67\u001b[0m - \u001b[1mcid_count: 0, text_len: 31671, cid_chars_radio: 0.0\u001b[0m\n",
      "\u001b[32m2025-05-23 21:13:05.420\u001b[0m | \u001b[1mINFO    \u001b[0m | \u001b[36mmagic_pdf.libs.pdf_check\u001b[0m:\u001b[36mdetect_invalid_chars\u001b[0m:\u001b[36m67\u001b[0m - \u001b[1mcid_count: 3, text_len: 32146, cid_chars_radio: 9.33852140077821e-05\u001b[0m\n",
      "\u001b[32m2025-05-23 21:13:05.931\u001b[0m | \u001b[1mINFO    \u001b[0m | \u001b[36mmagic_pdf.libs.pdf_check\u001b[0m:\u001b[36mdetect_invalid_chars\u001b[0m:\u001b[36m67\u001b[0m - \u001b[1mcid_count: 0, text_len: 29827, cid_chars_radio: 0.0\u001b[0m\n",
      "\u001b[32m2025-05-23 21:13:07.343\u001b[0m | \u001b[1mINFO    \u001b[0m | \u001b[36mmagic_pdf.libs.pdf_check\u001b[0m:\u001b[36mdetect_invalid_chars\u001b[0m:\u001b[36m67\u001b[0m - \u001b[1mcid_count: 26, text_len: 44684, cid_chars_radio: 0.0005845849446892706\u001b[0m\n",
      "\u001b[32m2025-05-23 21:13:08.699\u001b[0m | \u001b[1mINFO    \u001b[0m | \u001b[36mmagic_pdf.libs.pdf_check\u001b[0m:\u001b[36mdetect_invalid_chars\u001b[0m:\u001b[36m67\u001b[0m - \u001b[1mcid_count: 4, text_len: 37338, cid_chars_radio: 0.00010720986330742428\u001b[0m\n",
      "\u001b[32m2025-05-23 21:13:08.980\u001b[0m | \u001b[1mINFO    \u001b[0m | \u001b[36mmagic_pdf.model.doc_analyze_by_custom_model\u001b[0m:\u001b[36mbatch_doc_analyze\u001b[0m:\u001b[36m220\u001b[0m - \u001b[1mBatch 1/8: 200 pages/1586 pages\u001b[0m\n",
      "\u001b[32m2025-05-23 21:13:08.981\u001b[0m | \u001b[1mINFO    \u001b[0m | \u001b[36mmagic_pdf.model.doc_analyze_by_custom_model\u001b[0m:\u001b[36mmay_batch_image_analyze\u001b[0m:\u001b[36m275\u001b[0m - \u001b[1mgpu_memory: 24 GB, batch_ratio: 16\u001b[0m\n",
      "Layout Predict: 100%|██████████| 200/200 [00:10<00:00, 19.86it/s]\n",
      "MFD Predict: 100%|██████████| 200/200 [00:08<00:00, 24.68it/s]\n",
      "MFR Predict: 100%|██████████| 1137/1137 [00:18<00:00, 62.34it/s] \n",
      "OCR-det Predict: 100%|██████████| 200/200 [00:35<00:00,  5.61it/s]\n",
      "Table Predict: 100%|██████████| 95/95 [00:24<00:00,  3.94it/s]\n",
      "\u001b[32m2025-05-23 21:14:45.579\u001b[0m | \u001b[1mINFO    \u001b[0m | \u001b[36mmagic_pdf.model.doc_analyze_by_custom_model\u001b[0m:\u001b[36mbatch_doc_analyze\u001b[0m:\u001b[36m220\u001b[0m - \u001b[1mBatch 2/8: 400 pages/1586 pages\u001b[0m\n",
      "\u001b[32m2025-05-23 21:14:45.580\u001b[0m | \u001b[1mINFO    \u001b[0m | \u001b[36mmagic_pdf.model.doc_analyze_by_custom_model\u001b[0m:\u001b[36mmay_batch_image_analyze\u001b[0m:\u001b[36m275\u001b[0m - \u001b[1mgpu_memory: 24 GB, batch_ratio: 16\u001b[0m\n",
      "Layout Predict: 100%|██████████| 200/200 [00:09<00:00, 20.91it/s]\n",
      "MFD Predict: 100%|██████████| 200/200 [00:07<00:00, 25.36it/s]\n",
      "MFR Predict: 100%|██████████| 576/576 [00:05<00:00, 109.72it/s]\n",
      "OCR-det Predict: 100%|██████████| 200/200 [00:31<00:00,  6.32it/s]\n",
      "Table Predict: 100%|██████████| 72/72 [00:24<00:00,  2.90it/s]\n",
      "\u001b[32m2025-05-23 21:16:05.139\u001b[0m | \u001b[1mINFO    \u001b[0m | \u001b[36mmagic_pdf.model.doc_analyze_by_custom_model\u001b[0m:\u001b[36mbatch_doc_analyze\u001b[0m:\u001b[36m220\u001b[0m - \u001b[1mBatch 3/8: 600 pages/1586 pages\u001b[0m\n",
      "\u001b[32m2025-05-23 21:16:05.141\u001b[0m | \u001b[1mINFO    \u001b[0m | \u001b[36mmagic_pdf.model.doc_analyze_by_custom_model\u001b[0m:\u001b[36mmay_batch_image_analyze\u001b[0m:\u001b[36m275\u001b[0m - \u001b[1mgpu_memory: 24 GB, batch_ratio: 16\u001b[0m\n",
      "Layout Predict: 100%|██████████| 200/200 [00:09<00:00, 20.55it/s]\n",
      "MFD Predict: 100%|██████████| 200/200 [00:07<00:00, 25.32it/s]\n",
      "MFR Predict: 100%|██████████| 1215/1215 [00:11<00:00, 103.12it/s]\n",
      "OCR-det Predict: 100%|██████████| 200/200 [00:36<00:00,  5.47it/s]\n",
      "Table Predict: 100%|██████████| 102/102 [00:23<00:00,  4.32it/s]\n",
      "\u001b[32m2025-05-23 21:17:35.231\u001b[0m | \u001b[1mINFO    \u001b[0m | \u001b[36mmagic_pdf.model.doc_analyze_by_custom_model\u001b[0m:\u001b[36mbatch_doc_analyze\u001b[0m:\u001b[36m220\u001b[0m - \u001b[1mBatch 4/8: 800 pages/1586 pages\u001b[0m\n",
      "\u001b[32m2025-05-23 21:17:35.232\u001b[0m | \u001b[1mINFO    \u001b[0m | \u001b[36mmagic_pdf.model.doc_analyze_by_custom_model\u001b[0m:\u001b[36mmay_batch_image_analyze\u001b[0m:\u001b[36m275\u001b[0m - \u001b[1mgpu_memory: 24 GB, batch_ratio: 16\u001b[0m\n",
      "Layout Predict: 100%|██████████| 200/200 [00:09<00:00, 20.62it/s]\n",
      "MFD Predict: 100%|██████████| 200/200 [00:07<00:00, 25.39it/s]\n",
      "MFR Predict: 100%|██████████| 1241/1241 [00:08<00:00, 148.53it/s]\n",
      "OCR-det Predict: 100%|██████████| 200/200 [00:39<00:00,  5.02it/s]\n",
      "Table Predict: 100%|██████████| 142/142 [00:26<00:00,  5.43it/s]\n",
      "\u001b[32m2025-05-23 21:19:07.661\u001b[0m | \u001b[1mINFO    \u001b[0m | \u001b[36mmagic_pdf.model.doc_analyze_by_custom_model\u001b[0m:\u001b[36mbatch_doc_analyze\u001b[0m:\u001b[36m220\u001b[0m - \u001b[1mBatch 5/8: 1000 pages/1586 pages\u001b[0m\n",
      "\u001b[32m2025-05-23 21:19:07.662\u001b[0m | \u001b[1mINFO    \u001b[0m | \u001b[36mmagic_pdf.model.doc_analyze_by_custom_model\u001b[0m:\u001b[36mmay_batch_image_analyze\u001b[0m:\u001b[36m275\u001b[0m - \u001b[1mgpu_memory: 24 GB, batch_ratio: 16\u001b[0m\n",
      "Layout Predict: 100%|██████████| 200/200 [00:09<00:00, 20.48it/s]\n",
      "MFD Predict: 100%|██████████| 200/200 [00:07<00:00, 25.14it/s]\n",
      "MFR Predict: 100%|██████████| 971/971 [00:08<00:00, 112.22it/s]\n",
      "OCR-det Predict: 100%|██████████| 200/200 [00:36<00:00,  5.52it/s]\n",
      "Table Predict: 100%|██████████| 50/50 [00:16<00:00,  2.94it/s]\n",
      "\u001b[32m2025-05-23 21:20:27.681\u001b[0m | \u001b[1mINFO    \u001b[0m | \u001b[36mmagic_pdf.model.doc_analyze_by_custom_model\u001b[0m:\u001b[36mbatch_doc_analyze\u001b[0m:\u001b[36m220\u001b[0m - \u001b[1mBatch 6/8: 1200 pages/1586 pages\u001b[0m\n",
      "\u001b[32m2025-05-23 21:20:27.683\u001b[0m | \u001b[1mINFO    \u001b[0m | \u001b[36mmagic_pdf.model.doc_analyze_by_custom_model\u001b[0m:\u001b[36mmay_batch_image_analyze\u001b[0m:\u001b[36m275\u001b[0m - \u001b[1mgpu_memory: 24 GB, batch_ratio: 16\u001b[0m\n",
      "Layout Predict: 100%|██████████| 200/200 [00:09<00:00, 20.85it/s]\n",
      "MFD Predict: 100%|██████████| 200/200 [00:07<00:00, 25.69it/s]\n",
      "MFR Predict: 100%|██████████| 1144/1144 [00:05<00:00, 205.89it/s]\n",
      "OCR-det Predict: 100%|██████████| 200/200 [00:31<00:00,  6.44it/s]\n",
      "Table Predict: 100%|██████████| 80/80 [00:21<00:00,  3.72it/s]\n",
      "\u001b[32m2025-05-23 21:21:43.642\u001b[0m | \u001b[1mINFO    \u001b[0m | \u001b[36mmagic_pdf.model.doc_analyze_by_custom_model\u001b[0m:\u001b[36mbatch_doc_analyze\u001b[0m:\u001b[36m220\u001b[0m - \u001b[1mBatch 7/8: 1400 pages/1586 pages\u001b[0m\n",
      "\u001b[32m2025-05-23 21:21:43.643\u001b[0m | \u001b[1mINFO    \u001b[0m | \u001b[36mmagic_pdf.model.doc_analyze_by_custom_model\u001b[0m:\u001b[36mmay_batch_image_analyze\u001b[0m:\u001b[36m275\u001b[0m - \u001b[1mgpu_memory: 24 GB, batch_ratio: 16\u001b[0m\n",
      "Layout Predict: 100%|██████████| 200/200 [00:09<00:00, 20.31it/s]\n",
      "MFD Predict: 100%|██████████| 200/200 [00:08<00:00, 24.61it/s]\n",
      "MFR Predict: 100%|██████████| 1437/1437 [00:08<00:00, 164.36it/s]\n",
      "OCR-det Predict: 100%|██████████| 200/200 [00:35<00:00,  5.68it/s]\n",
      "Table Predict: 100%|██████████| 86/86 [00:31<00:00,  2.69it/s]\n",
      "\u001b[32m2025-05-23 21:23:17.991\u001b[0m | \u001b[1mINFO    \u001b[0m | \u001b[36mmagic_pdf.model.doc_analyze_by_custom_model\u001b[0m:\u001b[36mbatch_doc_analyze\u001b[0m:\u001b[36m220\u001b[0m - \u001b[1mBatch 8/8: 1586 pages/1586 pages\u001b[0m\n",
      "\u001b[32m2025-05-23 21:23:17.992\u001b[0m | \u001b[1mINFO    \u001b[0m | \u001b[36mmagic_pdf.model.doc_analyze_by_custom_model\u001b[0m:\u001b[36mmay_batch_image_analyze\u001b[0m:\u001b[36m275\u001b[0m - \u001b[1mgpu_memory: 24 GB, batch_ratio: 16\u001b[0m\n",
      "Layout Predict: 100%|██████████| 186/186 [00:09<00:00, 20.38it/s]\n",
      "MFD Predict: 100%|██████████| 186/186 [00:07<00:00, 24.74it/s]\n",
      "MFR Predict: 100%|██████████| 1363/1363 [00:10<00:00, 128.92it/s]\n",
      "OCR-det Predict: 100%|██████████| 186/186 [00:28<00:00,  6.53it/s]\n",
      "Table Predict: 100%|██████████| 84/84 [00:21<00:00,  3.94it/s]\n",
      "Processing pages: 100%|██████████| 16/16 [00:02<00:00,  5.94it/s]\n",
      "OCR-rec Predict: 100%|██████████| 2/2 [00:00<00:00, 76.87it/s]\n",
      "\u001b[32m2025-05-23 21:24:39.713\u001b[0m | \u001b[1mINFO    \u001b[0m | \u001b[36mmagic_pdf.tools.common\u001b[0m:\u001b[36m_do_parse\u001b[0m:\u001b[36m243\u001b[0m - \u001b[1mlocal output dir is d:\\DataAnalysis\\arxiv\\output\\2403.17428v2\\auto\u001b[0m\n",
      "Processing pages: 100%|██████████| 6/6 [00:01<00:00,  3.29it/s]\n",
      "\u001b[32m2025-05-23 21:24:42.578\u001b[0m | \u001b[1mINFO    \u001b[0m | \u001b[36mmagic_pdf.tools.common\u001b[0m:\u001b[36m_do_parse\u001b[0m:\u001b[36m243\u001b[0m - \u001b[1mlocal output dir is d:\\DataAnalysis\\arxiv\\output\\2403.18243v1\\auto\u001b[0m\n",
      "Processing pages: 100%|██████████| 8/8 [00:00<00:00,  8.53it/s]\n",
      "\u001b[32m2025-05-23 21:24:44.189\u001b[0m | \u001b[1mINFO    \u001b[0m | \u001b[36mmagic_pdf.tools.common\u001b[0m:\u001b[36m_do_parse\u001b[0m:\u001b[36m243\u001b[0m - \u001b[1mlocal output dir is d:\\DataAnalysis\\arxiv\\output\\2403.18350v2\\auto\u001b[0m\n",
      "Processing pages: 100%|██████████| 16/16 [00:03<00:00,  4.29it/s]\n",
      "OCR-rec Predict: 100%|██████████| 5/5 [00:00<00:00, 30.03it/s]\n",
      "\u001b[32m2025-05-23 21:24:50.146\u001b[0m | \u001b[1mINFO    \u001b[0m | \u001b[36mmagic_pdf.tools.common\u001b[0m:\u001b[36m_do_parse\u001b[0m:\u001b[36m243\u001b[0m - \u001b[1mlocal output dir is d:\\DataAnalysis\\arxiv\\output\\2403.18920v1\\auto\u001b[0m\n",
      "Processing pages: 100%|██████████| 18/18 [00:02<00:00,  8.90it/s]\n",
      "OCR-rec Predict: 100%|██████████| 3/3 [00:00<00:00, 171.21it/s]\n",
      "\u001b[32m2025-05-23 21:24:53.573\u001b[0m | \u001b[1mINFO    \u001b[0m | \u001b[36mmagic_pdf.tools.common\u001b[0m:\u001b[36m_do_parse\u001b[0m:\u001b[36m243\u001b[0m - \u001b[1mlocal output dir is d:\\DataAnalysis\\arxiv\\output\\2403.19113v1\\auto\u001b[0m\n",
      "Processing pages: 100%|██████████| 8/8 [00:02<00:00,  3.54it/s]\n",
      "OCR-rec Predict: 100%|██████████| 2/2 [00:00<00:00, 51.22it/s]\n",
      "\u001b[32m2025-05-23 21:24:57.095\u001b[0m | \u001b[1mINFO    \u001b[0m | \u001b[36mmagic_pdf.tools.common\u001b[0m:\u001b[36m_do_parse\u001b[0m:\u001b[36m243\u001b[0m - \u001b[1mlocal output dir is d:\\DataAnalysis\\arxiv\\output\\2403.19116v1\\auto\u001b[0m\n",
      "Processing pages: 100%|██████████| 8/8 [00:01<00:00,  6.65it/s]\n",
      "\u001b[32m2025-05-23 21:24:59.047\u001b[0m | \u001b[1mINFO    \u001b[0m | \u001b[36mmagic_pdf.tools.common\u001b[0m:\u001b[36m_do_parse\u001b[0m:\u001b[36m243\u001b[0m - \u001b[1mlocal output dir is d:\\DataAnalysis\\arxiv\\output\\2403.19584v1\\auto\u001b[0m\n",
      "Processing pages: 100%|██████████| 13/13 [00:02<00:00,  4.38it/s]\n",
      "\u001b[32m2025-05-23 21:25:03.256\u001b[0m | \u001b[1mINFO    \u001b[0m | \u001b[36mmagic_pdf.tools.common\u001b[0m:\u001b[36m_do_parse\u001b[0m:\u001b[36m243\u001b[0m - \u001b[1mlocal output dir is d:\\DataAnalysis\\arxiv\\output\\2403.19964v3\\auto\u001b[0m\n",
      "Processing pages: 100%|██████████| 25/25 [00:03<00:00,  7.68it/s]\n",
      "OCR-rec Predict: 100%|██████████| 1/1 [00:00<00:00, 43.40it/s]\n",
      "\u001b[32m2025-05-23 21:25:07.778\u001b[0m | \u001b[1mINFO    \u001b[0m | \u001b[36mmagic_pdf.tools.common\u001b[0m:\u001b[36m_do_parse\u001b[0m:\u001b[36m243\u001b[0m - \u001b[1mlocal output dir is d:\\DataAnalysis\\arxiv\\output\\2404.00486v1\\auto\u001b[0m\n",
      "Processing pages: 100%|██████████| 18/18 [00:02<00:00,  8.58it/s]\n",
      "\u001b[32m2025-05-23 21:25:10.857\u001b[0m | \u001b[1mINFO    \u001b[0m | \u001b[36mmagic_pdf.tools.common\u001b[0m:\u001b[36m_do_parse\u001b[0m:\u001b[36m243\u001b[0m - \u001b[1mlocal output dir is d:\\DataAnalysis\\arxiv\\output\\2404.00610v1\\auto\u001b[0m\n",
      "Processing pages: 100%|██████████| 9/9 [00:01<00:00,  7.03it/s]\n",
      "\u001b[32m2025-05-23 21:25:12.687\u001b[0m | \u001b[1mINFO    \u001b[0m | \u001b[36mmagic_pdf.tools.common\u001b[0m:\u001b[36m_do_parse\u001b[0m:\u001b[36m243\u001b[0m - \u001b[1mlocal output dir is d:\\DataAnalysis\\arxiv\\output\\2404.00657v1\\auto\u001b[0m\n",
      "Processing pages: 100%|██████████| 12/12 [00:02<00:00,  4.83it/s]\n",
      "\u001b[32m2025-05-23 21:25:16.514\u001b[0m | \u001b[1mINFO    \u001b[0m | \u001b[36mmagic_pdf.tools.common\u001b[0m:\u001b[36m_do_parse\u001b[0m:\u001b[36m243\u001b[0m - \u001b[1mlocal output dir is d:\\DataAnalysis\\arxiv\\output\\2404.02022v3\\auto\u001b[0m\n",
      "Processing pages: 100%|██████████| 26/26 [00:04<00:00,  6.04it/s]\n",
      "OCR-rec Predict: 100%|██████████| 29/29 [00:00<00:00, 85.25it/s]\n",
      "\u001b[32m2025-05-23 21:25:22.987\u001b[0m | \u001b[1mINFO    \u001b[0m | \u001b[36mmagic_pdf.tools.common\u001b[0m:\u001b[36m_do_parse\u001b[0m:\u001b[36m243\u001b[0m - \u001b[1mlocal output dir is d:\\DataAnalysis\\arxiv\\output\\2404.02103v2\\auto\u001b[0m\n",
      "Processing pages: 100%|██████████| 17/17 [00:02<00:00,  7.45it/s]\n",
      "OCR-rec Predict: 100%|██████████| 1/1 [00:00<00:00, 68.86it/s]\n",
      "\u001b[32m2025-05-23 21:25:26.635\u001b[0m | \u001b[1mINFO    \u001b[0m | \u001b[36mmagic_pdf.tools.common\u001b[0m:\u001b[36m_do_parse\u001b[0m:\u001b[36m243\u001b[0m - \u001b[1mlocal output dir is d:\\DataAnalysis\\arxiv\\output\\2404.02319v2\\auto\u001b[0m\n",
      "Processing pages: 100%|██████████| 5/5 [00:01<00:00,  3.29it/s]\n",
      "\u001b[32m2025-05-23 21:25:28.963\u001b[0m | \u001b[1mINFO    \u001b[0m | \u001b[36mmagic_pdf.tools.common\u001b[0m:\u001b[36m_do_parse\u001b[0m:\u001b[36m243\u001b[0m - \u001b[1mlocal output dir is d:\\DataAnalysis\\arxiv\\output\\2404.03122v1\\auto\u001b[0m\n",
      "Processing pages: 100%|██████████| 10/10 [00:02<00:00,  4.83it/s]\n",
      "\u001b[32m2025-05-23 21:25:32.154\u001b[0m | \u001b[1mINFO    \u001b[0m | \u001b[36mmagic_pdf.tools.common\u001b[0m:\u001b[36m_do_parse\u001b[0m:\u001b[36m243\u001b[0m - \u001b[1mlocal output dir is d:\\DataAnalysis\\arxiv\\output\\2404.03514v2\\auto\u001b[0m\n",
      "Processing pages: 100%|██████████| 17/17 [00:03<00:00,  5.04it/s]\n",
      "\u001b[32m2025-05-23 21:25:37.111\u001b[0m | \u001b[1mINFO    \u001b[0m | \u001b[36mmagic_pdf.tools.common\u001b[0m:\u001b[36m_do_parse\u001b[0m:\u001b[36m243\u001b[0m - \u001b[1mlocal output dir is d:\\DataAnalysis\\arxiv\\output\\2404.03868v2\\auto\u001b[0m\n",
      "Processing pages: 100%|██████████| 11/11 [00:03<00:00,  3.67it/s]\n",
      "\u001b[32m2025-05-23 21:25:41.445\u001b[0m | \u001b[1mINFO    \u001b[0m | \u001b[36mmagic_pdf.tools.common\u001b[0m:\u001b[36m_do_parse\u001b[0m:\u001b[36m243\u001b[0m - \u001b[1mlocal output dir is d:\\DataAnalysis\\arxiv\\output\\2404.04044v2\\auto\u001b[0m\n",
      "Processing pages: 100%|██████████| 7/7 [00:01<00:00,  5.73it/s]\n",
      "OCR-rec Predict: 100%|██████████| 1/1 [00:00<00:00, 39.83it/s]\n",
      "\u001b[32m2025-05-23 21:25:43.452\u001b[0m | \u001b[1mINFO    \u001b[0m | \u001b[36mmagic_pdf.tools.common\u001b[0m:\u001b[36m_do_parse\u001b[0m:\u001b[36m243\u001b[0m - \u001b[1mlocal output dir is d:\\DataAnalysis\\arxiv\\output\\2404.04287v1\\auto\u001b[0m\n",
      "Processing pages: 100%|██████████| 17/17 [00:01<00:00,  9.95it/s]\n",
      "\u001b[32m2025-05-23 21:25:46.017\u001b[0m | \u001b[1mINFO    \u001b[0m | \u001b[36mmagic_pdf.tools.common\u001b[0m:\u001b[36m_do_parse\u001b[0m:\u001b[36m243\u001b[0m - \u001b[1mlocal output dir is d:\\DataAnalysis\\arxiv\\output\\2404.04302v1\\auto\u001b[0m\n",
      "Processing pages: 100%|██████████| 22/22 [00:02<00:00,  7.81it/s]\n",
      "OCR-rec Predict: 100%|██████████| 2/2 [00:00<00:00, 41.61it/s]\n",
      "\u001b[32m2025-05-23 21:25:50.047\u001b[0m | \u001b[1mINFO    \u001b[0m | \u001b[36mmagic_pdf.tools.common\u001b[0m:\u001b[36m_do_parse\u001b[0m:\u001b[36m243\u001b[0m - \u001b[1mlocal output dir is d:\\DataAnalysis\\arxiv\\output\\2404.04351v2\\auto\u001b[0m\n",
      "Processing pages: 100%|██████████| 8/8 [00:01<00:00,  5.54it/s]\n",
      "\u001b[32m2025-05-23 21:25:52.346\u001b[0m | \u001b[1mINFO    \u001b[0m | \u001b[36mmagic_pdf.tools.common\u001b[0m:\u001b[36m_do_parse\u001b[0m:\u001b[36m243\u001b[0m - \u001b[1mlocal output dir is d:\\DataAnalysis\\arxiv\\output\\2404.04510v1\\auto\u001b[0m\n",
      "Processing pages:  70%|███████   | 14/20 [00:01<00:00, 11.76it/s]\u001b[32m2025-05-23 21:25:53.795\u001b[0m | \u001b[33m\u001b[1mWARNING \u001b[0m | \u001b[36mmagic_pdf.pdf_parse_union_core_v2\u001b[0m:\u001b[36mparse_page_core\u001b[0m:\u001b[36m835\u001b[0m - \u001b[33m\u001b[1mskip this page, not found useful bbox, page_id: 14\u001b[0m\n",
      "Processing pages:  80%|████████  | 16/20 [00:01<00:00, 13.78it/s]\u001b[32m2025-05-23 21:25:54.066\u001b[0m | \u001b[33m\u001b[1mWARNING \u001b[0m | \u001b[36mmagic_pdf.pdf_parse_union_core_v2\u001b[0m:\u001b[36msort_lines_by_model\u001b[0m:\u001b[36m547\u001b[0m - \u001b[33m\u001b[1mbottom > page_h, left: 132, right: 480, top: 579.6666666666667, bottom: 792.0000000000001, page_w: 612.0, page_h: 792.0\u001b[0m\n",
      "Processing pages: 100%|██████████| 20/20 [00:01<00:00, 10.72it/s]\n",
      "\u001b[32m2025-05-23 21:25:55.288\u001b[0m | \u001b[1mINFO    \u001b[0m | \u001b[36mmagic_pdf.tools.common\u001b[0m:\u001b[36m_do_parse\u001b[0m:\u001b[36m243\u001b[0m - \u001b[1mlocal output dir is d:\\DataAnalysis\\arxiv\\output\\2404.05587v2\\auto\u001b[0m\n",
      "Processing pages: 100%|██████████| 27/27 [00:02<00:00,  9.20it/s]\n",
      "\u001b[32m2025-05-23 21:25:59.339\u001b[0m | \u001b[1mINFO    \u001b[0m | \u001b[36mmagic_pdf.tools.common\u001b[0m:\u001b[36m_do_parse\u001b[0m:\u001b[36m243\u001b[0m - \u001b[1mlocal output dir is d:\\DataAnalysis\\arxiv\\output\\2404.05590v2\\auto\u001b[0m\n",
      "Processing pages: 100%|██████████| 23/23 [00:03<00:00,  6.98it/s]\n",
      "\u001b[32m2025-05-23 21:26:03.785\u001b[0m | \u001b[1mINFO    \u001b[0m | \u001b[36mmagic_pdf.tools.common\u001b[0m:\u001b[36m_do_parse\u001b[0m:\u001b[36m243\u001b[0m - \u001b[1mlocal output dir is d:\\DataAnalysis\\arxiv\\output\\2404.06347v2\\auto\u001b[0m\n",
      "Processing pages: 100%|██████████| 19/19 [00:01<00:00,  9.54it/s]\n",
      "\u001b[32m2025-05-23 21:26:06.674\u001b[0m | \u001b[1mINFO    \u001b[0m | \u001b[36mmagic_pdf.tools.common\u001b[0m:\u001b[36m_do_parse\u001b[0m:\u001b[36m243\u001b[0m - \u001b[1mlocal output dir is d:\\DataAnalysis\\arxiv\\output\\2404.06680v1\\auto\u001b[0m\n",
      "Processing pages: 100%|██████████| 20/20 [00:03<00:00,  5.53it/s]\n",
      "\u001b[32m2025-05-23 21:26:11.790\u001b[0m | \u001b[1mINFO    \u001b[0m | \u001b[36mmagic_pdf.tools.common\u001b[0m:\u001b[36m_do_parse\u001b[0m:\u001b[36m243\u001b[0m - \u001b[1mlocal output dir is d:\\DataAnalysis\\arxiv\\output\\2404.06809v3\\auto\u001b[0m\n",
      "Processing pages: 100%|██████████| 21/21 [00:03<00:00,  5.45it/s]\n",
      "OCR-rec Predict: 100%|██████████| 1/1 [00:00<00:00, 40.19it/s]\n",
      "\u001b[32m2025-05-23 21:26:17.278\u001b[0m | \u001b[1mINFO    \u001b[0m | \u001b[36mmagic_pdf.tools.common\u001b[0m:\u001b[36m_do_parse\u001b[0m:\u001b[36m243\u001b[0m - \u001b[1mlocal output dir is d:\\DataAnalysis\\arxiv\\output\\2404.06910v2\\auto\u001b[0m\n",
      "Processing pages: 100%|██████████| 20/20 [00:03<00:00,  5.63it/s]\n",
      "OCR-rec Predict: 100%|██████████| 3/3 [00:00<00:00, 95.88it/s]\n",
      "\u001b[32m2025-05-23 21:26:22.362\u001b[0m | \u001b[1mINFO    \u001b[0m | \u001b[36mmagic_pdf.tools.common\u001b[0m:\u001b[36m_do_parse\u001b[0m:\u001b[36m243\u001b[0m - \u001b[1mlocal output dir is d:\\DataAnalysis\\arxiv\\output\\2404.07135v2\\auto\u001b[0m\n",
      "Processing pages: 100%|██████████| 11/11 [00:02<00:00,  5.19it/s]\n",
      "\u001b[32m2025-05-23 21:26:25.527\u001b[0m | \u001b[1mINFO    \u001b[0m | \u001b[36mmagic_pdf.tools.common\u001b[0m:\u001b[36m_do_parse\u001b[0m:\u001b[36m243\u001b[0m - \u001b[1mlocal output dir is d:\\DataAnalysis\\arxiv\\output\\2404.07376v2\\auto\u001b[0m\n",
      "Processing pages: 100%|██████████| 9/9 [00:02<00:00,  3.61it/s]\n",
      "OCR-rec Predict: 100%|██████████| 1/1 [00:00<00:00, 36.24it/s]\n",
      "\u001b[32m2025-05-23 21:26:29.061\u001b[0m | \u001b[1mINFO    \u001b[0m | \u001b[36mmagic_pdf.tools.common\u001b[0m:\u001b[36m_do_parse\u001b[0m:\u001b[36m243\u001b[0m - \u001b[1mlocal output dir is d:\\DataAnalysis\\arxiv\\output\\2404.08878v1\\auto\u001b[0m\n",
      "Processing pages: 100%|██████████| 15/15 [00:04<00:00,  3.25it/s]\n",
      "\u001b[32m2025-05-23 21:26:43.149\u001b[0m | \u001b[1mINFO    \u001b[0m | \u001b[36mmagic_pdf.tools.common\u001b[0m:\u001b[36m_do_parse\u001b[0m:\u001b[36m243\u001b[0m - \u001b[1mlocal output dir is d:\\DataAnalysis\\arxiv\\output\\2404.09134v2\\auto\u001b[0m\n",
      "Processing pages: 100%|██████████| 8/8 [00:02<00:00,  3.65it/s]\n",
      "\u001b[32m2025-05-23 21:26:46.585\u001b[0m | \u001b[1mINFO    \u001b[0m | \u001b[36mmagic_pdf.tools.common\u001b[0m:\u001b[36m_do_parse\u001b[0m:\u001b[36m243\u001b[0m - \u001b[1mlocal output dir is d:\\DataAnalysis\\arxiv\\output\\2404.09296v2\\auto\u001b[0m\n",
      "Processing pages: 100%|██████████| 15/15 [00:01<00:00,  7.67it/s]\n",
      "OCR-rec Predict: 100%|██████████| 9/9 [00:00<00:00, 47.71it/s]\n",
      "\u001b[32m2025-05-23 21:26:49.633\u001b[0m | \u001b[1mINFO    \u001b[0m | \u001b[36mmagic_pdf.tools.common\u001b[0m:\u001b[36m_do_parse\u001b[0m:\u001b[36m243\u001b[0m - \u001b[1mlocal output dir is d:\\DataAnalysis\\arxiv\\output\\2404.10198v3\\auto\u001b[0m\n",
      "Processing pages: 100%|██████████| 30/30 [00:05<00:00,  5.45it/s]\n",
      "OCR-rec Predict: 100%|██████████| 1/1 [00:00<00:00, 46.27it/s]\n",
      "\u001b[32m2025-05-23 21:26:57.840\u001b[0m | \u001b[1mINFO    \u001b[0m | \u001b[36mmagic_pdf.tools.common\u001b[0m:\u001b[36m_do_parse\u001b[0m:\u001b[36m243\u001b[0m - \u001b[1mlocal output dir is d:\\DataAnalysis\\arxiv\\output\\2404.10774v2\\auto\u001b[0m\n",
      "Processing pages: 100%|██████████| 17/17 [00:02<00:00,  8.08it/s]\n",
      "\u001b[32m2025-05-23 21:27:00.808\u001b[0m | \u001b[1mINFO    \u001b[0m | \u001b[36mmagic_pdf.tools.common\u001b[0m:\u001b[36m_do_parse\u001b[0m:\u001b[36m243\u001b[0m - \u001b[1mlocal output dir is d:\\DataAnalysis\\arxiv\\output\\2404.10779v1\\auto\u001b[0m\n",
      "Processing pages: 100%|██████████| 13/13 [00:02<00:00,  5.38it/s]\n",
      "\u001b[32m2025-05-23 21:27:04.581\u001b[0m | \u001b[1mINFO    \u001b[0m | \u001b[36mmagic_pdf.tools.common\u001b[0m:\u001b[36m_do_parse\u001b[0m:\u001b[36m243\u001b[0m - \u001b[1mlocal output dir is d:\\DataAnalysis\\arxiv\\output\\2404.11216v2\\auto\u001b[0m\n",
      "Processing pages: 100%|██████████| 15/15 [00:01<00:00,  8.05it/s]\n",
      "OCR-rec Predict: 100%|██████████| 4/4 [00:00<00:00, 20.81it/s]\n",
      "\u001b[32m2025-05-23 21:27:07.569\u001b[0m | \u001b[1mINFO    \u001b[0m | \u001b[36mmagic_pdf.tools.common\u001b[0m:\u001b[36m_do_parse\u001b[0m:\u001b[36m243\u001b[0m - \u001b[1mlocal output dir is d:\\DataAnalysis\\arxiv\\output\\2404.11792v2\\auto\u001b[0m\n",
      "Processing pages: 100%|██████████| 26/26 [00:02<00:00, 12.93it/s]\n",
      "OCR-rec Predict: 100%|██████████| 24/24 [00:00<00:00, 82.01it/s]\n",
      "\u001b[32m2025-05-23 21:27:11.276\u001b[0m | \u001b[1mINFO    \u001b[0m | \u001b[36mmagic_pdf.tools.common\u001b[0m:\u001b[36m_do_parse\u001b[0m:\u001b[36m243\u001b[0m - \u001b[1mlocal output dir is d:\\DataAnalysis\\arxiv\\output\\2404.11973v1\\auto\u001b[0m\n",
      "Processing pages: 100%|██████████| 18/18 [00:02<00:00,  7.16it/s]\n",
      "\u001b[32m2025-05-23 21:27:14.994\u001b[0m | \u001b[1mINFO    \u001b[0m | \u001b[36mmagic_pdf.tools.common\u001b[0m:\u001b[36m_do_parse\u001b[0m:\u001b[36m243\u001b[0m - \u001b[1mlocal output dir is d:\\DataAnalysis\\arxiv\\output\\2404.12879v1\\auto\u001b[0m\n",
      "Processing pages: 100%|██████████| 13/13 [00:01<00:00,  9.89it/s]\n",
      "\u001b[32m2025-05-23 21:27:17.375\u001b[0m | \u001b[1mINFO    \u001b[0m | \u001b[36mmagic_pdf.tools.common\u001b[0m:\u001b[36m_do_parse\u001b[0m:\u001b[36m243\u001b[0m - \u001b[1mlocal output dir is d:\\DataAnalysis\\arxiv\\output\\2404.13397v1\\auto\u001b[0m\n",
      "Processing pages: 100%|██████████| 9/9 [00:02<00:00,  3.24it/s]\n"
     ]
    },
    {
     "name": "stdout",
     "output_type": "stream",
     "text": [
      "MuPDF error: unsupported error: cannot create appearance stream for Screen annotations\n",
      "\n",
      "MuPDF error: unsupported error: cannot create appearance stream for Screen annotations\n",
      "\n",
      "MuPDF error: unsupported error: cannot create appearance stream for Screen annotations\n",
      "\n",
      "MuPDF error: unsupported error: cannot create appearance stream for Screen annotations\n",
      "\n",
      "MuPDF error: unsupported error: cannot create appearance stream for Screen annotations\n",
      "\n",
      "MuPDF error: unsupported error: cannot create appearance stream for Screen annotations\n",
      "\n",
      "MuPDF error: unsupported error: cannot create appearance stream for Screen annotations\n",
      "\n",
      "MuPDF error: unsupported error: cannot create appearance stream for Screen annotations\n",
      "\n",
      "MuPDF error: unsupported error: cannot create appearance stream for Screen annotations\n",
      "\n",
      "MuPDF error: unsupported error: cannot create appearance stream for Screen annotations\n",
      "\n",
      "MuPDF error: unsupported error: cannot create appearance stream for Screen annotations\n",
      "\n",
      "MuPDF error: unsupported error: cannot create appearance stream for Screen annotations\n",
      "\n",
      "MuPDF error: unsupported error: cannot create appearance stream for Screen annotations\n",
      "\n",
      "MuPDF error: unsupported error: cannot create appearance stream for Screen annotations\n",
      "\n",
      "MuPDF error: unsupported error: cannot create appearance stream for Screen annotations\n",
      "\n",
      "MuPDF error: unsupported error: cannot create appearance stream for Screen annotations\n",
      "\n",
      "MuPDF error: unsupported error: cannot create appearance stream for Screen annotations\n",
      "\n",
      "MuPDF error: unsupported error: cannot create appearance stream for Screen annotations\n",
      "\n",
      "MuPDF error: unsupported error: cannot create appearance stream for Screen annotations\n",
      "\n",
      "MuPDF error: unsupported error: cannot create appearance stream for Screen annotations\n",
      "\n",
      "MuPDF error: unsupported error: cannot create appearance stream for Screen annotations\n",
      "\n",
      "MuPDF error: unsupported error: cannot create appearance stream for Screen annotations\n",
      "\n",
      "MuPDF error: unsupported error: cannot create appearance stream for Screen annotations\n",
      "\n",
      "MuPDF error: unsupported error: cannot create appearance stream for Screen annotations\n",
      "\n",
      "MuPDF error: unsupported error: cannot create appearance stream for Screen annotations\n",
      "\n",
      "MuPDF error: unsupported error: cannot create appearance stream for Screen annotations\n",
      "\n",
      "MuPDF error: unsupported error: cannot create appearance stream for Screen annotations\n",
      "\n",
      "MuPDF error: unsupported error: cannot create appearance stream for Screen annotations\n",
      "\n",
      "MuPDF error: unsupported error: cannot create appearance stream for Screen annotations\n",
      "\n",
      "MuPDF error: unsupported error: cannot create appearance stream for Screen annotations\n",
      "\n",
      "MuPDF error: unsupported error: cannot create appearance stream for Screen annotations\n",
      "\n",
      "MuPDF error: unsupported error: cannot create appearance stream for Screen annotations\n",
      "\n",
      "MuPDF error: unsupported error: cannot create appearance stream for Screen annotations\n",
      "\n",
      "MuPDF error: unsupported error: cannot create appearance stream for Screen annotations\n",
      "\n",
      "MuPDF error: unsupported error: cannot create appearance stream for Screen annotations\n",
      "\n",
      "MuPDF error: unsupported error: cannot create appearance stream for Screen annotations\n",
      "\n",
      "MuPDF error: unsupported error: cannot create appearance stream for Screen annotations\n",
      "\n",
      "MuPDF error: unsupported error: cannot create appearance stream for Screen annotations\n",
      "\n",
      "MuPDF error: unsupported error: cannot create appearance stream for Screen annotations\n",
      "\n",
      "MuPDF error: unsupported error: cannot create appearance stream for Screen annotations\n",
      "\n",
      "MuPDF error: unsupported error: cannot create appearance stream for Screen annotations\n",
      "\n",
      "MuPDF error: unsupported error: cannot create appearance stream for Screen annotations\n",
      "\n",
      "MuPDF error: unsupported error: cannot create appearance stream for Screen annotations\n",
      "\n",
      "MuPDF error: unsupported error: cannot create appearance stream for Screen annotations\n",
      "\n",
      "MuPDF error: unsupported error: cannot create appearance stream for Screen annotations\n",
      "\n",
      "MuPDF error: unsupported error: cannot create appearance stream for Screen annotations\n",
      "\n",
      "MuPDF error: unsupported error: cannot create appearance stream for Screen annotations\n",
      "\n",
      "MuPDF error: unsupported error: cannot create appearance stream for Screen annotations\n",
      "\n"
     ]
    },
    {
     "name": "stderr",
     "output_type": "stream",
     "text": [
      "\u001b[32m2025-05-23 21:27:21.694\u001b[0m | \u001b[1mINFO    \u001b[0m | \u001b[36mmagic_pdf.tools.common\u001b[0m:\u001b[36m_do_parse\u001b[0m:\u001b[36m243\u001b[0m - \u001b[1mlocal output dir is d:\\DataAnalysis\\arxiv\\output\\2404.13892v2\\auto\u001b[0m\n",
      "Processing pages: 100%|██████████| 12/12 [00:02<00:00,  4.68it/s]\n",
      "\u001b[32m2025-05-23 21:27:25.624\u001b[0m | \u001b[1mINFO    \u001b[0m | \u001b[36mmagic_pdf.tools.common\u001b[0m:\u001b[36m_do_parse\u001b[0m:\u001b[36m243\u001b[0m - \u001b[1mlocal output dir is d:\\DataAnalysis\\arxiv\\output\\2404.13947v3\\auto\u001b[0m\n",
      "Processing pages: 100%|██████████| 19/19 [00:05<00:00,  3.79it/s]\n",
      "OCR-rec Predict: 100%|██████████| 1/1 [00:00<00:00, 38.56it/s]\n",
      "\u001b[32m2025-05-23 21:27:33.531\u001b[0m | \u001b[1mINFO    \u001b[0m | \u001b[36mmagic_pdf.tools.common\u001b[0m:\u001b[36m_do_parse\u001b[0m:\u001b[36m243\u001b[0m - \u001b[1mlocal output dir is d:\\DataAnalysis\\arxiv\\output\\2404.13948v2\\auto\u001b[0m\n",
      "Processing pages: 100%|██████████| 21/21 [00:03<00:00,  6.51it/s]\n",
      "\u001b[32m2025-05-23 21:27:38.250\u001b[0m | \u001b[1mINFO    \u001b[0m | \u001b[36mmagic_pdf.tools.common\u001b[0m:\u001b[36m_do_parse\u001b[0m:\u001b[36m243\u001b[0m - \u001b[1mlocal output dir is d:\\DataAnalysis\\arxiv\\output\\2404.14043v1\\auto\u001b[0m\n",
      "Processing pages: 100%|██████████| 17/17 [00:02<00:00,  6.11it/s]\n",
      "\u001b[32m2025-05-23 21:27:42.328\u001b[0m | \u001b[1mINFO    \u001b[0m | \u001b[36mmagic_pdf.tools.common\u001b[0m:\u001b[36m_do_parse\u001b[0m:\u001b[36m243\u001b[0m - \u001b[1mlocal output dir is d:\\DataAnalysis\\arxiv\\output\\2404.14464v1\\auto\u001b[0m\n",
      "Processing pages: 100%|██████████| 8/8 [00:01<00:00,  4.10it/s]\n",
      "\u001b[32m2025-05-23 21:27:45.401\u001b[0m | \u001b[1mINFO    \u001b[0m | \u001b[36mmagic_pdf.tools.common\u001b[0m:\u001b[36m_do_parse\u001b[0m:\u001b[36m243\u001b[0m - \u001b[1mlocal output dir is d:\\DataAnalysis\\arxiv\\output\\2404.14760v2\\auto\u001b[0m\n",
      "Processing pages: 100%|██████████| 5/5 [00:01<00:00,  4.95it/s]\n",
      "\u001b[32m2025-05-23 21:27:47.042\u001b[0m | \u001b[1mINFO    \u001b[0m | \u001b[36mmagic_pdf.tools.common\u001b[0m:\u001b[36m_do_parse\u001b[0m:\u001b[36m243\u001b[0m - \u001b[1mlocal output dir is d:\\DataAnalysis\\arxiv\\output\\2404.15317v1\\auto\u001b[0m\n",
      "Processing pages: 100%|██████████| 9/9 [00:02<00:00,  3.97it/s]\n",
      "\u001b[32m2025-05-23 21:27:50.446\u001b[0m | \u001b[1mINFO    \u001b[0m | \u001b[36mmagic_pdf.tools.common\u001b[0m:\u001b[36m_do_parse\u001b[0m:\u001b[36m243\u001b[0m - \u001b[1mlocal output dir is d:\\DataAnalysis\\arxiv\\output\\2404.15406v2\\auto\u001b[0m\n",
      "Processing pages: 100%|██████████| 6/6 [00:01<00:00,  4.33it/s]\n",
      "\u001b[32m2025-05-23 21:27:52.684\u001b[0m | \u001b[1mINFO    \u001b[0m | \u001b[36mmagic_pdf.tools.common\u001b[0m:\u001b[36m_do_parse\u001b[0m:\u001b[36m243\u001b[0m - \u001b[1mlocal output dir is d:\\DataAnalysis\\arxiv\\output\\2404.15939v3\\auto\u001b[0m\n",
      "Processing pages: 100%|██████████| 30/30 [00:03<00:00,  8.41it/s]\n",
      "OCR-rec Predict: 100%|██████████| 4/4 [00:00<00:00, 31.08it/s]\n",
      "\u001b[32m2025-05-23 21:27:57.924\u001b[0m | \u001b[1mINFO    \u001b[0m | \u001b[36mmagic_pdf.tools.common\u001b[0m:\u001b[36m_do_parse\u001b[0m:\u001b[36m243\u001b[0m - \u001b[1mlocal output dir is d:\\DataAnalysis\\arxiv\\output\\2404.16032v2\\auto\u001b[0m\n",
      "Processing pages: 100%|██████████| 5/5 [00:01<00:00,  4.45it/s]\n",
      "\u001b[32m2025-05-23 21:27:59.764\u001b[0m | \u001b[1mINFO    \u001b[0m | \u001b[36mmagic_pdf.tools.common\u001b[0m:\u001b[36m_do_parse\u001b[0m:\u001b[36m243\u001b[0m - \u001b[1mlocal output dir is d:\\DataAnalysis\\arxiv\\output\\2404.16160v2\\auto\u001b[0m\n",
      "Processing pages: 100%|██████████| 10/10 [00:03<00:00,  3.27it/s]\n",
      "\u001b[32m2025-05-23 21:28:04.322\u001b[0m | \u001b[1mINFO    \u001b[0m | \u001b[36mmagic_pdf.tools.common\u001b[0m:\u001b[36m_do_parse\u001b[0m:\u001b[36m243\u001b[0m - \u001b[1mlocal output dir is d:\\DataAnalysis\\arxiv\\output\\2404.16587v1\\auto\u001b[0m\n",
      "Processing pages: 100%|██████████| 5/5 [00:01<00:00,  3.22it/s]\n",
      "\u001b[32m2025-05-23 21:28:06.826\u001b[0m | \u001b[1mINFO    \u001b[0m | \u001b[36mmagic_pdf.tools.common\u001b[0m:\u001b[36m_do_parse\u001b[0m:\u001b[36m243\u001b[0m - \u001b[1mlocal output dir is d:\\DataAnalysis\\arxiv\\output\\2404.17196v1\\auto\u001b[0m\n",
      "Processing pages: 100%|██████████| 10/10 [00:02<00:00,  4.57it/s]\n",
      "\u001b[32m2025-05-23 21:28:10.149\u001b[0m | \u001b[1mINFO    \u001b[0m | \u001b[36mmagic_pdf.tools.common\u001b[0m:\u001b[36m_do_parse\u001b[0m:\u001b[36m243\u001b[0m - \u001b[1mlocal output dir is d:\\DataAnalysis\\arxiv\\output\\2404.17347v2\\auto\u001b[0m\n",
      "Processing pages: 100%|██████████| 14/14 [00:01<00:00,  7.48it/s]\n",
      "\u001b[32m2025-05-23 21:28:12.952\u001b[0m | \u001b[1mINFO    \u001b[0m | \u001b[36mmagic_pdf.tools.common\u001b[0m:\u001b[36m_do_parse\u001b[0m:\u001b[36m243\u001b[0m - \u001b[1mlocal output dir is d:\\DataAnalysis\\arxiv\\output\\2404.17897v1\\auto\u001b[0m\n",
      "Processing pages: 100%|██████████| 9/9 [00:02<00:00,  3.32it/s]\n",
      "\u001b[32m2025-05-23 21:28:16.752\u001b[0m | \u001b[1mINFO    \u001b[0m | \u001b[36mmagic_pdf.tools.common\u001b[0m:\u001b[36m_do_parse\u001b[0m:\u001b[36m243\u001b[0m - \u001b[1mlocal output dir is d:\\DataAnalysis\\arxiv\\output\\2404.18077v2\\auto\u001b[0m\n",
      "Processing pages: 100%|██████████| 18/18 [00:03<00:00,  5.09it/s]\n",
      "OCR-rec Predict: 100%|██████████| 2/2 [00:00<00:00, 52.59it/s]\n",
      "\u001b[32m2025-05-23 21:28:22.232\u001b[0m | \u001b[1mINFO    \u001b[0m | \u001b[36mmagic_pdf.tools.common\u001b[0m:\u001b[36m_do_parse\u001b[0m:\u001b[36m243\u001b[0m - \u001b[1mlocal output dir is d:\\DataAnalysis\\arxiv\\output\\2404.19232v7\\auto\u001b[0m\n",
      "Processing pages: 100%|██████████| 30/30 [00:06<00:00,  4.36it/s]\n",
      "\u001b[32m2025-05-23 21:28:31.724\u001b[0m | \u001b[1mINFO    \u001b[0m | \u001b[36mmagic_pdf.tools.common\u001b[0m:\u001b[36m_do_parse\u001b[0m:\u001b[36m243\u001b[0m - \u001b[1mlocal output dir is d:\\DataAnalysis\\arxiv\\output\\2404.19543v1\\auto\u001b[0m\n",
      "Processing pages: 100%|██████████| 17/17 [00:01<00:00,  9.42it/s]\n",
      "\u001b[32m2025-05-23 21:28:34.384\u001b[0m | \u001b[1mINFO    \u001b[0m | \u001b[36mmagic_pdf.tools.common\u001b[0m:\u001b[36m_do_parse\u001b[0m:\u001b[36m243\u001b[0m - \u001b[1mlocal output dir is d:\\DataAnalysis\\arxiv\\output\\2404.19744v1\\auto\u001b[0m\n",
      "Processing pages: 100%|██████████| 14/14 [00:02<00:00,  5.29it/s]\n",
      "OCR-rec Predict: 100%|██████████| 70/70 [00:00<00:00, 176.74it/s]\n",
      "\u001b[32m2025-05-23 21:28:38.355\u001b[0m | \u001b[1mINFO    \u001b[0m | \u001b[36mmagic_pdf.tools.common\u001b[0m:\u001b[36m_do_parse\u001b[0m:\u001b[36m243\u001b[0m - \u001b[1mlocal output dir is d:\\DataAnalysis\\arxiv\\output\\2405.00330v1\\auto\u001b[0m\n",
      "Processing pages: 100%|██████████| 11/11 [00:02<00:00,  4.32it/s]\n",
      "\u001b[32m2025-05-23 21:28:42.259\u001b[0m | \u001b[1mINFO    \u001b[0m | \u001b[36mmagic_pdf.tools.common\u001b[0m:\u001b[36m_do_parse\u001b[0m:\u001b[36m243\u001b[0m - \u001b[1mlocal output dir is d:\\DataAnalysis\\arxiv\\output\\2405.00393v4\\auto\u001b[0m\n",
      "Processing pages: 100%|██████████| 17/17 [00:02<00:00,  8.10it/s]\n",
      "\u001b[32m2025-05-23 21:28:45.552\u001b[0m | \u001b[1mINFO    \u001b[0m | \u001b[36mmagic_pdf.tools.common\u001b[0m:\u001b[36m_do_parse\u001b[0m:\u001b[36m243\u001b[0m - \u001b[1mlocal output dir is d:\\DataAnalysis\\arxiv\\output\\2405.00465v3\\auto\u001b[0m\n",
      "Processing pages: 100%|██████████| 9/9 [00:01<00:00,  7.06it/s]\n",
      "\u001b[32m2025-05-23 21:28:47.538\u001b[0m | \u001b[1mINFO    \u001b[0m | \u001b[36mmagic_pdf.tools.common\u001b[0m:\u001b[36m_do_parse\u001b[0m:\u001b[36m243\u001b[0m - \u001b[1mlocal output dir is d:\\DataAnalysis\\arxiv\\output\\2405.01359v1\\auto\u001b[0m\n",
      "Processing pages: 100%|██████████| 11/11 [00:02<00:00,  4.71it/s]\n",
      "OCR-rec Predict: 100%|██████████| 2/2 [00:00<00:00, 51.24it/s]\n",
      "\u001b[32m2025-05-23 21:28:51.142\u001b[0m | \u001b[1mINFO    \u001b[0m | \u001b[36mmagic_pdf.tools.common\u001b[0m:\u001b[36m_do_parse\u001b[0m:\u001b[36m243\u001b[0m - \u001b[1mlocal output dir is d:\\DataAnalysis\\arxiv\\output\\2405.02355v3\\auto\u001b[0m\n",
      "Processing pages: 100%|██████████| 23/23 [00:03<00:00,  6.91it/s]\n",
      "\u001b[32m2025-05-23 21:28:55.735\u001b[0m | \u001b[1mINFO    \u001b[0m | \u001b[36mmagic_pdf.tools.common\u001b[0m:\u001b[36m_do_parse\u001b[0m:\u001b[36m243\u001b[0m - \u001b[1mlocal output dir is d:\\DataAnalysis\\arxiv\\output\\2405.03085v1\\auto\u001b[0m\n",
      "Processing pages: 100%|██████████| 7/7 [00:01<00:00,  3.68it/s]\n",
      "\u001b[32m2025-05-23 21:28:58.551\u001b[0m | \u001b[1mINFO    \u001b[0m | \u001b[36mmagic_pdf.tools.common\u001b[0m:\u001b[36m_do_parse\u001b[0m:\u001b[36m243\u001b[0m - \u001b[1mlocal output dir is d:\\DataAnalysis\\arxiv\\output\\2405.03122v2\\auto\u001b[0m\n",
      "Processing pages: 100%|██████████| 18/18 [00:03<00:00,  5.44it/s]\n",
      "OCR-rec Predict: 100%|██████████| 1/1 [00:00<00:00, 38.16it/s]\n",
      "\u001b[32m2025-05-23 21:29:03.518\u001b[0m | \u001b[1mINFO    \u001b[0m | \u001b[36mmagic_pdf.tools.common\u001b[0m:\u001b[36m_do_parse\u001b[0m:\u001b[36m243\u001b[0m - \u001b[1mlocal output dir is d:\\DataAnalysis\\arxiv\\output\\2405.03845v1\\auto\u001b[0m\n",
      "Processing pages: 100%|██████████| 6/6 [00:01<00:00,  4.64it/s]\n",
      "\u001b[32m2025-05-23 21:29:05.592\u001b[0m | \u001b[1mINFO    \u001b[0m | \u001b[36mmagic_pdf.tools.common\u001b[0m:\u001b[36m_do_parse\u001b[0m:\u001b[36m243\u001b[0m - \u001b[1mlocal output dir is d:\\DataAnalysis\\arxiv\\output\\2405.03963v4\\auto\u001b[0m\n",
      "Processing pages: 100%|██████████| 31/31 [00:03<00:00,  8.42it/s]\n",
      "OCR-rec Predict: 100%|██████████| 1/1 [00:00<00:00, 49.95it/s]\n",
      "\u001b[32m2025-05-23 21:29:10.732\u001b[0m | \u001b[1mINFO    \u001b[0m | \u001b[36mmagic_pdf.tools.common\u001b[0m:\u001b[36m_do_parse\u001b[0m:\u001b[36m243\u001b[0m - \u001b[1mlocal output dir is d:\\DataAnalysis\\arxiv\\output\\2405.04533v1\\auto\u001b[0m\n",
      "Processing pages: 100%|██████████| 18/18 [00:02<00:00,  8.15it/s]\n",
      "\u001b[32m2025-05-23 21:29:14.617\u001b[0m | \u001b[1mINFO    \u001b[0m | \u001b[36mmagic_pdf.tools.common\u001b[0m:\u001b[36m_do_parse\u001b[0m:\u001b[36m243\u001b[0m - \u001b[1mlocal output dir is d:\\DataAnalysis\\arxiv\\output\\2405.05444v1\\auto\u001b[0m\n",
      "Processing pages: 100%|██████████| 13/13 [00:03<00:00,  3.86it/s]\n",
      "OCR-rec Predict: 100%|██████████| 20/20 [00:00<00:00, 133.01it/s]\n",
      "\u001b[32m2025-05-23 21:29:23.210\u001b[0m | \u001b[1mINFO    \u001b[0m | \u001b[36mmagic_pdf.tools.common\u001b[0m:\u001b[36m_do_parse\u001b[0m:\u001b[36m243\u001b[0m - \u001b[1mlocal output dir is d:\\DataAnalysis\\arxiv\\output\\2405.05741v1\\auto\u001b[0m\n",
      "Processing pages: 100%|██████████| 20/20 [00:03<00:00,  5.33it/s]\n",
      "\u001b[32m2025-05-23 21:29:28.415\u001b[0m | \u001b[1mINFO    \u001b[0m | \u001b[36mmagic_pdf.tools.common\u001b[0m:\u001b[36m_do_parse\u001b[0m:\u001b[36m243\u001b[0m - \u001b[1mlocal output dir is d:\\DataAnalysis\\arxiv\\output\\2405.06683v1\\auto\u001b[0m\n",
      "Processing pages:  38%|███▊      | 8/21 [00:01<00:02,  4.38it/s]\u001b[32m2025-05-23 21:29:30.700\u001b[0m | \u001b[33m\u001b[1mWARNING \u001b[0m | \u001b[36mmagic_pdf.pdf_parse_union_core_v2\u001b[0m:\u001b[36msort_lines_by_model\u001b[0m:\u001b[36m537\u001b[0m - \u001b[33m\u001b[1mright > page_w, left: 41, right: 597, top: 107, bottom: 116, page_w: 595.2760009765625, page_h: 841.8900146484375\u001b[0m\n",
      "\u001b[32m2025-05-23 21:29:30.701\u001b[0m | \u001b[33m\u001b[1mWARNING \u001b[0m | \u001b[36mmagic_pdf.pdf_parse_union_core_v2\u001b[0m:\u001b[36msort_lines_by_model\u001b[0m:\u001b[36m537\u001b[0m - \u001b[33m\u001b[1mright > page_w, left: 41, right: 597, top: 271, bottom: 281, page_w: 595.2760009765625, page_h: 841.8900146484375\u001b[0m\n",
      "\u001b[32m2025-05-23 21:29:30.701\u001b[0m | \u001b[33m\u001b[1mWARNING \u001b[0m | \u001b[36mmagic_pdf.pdf_parse_union_core_v2\u001b[0m:\u001b[36msort_lines_by_model\u001b[0m:\u001b[36m537\u001b[0m - \u001b[33m\u001b[1mright > page_w, left: 40, right: 597, top: 403, bottom: 413, page_w: 595.2760009765625, page_h: 841.8900146484375\u001b[0m\n",
      "\u001b[32m2025-05-23 21:29:30.702\u001b[0m | \u001b[33m\u001b[1mWARNING \u001b[0m | \u001b[36mmagic_pdf.pdf_parse_union_core_v2\u001b[0m:\u001b[36msort_lines_by_model\u001b[0m:\u001b[36m537\u001b[0m - \u001b[33m\u001b[1mright > page_w, left: 40, right: 598, top: 412, bottom: 425, page_w: 595.2760009765625, page_h: 841.8900146484375\u001b[0m\n",
      "\u001b[32m2025-05-23 21:29:30.702\u001b[0m | \u001b[33m\u001b[1mWARNING \u001b[0m | \u001b[36mmagic_pdf.pdf_parse_union_core_v2\u001b[0m:\u001b[36msort_lines_by_model\u001b[0m:\u001b[36m537\u001b[0m - \u001b[33m\u001b[1mright > page_w, left: 39, right: 598, top: 566, bottom: 578, page_w: 595.2760009765625, page_h: 841.8900146484375\u001b[0m\n",
      "\u001b[32m2025-05-23 21:29:30.703\u001b[0m | \u001b[33m\u001b[1mWARNING \u001b[0m | \u001b[36mmagic_pdf.pdf_parse_union_core_v2\u001b[0m:\u001b[36msort_lines_by_model\u001b[0m:\u001b[36m537\u001b[0m - \u001b[33m\u001b[1mright > page_w, left: 40, right: 598, top: 588, bottom: 600, page_w: 595.2760009765625, page_h: 841.8900146484375\u001b[0m\n",
      "\u001b[32m2025-05-23 21:29:30.703\u001b[0m | \u001b[33m\u001b[1mWARNING \u001b[0m | \u001b[36mmagic_pdf.pdf_parse_union_core_v2\u001b[0m:\u001b[36msort_lines_by_model\u001b[0m:\u001b[36m537\u001b[0m - \u001b[33m\u001b[1mright > page_w, left: 41, right: 597, top: 665, bottom: 677, page_w: 595.2760009765625, page_h: 841.8900146484375\u001b[0m\n",
      "\u001b[32m2025-05-23 21:29:30.704\u001b[0m | \u001b[33m\u001b[1mWARNING \u001b[0m | \u001b[36mmagic_pdf.pdf_parse_union_core_v2\u001b[0m:\u001b[36msort_lines_by_model\u001b[0m:\u001b[36m537\u001b[0m - \u001b[33m\u001b[1mright > page_w, left: 40, right: 598, top: 698, bottom: 709, page_w: 595.2760009765625, page_h: 841.8900146484375\u001b[0m\n",
      "\u001b[32m2025-05-23 21:29:30.704\u001b[0m | \u001b[33m\u001b[1mWARNING \u001b[0m | \u001b[36mmagic_pdf.pdf_parse_union_core_v2\u001b[0m:\u001b[36msort_lines_by_model\u001b[0m:\u001b[36m537\u001b[0m - \u001b[33m\u001b[1mright > page_w, left: 41, right: 597, top: 719, bottom: 731, page_w: 595.2760009765625, page_h: 841.8900146484375\u001b[0m\n",
      "Processing pages:  48%|████▊     | 10/21 [00:02<00:02,  5.36it/s]\u001b[32m2025-05-23 21:29:30.856\u001b[0m | \u001b[33m\u001b[1mWARNING \u001b[0m | \u001b[36mmagic_pdf.pdf_parse_union_core_v2\u001b[0m:\u001b[36msort_lines_by_model\u001b[0m:\u001b[36m537\u001b[0m - \u001b[33m\u001b[1mright > page_w, left: 42, right: 597, top: 69, bottom: 79, page_w: 595.2760009765625, page_h: 841.8900146484375\u001b[0m\n",
      "\u001b[32m2025-05-23 21:29:30.857\u001b[0m | \u001b[33m\u001b[1mWARNING \u001b[0m | \u001b[36mmagic_pdf.pdf_parse_union_core_v2\u001b[0m:\u001b[36msort_lines_by_model\u001b[0m:\u001b[36m537\u001b[0m - \u001b[33m\u001b[1mright > page_w, left: 41, right: 596, top: 387, bottom: 397, page_w: 595.2760009765625, page_h: 841.8900146484375\u001b[0m\n",
      "\u001b[32m2025-05-23 21:29:30.858\u001b[0m | \u001b[33m\u001b[1mWARNING \u001b[0m | \u001b[36mmagic_pdf.pdf_parse_union_core_v2\u001b[0m:\u001b[36msort_lines_by_model\u001b[0m:\u001b[36m537\u001b[0m - \u001b[33m\u001b[1mright > page_w, left: 41, right: 596, top: 398, bottom: 408, page_w: 595.2760009765625, page_h: 841.8900146484375\u001b[0m\n",
      "\u001b[32m2025-05-23 21:29:30.858\u001b[0m | \u001b[33m\u001b[1mWARNING \u001b[0m | \u001b[36mmagic_pdf.pdf_parse_union_core_v2\u001b[0m:\u001b[36msort_lines_by_model\u001b[0m:\u001b[36m537\u001b[0m - \u001b[33m\u001b[1mright > page_w, left: 40, right: 596, top: 429, bottom: 443, page_w: 595.2760009765625, page_h: 841.8900146484375\u001b[0m\n",
      "\u001b[32m2025-05-23 21:29:30.858\u001b[0m | \u001b[33m\u001b[1mWARNING \u001b[0m | \u001b[36mmagic_pdf.pdf_parse_union_core_v2\u001b[0m:\u001b[36msort_lines_by_model\u001b[0m:\u001b[36m537\u001b[0m - \u001b[33m\u001b[1mright > page_w, left: 41, right: 598, top: 518, bottom: 530, page_w: 595.2760009765625, page_h: 841.8900146484375\u001b[0m\n",
      "\u001b[32m2025-05-23 21:29:30.859\u001b[0m | \u001b[33m\u001b[1mWARNING \u001b[0m | \u001b[36mmagic_pdf.pdf_parse_union_core_v2\u001b[0m:\u001b[36msort_lines_by_model\u001b[0m:\u001b[36m537\u001b[0m - \u001b[33m\u001b[1mright > page_w, left: 40, right: 598, top: 539, bottom: 552, page_w: 595.2760009765625, page_h: 841.8900146484375\u001b[0m\n",
      "\u001b[32m2025-05-23 21:29:30.859\u001b[0m | \u001b[33m\u001b[1mWARNING \u001b[0m | \u001b[36mmagic_pdf.pdf_parse_union_core_v2\u001b[0m:\u001b[36msort_lines_by_model\u001b[0m:\u001b[36m537\u001b[0m - \u001b[33m\u001b[1mright > page_w, left: 42, right: 597, top: 650, bottom: 660, page_w: 595.2760009765625, page_h: 841.8900146484375\u001b[0m\n",
      "\u001b[32m2025-05-23 21:29:30.859\u001b[0m | \u001b[33m\u001b[1mWARNING \u001b[0m | \u001b[36mmagic_pdf.pdf_parse_union_core_v2\u001b[0m:\u001b[36msort_lines_by_model\u001b[0m:\u001b[36m537\u001b[0m - \u001b[33m\u001b[1mright > page_w, left: 40, right: 598, top: 660, bottom: 673, page_w: 595.2760009765625, page_h: 841.8900146484375\u001b[0m\n",
      "\u001b[32m2025-05-23 21:29:30.859\u001b[0m | \u001b[33m\u001b[1mWARNING \u001b[0m | \u001b[36mmagic_pdf.pdf_parse_union_core_v2\u001b[0m:\u001b[36msort_lines_by_model\u001b[0m:\u001b[36m537\u001b[0m - \u001b[33m\u001b[1mright > page_w, left: 41, right: 598, top: 694, bottom: 704, page_w: 595.2760009765625, page_h: 841.8900146484375\u001b[0m\n",
      "Processing pages:  52%|█████▏    | 11/21 [00:02<00:01,  5.64it/s]\u001b[32m2025-05-23 21:29:30.936\u001b[0m | \u001b[33m\u001b[1mWARNING \u001b[0m | \u001b[36mmagic_pdf.pdf_parse_union_core_v2\u001b[0m:\u001b[36msort_lines_by_model\u001b[0m:\u001b[36m537\u001b[0m - \u001b[33m\u001b[1mright > page_w, left: 42, right: 597, top: 69, bottom: 79, page_w: 595.2760009765625, page_h: 841.8900146484375\u001b[0m\n",
      "\u001b[32m2025-05-23 21:29:30.937\u001b[0m | \u001b[33m\u001b[1mWARNING \u001b[0m | \u001b[36mmagic_pdf.pdf_parse_union_core_v2\u001b[0m:\u001b[36msort_lines_by_model\u001b[0m:\u001b[36m537\u001b[0m - \u001b[33m\u001b[1mright > page_w, left: 40, right: 598, top: 91, bottom: 102, page_w: 595.2760009765625, page_h: 841.8900146484375\u001b[0m\n",
      "\u001b[32m2025-05-23 21:29:30.937\u001b[0m | \u001b[33m\u001b[1mWARNING \u001b[0m | \u001b[36mmagic_pdf.pdf_parse_union_core_v2\u001b[0m:\u001b[36msort_lines_by_model\u001b[0m:\u001b[36m537\u001b[0m - \u001b[33m\u001b[1mright > page_w, left: 40, right: 598, top: 179, bottom: 190, page_w: 595.2760009765625, page_h: 841.8900146484375\u001b[0m\n",
      "\u001b[32m2025-05-23 21:29:30.938\u001b[0m | \u001b[33m\u001b[1mWARNING \u001b[0m | \u001b[36mmagic_pdf.pdf_parse_union_core_v2\u001b[0m:\u001b[36msort_lines_by_model\u001b[0m:\u001b[36m537\u001b[0m - \u001b[33m\u001b[1mright > page_w, left: 40, right: 598, top: 189, bottom: 201, page_w: 595.2760009765625, page_h: 841.8900146484375\u001b[0m\n",
      "\u001b[32m2025-05-23 21:29:31.170\u001b[0m | \u001b[33m\u001b[1mWARNING \u001b[0m | \u001b[36mmagic_pdf.pdf_parse_union_core_v2\u001b[0m:\u001b[36msort_lines_by_model\u001b[0m:\u001b[36m537\u001b[0m - \u001b[33m\u001b[1mright > page_w, left: 41, right: 597, top: 100, bottom: 111, page_w: 595.2760009765625, page_h: 841.8900146484375\u001b[0m\n",
      "\u001b[32m2025-05-23 21:29:31.171\u001b[0m | \u001b[33m\u001b[1mWARNING \u001b[0m | \u001b[36mmagic_pdf.pdf_parse_union_core_v2\u001b[0m:\u001b[36msort_lines_by_model\u001b[0m:\u001b[36m537\u001b[0m - \u001b[33m\u001b[1mright > page_w, left: 40, right: 598, top: 139, bottom: 152, page_w: 595.2760009765625, page_h: 841.8900146484375\u001b[0m\n",
      "\u001b[32m2025-05-23 21:29:31.171\u001b[0m | \u001b[33m\u001b[1mWARNING \u001b[0m | \u001b[36mmagic_pdf.pdf_parse_union_core_v2\u001b[0m:\u001b[36msort_lines_by_model\u001b[0m:\u001b[36m537\u001b[0m - \u001b[33m\u001b[1mright > page_w, left: 41, right: 598, top: 159, bottom: 172, page_w: 595.2760009765625, page_h: 841.8900146484375\u001b[0m\n",
      "\u001b[32m2025-05-23 21:29:31.172\u001b[0m | \u001b[33m\u001b[1mWARNING \u001b[0m | \u001b[36mmagic_pdf.pdf_parse_union_core_v2\u001b[0m:\u001b[36msort_lines_by_model\u001b[0m:\u001b[36m537\u001b[0m - \u001b[33m\u001b[1mright > page_w, left: 41, right: 596, top: 190, bottom: 201, page_w: 595.2760009765625, page_h: 841.8900146484375\u001b[0m\n",
      "\u001b[32m2025-05-23 21:29:31.172\u001b[0m | \u001b[33m\u001b[1mWARNING \u001b[0m | \u001b[36mmagic_pdf.pdf_parse_union_core_v2\u001b[0m:\u001b[36msort_lines_by_model\u001b[0m:\u001b[36m537\u001b[0m - \u001b[33m\u001b[1mright > page_w, left: 40, right: 598, top: 267, bottom: 278, page_w: 595.2760009765625, page_h: 841.8900146484375\u001b[0m\n",
      "\u001b[32m2025-05-23 21:29:31.172\u001b[0m | \u001b[33m\u001b[1mWARNING \u001b[0m | \u001b[36mmagic_pdf.pdf_parse_union_core_v2\u001b[0m:\u001b[36msort_lines_by_model\u001b[0m:\u001b[36m537\u001b[0m - \u001b[33m\u001b[1mright > page_w, left: 41, right: 597, top: 386, bottom: 396, page_w: 595.2760009765625, page_h: 841.8900146484375\u001b[0m\n",
      "\u001b[32m2025-05-23 21:29:31.173\u001b[0m | \u001b[33m\u001b[1mWARNING \u001b[0m | \u001b[36mmagic_pdf.pdf_parse_union_core_v2\u001b[0m:\u001b[36msort_lines_by_model\u001b[0m:\u001b[36m537\u001b[0m - \u001b[33m\u001b[1mright > page_w, left: 40, right: 597, top: 395, bottom: 407, page_w: 595.2760009765625, page_h: 841.8900146484375\u001b[0m\n",
      "\u001b[32m2025-05-23 21:29:31.174\u001b[0m | \u001b[33m\u001b[1mWARNING \u001b[0m | \u001b[36mmagic_pdf.pdf_parse_union_core_v2\u001b[0m:\u001b[36msort_lines_by_model\u001b[0m:\u001b[36m537\u001b[0m - \u001b[33m\u001b[1mright > page_w, left: 41, right: 597, top: 533, bottom: 544, page_w: 595.2760009765625, page_h: 841.8900146484375\u001b[0m\n",
      "\u001b[32m2025-05-23 21:29:31.174\u001b[0m | \u001b[33m\u001b[1mWARNING \u001b[0m | \u001b[36mmagic_pdf.pdf_parse_union_core_v2\u001b[0m:\u001b[36msort_lines_by_model\u001b[0m:\u001b[36m537\u001b[0m - \u001b[33m\u001b[1mright > page_w, left: 41, right: 596, top: 554, bottom: 564, page_w: 595.2760009765625, page_h: 841.8900146484375\u001b[0m\n",
      "\u001b[32m2025-05-23 21:29:31.175\u001b[0m | \u001b[33m\u001b[1mWARNING \u001b[0m | \u001b[36mmagic_pdf.pdf_parse_union_core_v2\u001b[0m:\u001b[36msort_lines_by_model\u001b[0m:\u001b[36m537\u001b[0m - \u001b[33m\u001b[1mright > page_w, left: 40, right: 598, top: 651, bottom: 663, page_w: 595.2760009765625, page_h: 841.8900146484375\u001b[0m\n",
      "\u001b[32m2025-05-23 21:29:31.175\u001b[0m | \u001b[33m\u001b[1mWARNING \u001b[0m | \u001b[36mmagic_pdf.pdf_parse_union_core_v2\u001b[0m:\u001b[36msort_lines_by_model\u001b[0m:\u001b[36m537\u001b[0m - \u001b[33m\u001b[1mright > page_w, left: 41, right: 598, top: 671, bottom: 683, page_w: 595.2760009765625, page_h: 841.8900146484375\u001b[0m\n",
      "\u001b[32m2025-05-23 21:29:31.176\u001b[0m | \u001b[33m\u001b[1mWARNING \u001b[0m | \u001b[36mmagic_pdf.pdf_parse_union_core_v2\u001b[0m:\u001b[36msort_lines_by_model\u001b[0m:\u001b[36m537\u001b[0m - \u001b[33m\u001b[1mright > page_w, left: 41, right: 597, top: 691, bottom: 702, page_w: 595.2760009765625, page_h: 841.8900146484375\u001b[0m\n",
      "Processing pages:  62%|██████▏   | 13/21 [00:02<00:01,  5.93it/s]\u001b[32m2025-05-23 21:29:31.299\u001b[0m | \u001b[33m\u001b[1mWARNING \u001b[0m | \u001b[36mmagic_pdf.pdf_parse_union_core_v2\u001b[0m:\u001b[36msort_lines_by_model\u001b[0m:\u001b[36m537\u001b[0m - \u001b[33m\u001b[1mright > page_w, left: 42, right: 596, top: 512, bottom: 524, page_w: 595.2760009765625, page_h: 841.8900146484375\u001b[0m\n",
      "\u001b[32m2025-05-23 21:29:31.300\u001b[0m | \u001b[33m\u001b[1mWARNING \u001b[0m | \u001b[36mmagic_pdf.pdf_parse_union_core_v2\u001b[0m:\u001b[36msort_lines_by_model\u001b[0m:\u001b[36m537\u001b[0m - \u001b[33m\u001b[1mright > page_w, left: 41, right: 597, top: 533, bottom: 543, page_w: 595.2760009765625, page_h: 841.8900146484375\u001b[0m\n",
      "Processing pages:  67%|██████▋   | 14/21 [00:02<00:01,  6.26it/s]\u001b[32m2025-05-23 21:29:31.440\u001b[0m | \u001b[33m\u001b[1mWARNING \u001b[0m | \u001b[36mmagic_pdf.pdf_parse_union_core_v2\u001b[0m:\u001b[36msort_lines_by_model\u001b[0m:\u001b[36m537\u001b[0m - \u001b[33m\u001b[1mright > page_w, left: 42, right: 596, top: 133, bottom: 143, page_w: 595.2760009765625, page_h: 841.8900146484375\u001b[0m\n",
      "\u001b[32m2025-05-23 21:29:31.440\u001b[0m | \u001b[33m\u001b[1mWARNING \u001b[0m | \u001b[36mmagic_pdf.pdf_parse_union_core_v2\u001b[0m:\u001b[36msort_lines_by_model\u001b[0m:\u001b[36m537\u001b[0m - \u001b[33m\u001b[1mright > page_w, left: 41, right: 596, top: 202, bottom: 214, page_w: 595.2760009765625, page_h: 841.8900146484375\u001b[0m\n",
      "Processing pages:  71%|███████▏  | 15/21 [00:02<00:00,  6.48it/s]\u001b[32m2025-05-23 21:29:31.605\u001b[0m | \u001b[33m\u001b[1mWARNING \u001b[0m | \u001b[36mmagic_pdf.pdf_parse_union_core_v2\u001b[0m:\u001b[36msort_lines_by_model\u001b[0m:\u001b[36m537\u001b[0m - \u001b[33m\u001b[1mright > page_w, left: 40, right: 596, top: 363, bottom: 375, page_w: 595.2760009765625, page_h: 841.8900146484375\u001b[0m\n",
      "\u001b[32m2025-05-23 21:29:31.606\u001b[0m | \u001b[33m\u001b[1mWARNING \u001b[0m | \u001b[36mmagic_pdf.pdf_parse_union_core_v2\u001b[0m:\u001b[36msort_lines_by_model\u001b[0m:\u001b[36m537\u001b[0m - \u001b[33m\u001b[1mright > page_w, left: 42, right: 598, top: 384, bottom: 394, page_w: 595.2760009765625, page_h: 841.8900146484375\u001b[0m\n",
      "\u001b[32m2025-05-23 21:29:31.606\u001b[0m | \u001b[33m\u001b[1mWARNING \u001b[0m | \u001b[36mmagic_pdf.pdf_parse_union_core_v2\u001b[0m:\u001b[36msort_lines_by_model\u001b[0m:\u001b[36m537\u001b[0m - \u001b[33m\u001b[1mright > page_w, left: 40, right: 598, top: 472, bottom: 485, page_w: 595.2760009765625, page_h: 841.8900146484375\u001b[0m\n",
      "\u001b[32m2025-05-23 21:29:31.607\u001b[0m | \u001b[33m\u001b[1mWARNING \u001b[0m | \u001b[36mmagic_pdf.pdf_parse_union_core_v2\u001b[0m:\u001b[36msort_lines_by_model\u001b[0m:\u001b[36m537\u001b[0m - \u001b[33m\u001b[1mright > page_w, left: 40, right: 598, top: 600, bottom: 613, page_w: 595.2760009765625, page_h: 841.8900146484375\u001b[0m\n",
      "Processing pages:  76%|███████▌  | 16/21 [00:03<00:00,  6.32it/s]\u001b[32m2025-05-23 21:29:31.767\u001b[0m | \u001b[33m\u001b[1mWARNING \u001b[0m | \u001b[36mmagic_pdf.pdf_parse_union_core_v2\u001b[0m:\u001b[36msort_lines_by_model\u001b[0m:\u001b[36m537\u001b[0m - \u001b[33m\u001b[1mright > page_w, left: 40, right: 597, top: 188, bottom: 198, page_w: 595.2760009765625, page_h: 841.8900146484375\u001b[0m\n",
      "\u001b[32m2025-05-23 21:29:31.769\u001b[0m | \u001b[33m\u001b[1mWARNING \u001b[0m | \u001b[36mmagic_pdf.pdf_parse_union_core_v2\u001b[0m:\u001b[36msort_lines_by_model\u001b[0m:\u001b[36m537\u001b[0m - \u001b[33m\u001b[1mright > page_w, left: 40, right: 598, top: 315, bottom: 327, page_w: 595.2760009765625, page_h: 841.8900146484375\u001b[0m\n",
      "\u001b[32m2025-05-23 21:29:31.769\u001b[0m | \u001b[33m\u001b[1mWARNING \u001b[0m | \u001b[36mmagic_pdf.pdf_parse_union_core_v2\u001b[0m:\u001b[36msort_lines_by_model\u001b[0m:\u001b[36m537\u001b[0m - \u001b[33m\u001b[1mright > page_w, left: 40, right: 598, top: 463, bottom: 474, page_w: 595.2760009765625, page_h: 841.8900146484375\u001b[0m\n",
      "\u001b[32m2025-05-23 21:29:31.770\u001b[0m | \u001b[33m\u001b[1mWARNING \u001b[0m | \u001b[36mmagic_pdf.pdf_parse_union_core_v2\u001b[0m:\u001b[36msort_lines_by_model\u001b[0m:\u001b[36m537\u001b[0m - \u001b[33m\u001b[1mright > page_w, left: 39, right: 598, top: 611, bottom: 622, page_w: 595.2760009765625, page_h: 841.8900146484375\u001b[0m\n",
      "Processing pages:  86%|████████▌ | 18/21 [00:03<00:00,  6.64it/s]\u001b[32m2025-05-23 21:29:32.085\u001b[0m | \u001b[33m\u001b[1mWARNING \u001b[0m | \u001b[36mmagic_pdf.pdf_parse_union_core_v2\u001b[0m:\u001b[36msort_lines_by_model\u001b[0m:\u001b[36m537\u001b[0m - \u001b[33m\u001b[1mright > page_w, left: 40, right: 598, top: 108, bottom: 120, page_w: 595.2760009765625, page_h: 841.8900146484375\u001b[0m\n",
      "\u001b[32m2025-05-23 21:29:32.086\u001b[0m | \u001b[33m\u001b[1mWARNING \u001b[0m | \u001b[36mmagic_pdf.pdf_parse_union_core_v2\u001b[0m:\u001b[36msort_lines_by_model\u001b[0m:\u001b[36m537\u001b[0m - \u001b[33m\u001b[1mright > page_w, left: 40, right: 597, top: 117, bottom: 130, page_w: 595.2760009765625, page_h: 841.8900146484375\u001b[0m\n",
      "\u001b[32m2025-05-23 21:29:32.087\u001b[0m | \u001b[33m\u001b[1mWARNING \u001b[0m | \u001b[36mmagic_pdf.pdf_parse_union_core_v2\u001b[0m:\u001b[36msort_lines_by_model\u001b[0m:\u001b[36m537\u001b[0m - \u001b[33m\u001b[1mright > page_w, left: 40, right: 597, top: 226, bottom: 238, page_w: 595.2760009765625, page_h: 841.8900146484375\u001b[0m\n",
      "\u001b[32m2025-05-23 21:29:32.087\u001b[0m | \u001b[33m\u001b[1mWARNING \u001b[0m | \u001b[36mmagic_pdf.pdf_parse_union_core_v2\u001b[0m:\u001b[36msort_lines_by_model\u001b[0m:\u001b[36m537\u001b[0m - \u001b[33m\u001b[1mright > page_w, left: 41, right: 598, top: 246, bottom: 258, page_w: 595.2760009765625, page_h: 841.8900146484375\u001b[0m\n",
      "\u001b[32m2025-05-23 21:29:32.088\u001b[0m | \u001b[33m\u001b[1mWARNING \u001b[0m | \u001b[36mmagic_pdf.pdf_parse_union_core_v2\u001b[0m:\u001b[36msort_lines_by_model\u001b[0m:\u001b[36m537\u001b[0m - \u001b[33m\u001b[1mright > page_w, left: 41, right: 598, top: 345, bottom: 356, page_w: 595.2760009765625, page_h: 841.8900146484375\u001b[0m\n",
      "\u001b[32m2025-05-23 21:29:32.088\u001b[0m | \u001b[33m\u001b[1mWARNING \u001b[0m | \u001b[36mmagic_pdf.pdf_parse_union_core_v2\u001b[0m:\u001b[36msort_lines_by_model\u001b[0m:\u001b[36m537\u001b[0m - \u001b[33m\u001b[1mright > page_w, left: 41, right: 598, top: 354, bottom: 366, page_w: 595.2760009765625, page_h: 841.8900146484375\u001b[0m\n",
      "\u001b[32m2025-05-23 21:29:32.089\u001b[0m | \u001b[33m\u001b[1mWARNING \u001b[0m | \u001b[36mmagic_pdf.pdf_parse_union_core_v2\u001b[0m:\u001b[36msort_lines_by_model\u001b[0m:\u001b[36m537\u001b[0m - \u001b[33m\u001b[1mright > page_w, left: 40, right: 599, top: 383, bottom: 395, page_w: 595.2760009765625, page_h: 841.8900146484375\u001b[0m\n",
      "\u001b[32m2025-05-23 21:29:32.089\u001b[0m | \u001b[33m\u001b[1mWARNING \u001b[0m | \u001b[36mmagic_pdf.pdf_parse_union_core_v2\u001b[0m:\u001b[36msort_lines_by_model\u001b[0m:\u001b[36m537\u001b[0m - \u001b[33m\u001b[1mright > page_w, left: 43, right: 598, top: 423, bottom: 435, page_w: 595.2760009765625, page_h: 841.8900146484375\u001b[0m\n",
      "\u001b[32m2025-05-23 21:29:32.089\u001b[0m | \u001b[33m\u001b[1mWARNING \u001b[0m | \u001b[36mmagic_pdf.pdf_parse_union_core_v2\u001b[0m:\u001b[36msort_lines_by_model\u001b[0m:\u001b[36m537\u001b[0m - \u001b[33m\u001b[1mright > page_w, left: 423, right: 597, top: 444, bottom: 454, page_w: 595.2760009765625, page_h: 841.8900146484375\u001b[0m\n",
      "\u001b[32m2025-05-23 21:29:32.089\u001b[0m | \u001b[33m\u001b[1mWARNING \u001b[0m | \u001b[36mmagic_pdf.pdf_parse_union_core_v2\u001b[0m:\u001b[36msort_lines_by_model\u001b[0m:\u001b[36m537\u001b[0m - \u001b[33m\u001b[1mright > page_w, left: 463, right: 598, top: 522, bottom: 534, page_w: 595.2760009765625, page_h: 841.8900146484375\u001b[0m\n",
      "\u001b[32m2025-05-23 21:29:32.090\u001b[0m | \u001b[33m\u001b[1mWARNING \u001b[0m | \u001b[36mmagic_pdf.pdf_parse_union_core_v2\u001b[0m:\u001b[36msort_lines_by_model\u001b[0m:\u001b[36m537\u001b[0m - \u001b[33m\u001b[1mright > page_w, left: 149, right: 597, top: 533, bottom: 542, page_w: 595.2760009765625, page_h: 841.8900146484375\u001b[0m\n",
      "Processing pages:  90%|█████████ | 19/21 [00:03<00:00,  6.17it/s]\u001b[32m2025-05-23 21:29:32.359\u001b[0m | \u001b[33m\u001b[1mWARNING \u001b[0m | \u001b[36mmagic_pdf.pdf_parse_union_core_v2\u001b[0m:\u001b[36msort_lines_by_model\u001b[0m:\u001b[36m537\u001b[0m - \u001b[33m\u001b[1mright > page_w, left: 41, right: 598, top: 227, bottom: 239, page_w: 595.2760009765625, page_h: 841.8900146484375\u001b[0m\n",
      "\u001b[32m2025-05-23 21:29:32.360\u001b[0m | \u001b[33m\u001b[1mWARNING \u001b[0m | \u001b[36mmagic_pdf.pdf_parse_union_core_v2\u001b[0m:\u001b[36msort_lines_by_model\u001b[0m:\u001b[36m537\u001b[0m - \u001b[33m\u001b[1mright > page_w, left: 40, right: 598, top: 246, bottom: 258, page_w: 595.2760009765625, page_h: 841.8900146484375\u001b[0m\n",
      "\u001b[32m2025-05-23 21:29:32.361\u001b[0m | \u001b[33m\u001b[1mWARNING \u001b[0m | \u001b[36mmagic_pdf.pdf_parse_union_core_v2\u001b[0m:\u001b[36msort_lines_by_model\u001b[0m:\u001b[36m537\u001b[0m - \u001b[33m\u001b[1mright > page_w, left: 40, right: 597, top: 255, bottom: 268, page_w: 595.2760009765625, page_h: 841.8900146484375\u001b[0m\n",
      "\u001b[32m2025-05-23 21:29:32.361\u001b[0m | \u001b[33m\u001b[1mWARNING \u001b[0m | \u001b[36mmagic_pdf.pdf_parse_union_core_v2\u001b[0m:\u001b[36msort_lines_by_model\u001b[0m:\u001b[36m537\u001b[0m - \u001b[33m\u001b[1mright > page_w, left: 41, right: 598, top: 394, bottom: 407, page_w: 595.2760009765625, page_h: 841.8900146484375\u001b[0m\n",
      "\u001b[32m2025-05-23 21:29:32.361\u001b[0m | \u001b[33m\u001b[1mWARNING \u001b[0m | \u001b[36mmagic_pdf.pdf_parse_union_core_v2\u001b[0m:\u001b[36msort_lines_by_model\u001b[0m:\u001b[36m537\u001b[0m - \u001b[33m\u001b[1mright > page_w, left: 39, right: 597, top: 403, bottom: 417, page_w: 595.2760009765625, page_h: 841.8900146484375\u001b[0m\n",
      "\u001b[32m2025-05-23 21:29:32.362\u001b[0m | \u001b[33m\u001b[1mWARNING \u001b[0m | \u001b[36mmagic_pdf.pdf_parse_union_core_v2\u001b[0m:\u001b[36msort_lines_by_model\u001b[0m:\u001b[36m537\u001b[0m - \u001b[33m\u001b[1mright > page_w, left: 41, right: 597, top: 414, bottom: 427, page_w: 595.2760009765625, page_h: 841.8900146484375\u001b[0m\n",
      "\u001b[32m2025-05-23 21:29:32.362\u001b[0m | \u001b[33m\u001b[1mWARNING \u001b[0m | \u001b[36mmagic_pdf.pdf_parse_union_core_v2\u001b[0m:\u001b[36msort_lines_by_model\u001b[0m:\u001b[36m537\u001b[0m - \u001b[33m\u001b[1mright > page_w, left: 41, right: 598, top: 424, bottom: 437, page_w: 595.2760009765625, page_h: 841.8900146484375\u001b[0m\n",
      "\u001b[32m2025-05-23 21:29:32.363\u001b[0m | \u001b[33m\u001b[1mWARNING \u001b[0m | \u001b[36mmagic_pdf.pdf_parse_union_core_v2\u001b[0m:\u001b[36msort_lines_by_model\u001b[0m:\u001b[36m537\u001b[0m - \u001b[33m\u001b[1mright > page_w, left: 104, right: 596, top: 611, bottom: 623, page_w: 595.2760009765625, page_h: 841.8900146484375\u001b[0m\n",
      "\u001b[32m2025-05-23 21:29:32.363\u001b[0m | \u001b[33m\u001b[1mWARNING \u001b[0m | \u001b[36mmagic_pdf.pdf_parse_union_core_v2\u001b[0m:\u001b[36msort_lines_by_model\u001b[0m:\u001b[36m537\u001b[0m - \u001b[33m\u001b[1mright > page_w, left: 41, right: 597, top: 631, bottom: 643, page_w: 595.2760009765625, page_h: 841.8900146484375\u001b[0m\n",
      "\u001b[32m2025-05-23 21:29:32.363\u001b[0m | \u001b[33m\u001b[1mWARNING \u001b[0m | \u001b[36mmagic_pdf.pdf_parse_union_core_v2\u001b[0m:\u001b[36msort_lines_by_model\u001b[0m:\u001b[36m537\u001b[0m - \u001b[33m\u001b[1mright > page_w, left: 83, right: 598, top: 661, bottom: 673, page_w: 595.2760009765625, page_h: 841.8900146484375\u001b[0m\n",
      "\u001b[32m2025-05-23 21:29:32.363\u001b[0m | \u001b[33m\u001b[1mWARNING \u001b[0m | \u001b[36mmagic_pdf.pdf_parse_union_core_v2\u001b[0m:\u001b[36msort_lines_by_model\u001b[0m:\u001b[36m537\u001b[0m - \u001b[33m\u001b[1mright > page_w, left: 61, right: 597, top: 700, bottom: 712, page_w: 595.2760009765625, page_h: 841.8900146484375\u001b[0m\n",
      "Processing pages:  95%|█████████▌| 20/21 [00:03<00:00,  5.12it/s]\u001b[32m2025-05-23 21:29:32.450\u001b[0m | \u001b[33m\u001b[1mWARNING \u001b[0m | \u001b[36mmagic_pdf.pdf_parse_union_core_v2\u001b[0m:\u001b[36msort_lines_by_model\u001b[0m:\u001b[36m537\u001b[0m - \u001b[33m\u001b[1mright > page_w, left: 63, right: 596, top: 69, bottom: 81, page_w: 595.2760009765625, page_h: 841.8900146484375\u001b[0m\n",
      "\u001b[32m2025-05-23 21:29:32.451\u001b[0m | \u001b[33m\u001b[1mWARNING \u001b[0m | \u001b[36mmagic_pdf.pdf_parse_union_core_v2\u001b[0m:\u001b[36msort_lines_by_model\u001b[0m:\u001b[36m537\u001b[0m - \u001b[33m\u001b[1mright > page_w, left: 82, right: 598, top: 187, bottom: 200, page_w: 595.2760009765625, page_h: 841.8900146484375\u001b[0m\n",
      "Processing pages: 100%|██████████| 21/21 [00:03<00:00,  5.36it/s]\n",
      "OCR-rec Predict: 100%|██████████| 1/1 [00:00<00:00, 41.58it/s]\n",
      "\u001b[32m2025-05-23 21:29:34.039\u001b[0m | \u001b[1mINFO    \u001b[0m | \u001b[36mmagic_pdf.tools.common\u001b[0m:\u001b[36m_do_parse\u001b[0m:\u001b[36m243\u001b[0m - \u001b[1mlocal output dir is d:\\DataAnalysis\\arxiv\\output\\2405.06697v1\\auto\u001b[0m\n",
      "Processing pages: 100%|██████████| 21/21 [00:02<00:00,  9.13it/s]\n",
      "\u001b[32m2025-05-23 21:29:37.302\u001b[0m | \u001b[1mINFO    \u001b[0m | \u001b[36mmagic_pdf.tools.common\u001b[0m:\u001b[36m_do_parse\u001b[0m:\u001b[36m243\u001b[0m - \u001b[1mlocal output dir is d:\\DataAnalysis\\arxiv\\output\\2405.07437v2\\auto\u001b[0m\n",
      "Processing pages: 100%|██████████| 13/13 [00:03<00:00,  3.30it/s]\n",
      "\u001b[32m2025-05-23 21:29:42.894\u001b[0m | \u001b[1mINFO    \u001b[0m | \u001b[36mmagic_pdf.tools.common\u001b[0m:\u001b[36m_do_parse\u001b[0m:\u001b[36m243\u001b[0m - \u001b[1mlocal output dir is d:\\DataAnalysis\\arxiv\\output\\2405.07530v1\\auto\u001b[0m\n",
      "Processing pages:  73%|███████▎  | 11/15 [00:01<00:00,  8.95it/s]\u001b[32m2025-05-23 21:29:44.217\u001b[0m | \u001b[33m\u001b[1mWARNING \u001b[0m | \u001b[36mmagic_pdf.pdf_parse_union_core_v2\u001b[0m:\u001b[36mparse_page_core\u001b[0m:\u001b[36m835\u001b[0m - \u001b[33m\u001b[1mskip this page, not found useful bbox, page_id: 11\u001b[0m\n",
      "Processing pages: 100%|██████████| 15/15 [00:01<00:00,  8.80it/s]\n",
      "\u001b[32m2025-05-23 21:29:45.688\u001b[0m | \u001b[1mINFO    \u001b[0m | \u001b[36mmagic_pdf.tools.common\u001b[0m:\u001b[36m_do_parse\u001b[0m:\u001b[36m243\u001b[0m - \u001b[1mlocal output dir is d:\\DataAnalysis\\arxiv\\output\\2405.07963v2\\auto\u001b[0m\n",
      "Processing pages: 100%|██████████| 21/21 [00:03<00:00,  6.51it/s]\n",
      "\u001b[32m2025-05-23 21:29:50.171\u001b[0m | \u001b[1mINFO    \u001b[0m | \u001b[36mmagic_pdf.tools.common\u001b[0m:\u001b[36m_do_parse\u001b[0m:\u001b[36m243\u001b[0m - \u001b[1mlocal output dir is d:\\DataAnalysis\\arxiv\\output\\2405.09980v1\\auto\u001b[0m\n",
      "Processing pages: 100%|██████████| 11/11 [00:01<00:00,  8.42it/s]\n",
      "\u001b[32m2025-05-23 21:29:52.402\u001b[0m | \u001b[1mINFO    \u001b[0m | \u001b[36mmagic_pdf.tools.common\u001b[0m:\u001b[36m_do_parse\u001b[0m:\u001b[36m243\u001b[0m - \u001b[1mlocal output dir is d:\\DataAnalysis\\arxiv\\output\\2405.11407v2\\auto\u001b[0m\n",
      "Processing pages: 100%|██████████| 14/14 [00:02<00:00,  4.86it/s]\n",
      "OCR-rec Predict: 100%|██████████| 1/1 [00:00<00:00, 32.07it/s]\n",
      "\u001b[32m2025-05-23 21:29:56.656\u001b[0m | \u001b[1mINFO    \u001b[0m | \u001b[36mmagic_pdf.tools.common\u001b[0m:\u001b[36m_do_parse\u001b[0m:\u001b[36m243\u001b[0m - \u001b[1mlocal output dir is d:\\DataAnalysis\\arxiv\\output\\2405.12363v2\\auto\u001b[0m\n",
      "Processing pages: 100%|██████████| 52/52 [00:14<00:00,  3.50it/s]\n",
      "\u001b[32m2025-05-23 21:30:15.723\u001b[0m | \u001b[1mINFO    \u001b[0m | \u001b[36mmagic_pdf.tools.common\u001b[0m:\u001b[36m_do_parse\u001b[0m:\u001b[36m243\u001b[0m - \u001b[1mlocal output dir is d:\\DataAnalysis\\arxiv\\output\\2405.12750v2\\auto\u001b[0m\n",
      "Processing pages: 100%|██████████| 6/6 [00:00<00:00,  6.14it/s]\n",
      "\u001b[32m2025-05-23 21:30:17.399\u001b[0m | \u001b[1mINFO    \u001b[0m | \u001b[36mmagic_pdf.tools.common\u001b[0m:\u001b[36m_do_parse\u001b[0m:\u001b[36m243\u001b[0m - \u001b[1mlocal output dir is d:\\DataAnalysis\\arxiv\\output\\2405.13002v1\\auto\u001b[0m\n",
      "Processing pages: 100%|██████████| 4/4 [00:00<00:00,  6.12it/s]\n",
      "OCR-rec Predict: 100%|██████████| 1/1 [00:00<00:00, 32.75it/s]\n",
      "\u001b[32m2025-05-23 21:30:18.705\u001b[0m | \u001b[1mINFO    \u001b[0m | \u001b[36mmagic_pdf.tools.common\u001b[0m:\u001b[36m_do_parse\u001b[0m:\u001b[36m243\u001b[0m - \u001b[1mlocal output dir is d:\\DataAnalysis\\arxiv\\output\\2405.13008v1\\auto\u001b[0m\n",
      "Processing pages: 100%|██████████| 8/8 [00:01<00:00,  5.48it/s]\n",
      "\u001b[32m2025-05-23 21:30:21.150\u001b[0m | \u001b[1mINFO    \u001b[0m | \u001b[36mmagic_pdf.tools.common\u001b[0m:\u001b[36m_do_parse\u001b[0m:\u001b[36m243\u001b[0m - \u001b[1mlocal output dir is d:\\DataAnalysis\\arxiv\\output\\2405.13057v1\\auto\u001b[0m\n",
      "Processing pages: 100%|██████████| 8/8 [00:01<00:00,  4.66it/s]\n",
      "\u001b[32m2025-05-23 21:30:23.802\u001b[0m | \u001b[1mINFO    \u001b[0m | \u001b[36mmagic_pdf.tools.common\u001b[0m:\u001b[36m_do_parse\u001b[0m:\u001b[36m243\u001b[0m - \u001b[1mlocal output dir is d:\\DataAnalysis\\arxiv\\output\\2405.13084v2\\auto\u001b[0m\n",
      "Processing pages: 100%|██████████| 9/9 [00:01<00:00,  5.38it/s]\n",
      "OCR-rec Predict: 100%|██████████| 3/3 [00:00<00:00, 18.13it/s]\n",
      "\u001b[32m2025-05-23 21:30:26.614\u001b[0m | \u001b[1mINFO    \u001b[0m | \u001b[36mmagic_pdf.tools.common\u001b[0m:\u001b[36m_do_parse\u001b[0m:\u001b[36m243\u001b[0m - \u001b[1mlocal output dir is d:\\DataAnalysis\\arxiv\\output\\2405.13179v4\\auto\u001b[0m\n",
      "Processing pages: 100%|██████████| 19/19 [00:04<00:00,  4.50it/s]\n",
      "\u001b[32m2025-05-23 21:30:33.125\u001b[0m | \u001b[1mINFO    \u001b[0m | \u001b[36mmagic_pdf.tools.common\u001b[0m:\u001b[36m_do_parse\u001b[0m:\u001b[36m243\u001b[0m - \u001b[1mlocal output dir is d:\\DataAnalysis\\arxiv\\output\\2405.13401v4\\auto\u001b[0m\n",
      "Processing pages: 100%|██████████| 30/30 [00:03<00:00,  8.74it/s]\n",
      "OCR-rec Predict: 100%|██████████| 2/2 [00:00<00:00, 78.34it/s]\n",
      "\u001b[32m2025-05-23 21:30:37.937\u001b[0m | \u001b[1mINFO    \u001b[0m | \u001b[36mmagic_pdf.tools.common\u001b[0m:\u001b[36m_do_parse\u001b[0m:\u001b[36m243\u001b[0m - \u001b[1mlocal output dir is d:\\DataAnalysis\\arxiv\\output\\2405.13792v2\\auto\u001b[0m\n",
      "Processing pages: 100%|██████████| 13/13 [00:02<00:00,  6.39it/s]\n",
      "\u001b[32m2025-05-23 21:30:40.999\u001b[0m | \u001b[1mINFO    \u001b[0m | \u001b[36mmagic_pdf.tools.common\u001b[0m:\u001b[36m_do_parse\u001b[0m:\u001b[36m243\u001b[0m - \u001b[1mlocal output dir is d:\\DataAnalysis\\arxiv\\output\\2405.14554v2\\auto\u001b[0m\n",
      "Processing pages: 100%|██████████| 18/18 [00:02<00:00,  6.68it/s]\n",
      "\u001b[32m2025-05-23 21:30:44.895\u001b[0m | \u001b[1mINFO    \u001b[0m | \u001b[36mmagic_pdf.tools.common\u001b[0m:\u001b[36m_do_parse\u001b[0m:\u001b[36m243\u001b[0m - \u001b[1mlocal output dir is d:\\DataAnalysis\\arxiv\\output\\2405.14702v2\\auto\u001b[0m\n",
      "Processing pages: 100%|██████████| 31/31 [00:04<00:00,  7.36it/s]\n",
      "OCR-rec Predict: 100%|██████████| 1/1 [00:00<00:00, 36.32it/s]\n",
      "\u001b[32m2025-05-23 21:30:50.752\u001b[0m | \u001b[1mINFO    \u001b[0m | \u001b[36mmagic_pdf.tools.common\u001b[0m:\u001b[36m_do_parse\u001b[0m:\u001b[36m243\u001b[0m - \u001b[1mlocal output dir is d:\\DataAnalysis\\arxiv\\output\\2405.14831v3\\auto\u001b[0m\n",
      "Processing pages: 100%|██████████| 15/15 [00:02<00:00,  7.46it/s]\n",
      "\u001b[32m2025-05-23 21:30:53.805\u001b[0m | \u001b[1mINFO    \u001b[0m | \u001b[36mmagic_pdf.tools.common\u001b[0m:\u001b[36m_do_parse\u001b[0m:\u001b[36m243\u001b[0m - \u001b[1mlocal output dir is d:\\DataAnalysis\\arxiv\\output\\2405.15007v1\\auto\u001b[0m\n",
      "Processing pages: 100%|██████████| 13/13 [00:02<00:00,  4.34it/s]\n",
      "\u001b[32m2025-05-23 21:30:58.400\u001b[0m | \u001b[1mINFO    \u001b[0m | \u001b[36mmagic_pdf.tools.common\u001b[0m:\u001b[36m_do_parse\u001b[0m:\u001b[36m243\u001b[0m - \u001b[1mlocal output dir is d:\\DataAnalysis\\arxiv\\output\\2405.15028v1\\auto\u001b[0m\n",
      "Processing pages:  56%|█████▌    | 23/41 [00:03<00:02,  8.72it/s]\u001b[32m2025-05-23 21:31:02.129\u001b[0m | \u001b[33m\u001b[1mWARNING \u001b[0m | \u001b[36mmagic_pdf.pdf_parse_union_core_v2\u001b[0m:\u001b[36mparse_page_core\u001b[0m:\u001b[36m835\u001b[0m - \u001b[33m\u001b[1mskip this page, not found useful bbox, page_id: 24\u001b[0m\n",
      "Processing pages: 100%|██████████| 41/41 [00:05<00:00,  7.54it/s]\n",
      "OCR-rec Predict: 100%|██████████| 9/9 [00:00<00:00, 31.68it/s]\n",
      "\u001b[32m2025-05-23 21:31:06.831\u001b[0m | \u001b[1mINFO    \u001b[0m | \u001b[36mmagic_pdf.tools.common\u001b[0m:\u001b[36m_do_parse\u001b[0m:\u001b[36m243\u001b[0m - \u001b[1mlocal output dir is d:\\DataAnalysis\\arxiv\\output\\2405.15436v1\\auto\u001b[0m\n",
      "Processing pages: 100%|██████████| 29/29 [00:04<00:00,  6.77it/s]\n",
      "OCR-rec Predict: 100%|██████████| 3/3 [00:00<00:00, 61.09it/s]\n",
      "\u001b[32m2025-05-23 21:31:13.309\u001b[0m | \u001b[1mINFO    \u001b[0m | \u001b[36mmagic_pdf.tools.common\u001b[0m:\u001b[36m_do_parse\u001b[0m:\u001b[36m243\u001b[0m - \u001b[1mlocal output dir is d:\\DataAnalysis\\arxiv\\output\\2405.15556v1\\auto\u001b[0m\n",
      "Processing pages: 100%|██████████| 30/30 [00:13<00:00,  2.28it/s]\n",
      "OCR-rec Predict: 100%|██████████| 1/1 [00:00<00:00, 37.79it/s]\n",
      "\u001b[32m2025-05-23 21:31:31.382\u001b[0m | \u001b[1mINFO    \u001b[0m | \u001b[36mmagic_pdf.tools.common\u001b[0m:\u001b[36m_do_parse\u001b[0m:\u001b[36m243\u001b[0m - \u001b[1mlocal output dir is d:\\DataAnalysis\\arxiv\\output\\2405.15739v3\\auto\u001b[0m\n",
      "Processing pages: 100%|██████████| 10/10 [00:01<00:00,  5.36it/s]\n",
      "OCR-rec Predict: 100%|██████████| 1/1 [00:00<00:00, 56.54it/s]\n",
      "\u001b[32m2025-05-23 21:31:34.747\u001b[0m | \u001b[1mINFO    \u001b[0m | \u001b[36mmagic_pdf.tools.common\u001b[0m:\u001b[36m_do_parse\u001b[0m:\u001b[36m243\u001b[0m - \u001b[1mlocal output dir is d:\\DataAnalysis\\arxiv\\output\\2405.16072v4\\auto\u001b[0m\n",
      "Processing pages: 100%|██████████| 16/16 [00:01<00:00, 12.14it/s]\n",
      "\u001b[32m2025-05-23 21:31:36.922\u001b[0m | \u001b[1mINFO    \u001b[0m | \u001b[36mmagic_pdf.tools.common\u001b[0m:\u001b[36m_do_parse\u001b[0m:\u001b[36m243\u001b[0m - \u001b[1mlocal output dir is d:\\DataAnalysis\\arxiv\\output\\2405.16178v1\\auto\u001b[0m\n",
      "Processing pages: 100%|██████████| 16/16 [00:03<00:00,  4.40it/s]\n",
      "\u001b[32m2025-05-23 21:31:42.373\u001b[0m | \u001b[1mINFO    \u001b[0m | \u001b[36mmagic_pdf.tools.common\u001b[0m:\u001b[36m_do_parse\u001b[0m:\u001b[36m243\u001b[0m - \u001b[1mlocal output dir is d:\\DataAnalysis\\arxiv\\output\\2405.16444v3\\auto\u001b[0m\n",
      "Processing pages: 100%|██████████| 13/13 [00:02<00:00,  4.65it/s]\n",
      "\u001b[32m2025-05-23 21:31:46.841\u001b[0m | \u001b[1mINFO    \u001b[0m | \u001b[36mmagic_pdf.tools.common\u001b[0m:\u001b[36m_do_parse\u001b[0m:\u001b[36m243\u001b[0m - \u001b[1mlocal output dir is d:\\DataAnalysis\\arxiv\\output\\2405.16506v2\\auto\u001b[0m\n"
     ]
    },
    {
     "name": "stdout",
     "output_type": "stream",
     "text": [
      "Chunk 4: 100 files\n"
     ]
    },
    {
     "name": "stderr",
     "output_type": "stream",
     "text": [
      "\u001b[32m2025-05-23 21:31:48.510\u001b[0m | \u001b[1mINFO    \u001b[0m | \u001b[36mmagic_pdf.libs.pdf_check\u001b[0m:\u001b[36mdetect_invalid_chars\u001b[0m:\u001b[36m67\u001b[0m - \u001b[1mcid_count: 6, text_len: 56642, cid_chars_radio: 0.00010600332143740504\u001b[0m\n",
      "\u001b[32m2025-05-23 21:31:49.616\u001b[0m | \u001b[1mINFO    \u001b[0m | \u001b[36mmagic_pdf.libs.pdf_check\u001b[0m:\u001b[36mdetect_invalid_chars\u001b[0m:\u001b[36m67\u001b[0m - \u001b[1mcid_count: 22, text_len: 39861, cid_chars_radio: 0.0005539747689673407\u001b[0m\n",
      "\u001b[32m2025-05-23 21:31:50.581\u001b[0m | \u001b[1mINFO    \u001b[0m | \u001b[36mmagic_pdf.libs.pdf_check\u001b[0m:\u001b[36mdetect_invalid_chars\u001b[0m:\u001b[36m67\u001b[0m - \u001b[1mcid_count: 2, text_len: 36685, cid_chars_radio: 5.453900902620599e-05\u001b[0m\n",
      "\u001b[32m2025-05-23 21:31:51.237\u001b[0m | \u001b[1mINFO    \u001b[0m | \u001b[36mmagic_pdf.libs.pdf_check\u001b[0m:\u001b[36mdetect_invalid_chars\u001b[0m:\u001b[36m67\u001b[0m - \u001b[1mcid_count: 0, text_len: 38672, cid_chars_radio: 0.0\u001b[0m\n",
      "\u001b[32m2025-05-23 21:31:52.012\u001b[0m | \u001b[1mINFO    \u001b[0m | \u001b[36mmagic_pdf.libs.pdf_check\u001b[0m:\u001b[36mdetect_invalid_chars\u001b[0m:\u001b[36m67\u001b[0m - \u001b[1mcid_count: 8, text_len: 35302, cid_chars_radio: 0.00022692460430022126\u001b[0m\n",
      "\u001b[32m2025-05-23 21:31:53.036\u001b[0m | \u001b[1mINFO    \u001b[0m | \u001b[36mmagic_pdf.libs.pdf_check\u001b[0m:\u001b[36mdetect_invalid_chars\u001b[0m:\u001b[36m67\u001b[0m - \u001b[1mcid_count: 0, text_len: 31789, cid_chars_radio: 0.0\u001b[0m\n",
      "\u001b[32m2025-05-23 21:31:54.016\u001b[0m | \u001b[1mINFO    \u001b[0m | \u001b[36mmagic_pdf.libs.pdf_check\u001b[0m:\u001b[36mdetect_invalid_chars\u001b[0m:\u001b[36m67\u001b[0m - \u001b[1mcid_count: 0, text_len: 29008, cid_chars_radio: 0.0\u001b[0m\n",
      "\u001b[32m2025-05-23 21:31:54.982\u001b[0m | \u001b[1mINFO    \u001b[0m | \u001b[36mmagic_pdf.libs.pdf_check\u001b[0m:\u001b[36mdetect_invalid_chars\u001b[0m:\u001b[36m67\u001b[0m - \u001b[1mcid_count: 1, text_len: 39398, cid_chars_radio: 2.538650960879389e-05\u001b[0m\n",
      "\u001b[32m2025-05-23 21:31:55.921\u001b[0m | \u001b[1mINFO    \u001b[0m | \u001b[36mmagic_pdf.libs.pdf_check\u001b[0m:\u001b[36mdetect_invalid_chars\u001b[0m:\u001b[36m67\u001b[0m - \u001b[1mcid_count: 0, text_len: 44419, cid_chars_radio: 0.0\u001b[0m\n",
      "\u001b[32m2025-05-23 21:31:56.729\u001b[0m | \u001b[1mINFO    \u001b[0m | \u001b[36mmagic_pdf.libs.pdf_check\u001b[0m:\u001b[36mdetect_invalid_chars\u001b[0m:\u001b[36m67\u001b[0m - \u001b[1mcid_count: 6, text_len: 33110, cid_chars_radio: 0.00018144429660094352\u001b[0m\n",
      "\u001b[32m2025-05-23 21:31:57.618\u001b[0m | \u001b[1mINFO    \u001b[0m | \u001b[36mmagic_pdf.libs.pdf_check\u001b[0m:\u001b[36mdetect_invalid_chars\u001b[0m:\u001b[36m67\u001b[0m - \u001b[1mcid_count: 13, text_len: 29186, cid_chars_radio: 0.00044675074744836594\u001b[0m\n",
      "\u001b[32m2025-05-23 21:31:58.398\u001b[0m | \u001b[1mINFO    \u001b[0m | \u001b[36mmagic_pdf.libs.pdf_check\u001b[0m:\u001b[36mdetect_invalid_chars\u001b[0m:\u001b[36m67\u001b[0m - \u001b[1mcid_count: 0, text_len: 32193, cid_chars_radio: 0.0\u001b[0m\n",
      "\u001b[32m2025-05-23 21:31:59.383\u001b[0m | \u001b[1mINFO    \u001b[0m | \u001b[36mmagic_pdf.libs.pdf_check\u001b[0m:\u001b[36mdetect_invalid_chars\u001b[0m:\u001b[36m67\u001b[0m - \u001b[1mcid_count: 0, text_len: 40531, cid_chars_radio: 0.0\u001b[0m\n",
      "\u001b[32m2025-05-23 21:32:00.177\u001b[0m | \u001b[1mINFO    \u001b[0m | \u001b[36mmagic_pdf.libs.pdf_check\u001b[0m:\u001b[36mdetect_invalid_chars\u001b[0m:\u001b[36m67\u001b[0m - \u001b[1mcid_count: 0, text_len: 32218, cid_chars_radio: 0.0\u001b[0m\n",
      "\u001b[32m2025-05-23 21:32:00.987\u001b[0m | \u001b[1mINFO    \u001b[0m | \u001b[36mmagic_pdf.libs.pdf_check\u001b[0m:\u001b[36mdetect_invalid_chars\u001b[0m:\u001b[36m67\u001b[0m - \u001b[1mcid_count: 0, text_len: 32480, cid_chars_radio: 0.0\u001b[0m\n",
      "\u001b[32m2025-05-23 21:32:02.449\u001b[0m | \u001b[1mINFO    \u001b[0m | \u001b[36mmagic_pdf.libs.pdf_check\u001b[0m:\u001b[36mdetect_invalid_chars\u001b[0m:\u001b[36m67\u001b[0m - \u001b[1mcid_count: 0, text_len: 38942, cid_chars_radio: 0.0\u001b[0m\n",
      "\u001b[32m2025-05-23 21:32:03.864\u001b[0m | \u001b[1mINFO    \u001b[0m | \u001b[36mmagic_pdf.libs.pdf_check\u001b[0m:\u001b[36mdetect_invalid_chars\u001b[0m:\u001b[36m67\u001b[0m - \u001b[1mcid_count: 7, text_len: 37098, cid_chars_radio: 0.0001889185760937036\u001b[0m\n",
      "\u001b[32m2025-05-23 21:32:04.421\u001b[0m | \u001b[1mINFO    \u001b[0m | \u001b[36mmagic_pdf.libs.pdf_check\u001b[0m:\u001b[36mdetect_invalid_chars\u001b[0m:\u001b[36m67\u001b[0m - \u001b[1mcid_count: 0, text_len: 21472, cid_chars_radio: 0.0\u001b[0m\n",
      "\u001b[32m2025-05-23 21:32:04.908\u001b[0m | \u001b[1mINFO    \u001b[0m | \u001b[36mmagic_pdf.libs.pdf_check\u001b[0m:\u001b[36mdetect_invalid_chars\u001b[0m:\u001b[36m67\u001b[0m - \u001b[1mcid_count: 0, text_len: 23739, cid_chars_radio: 0.0\u001b[0m\n",
      "\u001b[32m2025-05-23 21:32:08.823\u001b[0m | \u001b[1mINFO    \u001b[0m | \u001b[36mmagic_pdf.libs.pdf_check\u001b[0m:\u001b[36mdetect_invalid_chars\u001b[0m:\u001b[36m67\u001b[0m - \u001b[1mcid_count: 2, text_len: 53701, cid_chars_radio: 3.725366017211191e-05\u001b[0m\n",
      "\u001b[32m2025-05-23 21:32:09.795\u001b[0m | \u001b[1mINFO    \u001b[0m | \u001b[36mmagic_pdf.libs.pdf_check\u001b[0m:\u001b[36mdetect_invalid_chars\u001b[0m:\u001b[36m67\u001b[0m - \u001b[1mcid_count: 0, text_len: 31326, cid_chars_radio: 0.0\u001b[0m\n",
      "\u001b[32m2025-05-23 21:32:10.405\u001b[0m | \u001b[1mINFO    \u001b[0m | \u001b[36mmagic_pdf.libs.pdf_check\u001b[0m:\u001b[36mdetect_invalid_chars\u001b[0m:\u001b[36m67\u001b[0m - \u001b[1mcid_count: 0, text_len: 26391, cid_chars_radio: 0.0\u001b[0m\n",
      "\u001b[32m2025-05-23 21:32:11.671\u001b[0m | \u001b[1mINFO    \u001b[0m | \u001b[36mmagic_pdf.libs.pdf_check\u001b[0m:\u001b[36mdetect_invalid_chars\u001b[0m:\u001b[36m67\u001b[0m - \u001b[1mcid_count: 1, text_len: 29239, cid_chars_radio: 3.4209085933223865e-05\u001b[0m\n",
      "\u001b[32m2025-05-23 21:32:13.034\u001b[0m | \u001b[1mINFO    \u001b[0m | \u001b[36mmagic_pdf.libs.pdf_check\u001b[0m:\u001b[36mdetect_invalid_chars\u001b[0m:\u001b[36m67\u001b[0m - \u001b[1mcid_count: 0, text_len: 39857, cid_chars_radio: 0.0\u001b[0m\n",
      "\u001b[32m2025-05-23 21:32:13.879\u001b[0m | \u001b[1mINFO    \u001b[0m | \u001b[36mmagic_pdf.libs.pdf_check\u001b[0m:\u001b[36mdetect_invalid_chars\u001b[0m:\u001b[36m67\u001b[0m - \u001b[1mcid_count: 0, text_len: 41480, cid_chars_radio: 0.0\u001b[0m\n",
      "\u001b[32m2025-05-23 21:32:14.796\u001b[0m | \u001b[1mINFO    \u001b[0m | \u001b[36mmagic_pdf.libs.pdf_check\u001b[0m:\u001b[36mdetect_invalid_chars\u001b[0m:\u001b[36m67\u001b[0m - \u001b[1mcid_count: 0, text_len: 10736, cid_chars_radio: 0.0\u001b[0m\n",
      "\u001b[32m2025-05-23 21:32:15.986\u001b[0m | \u001b[1mINFO    \u001b[0m | \u001b[36mmagic_pdf.libs.pdf_check\u001b[0m:\u001b[36mdetect_invalid_chars\u001b[0m:\u001b[36m67\u001b[0m - \u001b[1mcid_count: 2, text_len: 33531, cid_chars_radio: 5.9671211623952024e-05\u001b[0m\n",
      "\u001b[32m2025-05-23 21:32:16.709\u001b[0m | \u001b[1mINFO    \u001b[0m | \u001b[36mmagic_pdf.libs.pdf_check\u001b[0m:\u001b[36mdetect_invalid_chars\u001b[0m:\u001b[36m67\u001b[0m - \u001b[1mcid_count: 0, text_len: 29401, cid_chars_radio: 0.0\u001b[0m\n",
      "\u001b[32m2025-05-23 21:32:17.604\u001b[0m | \u001b[1mINFO    \u001b[0m | \u001b[36mmagic_pdf.libs.pdf_check\u001b[0m:\u001b[36mdetect_invalid_chars\u001b[0m:\u001b[36m67\u001b[0m - \u001b[1mcid_count: 17, text_len: 52911, cid_chars_radio: 0.0003220184876496439\u001b[0m\n",
      "\u001b[32m2025-05-23 21:32:18.951\u001b[0m | \u001b[1mINFO    \u001b[0m | \u001b[36mmagic_pdf.libs.pdf_check\u001b[0m:\u001b[36mdetect_invalid_chars\u001b[0m:\u001b[36m67\u001b[0m - \u001b[1mcid_count: 0, text_len: 24473, cid_chars_radio: 0.0\u001b[0m\n",
      "\u001b[32m2025-05-23 21:32:20.020\u001b[0m | \u001b[1mINFO    \u001b[0m | \u001b[36mmagic_pdf.libs.pdf_check\u001b[0m:\u001b[36mdetect_invalid_chars\u001b[0m:\u001b[36m67\u001b[0m - \u001b[1mcid_count: 0, text_len: 37533, cid_chars_radio: 0.0\u001b[0m\n",
      "\u001b[32m2025-05-23 21:32:21.561\u001b[0m | \u001b[1mINFO    \u001b[0m | \u001b[36mmagic_pdf.libs.pdf_check\u001b[0m:\u001b[36mdetect_invalid_chars\u001b[0m:\u001b[36m67\u001b[0m - \u001b[1mcid_count: 0, text_len: 39770, cid_chars_radio: 0.0\u001b[0m\n",
      "\u001b[32m2025-05-23 21:32:22.492\u001b[0m | \u001b[1mINFO    \u001b[0m | \u001b[36mmagic_pdf.libs.pdf_check\u001b[0m:\u001b[36mdetect_invalid_chars\u001b[0m:\u001b[36m67\u001b[0m - \u001b[1mcid_count: 0, text_len: 32440, cid_chars_radio: 0.0\u001b[0m\n",
      "\u001b[32m2025-05-23 21:32:23.426\u001b[0m | \u001b[1mINFO    \u001b[0m | \u001b[36mmagic_pdf.libs.pdf_check\u001b[0m:\u001b[36mdetect_invalid_chars\u001b[0m:\u001b[36m67\u001b[0m - \u001b[1mcid_count: 3, text_len: 27793, cid_chars_radio: 0.00010802246867348409\u001b[0m\n",
      "\u001b[32m2025-05-23 21:32:24.522\u001b[0m | \u001b[1mINFO    \u001b[0m | \u001b[36mmagic_pdf.libs.pdf_check\u001b[0m:\u001b[36mdetect_invalid_chars\u001b[0m:\u001b[36m67\u001b[0m - \u001b[1mcid_count: 6, text_len: 52943, cid_chars_radio: 0.00011341940606037693\u001b[0m\n",
      "\u001b[32m2025-05-23 21:32:25.069\u001b[0m | \u001b[1mINFO    \u001b[0m | \u001b[36mmagic_pdf.libs.pdf_check\u001b[0m:\u001b[36mdetect_invalid_chars\u001b[0m:\u001b[36m67\u001b[0m - \u001b[1mcid_count: 0, text_len: 30355, cid_chars_radio: 0.0\u001b[0m\n",
      "\u001b[32m2025-05-23 21:32:26.157\u001b[0m | \u001b[1mINFO    \u001b[0m | \u001b[36mmagic_pdf.libs.pdf_check\u001b[0m:\u001b[36mdetect_invalid_chars\u001b[0m:\u001b[36m67\u001b[0m - \u001b[1mcid_count: 0, text_len: 34313, cid_chars_radio: 0.0\u001b[0m\n",
      "\u001b[32m2025-05-23 21:32:27.059\u001b[0m | \u001b[1mINFO    \u001b[0m | \u001b[36mmagic_pdf.libs.pdf_check\u001b[0m:\u001b[36mdetect_invalid_chars\u001b[0m:\u001b[36m67\u001b[0m - \u001b[1mcid_count: 7, text_len: 39560, cid_chars_radio: 0.00017716585254739186\u001b[0m\n",
      "\u001b[32m2025-05-23 21:32:28.019\u001b[0m | \u001b[1mINFO    \u001b[0m | \u001b[36mmagic_pdf.libs.pdf_check\u001b[0m:\u001b[36mdetect_invalid_chars\u001b[0m:\u001b[36m67\u001b[0m - \u001b[1mcid_count: 2, text_len: 41923, cid_chars_radio: 4.772244625259491e-05\u001b[0m\n",
      "\u001b[32m2025-05-23 21:32:28.677\u001b[0m | \u001b[1mINFO    \u001b[0m | \u001b[36mmagic_pdf.libs.pdf_check\u001b[0m:\u001b[36mdetect_invalid_chars\u001b[0m:\u001b[36m67\u001b[0m - \u001b[1mcid_count: 0, text_len: 18596, cid_chars_radio: 0.0\u001b[0m\n",
      "\u001b[32m2025-05-23 21:32:29.551\u001b[0m | \u001b[1mINFO    \u001b[0m | \u001b[36mmagic_pdf.libs.pdf_check\u001b[0m:\u001b[36mdetect_invalid_chars\u001b[0m:\u001b[36m67\u001b[0m - \u001b[1mcid_count: 0, text_len: 32633, cid_chars_radio: 0.0\u001b[0m\n",
      "\u001b[32m2025-05-23 21:32:30.217\u001b[0m | \u001b[1mINFO    \u001b[0m | \u001b[36mmagic_pdf.libs.pdf_check\u001b[0m:\u001b[36mdetect_invalid_chars\u001b[0m:\u001b[36m67\u001b[0m - \u001b[1mcid_count: 0, text_len: 34356, cid_chars_radio: 0.0\u001b[0m\n",
      "\u001b[32m2025-05-23 21:32:31.151\u001b[0m | \u001b[1mINFO    \u001b[0m | \u001b[36mmagic_pdf.libs.pdf_check\u001b[0m:\u001b[36mdetect_invalid_chars\u001b[0m:\u001b[36m67\u001b[0m - \u001b[1mcid_count: 18, text_len: 38377, cid_chars_radio: 0.00047057593265535544\u001b[0m\n",
      "\u001b[32m2025-05-23 21:32:31.720\u001b[0m | \u001b[1mINFO    \u001b[0m | \u001b[36mmagic_pdf.libs.pdf_check\u001b[0m:\u001b[36mdetect_invalid_chars\u001b[0m:\u001b[36m67\u001b[0m - \u001b[1mcid_count: 1, text_len: 23303, cid_chars_radio: 4.292582417582418e-05\u001b[0m\n",
      "\u001b[32m2025-05-23 21:34:03.458\u001b[0m | \u001b[1mINFO    \u001b[0m | \u001b[36mmagic_pdf.libs.pdf_check\u001b[0m:\u001b[36mdetect_invalid_chars\u001b[0m:\u001b[36m67\u001b[0m - \u001b[1mcid_count: 8, text_len: 43807, cid_chars_radio: 0.00018285296336083748\u001b[0m\n",
      "\u001b[32m2025-05-23 21:34:06.789\u001b[0m | \u001b[1mINFO    \u001b[0m | \u001b[36mmagic_pdf.libs.pdf_check\u001b[0m:\u001b[36mdetect_invalid_chars\u001b[0m:\u001b[36m67\u001b[0m - \u001b[1mcid_count: 0, text_len: 35406, cid_chars_radio: 0.0\u001b[0m\n",
      "\u001b[32m2025-05-23 21:34:07.660\u001b[0m | \u001b[1mINFO    \u001b[0m | \u001b[36mmagic_pdf.libs.pdf_check\u001b[0m:\u001b[36mdetect_invalid_chars\u001b[0m:\u001b[36m67\u001b[0m - \u001b[1mcid_count: 0, text_len: 25966, cid_chars_radio: 0.0\u001b[0m\n",
      "\u001b[32m2025-05-23 21:34:08.441\u001b[0m | \u001b[1mINFO    \u001b[0m | \u001b[36mmagic_pdf.libs.pdf_check\u001b[0m:\u001b[36mdetect_invalid_chars\u001b[0m:\u001b[36m67\u001b[0m - \u001b[1mcid_count: 1, text_len: 37390, cid_chars_radio: 2.675012706310355e-05\u001b[0m\n",
      "\u001b[32m2025-05-23 21:34:08.994\u001b[0m | \u001b[1mINFO    \u001b[0m | \u001b[36mmagic_pdf.libs.pdf_check\u001b[0m:\u001b[36mdetect_invalid_chars\u001b[0m:\u001b[36m67\u001b[0m - \u001b[1mcid_count: 0, text_len: 17440, cid_chars_radio: 0.0\u001b[0m\n",
      "\u001b[32m2025-05-23 21:34:09.888\u001b[0m | \u001b[1mINFO    \u001b[0m | \u001b[36mmagic_pdf.libs.pdf_check\u001b[0m:\u001b[36mdetect_invalid_chars\u001b[0m:\u001b[36m67\u001b[0m - \u001b[1mcid_count: 0, text_len: 26499, cid_chars_radio: 0.0\u001b[0m\n",
      "\u001b[32m2025-05-23 21:34:10.811\u001b[0m | \u001b[1mINFO    \u001b[0m | \u001b[36mmagic_pdf.libs.pdf_check\u001b[0m:\u001b[36mdetect_invalid_chars\u001b[0m:\u001b[36m67\u001b[0m - \u001b[1mcid_count: 0, text_len: 43107, cid_chars_radio: 0.0\u001b[0m\n",
      "\u001b[32m2025-05-23 21:34:12.012\u001b[0m | \u001b[1mINFO    \u001b[0m | \u001b[36mmagic_pdf.libs.pdf_check\u001b[0m:\u001b[36mdetect_invalid_chars\u001b[0m:\u001b[36m67\u001b[0m - \u001b[1mcid_count: 6, text_len: 28549, cid_chars_radio: 0.00021047462026870594\u001b[0m\n",
      "\u001b[32m2025-05-23 21:34:16.825\u001b[0m | \u001b[1mINFO    \u001b[0m | \u001b[36mmagic_pdf.libs.pdf_check\u001b[0m:\u001b[36mdetect_invalid_chars\u001b[0m:\u001b[36m67\u001b[0m - \u001b[1mcid_count: 4, text_len: 29471, cid_chars_radio: 0.00013585572122406004\u001b[0m\n",
      "\u001b[32m2025-05-23 21:34:20.005\u001b[0m | \u001b[1mINFO    \u001b[0m | \u001b[36mmagic_pdf.libs.pdf_check\u001b[0m:\u001b[36mdetect_invalid_chars\u001b[0m:\u001b[36m67\u001b[0m - \u001b[1mcid_count: 0, text_len: 31192, cid_chars_radio: 0.0\u001b[0m\n",
      "\u001b[32m2025-05-23 21:34:21.615\u001b[0m | \u001b[1mINFO    \u001b[0m | \u001b[36mmagic_pdf.libs.pdf_check\u001b[0m:\u001b[36mdetect_invalid_chars\u001b[0m:\u001b[36m67\u001b[0m - \u001b[1mcid_count: 3, text_len: 36312, cid_chars_radio: 8.266512358435976e-05\u001b[0m\n",
      "\u001b[32m2025-05-23 21:34:23.089\u001b[0m | \u001b[1mINFO    \u001b[0m | \u001b[36mmagic_pdf.libs.pdf_check\u001b[0m:\u001b[36mdetect_invalid_chars\u001b[0m:\u001b[36m67\u001b[0m - \u001b[1mcid_count: 0, text_len: 26193, cid_chars_radio: 0.0\u001b[0m\n",
      "\u001b[32m2025-05-23 21:34:24.064\u001b[0m | \u001b[1mINFO    \u001b[0m | \u001b[36mmagic_pdf.libs.pdf_check\u001b[0m:\u001b[36mdetect_invalid_chars\u001b[0m:\u001b[36m67\u001b[0m - \u001b[1mcid_count: 6, text_len: 36965, cid_chars_radio: 0.00016250914113918907\u001b[0m\n",
      "\u001b[32m2025-05-23 21:34:24.888\u001b[0m | \u001b[1mINFO    \u001b[0m | \u001b[36mmagic_pdf.libs.pdf_check\u001b[0m:\u001b[36mdetect_invalid_chars\u001b[0m:\u001b[36m67\u001b[0m - \u001b[1mcid_count: 2, text_len: 32070, cid_chars_radio: 6.238692370079231e-05\u001b[0m\n",
      "\u001b[32m2025-05-23 21:34:26.412\u001b[0m | \u001b[1mINFO    \u001b[0m | \u001b[36mmagic_pdf.libs.pdf_check\u001b[0m:\u001b[36mdetect_invalid_chars\u001b[0m:\u001b[36m67\u001b[0m - \u001b[1mcid_count: 1, text_len: 45732, cid_chars_radio: 2.1869874248223074e-05\u001b[0m\n",
      "\u001b[32m2025-05-23 21:34:27.630\u001b[0m | \u001b[1mINFO    \u001b[0m | \u001b[36mmagic_pdf.libs.pdf_check\u001b[0m:\u001b[36mdetect_invalid_chars\u001b[0m:\u001b[36m67\u001b[0m - \u001b[1mcid_count: 2, text_len: 41627, cid_chars_radio: 4.8061903732006825e-05\u001b[0m\n",
      "\u001b[32m2025-05-23 21:34:31.796\u001b[0m | \u001b[1mINFO    \u001b[0m | \u001b[36mmagic_pdf.libs.pdf_check\u001b[0m:\u001b[36mdetect_invalid_chars\u001b[0m:\u001b[36m67\u001b[0m - \u001b[1mcid_count: 0, text_len: 30739, cid_chars_radio: 0.0\u001b[0m\n",
      "\u001b[32m2025-05-23 21:34:33.466\u001b[0m | \u001b[1mINFO    \u001b[0m | \u001b[36mmagic_pdf.libs.pdf_check\u001b[0m:\u001b[36mdetect_invalid_chars\u001b[0m:\u001b[36m67\u001b[0m - \u001b[1mcid_count: 0, text_len: 43094, cid_chars_radio: 0.0\u001b[0m\n",
      "\u001b[32m2025-05-23 21:34:34.995\u001b[0m | \u001b[1mINFO    \u001b[0m | \u001b[36mmagic_pdf.libs.pdf_check\u001b[0m:\u001b[36mdetect_invalid_chars\u001b[0m:\u001b[36m67\u001b[0m - \u001b[1mcid_count: 0, text_len: 34468, cid_chars_radio: 0.0\u001b[0m\n",
      "\u001b[32m2025-05-23 21:34:36.133\u001b[0m | \u001b[1mINFO    \u001b[0m | \u001b[36mmagic_pdf.libs.pdf_check\u001b[0m:\u001b[36mdetect_invalid_chars\u001b[0m:\u001b[36m67\u001b[0m - \u001b[1mcid_count: 0, text_len: 40770, cid_chars_radio: 0.0\u001b[0m\n",
      "\u001b[32m2025-05-23 21:34:37.001\u001b[0m | \u001b[1mINFO    \u001b[0m | \u001b[36mmagic_pdf.libs.pdf_check\u001b[0m:\u001b[36mdetect_invalid_chars\u001b[0m:\u001b[36m67\u001b[0m - \u001b[1mcid_count: 0, text_len: 21094, cid_chars_radio: 0.0\u001b[0m\n",
      "\u001b[32m2025-05-23 21:34:37.768\u001b[0m | \u001b[1mINFO    \u001b[0m | \u001b[36mmagic_pdf.libs.pdf_check\u001b[0m:\u001b[36mdetect_invalid_chars\u001b[0m:\u001b[36m67\u001b[0m - \u001b[1mcid_count: 0, text_len: 40518, cid_chars_radio: 0.0\u001b[0m\n",
      "\u001b[32m2025-05-23 21:34:38.773\u001b[0m | \u001b[1mINFO    \u001b[0m | \u001b[36mmagic_pdf.libs.pdf_check\u001b[0m:\u001b[36mdetect_invalid_chars\u001b[0m:\u001b[36m67\u001b[0m - \u001b[1mcid_count: 4, text_len: 42836, cid_chars_radio: 9.344047841524949e-05\u001b[0m\n",
      "\u001b[32m2025-05-23 21:34:39.936\u001b[0m | \u001b[1mINFO    \u001b[0m | \u001b[36mmagic_pdf.libs.pdf_check\u001b[0m:\u001b[36mdetect_invalid_chars\u001b[0m:\u001b[36m67\u001b[0m - \u001b[1mcid_count: 8, text_len: 59899, cid_chars_radio: 0.000133665268750731\u001b[0m\n",
      "\u001b[32m2025-05-23 21:34:41.198\u001b[0m | \u001b[1mINFO    \u001b[0m | \u001b[36mmagic_pdf.libs.pdf_check\u001b[0m:\u001b[36mdetect_invalid_chars\u001b[0m:\u001b[36m67\u001b[0m - \u001b[1mcid_count: 1, text_len: 31610, cid_chars_radio: 3.164256557921716e-05\u001b[0m\n",
      "\u001b[32m2025-05-23 21:34:41.663\u001b[0m | \u001b[1mINFO    \u001b[0m | \u001b[36mmagic_pdf.libs.pdf_check\u001b[0m:\u001b[36mdetect_invalid_chars\u001b[0m:\u001b[36m67\u001b[0m - \u001b[1mcid_count: 48, text_len: 20480, cid_chars_radio: 0.0023837902264600714\u001b[0m\n",
      "\u001b[32m2025-05-23 21:34:42.232\u001b[0m | \u001b[1mINFO    \u001b[0m | \u001b[36mmagic_pdf.libs.pdf_check\u001b[0m:\u001b[36mdetect_invalid_chars\u001b[0m:\u001b[36m67\u001b[0m - \u001b[1mcid_count: 1, text_len: 35206, cid_chars_radio: 2.840989800846615e-05\u001b[0m\n",
      "\u001b[32m2025-05-23 21:34:46.259\u001b[0m | \u001b[1mINFO    \u001b[0m | \u001b[36mmagic_pdf.libs.pdf_check\u001b[0m:\u001b[36mdetect_invalid_chars\u001b[0m:\u001b[36m67\u001b[0m - \u001b[1mcid_count: 6, text_len: 41961, cid_chars_radio: 0.00014313318542904174\u001b[0m\n",
      "\u001b[32m2025-05-23 21:34:47.134\u001b[0m | \u001b[1mINFO    \u001b[0m | \u001b[36mmagic_pdf.libs.pdf_check\u001b[0m:\u001b[36mdetect_invalid_chars\u001b[0m:\u001b[36m67\u001b[0m - \u001b[1mcid_count: 0, text_len: 35032, cid_chars_radio: 0.0\u001b[0m\n",
      "\u001b[32m2025-05-23 21:34:47.952\u001b[0m | \u001b[1mINFO    \u001b[0m | \u001b[36mmagic_pdf.libs.pdf_check\u001b[0m:\u001b[36mdetect_invalid_chars\u001b[0m:\u001b[36m67\u001b[0m - \u001b[1mcid_count: 0, text_len: 35662, cid_chars_radio: 0.0\u001b[0m\n",
      "\u001b[32m2025-05-23 21:34:49.045\u001b[0m | \u001b[1mINFO    \u001b[0m | \u001b[36mmagic_pdf.libs.pdf_check\u001b[0m:\u001b[36mdetect_invalid_chars\u001b[0m:\u001b[36m67\u001b[0m - \u001b[1mcid_count: 0, text_len: 42437, cid_chars_radio: 0.0\u001b[0m\n",
      "\u001b[32m2025-05-23 21:34:50.407\u001b[0m | \u001b[1mINFO    \u001b[0m | \u001b[36mmagic_pdf.libs.pdf_check\u001b[0m:\u001b[36mdetect_invalid_chars\u001b[0m:\u001b[36m67\u001b[0m - \u001b[1mcid_count: 0, text_len: 41933, cid_chars_radio: 0.0\u001b[0m\n",
      "\u001b[32m2025-05-23 21:34:51.904\u001b[0m | \u001b[1mINFO    \u001b[0m | \u001b[36mmagic_pdf.libs.pdf_check\u001b[0m:\u001b[36mdetect_invalid_chars\u001b[0m:\u001b[36m67\u001b[0m - \u001b[1mcid_count: 0, text_len: 37219, cid_chars_radio: 0.0\u001b[0m\n",
      "\u001b[32m2025-05-23 21:34:53.027\u001b[0m | \u001b[1mINFO    \u001b[0m | \u001b[36mmagic_pdf.libs.pdf_check\u001b[0m:\u001b[36mdetect_invalid_chars\u001b[0m:\u001b[36m67\u001b[0m - \u001b[1mcid_count: 0, text_len: 22327, cid_chars_radio: 0.0\u001b[0m\n",
      "\u001b[32m2025-05-23 21:34:54.179\u001b[0m | \u001b[1mINFO    \u001b[0m | \u001b[36mmagic_pdf.libs.pdf_check\u001b[0m:\u001b[36mdetect_invalid_chars\u001b[0m:\u001b[36m67\u001b[0m - \u001b[1mcid_count: 0, text_len: 27640, cid_chars_radio: 0.0\u001b[0m\n",
      "\u001b[32m2025-05-23 21:34:54.946\u001b[0m | \u001b[1mINFO    \u001b[0m | \u001b[36mmagic_pdf.libs.pdf_check\u001b[0m:\u001b[36mdetect_invalid_chars\u001b[0m:\u001b[36m67\u001b[0m - \u001b[1mcid_count: 0, text_len: 49953, cid_chars_radio: 0.0\u001b[0m\n",
      "\u001b[32m2025-05-23 21:34:55.986\u001b[0m | \u001b[1mINFO    \u001b[0m | \u001b[36mmagic_pdf.libs.pdf_check\u001b[0m:\u001b[36mdetect_invalid_chars\u001b[0m:\u001b[36m67\u001b[0m - \u001b[1mcid_count: 0, text_len: 37106, cid_chars_radio: 0.0\u001b[0m\n",
      "\u001b[32m2025-05-23 21:34:56.899\u001b[0m | \u001b[1mINFO    \u001b[0m | \u001b[36mmagic_pdf.libs.pdf_check\u001b[0m:\u001b[36mdetect_invalid_chars\u001b[0m:\u001b[36m67\u001b[0m - \u001b[1mcid_count: 0, text_len: 42735, cid_chars_radio: 0.0\u001b[0m\n",
      "\u001b[32m2025-05-23 21:34:57.867\u001b[0m | \u001b[1mINFO    \u001b[0m | \u001b[36mmagic_pdf.libs.pdf_check\u001b[0m:\u001b[36mdetect_invalid_chars\u001b[0m:\u001b[36m67\u001b[0m - \u001b[1mcid_count: 2, text_len: 38074, cid_chars_radio: 5.254860746190226e-05\u001b[0m\n",
      "\u001b[32m2025-05-23 21:34:58.864\u001b[0m | \u001b[1mINFO    \u001b[0m | \u001b[36mmagic_pdf.libs.pdf_check\u001b[0m:\u001b[36mdetect_invalid_chars\u001b[0m:\u001b[36m67\u001b[0m - \u001b[1mcid_count: 1, text_len: 40299, cid_chars_radio: 2.481882259505609e-05\u001b[0m\n",
      "\u001b[32m2025-05-23 21:34:59.563\u001b[0m | \u001b[1mINFO    \u001b[0m | \u001b[36mmagic_pdf.libs.pdf_check\u001b[0m:\u001b[36mdetect_invalid_chars\u001b[0m:\u001b[36m67\u001b[0m - \u001b[1mcid_count: 0, text_len: 23140, cid_chars_radio: 0.0\u001b[0m\n",
      "\u001b[32m2025-05-23 21:35:00.179\u001b[0m | \u001b[1mINFO    \u001b[0m | \u001b[36mmagic_pdf.libs.pdf_check\u001b[0m:\u001b[36mdetect_invalid_chars\u001b[0m:\u001b[36m67\u001b[0m - \u001b[1mcid_count: 0, text_len: 34190, cid_chars_radio: 0.0\u001b[0m\n",
      "\u001b[32m2025-05-23 21:35:00.937\u001b[0m | \u001b[1mINFO    \u001b[0m | \u001b[36mmagic_pdf.libs.pdf_check\u001b[0m:\u001b[36mdetect_invalid_chars\u001b[0m:\u001b[36m67\u001b[0m - \u001b[1mcid_count: 0, text_len: 39083, cid_chars_radio: 0.0\u001b[0m\n",
      "\u001b[32m2025-05-23 21:35:01.687\u001b[0m | \u001b[1mINFO    \u001b[0m | \u001b[36mmagic_pdf.libs.pdf_check\u001b[0m:\u001b[36mdetect_invalid_chars\u001b[0m:\u001b[36m67\u001b[0m - \u001b[1mcid_count: 0, text_len: 33085, cid_chars_radio: 0.0\u001b[0m\n",
      "\u001b[32m2025-05-23 21:35:02.698\u001b[0m | \u001b[1mINFO    \u001b[0m | \u001b[36mmagic_pdf.libs.pdf_check\u001b[0m:\u001b[36mdetect_invalid_chars\u001b[0m:\u001b[36m67\u001b[0m - \u001b[1mcid_count: 0, text_len: 32329, cid_chars_radio: 0.0\u001b[0m\n",
      "\u001b[32m2025-05-23 21:35:04.005\u001b[0m | \u001b[1mINFO    \u001b[0m | \u001b[36mmagic_pdf.libs.pdf_check\u001b[0m:\u001b[36mdetect_invalid_chars\u001b[0m:\u001b[36m67\u001b[0m - \u001b[1mcid_count: 1, text_len: 36843, cid_chars_radio: 2.714735584754045e-05\u001b[0m\n",
      "\u001b[32m2025-05-23 21:35:04.791\u001b[0m | \u001b[1mINFO    \u001b[0m | \u001b[36mmagic_pdf.libs.pdf_check\u001b[0m:\u001b[36mdetect_invalid_chars\u001b[0m:\u001b[36m67\u001b[0m - \u001b[1mcid_count: 0, text_len: 42680, cid_chars_radio: 0.0\u001b[0m\n",
      "\u001b[32m2025-05-23 21:35:05.512\u001b[0m | \u001b[1mINFO    \u001b[0m | \u001b[36mmagic_pdf.libs.pdf_check\u001b[0m:\u001b[36mdetect_invalid_chars\u001b[0m:\u001b[36m67\u001b[0m - \u001b[1mcid_count: 0, text_len: 24304, cid_chars_radio: 0.0\u001b[0m\n",
      "\u001b[32m2025-05-23 21:35:06.287\u001b[0m | \u001b[1mINFO    \u001b[0m | \u001b[36mmagic_pdf.libs.pdf_check\u001b[0m:\u001b[36mdetect_invalid_chars\u001b[0m:\u001b[36m67\u001b[0m - \u001b[1mcid_count: 8, text_len: 39401, cid_chars_radio: 0.00020333985715375035\u001b[0m\n",
      "\u001b[32m2025-05-23 21:35:07.332\u001b[0m | \u001b[1mINFO    \u001b[0m | \u001b[36mmagic_pdf.libs.pdf_check\u001b[0m:\u001b[36mdetect_invalid_chars\u001b[0m:\u001b[36m67\u001b[0m - \u001b[1mcid_count: 0, text_len: 38431, cid_chars_radio: 0.0\u001b[0m\n",
      "\u001b[32m2025-05-23 21:35:08.825\u001b[0m | \u001b[1mINFO    \u001b[0m | \u001b[36mmagic_pdf.libs.pdf_check\u001b[0m:\u001b[36mdetect_invalid_chars\u001b[0m:\u001b[36m67\u001b[0m - \u001b[1mcid_count: 2, text_len: 66866, cid_chars_radio: 2.9916831209238317e-05\u001b[0m\n",
      "\u001b[32m2025-05-23 21:35:10.183\u001b[0m | \u001b[1mINFO    \u001b[0m | \u001b[36mmagic_pdf.libs.pdf_check\u001b[0m:\u001b[36mdetect_invalid_chars\u001b[0m:\u001b[36m67\u001b[0m - \u001b[1mcid_count: 0, text_len: 29846, cid_chars_radio: 0.0\u001b[0m\n",
      "\u001b[32m2025-05-23 21:35:11.746\u001b[0m | \u001b[1mINFO    \u001b[0m | \u001b[36mmagic_pdf.libs.pdf_check\u001b[0m:\u001b[36mdetect_invalid_chars\u001b[0m:\u001b[36m67\u001b[0m - \u001b[1mcid_count: 0, text_len: 22849, cid_chars_radio: 0.0\u001b[0m\n",
      "\u001b[32m2025-05-23 21:35:12.712\u001b[0m | \u001b[1mINFO    \u001b[0m | \u001b[36mmagic_pdf.libs.pdf_check\u001b[0m:\u001b[36mdetect_invalid_chars\u001b[0m:\u001b[36m67\u001b[0m - \u001b[1mcid_count: 0, text_len: 27329, cid_chars_radio: 0.0\u001b[0m\n",
      "\u001b[32m2025-05-23 21:35:13.731\u001b[0m | \u001b[1mINFO    \u001b[0m | \u001b[36mmagic_pdf.libs.pdf_check\u001b[0m:\u001b[36mdetect_invalid_chars\u001b[0m:\u001b[36m67\u001b[0m - \u001b[1mcid_count: 0, text_len: 33815, cid_chars_radio: 0.0\u001b[0m\n",
      "\u001b[32m2025-05-23 21:35:14.536\u001b[0m | \u001b[1mINFO    \u001b[0m | \u001b[36mmagic_pdf.libs.pdf_check\u001b[0m:\u001b[36mdetect_invalid_chars\u001b[0m:\u001b[36m67\u001b[0m - \u001b[1mcid_count: 0, text_len: 34077, cid_chars_radio: 0.0\u001b[0m\n",
      "\u001b[32m2025-05-23 21:35:14.819\u001b[0m | \u001b[1mINFO    \u001b[0m | \u001b[36mmagic_pdf.model.doc_analyze_by_custom_model\u001b[0m:\u001b[36mbatch_doc_analyze\u001b[0m:\u001b[36m220\u001b[0m - \u001b[1mBatch 1/9: 200 pages/1767 pages\u001b[0m\n",
      "\u001b[32m2025-05-23 21:35:14.819\u001b[0m | \u001b[1mINFO    \u001b[0m | \u001b[36mmagic_pdf.model.doc_analyze_by_custom_model\u001b[0m:\u001b[36mmay_batch_image_analyze\u001b[0m:\u001b[36m275\u001b[0m - \u001b[1mgpu_memory: 24 GB, batch_ratio: 16\u001b[0m\n",
      "Layout Predict: 100%|██████████| 200/200 [00:09<00:00, 20.02it/s]\n",
      "MFD Predict: 100%|██████████| 200/200 [00:08<00:00, 24.43it/s]\n",
      "MFR Predict: 100%|██████████| 1167/1167 [00:06<00:00, 167.91it/s]\n",
      "OCR-det Predict: 100%|██████████| 200/200 [00:39<00:00,  5.02it/s]\n",
      "Table Predict: 100%|██████████| 98/98 [00:23<00:00,  4.22it/s]\n",
      "\u001b[32m2025-05-23 21:36:43.483\u001b[0m | \u001b[1mINFO    \u001b[0m | \u001b[36mmagic_pdf.model.doc_analyze_by_custom_model\u001b[0m:\u001b[36mbatch_doc_analyze\u001b[0m:\u001b[36m220\u001b[0m - \u001b[1mBatch 2/9: 400 pages/1767 pages\u001b[0m\n",
      "\u001b[32m2025-05-23 21:36:43.484\u001b[0m | \u001b[1mINFO    \u001b[0m | \u001b[36mmagic_pdf.model.doc_analyze_by_custom_model\u001b[0m:\u001b[36mmay_batch_image_analyze\u001b[0m:\u001b[36m275\u001b[0m - \u001b[1mgpu_memory: 24 GB, batch_ratio: 16\u001b[0m\n",
      "Layout Predict: 100%|██████████| 200/200 [00:09<00:00, 20.16it/s]\n",
      "MFD Predict: 100%|██████████| 200/200 [00:08<00:00, 24.31it/s]\n",
      "MFR Predict: 100%|██████████| 846/846 [00:09<00:00, 90.90it/s] \n",
      "OCR-det Predict: 100%|██████████| 200/200 [00:32<00:00,  6.18it/s]\n",
      "Table Predict: 100%|██████████| 88/88 [00:23<00:00,  3.82it/s]\n",
      "\u001b[32m2025-05-23 21:38:06.830\u001b[0m | \u001b[1mINFO    \u001b[0m | \u001b[36mmagic_pdf.model.doc_analyze_by_custom_model\u001b[0m:\u001b[36mbatch_doc_analyze\u001b[0m:\u001b[36m220\u001b[0m - \u001b[1mBatch 3/9: 600 pages/1767 pages\u001b[0m\n",
      "\u001b[32m2025-05-23 21:38:06.832\u001b[0m | \u001b[1mINFO    \u001b[0m | \u001b[36mmagic_pdf.model.doc_analyze_by_custom_model\u001b[0m:\u001b[36mmay_batch_image_analyze\u001b[0m:\u001b[36m275\u001b[0m - \u001b[1mgpu_memory: 24 GB, batch_ratio: 16\u001b[0m\n",
      "Layout Predict: 100%|██████████| 200/200 [00:09<00:00, 20.16it/s]\n",
      "MFD Predict: 100%|██████████| 200/200 [00:07<00:00, 25.22it/s]\n",
      "MFR Predict: 100%|██████████| 1348/1348 [00:09<00:00, 149.73it/s]\n",
      "OCR-det Predict: 100%|██████████| 200/200 [00:25<00:00,  7.80it/s]\n",
      "Table Predict: 100%|██████████| 133/133 [01:40<00:00,  1.32it/s]\n",
      "\u001b[32m2025-05-23 21:40:40.897\u001b[0m | \u001b[1mINFO    \u001b[0m | \u001b[36mmagic_pdf.model.doc_analyze_by_custom_model\u001b[0m:\u001b[36mbatch_doc_analyze\u001b[0m:\u001b[36m220\u001b[0m - \u001b[1mBatch 4/9: 800 pages/1767 pages\u001b[0m\n",
      "\u001b[32m2025-05-23 21:40:40.898\u001b[0m | \u001b[1mINFO    \u001b[0m | \u001b[36mmagic_pdf.model.doc_analyze_by_custom_model\u001b[0m:\u001b[36mmay_batch_image_analyze\u001b[0m:\u001b[36m275\u001b[0m - \u001b[1mgpu_memory: 24 GB, batch_ratio: 16\u001b[0m\n",
      "Layout Predict: 100%|██████████| 200/200 [00:09<00:00, 20.41it/s]\n",
      "MFD Predict: 100%|██████████| 200/200 [00:08<00:00, 24.75it/s]\n",
      "MFR Predict: 100%|██████████| 2037/2037 [00:12<00:00, 166.75it/s]\n",
      "OCR-det Predict: 100%|██████████| 200/200 [00:39<00:00,  5.06it/s]\n",
      "Table Predict: 100%|██████████| 106/106 [00:25<00:00,  4.20it/s]\n",
      "\u001b[32m2025-05-23 21:42:16.220\u001b[0m | \u001b[1mINFO    \u001b[0m | \u001b[36mmagic_pdf.model.doc_analyze_by_custom_model\u001b[0m:\u001b[36mbatch_doc_analyze\u001b[0m:\u001b[36m220\u001b[0m - \u001b[1mBatch 5/9: 1000 pages/1767 pages\u001b[0m\n",
      "\u001b[32m2025-05-23 21:42:16.221\u001b[0m | \u001b[1mINFO    \u001b[0m | \u001b[36mmagic_pdf.model.doc_analyze_by_custom_model\u001b[0m:\u001b[36mmay_batch_image_analyze\u001b[0m:\u001b[36m275\u001b[0m - \u001b[1mgpu_memory: 24 GB, batch_ratio: 16\u001b[0m\n",
      "Layout Predict: 100%|██████████| 200/200 [00:09<00:00, 20.36it/s]\n",
      "MFD Predict: 100%|██████████| 200/200 [00:08<00:00, 24.62it/s]\n",
      "MFR Predict: 100%|██████████| 643/643 [00:03<00:00, 162.65it/s]\n",
      "OCR-det Predict: 100%|██████████| 200/200 [00:27<00:00,  7.21it/s]\n",
      "Table Predict: 100%|██████████| 44/44 [00:11<00:00,  3.69it/s]\n",
      "\u001b[32m2025-05-23 21:43:18.219\u001b[0m | \u001b[1mINFO    \u001b[0m | \u001b[36mmagic_pdf.model.doc_analyze_by_custom_model\u001b[0m:\u001b[36mbatch_doc_analyze\u001b[0m:\u001b[36m220\u001b[0m - \u001b[1mBatch 6/9: 1200 pages/1767 pages\u001b[0m\n",
      "\u001b[32m2025-05-23 21:43:18.220\u001b[0m | \u001b[1mINFO    \u001b[0m | \u001b[36mmagic_pdf.model.doc_analyze_by_custom_model\u001b[0m:\u001b[36mmay_batch_image_analyze\u001b[0m:\u001b[36m275\u001b[0m - \u001b[1mgpu_memory: 24 GB, batch_ratio: 16\u001b[0m\n",
      "Layout Predict: 100%|██████████| 200/200 [00:09<00:00, 20.27it/s]\n",
      "MFD Predict: 100%|██████████| 200/200 [00:08<00:00, 24.77it/s]\n",
      "MFR Predict: 100%|██████████| 1658/1658 [00:09<00:00, 172.38it/s]\n",
      "OCR-det Predict: 100%|██████████| 200/200 [00:42<00:00,  4.75it/s]\n",
      "Table Predict: 100%|██████████| 86/86 [00:22<00:00,  3.78it/s]\n",
      "\u001b[32m2025-05-23 21:44:51.117\u001b[0m | \u001b[1mINFO    \u001b[0m | \u001b[36mmagic_pdf.model.doc_analyze_by_custom_model\u001b[0m:\u001b[36mbatch_doc_analyze\u001b[0m:\u001b[36m220\u001b[0m - \u001b[1mBatch 7/9: 1400 pages/1767 pages\u001b[0m\n",
      "\u001b[32m2025-05-23 21:44:51.117\u001b[0m | \u001b[1mINFO    \u001b[0m | \u001b[36mmagic_pdf.model.doc_analyze_by_custom_model\u001b[0m:\u001b[36mmay_batch_image_analyze\u001b[0m:\u001b[36m275\u001b[0m - \u001b[1mgpu_memory: 24 GB, batch_ratio: 16\u001b[0m\n",
      "Layout Predict: 100%|██████████| 200/200 [00:09<00:00, 20.20it/s]\n",
      "MFD Predict: 100%|██████████| 200/200 [00:08<00:00, 24.85it/s]\n",
      "MFR Predict: 100%|██████████| 1232/1232 [27:40<00:00,  1.35s/it] \n",
      "OCR-det Predict: 100%|██████████| 200/200 [01:17<00:00,  2.57it/s]\n",
      "Table Predict: 100%|██████████| 92/92 [01:09<00:00,  1.32it/s]\n",
      "\u001b[32m2025-05-23 22:15:17.965\u001b[0m | \u001b[1mINFO    \u001b[0m | \u001b[36mmagic_pdf.model.doc_analyze_by_custom_model\u001b[0m:\u001b[36mbatch_doc_analyze\u001b[0m:\u001b[36m220\u001b[0m - \u001b[1mBatch 8/9: 1600 pages/1767 pages\u001b[0m\n",
      "\u001b[32m2025-05-23 22:15:17.967\u001b[0m | \u001b[1mINFO    \u001b[0m | \u001b[36mmagic_pdf.model.doc_analyze_by_custom_model\u001b[0m:\u001b[36mmay_batch_image_analyze\u001b[0m:\u001b[36m275\u001b[0m - \u001b[1mgpu_memory: 24 GB, batch_ratio: 16\u001b[0m\n",
      "Layout Predict: 100%|██████████| 200/200 [00:16<00:00, 11.99it/s]\n",
      "MFD Predict: 100%|██████████| 200/200 [00:09<00:00, 21.56it/s]\n",
      "MFR Predict: 100%|██████████| 900/900 [00:07<00:00, 116.53it/s]\n",
      "OCR-det Predict: 100%|██████████| 200/200 [01:04<00:00,  3.10it/s]\n",
      "Table Predict: 100%|██████████| 121/121 [00:54<00:00,  2.23it/s]\n",
      "\u001b[32m2025-05-23 22:17:51.097\u001b[0m | \u001b[1mINFO    \u001b[0m | \u001b[36mmagic_pdf.model.doc_analyze_by_custom_model\u001b[0m:\u001b[36mbatch_doc_analyze\u001b[0m:\u001b[36m220\u001b[0m - \u001b[1mBatch 9/9: 1767 pages/1767 pages\u001b[0m\n",
      "\u001b[32m2025-05-23 22:17:51.098\u001b[0m | \u001b[1mINFO    \u001b[0m | \u001b[36mmagic_pdf.model.doc_analyze_by_custom_model\u001b[0m:\u001b[36mmay_batch_image_analyze\u001b[0m:\u001b[36m275\u001b[0m - \u001b[1mgpu_memory: 24 GB, batch_ratio: 16\u001b[0m\n",
      "Layout Predict: 100%|██████████| 167/167 [00:13<00:00, 12.07it/s]\n",
      "MFD Predict: 100%|██████████| 167/167 [00:07<00:00, 21.90it/s]\n",
      "MFR Predict: 100%|██████████| 795/795 [00:07<00:00, 102.94it/s]\n",
      "OCR-det Predict: 100%|██████████| 167/167 [00:58<00:00,  2.84it/s]\n",
      "Table Predict: 100%|██████████| 66/66 [00:54<00:00,  1.20it/s]\n",
      "Processing pages: 100%|██████████| 12/12 [00:05<00:00,  2.21it/s]\n",
      "\u001b[32m2025-05-23 22:20:22.816\u001b[0m | \u001b[1mINFO    \u001b[0m | \u001b[36mmagic_pdf.tools.common\u001b[0m:\u001b[36m_do_parse\u001b[0m:\u001b[36m243\u001b[0m - \u001b[1mlocal output dir is d:\\DataAnalysis\\arxiv\\output\\2405.17053v2\\auto\u001b[0m\n",
      "Processing pages: 100%|██████████| 18/18 [00:05<00:00,  3.32it/s]\n",
      "OCR-rec Predict: 100%|██████████| 1/1 [00:00<00:00, 37.44it/s]\n",
      "\u001b[32m2025-05-23 22:20:31.385\u001b[0m | \u001b[1mINFO    \u001b[0m | \u001b[36mmagic_pdf.tools.common\u001b[0m:\u001b[36m_do_parse\u001b[0m:\u001b[36m243\u001b[0m - \u001b[1mlocal output dir is d:\\DataAnalysis\\arxiv\\output\\2405.18111v3\\auto\u001b[0m\n",
      "Processing pages: 100%|██████████| 18/18 [00:03<00:00,  4.85it/s]\n",
      "OCR-rec Predict: 100%|██████████| 15/15 [00:00<00:00, 66.60it/s]\n",
      "\u001b[32m2025-05-23 22:20:37.332\u001b[0m | \u001b[1mINFO    \u001b[0m | \u001b[36mmagic_pdf.tools.common\u001b[0m:\u001b[36m_do_parse\u001b[0m:\u001b[36m243\u001b[0m - \u001b[1mlocal output dir is d:\\DataAnalysis\\arxiv\\output\\2405.18359v1\\auto\u001b[0m\n",
      "Processing pages: 100%|██████████| 10/10 [00:02<00:00,  3.86it/s]\n",
      "OCR-rec Predict: 100%|██████████| 1/1 [00:00<00:00, 32.76it/s]\n",
      "\u001b[32m2025-05-23 22:20:41.538\u001b[0m | \u001b[1mINFO    \u001b[0m | \u001b[36mmagic_pdf.tools.common\u001b[0m:\u001b[36m_do_parse\u001b[0m:\u001b[36m243\u001b[0m - \u001b[1mlocal output dir is d:\\DataAnalysis\\arxiv\\output\\2405.18682v2\\auto\u001b[0m\n",
      "Processing pages: 100%|██████████| 25/25 [00:04<00:00,  5.55it/s]\n",
      "\u001b[32m2025-05-23 22:20:48.151\u001b[0m | \u001b[1mINFO    \u001b[0m | \u001b[36mmagic_pdf.tools.common\u001b[0m:\u001b[36m_do_parse\u001b[0m:\u001b[36m243\u001b[0m - \u001b[1mlocal output dir is d:\\DataAnalysis\\arxiv\\output\\2405.19366v2\\auto\u001b[0m\n",
      "Processing pages: 100%|██████████| 18/18 [00:05<00:00,  3.25it/s]\n",
      "OCR-rec Predict: 100%|██████████| 8/8 [00:00<00:00, 43.61it/s]\n",
      "\u001b[32m2025-05-23 22:20:56.889\u001b[0m | \u001b[1mINFO    \u001b[0m | \u001b[36mmagic_pdf.tools.common\u001b[0m:\u001b[36m_do_parse\u001b[0m:\u001b[36m243\u001b[0m - \u001b[1mlocal output dir is d:\\DataAnalysis\\arxiv\\output\\2405.19456v2\\auto\u001b[0m\n",
      "Processing pages: 100%|██████████| 9/9 [00:01<00:00,  4.73it/s]\n",
      "OCR-rec Predict: 100%|██████████| 2/2 [00:00<00:00, 56.92it/s]\n",
      "\u001b[32m2025-05-23 22:21:00.234\u001b[0m | \u001b[1mINFO    \u001b[0m | \u001b[36mmagic_pdf.tools.common\u001b[0m:\u001b[36m_do_parse\u001b[0m:\u001b[36m243\u001b[0m - \u001b[1mlocal output dir is d:\\DataAnalysis\\arxiv\\output\\2405.19519v2\\auto\u001b[0m\n",
      "Processing pages: 100%|██████████| 15/15 [00:04<00:00,  3.52it/s]\n",
      "OCR-rec Predict: 100%|██████████| 2/2 [00:00<00:00, 57.11it/s]\n",
      "\u001b[32m2025-05-23 22:21:06.864\u001b[0m | \u001b[1mINFO    \u001b[0m | \u001b[36mmagic_pdf.tools.common\u001b[0m:\u001b[36m_do_parse\u001b[0m:\u001b[36m243\u001b[0m - \u001b[1mlocal output dir is d:\\DataAnalysis\\arxiv\\output\\2405.19563v1\\auto\u001b[0m\n",
      "Processing pages: 100%|██████████| 17/17 [00:05<00:00,  3.21it/s]\n",
      "OCR-rec Predict: 100%|██████████| 3/3 [00:00<00:00, 42.51it/s]\n",
      "\u001b[32m2025-05-23 22:21:14.523\u001b[0m | \u001b[1mINFO    \u001b[0m | \u001b[36mmagic_pdf.tools.common\u001b[0m:\u001b[36m_do_parse\u001b[0m:\u001b[36m243\u001b[0m - \u001b[1mlocal output dir is d:\\DataAnalysis\\arxiv\\output\\2405.19670v4\\auto\u001b[0m\n",
      "Processing pages: 100%|██████████| 12/12 [00:03<00:00,  3.58it/s]\n",
      "\u001b[32m2025-05-23 22:21:19.914\u001b[0m | \u001b[1mINFO    \u001b[0m | \u001b[36mmagic_pdf.tools.common\u001b[0m:\u001b[36m_do_parse\u001b[0m:\u001b[36m243\u001b[0m - \u001b[1mlocal output dir is d:\\DataAnalysis\\arxiv\\output\\2405.19893v1\\auto\u001b[0m\n",
      "Processing pages: 100%|██████████| 21/21 [00:04<00:00,  4.99it/s]\n",
      "\u001b[32m2025-05-23 22:21:26.659\u001b[0m | \u001b[1mINFO    \u001b[0m | \u001b[36mmagic_pdf.tools.common\u001b[0m:\u001b[36m_do_parse\u001b[0m:\u001b[36m243\u001b[0m - \u001b[1mlocal output dir is d:\\DataAnalysis\\arxiv\\output\\2405.20139v1\\auto\u001b[0m\n",
      "Processing pages: 100%|██████████| 38/38 [00:07<00:00,  5.40it/s]\n",
      "\u001b[32m2025-05-23 22:21:36.517\u001b[0m | \u001b[1mINFO    \u001b[0m | \u001b[36mmagic_pdf.tools.common\u001b[0m:\u001b[36m_do_parse\u001b[0m:\u001b[36m243\u001b[0m - \u001b[1mlocal output dir is d:\\DataAnalysis\\arxiv\\output\\2405.20362v1\\auto\u001b[0m\n",
      "Processing pages: 100%|██████████| 12/12 [00:03<00:00,  3.39it/s]\n",
      "\u001b[32m2025-05-23 22:21:41.949\u001b[0m | \u001b[1mINFO    \u001b[0m | \u001b[36mmagic_pdf.tools.common\u001b[0m:\u001b[36m_do_parse\u001b[0m:\u001b[36m243\u001b[0m - \u001b[1mlocal output dir is d:\\DataAnalysis\\arxiv\\output\\2405.20446v3\\auto\u001b[0m\n",
      "Processing pages: 100%|██████████| 12/12 [00:02<00:00,  5.40it/s]\n",
      "\u001b[32m2025-05-23 22:21:45.546\u001b[0m | \u001b[1mINFO    \u001b[0m | \u001b[36mmagic_pdf.tools.common\u001b[0m:\u001b[36m_do_parse\u001b[0m:\u001b[36m243\u001b[0m - \u001b[1mlocal output dir is d:\\DataAnalysis\\arxiv\\output\\2405.20455v5\\auto\u001b[0m\n",
      "Processing pages: 100%|██████████| 26/26 [00:04<00:00,  5.21it/s]\n",
      "OCR-rec Predict: 100%|██████████| 1/1 [00:00<00:00, 39.78it/s]\n",
      "\u001b[32m2025-05-23 22:21:53.176\u001b[0m | \u001b[1mINFO    \u001b[0m | \u001b[36mmagic_pdf.tools.common\u001b[0m:\u001b[36m_do_parse\u001b[0m:\u001b[36m243\u001b[0m - \u001b[1mlocal output dir is d:\\DataAnalysis\\arxiv\\output\\2405.20485v2\\auto\u001b[0m\n",
      "Processing pages: 100%|██████████| 17/17 [00:05<00:00,  3.35it/s]\n",
      "OCR-rec Predict: 100%|██████████| 4/4 [00:00<00:00, 62.25it/s]\n",
      "\u001b[32m2025-05-23 22:22:00.597\u001b[0m | \u001b[1mINFO    \u001b[0m | \u001b[36mmagic_pdf.tools.common\u001b[0m:\u001b[36m_do_parse\u001b[0m:\u001b[36m243\u001b[0m - \u001b[1mlocal output dir is d:\\DataAnalysis\\arxiv\\output\\2405.20834v1\\auto\u001b[0m\n",
      "Processing pages: 100%|██████████| 12/12 [00:03<00:00,  3.17it/s]\n",
      "OCR-rec Predict: 100%|██████████| 1/1 [00:00<00:00, 34.87it/s]\n",
      "\u001b[32m2025-05-23 22:22:06.575\u001b[0m | \u001b[1mINFO    \u001b[0m | \u001b[36mmagic_pdf.tools.common\u001b[0m:\u001b[36m_do_parse\u001b[0m:\u001b[36m243\u001b[0m - \u001b[1mlocal output dir is d:\\DataAnalysis\\arxiv\\output\\2405.20978v1\\auto\u001b[0m\n",
      "Processing pages: 100%|██████████| 6/6 [00:01<00:00,  5.31it/s]\n",
      "\u001b[32m2025-05-23 22:22:08.779\u001b[0m | \u001b[1mINFO    \u001b[0m | \u001b[36mmagic_pdf.tools.common\u001b[0m:\u001b[36m_do_parse\u001b[0m:\u001b[36m243\u001b[0m - \u001b[1mlocal output dir is d:\\DataAnalysis\\arxiv\\output\\2406.00029v1\\auto\u001b[0m\n",
      "Processing pages: 100%|██████████| 54/54 [00:06<00:00,  8.03it/s]\n",
      "OCR-rec Predict: 100%|██████████| 23/23 [00:00<00:00, 56.05it/s]\n",
      "\u001b[32m2025-05-23 22:22:17.604\u001b[0m | \u001b[1mINFO    \u001b[0m | \u001b[36mmagic_pdf.tools.common\u001b[0m:\u001b[36m_do_parse\u001b[0m:\u001b[36m243\u001b[0m - \u001b[1mlocal output dir is d:\\DataAnalysis\\arxiv\\output\\2406.00031v1\\auto\u001b[0m\n",
      "Processing pages: 100%|██████████| 11/11 [00:04<00:00,  2.29it/s]\n",
      "\u001b[32m2025-05-23 22:22:25.209\u001b[0m | \u001b[1mINFO    \u001b[0m | \u001b[36mmagic_pdf.tools.common\u001b[0m:\u001b[36m_do_parse\u001b[0m:\u001b[36m243\u001b[0m - \u001b[1mlocal output dir is d:\\DataAnalysis\\arxiv\\output\\2406.00036v2\\auto\u001b[0m\n",
      "Processing pages: 100%|██████████| 11/11 [00:03<00:00,  3.41it/s]\n",
      "OCR-rec Predict: 100%|██████████| 5/5 [00:00<00:00, 63.83it/s]\n",
      "\u001b[32m2025-05-23 22:22:30.352\u001b[0m | \u001b[1mINFO    \u001b[0m | \u001b[36mmagic_pdf.tools.common\u001b[0m:\u001b[36m_do_parse\u001b[0m:\u001b[36m243\u001b[0m - \u001b[1mlocal output dir is d:\\DataAnalysis\\arxiv\\output\\2406.00041v2\\auto\u001b[0m\n",
      "Processing pages: 100%|██████████| 22/22 [00:03<00:00,  6.87it/s]\n",
      "\u001b[32m2025-05-23 22:22:35.241\u001b[0m | \u001b[1mINFO    \u001b[0m | \u001b[36mmagic_pdf.tools.common\u001b[0m:\u001b[36m_do_parse\u001b[0m:\u001b[36m243\u001b[0m - \u001b[1mlocal output dir is d:\\DataAnalysis\\arxiv\\output\\2406.00057v2\\auto\u001b[0m\n",
      "Processing pages: 100%|██████████| 19/19 [00:05<00:00,  3.28it/s]\n",
      "OCR-rec Predict: 100%|██████████| 1/1 [00:00<00:00, 16.51it/s]\n",
      "\u001b[32m2025-05-23 22:22:43.896\u001b[0m | \u001b[1mINFO    \u001b[0m | \u001b[36mmagic_pdf.tools.common\u001b[0m:\u001b[36m_do_parse\u001b[0m:\u001b[36m243\u001b[0m - \u001b[1mlocal output dir is d:\\DataAnalysis\\arxiv\\output\\2406.00456v2\\auto\u001b[0m\n",
      "Processing pages: 100%|██████████| 13/13 [00:03<00:00,  3.32it/s]\n",
      "\u001b[32m2025-05-23 22:22:50.105\u001b[0m | \u001b[1mINFO    \u001b[0m | \u001b[36mmagic_pdf.tools.common\u001b[0m:\u001b[36m_do_parse\u001b[0m:\u001b[36m243\u001b[0m - \u001b[1mlocal output dir is d:\\DataAnalysis\\arxiv\\output\\2406.00975v2\\auto\u001b[0m\n",
      "Processing pages: 100%|██████████| 9/9 [00:03<00:00,  2.92it/s]\n",
      "\u001b[32m2025-05-23 22:22:54.718\u001b[0m | \u001b[1mINFO    \u001b[0m | \u001b[36mmagic_pdf.tools.common\u001b[0m:\u001b[36m_do_parse\u001b[0m:\u001b[36m243\u001b[0m - \u001b[1mlocal output dir is d:\\DataAnalysis\\arxiv\\output\\2406.01045v1\\auto\u001b[0m\n",
      "Processing pages: 100%|██████████| 78/78 [00:10<00:00,  7.10it/s]\n",
      "OCR-rec Predict: 100%|██████████| 28/28 [00:00<00:00, 79.32it/s]\n",
      "\u001b[32m2025-05-23 22:23:08.459\u001b[0m | \u001b[1mINFO    \u001b[0m | \u001b[36mmagic_pdf.tools.common\u001b[0m:\u001b[36m_do_parse\u001b[0m:\u001b[36m243\u001b[0m - \u001b[1mlocal output dir is d:\\DataAnalysis\\arxiv\\output\\2406.01428v2\\auto\u001b[0m\n",
      "Processing pages: 100%|██████████| 26/26 [00:06<00:00,  4.11it/s]\n",
      "\u001b[32m2025-05-23 22:23:17.332\u001b[0m | \u001b[1mINFO    \u001b[0m | \u001b[36mmagic_pdf.tools.common\u001b[0m:\u001b[36m_do_parse\u001b[0m:\u001b[36m243\u001b[0m - \u001b[1mlocal output dir is d:\\DataAnalysis\\arxiv\\output\\2406.01549v2\\auto\u001b[0m\n",
      "Processing pages: 100%|██████████| 6/6 [00:02<00:00,  2.71it/s]\n",
      "OCR-rec Predict: 100%|██████████| 1/1 [00:00<00:00, 19.40it/s]\n",
      "\u001b[32m2025-05-23 22:23:20.930\u001b[0m | \u001b[1mINFO    \u001b[0m | \u001b[36mmagic_pdf.tools.common\u001b[0m:\u001b[36m_do_parse\u001b[0m:\u001b[36m243\u001b[0m - \u001b[1mlocal output dir is d:\\DataAnalysis\\arxiv\\output\\2406.01768v1\\auto\u001b[0m\n",
      "Processing pages: 100%|██████████| 10/10 [00:04<00:00,  2.34it/s]\n",
      "\u001b[32m2025-05-23 22:23:27.436\u001b[0m | \u001b[1mINFO    \u001b[0m | \u001b[36mmagic_pdf.tools.common\u001b[0m:\u001b[36m_do_parse\u001b[0m:\u001b[36m243\u001b[0m - \u001b[1mlocal output dir is d:\\DataAnalysis\\arxiv\\output\\2406.02110v1\\auto\u001b[0m\n",
      "Processing pages: 100%|██████████| 12/12 [00:01<00:00,  7.58it/s]\n",
      "\u001b[32m2025-05-23 22:23:31.056\u001b[0m | \u001b[1mINFO    \u001b[0m | \u001b[36mmagic_pdf.tools.common\u001b[0m:\u001b[36m_do_parse\u001b[0m:\u001b[36m243\u001b[0m - \u001b[1mlocal output dir is d:\\DataAnalysis\\arxiv\\output\\2406.02266v1\\auto\u001b[0m\n",
      "Processing pages: 100%|██████████| 19/19 [00:05<00:00,  3.42it/s]\n",
      "OCR-rec Predict: 100%|██████████| 1/1 [00:00<00:00, 40.55it/s]\n",
      "\u001b[32m2025-05-23 22:23:39.657\u001b[0m | \u001b[1mINFO    \u001b[0m | \u001b[36mmagic_pdf.tools.common\u001b[0m:\u001b[36m_do_parse\u001b[0m:\u001b[36m243\u001b[0m - \u001b[1mlocal output dir is d:\\DataAnalysis\\arxiv\\output\\2406.02472v1\\auto\u001b[0m\n",
      "Processing pages: 100%|██████████| 9/9 [00:03<00:00,  2.93it/s]\n",
      "OCR-rec Predict: 100%|██████████| 3/3 [00:00<00:00, 62.85it/s]\n",
      "\u001b[32m2025-05-23 22:23:44.735\u001b[0m | \u001b[1mINFO    \u001b[0m | \u001b[36mmagic_pdf.tools.common\u001b[0m:\u001b[36m_do_parse\u001b[0m:\u001b[36m243\u001b[0m - \u001b[1mlocal output dir is d:\\DataAnalysis\\arxiv\\output\\2406.02746v5\\auto\u001b[0m\n",
      "Processing pages: 100%|██████████| 19/19 [00:04<00:00,  4.24it/s]\n",
      "OCR-rec Predict: 100%|██████████| 36/36 [00:00<00:00, 119.00it/s]\n",
      "\u001b[32m2025-05-23 22:23:51.635\u001b[0m | \u001b[1mINFO    \u001b[0m | \u001b[36mmagic_pdf.tools.common\u001b[0m:\u001b[36m_do_parse\u001b[0m:\u001b[36m243\u001b[0m - \u001b[1mlocal output dir is d:\\DataAnalysis\\arxiv\\output\\2406.02818v1\\auto\u001b[0m\n",
      "Processing pages: 100%|██████████| 5/5 [00:02<00:00,  1.95it/s]\n",
      "\u001b[32m2025-05-23 22:23:55.733\u001b[0m | \u001b[1mINFO    \u001b[0m | \u001b[36mmagic_pdf.tools.common\u001b[0m:\u001b[36m_do_parse\u001b[0m:\u001b[36m243\u001b[0m - \u001b[1mlocal output dir is d:\\DataAnalysis\\arxiv\\output\\2406.03714v1\\auto\u001b[0m\n",
      "Processing pages: 100%|██████████| 13/13 [00:05<00:00,  2.27it/s]\n",
      "OCR-rec Predict: 100%|██████████| 14/14 [00:00<00:00, 65.28it/s]\n",
      "\u001b[32m2025-05-23 22:24:04.141\u001b[0m | \u001b[1mINFO    \u001b[0m | \u001b[36mmagic_pdf.tools.common\u001b[0m:\u001b[36m_do_parse\u001b[0m:\u001b[36m243\u001b[0m - \u001b[1mlocal output dir is d:\\DataAnalysis\\arxiv\\output\\2406.03790v2\\auto\u001b[0m\n",
      "Processing pages: 100%|██████████| 16/16 [00:03<00:00,  4.22it/s]\n",
      "\u001b[32m2025-05-23 22:24:10.019\u001b[0m | \u001b[1mINFO    \u001b[0m | \u001b[36mmagic_pdf.tools.common\u001b[0m:\u001b[36m_do_parse\u001b[0m:\u001b[36m243\u001b[0m - \u001b[1mlocal output dir is d:\\DataAnalysis\\arxiv\\output\\2406.03963v1\\auto\u001b[0m\n",
      "Processing pages: 100%|██████████| 20/20 [00:03<00:00,  5.26it/s]\n",
      "OCR-rec Predict: 100%|██████████| 3/3 [00:00<00:00, 65.84it/s]\n",
      "\u001b[32m2025-05-23 22:24:15.864\u001b[0m | \u001b[1mINFO    \u001b[0m | \u001b[36mmagic_pdf.tools.common\u001b[0m:\u001b[36m_do_parse\u001b[0m:\u001b[36m243\u001b[0m - \u001b[1mlocal output dir is d:\\DataAnalysis\\arxiv\\output\\2406.04744v2\\auto\u001b[0m\n",
      "Processing pages: 100%|██████████| 13/13 [00:04<00:00,  3.19it/s]\n",
      "\u001b[32m2025-05-23 22:24:22.134\u001b[0m | \u001b[1mINFO    \u001b[0m | \u001b[36mmagic_pdf.tools.common\u001b[0m:\u001b[36m_do_parse\u001b[0m:\u001b[36m243\u001b[0m - \u001b[1mlocal output dir is d:\\DataAnalysis\\arxiv\\output\\2406.05794v3\\auto\u001b[0m\n",
      "Processing pages: 100%|██████████| 20/20 [00:06<00:00,  2.94it/s]\n",
      "\u001b[32m2025-05-23 22:24:32.321\u001b[0m | \u001b[1mINFO    \u001b[0m | \u001b[36mmagic_pdf.tools.common\u001b[0m:\u001b[36m_do_parse\u001b[0m:\u001b[36m243\u001b[0m - \u001b[1mlocal output dir is d:\\DataAnalysis\\arxiv\\output\\2406.05870v4\\auto\u001b[0m\n",
      "Processing pages: 100%|██████████| 6/6 [00:01<00:00,  3.98it/s]\n",
      "\u001b[32m2025-05-23 22:24:35.224\u001b[0m | \u001b[1mINFO    \u001b[0m | \u001b[36mmagic_pdf.tools.common\u001b[0m:\u001b[36m_do_parse\u001b[0m:\u001b[36m243\u001b[0m - \u001b[1mlocal output dir is d:\\DataAnalysis\\arxiv\\output\\2406.06124v1\\auto\u001b[0m\n",
      "Processing pages: 100%|██████████| 18/18 [00:05<00:00,  3.59it/s]\n",
      "\u001b[32m2025-05-23 22:24:42.918\u001b[0m | \u001b[1mINFO    \u001b[0m | \u001b[36mmagic_pdf.tools.common\u001b[0m:\u001b[36m_do_parse\u001b[0m:\u001b[36m243\u001b[0m - \u001b[1mlocal output dir is d:\\DataAnalysis\\arxiv\\output\\2406.06399v3\\auto\u001b[0m\n",
      "Processing pages: 100%|██████████| 7/7 [00:02<00:00,  2.86it/s]\n",
      "\u001b[32m2025-05-23 22:24:46.749\u001b[0m | \u001b[1mINFO    \u001b[0m | \u001b[36mmagic_pdf.tools.common\u001b[0m:\u001b[36m_do_parse\u001b[0m:\u001b[36m243\u001b[0m - \u001b[1mlocal output dir is d:\\DataAnalysis\\arxiv\\output\\2406.06566v4\\auto\u001b[0m\n",
      "Processing pages: 100%|██████████| 21/21 [00:06<00:00,  3.32it/s]\n",
      "\u001b[32m2025-05-23 22:24:56.632\u001b[0m | \u001b[1mINFO    \u001b[0m | \u001b[36mmagic_pdf.tools.common\u001b[0m:\u001b[36m_do_parse\u001b[0m:\u001b[36m243\u001b[0m - \u001b[1mlocal output dir is d:\\DataAnalysis\\arxiv\\output\\2406.06572v2\\auto\u001b[0m\n",
      "Processing pages: 100%|██████████| 5/5 [00:01<00:00,  2.73it/s]\n",
      "\u001b[32m2025-05-23 22:24:59.768\u001b[0m | \u001b[1mINFO    \u001b[0m | \u001b[36mmagic_pdf.tools.common\u001b[0m:\u001b[36m_do_parse\u001b[0m:\u001b[36m243\u001b[0m - \u001b[1mlocal output dir is d:\\DataAnalysis\\arxiv\\output\\2406.06575v1\\auto\u001b[0m\n",
      "Processing pages: 100%|██████████| 13/13 [00:11<00:00,  1.15it/s]\n",
      "\u001b[32m2025-05-23 22:25:16.680\u001b[0m | \u001b[1mINFO    \u001b[0m | \u001b[36mmagic_pdf.tools.common\u001b[0m:\u001b[36m_do_parse\u001b[0m:\u001b[36m243\u001b[0m - \u001b[1mlocal output dir is d:\\DataAnalysis\\arxiv\\output\\2406.06577v1\\auto\u001b[0m\n",
      "Processing pages: 100%|██████████| 7/7 [00:02<00:00,  2.85it/s]\n",
      "\u001b[32m2025-05-23 22:25:20.549\u001b[0m | \u001b[1mINFO    \u001b[0m | \u001b[36mmagic_pdf.tools.common\u001b[0m:\u001b[36m_do_parse\u001b[0m:\u001b[36m243\u001b[0m - \u001b[1mlocal output dir is d:\\DataAnalysis\\arxiv\\output\\2406.07053v1\\auto\u001b[0m\n",
      "Processing pages: 100%|██████████| 16/16 [00:02<00:00,  7.16it/s]\n",
      "\u001b[32m2025-05-23 22:25:24.174\u001b[0m | \u001b[1mINFO    \u001b[0m | \u001b[36mmagic_pdf.tools.common\u001b[0m:\u001b[36m_do_parse\u001b[0m:\u001b[36m243\u001b[0m - \u001b[1mlocal output dir is d:\\DataAnalysis\\arxiv\\output\\2406.07257v1\\auto\u001b[0m\n",
      "Processing pages: 100%|██████████| 17/17 [00:04<00:00,  3.43it/s]\n",
      "\u001b[32m2025-05-23 22:25:31.400\u001b[0m | \u001b[1mINFO    \u001b[0m | \u001b[36mmagic_pdf.tools.common\u001b[0m:\u001b[36m_do_parse\u001b[0m:\u001b[36m243\u001b[0m - \u001b[1mlocal output dir is d:\\DataAnalysis\\arxiv\\output\\2406.07348v3\\auto\u001b[0m\n",
      "Processing pages:  87%|████████▋ | 47/54 [00:05<00:00,  9.87it/s]\u001b[32m2025-05-23 22:25:36.928\u001b[0m | \u001b[33m\u001b[1mWARNING \u001b[0m | \u001b[36mmagic_pdf.pdf_parse_union_core_v2\u001b[0m:\u001b[36msort_lines_by_model\u001b[0m:\u001b[36m537\u001b[0m - \u001b[33m\u001b[1mright > page_w, left: 133, right: 605, top: 617, bottom: 631, page_w: 604.7999877929688, page_h: 784.7999877929688\u001b[0m\n",
      "Processing pages: 100%|██████████| 54/54 [00:05<00:00,  9.26it/s]\n",
      "OCR-rec Predict: 100%|██████████| 37/37 [00:00<00:00, 96.12it/s] \n",
      "\u001b[32m2025-05-23 22:25:40.164\u001b[0m | \u001b[1mINFO    \u001b[0m | \u001b[36mmagic_pdf.tools.common\u001b[0m:\u001b[36m_do_parse\u001b[0m:\u001b[36m243\u001b[0m - \u001b[1mlocal output dir is d:\\DataAnalysis\\arxiv\\output\\2406.07561v1\\auto\u001b[0m\n",
      "Processing pages: 100%|██████████| 20/20 [00:02<00:00,  7.16it/s]\n",
      "OCR-rec Predict: 100%|██████████| 3/3 [00:00<00:00, 31.22it/s]\n",
      "\u001b[32m2025-05-23 22:25:45.128\u001b[0m | \u001b[1mINFO    \u001b[0m | \u001b[36mmagic_pdf.tools.common\u001b[0m:\u001b[36m_do_parse\u001b[0m:\u001b[36m243\u001b[0m - \u001b[1mlocal output dir is d:\\DataAnalysis\\arxiv\\output\\2406.07796v2\\auto\u001b[0m\n",
      "Processing pages: 100%|██████████| 35/35 [00:07<00:00,  4.90it/s]\n",
      "OCR-rec Predict: 100%|██████████| 1/1 [00:00<00:00, 32.53it/s]\n",
      "\u001b[32m2025-05-23 22:25:55.131\u001b[0m | \u001b[1mINFO    \u001b[0m | \u001b[36mmagic_pdf.tools.common\u001b[0m:\u001b[36m_do_parse\u001b[0m:\u001b[36m243\u001b[0m - \u001b[1mlocal output dir is d:\\DataAnalysis\\arxiv\\output\\2406.07973v2\\auto\u001b[0m\n",
      "Processing pages: 100%|██████████| 17/17 [00:03<00:00,  5.43it/s]\n",
      "\u001b[32m2025-05-23 22:26:00.443\u001b[0m | \u001b[1mINFO    \u001b[0m | \u001b[36mmagic_pdf.tools.common\u001b[0m:\u001b[36m_do_parse\u001b[0m:\u001b[36m243\u001b[0m - \u001b[1mlocal output dir is d:\\DataAnalysis\\arxiv\\output\\2406.07990v1\\auto\u001b[0m\n",
      "Processing pages: 100%|██████████| 21/21 [00:03<00:00,  5.33it/s]\n",
      "OCR-rec Predict: 100%|██████████| 6/6 [00:00<00:00, 28.30it/s]\n",
      "\u001b[32m2025-05-23 22:26:06.827\u001b[0m | \u001b[1mINFO    \u001b[0m | \u001b[36mmagic_pdf.tools.common\u001b[0m:\u001b[36m_do_parse\u001b[0m:\u001b[36m243\u001b[0m - \u001b[1mlocal output dir is d:\\DataAnalysis\\arxiv\\output\\2406.09272v3\\auto\u001b[0m\n",
      "Processing pages: 100%|██████████| 35/35 [00:06<00:00,  5.57it/s]\n",
      "\u001b[32m2025-05-23 22:26:16.474\u001b[0m | \u001b[1mINFO    \u001b[0m | \u001b[36mmagic_pdf.tools.common\u001b[0m:\u001b[36m_do_parse\u001b[0m:\u001b[36m243\u001b[0m - \u001b[1mlocal output dir is d:\\DataAnalysis\\arxiv\\output\\2406.10149v2\\auto\u001b[0m\n",
      "Processing pages: 100%|██████████| 32/32 [00:16<00:00,  1.97it/s]\n",
      "OCR-rec Predict: 100%|██████████| 740/740 [00:03<00:00, 190.48it/s]\n",
      "\u001b[32m2025-05-23 22:26:41.568\u001b[0m | \u001b[1mINFO    \u001b[0m | \u001b[36mmagic_pdf.tools.common\u001b[0m:\u001b[36m_do_parse\u001b[0m:\u001b[36m243\u001b[0m - \u001b[1mlocal output dir is d:\\DataAnalysis\\arxiv\\output\\2406.10261v1\\auto\u001b[0m\n",
      "Processing pages: 100%|██████████| 8/8 [00:01<00:00,  5.64it/s]\n",
      "OCR-rec Predict: 100%|██████████| 3/3 [00:00<00:00, 37.28it/s]\n",
      "\u001b[32m2025-05-23 22:26:44.294\u001b[0m | \u001b[1mINFO    \u001b[0m | \u001b[36mmagic_pdf.tools.common\u001b[0m:\u001b[36m_do_parse\u001b[0m:\u001b[36m243\u001b[0m - \u001b[1mlocal output dir is d:\\DataAnalysis\\arxiv\\output\\2406.11201v2\\auto\u001b[0m\n",
      "Processing pages: 100%|██████████| 16/16 [00:04<00:00,  3.23it/s]\n",
      "OCR-rec Predict: 100%|██████████| 2/2 [00:00<00:00, 50.75it/s]\n",
      "\u001b[32m2025-05-23 22:26:52.323\u001b[0m | \u001b[1mINFO    \u001b[0m | \u001b[36mmagic_pdf.tools.common\u001b[0m:\u001b[36m_do_parse\u001b[0m:\u001b[36m243\u001b[0m - \u001b[1mlocal output dir is d:\\DataAnalysis\\arxiv\\output\\2406.11258v2\\auto\u001b[0m\n",
      "Processing pages: 100%|██████████| 28/28 [00:06<00:00,  4.03it/s]\n",
      "\u001b[32m2025-05-23 22:27:01.958\u001b[0m | \u001b[1mINFO    \u001b[0m | \u001b[36mmagic_pdf.tools.common\u001b[0m:\u001b[36m_do_parse\u001b[0m:\u001b[36m243\u001b[0m - \u001b[1mlocal output dir is d:\\DataAnalysis\\arxiv\\output\\2406.11357v2\\auto\u001b[0m\n",
      "Processing pages: 100%|██████████| 22/22 [00:07<00:00,  2.94it/s]\n",
      "OCR-rec Predict: 100%|██████████| 2/2 [00:00<00:00, 56.11it/s]\n",
      "\u001b[32m2025-05-23 22:27:13.492\u001b[0m | \u001b[1mINFO    \u001b[0m | \u001b[36mmagic_pdf.tools.common\u001b[0m:\u001b[36m_do_parse\u001b[0m:\u001b[36m243\u001b[0m - \u001b[1mlocal output dir is d:\\DataAnalysis\\arxiv\\output\\2406.11460v1\\auto\u001b[0m\n",
      "Processing pages: 100%|██████████| 14/14 [00:05<00:00,  2.74it/s]\n",
      "\u001b[32m2025-05-23 22:27:20.976\u001b[0m | \u001b[1mINFO    \u001b[0m | \u001b[36mmagic_pdf.tools.common\u001b[0m:\u001b[36m_do_parse\u001b[0m:\u001b[36m243\u001b[0m - \u001b[1mlocal output dir is d:\\DataAnalysis\\arxiv\\output\\2406.11497v3\\auto\u001b[0m\n",
      "Processing pages: 100%|██████████| 20/20 [00:06<00:00,  3.19it/s]\n",
      "\u001b[32m2025-05-23 22:27:30.626\u001b[0m | \u001b[1mINFO    \u001b[0m | \u001b[36mmagic_pdf.tools.common\u001b[0m:\u001b[36m_do_parse\u001b[0m:\u001b[36m243\u001b[0m - \u001b[1mlocal output dir is d:\\DataAnalysis\\arxiv\\output\\2406.11830v1\\auto\u001b[0m\n",
      "Processing pages: 100%|██████████| 26/26 [00:07<00:00,  3.54it/s]\n",
      "\u001b[32m2025-05-23 22:27:40.929\u001b[0m | \u001b[1mINFO    \u001b[0m | \u001b[36mmagic_pdf.tools.common\u001b[0m:\u001b[36m_do_parse\u001b[0m:\u001b[36m243\u001b[0m - \u001b[1mlocal output dir is d:\\DataAnalysis\\arxiv\\output\\2406.12069v2\\auto\u001b[0m\n",
      "Processing pages: 100%|██████████| 15/15 [00:03<00:00,  4.72it/s]\n",
      "\u001b[32m2025-05-23 22:27:46.131\u001b[0m | \u001b[1mINFO    \u001b[0m | \u001b[36mmagic_pdf.tools.common\u001b[0m:\u001b[36m_do_parse\u001b[0m:\u001b[36m243\u001b[0m - \u001b[1mlocal output dir is d:\\DataAnalysis\\arxiv\\output\\2406.12331v1\\auto\u001b[0m\n",
      "Processing pages: 100%|██████████| 19/19 [00:06<00:00,  3.11it/s]\n",
      "OCR-rec Predict: 100%|██████████| 3/3 [00:00<00:00, 57.81it/s]\n",
      "\u001b[32m2025-05-23 22:27:55.281\u001b[0m | \u001b[1mINFO    \u001b[0m | \u001b[36mmagic_pdf.tools.common\u001b[0m:\u001b[36m_do_parse\u001b[0m:\u001b[36m243\u001b[0m - \u001b[1mlocal output dir is d:\\DataAnalysis\\arxiv\\output\\2406.12430v1\\auto\u001b[0m\n",
      "Processing pages: 100%|██████████| 11/11 [00:01<00:00,  7.26it/s]\n",
      "\u001b[32m2025-05-23 22:27:58.130\u001b[0m | \u001b[1mINFO    \u001b[0m | \u001b[36mmagic_pdf.tools.common\u001b[0m:\u001b[36m_do_parse\u001b[0m:\u001b[36m243\u001b[0m - \u001b[1mlocal output dir is d:\\DataAnalysis\\arxiv\\output\\2406.12449v1\\auto\u001b[0m\n",
      "Processing pages: 100%|██████████| 14/14 [00:04<00:00,  3.33it/s]\n",
      "\u001b[32m2025-05-23 22:28:04.721\u001b[0m | \u001b[1mINFO    \u001b[0m | \u001b[36mmagic_pdf.tools.common\u001b[0m:\u001b[36m_do_parse\u001b[0m:\u001b[36m243\u001b[0m - \u001b[1mlocal output dir is d:\\DataAnalysis\\arxiv\\output\\2406.12534v4\\auto\u001b[0m\n",
      "Processing pages: 100%|██████████| 17/17 [00:05<00:00,  3.16it/s]\n",
      "\u001b[32m2025-05-23 22:28:12.930\u001b[0m | \u001b[1mINFO    \u001b[0m | \u001b[36mmagic_pdf.tools.common\u001b[0m:\u001b[36m_do_parse\u001b[0m:\u001b[36m243\u001b[0m - \u001b[1mlocal output dir is d:\\DataAnalysis\\arxiv\\output\\2406.12566v3\\auto\u001b[0m\n",
      "Processing pages: 100%|██████████| 12/12 [00:05<00:00,  2.17it/s]\n",
      "\u001b[32m2025-05-23 22:28:21.191\u001b[0m | \u001b[1mINFO    \u001b[0m | \u001b[36mmagic_pdf.tools.common\u001b[0m:\u001b[36m_do_parse\u001b[0m:\u001b[36m243\u001b[0m - \u001b[1mlocal output dir is d:\\DataAnalysis\\arxiv\\output\\2406.12806v1\\auto\u001b[0m\n",
      "Processing pages: 100%|██████████| 9/9 [00:02<00:00,  3.45it/s]\n",
      "OCR-rec Predict: 100%|██████████| 1/1 [00:00<00:00, 40.79it/s]\n",
      "\u001b[32m2025-05-23 22:28:25.681\u001b[0m | \u001b[1mINFO    \u001b[0m | \u001b[36mmagic_pdf.tools.common\u001b[0m:\u001b[36m_do_parse\u001b[0m:\u001b[36m243\u001b[0m - \u001b[1mlocal output dir is d:\\DataAnalysis\\arxiv\\output\\2406.12824v1\\auto\u001b[0m\n",
      "Processing pages: 100%|██████████| 4/4 [00:01<00:00,  2.87it/s]\n",
      "\u001b[32m2025-05-23 22:28:28.455\u001b[0m | \u001b[1mINFO    \u001b[0m | \u001b[36mmagic_pdf.tools.common\u001b[0m:\u001b[36m_do_parse\u001b[0m:\u001b[36m243\u001b[0m - \u001b[1mlocal output dir is d:\\DataAnalysis\\arxiv\\output\\2406.12881v1\\auto\u001b[0m\n",
      "Processing pages: 100%|██████████| 12/12 [00:03<00:00,  3.72it/s]\n",
      "\u001b[32m2025-05-23 22:28:33.519\u001b[0m | \u001b[1mINFO    \u001b[0m | \u001b[36mmagic_pdf.tools.common\u001b[0m:\u001b[36m_do_parse\u001b[0m:\u001b[36m243\u001b[0m - \u001b[1mlocal output dir is d:\\DataAnalysis\\arxiv\\output\\2406.13050v1\\auto\u001b[0m\n",
      "Processing pages: 100%|██████████| 17/17 [00:05<00:00,  3.07it/s]\n",
      "\u001b[32m2025-05-23 22:28:42.206\u001b[0m | \u001b[1mINFO    \u001b[0m | \u001b[36mmagic_pdf.tools.common\u001b[0m:\u001b[36m_do_parse\u001b[0m:\u001b[36m243\u001b[0m - \u001b[1mlocal output dir is d:\\DataAnalysis\\arxiv\\output\\2406.13331v2\\auto\u001b[0m\n",
      "Processing pages: 100%|██████████| 21/21 [00:04<00:00,  4.98it/s]\n",
      "OCR-rec Predict: 100%|██████████| 1/1 [00:00<00:00, 74.00it/s]\n",
      "\u001b[32m2025-05-23 22:28:48.660\u001b[0m | \u001b[1mINFO    \u001b[0m | \u001b[36mmagic_pdf.tools.common\u001b[0m:\u001b[36m_do_parse\u001b[0m:\u001b[36m243\u001b[0m - \u001b[1mlocal output dir is d:\\DataAnalysis\\arxiv\\output\\2406.13372v2\\auto\u001b[0m\n",
      "Processing pages: 100%|██████████| 24/24 [00:04<00:00,  5.62it/s]\n",
      "\u001b[32m2025-05-23 22:28:54.421\u001b[0m | \u001b[1mINFO    \u001b[0m | \u001b[36mmagic_pdf.tools.common\u001b[0m:\u001b[36m_do_parse\u001b[0m:\u001b[36m243\u001b[0m - \u001b[1mlocal output dir is d:\\DataAnalysis\\arxiv\\output\\2406.13629v3\\auto\u001b[0m\n",
      "Processing pages: 100%|██████████| 17/17 [00:03<00:00,  4.30it/s]\n",
      "\u001b[32m2025-05-23 22:29:00.269\u001b[0m | \u001b[1mINFO    \u001b[0m | \u001b[36mmagic_pdf.tools.common\u001b[0m:\u001b[36m_do_parse\u001b[0m:\u001b[36m243\u001b[0m - \u001b[1mlocal output dir is d:\\DataAnalysis\\arxiv\\output\\2406.13663v4\\auto\u001b[0m\n",
      "Processing pages: 100%|██████████| 17/17 [00:03<00:00,  4.60it/s]\n",
      "OCR-rec Predict: 100%|██████████| 2/2 [00:00<00:00, 46.21it/s]\n",
      "\u001b[32m2025-05-23 22:29:05.767\u001b[0m | \u001b[1mINFO    \u001b[0m | \u001b[36mmagic_pdf.tools.common\u001b[0m:\u001b[36m_do_parse\u001b[0m:\u001b[36m243\u001b[0m - \u001b[1mlocal output dir is d:\\DataAnalysis\\arxiv\\output\\2406.13692v2\\auto\u001b[0m\n",
      "Processing pages: 100%|██████████| 30/30 [00:05<00:00,  5.06it/s]\n",
      "OCR-rec Predict: 100%|██████████| 1/1 [00:00<00:00, 41.15it/s]\n",
      "\u001b[32m2025-05-23 22:29:14.365\u001b[0m | \u001b[1mINFO    \u001b[0m | \u001b[36mmagic_pdf.tools.common\u001b[0m:\u001b[36m_do_parse\u001b[0m:\u001b[36m243\u001b[0m - \u001b[1mlocal output dir is d:\\DataAnalysis\\arxiv\\output\\2406.13779v1\\auto\u001b[0m\n",
      "Processing pages: 100%|██████████| 46/46 [00:04<00:00,  9.32it/s]\n",
      "OCR-rec Predict: 100%|██████████| 9/9 [00:00<00:00, 45.01it/s]\n",
      "\u001b[32m2025-05-23 22:29:21.347\u001b[0m | \u001b[1mINFO    \u001b[0m | \u001b[36mmagic_pdf.tools.common\u001b[0m:\u001b[36m_do_parse\u001b[0m:\u001b[36m243\u001b[0m - \u001b[1mlocal output dir is d:\\DataAnalysis\\arxiv\\output\\2406.13805v1\\auto\u001b[0m\n",
      "Processing pages: 100%|██████████| 5/5 [00:01<00:00,  4.28it/s]\n",
      "\u001b[32m2025-05-23 22:29:23.369\u001b[0m | \u001b[1mINFO    \u001b[0m | \u001b[36mmagic_pdf.tools.common\u001b[0m:\u001b[36m_do_parse\u001b[0m:\u001b[36m243\u001b[0m - \u001b[1mlocal output dir is d:\\DataAnalysis\\arxiv\\output\\2406.13840v1\\auto\u001b[0m\n",
      "Processing pages: 100%|██████████| 19/19 [00:03<00:00,  5.59it/s]\n",
      "\u001b[32m2025-05-23 22:29:28.219\u001b[0m | \u001b[1mINFO    \u001b[0m | \u001b[36mmagic_pdf.tools.common\u001b[0m:\u001b[36m_do_parse\u001b[0m:\u001b[36m243\u001b[0m - \u001b[1mlocal output dir is d:\\DataAnalysis\\arxiv\\output\\2406.14277v2\\auto\u001b[0m\n",
      "Processing pages: 100%|██████████| 15/15 [00:03<00:00,  4.76it/s]\n",
      "OCR-rec Predict: 100%|██████████| 1/1 [00:00<00:00, 28.53it/s]\n",
      "\u001b[32m2025-05-23 22:29:33.152\u001b[0m | \u001b[1mINFO    \u001b[0m | \u001b[36mmagic_pdf.tools.common\u001b[0m:\u001b[36m_do_parse\u001b[0m:\u001b[36m243\u001b[0m - \u001b[1mlocal output dir is d:\\DataAnalysis\\arxiv\\output\\2406.14394v1\\auto\u001b[0m\n",
      "Processing pages: 100%|██████████| 8/8 [00:02<00:00,  3.63it/s]\n",
      "\u001b[32m2025-05-23 22:29:37.098\u001b[0m | \u001b[1mINFO    \u001b[0m | \u001b[36mmagic_pdf.tools.common\u001b[0m:\u001b[36m_do_parse\u001b[0m:\u001b[36m243\u001b[0m - \u001b[1mlocal output dir is d:\\DataAnalysis\\arxiv\\output\\2406.14745v2\\auto\u001b[0m\n",
      "Processing pages: 100%|██████████| 22/22 [00:03<00:00,  6.17it/s]\n",
      "OCR-rec Predict: 100%|██████████| 1/1 [00:00<00:00, 40.59it/s]\n",
      "\u001b[32m2025-05-23 22:29:42.228\u001b[0m | \u001b[1mINFO    \u001b[0m | \u001b[36mmagic_pdf.tools.common\u001b[0m:\u001b[36m_do_parse\u001b[0m:\u001b[36m243\u001b[0m - \u001b[1mlocal output dir is d:\\DataAnalysis\\arxiv\\output\\2406.14773v2\\auto\u001b[0m\n",
      "Processing pages: 100%|██████████| 15/15 [00:03<00:00,  4.86it/s]\n",
      "\u001b[32m2025-05-23 22:29:46.713\u001b[0m | \u001b[1mINFO    \u001b[0m | \u001b[36mmagic_pdf.tools.common\u001b[0m:\u001b[36m_do_parse\u001b[0m:\u001b[36m243\u001b[0m - \u001b[1mlocal output dir is d:\\DataAnalysis\\arxiv\\output\\2406.14891v2\\auto\u001b[0m\n",
      "Processing pages: 100%|██████████| 4/4 [00:01<00:00,  2.87it/s]\n",
      "\u001b[32m2025-05-23 22:29:49.339\u001b[0m | \u001b[1mINFO    \u001b[0m | \u001b[36mmagic_pdf.tools.common\u001b[0m:\u001b[36m_do_parse\u001b[0m:\u001b[36m243\u001b[0m - \u001b[1mlocal output dir is d:\\DataAnalysis\\arxiv\\output\\2406.14938v1\\auto\u001b[0m\n",
      "Processing pages:  95%|█████████▌| 19/20 [00:03<00:00,  6.71it/s]\u001b[32m2025-05-23 22:29:52.875\u001b[0m | \u001b[33m\u001b[1mWARNING \u001b[0m | \u001b[36mmagic_pdf.pdf_parse_union_core_v2\u001b[0m:\u001b[36mparse_page_core\u001b[0m:\u001b[36m835\u001b[0m - \u001b[33m\u001b[1mskip this page, not found useful bbox, page_id: 19\u001b[0m\n",
      "Processing pages: 100%|██████████| 20/20 [00:03<00:00,  5.92it/s]\n",
      "\u001b[32m2025-05-23 22:29:54.212\u001b[0m | \u001b[1mINFO    \u001b[0m | \u001b[36mmagic_pdf.tools.common\u001b[0m:\u001b[36m_do_parse\u001b[0m:\u001b[36m243\u001b[0m - \u001b[1mlocal output dir is d:\\DataAnalysis\\arxiv\\output\\2406.14979v2\\auto\u001b[0m\n",
      "Processing pages: 100%|██████████| 15/15 [00:03<00:00,  4.85it/s]\n",
      "\u001b[32m2025-05-23 22:29:58.696\u001b[0m | \u001b[1mINFO    \u001b[0m | \u001b[36mmagic_pdf.tools.common\u001b[0m:\u001b[36m_do_parse\u001b[0m:\u001b[36m243\u001b[0m - \u001b[1mlocal output dir is d:\\DataAnalysis\\arxiv\\output\\2406.15045v2\\auto\u001b[0m\n",
      "Processing pages: 100%|██████████| 17/17 [00:02<00:00,  7.73it/s]\n",
      "\u001b[32m2025-05-23 22:30:02.014\u001b[0m | \u001b[1mINFO    \u001b[0m | \u001b[36mmagic_pdf.tools.common\u001b[0m:\u001b[36m_do_parse\u001b[0m:\u001b[36m243\u001b[0m - \u001b[1mlocal output dir is d:\\DataAnalysis\\arxiv\\output\\2406.15187v2\\auto\u001b[0m\n",
      "Processing pages: 100%|██████████| 19/19 [00:02<00:00,  7.77it/s]\n",
      "\u001b[32m2025-05-23 22:30:05.522\u001b[0m | \u001b[1mINFO    \u001b[0m | \u001b[36mmagic_pdf.tools.common\u001b[0m:\u001b[36m_do_parse\u001b[0m:\u001b[36m243\u001b[0m - \u001b[1mlocal output dir is d:\\DataAnalysis\\arxiv\\output\\2406.15319v3\\auto\u001b[0m\n",
      "Processing pages: 100%|██████████| 14/14 [00:03<00:00,  4.62it/s]\n",
      "\u001b[32m2025-05-23 22:30:10.085\u001b[0m | \u001b[1mINFO    \u001b[0m | \u001b[36mmagic_pdf.tools.common\u001b[0m:\u001b[36m_do_parse\u001b[0m:\u001b[36m243\u001b[0m - \u001b[1mlocal output dir is d:\\DataAnalysis\\arxiv\\output\\2406.16008v2\\auto\u001b[0m\n",
      "Processing pages: 100%|██████████| 10/10 [00:02<00:00,  4.82it/s]\n",
      "\u001b[32m2025-05-23 22:30:13.237\u001b[0m | \u001b[1mINFO    \u001b[0m | \u001b[36mmagic_pdf.tools.common\u001b[0m:\u001b[36m_do_parse\u001b[0m:\u001b[36m243\u001b[0m - \u001b[1mlocal output dir is d:\\DataAnalysis\\arxiv\\output\\2406.16167v1\\auto\u001b[0m\n",
      "Processing pages: 100%|██████████| 5/5 [00:01<00:00,  3.98it/s]\n",
      "\u001b[32m2025-05-23 22:30:15.315\u001b[0m | \u001b[1mINFO    \u001b[0m | \u001b[36mmagic_pdf.tools.common\u001b[0m:\u001b[36m_do_parse\u001b[0m:\u001b[36m243\u001b[0m - \u001b[1mlocal output dir is d:\\DataAnalysis\\arxiv\\output\\2406.16252v2\\auto\u001b[0m\n",
      "Processing pages: 100%|██████████| 16/16 [00:03<00:00,  4.79it/s]\n",
      "\u001b[32m2025-05-23 22:30:20.275\u001b[0m | \u001b[1mINFO    \u001b[0m | \u001b[36mmagic_pdf.tools.common\u001b[0m:\u001b[36m_do_parse\u001b[0m:\u001b[36m243\u001b[0m - \u001b[1mlocal output dir is d:\\DataAnalysis\\arxiv\\output\\2406.17186v2\\auto\u001b[0m\n",
      "Processing pages: 100%|██████████| 20/20 [00:03<00:00,  5.19it/s]\n",
      "\u001b[32m2025-05-23 22:30:25.682\u001b[0m | \u001b[1mINFO    \u001b[0m | \u001b[36mmagic_pdf.tools.common\u001b[0m:\u001b[36m_do_parse\u001b[0m:\u001b[36m243\u001b[0m - \u001b[1mlocal output dir is d:\\DataAnalysis\\arxiv\\output\\2406.17419v2\\auto\u001b[0m\n",
      "Processing pages: 100%|██████████| 24/24 [00:10<00:00,  2.28it/s]\n",
      "\u001b[32m2025-05-23 22:30:39.545\u001b[0m | \u001b[1mINFO    \u001b[0m | \u001b[36mmagic_pdf.tools.common\u001b[0m:\u001b[36m_do_parse\u001b[0m:\u001b[36m243\u001b[0m - \u001b[1mlocal output dir is d:\\DataAnalysis\\arxiv\\output\\2406.17651v5\\auto\u001b[0m\n",
      "Processing pages: 100%|██████████| 19/19 [00:02<00:00,  7.71it/s]\n",
      "\u001b[32m2025-05-23 22:30:43.064\u001b[0m | \u001b[1mINFO    \u001b[0m | \u001b[36mmagic_pdf.tools.common\u001b[0m:\u001b[36m_do_parse\u001b[0m:\u001b[36m243\u001b[0m - \u001b[1mlocal output dir is d:\\DataAnalysis\\arxiv\\output\\2406.17987v4\\auto\u001b[0m\n",
      "Processing pages: 100%|██████████| 14/14 [00:02<00:00,  6.10it/s]\n",
      "OCR-rec Predict: 100%|██████████| 1/1 [00:00<00:00, 23.72it/s]\n",
      "\u001b[32m2025-05-23 22:30:46.652\u001b[0m | \u001b[1mINFO    \u001b[0m | \u001b[36mmagic_pdf.tools.common\u001b[0m:\u001b[36m_do_parse\u001b[0m:\u001b[36m243\u001b[0m - \u001b[1mlocal output dir is d:\\DataAnalysis\\arxiv\\output\\2406.18064v3\\auto\u001b[0m\n",
      "Processing pages: 100%|██████████| 6/6 [00:01<00:00,  4.25it/s]\n",
      "\u001b[32m2025-05-23 22:30:49.019\u001b[0m | \u001b[1mINFO    \u001b[0m | \u001b[36mmagic_pdf.tools.common\u001b[0m:\u001b[36m_do_parse\u001b[0m:\u001b[36m243\u001b[0m - \u001b[1mlocal output dir is d:\\DataAnalysis\\arxiv\\output\\2406.18122v1\\auto\u001b[0m\n",
      "Processing pages: 100%|██████████| 16/16 [00:02<00:00,  5.42it/s]\n",
      "OCR-rec Predict: 100%|██████████| 1/1 [00:00<00:00, 34.44it/s]\n",
      "\u001b[32m2025-05-23 22:30:53.349\u001b[0m | \u001b[1mINFO    \u001b[0m | \u001b[36mmagic_pdf.tools.common\u001b[0m:\u001b[36m_do_parse\u001b[0m:\u001b[36m243\u001b[0m - \u001b[1mlocal output dir is d:\\DataAnalysis\\arxiv\\output\\2406.18134v1\\auto\u001b[0m\n",
      "Processing pages: 100%|██████████| 18/18 [00:02<00:00,  7.62it/s]\n",
      "\u001b[32m2025-05-23 22:30:56.764\u001b[0m | \u001b[1mINFO    \u001b[0m | \u001b[36mmagic_pdf.tools.common\u001b[0m:\u001b[36m_do_parse\u001b[0m:\u001b[36m243\u001b[0m - \u001b[1mlocal output dir is d:\\DataAnalysis\\arxiv\\output\\2406.18312v4\\auto\u001b[0m\n"
     ]
    },
    {
     "name": "stdout",
     "output_type": "stream",
     "text": [
      "Chunk 5: 100 files\n"
     ]
    },
    {
     "name": "stderr",
     "output_type": "stream",
     "text": [
      "\u001b[32m2025-05-23 22:30:59.270\u001b[0m | \u001b[1mINFO    \u001b[0m | \u001b[36mmagic_pdf.libs.pdf_check\u001b[0m:\u001b[36mdetect_invalid_chars\u001b[0m:\u001b[36m67\u001b[0m - \u001b[1mcid_count: 21, text_len: 32500, cid_chars_radio: 0.000649471144924847\u001b[0m\n",
      "\u001b[32m2025-05-23 22:31:00.169\u001b[0m | \u001b[1mINFO    \u001b[0m | \u001b[36mmagic_pdf.libs.pdf_check\u001b[0m:\u001b[36mdetect_invalid_chars\u001b[0m:\u001b[36m67\u001b[0m - \u001b[1mcid_count: 0, text_len: 30410, cid_chars_radio: 0.0\u001b[0m\n",
      "\u001b[32m2025-05-23 22:31:01.097\u001b[0m | \u001b[1mINFO    \u001b[0m | \u001b[36mmagic_pdf.libs.pdf_check\u001b[0m:\u001b[36mdetect_invalid_chars\u001b[0m:\u001b[36m67\u001b[0m - \u001b[1mcid_count: 0, text_len: 27180, cid_chars_radio: 0.0\u001b[0m\n",
      "\u001b[32m2025-05-23 22:31:02.433\u001b[0m | \u001b[1mINFO    \u001b[0m | \u001b[36mmagic_pdf.libs.pdf_check\u001b[0m:\u001b[36mdetect_invalid_chars\u001b[0m:\u001b[36m67\u001b[0m - \u001b[1mcid_count: 0, text_len: 34384, cid_chars_radio: 0.0\u001b[0m\n",
      "\u001b[32m2025-05-23 22:31:03.184\u001b[0m | \u001b[1mINFO    \u001b[0m | \u001b[36mmagic_pdf.libs.pdf_check\u001b[0m:\u001b[36mdetect_invalid_chars\u001b[0m:\u001b[36m67\u001b[0m - \u001b[1mcid_count: 0, text_len: 29336, cid_chars_radio: 0.0\u001b[0m\n",
      "\u001b[32m2025-05-23 22:31:04.068\u001b[0m | \u001b[1mINFO    \u001b[0m | \u001b[36mmagic_pdf.libs.pdf_check\u001b[0m:\u001b[36mdetect_invalid_chars\u001b[0m:\u001b[36m67\u001b[0m - \u001b[1mcid_count: 0, text_len: 27327, cid_chars_radio: 0.0\u001b[0m\n",
      "\u001b[32m2025-05-23 22:31:05.344\u001b[0m | \u001b[1mINFO    \u001b[0m | \u001b[36mmagic_pdf.libs.pdf_check\u001b[0m:\u001b[36mdetect_invalid_chars\u001b[0m:\u001b[36m67\u001b[0m - \u001b[1mcid_count: 16, text_len: 57310, cid_chars_radio: 0.00027980833129306426\u001b[0m\n",
      "\u001b[32m2025-05-23 22:31:06.414\u001b[0m | \u001b[1mINFO    \u001b[0m | \u001b[36mmagic_pdf.libs.pdf_check\u001b[0m:\u001b[36mdetect_invalid_chars\u001b[0m:\u001b[36m67\u001b[0m - \u001b[1mcid_count: 3, text_len: 36870, cid_chars_radio: 8.141333550435561e-05\u001b[0m\n",
      "\u001b[32m2025-05-23 22:31:07.718\u001b[0m | \u001b[1mINFO    \u001b[0m | \u001b[36mmagic_pdf.libs.pdf_check\u001b[0m:\u001b[36mdetect_invalid_chars\u001b[0m:\u001b[36m67\u001b[0m - \u001b[1mcid_count: 0, text_len: 32487, cid_chars_radio: 0.0\u001b[0m\n",
      "\u001b[32m2025-05-23 22:31:08.630\u001b[0m | \u001b[1mINFO    \u001b[0m | \u001b[36mmagic_pdf.libs.pdf_check\u001b[0m:\u001b[36mdetect_invalid_chars\u001b[0m:\u001b[36m67\u001b[0m - \u001b[1mcid_count: 4, text_len: 35384, cid_chars_radio: 0.00011312537119262423\u001b[0m\n",
      "\u001b[32m2025-05-23 22:31:09.639\u001b[0m | \u001b[1mINFO    \u001b[0m | \u001b[36mmagic_pdf.libs.pdf_check\u001b[0m:\u001b[36mdetect_invalid_chars\u001b[0m:\u001b[36m67\u001b[0m - \u001b[1mcid_count: 0, text_len: 26082, cid_chars_radio: 0.0\u001b[0m\n",
      "\u001b[32m2025-05-23 22:31:11.218\u001b[0m | \u001b[1mINFO    \u001b[0m | \u001b[36mmagic_pdf.libs.pdf_check\u001b[0m:\u001b[36mdetect_invalid_chars\u001b[0m:\u001b[36m67\u001b[0m - \u001b[1mcid_count: 40, text_len: 19140, cid_chars_radio: 0.0021208907741251328\u001b[0m\n",
      "\u001b[32m2025-05-23 22:31:12.628\u001b[0m | \u001b[1mINFO    \u001b[0m | \u001b[36mmagic_pdf.libs.pdf_check\u001b[0m:\u001b[36mdetect_invalid_chars\u001b[0m:\u001b[36m67\u001b[0m - \u001b[1mcid_count: 0, text_len: 40717, cid_chars_radio: 0.0\u001b[0m\n",
      "\u001b[32m2025-05-23 22:31:18.217\u001b[0m | \u001b[1mINFO    \u001b[0m | \u001b[36mmagic_pdf.libs.pdf_check\u001b[0m:\u001b[36mdetect_invalid_chars\u001b[0m:\u001b[36m67\u001b[0m - \u001b[1mcid_count: 11, text_len: 54839, cid_chars_radio: 0.00020086188006719744\u001b[0m\n",
      "\u001b[32m2025-05-23 22:31:19.343\u001b[0m | \u001b[1mINFO    \u001b[0m | \u001b[36mmagic_pdf.libs.pdf_check\u001b[0m:\u001b[36mdetect_invalid_chars\u001b[0m:\u001b[36m67\u001b[0m - \u001b[1mcid_count: 0, text_len: 55050, cid_chars_radio: 0.0\u001b[0m\n",
      "\u001b[32m2025-05-23 22:31:20.544\u001b[0m | \u001b[1mINFO    \u001b[0m | \u001b[36mmagic_pdf.libs.pdf_check\u001b[0m:\u001b[36mdetect_invalid_chars\u001b[0m:\u001b[36m67\u001b[0m - \u001b[1mcid_count: 0, text_len: 30155, cid_chars_radio: 0.0\u001b[0m\n",
      "\u001b[32m2025-05-23 22:31:22.629\u001b[0m | \u001b[1mINFO    \u001b[0m | \u001b[36mmagic_pdf.libs.pdf_check\u001b[0m:\u001b[36mdetect_invalid_chars\u001b[0m:\u001b[36m67\u001b[0m - \u001b[1mcid_count: 36, text_len: 37048, cid_chars_radio: 0.000977729494839761\u001b[0m\n",
      "\u001b[32m2025-05-23 22:31:24.014\u001b[0m | \u001b[1mINFO    \u001b[0m | \u001b[36mmagic_pdf.libs.pdf_check\u001b[0m:\u001b[36mdetect_invalid_chars\u001b[0m:\u001b[36m67\u001b[0m - \u001b[1mcid_count: 0, text_len: 34146, cid_chars_radio: 0.0\u001b[0m\n",
      "\u001b[32m2025-05-23 22:31:24.585\u001b[0m | \u001b[1mINFO    \u001b[0m | \u001b[36mmagic_pdf.libs.pdf_check\u001b[0m:\u001b[36mdetect_invalid_chars\u001b[0m:\u001b[36m67\u001b[0m - \u001b[1mcid_count: 3, text_len: 13578, cid_chars_radio: 0.0002212878955521133\u001b[0m\n",
      "\u001b[32m2025-05-23 22:31:25.485\u001b[0m | \u001b[1mINFO    \u001b[0m | \u001b[36mmagic_pdf.libs.pdf_check\u001b[0m:\u001b[36mdetect_invalid_chars\u001b[0m:\u001b[36m67\u001b[0m - \u001b[1mcid_count: 0, text_len: 42096, cid_chars_radio: 0.0\u001b[0m\n",
      "\u001b[32m2025-05-23 22:31:26.351\u001b[0m | \u001b[1mINFO    \u001b[0m | \u001b[36mmagic_pdf.libs.pdf_check\u001b[0m:\u001b[36mdetect_invalid_chars\u001b[0m:\u001b[36m67\u001b[0m - \u001b[1mcid_count: 0, text_len: 41050, cid_chars_radio: 0.0\u001b[0m\n",
      "\u001b[32m2025-05-23 22:31:27.133\u001b[0m | \u001b[1mINFO    \u001b[0m | \u001b[36mmagic_pdf.libs.pdf_check\u001b[0m:\u001b[36mdetect_invalid_chars\u001b[0m:\u001b[36m67\u001b[0m - \u001b[1mcid_count: 0, text_len: 28278, cid_chars_radio: 0.0\u001b[0m\n",
      "\u001b[32m2025-05-23 22:31:28.308\u001b[0m | \u001b[1mINFO    \u001b[0m | \u001b[36mmagic_pdf.libs.pdf_check\u001b[0m:\u001b[36mdetect_invalid_chars\u001b[0m:\u001b[36m67\u001b[0m - \u001b[1mcid_count: 3, text_len: 34827, cid_chars_radio: 8.619203585588692e-05\u001b[0m\n",
      "\u001b[32m2025-05-23 22:31:29.537\u001b[0m | \u001b[1mINFO    \u001b[0m | \u001b[36mmagic_pdf.libs.pdf_check\u001b[0m:\u001b[36mdetect_invalid_chars\u001b[0m:\u001b[36m67\u001b[0m - \u001b[1mcid_count: 0, text_len: 37117, cid_chars_radio: 0.0\u001b[0m\n",
      "\u001b[32m2025-05-23 22:31:31.989\u001b[0m | \u001b[1mINFO    \u001b[0m | \u001b[36mmagic_pdf.libs.pdf_check\u001b[0m:\u001b[36mdetect_invalid_chars\u001b[0m:\u001b[36m67\u001b[0m - \u001b[1mcid_count: 0, text_len: 55781, cid_chars_radio: 0.0\u001b[0m\n",
      "\u001b[32m2025-05-23 22:31:33.310\u001b[0m | \u001b[1mINFO    \u001b[0m | \u001b[36mmagic_pdf.libs.pdf_check\u001b[0m:\u001b[36mdetect_invalid_chars\u001b[0m:\u001b[36m67\u001b[0m - \u001b[1mcid_count: 1, text_len: 34314, cid_chars_radio: 2.914857026262862e-05\u001b[0m\n",
      "\u001b[32m2025-05-23 22:31:34.080\u001b[0m | \u001b[1mINFO    \u001b[0m | \u001b[36mmagic_pdf.libs.pdf_check\u001b[0m:\u001b[36mdetect_invalid_chars\u001b[0m:\u001b[36m67\u001b[0m - \u001b[1mcid_count: 0, text_len: 26309, cid_chars_radio: 0.0\u001b[0m\n",
      "\u001b[32m2025-05-23 22:31:35.075\u001b[0m | \u001b[1mINFO    \u001b[0m | \u001b[36mmagic_pdf.libs.pdf_check\u001b[0m:\u001b[36mdetect_invalid_chars\u001b[0m:\u001b[36m67\u001b[0m - \u001b[1mcid_count: 3, text_len: 32908, cid_chars_radio: 9.122145528628334e-05\u001b[0m\n",
      "\u001b[32m2025-05-23 22:31:35.913\u001b[0m | \u001b[1mINFO    \u001b[0m | \u001b[36mmagic_pdf.libs.pdf_check\u001b[0m:\u001b[36mdetect_invalid_chars\u001b[0m:\u001b[36m67\u001b[0m - \u001b[1mcid_count: 0, text_len: 41749, cid_chars_radio: 0.0\u001b[0m\n",
      "\u001b[32m2025-05-23 22:31:36.366\u001b[0m | \u001b[1mINFO    \u001b[0m | \u001b[36mmagic_pdf.libs.pdf_check\u001b[0m:\u001b[36mdetect_invalid_chars\u001b[0m:\u001b[36m67\u001b[0m - \u001b[1mcid_count: 0, text_len: 16303, cid_chars_radio: 0.0\u001b[0m\n",
      "\u001b[32m2025-05-23 22:31:37.725\u001b[0m | \u001b[1mINFO    \u001b[0m | \u001b[36mmagic_pdf.libs.pdf_check\u001b[0m:\u001b[36mdetect_invalid_chars\u001b[0m:\u001b[36m67\u001b[0m - \u001b[1mcid_count: 6, text_len: 37246, cid_chars_radio: 0.00016127298139984947\u001b[0m\n",
      "\u001b[32m2025-05-23 22:31:38.679\u001b[0m | \u001b[1mINFO    \u001b[0m | \u001b[36mmagic_pdf.libs.pdf_check\u001b[0m:\u001b[36mdetect_invalid_chars\u001b[0m:\u001b[36m67\u001b[0m - \u001b[1mcid_count: 5, text_len: 35936, cid_chars_radio: 0.00013929128593715177\u001b[0m\n",
      "\u001b[32m2025-05-23 22:31:39.736\u001b[0m | \u001b[1mINFO    \u001b[0m | \u001b[36mmagic_pdf.libs.pdf_check\u001b[0m:\u001b[36mdetect_invalid_chars\u001b[0m:\u001b[36m67\u001b[0m - \u001b[1mcid_count: 0, text_len: 37784, cid_chars_radio: 0.0\u001b[0m\n",
      "\u001b[32m2025-05-23 22:31:40.974\u001b[0m | \u001b[1mINFO    \u001b[0m | \u001b[36mmagic_pdf.libs.pdf_check\u001b[0m:\u001b[36mdetect_invalid_chars\u001b[0m:\u001b[36m67\u001b[0m - \u001b[1mcid_count: 8, text_len: 51280, cid_chars_radio: 0.0001561706945691641\u001b[0m\n",
      "\u001b[32m2025-05-23 22:31:41.855\u001b[0m | \u001b[1mINFO    \u001b[0m | \u001b[36mmagic_pdf.libs.pdf_check\u001b[0m:\u001b[36mdetect_invalid_chars\u001b[0m:\u001b[36m67\u001b[0m - \u001b[1mcid_count: 0, text_len: 34711, cid_chars_radio: 0.0\u001b[0m\n",
      "\u001b[32m2025-05-23 22:31:42.459\u001b[0m | \u001b[1mINFO    \u001b[0m | \u001b[36mmagic_pdf.libs.pdf_check\u001b[0m:\u001b[36mdetect_invalid_chars\u001b[0m:\u001b[36m67\u001b[0m - \u001b[1mcid_count: 0, text_len: 34332, cid_chars_radio: 0.0\u001b[0m\n",
      "\u001b[32m2025-05-23 22:31:43.320\u001b[0m | \u001b[1mINFO    \u001b[0m | \u001b[36mmagic_pdf.libs.pdf_check\u001b[0m:\u001b[36mdetect_invalid_chars\u001b[0m:\u001b[36m67\u001b[0m - \u001b[1mcid_count: 14, text_len: 38892, cid_chars_radio: 0.00036093637207383725\u001b[0m\n",
      "\u001b[32m2025-05-23 22:31:44.272\u001b[0m | \u001b[1mINFO    \u001b[0m | \u001b[36mmagic_pdf.libs.pdf_check\u001b[0m:\u001b[36mdetect_invalid_chars\u001b[0m:\u001b[36m67\u001b[0m - \u001b[1mcid_count: 0, text_len: 34286, cid_chars_radio: 0.0\u001b[0m\n",
      "\u001b[32m2025-05-23 22:31:45.041\u001b[0m | \u001b[1mINFO    \u001b[0m | \u001b[36mmagic_pdf.libs.pdf_check\u001b[0m:\u001b[36mdetect_invalid_chars\u001b[0m:\u001b[36m67\u001b[0m - \u001b[1mcid_count: 0, text_len: 44015, cid_chars_radio: 0.0\u001b[0m\n",
      "\u001b[32m2025-05-23 22:31:45.978\u001b[0m | \u001b[1mINFO    \u001b[0m | \u001b[36mmagic_pdf.libs.pdf_check\u001b[0m:\u001b[36mdetect_invalid_chars\u001b[0m:\u001b[36m67\u001b[0m - \u001b[1mcid_count: 0, text_len: 38063, cid_chars_radio: 0.0\u001b[0m\n",
      "\u001b[32m2025-05-23 22:31:46.562\u001b[0m | \u001b[1mINFO    \u001b[0m | \u001b[36mmagic_pdf.libs.pdf_check\u001b[0m:\u001b[36mdetect_invalid_chars\u001b[0m:\u001b[36m67\u001b[0m - \u001b[1mcid_count: 0, text_len: 18474, cid_chars_radio: 0.0\u001b[0m\n",
      "\u001b[32m2025-05-23 22:31:47.812\u001b[0m | \u001b[1mINFO    \u001b[0m | \u001b[36mmagic_pdf.libs.pdf_check\u001b[0m:\u001b[36mdetect_invalid_chars\u001b[0m:\u001b[36m67\u001b[0m - \u001b[1mcid_count: 294, text_len: 27808, cid_chars_radio: 0.01146288209606987\u001b[0m\n",
      "\u001b[32m2025-05-23 22:31:48.519\u001b[0m | \u001b[1mINFO    \u001b[0m | \u001b[36mmagic_pdf.libs.pdf_check\u001b[0m:\u001b[36mdetect_invalid_chars\u001b[0m:\u001b[36m67\u001b[0m - \u001b[1mcid_count: 0, text_len: 25627, cid_chars_radio: 0.0\u001b[0m\n",
      "\u001b[32m2025-05-23 22:31:48.856\u001b[0m | \u001b[1mINFO    \u001b[0m | \u001b[36mmagic_pdf.libs.pdf_check\u001b[0m:\u001b[36mdetect_invalid_chars\u001b[0m:\u001b[36m67\u001b[0m - \u001b[1mcid_count: 1, text_len: 12957, cid_chars_radio: 7.722007722007723e-05\u001b[0m\n",
      "\u001b[32m2025-05-23 22:31:49.795\u001b[0m | \u001b[1mINFO    \u001b[0m | \u001b[36mmagic_pdf.libs.pdf_check\u001b[0m:\u001b[36mdetect_invalid_chars\u001b[0m:\u001b[36m67\u001b[0m - \u001b[1mcid_count: 0, text_len: 50226, cid_chars_radio: 0.0\u001b[0m\n",
      "\u001b[32m2025-05-23 22:31:50.848\u001b[0m | \u001b[1mINFO    \u001b[0m | \u001b[36mmagic_pdf.libs.pdf_check\u001b[0m:\u001b[36mdetect_invalid_chars\u001b[0m:\u001b[36m67\u001b[0m - \u001b[1mcid_count: 0, text_len: 31908, cid_chars_radio: 0.0\u001b[0m\n",
      "\u001b[32m2025-05-23 22:31:51.618\u001b[0m | \u001b[1mINFO    \u001b[0m | \u001b[36mmagic_pdf.libs.pdf_check\u001b[0m:\u001b[36mdetect_invalid_chars\u001b[0m:\u001b[36m67\u001b[0m - \u001b[1mcid_count: 0, text_len: 33182, cid_chars_radio: 0.0\u001b[0m\n",
      "\u001b[32m2025-05-23 22:31:52.199\u001b[0m | \u001b[1mINFO    \u001b[0m | \u001b[36mmagic_pdf.libs.pdf_check\u001b[0m:\u001b[36mdetect_invalid_chars\u001b[0m:\u001b[36m67\u001b[0m - \u001b[1mcid_count: 0, text_len: 32237, cid_chars_radio: 0.0\u001b[0m\n",
      "\u001b[32m2025-05-23 22:31:52.806\u001b[0m | \u001b[1mINFO    \u001b[0m | \u001b[36mmagic_pdf.libs.pdf_check\u001b[0m:\u001b[36mdetect_invalid_chars\u001b[0m:\u001b[36m67\u001b[0m - \u001b[1mcid_count: 0, text_len: 29300, cid_chars_radio: 0.0\u001b[0m\n",
      "\u001b[32m2025-05-23 22:31:53.482\u001b[0m | \u001b[1mINFO    \u001b[0m | \u001b[36mmagic_pdf.libs.pdf_check\u001b[0m:\u001b[36mdetect_invalid_chars\u001b[0m:\u001b[36m67\u001b[0m - \u001b[1mcid_count: 0, text_len: 44216, cid_chars_radio: 0.0\u001b[0m\n",
      "\u001b[32m2025-05-23 22:31:54.557\u001b[0m | \u001b[1mINFO    \u001b[0m | \u001b[36mmagic_pdf.libs.pdf_check\u001b[0m:\u001b[36mdetect_invalid_chars\u001b[0m:\u001b[36m67\u001b[0m - \u001b[1mcid_count: 0, text_len: 40220, cid_chars_radio: 0.0\u001b[0m\n",
      "\u001b[32m2025-05-23 22:31:55.563\u001b[0m | \u001b[1mINFO    \u001b[0m | \u001b[36mmagic_pdf.libs.pdf_check\u001b[0m:\u001b[36mdetect_invalid_chars\u001b[0m:\u001b[36m67\u001b[0m - \u001b[1mcid_count: 8, text_len: 45193, cid_chars_radio: 0.00017723818596716663\u001b[0m\n",
      "\u001b[32m2025-05-23 22:31:55.965\u001b[0m | \u001b[1mINFO    \u001b[0m | \u001b[36mmagic_pdf.libs.pdf_check\u001b[0m:\u001b[36mdetect_invalid_chars\u001b[0m:\u001b[36m67\u001b[0m - \u001b[1mcid_count: 0, text_len: 16076, cid_chars_radio: 0.0\u001b[0m\n",
      "\u001b[32m2025-05-23 22:31:58.767\u001b[0m | \u001b[1mINFO    \u001b[0m | \u001b[36mmagic_pdf.libs.pdf_check\u001b[0m:\u001b[36mdetect_invalid_chars\u001b[0m:\u001b[36m67\u001b[0m - \u001b[1mcid_count: 2, text_len: 32043, cid_chars_radio: 6.24434106590902e-05\u001b[0m\n",
      "\u001b[32m2025-05-23 22:31:59.643\u001b[0m | \u001b[1mINFO    \u001b[0m | \u001b[36mmagic_pdf.libs.pdf_check\u001b[0m:\u001b[36mdetect_invalid_chars\u001b[0m:\u001b[36m67\u001b[0m - \u001b[1mcid_count: 2, text_len: 33933, cid_chars_radio: 5.8964002476488104e-05\u001b[0m\n",
      "\u001b[32m2025-05-23 22:32:00.703\u001b[0m | \u001b[1mINFO    \u001b[0m | \u001b[36mmagic_pdf.libs.pdf_check\u001b[0m:\u001b[36mdetect_invalid_chars\u001b[0m:\u001b[36m67\u001b[0m - \u001b[1mcid_count: 1, text_len: 34921, cid_chars_radio: 2.8641805579423727e-05\u001b[0m\n",
      "\u001b[32m2025-05-23 22:32:01.446\u001b[0m | \u001b[1mINFO    \u001b[0m | \u001b[36mmagic_pdf.libs.pdf_check\u001b[0m:\u001b[36mdetect_invalid_chars\u001b[0m:\u001b[36m67\u001b[0m - \u001b[1mcid_count: 0, text_len: 38527, cid_chars_radio: 0.0\u001b[0m\n",
      "\u001b[32m2025-05-23 22:32:02.780\u001b[0m | \u001b[1mINFO    \u001b[0m | \u001b[36mmagic_pdf.libs.pdf_check\u001b[0m:\u001b[36mdetect_invalid_chars\u001b[0m:\u001b[36m67\u001b[0m - \u001b[1mcid_count: 0, text_len: 23365, cid_chars_radio: 0.0\u001b[0m\n",
      "\u001b[32m2025-05-23 22:32:04.004\u001b[0m | \u001b[1mINFO    \u001b[0m | \u001b[36mmagic_pdf.libs.pdf_check\u001b[0m:\u001b[36mdetect_invalid_chars\u001b[0m:\u001b[36m67\u001b[0m - \u001b[1mcid_count: 1, text_len: 50123, cid_chars_radio: 1.9953707398834704e-05\u001b[0m\n",
      "\u001b[32m2025-05-23 22:32:05.368\u001b[0m | \u001b[1mINFO    \u001b[0m | \u001b[36mmagic_pdf.libs.pdf_check\u001b[0m:\u001b[36mdetect_invalid_chars\u001b[0m:\u001b[36m67\u001b[0m - \u001b[1mcid_count: 4, text_len: 69878, cid_chars_radio: 5.72688486097987e-05\u001b[0m\n",
      "\u001b[32m2025-05-23 22:32:06.252\u001b[0m | \u001b[1mINFO    \u001b[0m | \u001b[36mmagic_pdf.libs.pdf_check\u001b[0m:\u001b[36mdetect_invalid_chars\u001b[0m:\u001b[36m67\u001b[0m - \u001b[1mcid_count: 2, text_len: 34065, cid_chars_radio: 5.873715124816446e-05\u001b[0m\n",
      "\u001b[32m2025-05-23 22:32:08.235\u001b[0m | \u001b[1mINFO    \u001b[0m | \u001b[36mmagic_pdf.libs.pdf_check\u001b[0m:\u001b[36mdetect_invalid_chars\u001b[0m:\u001b[36m67\u001b[0m - \u001b[1mcid_count: 0, text_len: 37668, cid_chars_radio: 0.0\u001b[0m\n",
      "\u001b[32m2025-05-23 22:32:09.817\u001b[0m | \u001b[1mINFO    \u001b[0m | \u001b[36mmagic_pdf.libs.pdf_check\u001b[0m:\u001b[36mdetect_invalid_chars\u001b[0m:\u001b[36m67\u001b[0m - \u001b[1mcid_count: 0, text_len: 26589, cid_chars_radio: 0.0\u001b[0m\n",
      "\u001b[32m2025-05-23 22:32:10.607\u001b[0m | \u001b[1mINFO    \u001b[0m | \u001b[36mmagic_pdf.libs.pdf_check\u001b[0m:\u001b[36mdetect_invalid_chars\u001b[0m:\u001b[36m67\u001b[0m - \u001b[1mcid_count: 0, text_len: 20663, cid_chars_radio: 0.0\u001b[0m\n",
      "\u001b[32m2025-05-23 22:32:11.200\u001b[0m | \u001b[1mINFO    \u001b[0m | \u001b[36mmagic_pdf.libs.pdf_check\u001b[0m:\u001b[36mdetect_invalid_chars\u001b[0m:\u001b[36m67\u001b[0m - \u001b[1mcid_count: 0, text_len: 32312, cid_chars_radio: 0.0\u001b[0m\n",
      "\u001b[32m2025-05-23 22:32:12.050\u001b[0m | \u001b[1mINFO    \u001b[0m | \u001b[36mmagic_pdf.libs.pdf_check\u001b[0m:\u001b[36mdetect_invalid_chars\u001b[0m:\u001b[36m67\u001b[0m - \u001b[1mcid_count: 0, text_len: 22109, cid_chars_radio: 0.0\u001b[0m\n",
      "\u001b[32m2025-05-23 22:32:13.026\u001b[0m | \u001b[1mINFO    \u001b[0m | \u001b[36mmagic_pdf.libs.pdf_check\u001b[0m:\u001b[36mdetect_invalid_chars\u001b[0m:\u001b[36m67\u001b[0m - \u001b[1mcid_count: 55, text_len: 24333, cid_chars_radio: 0.002298082145990891\u001b[0m\n",
      "\u001b[32m2025-05-23 22:32:14.180\u001b[0m | \u001b[1mINFO    \u001b[0m | \u001b[36mmagic_pdf.libs.pdf_check\u001b[0m:\u001b[36mdetect_invalid_chars\u001b[0m:\u001b[36m67\u001b[0m - \u001b[1mcid_count: 0, text_len: 36365, cid_chars_radio: 0.0\u001b[0m\n",
      "\u001b[32m2025-05-23 22:32:14.902\u001b[0m | \u001b[1mINFO    \u001b[0m | \u001b[36mmagic_pdf.libs.pdf_check\u001b[0m:\u001b[36mdetect_invalid_chars\u001b[0m:\u001b[36m67\u001b[0m - \u001b[1mcid_count: 0, text_len: 19350, cid_chars_radio: 0.0\u001b[0m\n",
      "\u001b[32m2025-05-23 22:32:15.650\u001b[0m | \u001b[1mINFO    \u001b[0m | \u001b[36mmagic_pdf.libs.pdf_check\u001b[0m:\u001b[36mdetect_invalid_chars\u001b[0m:\u001b[36m67\u001b[0m - \u001b[1mcid_count: 0, text_len: 27955, cid_chars_radio: 0.0\u001b[0m\n",
      "\u001b[32m2025-05-23 22:32:16.307\u001b[0m | \u001b[1mINFO    \u001b[0m | \u001b[36mmagic_pdf.libs.pdf_check\u001b[0m:\u001b[36mdetect_invalid_chars\u001b[0m:\u001b[36m67\u001b[0m - \u001b[1mcid_count: 0, text_len: 25645, cid_chars_radio: 0.0\u001b[0m\n",
      "\u001b[32m2025-05-23 22:32:17.295\u001b[0m | \u001b[1mINFO    \u001b[0m | \u001b[36mmagic_pdf.libs.pdf_check\u001b[0m:\u001b[36mdetect_invalid_chars\u001b[0m:\u001b[36m67\u001b[0m - \u001b[1mcid_count: 0, text_len: 33215, cid_chars_radio: 0.0\u001b[0m\n",
      "\u001b[32m2025-05-23 22:32:18.999\u001b[0m | \u001b[1mINFO    \u001b[0m | \u001b[36mmagic_pdf.libs.pdf_check\u001b[0m:\u001b[36mdetect_invalid_chars\u001b[0m:\u001b[36m67\u001b[0m - \u001b[1mcid_count: 0, text_len: 15564, cid_chars_radio: 0.0\u001b[0m\n",
      "\u001b[32m2025-05-23 22:32:21.083\u001b[0m | \u001b[1mINFO    \u001b[0m | \u001b[36mmagic_pdf.libs.pdf_check\u001b[0m:\u001b[36mdetect_invalid_chars\u001b[0m:\u001b[36m67\u001b[0m - \u001b[1mcid_count: 1, text_len: 49228, cid_chars_radio: 2.031694433157253e-05\u001b[0m\n",
      "\u001b[32m2025-05-23 22:32:22.092\u001b[0m | \u001b[1mINFO    \u001b[0m | \u001b[36mmagic_pdf.libs.pdf_check\u001b[0m:\u001b[36mdetect_invalid_chars\u001b[0m:\u001b[36m67\u001b[0m - \u001b[1mcid_count: 1, text_len: 40823, cid_chars_radio: 2.4500196001568013e-05\u001b[0m\n",
      "\u001b[32m2025-05-23 22:32:22.899\u001b[0m | \u001b[1mINFO    \u001b[0m | \u001b[36mmagic_pdf.libs.pdf_check\u001b[0m:\u001b[36mdetect_invalid_chars\u001b[0m:\u001b[36m67\u001b[0m - \u001b[1mcid_count: 0, text_len: 37431, cid_chars_radio: 0.0\u001b[0m\n",
      "\u001b[32m2025-05-23 22:32:24.146\u001b[0m | \u001b[1mINFO    \u001b[0m | \u001b[36mmagic_pdf.libs.pdf_check\u001b[0m:\u001b[36mdetect_invalid_chars\u001b[0m:\u001b[36m67\u001b[0m - \u001b[1mcid_count: 6, text_len: 39678, cid_chars_radio: 0.00015137753557372085\u001b[0m\n",
      "\u001b[32m2025-05-23 22:32:25.062\u001b[0m | \u001b[1mINFO    \u001b[0m | \u001b[36mmagic_pdf.libs.pdf_check\u001b[0m:\u001b[36mdetect_invalid_chars\u001b[0m:\u001b[36m67\u001b[0m - \u001b[1mcid_count: 2, text_len: 35730, cid_chars_radio: 5.599731212901781e-05\u001b[0m\n",
      "\u001b[32m2025-05-23 22:32:26.303\u001b[0m | \u001b[1mINFO    \u001b[0m | \u001b[36mmagic_pdf.libs.pdf_check\u001b[0m:\u001b[36mdetect_invalid_chars\u001b[0m:\u001b[36m67\u001b[0m - \u001b[1mcid_count: 6, text_len: 48208, cid_chars_radio: 0.0001245691981895943\u001b[0m\n",
      "\u001b[32m2025-05-23 22:32:27.359\u001b[0m | \u001b[1mINFO    \u001b[0m | \u001b[36mmagic_pdf.libs.pdf_check\u001b[0m:\u001b[36mdetect_invalid_chars\u001b[0m:\u001b[36m67\u001b[0m - \u001b[1mcid_count: 0, text_len: 33197, cid_chars_radio: 0.0\u001b[0m\n",
      "\u001b[32m2025-05-23 22:32:30.970\u001b[0m | \u001b[1mINFO    \u001b[0m | \u001b[36mmagic_pdf.libs.pdf_check\u001b[0m:\u001b[36mdetect_invalid_chars\u001b[0m:\u001b[36m67\u001b[0m - \u001b[1mcid_count: 0, text_len: 47215, cid_chars_radio: 0.0\u001b[0m\n",
      "\u001b[32m2025-05-23 22:32:32.128\u001b[0m | \u001b[1mINFO    \u001b[0m | \u001b[36mmagic_pdf.libs.pdf_check\u001b[0m:\u001b[36mdetect_invalid_chars\u001b[0m:\u001b[36m67\u001b[0m - \u001b[1mcid_count: 2, text_len: 42485, cid_chars_radio: 4.708873872813317e-05\u001b[0m\n",
      "\u001b[32m2025-05-23 22:32:32.819\u001b[0m | \u001b[1mINFO    \u001b[0m | \u001b[36mmagic_pdf.libs.pdf_check\u001b[0m:\u001b[36mdetect_invalid_chars\u001b[0m:\u001b[36m67\u001b[0m - \u001b[1mcid_count: 2, text_len: 47281, cid_chars_radio: 4.2312818668415595e-05\u001b[0m\n",
      "\u001b[32m2025-05-23 22:32:34.729\u001b[0m | \u001b[1mINFO    \u001b[0m | \u001b[36mmagic_pdf.libs.pdf_check\u001b[0m:\u001b[36mdetect_invalid_chars\u001b[0m:\u001b[36m67\u001b[0m - \u001b[1mcid_count: 2, text_len: 54284, cid_chars_radio: 3.685141509433962e-05\u001b[0m\n",
      "\u001b[32m2025-05-23 22:32:38.907\u001b[0m | \u001b[1mINFO    \u001b[0m | \u001b[36mmagic_pdf.libs.pdf_check\u001b[0m:\u001b[36mdetect_invalid_chars\u001b[0m:\u001b[36m67\u001b[0m - \u001b[1mcid_count: 0, text_len: 20732, cid_chars_radio: 0.0\u001b[0m\n",
      "\u001b[32m2025-05-23 22:32:40.203\u001b[0m | \u001b[1mINFO    \u001b[0m | \u001b[36mmagic_pdf.libs.pdf_check\u001b[0m:\u001b[36mdetect_invalid_chars\u001b[0m:\u001b[36m67\u001b[0m - \u001b[1mcid_count: 0, text_len: 29335, cid_chars_radio: 0.0\u001b[0m\n",
      "\u001b[32m2025-05-23 22:32:40.908\u001b[0m | \u001b[1mINFO    \u001b[0m | \u001b[36mmagic_pdf.libs.pdf_check\u001b[0m:\u001b[36mdetect_invalid_chars\u001b[0m:\u001b[36m67\u001b[0m - \u001b[1mcid_count: 1, text_len: 26768, cid_chars_radio: 3.736781136728822e-05\u001b[0m\n",
      "\u001b[32m2025-05-23 22:32:41.699\u001b[0m | \u001b[1mINFO    \u001b[0m | \u001b[36mmagic_pdf.libs.pdf_check\u001b[0m:\u001b[36mdetect_invalid_chars\u001b[0m:\u001b[36m67\u001b[0m - \u001b[1mcid_count: 6, text_len: 34859, cid_chars_radio: 0.00017232960909900337\u001b[0m\n",
      "\u001b[32m2025-05-23 22:32:43.150\u001b[0m | \u001b[1mINFO    \u001b[0m | \u001b[36mmagic_pdf.libs.pdf_check\u001b[0m:\u001b[36mdetect_invalid_chars\u001b[0m:\u001b[36m67\u001b[0m - \u001b[1mcid_count: 0, text_len: 28983, cid_chars_radio: 0.0\u001b[0m\n",
      "\u001b[32m2025-05-23 22:32:44.598\u001b[0m | \u001b[1mINFO    \u001b[0m | \u001b[36mmagic_pdf.libs.pdf_check\u001b[0m:\u001b[36mdetect_invalid_chars\u001b[0m:\u001b[36m67\u001b[0m - \u001b[1mcid_count: 0, text_len: 35674, cid_chars_radio: 0.0\u001b[0m\n",
      "\u001b[32m2025-05-23 22:32:45.482\u001b[0m | \u001b[1mINFO    \u001b[0m | \u001b[36mmagic_pdf.libs.pdf_check\u001b[0m:\u001b[36mdetect_invalid_chars\u001b[0m:\u001b[36m67\u001b[0m - \u001b[1mcid_count: 0, text_len: 39894, cid_chars_radio: 0.0\u001b[0m\n",
      "\u001b[32m2025-05-23 22:32:46.598\u001b[0m | \u001b[1mINFO    \u001b[0m | \u001b[36mmagic_pdf.libs.pdf_check\u001b[0m:\u001b[36mdetect_invalid_chars\u001b[0m:\u001b[36m67\u001b[0m - \u001b[1mcid_count: 0, text_len: 54780, cid_chars_radio: 0.0\u001b[0m\n"
     ]
    },
    {
     "name": "stdout",
     "output_type": "stream",
     "text": [
      "MuPDF error: syntax error: could not parse color space (264 0 R)\n",
      "\n",
      "MuPDF error: syntax error: could not parse color space (532 0 R)\n",
      "\n"
     ]
    },
    {
     "name": "stderr",
     "output_type": "stream",
     "text": [
      "\u001b[32m2025-05-23 22:32:47.615\u001b[0m | \u001b[1mINFO    \u001b[0m | \u001b[36mmagic_pdf.libs.pdf_check\u001b[0m:\u001b[36mdetect_invalid_chars\u001b[0m:\u001b[36m67\u001b[0m - \u001b[1mcid_count: 0, text_len: 25989, cid_chars_radio: 0.0\u001b[0m\n"
     ]
    },
    {
     "name": "stdout",
     "output_type": "stream",
     "text": [
      "MuPDF error: syntax error: could not parse color space (264 0 R)\n",
      "\n",
      "MuPDF error: syntax error: could not parse color space (532 0 R)\n",
      "\n"
     ]
    },
    {
     "name": "stderr",
     "output_type": "stream",
     "text": [
      "\u001b[32m2025-05-23 22:32:48.968\u001b[0m | \u001b[1mINFO    \u001b[0m | \u001b[36mmagic_pdf.libs.pdf_check\u001b[0m:\u001b[36mdetect_invalid_chars\u001b[0m:\u001b[36m67\u001b[0m - \u001b[1mcid_count: 0, text_len: 24739, cid_chars_radio: 0.0\u001b[0m\n",
      "\u001b[32m2025-05-23 22:32:50.917\u001b[0m | \u001b[1mINFO    \u001b[0m | \u001b[36mmagic_pdf.libs.pdf_check\u001b[0m:\u001b[36mdetect_invalid_chars\u001b[0m:\u001b[36m67\u001b[0m - \u001b[1mcid_count: 0, text_len: 29727, cid_chars_radio: 0.0\u001b[0m\n",
      "\u001b[32m2025-05-23 22:32:52.428\u001b[0m | \u001b[1mINFO    \u001b[0m | \u001b[36mmagic_pdf.libs.pdf_check\u001b[0m:\u001b[36mdetect_invalid_chars\u001b[0m:\u001b[36m67\u001b[0m - \u001b[1mcid_count: 1, text_len: 41692, cid_chars_radio: 2.3990020151616926e-05\u001b[0m\n",
      "\u001b[32m2025-05-23 22:32:53.595\u001b[0m | \u001b[1mINFO    \u001b[0m | \u001b[36mmagic_pdf.libs.pdf_check\u001b[0m:\u001b[36mdetect_invalid_chars\u001b[0m:\u001b[36m67\u001b[0m - \u001b[1mcid_count: 1, text_len: 27641, cid_chars_radio: 3.6187305493232976e-05\u001b[0m\n",
      "\u001b[32m2025-05-23 22:32:54.462\u001b[0m | \u001b[1mINFO    \u001b[0m | \u001b[36mmagic_pdf.libs.pdf_check\u001b[0m:\u001b[36mdetect_invalid_chars\u001b[0m:\u001b[36m67\u001b[0m - \u001b[1mcid_count: 0, text_len: 52346, cid_chars_radio: 0.0\u001b[0m\n",
      "\u001b[32m2025-05-23 22:32:55.843\u001b[0m | \u001b[1mINFO    \u001b[0m | \u001b[36mmagic_pdf.libs.pdf_check\u001b[0m:\u001b[36mdetect_invalid_chars\u001b[0m:\u001b[36m67\u001b[0m - \u001b[1mcid_count: 0, text_len: 53083, cid_chars_radio: 0.0\u001b[0m\n",
      "\u001b[32m2025-05-23 22:32:56.991\u001b[0m | \u001b[1mINFO    \u001b[0m | \u001b[36mmagic_pdf.libs.pdf_check\u001b[0m:\u001b[36mdetect_invalid_chars\u001b[0m:\u001b[36m67\u001b[0m - \u001b[1mcid_count: 0, text_len: 28510, cid_chars_radio: 0.0\u001b[0m\n",
      "\u001b[32m2025-05-23 22:32:57.491\u001b[0m | \u001b[1mINFO    \u001b[0m | \u001b[36mmagic_pdf.model.doc_analyze_by_custom_model\u001b[0m:\u001b[36mbatch_doc_analyze\u001b[0m:\u001b[36m220\u001b[0m - \u001b[1mBatch 1/10: 200 pages/1850 pages\u001b[0m\n",
      "\u001b[32m2025-05-23 22:32:57.491\u001b[0m | \u001b[1mINFO    \u001b[0m | \u001b[36mmagic_pdf.model.doc_analyze_by_custom_model\u001b[0m:\u001b[36mmay_batch_image_analyze\u001b[0m:\u001b[36m275\u001b[0m - \u001b[1mgpu_memory: 24 GB, batch_ratio: 16\u001b[0m\n",
      "Layout Predict: 100%|██████████| 200/200 [00:10<00:00, 19.74it/s]\n",
      "MFD Predict: 100%|██████████| 200/200 [00:08<00:00, 23.95it/s]\n",
      "MFR Predict: 100%|██████████| 1161/1161 [00:09<00:00, 123.48it/s]\n",
      "OCR-det Predict: 100%|██████████| 200/200 [00:35<00:00,  5.57it/s]\n",
      "Table Predict: 100%|██████████| 67/67 [00:14<00:00,  4.47it/s]\n",
      "\u001b[32m2025-05-23 22:34:16.689\u001b[0m | \u001b[1mINFO    \u001b[0m | \u001b[36mmagic_pdf.model.doc_analyze_by_custom_model\u001b[0m:\u001b[36mbatch_doc_analyze\u001b[0m:\u001b[36m220\u001b[0m - \u001b[1mBatch 2/10: 400 pages/1850 pages\u001b[0m\n",
      "\u001b[32m2025-05-23 22:34:16.690\u001b[0m | \u001b[1mINFO    \u001b[0m | \u001b[36mmagic_pdf.model.doc_analyze_by_custom_model\u001b[0m:\u001b[36mmay_batch_image_analyze\u001b[0m:\u001b[36m275\u001b[0m - \u001b[1mgpu_memory: 24 GB, batch_ratio: 16\u001b[0m\n",
      "Layout Predict: 100%|██████████| 200/200 [00:09<00:00, 20.41it/s]\n",
      "MFD Predict: 100%|██████████| 200/200 [00:08<00:00, 24.77it/s]\n",
      "MFR Predict:  42%|████▏     | 512/1216 [00:13<00:03, 209.76it/s]"
     ]
    }
   ],
   "source": [
    "# demo batch\n",
    "\n",
    "\n",
    "import os\n",
    "\n",
    "# 设置使用的GPU（如使用第1块GPU，索引为1）\n",
    "os.environ[\"CUDA_VISIBLE_DEVICES\"] = \"1\"\n",
    "\n",
    "            \n",
    "from pathlib import Path\n",
    "from magic_pdf.data.batch_build_dataset import batch_build_dataset\n",
    "from magic_pdf.tools.common import batch_do_parse\n",
    "\n",
    "import torch\n",
    "print(f\"可用GPU数量: {torch.cuda.device_count()}\")\n",
    "for i in range(torch.cuda.device_count()):\n",
    "    print(f\"GPU {i}: {torch.cuda.get_device_name(i)}\")\n",
    "\n",
    "# 检查当前可见的GPU\n",
    "print(f\"当前可见的GPU: {os.environ['CUDA_VISIBLE_DEVICES']}\")\n",
    "#torch.cuda.set_device(1)\n",
    "# 查看当前可用的GPU数量和名称\n",
    "print(f\"可用GPU数量: {torch.cuda.device_count()}\")\n",
    "for i in range(torch.cuda.device_count()):\n",
    "    print(f\"GPU {i}: {torch.cuda.get_device_name(i)}\")\n",
    "\n",
    "\n",
    "__dir__ = os.getcwd()\n",
    "parsed_list_file = os.path.join(__dir__, \"parsed_list.txt\")\n",
    "\n",
    "# Load the parsed list if it exists\n",
    "if os.path.exists(parsed_list_file):\n",
    "    with open(parsed_list_file, \"r\") as f:\n",
    "        parsed_list = set(f.read().splitlines())\n",
    "else:\n",
    "    with open(parsed_list_file, \"w\") as f:\n",
    "        f.write(\"\")  # Create an empty file\n",
    "    parsed_list = set()\n",
    "\n",
    "# Get all files in the downloads directory\n",
    "downloads_dir = os.path.join(__dir__, \"downloads\")\n",
    "#downloads_dir = os.path.join(__dir__, \"PDF\")\n",
    "all_files = [os.path.join(downloads_dir, f) for f in os.listdir(downloads_dir) if f.endswith(\".pdf\")]\n",
    "all_files_tobe = []\n",
    "# Process files not in the parsed list\n",
    "for pdf_file_name in all_files:\n",
    "    if pdf_file_name not in parsed_list:\n",
    "        all_files_tobe.append(pdf_file_name)\n",
    " \n",
    "\n",
    "output_dir = os.path.join(__dir__, \"output\")\n",
    "method = \"auto\"\n",
    "lang = \"\"\n",
    "\n",
    "\n",
    "\n",
    "# 构建数据集，4个worker\n",
    "# 将 all_files_tobe 拆分为每100个一组的子列表\n",
    "def chunk_list(lst, chunk_size):\n",
    "    for i in range(0, len(lst), chunk_size):\n",
    "        yield lst[i:i + chunk_size]\n",
    "\n",
    "chunks = list(chunk_list(all_files_tobe, 100))\n",
    "\n",
    "# 示例：打印每个分组的文件数量\n",
    "\n",
    "for idx, chunk in enumerate(chunks):\n",
    "    print(f\"Chunk {idx+1}: {len(chunk)} files\")\n",
    "\n",
    "    datasets = batch_build_dataset(chunk, 10, lang)\n",
    "\n",
    "    # 可选：设置每批次推理的页数\n",
    "    #os.environ[\"MINERU_MIN_BATCH_INFERENCE_SIZE\"] = \"200\"\n",
    "\n",
    "    # 批量解析\n",
    "    output_namelist = ['.'.join(os.path.basename(doc_path).split('.')[0:2]) for doc_path in chunk ]\n",
    "\n",
    "    batch_do_parse(output_dir, output_namelist, datasets, method)\n",
    "\n",
    "#datasets = batch_build_dataset(all_files_tobe[:100], 10, lang)\n",
    "#output_namelist = ['.'.join(os.path.basename(doc_path).split('.')[0:2]) for doc_path in all_files_tobe[:100] ]\n",
    "#batch_do_parse(output_dir, output_namelist, datasets, method)"
   ]
  },
  {
   "cell_type": "code",
   "execution_count": 10,
   "id": "8f48f6e8",
   "metadata": {},
   "outputs": [
    {
     "data": {
      "text/plain": [
       "['d:\\\\DataAnalysis\\\\arxiv\\\\downloads\\\\2005.11401v4.Retrieval_Augmented_Generation_for_Knowledge_Intensive_NLP_Tasks.pdf',\n",
       " 'd:\\\\DataAnalysis\\\\arxiv\\\\downloads\\\\2006.05405v5.Retrieval_Augmented_Generation_for_Code_Summarization_via_Hybrid_GNN.pdf',\n",
       " 'd:\\\\DataAnalysis\\\\arxiv\\\\downloads\\\\2102.04643v1.Efficient_Retrieval_Augmented_Generation_from_Unstructured_Knowledge_for_Task_Oriented_Dialog.pdf',\n",
       " 'd:\\\\DataAnalysis\\\\arxiv\\\\downloads\\\\2104.08610v1.Zero_shot_Slot_Filling_with_DPR_and_RAG.pdf',\n",
       " 'd:\\\\DataAnalysis\\\\arxiv\\\\downloads\\\\2108.13934v2.Robust_Retrieval_Augmented_Generation_for_Zero_shot_Slot_Filling.pdf',\n",
       " 'd:\\\\DataAnalysis\\\\arxiv\\\\downloads\\\\2109.03754v2.Memory_and_Knowledge_Augmented_Language_Models_for_Inferring_Salience_in_Long_Form_Stories.pdf',\n",
       " 'd:\\\\DataAnalysis\\\\arxiv\\\\downloads\\\\2109.07263v2.End_to_End_Learning_of_Flowchart_Grounded_Task_Oriented_Dialogs.pdf',\n",
       " 'd:\\\\DataAnalysis\\\\arxiv\\\\downloads\\\\2112.08688v2.Evidentiality_guided_Generation_for_Knowledge_Intensive_NLP_Tasks.pdf',\n",
       " 'd:\\\\DataAnalysis\\\\arxiv\\\\downloads\\\\2202.01110v2.A_Survey_on_Retrieval_Augmented_Text_Generation.pdf',\n",
       " 'd:\\\\DataAnalysis\\\\arxiv\\\\downloads\\\\2203.16714v1.End_to_End_Table_Question_Answering_via_Retrieval_Augmented_Generation.pdf']"
      ]
     },
     "execution_count": 10,
     "metadata": {},
     "output_type": "execute_result"
    }
   ],
   "source": [
    "all_files_tobe[:10]"
   ]
  },
  {
   "cell_type": "code",
   "execution_count": 14,
   "id": "22bb0b50",
   "metadata": {},
   "outputs": [
    {
     "data": {
      "text/plain": [
       "78"
      ]
     },
     "execution_count": 14,
     "metadata": {},
     "output_type": "execute_result"
    }
   ],
   "source": [
    "len(all_files_tobe)"
   ]
  },
  {
   "cell_type": "code",
   "execution_count": 12,
   "id": "3eb05edb",
   "metadata": {},
   "outputs": [
    {
     "data": {
      "text/plain": [
       "['d:\\\\DataAnalysis\\\\arxiv\\\\downloads\\\\2005.11401v4.Retrieval_Augmented_Generation_for_Knowledge_Intensive_NLP_Tasks.pdf',\n",
       " 'd:\\\\DataAnalysis\\\\arxiv\\\\downloads\\\\2006.05405v5.Retrieval_Augmented_Generation_for_Code_Summarization_via_Hybrid_GNN.pdf',\n",
       " 'd:\\\\DataAnalysis\\\\arxiv\\\\downloads\\\\2102.04643v1.Efficient_Retrieval_Augmented_Generation_from_Unstructured_Knowledge_for_Task_Oriented_Dialog.pdf',\n",
       " 'd:\\\\DataAnalysis\\\\arxiv\\\\downloads\\\\2104.08610v1.Zero_shot_Slot_Filling_with_DPR_and_RAG.pdf',\n",
       " 'd:\\\\DataAnalysis\\\\arxiv\\\\downloads\\\\2108.13934v2.Robust_Retrieval_Augmented_Generation_for_Zero_shot_Slot_Filling.pdf',\n",
       " 'd:\\\\DataAnalysis\\\\arxiv\\\\downloads\\\\2109.03754v2.Memory_and_Knowledge_Augmented_Language_Models_for_Inferring_Salience_in_Long_Form_Stories.pdf',\n",
       " 'd:\\\\DataAnalysis\\\\arxiv\\\\downloads\\\\2109.07263v2.End_to_End_Learning_of_Flowchart_Grounded_Task_Oriented_Dialogs.pdf',\n",
       " 'd:\\\\DataAnalysis\\\\arxiv\\\\downloads\\\\2112.08688v2.Evidentiality_guided_Generation_for_Knowledge_Intensive_NLP_Tasks.pdf',\n",
       " 'd:\\\\DataAnalysis\\\\arxiv\\\\downloads\\\\2202.01110v2.A_Survey_on_Retrieval_Augmented_Text_Generation.pdf',\n",
       " 'd:\\\\DataAnalysis\\\\arxiv\\\\downloads\\\\2203.16714v1.End_to_End_Table_Question_Answering_via_Retrieval_Augmented_Generation.pdf',\n",
       " 'd:\\\\DataAnalysis\\\\arxiv\\\\downloads\\\\2204.03985v2.KGI__An_Integrated_Framework_for_Knowledge_Intensive_Language_Tasks.pdf',\n",
       " 'd:\\\\DataAnalysis\\\\arxiv\\\\downloads\\\\2207.03030v1.Multi_Task_Retrieval_Augmented_Text_Generation_with_Relevance_Sampling.pdf',\n",
       " 'd:\\\\DataAnalysis\\\\arxiv\\\\downloads\\\\2209.14290v1.FiD_Light__Efficient_and_Effective_Retrieval_Augmented_Text_Generation.pdf',\n",
       " 'd:\\\\DataAnalysis\\\\arxiv\\\\downloads\\\\2210.02928v2.MuRAG__Multimodal_Retrieval_Augmented_Generator_for_Open_Question_Answering_over_Images_and_Text.pdf',\n",
       " 'd:\\\\DataAnalysis\\\\arxiv\\\\downloads\\\\2210.04873v2.CORE__A_Retrieve_then_Edit_Framework_for_Counterfactual_Data_Generation.pdf',\n",
       " 'd:\\\\DataAnalysis\\\\arxiv\\\\downloads\\\\2210.12777v4.Retrieval_Augmented_and_Knowledge_Grounded_Language_Models_for_Faithful_Clinical_Medicine.pdf',\n",
       " 'd:\\\\DataAnalysis\\\\arxiv\\\\downloads\\\\2211.07067v1.Retrieval_Augmented_Generative_Question_Answering_for_Event_Argument_Extraction.pdf',\n",
       " 'd:\\\\DataAnalysis\\\\arxiv\\\\downloads\\\\2301.02401v1.You_Truly_Understand_What_I_Need__Intellectual_and_Friendly_Dialogue_Agents_grounding_Knowledge_and_Persona.pdf',\n",
       " 'd:\\\\DataAnalysis\\\\arxiv\\\\downloads\\\\2304.14732v7.Search_in_the_Chain__Interactively_Enhancing_Large_Language_Models_with_Search_for_Knowledge_intensive_Tasks.pdf',\n",
       " 'd:\\\\DataAnalysis\\\\arxiv\\\\downloads\\\\2305.01526v1.Huatuo_26M__a_Large_scale_Chinese_Medical_QA_Dataset.pdf',\n",
       " 'd:\\\\DataAnalysis\\\\arxiv\\\\downloads\\\\2305.02437v3.Lift_Yourself_Up__Retrieval_augmented_Text_Generation_with_Self_Memory.pdf',\n",
       " 'd:\\\\DataAnalysis\\\\arxiv\\\\downloads\\\\2305.06983v2.Active_Retrieval_Augmented_Generation.pdf',\n",
       " 'd:\\\\DataAnalysis\\\\arxiv\\\\downloads\\\\2305.15344v1.Learning_Answer_Generation_using_Supervision_from_Automatic_Question_Answering_Evaluators.pdf',\n",
       " 'd:\\\\DataAnalysis\\\\arxiv\\\\downloads\\\\2305.17740v2.Bridging_the_Language_Gap__Dynamic_Learning_Strategies_for_Improving_Multilingual_Performance_in_LLMs.pdf',\n",
       " 'd:\\\\DataAnalysis\\\\arxiv\\\\downloads\\\\2305.18846v1.Knowledge_Graph_Augmented_Language_Models_for_Knowledge_Grounded_Dialogue_Generation.pdf',\n",
       " 'd:\\\\DataAnalysis\\\\arxiv\\\\downloads\\\\2306.06851v2.UniPoll__A_Unified_Social_Media_Poll_Generation_Framework_via_Multi_Objective_Optimization.pdf',\n",
       " 'd:\\\\DataAnalysis\\\\arxiv\\\\downloads\\\\2307.02694v5.Loss_Functions_and_Metrics_in_Deep_Learning.pdf',\n",
       " 'd:\\\\DataAnalysis\\\\arxiv\\\\downloads\\\\2307.04642v2.TRAQ__Trustworthy_Retrieval_Augmented_Question_Answering_via_Conformal_Prediction.pdf',\n",
       " 'd:\\\\DataAnalysis\\\\arxiv\\\\downloads\\\\2307.05915v2.Prompt_Generate_Train__PGT___Few_shot_Domain_Adaption_of_Retrieval_Augmented_Generation_Models_for_Open_Book_Question_Answering.pdf',\n",
       " 'd:\\\\DataAnalysis\\\\arxiv\\\\downloads\\\\2308.00479v1.Retrieval_Augmented_Generation_and_Representative_Vector_Summarization_for_large_unstructured_textual_data_in_Medical_Education.pdf',\n",
       " 'd:\\\\DataAnalysis\\\\arxiv\\\\downloads\\\\2308.04662v3.VulLibGen__Generating_Names_of_Vulnerability_Affected_Packages_via_a_Large_Language_Model.pdf',\n",
       " 'd:\\\\DataAnalysis\\\\arxiv\\\\downloads\\\\2308.12574v2.Modeling_Uncertainty_and_Using_Post_fusion_as_Fallback_Improves_Retrieval_Augmented_Generation_with_LLMs.pdf',\n",
       " 'd:\\\\DataAnalysis\\\\arxiv\\\\downloads\\\\2309.01105v2.A_Study_on_the_Implementation_of_Generative_AI_Services_Using_an_Enterprise_Data_Based_LLM_Application_Architecture.pdf',\n",
       " 'd:\\\\DataAnalysis\\\\arxiv\\\\downloads\\\\2309.01431v2.Benchmarking_Large_Language_Models_in_Retrieval_Augmented_Generation.pdf',\n",
       " 'd:\\\\DataAnalysis\\\\arxiv\\\\downloads\\\\2309.08788v2.BioinspiredLLM__Conversational_Large_Language_Model_for_the_Mechanics_of_Biological_and_Bio_inspired_Materials.pdf',\n",
       " 'd:\\\\DataAnalysis\\\\arxiv\\\\downloads\\\\2309.15217v2.Ragas__Automated_Evaluation_of_Retrieval_Augmented_Generation.pdf',\n",
       " 'd:\\\\DataAnalysis\\\\arxiv\\\\downloads\\\\2309.15427v2.Graph_Neural_Prompting_with_Large_Language_Models.pdf',\n",
       " 'd:\\\\DataAnalysis\\\\arxiv\\\\downloads\\\\2309.16035v3.MKRAG__Medical_Knowledge_Retrieval_Augmented_Generation_for_Medical_Question_Answering.pdf',\n",
       " 'd:\\\\DataAnalysis\\\\arxiv\\\\downloads\\\\2309.17415v3.Intuitive_or_Dependent__Investigating_LLMs__Behavior_Style_to_Conflicting_Prompts.pdf',\n",
       " 'd:\\\\DataAnalysis\\\\arxiv\\\\downloads\\\\2310.01427v1.Attention_Sorting_Combats_Recency_Bias_In_Long_Context_Language_Models.pdf',\n",
       " 'd:\\\\DataAnalysis\\\\arxiv\\\\downloads\\\\2310.01429v1.Chatmap___Large_Language_Model_Interaction_with_Cartographic_Data.pdf',\n",
       " 'd:\\\\DataAnalysis\\\\arxiv\\\\downloads\\\\2310.04963v3.LLM4VV__Developing_LLM_Driven_Testsuite_for_Compiler_Validation.pdf',\n",
       " 'd:\\\\DataAnalysis\\\\arxiv\\\\downloads\\\\2310.06225v2.GPT_4_as_an_Agronomist_Assistant__Answering_Agriculture_Exams_Using_Large_Language_Models.pdf',\n",
       " 'd:\\\\DataAnalysis\\\\arxiv\\\\downloads\\\\2310.07581v2.Qlarify__Recursively_Expandable_Abstracts_for_Directed_Information_Retrieval_over_Scientific_Papers.pdf',\n",
       " 'd:\\\\DataAnalysis\\\\arxiv\\\\downloads\\\\2310.07793v5.GenTKG__Generative_Forecasting_on_Temporal_Knowledge_Graph_with_Large_Language_Models.pdf',\n",
       " 'd:\\\\DataAnalysis\\\\arxiv\\\\downloads\\\\2310.09089v2.Qilin_Med__Multi_stage_Knowledge_Injection_Advanced_Medical_Large_Language_Model.pdf',\n",
       " 'd:\\\\DataAnalysis\\\\arxiv\\\\downloads\\\\2310.09536v1.CarExpert__Leveraging_Large_Language_Models_for_In_Car_Conversational_Question_Answering.pdf',\n",
       " 'd:\\\\DataAnalysis\\\\arxiv\\\\downloads\\\\2310.10445v1.MechGPT__a_language_based_strategy_for_mechanics_and_materials_modeling_that_connects_knowledge_across_scales__disciplines_and_modalities.pdf',\n",
       " 'd:\\\\DataAnalysis\\\\arxiv\\\\downloads\\\\2310.10760v1.Towards_reducing_hallucination_in_extracting_information_from_financial_reports_using_Large_Language_Models.pdf',\n",
       " 'd:\\\\DataAnalysis\\\\arxiv\\\\downloads\\\\2310.11511v1.Self_RAG__Learning_to_Retrieve__Generate__and_Critique_through_Self_Reflection.pdf',\n",
       " 'd:\\\\DataAnalysis\\\\arxiv\\\\downloads\\\\2310.12214v7.InferDPT__Privacy_Preserving_Inference_for_Black_box_Large_Language_Model.pdf',\n",
       " 'd:\\\\DataAnalysis\\\\arxiv\\\\downloads\\\\2310.15205v2.DISC_FinLLM__A_Chinese_Financial_Large_Language_Model_based_on_Multiple_Experts_Fine_tuning.pdf',\n",
       " 'd:\\\\DataAnalysis\\\\arxiv\\\\downloads\\\\2310.18344v1.Chainpoll__A_high_efficacy_method_for_LLM_hallucination_detection.pdf',\n",
       " 'd:\\\\DataAnalysis\\\\arxiv\\\\downloads\\\\2310.20158v1.GAR_meets_RAG_Paradigm_for_Zero_Shot_Information_Retrieval.pdf',\n",
       " 'd:\\\\DataAnalysis\\\\arxiv\\\\downloads\\\\2311.02597v1.FloodBrain__Flood_Disaster_Reporting_by_Web_based_Retrieval_Augmented_Generation_with_an_LLM.pdf',\n",
       " 'd:\\\\DataAnalysis\\\\arxiv\\\\downloads\\\\2311.02775v3.AI_TA__Towards_an_Intelligent_Question_Answer_Teaching_Assistant_using_Open_Source_LLMs.pdf',\n",
       " 'd:\\\\DataAnalysis\\\\arxiv\\\\downloads\\\\2311.04177v1.Enhancing_LLM_Intelligence_with_ARM_RAG__Auxiliary_Rationale_Memory_for_Retrieval_Augmented_Generation.pdf',\n",
       " 'd:\\\\DataAnalysis\\\\arxiv\\\\downloads\\\\2311.04310v1.KNIMEZoBot__Enhancing_Literature_Review_with_Zotero_and_KNIME_OpenAI_Integration_using_Retrieval_Augmented_Generation.pdf',\n",
       " 'd:\\\\DataAnalysis\\\\arxiv\\\\downloads\\\\2311.05169v1.Large_Language_Models_and_Prompt_Engineering_for_Biomedical_Query_Focused_Multi_Document_Summarisation.pdf',\n",
       " 'd:\\\\DataAnalysis\\\\arxiv\\\\downloads\\\\2311.05261v1.RAGLog__Log_Anomaly_Detection_using_Retrieval_Augmented_Generation.pdf',\n",
       " 'd:\\\\DataAnalysis\\\\arxiv\\\\downloads\\\\2311.06102v1.Making_LLMs_Worth_Every_Penny__Resource_Limited_Text_Classification_in_Banking.pdf',\n",
       " 'd:\\\\DataAnalysis\\\\arxiv\\\\downloads\\\\2311.07536v3.A_Comprehensive_Evaluation_of_GPT_4V_on_Knowledge_Intensive_Visual_Question_Answering.pdf',\n",
       " 'd:\\\\DataAnalysis\\\\arxiv\\\\downloads\\\\2311.08377v1.Learning_to_Filter_Context_for_Retrieval_Augmented_Generation.pdf',\n",
       " 'd:\\\\DataAnalysis\\\\arxiv\\\\downloads\\\\2311.09114v2.Ever__Mitigating_Hallucination_in_Large_Language_Models_through_Real_Time_Verification_and_Rectification.pdf',\n",
       " 'd:\\\\DataAnalysis\\\\arxiv\\\\downloads\\\\2311.10384v2.Retrieval_Augmented_Generation_of_Symbolic_Music_with_LLMs.pdf',\n",
       " 'd:\\\\DataAnalysis\\\\arxiv\\\\downloads\\\\2311.10776v6.Chemist_X__Large_Language_Model_empowered_Agent_for_Reaction_Condition_Recommendation_in_Chemical_Synthesis.pdf',\n",
       " 'd:\\\\DataAnalysis\\\\arxiv\\\\downloads\\\\2311.12955v1.Don_t_forget_private_retrieval__distributed_private_similarity_search_for_large_language_models.pdf',\n",
       " 'd:\\\\DataAnalysis\\\\arxiv\\\\downloads\\\\2311.13538v5.AlignedCoT__Prompting_Large_Language_Models_via_Native_Speaking_Demonstrations.pdf',\n",
       " 'd:\\\\DataAnalysis\\\\arxiv\\\\downloads\\\\2311.13878v1.Minimizing_Factual_Inconsistency_and_Hallucination_in_Large_Language_Models.pdf',\n",
       " 'd:\\\\DataAnalysis\\\\arxiv\\\\downloads\\\\2311.15548v1.Deficiency_of_Large_Language_Models_in_Finance__An_Empirical_Examination_of_Hallucination.pdf',\n",
       " 'd:\\\\DataAnalysis\\\\arxiv\\\\downloads\\\\2311.17330v2.Biomedical_knowledge_graph_optimized_prompt_generation_for_large_language_models.pdf',\n",
       " 'd:\\\\DataAnalysis\\\\arxiv\\\\downloads\\\\2311.17696v7.How_to_Build_an_Adaptive_AI_Tutor_for_Any_Course_Using_Knowledge_Graph_Enhanced_Retrieval_Augmented_Generation__KG_RAG_.pdf',\n",
       " 'd:\\\\DataAnalysis\\\\arxiv\\\\downloads\\\\2311.17722v1.SenTest__Evaluating_Robustness_of_Sentence_Encoders.pdf',\n",
       " 'd:\\\\DataAnalysis\\\\arxiv\\\\downloads\\\\2311.18397v1.IAG__Induction_Augmented_Generation_Framework_for_Answering_Reasoning_Questions.pdf',\n",
       " 'd:\\\\DataAnalysis\\\\arxiv\\\\downloads\\\\2312.02073v3.A_Glitch_in_the_Matrix__Locating_and_Detecting_Language_Model_Grounding_with_Fakepedia.pdf',\n",
       " 'd:\\\\DataAnalysis\\\\arxiv\\\\downloads\\\\2312.05733v1.DevBots_can_co_design_APIs.pdf',\n",
       " 'd:\\\\DataAnalysis\\\\arxiv\\\\downloads\\\\2312.05934v3.Fine_Tuning_or_Retrieval__Comparing_Knowledge_Injection_in_LLMs.pdf',\n",
       " 'd:\\\\DataAnalysis\\\\arxiv\\\\downloads\\\\2312.06457v1.Large_Language_Models_with_Retrieval_Augmented_Generation_for_Zero_Shot_Disease_Phenotyping.pdf',\n",
       " 'd:\\\\DataAnalysis\\\\arxiv\\\\downloads\\\\2312.07104v2.SGLang__Efficient_Execution_of_Structured_Language_Model_Programs.pdf',\n",
       " 'd:\\\\DataAnalysis\\\\arxiv\\\\downloads\\\\2312.07559v2.PaperQA__Retrieval_Augmented_Generative_Agent_for_Scientific_Research.pdf',\n",
       " 'd:\\\\DataAnalysis\\\\arxiv\\\\downloads\\\\2312.08976v2.Dynamic_Retrieval_Augmented_Generation.pdf',\n",
       " 'd:\\\\DataAnalysis\\\\arxiv\\\\downloads\\\\2312.09948v1.GEAR_Up__Generative_AI_and_External_Knowledge_based_Retrieval_Upgrading_Scholarly_Article_Searches_for_Systematic_Reviews.pdf',\n",
       " 'd:\\\\DataAnalysis\\\\arxiv\\\\downloads\\\\2312.10466v1.RIGHT__Retrieval_augmented_Generation_for_Mainstream_Hashtag_Recommendation.pdf',\n",
       " 'd:\\\\DataAnalysis\\\\arxiv\\\\downloads\\\\2312.10904v2.Dynamic_Retrieval_Augmented_Generation_of_Ontologies_using_Artificial_Intelligence__DRAGON_AI_.pdf',\n",
       " 'd:\\\\DataAnalysis\\\\arxiv\\\\downloads\\\\2312.10997v5.Retrieval_Augmented_Generation_for_Large_Language_Models__A_Survey.pdf',\n",
       " 'd:\\\\DataAnalysis\\\\arxiv\\\\downloads\\\\2312.13303v2.RealGen__Retrieval_Augmented_Generation_for_Controllable_Traffic_Scenarios.pdf',\n",
       " 'd:\\\\DataAnalysis\\\\arxiv\\\\downloads\\\\2312.14211v1.Experimenting_with_Large_Language_Models_and_vector_embeddings_in_NASA_SciX.pdf',\n",
       " 'd:\\\\DataAnalysis\\\\arxiv\\\\downloads\\\\2312.14327v1.Parameter_Efficient_Tuning_Allows_Scalable_Personalization_of_LLMs_for_Text_Entry__A_Case_Study_on_Abbreviation_Expansion.pdf',\n",
       " 'd:\\\\DataAnalysis\\\\arxiv\\\\downloads\\\\2312.14335v2.Context_aware_Decoding_Reduces_Hallucination_in_Query_focused_Summarization.pdf',\n",
       " 'd:\\\\DataAnalysis\\\\arxiv\\\\downloads\\\\2312.15561v5.README__Bridging_Medical_Jargon_and_Lay_Understanding_for_Patient_Education_through_Data_Centric_NLP.pdf',\n",
       " 'd:\\\\DataAnalysis\\\\arxiv\\\\downloads\\\\2312.15883v2.HyKGE__A_Hypothesis_Knowledge_Graph_Enhanced_Framework_for_Accurate_and_Reliable_Medical_LLMs_Responses.pdf',\n",
       " 'd:\\\\DataAnalysis\\\\arxiv\\\\downloads\\\\2312.16262v2.Adaptive_In_Context_Learning_with_Large_Language_Models_for_Bundle_Generation.pdf',\n",
       " 'd:\\\\DataAnalysis\\\\arxiv\\\\downloads\\\\2312.17264v1.ESGReveal__An_LLM_based_approach_for_extracting_structured_data_from_ESG_reports.pdf',\n",
       " 'd:\\\\DataAnalysis\\\\arxiv\\\\downloads\\\\2401.00280v3.Advancing_TTP_Analysis__Harnessing_the_Power_of_Large_Language_Models_with_Retrieval_Augmented_Generation.pdf',\n",
       " 'd:\\\\DataAnalysis\\\\arxiv\\\\downloads\\\\2401.00396v2.RAGTruth__A_Hallucination_Corpus_for_Developing_Trustworthy_Retrieval_Augmented_Language_Models.pdf',\n",
       " 'd:\\\\DataAnalysis\\\\arxiv\\\\downloads\\\\2401.00544v2.A_Reliable_Knowledge_Processing_Framework_for_Combustion_Science_using_Foundation_Models.pdf',\n",
       " 'd:\\\\DataAnalysis\\\\arxiv\\\\downloads\\\\2401.01313v3.A_Comprehensive_Survey_of_Hallucination_Mitigation_Techniques_in_Large_Language_Models.pdf',\n",
       " 'd:\\\\DataAnalysis\\\\arxiv\\\\downloads\\\\2401.01469v1.Question_Answering_Based_Summarization_of_Electronic_Health_Records_using_Retrieval_Augmented_Generation.pdf',\n",
       " 'd:\\\\DataAnalysis\\\\arxiv\\\\downloads\\\\2401.01701v3.De_Hallucinator__Mitigating_LLM_Hallucinations_in_Code_Generation_Tasks_via_Iterative_Grounding.pdf',\n",
       " 'd:\\\\DataAnalysis\\\\arxiv\\\\downloads\\\\2401.01835v1.Concurrent_Brainstorming___Hypothesis_Satisfying__An_Iterative_Framework_for_Enhanced_Retrieval_Augmented_Generation__R2CBR3H_SR_.pdf']"
      ]
     },
     "execution_count": 12,
     "metadata": {},
     "output_type": "execute_result"
    }
   ],
   "source": [
    "chunk"
   ]
  },
  {
   "cell_type": "code",
   "execution_count": null,
   "id": "3ae565f4",
   "metadata": {},
   "outputs": [
    {
     "name": "stdout",
     "output_type": "stream",
     "text": [
      "可用GPU数量: 2\n",
      "GPU 0: NVIDIA GeForce RTX 4090\n",
      "GPU 1: NVIDIA GeForce RTX 4090\n",
      "当前可见的GPU: 0,1\n"
     ]
    }
   ],
   "source": [
    "from concurrent.futures import ProcessPoolExecutor\n",
    "import os\n",
    "\n",
    "def process_pdf(pdf_file_name):\n",
    "    # 你的单文件处理逻辑，和原来 for 循环体一样\n",
    "    # ...\n",
    "    return pdf_file_name\n",
    "\n",
    "if __name__ == \"__main__\":\n",
    "    downloads_dir = os.path.join(os.getcwd(), \"downloads\")\n",
    "    all_files = [os.path.join(downloads_dir, f) for f in os.listdir(downloads_dir) if f.endswith(\".pdf\")]\n",
    "\n",
    "    with ProcessPoolExecutor(max_workers=4) as executor:  # 4个进程，可根据CPU/GPU数量调整\n",
    "        for result in executor.map(process_pdf, all_files):\n",
    "            print(f\"Processed: {result}\")"
   ]
  },
  {
   "cell_type": "code",
   "execution_count": null,
   "id": "5bf15da1",
   "metadata": {},
   "outputs": [],
   "source": []
  },
  {
   "cell_type": "code",
   "execution_count": 4,
   "id": "f20b7b22",
   "metadata": {},
   "outputs": [
    {
     "name": "stderr",
     "output_type": "stream",
     "text": [
      "\u001b[32m2025-05-22 16:00:02.334\u001b[0m | \u001b[1mINFO    \u001b[0m | \u001b[36mmagic_pdf.data.dataset\u001b[0m:\u001b[36m__init__\u001b[0m:\u001b[36m157\u001b[0m - \u001b[1mlang: None\u001b[0m\n"
     ]
    },
    {
     "name": "stdout",
     "output_type": "stream",
     "text": [
      "2002.06187v1.Reusing_Static_Analysis_across_Different_Domain_Specific_Languages_using_Reference_Attribute_Grammars\n"
     ]
    },
    {
     "name": "stderr",
     "output_type": "stream",
     "text": [
      "\u001b[32m2025-05-22 16:00:02.953\u001b[0m | \u001b[1mINFO    \u001b[0m | \u001b[36mmagic_pdf.libs.pdf_check\u001b[0m:\u001b[36mdetect_invalid_chars\u001b[0m:\u001b[36m67\u001b[0m - \u001b[1mcid_count: 0, text_len: 27342, cid_chars_radio: 0.0\u001b[0m\n",
      "\u001b[32m2025-05-22 16:00:08.333\u001b[0m | \u001b[1mINFO    \u001b[0m | \u001b[36mmagic_pdf.model.doc_analyze_by_custom_model\u001b[0m:\u001b[36mmay_batch_image_analyze\u001b[0m:\u001b[36m275\u001b[0m - \u001b[1mgpu_memory: 24 GB, batch_ratio: 16\u001b[0m\n",
      "\u001b[32m2025-05-22 16:00:08.337\u001b[0m | \u001b[1mINFO    \u001b[0m | \u001b[36mmagic_pdf.model.pdf_extract_kit\u001b[0m:\u001b[36m__init__\u001b[0m:\u001b[36m68\u001b[0m - \u001b[1mDocAnalysis init, this may take some times, layout_model: doclayout_yolo, apply_formula: True, apply_ocr: True, apply_table: True, table_model: rapid_table, lang: None\u001b[0m\n",
      "\u001b[32m2025-05-22 16:00:08.338\u001b[0m | \u001b[1mINFO    \u001b[0m | \u001b[36mmagic_pdf.model.pdf_extract_kit\u001b[0m:\u001b[36m__init__\u001b[0m:\u001b[36m82\u001b[0m - \u001b[1musing device: cuda\u001b[0m\n",
      "\u001b[32m2025-05-22 16:00:08.338\u001b[0m | \u001b[1mINFO    \u001b[0m | \u001b[36mmagic_pdf.model.pdf_extract_kit\u001b[0m:\u001b[36m__init__\u001b[0m:\u001b[36m86\u001b[0m - \u001b[1musing models_dir: C:\\Users\\zhuzhanwen\\.cache\\huggingface\\hub\\models--opendatalab--PDF-Extract-Kit-1.0\\snapshots\\95817b4b2321769155f05c8d7e2f5a6b6da9e662/models\u001b[0m\n",
      "\u001b[32m2025-05-22 16:00:21.167\u001b[0m | \u001b[1mINFO    \u001b[0m | \u001b[36mmagic_pdf.model.pdf_extract_kit\u001b[0m:\u001b[36m__init__\u001b[0m:\u001b[36m164\u001b[0m - \u001b[1mDocAnalysis init done!\u001b[0m\n",
      "\u001b[32m2025-05-22 16:00:21.167\u001b[0m | \u001b[1mINFO    \u001b[0m | \u001b[36mmagic_pdf.model.doc_analyze_by_custom_model\u001b[0m:\u001b[36mcustom_model_init\u001b[0m:\u001b[36m116\u001b[0m - \u001b[1mmodel init cost: 12.833540201187134\u001b[0m\n",
      "Layout Predict: 100%|██████████| 36/36 [00:02<00:00, 15.97it/s]\n",
      "MFD Predict: 100%|██████████| 36/36 [00:01<00:00, 22.21it/s]\n",
      "MFR Predict: 100%|██████████| 106/106 [00:00<00:00, 139.56it/s]\n",
      "OCR-det Predict: 100%|██████████| 36/36 [00:06<00:00,  5.89it/s]\n",
      "Table Predict: 100%|██████████| 3/3 [00:00<00:00,  3.13it/s]\n"
     ]
    },
    {
     "name": "stdout",
     "output_type": "stream",
     "text": [
      "TXTmode\n"
     ]
    },
    {
     "name": "stderr",
     "output_type": "stream",
     "text": [
      "Processing pages: 100%|██████████| 36/36 [00:04<00:00,  7.94it/s]\n",
      "OCR-rec Predict: 100%|██████████| 2/2 [00:00<00:00, 108.06it/s]\n"
     ]
    },
    {
     "name": "stdout",
     "output_type": "stream",
     "text": [
      "Dumping\n"
     ]
    }
   ],
   "source": [
    "#for test\n",
    "#Copyright (c) Opendatalab. All rights reserved.\n",
    "import os\n",
    "\n",
    "from magic_pdf.data.data_reader_writer import FileBasedDataWriter, FileBasedDataReader\n",
    "from magic_pdf.data.dataset import PymuDocDataset\n",
    "from magic_pdf.model.doc_analyze_by_custom_model import doc_analyze\n",
    "from magic_pdf.config.enums import SupportedPdfParseMethod\n",
    "\n",
    "# args\n",
    "#__dir__ = os.path.dirname(os.path.abspath(__file__))\n",
    "__dir__ = os.getcwd()\n",
    "\n",
    "\n",
    "# Path to the parsed list file\n",
    "\n",
    "# Get all files in the downloads directory\n",
    "downloads_dir = os.path.join(__dir__, \"PDF\")\n",
    "#downloads_dir = os.path.join(__dir__, \"PDF\")\n",
    "all_files = [os.path.join(downloads_dir, f) for f in os.listdir(downloads_dir) if f.endswith(\".pdf\")]\n",
    "\n",
    "# Process files not in the parsed list\n",
    "for pdf_file_name in all_files:\n",
    "    #try:\n",
    "    name_without_extension = '.'.join(os.path.basename(pdf_file_name).split('.')[0:-1])\n",
    "    print(name_without_extension)\n",
    "\n",
    "    # Prepare environment\n",
    "    local_image_dir = os.path.join(__dir__, \"PDFoutput\", name_without_extension, \"images\")\n",
    "    local_md_dir = os.path.join(__dir__, \"PDFoutput\", name_without_extension)\n",
    "    image_dir = str(os.path.basename(local_image_dir))\n",
    "    os.makedirs(local_image_dir, exist_ok=True)\n",
    "\n",
    "    image_writer, md_writer = FileBasedDataWriter(local_image_dir), FileBasedDataWriter(local_md_dir)\n",
    "\n",
    "    # Read bytes\n",
    "    reader1 = FileBasedDataReader(\"\")\n",
    "    pdf_bytes = reader1.read(pdf_file_name)\n",
    "\n",
    "    # Create Dataset Instance\n",
    "    ds = PymuDocDataset(pdf_bytes)\n",
    "\n",
    "    # Inference\n",
    "    if ds.classify() == SupportedPdfParseMethod.OCR:\n",
    "        infer_result = ds.apply(doc_analyze, ocr=True)\n",
    "        print(\"OCRmode\")\n",
    "        pipe_result = infer_result.pipe_ocr_mode(image_writer)\n",
    "    else:\n",
    "        infer_result = ds.apply(doc_analyze, ocr=False) #class InferenceResult(InferenceResultBase):\n",
    "        print(\"TXTmode\")\n",
    "        pipe_result = infer_result.pipe_txt_mode(image_writer)\n",
    "\n",
    "    # Draw layout and spans results\n",
    "    model_inference_result = infer_result.get_infer_res()\n",
    "    md_content = pipe_result.get_markdown(image_dir)\n",
    "    middle_json_content = pipe_result.get_middle_json()\n",
    "    content_list_content = pipe_result.get_content_list(image_dir)\n",
    "    print(\"Dumping\")\n",
    "    pipe_result.draw_layout(os.path.join(local_md_dir, f\"{name_without_extension}_layout.pdf\"))\n",
    "    pipe_result.draw_span(os.path.join(local_md_dir, f\"{name_without_extension}_spans.pdf\"))\n",
    "    pipe_result.dump_md(md_writer, f\"{name_without_extension}.md\", image_dir)\n",
    "    pipe_result.dump_content_list(md_writer, f\"{name_without_extension}_content_list.json\", image_dir)\n",
    "    pipe_result.dump_middle_json(md_writer, f'{name_without_extension}_middle.json')\n",
    "\n",
    "        # Add the file to the parsed list\n",
    "\n",
    "    #except Exception as e:\n",
    "    #    print(f\"Error processing file {pdf_file_name}: {e}\")\n",
    "\n"
   ]
  },
  {
   "cell_type": "markdown",
   "id": "0a080644",
   "metadata": {},
   "source": []
  },
  {
   "cell_type": "code",
   "execution_count": 51,
   "id": "1b537545",
   "metadata": {
    "vscode": {
     "languageId": "markdown"
    }
   },
   "outputs": [
    {
     "data": {
      "text/plain": [
       "'1610.00402v2'"
      ]
     },
     "execution_count": 51,
     "metadata": {},
     "output_type": "execute_result"
    }
   ],
   "source": [
    "s=\"1610.00402v2.Dynamic_Polygon_Clouds__Representation_and_Compression_for_VR_AR.pdf\"\n",
    "s.split('.')[0:2]\n",
    "result = '.'.join(s.split('.')[0:2])\n",
    "result"
   ]
  }
 ],
 "metadata": {
  "kernelspec": {
   "display_name": "rag",
   "language": "python",
   "name": "python3"
  },
  "language_info": {
   "codemirror_mode": {
    "name": "ipython",
    "version": 3
   },
   "file_extension": ".py",
   "mimetype": "text/x-python",
   "name": "python",
   "nbconvert_exporter": "python",
   "pygments_lexer": "ipython3",
   "version": "3.10.13"
  }
 },
 "nbformat": 4,
 "nbformat_minor": 5
}
